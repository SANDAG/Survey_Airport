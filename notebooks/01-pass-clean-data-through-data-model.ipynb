{
 "cells": [
  {
   "cell_type": "code",
   "execution_count": null,
   "id": "ec81b864",
   "metadata": {},
   "outputs": [],
   "source": [
    "import sys\n",
    "import os\n",
    "import importlib\n",
    "sys.path.insert(0, os.path.abspath(\"../data_model/\"))"
   ]
  },
  {
   "cell_type": "code",
   "execution_count": null,
   "id": "e5320e9e",
   "metadata": {},
   "outputs": [],
   "source": [
    "import pandas as pd\n",
    "import numpy as np\n",
    "from pydantic import ValidationError\n",
    "import data_model\n",
    "import enums as e\n",
    "from utils import extract_base_type, add_enum_label_columns, add_list_objects, add_synthetic_records, map_zones\n",
    "import datetime"
   ]
  },
  {
   "cell_type": "code",
   "execution_count": null,
   "id": "279fd91e",
   "metadata": {},
   "outputs": [],
   "source": [
    "importlib.reload(data_model)\n",
    "importlib.reload(e)\n",
    "from data_model import Respondent, Employee, AirPassenger, Trip, DepartingPassengerResident, DepartingPassengerVisitor, ArrivingPassengerResident, ArrivingPassengerVisitor, DepartingAirPassenger, ArrivingAirPassenger, Resident, Visitor"
   ]
  },
  {
   "cell_type": "code",
   "execution_count": null,
   "id": "e5f03f14",
   "metadata": {},
   "outputs": [],
   "source": [
    "external_dir = \"../data/external\"\n",
    "interim_dir = \"../data/interim\"\n",
    "processed_dir = \"../data/processed\""
   ]
  },
  {
   "cell_type": "code",
   "execution_count": null,
   "id": "6036e316",
   "metadata": {},
   "outputs": [],
   "source": [
    "clean_survey_file = os.path.join(interim_dir, \"survey_data_clean.csv\")\n",
    "output_csv_filename = os.path.join(processed_dir, \"data_model_output.csv\")"
   ]
  },
  {
   "cell_type": "code",
   "execution_count": null,
   "id": "7990abb5",
   "metadata": {},
   "outputs": [],
   "source": [
    "clean_df = pd.read_csv(clean_survey_file)"
   ]
  },
  {
   "cell_type": "markdown",
   "id": "d6c1bd7c",
   "metadata": {},
   "source": [
    "### Select Variables to verify for the survey"
   ]
  },
  {
   "cell_type": "code",
   "execution_count": null,
   "id": "1687bf36",
   "metadata": {},
   "outputs": [],
   "source": [
    "respondent_variables = [field_name for field_name, field_info in Respondent.__fields__.items()]\n",
    "\n",
    "\n",
    "trip_variables = [field_name for field_name, field_info in Trip.__fields__.items()]\n",
    "trip_variables.append('respondentid')\n",
    "#trip_variables.remove('valid_record')\n",
    "trip_variables.remove('validation_error')\n",
    "trip_variables.remove('validation_severity')\n",
    "trip_variables.remove('validation_num_errors')\n",
    "\n",
    "employee_variables = [field_name for field_name, field_info in Employee.__fields__.items()]\n",
    "employee_variables.remove('trip')\n",
    "\n",
    "#air_passenger_variables = [field_name for field_name, field_info in AirPassenger.__fields__.items()]\n",
    "#air_passenger_variables.remove('trip')\n",
    "\n",
    "air_passenger_departing_resident_variables = [field_name for field_name, field_info in DepartingPassengerResident.__fields__.items()] \n",
    "air_passenger_departing_visitor_variables = [field_name for field_name, field_info in DepartingPassengerVisitor.__fields__.items()]\n",
    "air_passenger_arriving_resident_variables = [field_name for field_name, field_info in ArrivingPassengerResident.__fields__.items()]\n",
    "air_passenger_arriving_visitor_variables = [field_name for field_name, field_info in ArrivingPassengerVisitor.__fields__.items()]\n",
    "air_passenger_variables = list(set(air_passenger_departing_resident_variables + air_passenger_departing_visitor_variables + air_passenger_arriving_resident_variables +air_passenger_arriving_visitor_variables))\n",
    "\n",
    "variables_to_verify = list(set(air_passenger_variables + respondent_variables + trip_variables + employee_variables))\n",
    "variables_to_verify.remove('trip')\n",
    "#variables_to_verify.remove('valid_record')\n",
    "variables_to_verify.remove('validation_error')\n",
    "variables_to_verify.remove('validation_severity')\n",
    "variables_to_verify.remove('validation_num_errors')\n",
    "\n",
    "working_df = clean_df.copy()\n",
    "working_df = working_df[variables_to_verify].copy()\n",
    "working_df = working_df.loc[working_df['marketsegment'].notna()].copy()"
   ]
  },
  {
   "cell_type": "code",
   "execution_count": null,
   "id": "d8a64947",
   "metadata": {},
   "outputs": [],
   "source": [
    "working_df.shape"
   ]
  },
  {
   "cell_type": "markdown",
   "id": "b78efa17",
   "metadata": {},
   "source": [
    "### Serialize the data"
   ]
  },
  {
   "cell_type": "code",
   "execution_count": null,
   "id": "c57114d4",
   "metadata": {},
   "outputs": [],
   "source": [
    "trips_df = working_df[trip_variables].copy()\n",
    "persons_df = working_df[list[set(employee_variables + respondent_variables + air_passenger_variables)]].copy()"
   ]
  },
  {
   "cell_type": "code",
   "execution_count": null,
   "id": "c894baa4",
   "metadata": {},
   "outputs": [],
   "source": [
    "# combined\n",
    "respondent_list = add_list_objects(\n",
    "        trips_df.to_dict(orient=\"records\"),  #child list\n",
    "        \"respondentid\", # child key\n",
    "        persons_df.to_dict(orient=\"records\"), # parent list\n",
    "        \"respondentid\", # parent key\n",
    "        \"trip\", # parent var\n",
    "    )"
   ]
  },
  {
   "cell_type": "code",
   "execution_count": null,
   "id": "5244bbb4",
   "metadata": {},
   "outputs": [],
   "source": [
    "len(respondent_list)"
   ]
  },
  {
   "cell_type": "code",
   "execution_count": null,
   "id": "55d7a052",
   "metadata": {},
   "outputs": [],
   "source": [
    "employee_list = []\n",
    "arriving_air_passenger_resident_list = []\n",
    "arriving_air_passenger_visitor_list = []\n",
    "departing_air_passenger_resident_list = []\n",
    "departing_air_passenger_visitor_list = []\n",
    "other_list = []\n",
    "failed_records = []\n",
    "\n",
    "for respondent in respondent_list:\n",
    "     market_segment = respondent[\"marketsegment\"]\n",
    "     try:\n",
    "        if market_segment == e.Type.EMPLOYEE:\n",
    "            ev = Employee(** respondent)\n",
    "            employee_list.append(ev)\n",
    "        elif market_segment == e.Type.PASSENGER:\n",
    "             passenger_segment= respondent[\"passenger_segment\"]\n",
    "             if passenger_segment == e.PassengerSegment.RESIDENT_ARRIVING:\n",
    "                    apr = ArrivingPassengerResident(** respondent)\n",
    "                    arriving_air_passenger_resident_list.append(apr)\n",
    "             elif passenger_segment == e.PassengerSegment.VISITOR_ARRIVING:\n",
    "                    apv = ArrivingPassengerVisitor(** respondent)\n",
    "                    arriving_air_passenger_visitor_list.append(apv)\n",
    "             elif passenger_segment == e.PassengerSegment.RESIDENT_DEPARTING:\n",
    "                    dpr = DepartingPassengerResident(** respondent)\n",
    "                    departing_air_passenger_resident_list.append(dpr)\n",
    "             elif passenger_segment == e.PassengerSegment.VISITOR_DEPARTING:\n",
    "                    dpv = DepartingPassengerVisitor(** respondent)\n",
    "                    departing_air_passenger_visitor_list.append(dpv)\n",
    "             else:\n",
    "                    rv = Respondent(** respondent)\n",
    "                    other_list.append(rv)\n",
    "\n",
    "        else:\n",
    "            rv = Respondent(** respondent)\n",
    "            other_list.append(rv)\n",
    "            \n",
    "     except ValidationError as err:\n",
    "            respondent['error_flag'] = 'failed'\n",
    "            respondent['error_message'] = str(err)\n",
    "            failed_records.append(respondent) \n",
    "\n",
    "\n",
    "failed_df = pd.DataFrame(failed_records)\n",
    "failed_df.head()"
   ]
  },
  {
   "cell_type": "code",
   "execution_count": null,
   "id": "7c01918f",
   "metadata": {},
   "outputs": [],
   "source": [
    "failed_df.shape"
   ]
  },
  {
   "cell_type": "code",
   "execution_count": null,
   "id": "f8361d99",
   "metadata": {},
   "outputs": [],
   "source": [
    "#failed_df['error_message'].unique()"
   ]
  },
  {
   "cell_type": "code",
   "execution_count": null,
   "id": "460c81fa",
   "metadata": {},
   "outputs": [],
   "source": [
    "#failed_df['is_completed'].value_counts()"
   ]
  },
  {
   "cell_type": "code",
   "execution_count": null,
   "id": "7a411dc9",
   "metadata": {},
   "outputs": [],
   "source": [
    "#failed_df['error_message'][0]"
   ]
  },
  {
   "cell_type": "code",
   "execution_count": null,
   "id": "deefdf33",
   "metadata": {},
   "outputs": [],
   "source": [
    "failed_df.to_csv('../data/processed/failed_records.csv', index = False)"
   ]
  },
  {
   "cell_type": "code",
   "execution_count": null,
   "id": "8b808fbb",
   "metadata": {},
   "outputs": [],
   "source": [
    "len(failed_df)"
   ]
  },
  {
   "cell_type": "code",
   "execution_count": null,
   "id": "7452e547",
   "metadata": {},
   "outputs": [],
   "source": [
    "print(\"Arriving Air Passengers Residents:\", len(arriving_air_passenger_resident_list))\n",
    "print(\"Arriving Air Passengers Visitors:\", len(arriving_air_passenger_visitor_list))\n",
    "print(\"Departing Air Passengers Residents:\", len(departing_air_passenger_resident_list))\n",
    "print(\"Departing Air Passengers Visitors:\", len(departing_air_passenger_visitor_list))\n",
    "print(\"Total Air Passengers:\", len(arriving_air_passenger_resident_list) + len(arriving_air_passenger_visitor_list) + len(departing_air_passenger_resident_list) + len(departing_air_passenger_visitor_list))"
   ]
  },
  {
   "cell_type": "markdown",
   "id": "07da5815",
   "metadata": {},
   "source": [
    "### Make Data"
   ]
  },
  {
   "cell_type": "code",
   "execution_count": null,
   "id": "487a7e13",
   "metadata": {},
   "outputs": [],
   "source": [
    "employee_df = pd.DataFrame([Employee.model_dump() for Employee in employee_list])       "
   ]
  },
  {
   "cell_type": "code",
   "execution_count": null,
   "id": "4e24ae86",
   "metadata": {},
   "outputs": [],
   "source": [
    "#passenger_df = pd.DataFrame([AirPassenger.model_dump() for AirPassenger in air_passenger_list])"
   ]
  },
  {
   "cell_type": "code",
   "execution_count": null,
   "id": "4ebc70fb",
   "metadata": {},
   "outputs": [],
   "source": [
    "arriving_passenger_resident_df = pd.DataFrame([ArrivingPassengerResident.model_dump() for ArrivingPassengerResident in arriving_air_passenger_resident_list])\n",
    "arriving_passenger_visitor_df = pd.DataFrame([ArrivingPassengerVisitor.model_dump() for ArrivingPassengerVisitor in arriving_air_passenger_visitor_list])\n",
    "departing_passenger_resident_df = pd.DataFrame([DepartingPassengerResident.model_dump() for DepartingPassengerResident in departing_air_passenger_resident_list])\n",
    "departing_passenger_visitor_df = pd.DataFrame([DepartingPassengerVisitor.model_dump() for DepartingPassengerVisitor in departing_air_passenger_visitor_list])"
   ]
  },
  {
   "cell_type": "code",
   "execution_count": null,
   "id": "ac26e8b5",
   "metadata": {},
   "outputs": [],
   "source": [
    "other_df = pd.DataFrame([Respondent.model_dump() for Respondent in other_list])\n",
    "# other_df = add_enum_label_columns(other_df, Respondent)"
   ]
  },
  {
   "cell_type": "code",
   "execution_count": null,
   "id": "985ba337",
   "metadata": {},
   "outputs": [],
   "source": [
    "len(other_list)"
   ]
  },
  {
   "cell_type": "code",
   "execution_count": null,
   "id": "791e398f",
   "metadata": {},
   "outputs": [],
   "source": [
    "trip_list = []\n",
    "id_list = []\n",
    "for record in employee_list + arriving_air_passenger_resident_list + arriving_air_passenger_visitor_list + departing_air_passenger_resident_list + departing_air_passenger_visitor_list  + other_list:\n",
    "    trip_list.append(record.trip)\n",
    "    id_list.append(record.respondentid)\n",
    "\n",
    "trip_df = pd.DataFrame([Trip.model_dump() for Trip in trip_list])\n",
    "id_df = pd.DataFrame(id_list, columns=[\"respondentid\"])\n",
    "\n",
    "trip_df = pd.concat([id_df, trip_df], axis=1)\n",
    "trip_df = add_enum_label_columns(trip_df,Trip)\n"
   ]
  },
  {
   "cell_type": "code",
   "execution_count": null,
   "id": "f1647271",
   "metadata": {},
   "outputs": [],
   "source": [
    "output_df = pd.concat([employee_df, arriving_passenger_resident_df, arriving_passenger_visitor_df, departing_passenger_resident_df, departing_passenger_visitor_df , other_df], axis=0).reset_index(drop=True).drop(columns=[\"trip\"])\n",
    "output_df = pd.merge(output_df, trip_df, on=\"respondentid\", how=\"left\", suffixes = ('_person', '_trip'))"
   ]
  },
  {
   "cell_type": "code",
   "execution_count": null,
   "id": "345bf6f9",
   "metadata": {},
   "outputs": [],
   "source": [
    "output_df.shape"
   ]
  },
  {
   "cell_type": "code",
   "execution_count": null,
   "id": "56e0902e",
   "metadata": {},
   "outputs": [],
   "source": [
    "#Consolidated validation check field\n",
    "output_df['is_valid_record'] = (output_df['initial_etc_check'] == True) & (output_df['validation_severity_person']!='Critical') & (output_df['validation_severity_trip'] != 'Critical')"
   ]
  },
  {
   "cell_type": "code",
   "execution_count": null,
   "id": "35c71982",
   "metadata": {},
   "outputs": [],
   "source": [
    "output_df = add_synthetic_records(output_df)"
   ]
  },
  {
   "cell_type": "code",
   "execution_count": null,
   "id": "8a802d74",
   "metadata": {},
   "outputs": [],
   "source": [
    "output_df.head()"
   ]
  },
  {
   "cell_type": "code",
   "execution_count": null,
   "id": "6d18f039",
   "metadata": {},
   "outputs": [],
   "source": [
    "output_df =  add_enum_label_columns(output_df, Respondent)\n",
    "\n",
    "output_df = add_enum_label_columns(output_df, AirPassenger)\n",
    "output_df = add_enum_label_columns(output_df, DepartingAirPassenger)\n",
    "output_df =  add_enum_label_columns(output_df, ArrivingAirPassenger)\n",
    "output_df =  add_enum_label_columns(output_df, Resident)\n",
    "output_df =  add_enum_label_columns(output_df, Visitor)\n",
    "\n",
    "output_df = add_enum_label_columns(output_df, DepartingPassengerResident)\n",
    "output_df =  add_enum_label_columns(output_df, ArrivingPassengerResident)\n",
    "\n",
    "output_df = add_enum_label_columns(output_df, DepartingPassengerVisitor)\n",
    "output_df =  add_enum_label_columns(output_df, ArrivingPassengerVisitor)\n",
    "\n",
    "output_df =  add_enum_label_columns(output_df, Trip)\n",
    "output_df =  add_enum_label_columns(output_df, Employee)"
   ]
  },
  {
   "cell_type": "code",
   "execution_count": null,
   "id": "93f30215",
   "metadata": {},
   "outputs": [],
   "source": [
    "# Define the list of important columns\n",
    "important_columns = ['respondentid', 'is_completed', 'is_valid_record', 'date_completed','time_completed', 'is_pilot', 'is_self_administered', 'record_type_synthetic']\n",
    "\n",
    "# Separate important columns and the rest of the columns\n",
    "remaining_columns = [col for col in output_df.columns if col not in important_columns]\n",
    "\n",
    "# Create the new column order\n",
    "new_column_order = important_columns + sorted(remaining_columns)\n",
    "\n",
    "# Reorder the DataFrame\n",
    "output_df = output_df[new_column_order]"
   ]
  },
  {
   "cell_type": "code",
   "execution_count": null,
   "id": "13e0d13e",
   "metadata": {},
   "outputs": [],
   "source": [
    "output_df.index = output_df.index + 1\n",
    "output_df.to_csv(output_csv_filename, index_label = 'unique_id')"
   ]
  }
 ],
 "metadata": {
  "kernelspec": {
   "display_name": "Python 3",
   "language": "python",
   "name": "python3"
  },
  "language_info": {
   "codemirror_mode": {
    "name": "ipython",
    "version": 3
   },
   "file_extension": ".py",
   "mimetype": "text/x-python",
   "name": "python",
   "nbconvert_exporter": "python",
   "pygments_lexer": "ipython3",
   "version": "3.12.4"
  }
 },
 "nbformat": 4,
 "nbformat_minor": 5
}
