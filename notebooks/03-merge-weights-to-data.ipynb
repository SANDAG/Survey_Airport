{
 "cells": [
  {
   "cell_type": "code",
   "execution_count": null,
   "metadata": {},
   "outputs": [],
   "source": [
    "import pandas as pd"
   ]
  },
  {
   "cell_type": "code",
   "execution_count": null,
   "metadata": {},
   "outputs": [],
   "source": [
    "data_model_output = pd.read_csv('../data/processed/data_model_output.csv')\n",
    "weights_departing_and_arriving = pd.read_csv('../data/interim/survey_weights_only_departing_and_arriving.csv')\n",
    "weights_departing_only = pd.read_csv('../data/interim/survey_weights_only_departing_only.csv')\n",
    "weights_non_sas_departing_only = pd.read_csv('../data/interim/survey_weights_only_departing_non_sas_only.csv')\n",
    "weights_departing_only_with_time_of_day = pd.read_csv('../data/interim/survey_weights_only_departing_only_with_time_of_day.csv')"
   ]
  },
  {
   "cell_type": "code",
   "execution_count": null,
   "metadata": {},
   "outputs": [],
   "source": [
    "# Drop the original weight column\n",
    "data_model_output = data_model_output.drop(columns=['weight'], errors='ignore')\n",
    "\n",
    "# Merge weights into the main dataset\n",
    "data_model_output = data_model_output.merge(\n",
    "    weights_departing_and_arriving[['unique_id', 'weight']], \n",
    "    on='unique_id', how='left'\n",
    ").rename(columns={'weight': 'weight_departing_and_arriving'})\n",
    "\n",
    "data_model_output = data_model_output.merge(\n",
    "    weights_departing_only[['unique_id', 'weight']], \n",
    "    on='unique_id', how='left'\n",
    ").rename(columns={'weight': 'weight_departing_only'})\n",
    "\n",
    "data_model_output = data_model_output.merge(\n",
    "    weights_non_sas_departing_only[['unique_id', 'weight']], \n",
    "    on='unique_id', how='left'\n",
    ").rename(columns={'weight': 'weight_non_sas_departing_only'})\n",
    "\n",
    "data_model_output = data_model_output.merge(\n",
    "    weights_departing_only_with_time_of_day[['unique_id', 'weight']], \n",
    "    on='unique_id', how='left'\n",
    ").rename(columns={'weight': 'weight_departing_only_with_time_of_day'})"
   ]
  },
  {
   "cell_type": "code",
   "execution_count": null,
   "metadata": {},
   "outputs": [],
   "source": [
    "data_model_output.head()"
   ]
  },
  {
   "cell_type": "code",
   "execution_count": null,
   "metadata": {},
   "outputs": [],
   "source": [
    "data_model_output.to_csv('../data/processed/data_model_output.csv', index=False)"
   ]
  }
 ],
 "metadata": {
  "kernelspec": {
   "display_name": "Python 3",
   "language": "python",
   "name": "python3"
  },
  "language_info": {
   "codemirror_mode": {
    "name": "ipython",
    "version": 3
   },
   "file_extension": ".py",
   "mimetype": "text/x-python",
   "name": "python",
   "nbconvert_exporter": "python",
   "pygments_lexer": "ipython3",
   "version": "3.12.4"
  }
 },
 "nbformat": 4,
 "nbformat_minor": 2
}
