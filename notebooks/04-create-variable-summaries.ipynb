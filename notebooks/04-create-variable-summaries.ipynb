{
 "cells": [
  {
   "cell_type": "code",
   "execution_count": null,
   "metadata": {},
   "outputs": [],
   "source": [
    "import sys\n",
    "import os\n",
    "import importlib\n",
    "import pandas as pd\n",
    "import numpy as np\n",
    "sys.path.insert(0, os.path.abspath(\"../data_model/\"))"
   ]
  },
  {
   "cell_type": "code",
   "execution_count": null,
   "metadata": {},
   "outputs": [],
   "source": [
    "processed_dir = \"../data/processed\"\n",
    "reports_dir = \"../reports\"\n",
    "data_model_output_file = os.path.join(processed_dir, \"data_model_output.csv\")\n",
    "\n",
    "summary_document = os.path.join(reports_dir, \"variable_summary_for_appendix.docx\")"
   ]
  },
  {
   "cell_type": "code",
   "execution_count": null,
   "metadata": {},
   "outputs": [],
   "source": [
    "data_model_output_df = pd.read_csv(data_model_output_file)\n",
    "data_model_output_df = data_model_output_df[data_model_output_df['is_valid_record']==True]\n",
    "data_model_output_df.shape"
   ]
  },
  {
   "cell_type": "code",
   "execution_count": null,
   "metadata": {},
   "outputs": [],
   "source": [
    "data_model_output_df.head()"
   ]
  },
  {
   "cell_type": "code",
   "execution_count": null,
   "metadata": {},
   "outputs": [],
   "source": [
    "def create_summary_table(df, col, weight_col=None):\n",
    "    \"\"\"\n",
    "    Create a summary table with value counts, percentages, weighted percentages, \n",
    "    and cumulative percentages for a specified column.\n",
    "\n",
    "    Parameters:\n",
    "        df (pd.DataFrame): Input dataframe.\n",
    "        col (str): Column to analyze.\n",
    "        weight_col (str, optional): Column containing weights. Defaults to None.\n",
    "\n",
    "    Returns:\n",
    "        pd.DataFrame: A summary table with value counts, percentages, weighted percentages, \n",
    "                      and cumulative percentages.\n",
    "    \"\"\"\n",
    "    # Calculate value counts and percentages\n",
    "    value_counts = df[col].value_counts()\n",
    "    percentages = df[col].value_counts(normalize=True) * 100\n",
    "\n",
    "    # Sort by value counts\n",
    "    sorted_value_counts = value_counts.sort_values(ascending=False)\n",
    "    sorted_percentages = percentages.loc[sorted_value_counts.index]\n",
    "\n",
    "    # Calculate weighted percentages if weight_col is provided\n",
    "    if weight_col:\n",
    "        weights = df.groupby(col)[weight_col].sum()\n",
    "        sorted_weights = weights.loc[sorted_value_counts.index]\n",
    "        weighted_percentages = (sorted_weights / sorted_weights.sum()) * 100\n",
    "    else:\n",
    "        weighted_percentages = pd.Series([None] * len(sorted_value_counts), index=sorted_value_counts.index)\n",
    "\n",
    "    # Calculate cumulative percentage\n",
    "    cumulative_percentages = sorted_percentages.cumsum()\n",
    "\n",
    "    # Combine into a summary table\n",
    "    output_df = pd.DataFrame({\n",
    "        'Number of Respondents': sorted_value_counts,\n",
    "        'Percentage(%)': round(sorted_percentages, 2),\n",
    "        'Weighted Percentage(%)': round(weighted_percentages, 2),\n",
    "        'Cumulative Percentage(%)': round(cumulative_percentages,2)\n",
    "    }).reset_index().rename(columns={col: 'Response'})\n",
    "\n",
    "    return output_df"
   ]
  },
  {
   "cell_type": "code",
   "execution_count": null,
   "metadata": {},
   "outputs": [],
   "source": [
    "data_model_output_df['access_mode_label'].value_counts(normalize = True)"
   ]
  },
  {
   "cell_type": "code",
   "execution_count": null,
   "metadata": {},
   "outputs": [],
   "source": [
    "summary_df = create_summary_table(data_model_output_df, 'marketsegment_label', 'weight_departing_only')\n",
    "summary_df"
   ]
  },
  {
   "cell_type": "code",
   "execution_count": null,
   "metadata": {},
   "outputs": [],
   "source": [
    "data_model_output_df['passenger_type_label'].value_counts()"
   ]
  },
  {
   "cell_type": "code",
   "execution_count": null,
   "metadata": {},
   "outputs": [],
   "source": [
    "from docx import Document\n",
    "\n",
    "def generate_summary_document(df, weight_col=None, segment_cols=None, output_file='summary_tables.docx'):\n",
    "    \"\"\"\n",
    "    Generate a Word document with summary tables for all columns in a dataframe,\n",
    "    optionally grouped by a concatenated custom segmentation column.\n",
    "    \n",
    "    Parameters:\n",
    "        df (pd.DataFrame): Input dataframe.\n",
    "        weight_col (str, optional): Column containing weights. Defaults to None.\n",
    "        segment_cols (list of str, optional): Columns to segment by. Defaults to None.\n",
    "        output_file (str): Path to save the generated Word document.\n",
    "    \"\"\"\n",
    "    doc = Document()\n",
    "\n",
    "    # Initial summary of segment columns\n",
    "    if segment_cols:\n",
    "        doc.add_heading(\"Segment Columns Summary\", level=1)\n",
    "        for col in segment_cols:\n",
    "            doc.add_heading(f\"{col}\", level=2)\n",
    "            summary = df[col].value_counts(dropna=False).reset_index()\n",
    "            summary.columns = [col, \"Count\"]\n",
    "            \n",
    "            table = doc.add_table(rows=1, cols=2)\n",
    "            table.style = 'Table Grid'\n",
    "            table.cell(0, 0).text = col\n",
    "            table.cell(0, 1).text = \"Count\"\n",
    "            for _, row in summary.iterrows():\n",
    "                cells = table.add_row().cells\n",
    "                cells[0].text = str(row[col])\n",
    "                cells[1].text = str(row[\"Count\"])\n",
    "            doc.add_paragraph()\n",
    "\n",
    "    # Create custom segmentation column\n",
    "    if segment_cols:\n",
    "        df['custom_segmentation'] = df[segment_cols].astype(str).agg(\" | \".join, axis=1)\n",
    "        segments = df['custom_segmentation'].unique()\n",
    "    else:\n",
    "        df['custom_segmentation'] = 'All Data'\n",
    "        segments = ['All Data']\n",
    "\n",
    "    # Filter columns ending with '_label' and exclude segment columns\n",
    "    label_columns = [col for col in df.columns if col.endswith('_label') and col not in (segment_cols or [])]\n",
    "\n",
    "    # Iterate through each unique segment\n",
    "    for segment in segments:\n",
    "        subset_df = df[df['custom_segmentation'] == segment]\n",
    "\n",
    "        doc.add_heading(f\"Segment: {segment}\", level=1)\n",
    "\n",
    "        for col in label_columns:\n",
    "            summary_table = create_summary_table(subset_df, col, weight_col)\n",
    "\n",
    "            # Skip if summary is empty\n",
    "            if summary_table.empty:\n",
    "                continue\n",
    "\n",
    "            doc.add_heading(f'{col.replace(\"_label\", \"\")}', level=2)\n",
    "\n",
    "            table = doc.add_table(rows=1, cols=summary_table.shape[1])\n",
    "            table.style = 'Table Grid'\n",
    "\n",
    "            for i, column_name in enumerate(summary_table.columns):\n",
    "                table.cell(0, i).text = column_name\n",
    "\n",
    "            for _, row in summary_table.iterrows():\n",
    "                cells = table.add_row().cells\n",
    "                for i, value in enumerate(row):\n",
    "                    cells[i].text = str(value)\n",
    "\n",
    "            doc.add_paragraph()\n",
    "\n",
    "    # Save the document\n",
    "    doc.save(output_file)\n",
    "    print(f\"Word document saved as {output_file}\")\n"
   ]
  },
  {
   "cell_type": "code",
   "execution_count": null,
   "metadata": {},
   "outputs": [],
   "source": [
    "generate_summary_document(data_model_output_df, weight_col='weight_departing_and_arriving', segment_cols=['marketsegment_label', 'passenger_type_label'], output_file = summary_document)"
   ]
  }
 ],
 "metadata": {
  "kernelspec": {
   "display_name": "Python 3",
   "language": "python",
   "name": "python3"
  },
  "language_info": {
   "codemirror_mode": {
    "name": "ipython",
    "version": 3
   },
   "file_extension": ".py",
   "mimetype": "text/x-python",
   "name": "python",
   "nbconvert_exporter": "python",
   "pygments_lexer": "ipython3",
   "version": "3.12.4"
  }
 },
 "nbformat": 4,
 "nbformat_minor": 2
}
