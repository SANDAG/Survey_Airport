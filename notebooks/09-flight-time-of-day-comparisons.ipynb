{
 "cells": [
  {
   "cell_type": "code",
   "execution_count": 222,
   "metadata": {},
   "outputs": [],
   "source": [
    "import sys\n",
    "import os\n",
    "import pandas as pd\n",
    "import numpy as np\n",
    "sys.path.insert(0, os.path.abspath(\"../data_model/\"))"
   ]
  },
  {
   "cell_type": "code",
   "execution_count": 223,
   "metadata": {},
   "outputs": [],
   "source": [
    "import enums as e"
   ]
  },
  {
   "cell_type": "markdown",
   "metadata": {},
   "source": [
    "### Remote I/O"
   ]
  },
  {
   "cell_type": "code",
   "execution_count": 224,
   "metadata": {},
   "outputs": [],
   "source": [
    "processed_dir = \"../data/processed\"\n",
    "interim_dir = \"../data/interim\"\n",
    "external_dir = \"../data/external\"\n",
    "\n",
    "survey_data_input_file = os.path.join(processed_dir, \"data_model_output.csv\")\n",
    "sdia_arrivals_input_file = os.path.join(external_dir, \"sdia\", \"san-daily-arrivals-sept-and-oct-2024-as-csv.csv\")\n",
    "sdia_departures_input_file = os.path.join(external_dir, \"sdia\", \"san-daily-departures-sept-and-oct-2024-as-csv.csv\")\n",
    "\n",
    "output_file = os.path.join(interim_dir, \"compare-flight-time-of-day.csv\")"
   ]
  },
  {
   "cell_type": "markdown",
   "metadata": {},
   "source": [
    "### Data Reads"
   ]
  },
  {
   "cell_type": "code",
   "execution_count": 225,
   "metadata": {},
   "outputs": [
    {
     "name": "stderr",
     "output_type": "stream",
     "text": [
      "/var/folders/qp/sq840hxs1rs_wtmckrby_mkw0000gn/T/ipykernel_78725/1798047874.py:1: DtypeWarning: Columns (1,8,19,20,21,22,23,24,25,26,27,29,30,31,32,33,34,35,36,37,38,40,41,47,52,58,63,67,69,71,73,77,84,86,95,96,97,98,99,100,101,102,103,104,105,106,107,108,109,110,111,112,113,114,115,116,117,118,119,120,122,136,137,140,141,149,151,157,159,161,173,177,186,187,190,193,197,212,214,215,216,217,218,219,220,221,222,223,246,253,254,258,259,261,262,280,298,300,301,303,319,321,343) have mixed types. Specify dtype option on import or set low_memory=False.\n",
      "  survey_df = pd.read_csv(survey_data_input_file)\n"
     ]
    }
   ],
   "source": [
    "survey_df = pd.read_csv(survey_data_input_file)\n",
    "arrivals_df = pd.read_csv(sdia_arrivals_input_file)\n",
    "departures_df = pd.read_csv(sdia_departures_input_file)"
   ]
  },
  {
   "cell_type": "markdown",
   "metadata": {},
   "source": [
    "### Reductions"
   ]
  },
  {
   "cell_type": "code",
   "execution_count": 226,
   "metadata": {},
   "outputs": [
    {
     "data": {
      "application/vnd.microsoft.datawrangler.viewer.v0+json": {
       "columns": [
        {
         "name": "index",
         "rawType": "int64",
         "type": "integer"
        },
        {
         "name": "Date",
         "rawType": "object",
         "type": "string"
        },
        {
         "name": "Mkt Al",
         "rawType": "object",
         "type": "string"
        },
        {
         "name": "Alliance",
         "rawType": "object",
         "type": "string"
        },
        {
         "name": "Op Al",
         "rawType": "object",
         "type": "string"
        },
        {
         "name": "Orig",
         "rawType": "object",
         "type": "string"
        },
        {
         "name": "Dest",
         "rawType": "object",
         "type": "string"
        },
        {
         "name": "Miles",
         "rawType": "object",
         "type": "string"
        },
        {
         "name": "Flight",
         "rawType": "int64",
         "type": "integer"
        },
        {
         "name": "Stops",
         "rawType": "int64",
         "type": "integer"
        },
        {
         "name": "Equip",
         "rawType": "object",
         "type": "string"
        },
        {
         "name": "Seats",
         "rawType": "int64",
         "type": "integer"
        },
        {
         "name": "Dep Term",
         "rawType": "object",
         "type": "unknown"
        },
        {
         "name": "Arr Term",
         "rawType": "int64",
         "type": "integer"
        },
        {
         "name": "Dep Time",
         "rawType": "int64",
         "type": "integer"
        },
        {
         "name": "Arr Time",
         "rawType": "int64",
         "type": "integer"
        },
        {
         "name": "Block Mins",
         "rawType": "int64",
         "type": "integer"
        },
        {
         "name": "Arr Flag",
         "rawType": "int64",
         "type": "integer"
        },
        {
         "name": "Orig WAC",
         "rawType": "int64",
         "type": "integer"
        },
        {
         "name": "Dest WAC",
         "rawType": "int64",
         "type": "integer"
        }
       ],
       "conversionMethod": "pd.DataFrame",
       "ref": "b072eb8b-3237-4f5a-834a-2f7d4dbd43a1",
       "rows": [
        [
         "0",
         "Sep 30, 2024",
         "AA",
         "oneworld",
         "AA",
         "CLT",
         "SAN",
         "2,077",
         "2032",
         "0",
         "321",
         "190",
         null,
         "2",
         "714",
         "902",
         "288",
         "0",
         "36",
         "91"
        ],
        [
         "1",
         "Sep 30, 2024",
         "AA",
         "oneworld",
         "AA",
         "CLT",
         "SAN",
         "2,077",
         "1954",
         "0",
         "321",
         "190",
         null,
         "2",
         "855",
         "1043",
         "288",
         "0",
         "36",
         "91"
        ],
        [
         "2",
         "Sep 30, 2024",
         "AA",
         "oneworld",
         "AA",
         "CLT",
         "SAN",
         "2,077",
         "2059",
         "0",
         "321",
         "190",
         null,
         "2",
         "1131",
         "1336",
         "305",
         "0",
         "36",
         "91"
        ],
        [
         "3",
         "Sep 30, 2024",
         "AA",
         "oneworld",
         "AA",
         "CLT",
         "SAN",
         "2,077",
         "1740",
         "0",
         "321",
         "190",
         null,
         "2",
         "1644",
         "1843",
         "299",
         "0",
         "36",
         "91"
        ],
        [
         "4",
         "Sep 30, 2024",
         "AA",
         "oneworld",
         "AA",
         "DFW",
         "SAN",
         "1,171",
         "2991",
         "0",
         "32Q",
         "196",
         null,
         "2",
         "720",
         "824",
         "184",
         "0",
         "74",
         "91"
        ]
       ],
       "shape": {
        "columns": 19,
        "rows": 5
       }
      },
      "text/html": [
       "<div>\n",
       "<style scoped>\n",
       "    .dataframe tbody tr th:only-of-type {\n",
       "        vertical-align: middle;\n",
       "    }\n",
       "\n",
       "    .dataframe tbody tr th {\n",
       "        vertical-align: top;\n",
       "    }\n",
       "\n",
       "    .dataframe thead th {\n",
       "        text-align: right;\n",
       "    }\n",
       "</style>\n",
       "<table border=\"1\" class=\"dataframe\">\n",
       "  <thead>\n",
       "    <tr style=\"text-align: right;\">\n",
       "      <th></th>\n",
       "      <th>Date</th>\n",
       "      <th>Mkt Al</th>\n",
       "      <th>Alliance</th>\n",
       "      <th>Op Al</th>\n",
       "      <th>Orig</th>\n",
       "      <th>Dest</th>\n",
       "      <th>Miles</th>\n",
       "      <th>Flight</th>\n",
       "      <th>Stops</th>\n",
       "      <th>Equip</th>\n",
       "      <th>Seats</th>\n",
       "      <th>Dep Term</th>\n",
       "      <th>Arr Term</th>\n",
       "      <th>Dep Time</th>\n",
       "      <th>Arr Time</th>\n",
       "      <th>Block Mins</th>\n",
       "      <th>Arr Flag</th>\n",
       "      <th>Orig WAC</th>\n",
       "      <th>Dest WAC</th>\n",
       "    </tr>\n",
       "  </thead>\n",
       "  <tbody>\n",
       "    <tr>\n",
       "      <th>0</th>\n",
       "      <td>Sep 30, 2024</td>\n",
       "      <td>AA</td>\n",
       "      <td>oneworld</td>\n",
       "      <td>AA</td>\n",
       "      <td>CLT</td>\n",
       "      <td>SAN</td>\n",
       "      <td>2,077</td>\n",
       "      <td>2032</td>\n",
       "      <td>0</td>\n",
       "      <td>321</td>\n",
       "      <td>190</td>\n",
       "      <td>NaN</td>\n",
       "      <td>2</td>\n",
       "      <td>714</td>\n",
       "      <td>902</td>\n",
       "      <td>288</td>\n",
       "      <td>0</td>\n",
       "      <td>36</td>\n",
       "      <td>91</td>\n",
       "    </tr>\n",
       "    <tr>\n",
       "      <th>1</th>\n",
       "      <td>Sep 30, 2024</td>\n",
       "      <td>AA</td>\n",
       "      <td>oneworld</td>\n",
       "      <td>AA</td>\n",
       "      <td>CLT</td>\n",
       "      <td>SAN</td>\n",
       "      <td>2,077</td>\n",
       "      <td>1954</td>\n",
       "      <td>0</td>\n",
       "      <td>321</td>\n",
       "      <td>190</td>\n",
       "      <td>NaN</td>\n",
       "      <td>2</td>\n",
       "      <td>855</td>\n",
       "      <td>1043</td>\n",
       "      <td>288</td>\n",
       "      <td>0</td>\n",
       "      <td>36</td>\n",
       "      <td>91</td>\n",
       "    </tr>\n",
       "    <tr>\n",
       "      <th>2</th>\n",
       "      <td>Sep 30, 2024</td>\n",
       "      <td>AA</td>\n",
       "      <td>oneworld</td>\n",
       "      <td>AA</td>\n",
       "      <td>CLT</td>\n",
       "      <td>SAN</td>\n",
       "      <td>2,077</td>\n",
       "      <td>2059</td>\n",
       "      <td>0</td>\n",
       "      <td>321</td>\n",
       "      <td>190</td>\n",
       "      <td>NaN</td>\n",
       "      <td>2</td>\n",
       "      <td>1131</td>\n",
       "      <td>1336</td>\n",
       "      <td>305</td>\n",
       "      <td>0</td>\n",
       "      <td>36</td>\n",
       "      <td>91</td>\n",
       "    </tr>\n",
       "    <tr>\n",
       "      <th>3</th>\n",
       "      <td>Sep 30, 2024</td>\n",
       "      <td>AA</td>\n",
       "      <td>oneworld</td>\n",
       "      <td>AA</td>\n",
       "      <td>CLT</td>\n",
       "      <td>SAN</td>\n",
       "      <td>2,077</td>\n",
       "      <td>1740</td>\n",
       "      <td>0</td>\n",
       "      <td>321</td>\n",
       "      <td>190</td>\n",
       "      <td>NaN</td>\n",
       "      <td>2</td>\n",
       "      <td>1644</td>\n",
       "      <td>1843</td>\n",
       "      <td>299</td>\n",
       "      <td>0</td>\n",
       "      <td>36</td>\n",
       "      <td>91</td>\n",
       "    </tr>\n",
       "    <tr>\n",
       "      <th>4</th>\n",
       "      <td>Sep 30, 2024</td>\n",
       "      <td>AA</td>\n",
       "      <td>oneworld</td>\n",
       "      <td>AA</td>\n",
       "      <td>DFW</td>\n",
       "      <td>SAN</td>\n",
       "      <td>1,171</td>\n",
       "      <td>2991</td>\n",
       "      <td>0</td>\n",
       "      <td>32Q</td>\n",
       "      <td>196</td>\n",
       "      <td>NaN</td>\n",
       "      <td>2</td>\n",
       "      <td>720</td>\n",
       "      <td>824</td>\n",
       "      <td>184</td>\n",
       "      <td>0</td>\n",
       "      <td>74</td>\n",
       "      <td>91</td>\n",
       "    </tr>\n",
       "  </tbody>\n",
       "</table>\n",
       "</div>"
      ],
      "text/plain": [
       "           Date Mkt Al  Alliance Op Al Orig Dest  Miles  Flight  Stops Equip  \\\n",
       "0  Sep 30, 2024     AA  oneworld    AA  CLT  SAN  2,077    2032      0   321   \n",
       "1  Sep 30, 2024     AA  oneworld    AA  CLT  SAN  2,077    1954      0   321   \n",
       "2  Sep 30, 2024     AA  oneworld    AA  CLT  SAN  2,077    2059      0   321   \n",
       "3  Sep 30, 2024     AA  oneworld    AA  CLT  SAN  2,077    1740      0   321   \n",
       "4  Sep 30, 2024     AA  oneworld    AA  DFW  SAN  1,171    2991      0   32Q   \n",
       "\n",
       "   Seats Dep Term  Arr Term  Dep Time  Arr Time  Block Mins  Arr Flag  \\\n",
       "0    190      NaN         2       714       902         288         0   \n",
       "1    190      NaN         2       855      1043         288         0   \n",
       "2    190      NaN         2      1131      1336         305         0   \n",
       "3    190      NaN         2      1644      1843         299         0   \n",
       "4    196      NaN         2       720       824         184         0   \n",
       "\n",
       "   Orig WAC  Dest WAC  \n",
       "0        36        91  \n",
       "1        36        91  \n",
       "2        36        91  \n",
       "3        36        91  \n",
       "4        74        91  "
      ]
     },
     "execution_count": 226,
     "metadata": {},
     "output_type": "execute_result"
    }
   ],
   "source": [
    "arrivals_df.head()"
   ]
  },
  {
   "cell_type": "code",
   "execution_count": 227,
   "metadata": {},
   "outputs": [],
   "source": [
    "bin_edges = []\n",
    "for hour in range(24):\n",
    "    bin_edges.append(hour * 100)\n",
    "    bin_edges.append(hour * 100 + 30)"
   ]
  },
  {
   "cell_type": "code",
   "execution_count": 228,
   "metadata": {},
   "outputs": [
    {
     "data": {
      "text/plain": [
       "44999.276697175286"
      ]
     },
     "execution_count": 228,
     "metadata": {},
     "output_type": "execute_result"
    }
   ],
   "source": [
    "arrivals_df[\"binned_arrival\"] = pd.cut(arrivals_df[\"Arr Time\"], bins=bin_edges, include_lowest=False)\n",
    "arrivals_summed_df = arrivals_df.groupby([\"binned_arrival\", \"Date\", \"Arr Term\"], observed=True)[\"Seats\"].sum().reset_index()\n",
    "arrivals_mean_df = arrivals_summed_df.groupby([\"binned_arrival\", \"Arr Term\"], observed=True)[\"Seats\"].mean().reset_index()\n",
    "arrivals_mean_df.columns = [\"time_interval\", \"terminal\", \"observed_mean_arrival_seats\"]\n",
    "sum(arrivals_mean_df[\"observed_mean_arrival_seats\"])"
   ]
  },
  {
   "cell_type": "code",
   "execution_count": 229,
   "metadata": {},
   "outputs": [
    {
     "data": {
      "application/vnd.microsoft.datawrangler.viewer.v0+json": {
       "columns": [
        {
         "name": "index",
         "rawType": "int64",
         "type": "integer"
        },
        {
         "name": "Date",
         "rawType": "object",
         "type": "string"
        },
        {
         "name": "Mkt Al",
         "rawType": "object",
         "type": "string"
        },
        {
         "name": "Alliance",
         "rawType": "object",
         "type": "string"
        },
        {
         "name": "Op Al",
         "rawType": "object",
         "type": "string"
        },
        {
         "name": "Orig",
         "rawType": "object",
         "type": "string"
        },
        {
         "name": "Dest",
         "rawType": "object",
         "type": "string"
        },
        {
         "name": "Miles",
         "rawType": "object",
         "type": "string"
        },
        {
         "name": "Flight",
         "rawType": "int64",
         "type": "integer"
        },
        {
         "name": "Stops",
         "rawType": "int64",
         "type": "integer"
        },
        {
         "name": "Equip",
         "rawType": "object",
         "type": "string"
        },
        {
         "name": "Seats",
         "rawType": "int64",
         "type": "integer"
        },
        {
         "name": "Dep Term",
         "rawType": "int64",
         "type": "integer"
        },
        {
         "name": "Arr Term",
         "rawType": "object",
         "type": "unknown"
        },
        {
         "name": "Dep Time",
         "rawType": "int64",
         "type": "integer"
        },
        {
         "name": "Arr Time",
         "rawType": "int64",
         "type": "integer"
        },
        {
         "name": "Block Mins",
         "rawType": "int64",
         "type": "integer"
        },
        {
         "name": "Arr Flag",
         "rawType": "int64",
         "type": "integer"
        },
        {
         "name": "Orig WAC",
         "rawType": "int64",
         "type": "integer"
        },
        {
         "name": "Dest WAC",
         "rawType": "int64",
         "type": "integer"
        }
       ],
       "conversionMethod": "pd.DataFrame",
       "ref": "3a5bc07c-96e6-43d8-9a8c-c2981990ffda",
       "rows": [
        [
         "0",
         "Nov 1, 2024",
         "AA",
         "oneworld",
         "AA",
         "SAN",
         "CLT",
         "2,077",
         "598",
         "0",
         "321",
         "190",
         "2",
         null,
         "645",
         "1427",
         "282",
         "0",
         "91",
         "36"
        ],
        [
         "1",
         "Nov 1, 2024",
         "AA",
         "oneworld",
         "AA",
         "SAN",
         "CLT",
         "2,077",
         "1645",
         "0",
         "321",
         "190",
         "2",
         null,
         "1204",
         "1942",
         "278",
         "0",
         "91",
         "36"
        ],
        [
         "2",
         "Nov 1, 2024",
         "AA",
         "oneworld",
         "AA",
         "SAN",
         "CLT",
         "2,077",
         "2512",
         "0",
         "321",
         "190",
         "2",
         null,
         "2125",
         "503",
         "278",
         "1",
         "91",
         "36"
        ],
        [
         "3",
         "Nov 1, 2024",
         "AA",
         "oneworld",
         "AA",
         "SAN",
         "CLT",
         "2,077",
         "2056",
         "0",
         "321",
         "190",
         "2",
         null,
         "2210",
         "548",
         "278",
         "1",
         "91",
         "36"
        ],
        [
         "4",
         "Nov 1, 2024",
         "AA",
         "oneworld",
         "AA",
         "SAN",
         "DFW",
         "1,171",
         "2090",
         "0",
         "321",
         "190",
         "2",
         null,
         "615",
         "1126",
         "191",
         "0",
         "91",
         "74"
        ]
       ],
       "shape": {
        "columns": 19,
        "rows": 5
       }
      },
      "text/html": [
       "<div>\n",
       "<style scoped>\n",
       "    .dataframe tbody tr th:only-of-type {\n",
       "        vertical-align: middle;\n",
       "    }\n",
       "\n",
       "    .dataframe tbody tr th {\n",
       "        vertical-align: top;\n",
       "    }\n",
       "\n",
       "    .dataframe thead th {\n",
       "        text-align: right;\n",
       "    }\n",
       "</style>\n",
       "<table border=\"1\" class=\"dataframe\">\n",
       "  <thead>\n",
       "    <tr style=\"text-align: right;\">\n",
       "      <th></th>\n",
       "      <th>Date</th>\n",
       "      <th>Mkt Al</th>\n",
       "      <th>Alliance</th>\n",
       "      <th>Op Al</th>\n",
       "      <th>Orig</th>\n",
       "      <th>Dest</th>\n",
       "      <th>Miles</th>\n",
       "      <th>Flight</th>\n",
       "      <th>Stops</th>\n",
       "      <th>Equip</th>\n",
       "      <th>Seats</th>\n",
       "      <th>Dep Term</th>\n",
       "      <th>Arr Term</th>\n",
       "      <th>Dep Time</th>\n",
       "      <th>Arr Time</th>\n",
       "      <th>Block Mins</th>\n",
       "      <th>Arr Flag</th>\n",
       "      <th>Orig WAC</th>\n",
       "      <th>Dest WAC</th>\n",
       "    </tr>\n",
       "  </thead>\n",
       "  <tbody>\n",
       "    <tr>\n",
       "      <th>0</th>\n",
       "      <td>Nov 1, 2024</td>\n",
       "      <td>AA</td>\n",
       "      <td>oneworld</td>\n",
       "      <td>AA</td>\n",
       "      <td>SAN</td>\n",
       "      <td>CLT</td>\n",
       "      <td>2,077</td>\n",
       "      <td>598</td>\n",
       "      <td>0</td>\n",
       "      <td>321</td>\n",
       "      <td>190</td>\n",
       "      <td>2</td>\n",
       "      <td>NaN</td>\n",
       "      <td>645</td>\n",
       "      <td>1427</td>\n",
       "      <td>282</td>\n",
       "      <td>0</td>\n",
       "      <td>91</td>\n",
       "      <td>36</td>\n",
       "    </tr>\n",
       "    <tr>\n",
       "      <th>1</th>\n",
       "      <td>Nov 1, 2024</td>\n",
       "      <td>AA</td>\n",
       "      <td>oneworld</td>\n",
       "      <td>AA</td>\n",
       "      <td>SAN</td>\n",
       "      <td>CLT</td>\n",
       "      <td>2,077</td>\n",
       "      <td>1645</td>\n",
       "      <td>0</td>\n",
       "      <td>321</td>\n",
       "      <td>190</td>\n",
       "      <td>2</td>\n",
       "      <td>NaN</td>\n",
       "      <td>1204</td>\n",
       "      <td>1942</td>\n",
       "      <td>278</td>\n",
       "      <td>0</td>\n",
       "      <td>91</td>\n",
       "      <td>36</td>\n",
       "    </tr>\n",
       "    <tr>\n",
       "      <th>2</th>\n",
       "      <td>Nov 1, 2024</td>\n",
       "      <td>AA</td>\n",
       "      <td>oneworld</td>\n",
       "      <td>AA</td>\n",
       "      <td>SAN</td>\n",
       "      <td>CLT</td>\n",
       "      <td>2,077</td>\n",
       "      <td>2512</td>\n",
       "      <td>0</td>\n",
       "      <td>321</td>\n",
       "      <td>190</td>\n",
       "      <td>2</td>\n",
       "      <td>NaN</td>\n",
       "      <td>2125</td>\n",
       "      <td>503</td>\n",
       "      <td>278</td>\n",
       "      <td>1</td>\n",
       "      <td>91</td>\n",
       "      <td>36</td>\n",
       "    </tr>\n",
       "    <tr>\n",
       "      <th>3</th>\n",
       "      <td>Nov 1, 2024</td>\n",
       "      <td>AA</td>\n",
       "      <td>oneworld</td>\n",
       "      <td>AA</td>\n",
       "      <td>SAN</td>\n",
       "      <td>CLT</td>\n",
       "      <td>2,077</td>\n",
       "      <td>2056</td>\n",
       "      <td>0</td>\n",
       "      <td>321</td>\n",
       "      <td>190</td>\n",
       "      <td>2</td>\n",
       "      <td>NaN</td>\n",
       "      <td>2210</td>\n",
       "      <td>548</td>\n",
       "      <td>278</td>\n",
       "      <td>1</td>\n",
       "      <td>91</td>\n",
       "      <td>36</td>\n",
       "    </tr>\n",
       "    <tr>\n",
       "      <th>4</th>\n",
       "      <td>Nov 1, 2024</td>\n",
       "      <td>AA</td>\n",
       "      <td>oneworld</td>\n",
       "      <td>AA</td>\n",
       "      <td>SAN</td>\n",
       "      <td>DFW</td>\n",
       "      <td>1,171</td>\n",
       "      <td>2090</td>\n",
       "      <td>0</td>\n",
       "      <td>321</td>\n",
       "      <td>190</td>\n",
       "      <td>2</td>\n",
       "      <td>NaN</td>\n",
       "      <td>615</td>\n",
       "      <td>1126</td>\n",
       "      <td>191</td>\n",
       "      <td>0</td>\n",
       "      <td>91</td>\n",
       "      <td>74</td>\n",
       "    </tr>\n",
       "  </tbody>\n",
       "</table>\n",
       "</div>"
      ],
      "text/plain": [
       "          Date Mkt Al  Alliance Op Al Orig Dest  Miles  Flight  Stops Equip  \\\n",
       "0  Nov 1, 2024     AA  oneworld    AA  SAN  CLT  2,077     598      0   321   \n",
       "1  Nov 1, 2024     AA  oneworld    AA  SAN  CLT  2,077    1645      0   321   \n",
       "2  Nov 1, 2024     AA  oneworld    AA  SAN  CLT  2,077    2512      0   321   \n",
       "3  Nov 1, 2024     AA  oneworld    AA  SAN  CLT  2,077    2056      0   321   \n",
       "4  Nov 1, 2024     AA  oneworld    AA  SAN  DFW  1,171    2090      0   321   \n",
       "\n",
       "   Seats  Dep Term Arr Term  Dep Time  Arr Time  Block Mins  Arr Flag  \\\n",
       "0    190         2      NaN       645      1427         282         0   \n",
       "1    190         2      NaN      1204      1942         278         0   \n",
       "2    190         2      NaN      2125       503         278         1   \n",
       "3    190         2      NaN      2210       548         278         1   \n",
       "4    190         2      NaN       615      1126         191         0   \n",
       "\n",
       "   Orig WAC  Dest WAC  \n",
       "0        91        36  \n",
       "1        91        36  \n",
       "2        91        36  \n",
       "3        91        36  \n",
       "4        91        74  "
      ]
     },
     "execution_count": 229,
     "metadata": {},
     "output_type": "execute_result"
    }
   ],
   "source": [
    "departures_df.head()"
   ]
  },
  {
   "cell_type": "code",
   "execution_count": 230,
   "metadata": {},
   "outputs": [
    {
     "data": {
      "text/plain": [
       "44851.606438016"
      ]
     },
     "execution_count": 230,
     "metadata": {},
     "output_type": "execute_result"
    }
   ],
   "source": [
    "departures_df[\"binned_departure\"] = pd.cut(departures_df[\"Dep Time\"], bins=bin_edges, include_lowest=False)\n",
    "departures_summed_df = departures_df.groupby([\"binned_departure\", \"Date\", \"Dep Term\"], observed=True)[\"Seats\"].sum().reset_index()\n",
    "departures_mean_df = departures_summed_df.groupby([\"binned_departure\", \"Dep Term\"], observed=True)[\"Seats\"].mean().reset_index()\n",
    "departures_mean_df.columns = [\"time_interval\", \"terminal\", \"observed_mean_departure_seats\"]\n",
    "sum(departures_mean_df[\"observed_mean_departure_seats\"])"
   ]
  },
  {
   "cell_type": "code",
   "execution_count": 231,
   "metadata": {},
   "outputs": [
    {
     "data": {
      "application/vnd.microsoft.datawrangler.viewer.v0+json": {
       "columns": [
        {
         "name": "index",
         "rawType": "int64",
         "type": "integer"
        },
        {
         "name": "time_interval",
         "rawType": "interval[int64, right]",
         "type": "unknown"
        },
        {
         "name": "time_index",
         "rawType": "int64",
         "type": "integer"
        }
       ],
       "conversionMethod": "pd.DataFrame",
       "ref": "d4d18267-e305-4ad4-9a7f-576f7e680751",
       "rows": [
        [
         "0",
         "(500, 530]",
         "1"
        ],
        [
         "1",
         "(530, 560]",
         "2"
        ],
        [
         "2",
         "(560, 590]",
         "3"
        ],
        [
         "3",
         "(590, 620]",
         "4"
        ],
        [
         "4",
         "(620, 650]",
         "5"
        ]
       ],
       "shape": {
        "columns": 2,
        "rows": 5
       }
      },
      "text/html": [
       "<div>\n",
       "<style scoped>\n",
       "    .dataframe tbody tr th:only-of-type {\n",
       "        vertical-align: middle;\n",
       "    }\n",
       "\n",
       "    .dataframe tbody tr th {\n",
       "        vertical-align: top;\n",
       "    }\n",
       "\n",
       "    .dataframe thead th {\n",
       "        text-align: right;\n",
       "    }\n",
       "</style>\n",
       "<table border=\"1\" class=\"dataframe\">\n",
       "  <thead>\n",
       "    <tr style=\"text-align: right;\">\n",
       "      <th></th>\n",
       "      <th>time_interval</th>\n",
       "      <th>time_index</th>\n",
       "    </tr>\n",
       "  </thead>\n",
       "  <tbody>\n",
       "    <tr>\n",
       "      <th>0</th>\n",
       "      <td>(500, 530]</td>\n",
       "      <td>1</td>\n",
       "    </tr>\n",
       "    <tr>\n",
       "      <th>1</th>\n",
       "      <td>(530, 560]</td>\n",
       "      <td>2</td>\n",
       "    </tr>\n",
       "    <tr>\n",
       "      <th>2</th>\n",
       "      <td>(560, 590]</td>\n",
       "      <td>3</td>\n",
       "    </tr>\n",
       "    <tr>\n",
       "      <th>3</th>\n",
       "      <td>(590, 620]</td>\n",
       "      <td>4</td>\n",
       "    </tr>\n",
       "    <tr>\n",
       "      <th>4</th>\n",
       "      <td>(620, 650]</td>\n",
       "      <td>5</td>\n",
       "    </tr>\n",
       "  </tbody>\n",
       "</table>\n",
       "</div>"
      ],
      "text/plain": [
       "  time_interval  time_index\n",
       "0    (500, 530]           1\n",
       "1    (530, 560]           2\n",
       "2    (560, 590]           3\n",
       "3    (590, 620]           4\n",
       "4    (620, 650]           5"
      ]
     },
     "execution_count": 231,
     "metadata": {},
     "output_type": "execute_result"
    }
   ],
   "source": [
    "start_time = 500\n",
    "interval_duration = 30\n",
    "intervals = []\n",
    "for i in range(48):\n",
    "    start = start_time + i * interval_duration\n",
    "    end = start + interval_duration\n",
    "    intervals.append((start, end))\n",
    "\n",
    "interval_index = pd.IntervalIndex.from_tuples(intervals, closed='right')\n",
    "\n",
    "time_index_map_df = pd.DataFrame(interval_index, columns=[\"time_interval\"])\n",
    "\n",
    "# add a column with the index values\n",
    "time_index_map_df[\"time_index\"] = range(1, 49)\n",
    "time_index_map_df.head()"
   ]
  },
  {
   "cell_type": "code",
   "execution_count": 232,
   "metadata": {},
   "outputs": [],
   "source": [
    "intervals = [\n",
    "    (500, 530),\n",
    "    (530, 600),\n",
    "    (600, 630),\n",
    "    (630, 700),\n",
    "    (700, 730),\n",
    "    (730, 800),\n",
    "    (800, 830),\n",
    "    (830, 900),\n",
    "    (900, 930),\n",
    "    (930, 1000),\n",
    "    (1000, 1030),\n",
    "    (1030, 1100),\n",
    "    (1100, 1130),\n",
    "    (1130, 1200),\n",
    "    (1200, 1230),\n",
    "    (1230, 1300),\n",
    "    (1300, 1330),\n",
    "    (1330, 1400),\n",
    "    (1400, 1430),\n",
    "    (1430, 1500),\n",
    "    (1500, 1530),\n",
    "    (1530, 1600),\n",
    "    (1600, 1630),\n",
    "    (1630, 1700),\n",
    "    (1700, 1730),\n",
    "    (1730, 1800),\n",
    "    (1800, 1830),\n",
    "    (1830, 1900),\n",
    "    (1900, 1930),\n",
    "    (1930, 2000),\n",
    "    (2000, 2030),\n",
    "    (2030, 2100),\n",
    "    (2100, 2130),\n",
    "    (2130, 2200),\n",
    "    (2200, 2230),\n",
    "    (2230, 2300),\n",
    "    (2300, 2330),\n",
    "    (2330, 2400),\n",
    "    (0, 30),\n",
    "    (30, 100),\n",
    "    (100, 130),\n",
    "    (130, 200),\n",
    "    (200, 230),\n",
    "    (230, 300),\n",
    "    (300, 330),\n",
    "    (330, 400),\n",
    "    (400, 430),\n",
    "    (430, 500)\n",
    "]\n",
    "\n",
    "interval_index = pd.IntervalIndex.from_tuples(intervals, closed=\"right\")\n",
    "index_map_df = pd.DataFrame(interval_index, columns=[\"time_interval\"])\n",
    "index_map_df[\"time_index\"] = range(1, 49)"
   ]
  },
  {
   "cell_type": "code",
   "execution_count": 233,
   "metadata": {},
   "outputs": [
    {
     "data": {
      "application/vnd.microsoft.datawrangler.viewer.v0+json": {
       "columns": [
        {
         "name": "index",
         "rawType": "int64",
         "type": "integer"
        },
        {
         "name": "time_interval",
         "rawType": "interval[int64, right]",
         "type": "unknown"
        },
        {
         "name": "terminal",
         "rawType": "int64",
         "type": "integer"
        },
        {
         "name": "observed_mean_arrival_seats",
         "rawType": "float64",
         "type": "float"
        },
        {
         "name": "observed_mean_departure_seats",
         "rawType": "float64",
         "type": "float"
        },
        {
         "name": "time_index",
         "rawType": "int64",
         "type": "integer"
        }
       ],
       "conversionMethod": "pd.DataFrame",
       "ref": "fe840ac9-0af0-49c4-b434-fe1d0cb6613d",
       "rows": [
        [
         "0",
         "(630, 700]",
         "1",
         "232.0",
         "665.15625",
         "4"
        ],
        [
         "1",
         "(700, 730]",
         "1",
         "634.9047619047619",
         "506.34375",
         "5"
        ],
        [
         "2",
         "(700, 730]",
         "2",
         "377.71875",
         "779.1875",
         "5"
        ],
        [
         "3",
         "(730, 800]",
         "1",
         "747.59375",
         "917.78125",
         "6"
        ],
        [
         "4",
         "(730, 800]",
         "2",
         "381.83870967741933",
         "1762.5",
         "6"
        ]
       ],
       "shape": {
        "columns": 5,
        "rows": 5
       }
      },
      "text/html": [
       "<div>\n",
       "<style scoped>\n",
       "    .dataframe tbody tr th:only-of-type {\n",
       "        vertical-align: middle;\n",
       "    }\n",
       "\n",
       "    .dataframe tbody tr th {\n",
       "        vertical-align: top;\n",
       "    }\n",
       "\n",
       "    .dataframe thead th {\n",
       "        text-align: right;\n",
       "    }\n",
       "</style>\n",
       "<table border=\"1\" class=\"dataframe\">\n",
       "  <thead>\n",
       "    <tr style=\"text-align: right;\">\n",
       "      <th></th>\n",
       "      <th>time_interval</th>\n",
       "      <th>terminal</th>\n",
       "      <th>observed_mean_arrival_seats</th>\n",
       "      <th>observed_mean_departure_seats</th>\n",
       "      <th>time_index</th>\n",
       "    </tr>\n",
       "  </thead>\n",
       "  <tbody>\n",
       "    <tr>\n",
       "      <th>0</th>\n",
       "      <td>(630, 700]</td>\n",
       "      <td>1</td>\n",
       "      <td>232.000000</td>\n",
       "      <td>665.15625</td>\n",
       "      <td>4</td>\n",
       "    </tr>\n",
       "    <tr>\n",
       "      <th>1</th>\n",
       "      <td>(700, 730]</td>\n",
       "      <td>1</td>\n",
       "      <td>634.904762</td>\n",
       "      <td>506.34375</td>\n",
       "      <td>5</td>\n",
       "    </tr>\n",
       "    <tr>\n",
       "      <th>2</th>\n",
       "      <td>(700, 730]</td>\n",
       "      <td>2</td>\n",
       "      <td>377.718750</td>\n",
       "      <td>779.18750</td>\n",
       "      <td>5</td>\n",
       "    </tr>\n",
       "    <tr>\n",
       "      <th>3</th>\n",
       "      <td>(730, 800]</td>\n",
       "      <td>1</td>\n",
       "      <td>747.593750</td>\n",
       "      <td>917.78125</td>\n",
       "      <td>6</td>\n",
       "    </tr>\n",
       "    <tr>\n",
       "      <th>4</th>\n",
       "      <td>(730, 800]</td>\n",
       "      <td>2</td>\n",
       "      <td>381.838710</td>\n",
       "      <td>1762.50000</td>\n",
       "      <td>6</td>\n",
       "    </tr>\n",
       "  </tbody>\n",
       "</table>\n",
       "</div>"
      ],
      "text/plain": [
       "  time_interval  terminal  observed_mean_arrival_seats  \\\n",
       "0    (630, 700]         1                   232.000000   \n",
       "1    (700, 730]         1                   634.904762   \n",
       "2    (700, 730]         2                   377.718750   \n",
       "3    (730, 800]         1                   747.593750   \n",
       "4    (730, 800]         2                   381.838710   \n",
       "\n",
       "   observed_mean_departure_seats  time_index  \n",
       "0                      665.15625           4  \n",
       "1                      506.34375           5  \n",
       "2                      779.18750           5  \n",
       "3                      917.78125           6  \n",
       "4                     1762.50000           6  "
      ]
     },
     "execution_count": 233,
     "metadata": {},
     "output_type": "execute_result"
    }
   ],
   "source": [
    "observed_df = pd.merge(arrivals_mean_df, departures_mean_df, on=[\"time_interval\", \"terminal\"])\n",
    "observed_df = pd.merge(observed_df, index_map_df, on=[\"time_interval\"], how=\"left\")\n",
    "observed_df.head()"
   ]
  },
  {
   "cell_type": "code",
   "execution_count": 234,
   "metadata": {},
   "outputs": [
    {
     "data": {
      "application/vnd.microsoft.datawrangler.viewer.v0+json": {
       "columns": [
        {
         "name": "index",
         "rawType": "int64",
         "type": "integer"
        },
        {
         "name": "unique_id",
         "rawType": "int64",
         "type": "integer"
        },
        {
         "name": "is_completed",
         "rawType": "bool",
         "type": "boolean"
        },
        {
         "name": "inbound_or_outbound",
         "rawType": "float64",
         "type": "float"
        },
        {
         "name": "marketsegment",
         "rawType": "int64",
         "type": "integer"
        },
        {
         "name": "airport_terminal",
         "rawType": "float64",
         "type": "float"
        },
        {
         "name": "flight_arrival_time",
         "rawType": "float64",
         "type": "float"
        },
        {
         "name": "flight_departure_time",
         "rawType": "float64",
         "type": "float"
        },
        {
         "name": "party_size_flight",
         "rawType": "float64",
         "type": "float"
        },
        {
         "name": "weight",
         "rawType": "float64",
         "type": "float"
        },
        {
         "name": "travelers",
         "rawType": "float64",
         "type": "float"
        }
       ],
       "conversionMethod": "pd.DataFrame",
       "ref": "dda6be01-f4e5-44ec-a3e3-69bdef6bfd4c",
       "rows": [
        [
         "458",
         "459",
         "True",
         "2.0",
         "1",
         "1.0",
         "17.0",
         null,
         "1.0",
         "3.681495613584517",
         "3.681495613584517"
        ],
        [
         "459",
         "460",
         "True",
         "2.0",
         "1",
         "2.0",
         "20.0",
         null,
         "0.0",
         "1.8055461952011376",
         "0.0"
        ],
        [
         "460",
         "461",
         "True",
         "2.0",
         "1",
         "2.0",
         "24.0",
         null,
         "0.0",
         "1.8055461952011376",
         "0.0"
        ],
        [
         "461",
         "462",
         "True",
         "2.0",
         "1",
         "2.0",
         "17.0",
         null,
         "0.0",
         "1.187835724729594",
         "0.0"
        ],
        [
         "462",
         "463",
         "True",
         "2.0",
         "1",
         "1.0",
         "18.0",
         null,
         "0.0",
         "1.4842501607617264",
         "0.0"
        ]
       ],
       "shape": {
        "columns": 10,
        "rows": 5
       }
      },
      "text/html": [
       "<div>\n",
       "<style scoped>\n",
       "    .dataframe tbody tr th:only-of-type {\n",
       "        vertical-align: middle;\n",
       "    }\n",
       "\n",
       "    .dataframe tbody tr th {\n",
       "        vertical-align: top;\n",
       "    }\n",
       "\n",
       "    .dataframe thead th {\n",
       "        text-align: right;\n",
       "    }\n",
       "</style>\n",
       "<table border=\"1\" class=\"dataframe\">\n",
       "  <thead>\n",
       "    <tr style=\"text-align: right;\">\n",
       "      <th></th>\n",
       "      <th>unique_id</th>\n",
       "      <th>is_completed</th>\n",
       "      <th>inbound_or_outbound</th>\n",
       "      <th>marketsegment</th>\n",
       "      <th>airport_terminal</th>\n",
       "      <th>flight_arrival_time</th>\n",
       "      <th>flight_departure_time</th>\n",
       "      <th>party_size_flight</th>\n",
       "      <th>weight</th>\n",
       "      <th>travelers</th>\n",
       "    </tr>\n",
       "  </thead>\n",
       "  <tbody>\n",
       "    <tr>\n",
       "      <th>458</th>\n",
       "      <td>459</td>\n",
       "      <td>True</td>\n",
       "      <td>2.0</td>\n",
       "      <td>1</td>\n",
       "      <td>1.0</td>\n",
       "      <td>17.0</td>\n",
       "      <td>NaN</td>\n",
       "      <td>1.0</td>\n",
       "      <td>3.681496</td>\n",
       "      <td>3.681496</td>\n",
       "    </tr>\n",
       "    <tr>\n",
       "      <th>459</th>\n",
       "      <td>460</td>\n",
       "      <td>True</td>\n",
       "      <td>2.0</td>\n",
       "      <td>1</td>\n",
       "      <td>2.0</td>\n",
       "      <td>20.0</td>\n",
       "      <td>NaN</td>\n",
       "      <td>0.0</td>\n",
       "      <td>1.805546</td>\n",
       "      <td>0.000000</td>\n",
       "    </tr>\n",
       "    <tr>\n",
       "      <th>460</th>\n",
       "      <td>461</td>\n",
       "      <td>True</td>\n",
       "      <td>2.0</td>\n",
       "      <td>1</td>\n",
       "      <td>2.0</td>\n",
       "      <td>24.0</td>\n",
       "      <td>NaN</td>\n",
       "      <td>0.0</td>\n",
       "      <td>1.805546</td>\n",
       "      <td>0.000000</td>\n",
       "    </tr>\n",
       "    <tr>\n",
       "      <th>461</th>\n",
       "      <td>462</td>\n",
       "      <td>True</td>\n",
       "      <td>2.0</td>\n",
       "      <td>1</td>\n",
       "      <td>2.0</td>\n",
       "      <td>17.0</td>\n",
       "      <td>NaN</td>\n",
       "      <td>0.0</td>\n",
       "      <td>1.187836</td>\n",
       "      <td>0.000000</td>\n",
       "    </tr>\n",
       "    <tr>\n",
       "      <th>462</th>\n",
       "      <td>463</td>\n",
       "      <td>True</td>\n",
       "      <td>2.0</td>\n",
       "      <td>1</td>\n",
       "      <td>1.0</td>\n",
       "      <td>18.0</td>\n",
       "      <td>NaN</td>\n",
       "      <td>0.0</td>\n",
       "      <td>1.484250</td>\n",
       "      <td>0.000000</td>\n",
       "    </tr>\n",
       "  </tbody>\n",
       "</table>\n",
       "</div>"
      ],
      "text/plain": [
       "     unique_id  is_completed  inbound_or_outbound  marketsegment  \\\n",
       "458        459          True                  2.0              1   \n",
       "459        460          True                  2.0              1   \n",
       "460        461          True                  2.0              1   \n",
       "461        462          True                  2.0              1   \n",
       "462        463          True                  2.0              1   \n",
       "\n",
       "     airport_terminal  flight_arrival_time  flight_departure_time  \\\n",
       "458               1.0                 17.0                    NaN   \n",
       "459               2.0                 20.0                    NaN   \n",
       "460               2.0                 24.0                    NaN   \n",
       "461               2.0                 17.0                    NaN   \n",
       "462               1.0                 18.0                    NaN   \n",
       "\n",
       "     party_size_flight    weight  travelers  \n",
       "458                1.0  3.681496   3.681496  \n",
       "459                0.0  1.805546   0.000000  \n",
       "460                0.0  1.805546   0.000000  \n",
       "461                0.0  1.187836   0.000000  \n",
       "462                0.0  1.484250   0.000000  "
      ]
     },
     "execution_count": 234,
     "metadata": {},
     "output_type": "execute_result"
    }
   ],
   "source": [
    "working_df = survey_df[[\n",
    "    \"unique_id\", \"is_completed\", \"inbound_or_outbound\", \"marketsegment\", \"airport_terminal\", \"flight_arrival_time\", \"flight_departure_time\", \"party_size_flight\",  \"weight\"\n",
    "    ]].copy()\n",
    "working_df = working_df.loc[working_df[\"marketsegment\"] == e.Type.PASSENGER].copy()\n",
    "working_df[\"travelers\"] = working_df[\"weight\"] * working_df[\"party_size_flight\"]\n",
    "working_df.head()"
   ]
  },
  {
   "cell_type": "code",
   "execution_count": 235,
   "metadata": {},
   "outputs": [
    {
     "data": {
      "application/vnd.microsoft.datawrangler.viewer.v0+json": {
       "columns": [
        {
         "name": "index",
         "rawType": "int64",
         "type": "integer"
        },
        {
         "name": "time_index",
         "rawType": "int64",
         "type": "integer"
        },
        {
         "name": "terminal",
         "rawType": "int64",
         "type": "integer"
        },
        {
         "name": "survey_arrivals",
         "rawType": "float64",
         "type": "float"
        },
        {
         "name": "survey_arrivals_observations",
         "rawType": "int64",
         "type": "integer"
        },
        {
         "name": "survey_departures",
         "rawType": "float64",
         "type": "float"
        },
        {
         "name": "survey_departures_observations",
         "rawType": "int64",
         "type": "integer"
        }
       ],
       "conversionMethod": "pd.DataFrame",
       "ref": "f8fed591-583e-48ff-b50f-6958514c9cc4",
       "rows": [
        [
         "0",
         "3",
         "2",
         "2.3578862158960208",
         "3",
         "19.88849805944846",
         "4"
        ],
        [
         "1",
         "4",
         "2",
         "7.241261997400231",
         "2",
         "151.45814788066207",
         "8"
        ],
        [
         "2",
         "5",
         "1",
         "14.12753613203672",
         "5",
         "54.91627454148906",
         "8"
        ],
        [
         "3",
         "5",
         "2",
         "0.0",
         "4",
         "83.41946914084426",
         "44"
        ],
        [
         "4",
         "6",
         "1",
         "0.0",
         "3",
         "7.873773025715744",
         "4"
        ]
       ],
       "shape": {
        "columns": 6,
        "rows": 5
       }
      },
      "text/html": [
       "<div>\n",
       "<style scoped>\n",
       "    .dataframe tbody tr th:only-of-type {\n",
       "        vertical-align: middle;\n",
       "    }\n",
       "\n",
       "    .dataframe tbody tr th {\n",
       "        vertical-align: top;\n",
       "    }\n",
       "\n",
       "    .dataframe thead th {\n",
       "        text-align: right;\n",
       "    }\n",
       "</style>\n",
       "<table border=\"1\" class=\"dataframe\">\n",
       "  <thead>\n",
       "    <tr style=\"text-align: right;\">\n",
       "      <th></th>\n",
       "      <th>time_index</th>\n",
       "      <th>terminal</th>\n",
       "      <th>survey_arrivals</th>\n",
       "      <th>survey_arrivals_observations</th>\n",
       "      <th>survey_departures</th>\n",
       "      <th>survey_departures_observations</th>\n",
       "    </tr>\n",
       "  </thead>\n",
       "  <tbody>\n",
       "    <tr>\n",
       "      <th>0</th>\n",
       "      <td>3</td>\n",
       "      <td>2</td>\n",
       "      <td>2.357886</td>\n",
       "      <td>3</td>\n",
       "      <td>19.888498</td>\n",
       "      <td>4</td>\n",
       "    </tr>\n",
       "    <tr>\n",
       "      <th>1</th>\n",
       "      <td>4</td>\n",
       "      <td>2</td>\n",
       "      <td>7.241262</td>\n",
       "      <td>2</td>\n",
       "      <td>151.458148</td>\n",
       "      <td>8</td>\n",
       "    </tr>\n",
       "    <tr>\n",
       "      <th>2</th>\n",
       "      <td>5</td>\n",
       "      <td>1</td>\n",
       "      <td>14.127536</td>\n",
       "      <td>5</td>\n",
       "      <td>54.916275</td>\n",
       "      <td>8</td>\n",
       "    </tr>\n",
       "    <tr>\n",
       "      <th>3</th>\n",
       "      <td>5</td>\n",
       "      <td>2</td>\n",
       "      <td>0.000000</td>\n",
       "      <td>4</td>\n",
       "      <td>83.419469</td>\n",
       "      <td>44</td>\n",
       "    </tr>\n",
       "    <tr>\n",
       "      <th>4</th>\n",
       "      <td>6</td>\n",
       "      <td>1</td>\n",
       "      <td>0.000000</td>\n",
       "      <td>3</td>\n",
       "      <td>7.873773</td>\n",
       "      <td>4</td>\n",
       "    </tr>\n",
       "  </tbody>\n",
       "</table>\n",
       "</div>"
      ],
      "text/plain": [
       "   time_index  terminal  survey_arrivals  survey_arrivals_observations  \\\n",
       "0           3         2         2.357886                             3   \n",
       "1           4         2         7.241262                             2   \n",
       "2           5         1        14.127536                             5   \n",
       "3           5         2         0.000000                             4   \n",
       "4           6         1         0.000000                             3   \n",
       "\n",
       "   survey_departures  survey_departures_observations  \n",
       "0          19.888498                               4  \n",
       "1         151.458148                               8  \n",
       "2          54.916275                               8  \n",
       "3          83.419469                              44  \n",
       "4           7.873773                               4  "
      ]
     },
     "execution_count": 235,
     "metadata": {},
     "output_type": "execute_result"
    }
   ],
   "source": [
    "survey_arrivals_df = working_df.groupby([\"flight_arrival_time\", \"airport_terminal\"], observed=True)[\"travelers\"].agg([\"sum\", \"count\"]).reset_index()\n",
    "survey_arrivals_df.columns = [\"time_index\", \"terminal\", \"survey_arrivals\", \"survey_arrivals_observations\"]\n",
    "\n",
    "survey_departures_df = working_df.groupby([\"flight_departure_time\", \"airport_terminal\"], observed=True)[\"travelers\"].agg([\"sum\", \"count\"]).reset_index()\n",
    "survey_departures_df.columns = [\"time_index\", \"terminal\", \"survey_departures\", \"survey_departures_observations\"]\n",
    "\n",
    "join_df = pd.merge(survey_arrivals_df, survey_departures_df, on=[\"time_index\", \"terminal\"])\n",
    "join_df[\"terminal\"] = join_df[\"terminal\"].astype(\"int\")\n",
    "join_df[\"time_index\"] = join_df[\"time_index\"].astype(\"int\")\n",
    "join_df.head()"
   ]
  },
  {
   "cell_type": "code",
   "execution_count": 236,
   "metadata": {},
   "outputs": [
    {
     "data": {
      "application/vnd.microsoft.datawrangler.viewer.v0+json": {
       "columns": [
        {
         "name": "index",
         "rawType": "int64",
         "type": "integer"
        },
        {
         "name": "time_interval",
         "rawType": "interval[float64, right]",
         "type": "unknown"
        },
        {
         "name": "terminal",
         "rawType": "int64",
         "type": "integer"
        },
        {
         "name": "observed_mean_arrival_seats",
         "rawType": "float64",
         "type": "float"
        },
        {
         "name": "observed_mean_departure_seats",
         "rawType": "float64",
         "type": "float"
        },
        {
         "name": "time_index",
         "rawType": "int64",
         "type": "integer"
        },
        {
         "name": "survey_arrivals",
         "rawType": "float64",
         "type": "float"
        },
        {
         "name": "survey_arrivals_observations",
         "rawType": "float64",
         "type": "float"
        },
        {
         "name": "survey_departures",
         "rawType": "float64",
         "type": "float"
        },
        {
         "name": "survey_departures_observations",
         "rawType": "float64",
         "type": "float"
        },
        {
         "name": "time_label",
         "rawType": "object",
         "type": "string"
        }
       ],
       "conversionMethod": "pd.DataFrame",
       "ref": "14901255-ea76-48f7-9372-f0bd65f66fb9",
       "rows": [
        [
         "0",
         "(600.0, 630.0]",
         "2",
         "0.0",
         "0.0",
         "3",
         "2.3578862158960208",
         "3.0",
         "19.88849805944846",
         "4.0",
         "SIX_TO_SIX_THIRTY"
        ],
        [
         "1",
         "(630.0, 700.0]",
         "1",
         "232.0",
         "665.15625",
         "4",
         "0.0",
         "0.0",
         "0.0",
         "0.0",
         "SIX_THIRTY_TO_SEVEN"
        ],
        [
         "2",
         "(630.0, 700.0]",
         "2",
         "0.0",
         "0.0",
         "4",
         "7.241261997400231",
         "2.0",
         "151.45814788066207",
         "8.0",
         "SIX_THIRTY_TO_SEVEN"
        ],
        [
         "3",
         "(700.0, 730.0]",
         "1",
         "634.9047619047619",
         "506.34375",
         "5",
         "14.12753613203672",
         "5.0",
         "54.91627454148906",
         "8.0",
         "SEVEN_TO_SEVEN_THIRTY"
        ],
        [
         "4",
         "(700.0, 730.0]",
         "2",
         "377.71875",
         "779.1875",
         "5",
         "0.0",
         "4.0",
         "83.41946914084426",
         "44.0",
         "SEVEN_TO_SEVEN_THIRTY"
        ]
       ],
       "shape": {
        "columns": 10,
        "rows": 5
       }
      },
      "text/html": [
       "<div>\n",
       "<style scoped>\n",
       "    .dataframe tbody tr th:only-of-type {\n",
       "        vertical-align: middle;\n",
       "    }\n",
       "\n",
       "    .dataframe tbody tr th {\n",
       "        vertical-align: top;\n",
       "    }\n",
       "\n",
       "    .dataframe thead th {\n",
       "        text-align: right;\n",
       "    }\n",
       "</style>\n",
       "<table border=\"1\" class=\"dataframe\">\n",
       "  <thead>\n",
       "    <tr style=\"text-align: right;\">\n",
       "      <th></th>\n",
       "      <th>time_interval</th>\n",
       "      <th>terminal</th>\n",
       "      <th>observed_mean_arrival_seats</th>\n",
       "      <th>observed_mean_departure_seats</th>\n",
       "      <th>time_index</th>\n",
       "      <th>survey_arrivals</th>\n",
       "      <th>survey_arrivals_observations</th>\n",
       "      <th>survey_departures</th>\n",
       "      <th>survey_departures_observations</th>\n",
       "      <th>time_label</th>\n",
       "    </tr>\n",
       "  </thead>\n",
       "  <tbody>\n",
       "    <tr>\n",
       "      <th>0</th>\n",
       "      <td>(600.0, 630.0]</td>\n",
       "      <td>2</td>\n",
       "      <td>0.000000</td>\n",
       "      <td>0.00000</td>\n",
       "      <td>3</td>\n",
       "      <td>2.357886</td>\n",
       "      <td>3.0</td>\n",
       "      <td>19.888498</td>\n",
       "      <td>4.0</td>\n",
       "      <td>SIX_TO_SIX_THIRTY</td>\n",
       "    </tr>\n",
       "    <tr>\n",
       "      <th>1</th>\n",
       "      <td>(630.0, 700.0]</td>\n",
       "      <td>1</td>\n",
       "      <td>232.000000</td>\n",
       "      <td>665.15625</td>\n",
       "      <td>4</td>\n",
       "      <td>0.000000</td>\n",
       "      <td>0.0</td>\n",
       "      <td>0.000000</td>\n",
       "      <td>0.0</td>\n",
       "      <td>SIX_THIRTY_TO_SEVEN</td>\n",
       "    </tr>\n",
       "    <tr>\n",
       "      <th>2</th>\n",
       "      <td>(630.0, 700.0]</td>\n",
       "      <td>2</td>\n",
       "      <td>0.000000</td>\n",
       "      <td>0.00000</td>\n",
       "      <td>4</td>\n",
       "      <td>7.241262</td>\n",
       "      <td>2.0</td>\n",
       "      <td>151.458148</td>\n",
       "      <td>8.0</td>\n",
       "      <td>SIX_THIRTY_TO_SEVEN</td>\n",
       "    </tr>\n",
       "    <tr>\n",
       "      <th>3</th>\n",
       "      <td>(700.0, 730.0]</td>\n",
       "      <td>1</td>\n",
       "      <td>634.904762</td>\n",
       "      <td>506.34375</td>\n",
       "      <td>5</td>\n",
       "      <td>14.127536</td>\n",
       "      <td>5.0</td>\n",
       "      <td>54.916275</td>\n",
       "      <td>8.0</td>\n",
       "      <td>SEVEN_TO_SEVEN_THIRTY</td>\n",
       "    </tr>\n",
       "    <tr>\n",
       "      <th>4</th>\n",
       "      <td>(700.0, 730.0]</td>\n",
       "      <td>2</td>\n",
       "      <td>377.718750</td>\n",
       "      <td>779.18750</td>\n",
       "      <td>5</td>\n",
       "      <td>0.000000</td>\n",
       "      <td>4.0</td>\n",
       "      <td>83.419469</td>\n",
       "      <td>44.0</td>\n",
       "      <td>SEVEN_TO_SEVEN_THIRTY</td>\n",
       "    </tr>\n",
       "  </tbody>\n",
       "</table>\n",
       "</div>"
      ],
      "text/plain": [
       "    time_interval  terminal  observed_mean_arrival_seats  \\\n",
       "0  (600.0, 630.0]         2                     0.000000   \n",
       "1  (630.0, 700.0]         1                   232.000000   \n",
       "2  (630.0, 700.0]         2                     0.000000   \n",
       "3  (700.0, 730.0]         1                   634.904762   \n",
       "4  (700.0, 730.0]         2                   377.718750   \n",
       "\n",
       "   observed_mean_departure_seats  time_index  survey_arrivals  \\\n",
       "0                        0.00000           3         2.357886   \n",
       "1                      665.15625           4         0.000000   \n",
       "2                        0.00000           4         7.241262   \n",
       "3                      506.34375           5        14.127536   \n",
       "4                      779.18750           5         0.000000   \n",
       "\n",
       "   survey_arrivals_observations  survey_departures  \\\n",
       "0                           3.0          19.888498   \n",
       "1                           0.0           0.000000   \n",
       "2                           2.0         151.458148   \n",
       "3                           5.0          54.916275   \n",
       "4                           4.0          83.419469   \n",
       "\n",
       "   survey_departures_observations             time_label  \n",
       "0                             4.0      SIX_TO_SIX_THIRTY  \n",
       "1                             0.0    SIX_THIRTY_TO_SEVEN  \n",
       "2                             8.0    SIX_THIRTY_TO_SEVEN  \n",
       "3                             8.0  SEVEN_TO_SEVEN_THIRTY  \n",
       "4                            44.0  SEVEN_TO_SEVEN_THIRTY  "
      ]
     },
     "execution_count": 236,
     "metadata": {},
     "output_type": "execute_result"
    }
   ],
   "source": [
    "output_df = pd.merge(observed_df, join_df, on=[\"time_index\", \"terminal\"], how = \"outer\")\n",
    "output_df[\"time_label\"] = output_df[\"time_index\"].apply(lambda x: e.DepartTime(x).name)\n",
    "output_df[\"time_interval\"] = output_df[\"time_interval\"].fillna(output_df[\"time_index\"].map(index_map_df.set_index(\"time_index\")[\"time_interval\"].to_dict()))\n",
    "output_df = output_df.fillna(0.0)\n",
    "output_df.head()"
   ]
  },
  {
   "cell_type": "code",
   "execution_count": 237,
   "metadata": {},
   "outputs": [],
   "source": [
    "output_df.to_csv(output_file, index=False)"
   ]
  },
  {
   "cell_type": "code",
   "execution_count": null,
   "metadata": {},
   "outputs": [],
   "source": []
  }
 ],
 "metadata": {
  "kernelspec": {
   "display_name": "sandag_air",
   "language": "python",
   "name": "python3"
  },
  "language_info": {
   "codemirror_mode": {
    "name": "ipython",
    "version": 3
   },
   "file_extension": ".py",
   "mimetype": "text/x-python",
   "name": "python",
   "nbconvert_exporter": "python",
   "pygments_lexer": "ipython3",
   "version": "3.12.8"
  }
 },
 "nbformat": 4,
 "nbformat_minor": 2
}
