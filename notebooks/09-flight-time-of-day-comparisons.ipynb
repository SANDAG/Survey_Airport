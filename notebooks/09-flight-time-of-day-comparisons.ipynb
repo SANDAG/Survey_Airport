{
 "cells": [
  {
   "cell_type": "code",
   "execution_count": 83,
   "metadata": {},
   "outputs": [],
   "source": [
    "import sys\n",
    "import os\n",
    "import pandas as pd\n",
    "import numpy as np\n",
    "sys.path.insert(0, os.path.abspath(\"../data_model/\"))"
   ]
  },
  {
   "cell_type": "code",
   "execution_count": 84,
   "metadata": {},
   "outputs": [],
   "source": [
    "import enums as e"
   ]
  },
  {
   "cell_type": "markdown",
   "metadata": {},
   "source": [
    "### Remote I/O"
   ]
  },
  {
   "cell_type": "code",
   "execution_count": 85,
   "metadata": {},
   "outputs": [],
   "source": [
    "processed_dir = \"../data/processed\"\n",
    "interim_dir = \"../data/interim\"\n",
    "external_dir = \"../data/external\"\n",
    "\n",
    "survey_data_input_file = os.path.join(processed_dir, \"data_model_output.csv\")\n",
    "sdia_arrivals_input_file = os.path.join(external_dir, \"sdia\", \"san-daily-arrivals-sept-and-oct-2024-as-csv.csv\")\n",
    "sdia_departures_input_file = os.path.join(external_dir, \"sdia\", \"san-daily-departures-sept-and-oct-2024-as-csv.csv\")\n",
    "\n",
    "output_file = os.path.join(interim_dir, \"compare-flight-time-of-day.csv\")"
   ]
  },
  {
   "cell_type": "markdown",
   "metadata": {},
   "source": [
    "### Data Reads"
   ]
  },
  {
   "cell_type": "code",
   "execution_count": 86,
   "metadata": {},
   "outputs": [
    {
     "name": "stderr",
     "output_type": "stream",
     "text": [
      "/var/folders/qp/sq840hxs1rs_wtmckrby_mkw0000gn/T/ipykernel_78725/1798047874.py:1: DtypeWarning: Columns (1,8,19,20,21,22,23,24,25,26,27,29,30,31,32,33,34,35,36,37,38,40,41,47,52,58,63,67,69,71,73,77,84,86,95,96,97,98,99,100,101,102,103,104,105,106,107,108,109,110,111,112,113,114,115,116,117,118,119,120,122,136,137,140,141,149,151,157,159,161,173,177,186,187,190,193,197,212,214,215,216,217,218,219,220,221,222,223,246,253,254,258,259,261,262,280,298,300,301,303,319,321,343) have mixed types. Specify dtype option on import or set low_memory=False.\n",
      "  survey_df = pd.read_csv(survey_data_input_file)\n"
     ]
    }
   ],
   "source": [
    "survey_df = pd.read_csv(survey_data_input_file)\n",
    "arrivals_df = pd.read_csv(sdia_arrivals_input_file)\n",
    "departures_df = pd.read_csv(sdia_departures_input_file)"
   ]
  },
  {
   "cell_type": "markdown",
   "metadata": {},
   "source": [
    "### Reductions"
   ]
  },
  {
   "cell_type": "code",
   "execution_count": 87,
   "metadata": {},
   "outputs": [
    {
     "data": {
      "application/vnd.microsoft.datawrangler.viewer.v0+json": {
       "columns": [
        {
         "name": "index",
         "rawType": "int64",
         "type": "integer"
        },
        {
         "name": "Date",
         "rawType": "object",
         "type": "string"
        },
        {
         "name": "Mkt Al",
         "rawType": "object",
         "type": "string"
        },
        {
         "name": "Alliance",
         "rawType": "object",
         "type": "string"
        },
        {
         "name": "Op Al",
         "rawType": "object",
         "type": "string"
        },
        {
         "name": "Orig",
         "rawType": "object",
         "type": "string"
        },
        {
         "name": "Dest",
         "rawType": "object",
         "type": "string"
        },
        {
         "name": "Miles",
         "rawType": "object",
         "type": "string"
        },
        {
         "name": "Flight",
         "rawType": "int64",
         "type": "integer"
        },
        {
         "name": "Stops",
         "rawType": "int64",
         "type": "integer"
        },
        {
         "name": "Equip",
         "rawType": "object",
         "type": "string"
        },
        {
         "name": "Seats",
         "rawType": "int64",
         "type": "integer"
        },
        {
         "name": "Dep Term",
         "rawType": "object",
         "type": "unknown"
        },
        {
         "name": "Arr Term",
         "rawType": "int64",
         "type": "integer"
        },
        {
         "name": "Dep Time",
         "rawType": "int64",
         "type": "integer"
        },
        {
         "name": "Arr Time",
         "rawType": "int64",
         "type": "integer"
        },
        {
         "name": "Block Mins",
         "rawType": "int64",
         "type": "integer"
        },
        {
         "name": "Arr Flag",
         "rawType": "int64",
         "type": "integer"
        },
        {
         "name": "Orig WAC",
         "rawType": "int64",
         "type": "integer"
        },
        {
         "name": "Dest WAC",
         "rawType": "int64",
         "type": "integer"
        }
       ],
       "conversionMethod": "pd.DataFrame",
       "ref": "0815de28-bef5-4d43-9e32-c0645a6f0a1e",
       "rows": [
        [
         "0",
         "Sep 30, 2024",
         "AA",
         "oneworld",
         "AA",
         "CLT",
         "SAN",
         "2,077",
         "2032",
         "0",
         "321",
         "190",
         null,
         "2",
         "714",
         "902",
         "288",
         "0",
         "36",
         "91"
        ],
        [
         "1",
         "Sep 30, 2024",
         "AA",
         "oneworld",
         "AA",
         "CLT",
         "SAN",
         "2,077",
         "1954",
         "0",
         "321",
         "190",
         null,
         "2",
         "855",
         "1043",
         "288",
         "0",
         "36",
         "91"
        ],
        [
         "2",
         "Sep 30, 2024",
         "AA",
         "oneworld",
         "AA",
         "CLT",
         "SAN",
         "2,077",
         "2059",
         "0",
         "321",
         "190",
         null,
         "2",
         "1131",
         "1336",
         "305",
         "0",
         "36",
         "91"
        ],
        [
         "3",
         "Sep 30, 2024",
         "AA",
         "oneworld",
         "AA",
         "CLT",
         "SAN",
         "2,077",
         "1740",
         "0",
         "321",
         "190",
         null,
         "2",
         "1644",
         "1843",
         "299",
         "0",
         "36",
         "91"
        ],
        [
         "4",
         "Sep 30, 2024",
         "AA",
         "oneworld",
         "AA",
         "DFW",
         "SAN",
         "1,171",
         "2991",
         "0",
         "32Q",
         "196",
         null,
         "2",
         "720",
         "824",
         "184",
         "0",
         "74",
         "91"
        ]
       ],
       "shape": {
        "columns": 19,
        "rows": 5
       }
      },
      "text/html": [
       "<div>\n",
       "<style scoped>\n",
       "    .dataframe tbody tr th:only-of-type {\n",
       "        vertical-align: middle;\n",
       "    }\n",
       "\n",
       "    .dataframe tbody tr th {\n",
       "        vertical-align: top;\n",
       "    }\n",
       "\n",
       "    .dataframe thead th {\n",
       "        text-align: right;\n",
       "    }\n",
       "</style>\n",
       "<table border=\"1\" class=\"dataframe\">\n",
       "  <thead>\n",
       "    <tr style=\"text-align: right;\">\n",
       "      <th></th>\n",
       "      <th>Date</th>\n",
       "      <th>Mkt Al</th>\n",
       "      <th>Alliance</th>\n",
       "      <th>Op Al</th>\n",
       "      <th>Orig</th>\n",
       "      <th>Dest</th>\n",
       "      <th>Miles</th>\n",
       "      <th>Flight</th>\n",
       "      <th>Stops</th>\n",
       "      <th>Equip</th>\n",
       "      <th>Seats</th>\n",
       "      <th>Dep Term</th>\n",
       "      <th>Arr Term</th>\n",
       "      <th>Dep Time</th>\n",
       "      <th>Arr Time</th>\n",
       "      <th>Block Mins</th>\n",
       "      <th>Arr Flag</th>\n",
       "      <th>Orig WAC</th>\n",
       "      <th>Dest WAC</th>\n",
       "    </tr>\n",
       "  </thead>\n",
       "  <tbody>\n",
       "    <tr>\n",
       "      <th>0</th>\n",
       "      <td>Sep 30, 2024</td>\n",
       "      <td>AA</td>\n",
       "      <td>oneworld</td>\n",
       "      <td>AA</td>\n",
       "      <td>CLT</td>\n",
       "      <td>SAN</td>\n",
       "      <td>2,077</td>\n",
       "      <td>2032</td>\n",
       "      <td>0</td>\n",
       "      <td>321</td>\n",
       "      <td>190</td>\n",
       "      <td>NaN</td>\n",
       "      <td>2</td>\n",
       "      <td>714</td>\n",
       "      <td>902</td>\n",
       "      <td>288</td>\n",
       "      <td>0</td>\n",
       "      <td>36</td>\n",
       "      <td>91</td>\n",
       "    </tr>\n",
       "    <tr>\n",
       "      <th>1</th>\n",
       "      <td>Sep 30, 2024</td>\n",
       "      <td>AA</td>\n",
       "      <td>oneworld</td>\n",
       "      <td>AA</td>\n",
       "      <td>CLT</td>\n",
       "      <td>SAN</td>\n",
       "      <td>2,077</td>\n",
       "      <td>1954</td>\n",
       "      <td>0</td>\n",
       "      <td>321</td>\n",
       "      <td>190</td>\n",
       "      <td>NaN</td>\n",
       "      <td>2</td>\n",
       "      <td>855</td>\n",
       "      <td>1043</td>\n",
       "      <td>288</td>\n",
       "      <td>0</td>\n",
       "      <td>36</td>\n",
       "      <td>91</td>\n",
       "    </tr>\n",
       "    <tr>\n",
       "      <th>2</th>\n",
       "      <td>Sep 30, 2024</td>\n",
       "      <td>AA</td>\n",
       "      <td>oneworld</td>\n",
       "      <td>AA</td>\n",
       "      <td>CLT</td>\n",
       "      <td>SAN</td>\n",
       "      <td>2,077</td>\n",
       "      <td>2059</td>\n",
       "      <td>0</td>\n",
       "      <td>321</td>\n",
       "      <td>190</td>\n",
       "      <td>NaN</td>\n",
       "      <td>2</td>\n",
       "      <td>1131</td>\n",
       "      <td>1336</td>\n",
       "      <td>305</td>\n",
       "      <td>0</td>\n",
       "      <td>36</td>\n",
       "      <td>91</td>\n",
       "    </tr>\n",
       "    <tr>\n",
       "      <th>3</th>\n",
       "      <td>Sep 30, 2024</td>\n",
       "      <td>AA</td>\n",
       "      <td>oneworld</td>\n",
       "      <td>AA</td>\n",
       "      <td>CLT</td>\n",
       "      <td>SAN</td>\n",
       "      <td>2,077</td>\n",
       "      <td>1740</td>\n",
       "      <td>0</td>\n",
       "      <td>321</td>\n",
       "      <td>190</td>\n",
       "      <td>NaN</td>\n",
       "      <td>2</td>\n",
       "      <td>1644</td>\n",
       "      <td>1843</td>\n",
       "      <td>299</td>\n",
       "      <td>0</td>\n",
       "      <td>36</td>\n",
       "      <td>91</td>\n",
       "    </tr>\n",
       "    <tr>\n",
       "      <th>4</th>\n",
       "      <td>Sep 30, 2024</td>\n",
       "      <td>AA</td>\n",
       "      <td>oneworld</td>\n",
       "      <td>AA</td>\n",
       "      <td>DFW</td>\n",
       "      <td>SAN</td>\n",
       "      <td>1,171</td>\n",
       "      <td>2991</td>\n",
       "      <td>0</td>\n",
       "      <td>32Q</td>\n",
       "      <td>196</td>\n",
       "      <td>NaN</td>\n",
       "      <td>2</td>\n",
       "      <td>720</td>\n",
       "      <td>824</td>\n",
       "      <td>184</td>\n",
       "      <td>0</td>\n",
       "      <td>74</td>\n",
       "      <td>91</td>\n",
       "    </tr>\n",
       "  </tbody>\n",
       "</table>\n",
       "</div>"
      ],
      "text/plain": [
       "           Date Mkt Al  Alliance Op Al Orig Dest  Miles  Flight  Stops Equip  \\\n",
       "0  Sep 30, 2024     AA  oneworld    AA  CLT  SAN  2,077    2032      0   321   \n",
       "1  Sep 30, 2024     AA  oneworld    AA  CLT  SAN  2,077    1954      0   321   \n",
       "2  Sep 30, 2024     AA  oneworld    AA  CLT  SAN  2,077    2059      0   321   \n",
       "3  Sep 30, 2024     AA  oneworld    AA  CLT  SAN  2,077    1740      0   321   \n",
       "4  Sep 30, 2024     AA  oneworld    AA  DFW  SAN  1,171    2991      0   32Q   \n",
       "\n",
       "   Seats Dep Term  Arr Term  Dep Time  Arr Time  Block Mins  Arr Flag  \\\n",
       "0    190      NaN         2       714       902         288         0   \n",
       "1    190      NaN         2       855      1043         288         0   \n",
       "2    190      NaN         2      1131      1336         305         0   \n",
       "3    190      NaN         2      1644      1843         299         0   \n",
       "4    196      NaN         2       720       824         184         0   \n",
       "\n",
       "   Orig WAC  Dest WAC  \n",
       "0        36        91  \n",
       "1        36        91  \n",
       "2        36        91  \n",
       "3        36        91  \n",
       "4        74        91  "
      ]
     },
     "execution_count": 87,
     "metadata": {},
     "output_type": "execute_result"
    }
   ],
   "source": [
    "arrivals_df.head()"
   ]
  },
  {
   "cell_type": "code",
   "execution_count": 88,
   "metadata": {},
   "outputs": [],
   "source": [
    "bin_edges = []\n",
    "for hour in range(24):\n",
    "    bin_edges.append(hour * 100)\n",
    "    bin_edges.append(hour * 100 + 30)"
   ]
  },
  {
   "cell_type": "code",
   "execution_count": 89,
   "metadata": {},
   "outputs": [
    {
     "data": {
      "text/plain": [
       "44121.21875"
      ]
     },
     "execution_count": 89,
     "metadata": {},
     "output_type": "execute_result"
    }
   ],
   "source": [
    "arrivals_df[\"binned_arrival\"] = pd.cut(arrivals_df[\"Arr Time\"], bins=bin_edges, include_lowest=False)\n",
    "arrivals_summed_df = arrivals_df.groupby([\"binned_arrival\", \"Date\"], observed=True)[\"Seats\"].sum().reset_index()\n",
    "arrivals_mean_df = arrivals_summed_df.groupby([\"binned_arrival\"], observed=True)[\"Seats\"].mean().reset_index()\n",
    "arrivals_mean_df.columns = [\"time_interval\", \"observed_mean_arrival_seats\"]\n",
    "sum(arrivals_mean_df[\"observed_mean_arrival_seats\"])"
   ]
  },
  {
   "cell_type": "code",
   "execution_count": 90,
   "metadata": {},
   "outputs": [
    {
     "data": {
      "application/vnd.microsoft.datawrangler.viewer.v0+json": {
       "columns": [
        {
         "name": "index",
         "rawType": "int64",
         "type": "integer"
        },
        {
         "name": "Date",
         "rawType": "object",
         "type": "string"
        },
        {
         "name": "Mkt Al",
         "rawType": "object",
         "type": "string"
        },
        {
         "name": "Alliance",
         "rawType": "object",
         "type": "string"
        },
        {
         "name": "Op Al",
         "rawType": "object",
         "type": "string"
        },
        {
         "name": "Orig",
         "rawType": "object",
         "type": "string"
        },
        {
         "name": "Dest",
         "rawType": "object",
         "type": "string"
        },
        {
         "name": "Miles",
         "rawType": "object",
         "type": "string"
        },
        {
         "name": "Flight",
         "rawType": "int64",
         "type": "integer"
        },
        {
         "name": "Stops",
         "rawType": "int64",
         "type": "integer"
        },
        {
         "name": "Equip",
         "rawType": "object",
         "type": "string"
        },
        {
         "name": "Seats",
         "rawType": "int64",
         "type": "integer"
        },
        {
         "name": "Dep Term",
         "rawType": "int64",
         "type": "integer"
        },
        {
         "name": "Arr Term",
         "rawType": "object",
         "type": "unknown"
        },
        {
         "name": "Dep Time",
         "rawType": "int64",
         "type": "integer"
        },
        {
         "name": "Arr Time",
         "rawType": "int64",
         "type": "integer"
        },
        {
         "name": "Block Mins",
         "rawType": "int64",
         "type": "integer"
        },
        {
         "name": "Arr Flag",
         "rawType": "int64",
         "type": "integer"
        },
        {
         "name": "Orig WAC",
         "rawType": "int64",
         "type": "integer"
        },
        {
         "name": "Dest WAC",
         "rawType": "int64",
         "type": "integer"
        }
       ],
       "conversionMethod": "pd.DataFrame",
       "ref": "1f8eeb23-60ce-4367-bd1f-6fea85daca05",
       "rows": [
        [
         "0",
         "Nov 1, 2024",
         "AA",
         "oneworld",
         "AA",
         "SAN",
         "CLT",
         "2,077",
         "598",
         "0",
         "321",
         "190",
         "2",
         null,
         "645",
         "1427",
         "282",
         "0",
         "91",
         "36"
        ],
        [
         "1",
         "Nov 1, 2024",
         "AA",
         "oneworld",
         "AA",
         "SAN",
         "CLT",
         "2,077",
         "1645",
         "0",
         "321",
         "190",
         "2",
         null,
         "1204",
         "1942",
         "278",
         "0",
         "91",
         "36"
        ],
        [
         "2",
         "Nov 1, 2024",
         "AA",
         "oneworld",
         "AA",
         "SAN",
         "CLT",
         "2,077",
         "2512",
         "0",
         "321",
         "190",
         "2",
         null,
         "2125",
         "503",
         "278",
         "1",
         "91",
         "36"
        ],
        [
         "3",
         "Nov 1, 2024",
         "AA",
         "oneworld",
         "AA",
         "SAN",
         "CLT",
         "2,077",
         "2056",
         "0",
         "321",
         "190",
         "2",
         null,
         "2210",
         "548",
         "278",
         "1",
         "91",
         "36"
        ],
        [
         "4",
         "Nov 1, 2024",
         "AA",
         "oneworld",
         "AA",
         "SAN",
         "DFW",
         "1,171",
         "2090",
         "0",
         "321",
         "190",
         "2",
         null,
         "615",
         "1126",
         "191",
         "0",
         "91",
         "74"
        ]
       ],
       "shape": {
        "columns": 19,
        "rows": 5
       }
      },
      "text/html": [
       "<div>\n",
       "<style scoped>\n",
       "    .dataframe tbody tr th:only-of-type {\n",
       "        vertical-align: middle;\n",
       "    }\n",
       "\n",
       "    .dataframe tbody tr th {\n",
       "        vertical-align: top;\n",
       "    }\n",
       "\n",
       "    .dataframe thead th {\n",
       "        text-align: right;\n",
       "    }\n",
       "</style>\n",
       "<table border=\"1\" class=\"dataframe\">\n",
       "  <thead>\n",
       "    <tr style=\"text-align: right;\">\n",
       "      <th></th>\n",
       "      <th>Date</th>\n",
       "      <th>Mkt Al</th>\n",
       "      <th>Alliance</th>\n",
       "      <th>Op Al</th>\n",
       "      <th>Orig</th>\n",
       "      <th>Dest</th>\n",
       "      <th>Miles</th>\n",
       "      <th>Flight</th>\n",
       "      <th>Stops</th>\n",
       "      <th>Equip</th>\n",
       "      <th>Seats</th>\n",
       "      <th>Dep Term</th>\n",
       "      <th>Arr Term</th>\n",
       "      <th>Dep Time</th>\n",
       "      <th>Arr Time</th>\n",
       "      <th>Block Mins</th>\n",
       "      <th>Arr Flag</th>\n",
       "      <th>Orig WAC</th>\n",
       "      <th>Dest WAC</th>\n",
       "    </tr>\n",
       "  </thead>\n",
       "  <tbody>\n",
       "    <tr>\n",
       "      <th>0</th>\n",
       "      <td>Nov 1, 2024</td>\n",
       "      <td>AA</td>\n",
       "      <td>oneworld</td>\n",
       "      <td>AA</td>\n",
       "      <td>SAN</td>\n",
       "      <td>CLT</td>\n",
       "      <td>2,077</td>\n",
       "      <td>598</td>\n",
       "      <td>0</td>\n",
       "      <td>321</td>\n",
       "      <td>190</td>\n",
       "      <td>2</td>\n",
       "      <td>NaN</td>\n",
       "      <td>645</td>\n",
       "      <td>1427</td>\n",
       "      <td>282</td>\n",
       "      <td>0</td>\n",
       "      <td>91</td>\n",
       "      <td>36</td>\n",
       "    </tr>\n",
       "    <tr>\n",
       "      <th>1</th>\n",
       "      <td>Nov 1, 2024</td>\n",
       "      <td>AA</td>\n",
       "      <td>oneworld</td>\n",
       "      <td>AA</td>\n",
       "      <td>SAN</td>\n",
       "      <td>CLT</td>\n",
       "      <td>2,077</td>\n",
       "      <td>1645</td>\n",
       "      <td>0</td>\n",
       "      <td>321</td>\n",
       "      <td>190</td>\n",
       "      <td>2</td>\n",
       "      <td>NaN</td>\n",
       "      <td>1204</td>\n",
       "      <td>1942</td>\n",
       "      <td>278</td>\n",
       "      <td>0</td>\n",
       "      <td>91</td>\n",
       "      <td>36</td>\n",
       "    </tr>\n",
       "    <tr>\n",
       "      <th>2</th>\n",
       "      <td>Nov 1, 2024</td>\n",
       "      <td>AA</td>\n",
       "      <td>oneworld</td>\n",
       "      <td>AA</td>\n",
       "      <td>SAN</td>\n",
       "      <td>CLT</td>\n",
       "      <td>2,077</td>\n",
       "      <td>2512</td>\n",
       "      <td>0</td>\n",
       "      <td>321</td>\n",
       "      <td>190</td>\n",
       "      <td>2</td>\n",
       "      <td>NaN</td>\n",
       "      <td>2125</td>\n",
       "      <td>503</td>\n",
       "      <td>278</td>\n",
       "      <td>1</td>\n",
       "      <td>91</td>\n",
       "      <td>36</td>\n",
       "    </tr>\n",
       "    <tr>\n",
       "      <th>3</th>\n",
       "      <td>Nov 1, 2024</td>\n",
       "      <td>AA</td>\n",
       "      <td>oneworld</td>\n",
       "      <td>AA</td>\n",
       "      <td>SAN</td>\n",
       "      <td>CLT</td>\n",
       "      <td>2,077</td>\n",
       "      <td>2056</td>\n",
       "      <td>0</td>\n",
       "      <td>321</td>\n",
       "      <td>190</td>\n",
       "      <td>2</td>\n",
       "      <td>NaN</td>\n",
       "      <td>2210</td>\n",
       "      <td>548</td>\n",
       "      <td>278</td>\n",
       "      <td>1</td>\n",
       "      <td>91</td>\n",
       "      <td>36</td>\n",
       "    </tr>\n",
       "    <tr>\n",
       "      <th>4</th>\n",
       "      <td>Nov 1, 2024</td>\n",
       "      <td>AA</td>\n",
       "      <td>oneworld</td>\n",
       "      <td>AA</td>\n",
       "      <td>SAN</td>\n",
       "      <td>DFW</td>\n",
       "      <td>1,171</td>\n",
       "      <td>2090</td>\n",
       "      <td>0</td>\n",
       "      <td>321</td>\n",
       "      <td>190</td>\n",
       "      <td>2</td>\n",
       "      <td>NaN</td>\n",
       "      <td>615</td>\n",
       "      <td>1126</td>\n",
       "      <td>191</td>\n",
       "      <td>0</td>\n",
       "      <td>91</td>\n",
       "      <td>74</td>\n",
       "    </tr>\n",
       "  </tbody>\n",
       "</table>\n",
       "</div>"
      ],
      "text/plain": [
       "          Date Mkt Al  Alliance Op Al Orig Dest  Miles  Flight  Stops Equip  \\\n",
       "0  Nov 1, 2024     AA  oneworld    AA  SAN  CLT  2,077     598      0   321   \n",
       "1  Nov 1, 2024     AA  oneworld    AA  SAN  CLT  2,077    1645      0   321   \n",
       "2  Nov 1, 2024     AA  oneworld    AA  SAN  CLT  2,077    2512      0   321   \n",
       "3  Nov 1, 2024     AA  oneworld    AA  SAN  CLT  2,077    2056      0   321   \n",
       "4  Nov 1, 2024     AA  oneworld    AA  SAN  DFW  1,171    2090      0   321   \n",
       "\n",
       "   Seats  Dep Term Arr Term  Dep Time  Arr Time  Block Mins  Arr Flag  \\\n",
       "0    190         2      NaN       645      1427         282         0   \n",
       "1    190         2      NaN      1204      1942         278         0   \n",
       "2    190         2      NaN      2125       503         278         1   \n",
       "3    190         2      NaN      2210       548         278         1   \n",
       "4    190         2      NaN       615      1126         191         0   \n",
       "\n",
       "   Orig WAC  Dest WAC  \n",
       "0        91        36  \n",
       "1        91        36  \n",
       "2        91        36  \n",
       "3        91        36  \n",
       "4        91        74  "
      ]
     },
     "execution_count": 90,
     "metadata": {},
     "output_type": "execute_result"
    }
   ],
   "source": [
    "departures_df.head()"
   ]
  },
  {
   "cell_type": "code",
   "execution_count": 91,
   "metadata": {},
   "outputs": [
    {
     "data": {
      "text/plain": [
       "43864.06754032258"
      ]
     },
     "execution_count": 91,
     "metadata": {},
     "output_type": "execute_result"
    }
   ],
   "source": [
    "departures_df[\"binned_departure\"] = pd.cut(departures_df[\"Dep Time\"], bins=bin_edges, include_lowest=False)\n",
    "departures_summed_df = departures_df.groupby([\"binned_departure\", \"Date\"], observed=True)[\"Seats\"].sum().reset_index()\n",
    "departures_mean_df = departures_summed_df.groupby([\"binned_departure\"], observed=True)[\"Seats\"].mean().reset_index()\n",
    "departures_mean_df.columns = [\"time_interval\", \"observed_mean_departure_seats\"]\n",
    "sum(departures_mean_df[\"observed_mean_departure_seats\"])"
   ]
  },
  {
   "cell_type": "code",
   "execution_count": 92,
   "metadata": {},
   "outputs": [
    {
     "data": {
      "application/vnd.microsoft.datawrangler.viewer.v0+json": {
       "columns": [
        {
         "name": "index",
         "rawType": "int64",
         "type": "integer"
        },
        {
         "name": "time_interval",
         "rawType": "category",
         "type": "unknown"
        },
        {
         "name": "observed_mean_arrival_seats",
         "rawType": "float64",
         "type": "float"
        },
        {
         "name": "observed_mean_departure_seats",
         "rawType": "float64",
         "type": "float"
        },
        {
         "name": "time_index",
         "rawType": "int64",
         "type": "integer"
        }
       ],
       "conversionMethod": "pd.DataFrame",
       "ref": "febc60f3-bd64-454e-8659-61f7a2ec4118",
       "rows": [
        [
         "0",
         "(630, 700]",
         "232.0",
         "1599.03125",
         "4"
        ],
        [
         "1",
         "(700, 730]",
         "794.375",
         "1285.53125",
         "5"
        ],
        [
         "2",
         "(730, 800]",
         "1117.5",
         "2680.28125",
         "6"
        ],
        [
         "3",
         "(800, 830]",
         "976.46875",
         "1063.40625",
         "7"
        ],
        [
         "4",
         "(830, 900]",
         "954.46875",
         "1593.6875",
         "8"
        ]
       ],
       "shape": {
        "columns": 4,
        "rows": 5
       }
      },
      "text/html": [
       "<div>\n",
       "<style scoped>\n",
       "    .dataframe tbody tr th:only-of-type {\n",
       "        vertical-align: middle;\n",
       "    }\n",
       "\n",
       "    .dataframe tbody tr th {\n",
       "        vertical-align: top;\n",
       "    }\n",
       "\n",
       "    .dataframe thead th {\n",
       "        text-align: right;\n",
       "    }\n",
       "</style>\n",
       "<table border=\"1\" class=\"dataframe\">\n",
       "  <thead>\n",
       "    <tr style=\"text-align: right;\">\n",
       "      <th></th>\n",
       "      <th>time_interval</th>\n",
       "      <th>observed_mean_arrival_seats</th>\n",
       "      <th>observed_mean_departure_seats</th>\n",
       "      <th>time_index</th>\n",
       "    </tr>\n",
       "  </thead>\n",
       "  <tbody>\n",
       "    <tr>\n",
       "      <th>0</th>\n",
       "      <td>(630, 700]</td>\n",
       "      <td>232.00000</td>\n",
       "      <td>1599.03125</td>\n",
       "      <td>4</td>\n",
       "    </tr>\n",
       "    <tr>\n",
       "      <th>1</th>\n",
       "      <td>(700, 730]</td>\n",
       "      <td>794.37500</td>\n",
       "      <td>1285.53125</td>\n",
       "      <td>5</td>\n",
       "    </tr>\n",
       "    <tr>\n",
       "      <th>2</th>\n",
       "      <td>(730, 800]</td>\n",
       "      <td>1117.50000</td>\n",
       "      <td>2680.28125</td>\n",
       "      <td>6</td>\n",
       "    </tr>\n",
       "    <tr>\n",
       "      <th>3</th>\n",
       "      <td>(800, 830]</td>\n",
       "      <td>976.46875</td>\n",
       "      <td>1063.40625</td>\n",
       "      <td>7</td>\n",
       "    </tr>\n",
       "    <tr>\n",
       "      <th>4</th>\n",
       "      <td>(830, 900]</td>\n",
       "      <td>954.46875</td>\n",
       "      <td>1593.68750</td>\n",
       "      <td>8</td>\n",
       "    </tr>\n",
       "  </tbody>\n",
       "</table>\n",
       "</div>"
      ],
      "text/plain": [
       "  time_interval  observed_mean_arrival_seats  observed_mean_departure_seats  \\\n",
       "0    (630, 700]                    232.00000                     1599.03125   \n",
       "1    (700, 730]                    794.37500                     1285.53125   \n",
       "2    (730, 800]                   1117.50000                     2680.28125   \n",
       "3    (800, 830]                    976.46875                     1063.40625   \n",
       "4    (830, 900]                    954.46875                     1593.68750   \n",
       "\n",
       "   time_index  \n",
       "0           4  \n",
       "1           5  \n",
       "2           6  \n",
       "3           7  \n",
       "4           8  "
      ]
     },
     "execution_count": 92,
     "metadata": {},
     "output_type": "execute_result"
    }
   ],
   "source": [
    "observed_df = pd.merge(arrivals_mean_df, departures_mean_df, on=\"time_interval\")\n",
    "observed_df[\"time_index\"] = observed_df.index + 4\n",
    "observed_df.head()"
   ]
  },
  {
   "cell_type": "code",
   "execution_count": 97,
   "metadata": {},
   "outputs": [
    {
     "data": {
      "application/vnd.microsoft.datawrangler.viewer.v0+json": {
       "columns": [
        {
         "name": "index",
         "rawType": "int64",
         "type": "integer"
        },
        {
         "name": "unique_id",
         "rawType": "int64",
         "type": "integer"
        },
        {
         "name": "is_completed",
         "rawType": "bool",
         "type": "boolean"
        },
        {
         "name": "inbound_or_outbound",
         "rawType": "float64",
         "type": "float"
        },
        {
         "name": "marketsegment",
         "rawType": "int64",
         "type": "integer"
        },
        {
         "name": "flight_arrival_time",
         "rawType": "float64",
         "type": "float"
        },
        {
         "name": "flight_departure_time",
         "rawType": "float64",
         "type": "float"
        },
        {
         "name": "party_size_flight",
         "rawType": "float64",
         "type": "float"
        },
        {
         "name": "weight",
         "rawType": "float64",
         "type": "float"
        },
        {
         "name": "travelers",
         "rawType": "float64",
         "type": "float"
        }
       ],
       "conversionMethod": "pd.DataFrame",
       "ref": "546b41ad-5df2-4ee3-ba7b-e5e2dd0256e7",
       "rows": [
        [
         "458",
         "459",
         "True",
         "2.0",
         "1",
         "17.0",
         null,
         "1.0",
         "3.681495613584517",
         "3.681495613584517"
        ],
        [
         "459",
         "460",
         "True",
         "2.0",
         "1",
         "20.0",
         null,
         "0.0",
         "1.8055461952011376",
         "0.0"
        ],
        [
         "460",
         "461",
         "True",
         "2.0",
         "1",
         "24.0",
         null,
         "0.0",
         "1.8055461952011376",
         "0.0"
        ],
        [
         "461",
         "462",
         "True",
         "2.0",
         "1",
         "17.0",
         null,
         "0.0",
         "1.187835724729594",
         "0.0"
        ],
        [
         "462",
         "463",
         "True",
         "2.0",
         "1",
         "18.0",
         null,
         "0.0",
         "1.4842501607617264",
         "0.0"
        ]
       ],
       "shape": {
        "columns": 9,
        "rows": 5
       }
      },
      "text/html": [
       "<div>\n",
       "<style scoped>\n",
       "    .dataframe tbody tr th:only-of-type {\n",
       "        vertical-align: middle;\n",
       "    }\n",
       "\n",
       "    .dataframe tbody tr th {\n",
       "        vertical-align: top;\n",
       "    }\n",
       "\n",
       "    .dataframe thead th {\n",
       "        text-align: right;\n",
       "    }\n",
       "</style>\n",
       "<table border=\"1\" class=\"dataframe\">\n",
       "  <thead>\n",
       "    <tr style=\"text-align: right;\">\n",
       "      <th></th>\n",
       "      <th>unique_id</th>\n",
       "      <th>is_completed</th>\n",
       "      <th>inbound_or_outbound</th>\n",
       "      <th>marketsegment</th>\n",
       "      <th>flight_arrival_time</th>\n",
       "      <th>flight_departure_time</th>\n",
       "      <th>party_size_flight</th>\n",
       "      <th>weight</th>\n",
       "      <th>travelers</th>\n",
       "    </tr>\n",
       "  </thead>\n",
       "  <tbody>\n",
       "    <tr>\n",
       "      <th>458</th>\n",
       "      <td>459</td>\n",
       "      <td>True</td>\n",
       "      <td>2.0</td>\n",
       "      <td>1</td>\n",
       "      <td>17.0</td>\n",
       "      <td>NaN</td>\n",
       "      <td>1.0</td>\n",
       "      <td>3.681496</td>\n",
       "      <td>3.681496</td>\n",
       "    </tr>\n",
       "    <tr>\n",
       "      <th>459</th>\n",
       "      <td>460</td>\n",
       "      <td>True</td>\n",
       "      <td>2.0</td>\n",
       "      <td>1</td>\n",
       "      <td>20.0</td>\n",
       "      <td>NaN</td>\n",
       "      <td>0.0</td>\n",
       "      <td>1.805546</td>\n",
       "      <td>0.000000</td>\n",
       "    </tr>\n",
       "    <tr>\n",
       "      <th>460</th>\n",
       "      <td>461</td>\n",
       "      <td>True</td>\n",
       "      <td>2.0</td>\n",
       "      <td>1</td>\n",
       "      <td>24.0</td>\n",
       "      <td>NaN</td>\n",
       "      <td>0.0</td>\n",
       "      <td>1.805546</td>\n",
       "      <td>0.000000</td>\n",
       "    </tr>\n",
       "    <tr>\n",
       "      <th>461</th>\n",
       "      <td>462</td>\n",
       "      <td>True</td>\n",
       "      <td>2.0</td>\n",
       "      <td>1</td>\n",
       "      <td>17.0</td>\n",
       "      <td>NaN</td>\n",
       "      <td>0.0</td>\n",
       "      <td>1.187836</td>\n",
       "      <td>0.000000</td>\n",
       "    </tr>\n",
       "    <tr>\n",
       "      <th>462</th>\n",
       "      <td>463</td>\n",
       "      <td>True</td>\n",
       "      <td>2.0</td>\n",
       "      <td>1</td>\n",
       "      <td>18.0</td>\n",
       "      <td>NaN</td>\n",
       "      <td>0.0</td>\n",
       "      <td>1.484250</td>\n",
       "      <td>0.000000</td>\n",
       "    </tr>\n",
       "  </tbody>\n",
       "</table>\n",
       "</div>"
      ],
      "text/plain": [
       "     unique_id  is_completed  inbound_or_outbound  marketsegment  \\\n",
       "458        459          True                  2.0              1   \n",
       "459        460          True                  2.0              1   \n",
       "460        461          True                  2.0              1   \n",
       "461        462          True                  2.0              1   \n",
       "462        463          True                  2.0              1   \n",
       "\n",
       "     flight_arrival_time  flight_departure_time  party_size_flight    weight  \\\n",
       "458                 17.0                    NaN                1.0  3.681496   \n",
       "459                 20.0                    NaN                0.0  1.805546   \n",
       "460                 24.0                    NaN                0.0  1.805546   \n",
       "461                 17.0                    NaN                0.0  1.187836   \n",
       "462                 18.0                    NaN                0.0  1.484250   \n",
       "\n",
       "     travelers  \n",
       "458   3.681496  \n",
       "459   0.000000  \n",
       "460   0.000000  \n",
       "461   0.000000  \n",
       "462   0.000000  "
      ]
     },
     "execution_count": 97,
     "metadata": {},
     "output_type": "execute_result"
    }
   ],
   "source": [
    "working_df = survey_df[[\n",
    "    \"unique_id\", \"is_completed\", \"inbound_or_outbound\", \"marketsegment\", \"flight_arrival_time\", \"flight_departure_time\", \"party_size_flight\",  \"weight\"\n",
    "    ]].copy()\n",
    "working_df = working_df.loc[working_df[\"marketsegment\"] == e.Type.PASSENGER].copy()\n",
    "working_df[\"travelers\"] = working_df[\"weight\"] * working_df[\"party_size_flight\"]\n",
    "working_df.head()"
   ]
  },
  {
   "cell_type": "code",
   "execution_count": 101,
   "metadata": {},
   "outputs": [
    {
     "data": {
      "application/vnd.microsoft.datawrangler.viewer.v0+json": {
       "columns": [
        {
         "name": "index",
         "rawType": "int64",
         "type": "integer"
        },
        {
         "name": "time_index",
         "rawType": "float64",
         "type": "float"
        },
        {
         "name": "survey_arrivals",
         "rawType": "float64",
         "type": "float"
        },
        {
         "name": "survey_arrivals_observations",
         "rawType": "int64",
         "type": "integer"
        },
        {
         "name": "survey_departures",
         "rawType": "float64",
         "type": "float"
        },
        {
         "name": "survey_departures_observations",
         "rawType": "int64",
         "type": "integer"
        }
       ],
       "conversionMethod": "pd.DataFrame",
       "ref": "7013828c-896d-40ba-910b-2a41baaded00",
       "rows": [
        [
         "0",
         "3.0",
         "2.3578862158960208",
         "3",
         "19.88849805944846",
         "10"
        ],
        [
         "1",
         "4.0",
         "7.241261997400231",
         "2",
         "159.3319209063778",
         "12"
        ],
        [
         "2",
         "5.0",
         "14.12753613203672",
         "9",
         "138.33574368233332",
         "52"
        ],
        [
         "3",
         "6.0",
         "65.54484414374099",
         "6",
         "89.36987124016333",
         "40"
        ],
        [
         "4",
         "7.0",
         "8.484612356631942",
         "7",
         "2216.9516402904233",
         "314"
        ]
       ],
       "shape": {
        "columns": 5,
        "rows": 5
       }
      },
      "text/html": [
       "<div>\n",
       "<style scoped>\n",
       "    .dataframe tbody tr th:only-of-type {\n",
       "        vertical-align: middle;\n",
       "    }\n",
       "\n",
       "    .dataframe tbody tr th {\n",
       "        vertical-align: top;\n",
       "    }\n",
       "\n",
       "    .dataframe thead th {\n",
       "        text-align: right;\n",
       "    }\n",
       "</style>\n",
       "<table border=\"1\" class=\"dataframe\">\n",
       "  <thead>\n",
       "    <tr style=\"text-align: right;\">\n",
       "      <th></th>\n",
       "      <th>time_index</th>\n",
       "      <th>survey_arrivals</th>\n",
       "      <th>survey_arrivals_observations</th>\n",
       "      <th>survey_departures</th>\n",
       "      <th>survey_departures_observations</th>\n",
       "    </tr>\n",
       "  </thead>\n",
       "  <tbody>\n",
       "    <tr>\n",
       "      <th>0</th>\n",
       "      <td>3.0</td>\n",
       "      <td>2.357886</td>\n",
       "      <td>3</td>\n",
       "      <td>19.888498</td>\n",
       "      <td>10</td>\n",
       "    </tr>\n",
       "    <tr>\n",
       "      <th>1</th>\n",
       "      <td>4.0</td>\n",
       "      <td>7.241262</td>\n",
       "      <td>2</td>\n",
       "      <td>159.331921</td>\n",
       "      <td>12</td>\n",
       "    </tr>\n",
       "    <tr>\n",
       "      <th>2</th>\n",
       "      <td>5.0</td>\n",
       "      <td>14.127536</td>\n",
       "      <td>9</td>\n",
       "      <td>138.335744</td>\n",
       "      <td>52</td>\n",
       "    </tr>\n",
       "    <tr>\n",
       "      <th>3</th>\n",
       "      <td>6.0</td>\n",
       "      <td>65.544844</td>\n",
       "      <td>6</td>\n",
       "      <td>89.369871</td>\n",
       "      <td>40</td>\n",
       "    </tr>\n",
       "    <tr>\n",
       "      <th>4</th>\n",
       "      <td>7.0</td>\n",
       "      <td>8.484612</td>\n",
       "      <td>7</td>\n",
       "      <td>2216.951640</td>\n",
       "      <td>314</td>\n",
       "    </tr>\n",
       "  </tbody>\n",
       "</table>\n",
       "</div>"
      ],
      "text/plain": [
       "   time_index  survey_arrivals  survey_arrivals_observations  \\\n",
       "0         3.0         2.357886                             3   \n",
       "1         4.0         7.241262                             2   \n",
       "2         5.0        14.127536                             9   \n",
       "3         6.0        65.544844                             6   \n",
       "4         7.0         8.484612                             7   \n",
       "\n",
       "   survey_departures  survey_departures_observations  \n",
       "0          19.888498                              10  \n",
       "1         159.331921                              12  \n",
       "2         138.335744                              52  \n",
       "3          89.369871                              40  \n",
       "4        2216.951640                             314  "
      ]
     },
     "execution_count": 101,
     "metadata": {},
     "output_type": "execute_result"
    }
   ],
   "source": [
    "survey_arrivals_df = working_df.groupby([\"flight_arrival_time\"], observed=True)[\"travelers\"].agg([\"sum\", \"count\"]).reset_index()\n",
    "survey_arrivals_df.columns = [\"time_index\", \"survey_arrivals\", \"survey_arrivals_observations\"]\n",
    "survey_departures_df = working_df.groupby([\"flight_departure_time\"], observed=True)[\"travelers\"].agg([\"sum\", \"count\"]).reset_index()\n",
    "survey_departures_df.columns = [\"time_index\", \"survey_departures\", \"survey_departures_observations\"]\n",
    "\n",
    "join_df = pd.merge(survey_arrivals_df, survey_departures_df, on=\"time_index\")\n",
    "join_df.head()"
   ]
  },
  {
   "cell_type": "code",
   "execution_count": 102,
   "metadata": {},
   "outputs": [
    {
     "data": {
      "application/vnd.microsoft.datawrangler.viewer.v0+json": {
       "columns": [
        {
         "name": "index",
         "rawType": "int64",
         "type": "integer"
        },
        {
         "name": "time_interval",
         "rawType": "category",
         "type": "unknown"
        },
        {
         "name": "observed_mean_arrival_seats",
         "rawType": "float64",
         "type": "float"
        },
        {
         "name": "observed_mean_departure_seats",
         "rawType": "float64",
         "type": "float"
        },
        {
         "name": "time_index",
         "rawType": "int64",
         "type": "integer"
        },
        {
         "name": "survey_arrivals",
         "rawType": "float64",
         "type": "float"
        },
        {
         "name": "survey_arrivals_observations",
         "rawType": "int64",
         "type": "integer"
        },
        {
         "name": "survey_departures",
         "rawType": "float64",
         "type": "float"
        },
        {
         "name": "survey_departures_observations",
         "rawType": "int64",
         "type": "integer"
        },
        {
         "name": "time_label",
         "rawType": "object",
         "type": "string"
        }
       ],
       "conversionMethod": "pd.DataFrame",
       "ref": "e671a732-4a06-4a6a-8ecf-3ec5f186befc",
       "rows": [
        [
         "0",
         "(630, 700]",
         "232.0",
         "1599.03125",
         "4",
         "7.241261997400231",
         "2",
         "159.3319209063778",
         "12",
         "SIX_THIRTY_TO_SEVEN"
        ],
        [
         "1",
         "(700, 730]",
         "794.375",
         "1285.53125",
         "5",
         "14.12753613203672",
         "9",
         "138.33574368233332",
         "52",
         "SEVEN_TO_SEVEN_THIRTY"
        ],
        [
         "2",
         "(730, 800]",
         "1117.5",
         "2680.28125",
         "6",
         "65.54484414374099",
         "6",
         "89.36987124016333",
         "40",
         "SEVEN_THIRTY_TO_EIGHT"
        ],
        [
         "3",
         "(800, 830]",
         "976.46875",
         "1063.40625",
         "7",
         "8.484612356631942",
         "7",
         "2216.9516402904233",
         "314",
         "EIGHT_TO_EIGHT_THIRTY"
        ],
        [
         "4",
         "(830, 900]",
         "954.46875",
         "1593.6875",
         "8",
         "77.31699473069321",
         "6",
         "2244.515197255306",
         "254",
         "EIGHT_THIRTY_TO_NINE"
        ]
       ],
       "shape": {
        "columns": 9,
        "rows": 5
       }
      },
      "text/html": [
       "<div>\n",
       "<style scoped>\n",
       "    .dataframe tbody tr th:only-of-type {\n",
       "        vertical-align: middle;\n",
       "    }\n",
       "\n",
       "    .dataframe tbody tr th {\n",
       "        vertical-align: top;\n",
       "    }\n",
       "\n",
       "    .dataframe thead th {\n",
       "        text-align: right;\n",
       "    }\n",
       "</style>\n",
       "<table border=\"1\" class=\"dataframe\">\n",
       "  <thead>\n",
       "    <tr style=\"text-align: right;\">\n",
       "      <th></th>\n",
       "      <th>time_interval</th>\n",
       "      <th>observed_mean_arrival_seats</th>\n",
       "      <th>observed_mean_departure_seats</th>\n",
       "      <th>time_index</th>\n",
       "      <th>survey_arrivals</th>\n",
       "      <th>survey_arrivals_observations</th>\n",
       "      <th>survey_departures</th>\n",
       "      <th>survey_departures_observations</th>\n",
       "      <th>time_label</th>\n",
       "    </tr>\n",
       "  </thead>\n",
       "  <tbody>\n",
       "    <tr>\n",
       "      <th>0</th>\n",
       "      <td>(630, 700]</td>\n",
       "      <td>232.00000</td>\n",
       "      <td>1599.03125</td>\n",
       "      <td>4</td>\n",
       "      <td>7.241262</td>\n",
       "      <td>2</td>\n",
       "      <td>159.331921</td>\n",
       "      <td>12</td>\n",
       "      <td>SIX_THIRTY_TO_SEVEN</td>\n",
       "    </tr>\n",
       "    <tr>\n",
       "      <th>1</th>\n",
       "      <td>(700, 730]</td>\n",
       "      <td>794.37500</td>\n",
       "      <td>1285.53125</td>\n",
       "      <td>5</td>\n",
       "      <td>14.127536</td>\n",
       "      <td>9</td>\n",
       "      <td>138.335744</td>\n",
       "      <td>52</td>\n",
       "      <td>SEVEN_TO_SEVEN_THIRTY</td>\n",
       "    </tr>\n",
       "    <tr>\n",
       "      <th>2</th>\n",
       "      <td>(730, 800]</td>\n",
       "      <td>1117.50000</td>\n",
       "      <td>2680.28125</td>\n",
       "      <td>6</td>\n",
       "      <td>65.544844</td>\n",
       "      <td>6</td>\n",
       "      <td>89.369871</td>\n",
       "      <td>40</td>\n",
       "      <td>SEVEN_THIRTY_TO_EIGHT</td>\n",
       "    </tr>\n",
       "    <tr>\n",
       "      <th>3</th>\n",
       "      <td>(800, 830]</td>\n",
       "      <td>976.46875</td>\n",
       "      <td>1063.40625</td>\n",
       "      <td>7</td>\n",
       "      <td>8.484612</td>\n",
       "      <td>7</td>\n",
       "      <td>2216.951640</td>\n",
       "      <td>314</td>\n",
       "      <td>EIGHT_TO_EIGHT_THIRTY</td>\n",
       "    </tr>\n",
       "    <tr>\n",
       "      <th>4</th>\n",
       "      <td>(830, 900]</td>\n",
       "      <td>954.46875</td>\n",
       "      <td>1593.68750</td>\n",
       "      <td>8</td>\n",
       "      <td>77.316995</td>\n",
       "      <td>6</td>\n",
       "      <td>2244.515197</td>\n",
       "      <td>254</td>\n",
       "      <td>EIGHT_THIRTY_TO_NINE</td>\n",
       "    </tr>\n",
       "  </tbody>\n",
       "</table>\n",
       "</div>"
      ],
      "text/plain": [
       "  time_interval  observed_mean_arrival_seats  observed_mean_departure_seats  \\\n",
       "0    (630, 700]                    232.00000                     1599.03125   \n",
       "1    (700, 730]                    794.37500                     1285.53125   \n",
       "2    (730, 800]                   1117.50000                     2680.28125   \n",
       "3    (800, 830]                    976.46875                     1063.40625   \n",
       "4    (830, 900]                    954.46875                     1593.68750   \n",
       "\n",
       "   time_index  survey_arrivals  survey_arrivals_observations  \\\n",
       "0           4         7.241262                             2   \n",
       "1           5        14.127536                             9   \n",
       "2           6        65.544844                             6   \n",
       "3           7         8.484612                             7   \n",
       "4           8        77.316995                             6   \n",
       "\n",
       "   survey_departures  survey_departures_observations             time_label  \n",
       "0         159.331921                              12    SIX_THIRTY_TO_SEVEN  \n",
       "1         138.335744                              52  SEVEN_TO_SEVEN_THIRTY  \n",
       "2          89.369871                              40  SEVEN_THIRTY_TO_EIGHT  \n",
       "3        2216.951640                             314  EIGHT_TO_EIGHT_THIRTY  \n",
       "4        2244.515197                             254   EIGHT_THIRTY_TO_NINE  "
      ]
     },
     "execution_count": 102,
     "metadata": {},
     "output_type": "execute_result"
    }
   ],
   "source": [
    "output_df = pd.merge(observed_df, join_df, on=\"time_index\")\n",
    "output_df[\"time_index\"] = output_df[\"time_index\"].astype(\"int\")\n",
    "output_df[\"time_label\"] = output_df[\"time_index\"].apply(lambda x: e.DepartTime(x).name)\n",
    "output_df.head()"
   ]
  },
  {
   "cell_type": "code",
   "execution_count": 103,
   "metadata": {},
   "outputs": [],
   "source": [
    "output_df.to_csv(output_file, index=False)"
   ]
  },
  {
   "cell_type": "code",
   "execution_count": null,
   "metadata": {},
   "outputs": [],
   "source": []
  }
 ],
 "metadata": {
  "kernelspec": {
   "display_name": "sandag_air",
   "language": "python",
   "name": "python3"
  },
  "language_info": {
   "codemirror_mode": {
    "name": "ipython",
    "version": 3
   },
   "file_extension": ".py",
   "mimetype": "text/x-python",
   "name": "python",
   "nbconvert_exporter": "python",
   "pygments_lexer": "ipython3",
   "version": "3.12.8"
  }
 },
 "nbformat": 4,
 "nbformat_minor": 2
}
