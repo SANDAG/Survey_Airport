{
 "cells": [
  {
   "cell_type": "markdown",
   "metadata": {},
   "source": [
    "# Make Excel Data Dictionary from Data Model\n",
    "\n",
    "This code examines the data model files in the `./data_model/` path and renders a data dictionary in Excel."
   ]
  },
  {
   "cell_type": "code",
   "execution_count": 1,
   "metadata": {},
   "outputs": [],
   "source": [
    "import sys\n",
    "import os\n",
    "import importlib\n",
    "sys.path.insert(0, os.path.abspath(\"../data_model/\"))"
   ]
  },
  {
   "cell_type": "code",
   "execution_count": 2,
   "metadata": {},
   "outputs": [],
   "source": [
    "import inspect\n",
    "from pydantic import BaseModel, Field\n",
    "from openpyxl import Workbook\n",
    "from typing import Optional, get_origin, get_args\n",
    "import data_model\n",
    "import enums as e\n",
    "from enum import Enum"
   ]
  },
  {
   "cell_type": "markdown",
   "metadata": {},
   "source": [
    "## Input/Output"
   ]
  },
  {
   "cell_type": "code",
   "execution_count": 3,
   "metadata": {},
   "outputs": [],
   "source": [
    "output_file = \"../reports/data_dictionary.xlsx\""
   ]
  },
  {
   "cell_type": "markdown",
   "metadata": {},
   "source": [
    "## Methods"
   ]
  },
  {
   "cell_type": "code",
   "execution_count": 4,
   "metadata": {},
   "outputs": [],
   "source": [
    "done_fields = []\n",
    "def document_pydantic_model(model_cls, class_name, ws, enum_ws, enums_set):\n",
    "    # Extracting docstrings, field descriptions, and types\n",
    "    #class_name = model_cls.__name__\n",
    "\n",
    "    # Collecting field details\n",
    "    field_details = {}\n",
    "    for field_name, field_info in model_cls.__fields__.items():\n",
    "        description = field_info.description or \"No description available.\"\n",
    "        field_class = field_info.annotation\n",
    "        if field_class.__name__ in (\"Optional\", \"Union\"):\n",
    "            field_class =  get_args(field_info.annotation)[0]\n",
    "\n",
    "        datatype = field_class.__name__\n",
    "        response_option = \"Actual Value\"\n",
    "        if issubclass(field_class, Enum):\n",
    "            response_option = field_class.__name__\n",
    "            datatype = \"int\"\n",
    "            if field_class not in enums_set:\n",
    "                for e_value in field_class:\n",
    "                    enums_set.add(field_class)\n",
    "                    enum_ws.append([field_class.__name__, e_value.value, e_value.name])\n",
    "                enum_ws.append([])\n",
    "\n",
    "        field_details[field_name] = (datatype, response_option, description, class_name)\n",
    "\n",
    "        # Collecting computed variables (properties without a Pydantic field)\n",
    "    computed_variables = [\n",
    "        attr for attr in dir(model_cls)\n",
    "        if isinstance(getattr(model_cls, attr), property) and attr not in model_cls.__fields__ and attr not in {\"__fields_set__\", \"model_extra\", \"model_fields_set\"}\n",
    "    ]\n",
    "    for computed_var in computed_variables:\n",
    "        description = getattr(model_cls, computed_var).__doc__ or \"Computed property.\"\n",
    "        datatype = \"int\"\n",
    "        response_option = \"Computed Value\"\n",
    "        field_details[computed_var] = (datatype, response_option, description, class_name)\n",
    "\n",
    "    # Add field details (name, type, description)\n",
    "    for field, details in field_details.items():\n",
    "        if field not in done_fields:\n",
    "            datatype, response_option, description, class_name = details\n",
    "            ws.append([field, datatype, response_option, description, class_name])\n",
    "            done_fields.append(field)"
   ]
  },
  {
   "cell_type": "code",
   "execution_count": 5,
   "metadata": {},
   "outputs": [],
   "source": [
    "def document_all_models(module, output_file):\n",
    "    # Create a workbook and select the active worksheet\n",
    "    wb = Workbook()\n",
    "    ws = wb.active\n",
    "    ws.title = \"Variables\"\n",
    "\n",
    "    # Add headers\n",
    "    ws.append([\"Field\", \"Data Type\", \"Response Option\", \"Description\", \"Market Segment\"])\n",
    "\n",
    "    # Create a new worksheet for enum mappings\n",
    "    enum_ws = wb.create_sheet(title=\"Response Options (Enums)\")\n",
    "    enum_ws.append([\"Enum\", \"Codes\", \"Labels\"])\n",
    "\n",
    "    enums_set = set()\n",
    "    # Iterate over all classes in the module\n",
    "    for name, obj in inspect.getmembers(module, inspect.isclass):\n",
    "            if name in ['Respondent', 'Trip']:\n",
    "                document_pydantic_model(obj, \"All Respondents\", ws, enum_ws, enums_set)\n",
    "\n",
    "    for name, obj in inspect.getmembers(module, inspect.isclass):\n",
    "            if name in ['AirPassenger','Employee']:\n",
    "                document_pydantic_model(obj, name, ws, enum_ws, enums_set)\n",
    "    # Save the workbook\n",
    "    wb.save(output_file)"
   ]
  },
  {
   "cell_type": "markdown",
   "metadata": {},
   "source": [
    "### Implementation"
   ]
  },
  {
   "cell_type": "code",
   "execution_count": 6,
   "metadata": {},
   "outputs": [],
   "source": [
    "document_all_models(data_model, output_file)"
   ]
  }
 ],
 "metadata": {
  "kernelspec": {
   "display_name": "Python 3",
   "language": "python",
   "name": "python3"
  },
  "language_info": {
   "codemirror_mode": {
    "name": "ipython",
    "version": 3
   },
   "file_extension": ".py",
   "mimetype": "text/x-python",
   "name": "python",
   "nbconvert_exporter": "python",
   "pygments_lexer": "ipython3",
   "version": "3.12.4"
  }
 },
 "nbformat": 4,
 "nbformat_minor": 2
}
