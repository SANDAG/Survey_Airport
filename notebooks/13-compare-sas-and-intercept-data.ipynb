{
 "cells": [
  {
   "cell_type": "code",
   "execution_count": 30,
   "metadata": {},
   "outputs": [],
   "source": [
    "import pandas as pd\n",
    "import os"
   ]
  },
  {
   "cell_type": "code",
   "execution_count": 31,
   "metadata": {},
   "outputs": [],
   "source": [
    "external_dir = \"../data/external\"\n",
    "interim_dir = \"../data/interim\"\n",
    "processed_dir = \"../data/processed\"\n",
    "\n",
    "input_file1 = os.path.join(external_dir, \"etc/od_20241121_sandag_airport_draftfinal.xlsx\") # latest\n",
    "input_file2 = os.path.join(external_dir, \"etc/od_20241015_sandag_airport_pilot_4.xlsx\") #older version but records needed\n",
    "input_file3 = os.path.join(external_dir, \"etc/od_20250131_sandag_airport_sas_draftinal.xlsx\")\n",
    "variable_map_file = os.path.join(processed_dir, \"revised_names.csv\")\n",
    "clean_survey_file = os.path.join(interim_dir, \"survey_data_clean.csv\")\n",
    "output_csv_filename = os.path.join(processed_dir, \"data_model_output.csv\")\n",
    "#summary_csv_filename = os.path.join(processed_dir, \"data_model_output_summary.csv\")"
   ]
  },
  {
   "cell_type": "code",
   "execution_count": 32,
   "metadata": {},
   "outputs": [
    {
     "name": "stderr",
     "output_type": "stream",
     "text": [
      "C:\\Users\\USVV724227\\AppData\\Local\\Temp\\ipykernel_51072\\1659000419.py:17: PerformanceWarning: DataFrame is highly fragmented.  This is usually the result of calling `frame.insert` many times, which has poor performance.  Consider joining all columns at once using pd.concat(axis=1) instead. To get a de-fragmented frame, use `newframe = frame.copy()`\n",
      "  in_df_complete['is_completed'] = 1\n",
      "C:\\Users\\USVV724227\\AppData\\Local\\Temp\\ipykernel_51072\\1659000419.py:20: PerformanceWarning: DataFrame is highly fragmented.  This is usually the result of calling `frame.insert` many times, which has poor performance.  Consider joining all columns at once using pd.concat(axis=1) instead. To get a de-fragmented frame, use `newframe = frame.copy()`\n",
      "  in_df_complete['weight'] = 1\n"
     ]
    }
   ],
   "source": [
    "in_df_complete1 = pd.read_excel(input_file1, sheet_name = 0)\n",
    "in_df_incomplete1 = pd.read_excel(input_file1, sheet_name = 1)\n",
    "\n",
    "in_df_complete2 = pd.read_excel(input_file2, sheet_name = 0)\n",
    "in_df_incomplete2 = pd.read_excel(input_file2, sheet_name = 1)\n",
    "\n",
    "in_df_complete3 = pd.read_excel(input_file3, sheet_name = 0)\n",
    "in_df_incomplete3 = pd.read_excel(input_file3, sheet_name = 1)\n",
    "\n",
    "in_df_complete1['is_self_administered'], in_df_incomplete1['is_self_administered'] = False, False\n",
    "in_df_complete2['is_self_administered'], in_df_incomplete2['is_self_administered'] = False, False\n",
    "in_df_complete3['is_self_administered'], in_df_incomplete3['is_self_administered'] = True, True\n",
    "\n",
    "in_df_complete = pd.concat([in_df_complete1, in_df_complete2, in_df_complete3], ignore_index = True)\n",
    "in_df_incomplete = pd.concat([in_df_incomplete1, in_df_incomplete2, in_df_incomplete3], ignore_index = True)\n",
    "\n",
    "in_df_complete['is_completed'] = 1\n",
    "in_df_incomplete['is_completed'] = 0\n",
    "\n",
    "in_df_complete['weight'] = 1\n",
    "in_df_incomplete['weight'] = 0\n",
    "\n",
    "in_df = pd.concat([in_df_complete, in_df_incomplete], ignore_index = True)\n",
    "header_df = pd.read_csv(variable_map_file)[['ETC_name','WSP_name']]\n",
    "header_dict = pd.Series(header_df.WSP_name.values,index=header_df.ETC_name).to_dict()\n",
    "clean_df = in_df.rename(columns=header_dict).copy().drop(columns=[\"delete\"])"
   ]
  },
  {
   "cell_type": "code",
   "execution_count": 50,
   "metadata": {},
   "outputs": [],
   "source": [
    "clean_df = clean_df[clean_df['is_completed'] == 1]\n",
    "sas = clean_df[clean_df['is_self_administered'] == 1]"
   ]
  },
  {
   "cell_type": "code",
   "execution_count": 51,
   "metadata": {},
   "outputs": [],
   "source": [
    "intercept = clean_df[clean_df['is_self_administered'] == 0]"
   ]
  },
  {
   "cell_type": "code",
   "execution_count": 54,
   "metadata": {},
   "outputs": [],
   "source": [
    "modes_sas = set(sas['main_mode_label'])\n",
    "modes_intercept = set(intercept['main_mode_label'])"
   ]
  },
  {
   "cell_type": "code",
   "execution_count": 55,
   "metadata": {},
   "outputs": [
    {
     "data": {
      "text/plain": [
       "{'Bicycle: non-electric bikeshare',\n",
       " 'Bicycle: personal electric bicycle',\n",
       " 'Bicycle: personal non-electric bicycle',\n",
       " 'Car service/black car/limo/executive car',\n",
       " 'Dropped off by car by family/friend',\n",
       " 'Drove alone and parked',\n",
       " 'Drove with others and parked',\n",
       " 'E-scooter: personal',\n",
       " 'Employee shuttle',\n",
       " 'Get in a parked vehicle and drive alone',\n",
       " 'Get in a parked vehicle and drive with others',\n",
       " 'Get in a parked vehicle and ride with other traveler(s)',\n",
       " 'Hotel shuttle van',\n",
       " 'Picked up by car by family/friend',\n",
       " 'Public transit',\n",
       " 'Rental car: dropped off at rental agency',\n",
       " 'Rental car: picked up at rental agency',\n",
       " 'Taxi',\n",
       " 'Uber/Lyft',\n",
       " 'Walk',\n",
       " nan}"
      ]
     },
     "execution_count": 55,
     "metadata": {},
     "output_type": "execute_result"
    }
   ],
   "source": [
    "modes_sas"
   ]
  },
  {
   "cell_type": "code",
   "execution_count": 56,
   "metadata": {},
   "outputs": [
    {
     "data": {
      "text/plain": [
       "{'Bicycle: personal electric bicycle',\n",
       " 'Car service/black car/limo/executive car',\n",
       " 'Chartered tour bus',\n",
       " 'Dropped off by car by family/friend',\n",
       " 'Drove alone and parked',\n",
       " 'Drove with others and parked',\n",
       " 'Employee shuttle',\n",
       " 'Get in a parked vehicle and drive alone',\n",
       " 'Get in a parked vehicle and drive with others',\n",
       " 'Get in a parked vehicle and ride with other traveler(s)',\n",
       " 'Hotel shuttle van',\n",
       " 'Other',\n",
       " 'Other public transit',\n",
       " 'Other shared van (please specify)',\n",
       " 'Picked up by car by family/friend',\n",
       " 'Rental car: Dropped off at rental agency',\n",
       " 'Rental car: Picked up at rental agency',\n",
       " 'Rental car: get in a parked rental car',\n",
       " 'Rental car: parked rental car',\n",
       " 'Rode with other traveler(s) and parked',\n",
       " 'Taxi',\n",
       " 'Uber/Lyft',\n",
       " 'Walk',\n",
       " nan}"
      ]
     },
     "execution_count": 56,
     "metadata": {},
     "output_type": "execute_result"
    }
   ],
   "source": [
    "modes_intercept"
   ]
  },
  {
   "cell_type": "code",
   "execution_count": 57,
   "metadata": {},
   "outputs": [
    {
     "data": {
      "text/plain": [
       "main_mode_label\n",
       "Drove alone and parked                                     202\n",
       "Uber/Lyft                                                  121\n",
       "Dropped off by car by family/friend                         65\n",
       "Rental car: dropped off at rental agency                    13\n",
       "Drove with others and parked                                11\n",
       "Picked up by car by family/friend                            9\n",
       "Taxi                                                         9\n",
       "Car service/black car/limo/executive car                     7\n",
       "Public transit                                               6\n",
       "Bicycle: personal electric bicycle                           6\n",
       "Walk                                                         4\n",
       "Bicycle: personal non-electric bicycle                       2\n",
       "Employee shuttle                                             2\n",
       "Get in a parked vehicle and ride with other traveler(s)      2\n",
       "E-scooter: personal                                          1\n",
       "Hotel shuttle van                                            1\n",
       "Bicycle: non-electric bikeshare                              1\n",
       "Rental car: picked up at rental agency                       1\n",
       "Get in a parked vehicle and drive alone                      1\n",
       "Get in a parked vehicle and drive with others                1\n",
       "Name: count, dtype: int64"
      ]
     },
     "execution_count": 57,
     "metadata": {},
     "output_type": "execute_result"
    }
   ],
   "source": [
    "sas['main_mode_label'].value_counts()"
   ]
  },
  {
   "cell_type": "code",
   "execution_count": 58,
   "metadata": {},
   "outputs": [
    {
     "data": {
      "text/plain": [
       "main_mode_label\n",
       "Dropped off by car by family/friend                        2338\n",
       "Uber/Lyft                                                  2171\n",
       "Rental car: Dropped off at rental agency                    756\n",
       "Drove alone and parked                                      457\n",
       "Rental car: parked rental car                               207\n",
       "Hotel shuttle van                                           199\n",
       "Drove with others and parked                                162\n",
       "Taxi                                                        153\n",
       "Rental car: Picked up at rental agency                       94\n",
       "Car service/black car/limo/executive car                     75\n",
       "Other shared van (please specify)                            45\n",
       "Other                                                        36\n",
       "Employee shuttle                                             35\n",
       "Other public transit                                         33\n",
       "Picked up by car by family/friend                            33\n",
       "Chartered tour bus                                           28\n",
       "Walk                                                         24\n",
       "Rental car: get in a parked rental car                       11\n",
       "Get in a parked vehicle and drive alone                       9\n",
       "Rode with other traveler(s) and parked                        9\n",
       "Get in a parked vehicle and drive with others                 3\n",
       "Bicycle: personal electric bicycle                            1\n",
       "Get in a parked vehicle and ride with other traveler(s)       1\n",
       "Name: count, dtype: int64"
      ]
     },
     "execution_count": 58,
     "metadata": {},
     "output_type": "execute_result"
    }
   ],
   "source": [
    "intercept['main_mode_label'].value_counts()"
   ]
  },
  {
   "cell_type": "code",
   "execution_count": 60,
   "metadata": {},
   "outputs": [
    {
     "name": "stdout",
     "output_type": "stream",
     "text": [
      "{'E-scooter: personal', 'Rental car: picked up at rental agency', 'Public transit', 'Rental car: dropped off at rental agency', 'Bicycle: non-electric bikeshare', 'Bicycle: personal non-electric bicycle'}\n"
     ]
    }
   ],
   "source": [
    "print(modes_sas - modes_intercept)"
   ]
  },
  {
   "cell_type": "markdown",
   "metadata": {},
   "source": [
    "Rental car: Picked up at rental agency vs Rental car: picked up at rental agency -> there is a case-mismatch in the label. We can do a str.lower() comparison, but htere is Public transit, which is not at all available as an option. It is called other_public_transit."
   ]
  },
  {
   "cell_type": "code",
   "execution_count": 61,
   "metadata": {},
   "outputs": [],
   "source": [
    "mode_code_columns = ['main_transit_mode', 'main_mode', 'access_mode', 'egress_mode', 'reverse_mode', 'reverse_mode_predicted', 'other_airport_accessmode', 'reverse_commute_mode']\n",
    "mode_label_columns = ['main_transit_mode_label', 'main_mode_label', 'access_mode_label', 'egress_mode_label', 'reverse_mode_label', 'reverse_mode_predicted_label', 'other_airport_accessmode_label', 'reverse_commute_mode_label']"
   ]
  },
  {
   "cell_type": "code",
   "execution_count": 74,
   "metadata": {},
   "outputs": [
    {
     "name": "stdout",
     "output_type": "stream",
     "text": [
      "main_transit_mode_label = set()\n",
      "main_mode_label = {'bicycle: non-electric bikeshare', 'e-scooter: personal', 'public transit', 'bicycle: personal non-electric bicycle'}\n",
      "access_mode_label = {'bicycle: personal non-electric bicycle', 'public transit'}\n",
      "egress_mode_label = set()\n",
      "reverse_mode_label = set()\n",
      "reverse_mode_predicted_label = {'public transit'}\n",
      "other_airport_accessmode_label = {'personal e-scooter', 'car service / black car / limo / executive car', 'public transit', 'other', 'uber / lyft'}\n",
      "reverse_commute_mode_label = {'e-scooter: personal', 'bicycle: personal non-electric bicycle', 'refused/no answer', 'public transit'}\n"
     ]
    }
   ],
   "source": [
    "for mode in mode_label_columns:\n",
    "    print(f'{mode} = {set(sas[mode].str.lower())-set(intercept[mode].str.lower())}')"
   ]
  },
  {
   "cell_type": "code",
   "execution_count": 72,
   "metadata": {},
   "outputs": [
    {
     "name": "stdout",
     "output_type": "stream",
     "text": [
      "{'mts route 992', 'none of the above', 'airport flyer shuttle'}\n",
      "{'uber/lyft', 'bicycle: personal electric bicycle', 'other shared van (please specify)', 'rental car: get in a parked rental car', 'get in a parked vehicle and ride with other traveler(s)', 'car service/black car/limo/executive car', nan, 'get in a parked vehicle and drive with others', 'picked up by car by family/friend', 'rental car: dropped off at rental agency', 'drove with others and parked', 'other public transit', 'employee shuttle', 'drove alone and parked', 'chartered tour bus', 'get in a parked vehicle and drive alone', 'rental car: picked up at rental agency', 'walk', 'taxi', 'dropped off by car by family/friend', 'hotel shuttle van', 'rental car: parked rental car', 'other', 'rode with other traveler(s) and parked'}\n",
      "{nan, 'walk', 'uber/lyft', 'taxi', 'drove with others and parked', 'dropped off by car by family/friend', 'drove alone and parked', 'other', 'other public transit', 'rode with other traveler(s) and parked', 'car service/black car/limo/executive car'}\n",
      "{nan, 'walk', 'uber/lyft', 'taxi', 'other shared van (please specify)', 'picked up by car by family/friend', 'drive alone and park'}\n",
      "{'uber/lyft', 'bicycle: personal electric bicycle', 'airport flyer shuttle', 'other shared van (please specify)', 'refused/no answer', 'car service/black car/limo/executive car', nan, 'rental car: dropped off at rental agency', 'drove with others and parked', 'mts route 992', 'other public transit', 'employee shuttle', 'drove alone and parked', 'chartered tour bus', 'walk', 'taxi', 'dropped off by car by family/friend', 'hotel shuttle van', 'rental car: parked rental car', 'rode with other traveler(s) and parked'}\n",
      "{'uber/lyft', 'airport flyer shuttle', 'bicycle: personal non-electric bicycle', 'bicycle: non-electric bikeshare', 'other shared van (please specify)', 'refused/no answer', 'car service/black car/limo/executive car', nan, 'bicycle: electric bikeshare', 'rental car: dropped off at rental agency', 'drove with others and parked', 'mts route 992', 'other public transit', 'employee shuttle', 'drove alone and parked', 'walk', 'taxi', 'dropped off by car by family/friend', 'hotel shuttle van', 'wheelchair or other mobility device', 'rental car: parked rental car', 'other', 'rode with other traveler(s) and parked'}\n",
      "{'rental car and dropped it off at rental agency', 'personal non electric bicycle', 'rode with other traveler and parked', 'car service black car limo executive car', nan, 'uber lyft', 'drove with others and parked', 'other public transit', 'electric bikeshare', 'employee shuttle', 'drove alone and parked', 'chartered tour bus', 'walk', 'taxi', 'rental car and parked it', 'dropped off by car by friend family', 'hotel shuttle van', 'wheelchair or other mobility device', 'other shared ride van service', 'non electric bikeshare'}\n",
      "{nan, 'walk', 'uber/lyft', 'get in a parked vehicle and drive with others', 'taxi', 'picked up by car by family/friend', 'bicycle: personal electric bicycle', 'airport flyer shuttle', 'get in a parked vehicle and ride with other traveler(s)', 'mts route 992', 'other', 'other public transit', 'car service/black car/limo/executive car', 'get in a parked vehicle and drive alone'}\n"
     ]
    }
   ],
   "source": [
    "for mode in mode_label_columns:\n",
    "    print(set(intercept[mode].str.lower()))"
   ]
  },
  {
   "cell_type": "code",
   "execution_count": null,
   "metadata": {},
   "outputs": [],
   "source": []
  }
 ],
 "metadata": {
  "kernelspec": {
   "display_name": "Python 3",
   "language": "python",
   "name": "python3"
  },
  "language_info": {
   "codemirror_mode": {
    "name": "ipython",
    "version": 3
   },
   "file_extension": ".py",
   "mimetype": "text/x-python",
   "name": "python",
   "nbconvert_exporter": "python",
   "pygments_lexer": "ipython3",
   "version": "3.12.4"
  }
 },
 "nbformat": 4,
 "nbformat_minor": 2
}
