{
 "cells": [
  {
   "cell_type": "code",
   "execution_count": 1,
   "metadata": {},
   "outputs": [],
   "source": [
    "import pandas as pd  \n",
    "import numpy as np  "
   ]
  },
  {
   "cell_type": "code",
   "execution_count": 2,
   "metadata": {},
   "outputs": [],
   "source": [
    "data_model_file_name = '../data/processed/data_model_output.csv'\n",
    "clean_output_file_name = '../data/processed/clean_data_model_output.csv'\n",
    "column_filter_file_name = '../data/processed/columns_to_keep.csv'"
   ]
  },
  {
   "cell_type": "code",
   "execution_count": 3,
   "metadata": {},
   "outputs": [
    {
     "name": "stderr",
     "output_type": "stream",
     "text": [
      "C:\\Users\\USVV724227\\AppData\\Local\\Temp\\ipykernel_30360\\1852172397.py:1: DtypeWarning: Columns (1,4,12,13,14,24,25,26,27,28,29,30,31,32,33,34,35,36,37,38,39,40,41,42,43,44,46,47,53,54,58,64,69,73,76,77,79,81,82,85,91,92,94,103,104,105,106,107,108,109,110,111,112,113,114,115,116,117,118,119,120,121,122,123,124,125,126,127,128,129,131,137,139,141,148,149,150,153,154,155,160,165,167,175,177,183,192,193,194,197,202,206,207,212,214,215,218,219,235,237,238,239,240,241,242,244,246,247,248,249,250,260,261,266,271,279,280,281,284,287,291,292,293,295,296,315,329,331,333,334,336,348,371,372,373,374,375,376,377,378,379,380,381,382,383,384,385,386,387,388,389,398,402,404,407,408,409,431,432) have mixed types. Specify dtype option on import or set low_memory=False.\n",
      "  data_model_output = pd.read_csv(data_model_file_name)\n"
     ]
    }
   ],
   "source": [
    "data_model_output = pd.read_csv(data_model_file_name)\n",
    "column_filter = pd.read_csv(column_filter_file_name)"
   ]
  },
  {
   "cell_type": "code",
   "execution_count": 4,
   "metadata": {},
   "outputs": [],
   "source": [
    "# Step 1: Filter rows where validation_severity_person and validation_severity_trip are NOT 'Critical'\n",
    "# and is_completed is True\n",
    "filtered_df = data_model_output[\n",
    "    (data_model_output[\"validation_severity_person\"] != \"Critical\") & \n",
    "    (data_model_output[\"validation_severity_trip\"] != \"Critical\") & \n",
    "    (data_model_output[\"is_completed\"] == True)\n",
    "]\n",
    "\n",
    "# Step 2: Apply column filter logic\n",
    "# Create a mapping from column_filter where 'keep' means keep, 'delete' means remove, and others mean rename\n",
    "column_mapping = dict(zip(column_filter[\"column\"], column_filter[\"status\"]))\n",
    "\n",
    "# Step 3: Drop columns marked as 'delete'\n",
    "columns_to_drop = [col for col, status in column_mapping.items() if status == \"delete\"]\n",
    "filtered_df = filtered_df.drop(columns=columns_to_drop, errors=\"ignore\")\n",
    "\n",
    "# Step 4: Rename columns that have a different mapping\n",
    "columns_to_rename = {col: new_name for col, new_name in column_mapping.items() if new_name not in [\"keep\", \"delete\"]}\n",
    "filtered_df = filtered_df.rename(columns=columns_to_rename)\n",
    "\n"
   ]
  },
  {
   "cell_type": "code",
   "execution_count": 5,
   "metadata": {},
   "outputs": [
    {
     "data": {
      "text/plain": [
       "((9494, 234), (10295, 434))"
      ]
     },
     "execution_count": 5,
     "metadata": {},
     "output_type": "execute_result"
    }
   ],
   "source": [
    "filtered_df.shape, data_model_output.shape"
   ]
  },
  {
   "cell_type": "code",
   "execution_count": 6,
   "metadata": {},
   "outputs": [],
   "source": [
    "# Step 5: Save the cleaned data\n",
    "filtered_df.to_csv(clean_output_file_name, index=False)"
   ]
  }
 ],
 "metadata": {
  "kernelspec": {
   "display_name": "Python 3",
   "language": "python",
   "name": "python3"
  },
  "language_info": {
   "codemirror_mode": {
    "name": "ipython",
    "version": 3
   },
   "file_extension": ".py",
   "mimetype": "text/x-python",
   "name": "python",
   "nbconvert_exporter": "python",
   "pygments_lexer": "ipython3",
   "version": "3.12.4"
  }
 },
 "nbformat": 4,
 "nbformat_minor": 2
}
