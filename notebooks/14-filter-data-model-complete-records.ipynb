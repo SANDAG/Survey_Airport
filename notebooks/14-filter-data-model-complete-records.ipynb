{
 "cells": [
  {
   "cell_type": "code",
   "execution_count": null,
   "metadata": {},
   "outputs": [],
   "source": [
    "import pandas as pd  \n",
    "import numpy as np  "
   ]
  },
  {
   "cell_type": "code",
   "execution_count": null,
   "metadata": {},
   "outputs": [],
   "source": [
    "data_model_file_name = '../data/processed/data_model_output.csv'\n",
    "clean_output_file_name = '../data/processed/clean_data_model_output.csv'\n",
    "column_filter_file_name = '../data/processed/columns_to_keep.csv'"
   ]
  },
  {
   "cell_type": "code",
   "execution_count": null,
   "metadata": {},
   "outputs": [],
   "source": [
    "data_model_output = pd.read_csv(data_model_file_name)\n",
    "column_filter = pd.read_csv(column_filter_file_name)"
   ]
  },
  {
   "cell_type": "code",
   "execution_count": null,
   "metadata": {},
   "outputs": [],
   "source": [
    "# Step 1: Filter rows where validation_severity_person and validation_severity_trip are NOT 'Critical'\n",
    "# and is_completed is True\n",
    "filtered_df = data_model_output[\n",
    "    (data_model_output[\"validation_severity_person\"] != \"Critical\") & \n",
    "    (data_model_output[\"validation_severity_trip\"] != \"Critical\") & \n",
    "    (data_model_output[\"is_completed\"] == True)\n",
    "]\n",
    "\n",
    "# Step 2: Apply column filter logic\n",
    "# Create a mapping from column_filter where 'keep' means keep, 'delete' means remove, and others mean rename\n",
    "column_mapping = dict(zip(column_filter[\"column\"], column_filter[\"status\"]))\n",
    "\n",
    "# Step 3: Drop columns marked as 'delete'\n",
    "columns_to_drop = [col for col, status in column_mapping.items() if status == \"delete\"]\n",
    "filtered_df = filtered_df.drop(columns=columns_to_drop, errors=\"ignore\")\n",
    "\n",
    "# Step 4: Rename columns that have a different mapping\n",
    "columns_to_rename = {col: new_name for col, new_name in column_mapping.items() if new_name not in [\"keep\", \"delete\"]}\n",
    "filtered_df = filtered_df.rename(columns=columns_to_rename)\n",
    "\n"
   ]
  },
  {
   "cell_type": "code",
   "execution_count": null,
   "metadata": {},
   "outputs": [],
   "source": [
    "filtered_df.shape, data_model_output.shape"
   ]
  },
  {
   "cell_type": "code",
   "execution_count": null,
   "metadata": {},
   "outputs": [],
   "source": [
    "# Step 5: Save the cleaned data\n",
    "filtered_df.to_csv(clean_output_file_name, index=False)"
   ]
  }
 ],
 "metadata": {
  "kernelspec": {
   "display_name": "Python 3",
   "language": "python",
   "name": "python3"
  },
  "language_info": {
   "codemirror_mode": {
    "name": "ipython",
    "version": 3
   },
   "file_extension": ".py",
   "mimetype": "text/x-python",
   "name": "python",
   "nbconvert_exporter": "python",
   "pygments_lexer": "ipython3",
   "version": "3.12.4"
  }
 },
 "nbformat": 4,
 "nbformat_minor": 2
}
