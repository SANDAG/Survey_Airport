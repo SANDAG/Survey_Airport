{
 "cells": [
  {
   "cell_type": "code",
   "execution_count": 1,
   "metadata": {},
   "outputs": [],
   "source": [
    "import pandas as pd  \n",
    "import numpy as np  "
   ]
  },
  {
   "cell_type": "code",
   "execution_count": 2,
   "metadata": {},
   "outputs": [],
   "source": [
    "data_model_file_name = '../data/processed/data_model_output.csv'\n",
    "clean_output_file_name = '../data/processed/atc_travel_survey_final_data.csv'\n",
    "column_filter_file_name = '../data/processed/columns_to_keep.csv'"
   ]
  },
  {
   "cell_type": "code",
   "execution_count": 3,
   "metadata": {},
   "outputs": [
    {
     "name": "stderr",
     "output_type": "stream",
     "text": [
      "C:\\Users\\USVV724227\\AppData\\Local\\Temp\\ipykernel_38696\\1852172397.py:1: DtypeWarning: Columns (1,13,14,25,26,27,28,29,30,31,32,33,34,35,36,37,38,39,40,41,42,43,44,45,47,48,54,55,59,65,70,74,77,78,80,82,83,86,93,95,104,105,106,107,108,109,110,111,112,113,114,115,116,117,118,119,120,121,122,123,124,125,126,127,128,129,130,132,142,147,150,151,152,155,156,157,167,169,177,179,194,195,196,199,208,209,214,221,237,239,240,241,242,243,244,246,248,249,273,283,284,285,288,291,295,296,297,299,300,335,337,338,340,410,413) have mixed types. Specify dtype option on import or set low_memory=False.\n",
      "  data_model_output = pd.read_csv(data_model_file_name)\n"
     ]
    }
   ],
   "source": [
    "data_model_output = pd.read_csv(data_model_file_name)\n",
    "column_filter = pd.read_csv(column_filter_file_name)"
   ]
  },
  {
   "cell_type": "code",
   "execution_count": 4,
   "metadata": {},
   "outputs": [],
   "source": [
    "# Step 1: Filter rows where validation_severity_person and validation_severity_trip are NOT 'Critical'\n",
    "# and is_completed is True\n",
    "filtered_df = data_model_output[data_model_output['is_valid_record'] == True]\n",
    "\n",
    "# Step 2: Apply column filter logic\n",
    "# Create a mapping from column_filter where 'keep' means keep, 'delete' means remove, and others mean rename\n",
    "column_mapping = dict(zip(column_filter[\"column\"], column_filter[\"status\"]))\n",
    "\n",
    "# Step 3: Drop columns marked as 'delete'\n",
    "columns_to_drop = [col for col, status in column_mapping.items() if status == \"delete\"]\n",
    "filtered_df = filtered_df.drop(columns=columns_to_drop, errors=\"ignore\")\n",
    "\n",
    "# Step 4: Rename columns that have a different mapping\n",
    "columns_to_rename = {col: new_name for col, new_name in column_mapping.items() if new_name not in [\"keep\", \"delete\"]}\n",
    "filtered_df = filtered_df.rename(columns=columns_to_rename)\n",
    "\n"
   ]
  },
  {
   "cell_type": "code",
   "execution_count": 5,
   "metadata": {},
   "outputs": [
    {
     "data": {
      "text/plain": [
       "((9208, 238), (10112, 437))"
      ]
     },
     "execution_count": 5,
     "metadata": {},
     "output_type": "execute_result"
    }
   ],
   "source": [
    "filtered_df.shape, data_model_output.shape"
   ]
  },
  {
   "cell_type": "code",
   "execution_count": 6,
   "metadata": {},
   "outputs": [],
   "source": [
    "# Step 5: Save the cleaned data\n",
    "filtered_df.to_csv(clean_output_file_name, index=False)"
   ]
  }
 ],
 "metadata": {
  "kernelspec": {
   "display_name": "Python 3",
   "language": "python",
   "name": "python3"
  },
  "language_info": {
   "codemirror_mode": {
    "name": "ipython",
    "version": 3
   },
   "file_extension": ".py",
   "mimetype": "text/x-python",
   "name": "python",
   "nbconvert_exporter": "python",
   "pygments_lexer": "ipython3",
   "version": "3.12.4"
  }
 },
 "nbformat": 4,
 "nbformat_minor": 2
}
