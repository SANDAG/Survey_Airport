{
 "cells": [
  {
   "cell_type": "code",
   "execution_count": 7,
   "metadata": {},
   "outputs": [],
   "source": [
    "import pandas as pd\n",
    "import numpy as np\n",
    "import os"
   ]
  },
  {
   "cell_type": "code",
   "execution_count": 8,
   "metadata": {},
   "outputs": [],
   "source": [
    "interim_dir = \"../data/interim\"\n",
    "processed_dir = \"../data/processed\"\n",
    "data_model_file = os.path.join(processed_dir, \"data_model_output.csv\")\n",
    "\n",
    "output_filename = os.path.join(processed_dir, \"data_model_output_select_tall_summaries.csv\")"
   ]
  },
  {
   "cell_type": "code",
   "execution_count": 9,
   "metadata": {},
   "outputs": [
    {
     "name": "stderr",
     "output_type": "stream",
     "text": [
      "/var/folders/qp/sq840hxs1rs_wtmckrby_mkw0000gn/T/ipykernel_69845/2318029875.py:1: DtypeWarning: Columns (1,13,14,25,26,27,28,29,30,31,32,33,34,35,36,37,38,39,40,41,42,43,44,45,47,48,54,55,59,65,70,74,77,78,80,82,83,86,93,95,104,105,106,107,108,109,110,111,112,113,114,115,116,117,118,119,120,121,122,123,124,125,126,127,128,129,130,132,142,147,150,151,152,155,156,157,167,169,177,179,194,195,196,199,208,209,214,221,237,239,240,241,242,243,244,246,248,249,273,283,284,285,288,291,295,296,297,299,300,335,337,338,340,410,413) have mixed types. Specify dtype option on import or set low_memory=False.\n",
      "  data_model_df = pd.read_csv(data_model_file)\n"
     ]
    }
   ],
   "source": [
    "data_model_df = pd.read_csv(data_model_file)\n",
    "df = data_model_df[(data_model_df['is_completed'] == 1) & (data_model_df['record_type_synthetic'] == 0) & (data_model_df['initial_etc_check']==True) & (data_model_df['marketsegment_label']=='PASSENGER')]"
   ]
  },
  {
   "cell_type": "code",
   "execution_count": 20,
   "metadata": {},
   "outputs": [
    {
     "data": {
      "text/plain": [
       "Index(['sp_feature_early_morning', 'sp_feature_early_morning_label',\n",
       "       'sp_feature_late_night', 'sp_feature_late_night_label',\n",
       "       'sp_feature_luggage_rack', 'sp_feature_luggage_rack_label',\n",
       "       'sp_feature_no_delay', 'sp_feature_no_delay_label',\n",
       "       'sp_feature_seats_transit', 'sp_feature_seats_transit_label',\n",
       "       'sp_feature_seats_transit_stop', 'sp_feature_seats_transit_stop_label',\n",
       "       'sp_feature_short_wait', 'sp_feature_short_wait_label',\n",
       "       'sp_feature_weekend_frequency', 'sp_feature_weekend_frequency_label'],\n",
       "      dtype='object')"
      ]
     },
     "execution_count": 20,
     "metadata": {},
     "output_type": "execute_result"
    }
   ],
   "source": [
    "sp_feature_df = df.filter(like=\"sp_feature\", axis=1)\n",
    "sp_feature_df.columns"
   ]
  },
  {
   "cell_type": "code",
   "execution_count": 11,
   "metadata": {},
   "outputs": [
    {
     "data": {
      "text/plain": [
       "Index(['reasons_no_transit_dislike_crowded_trains_buses',\n",
       "       'reasons_no_transit_dislike_public_transport',\n",
       "       'reasons_no_transit_dislike_public_transport_with_luggage',\n",
       "       'reasons_no_transit_does_not_run_when_needed',\n",
       "       'reasons_no_transit_dont_know_how', 'reasons_no_transit_list',\n",
       "       'reasons_no_transit_no_good_options',\n",
       "       'reasons_no_transit_not_convenient',\n",
       "       'reasons_no_transit_not_economical', 'reasons_no_transit_not_flexible',\n",
       "       'reasons_no_transit_not_reliable', 'reasons_no_transit_not_safe',\n",
       "       'reasons_no_transit_other', 'reasons_no_transit_prefer_other_mode',\n",
       "       'reasons_no_transit_ride_too_long', 'reasons_no_transit_stop_too_far',\n",
       "       'reasons_no_transit_too_complicated',\n",
       "       'reasons_no_transit_too_many_transfers',\n",
       "       'reasons_no_transit_too_much_walking_stairs',\n",
       "       'reasons_no_transit_wait_too_long'],\n",
       "      dtype='object')"
      ]
     },
     "execution_count": 11,
     "metadata": {},
     "output_type": "execute_result"
    }
   ],
   "source": [
    "reason_df = df.filter(like=\"reason\", axis=1) \n",
    "reason_df.columns"
   ]
  },
  {
   "cell_type": "code",
   "execution_count": 12,
   "metadata": {},
   "outputs": [
    {
     "data": {
      "text/plain": [
       "Index(['unique_id', 'weight_departing_and_arriving', 'weight_departing_only',\n",
       "       'weight_non_sas_departing_only',\n",
       "       'weight_departing_only_with_time_of_day'],\n",
       "      dtype='object')"
      ]
     },
     "execution_count": 12,
     "metadata": {},
     "output_type": "execute_result"
    }
   ],
   "source": [
    "weight_df = df.filter(like=\"weight\", axis=1)\n",
    "weight_df = pd.concat([df[\"unique_id\"], weight_df], axis=1)\n",
    "weight_df.columns"
   ]
  },
  {
   "cell_type": "code",
   "execution_count": 21,
   "metadata": {},
   "outputs": [
    {
     "data": {
      "application/vnd.microsoft.datawrangler.viewer.v0+json": {
       "columns": [
        {
         "name": "index",
         "rawType": "int64",
         "type": "integer"
        },
        {
         "name": "unique_id",
         "rawType": "int64",
         "type": "integer"
        },
        {
         "name": "reasons_no_transit_dislike_crowded_trains_buses",
         "rawType": "object",
         "type": "unknown"
        },
        {
         "name": "reasons_no_transit_dislike_public_transport",
         "rawType": "object",
         "type": "unknown"
        },
        {
         "name": "reasons_no_transit_dislike_public_transport_with_luggage",
         "rawType": "object",
         "type": "unknown"
        },
        {
         "name": "reasons_no_transit_does_not_run_when_needed",
         "rawType": "object",
         "type": "unknown"
        },
        {
         "name": "reasons_no_transit_dont_know_how",
         "rawType": "object",
         "type": "unknown"
        },
        {
         "name": "reasons_no_transit_list",
         "rawType": "object",
         "type": "unknown"
        },
        {
         "name": "reasons_no_transit_no_good_options",
         "rawType": "object",
         "type": "unknown"
        },
        {
         "name": "reasons_no_transit_not_convenient",
         "rawType": "object",
         "type": "unknown"
        },
        {
         "name": "reasons_no_transit_not_economical",
         "rawType": "object",
         "type": "unknown"
        },
        {
         "name": "reasons_no_transit_not_flexible",
         "rawType": "object",
         "type": "unknown"
        },
        {
         "name": "reasons_no_transit_not_reliable",
         "rawType": "object",
         "type": "unknown"
        },
        {
         "name": "reasons_no_transit_not_safe",
         "rawType": "object",
         "type": "unknown"
        },
        {
         "name": "reasons_no_transit_other",
         "rawType": "object",
         "type": "unknown"
        },
        {
         "name": "reasons_no_transit_prefer_other_mode",
         "rawType": "object",
         "type": "unknown"
        },
        {
         "name": "reasons_no_transit_ride_too_long",
         "rawType": "object",
         "type": "unknown"
        },
        {
         "name": "reasons_no_transit_stop_too_far",
         "rawType": "object",
         "type": "unknown"
        },
        {
         "name": "reasons_no_transit_too_complicated",
         "rawType": "object",
         "type": "unknown"
        },
        {
         "name": "reasons_no_transit_too_many_transfers",
         "rawType": "object",
         "type": "unknown"
        },
        {
         "name": "reasons_no_transit_too_much_walking_stairs",
         "rawType": "object",
         "type": "unknown"
        },
        {
         "name": "reasons_no_transit_wait_too_long",
         "rawType": "object",
         "type": "unknown"
        },
        {
         "name": "sp_feature_early_morning",
         "rawType": "float64",
         "type": "float"
        },
        {
         "name": "sp_feature_early_morning_label",
         "rawType": "object",
         "type": "unknown"
        },
        {
         "name": "sp_feature_late_night",
         "rawType": "float64",
         "type": "float"
        },
        {
         "name": "sp_feature_late_night_label",
         "rawType": "object",
         "type": "unknown"
        },
        {
         "name": "sp_feature_luggage_rack",
         "rawType": "float64",
         "type": "float"
        },
        {
         "name": "sp_feature_luggage_rack_label",
         "rawType": "object",
         "type": "unknown"
        },
        {
         "name": "sp_feature_no_delay",
         "rawType": "float64",
         "type": "float"
        },
        {
         "name": "sp_feature_no_delay_label",
         "rawType": "object",
         "type": "unknown"
        },
        {
         "name": "sp_feature_seats_transit",
         "rawType": "float64",
         "type": "float"
        },
        {
         "name": "sp_feature_seats_transit_label",
         "rawType": "object",
         "type": "unknown"
        },
        {
         "name": "sp_feature_seats_transit_stop",
         "rawType": "float64",
         "type": "float"
        },
        {
         "name": "sp_feature_seats_transit_stop_label",
         "rawType": "object",
         "type": "unknown"
        },
        {
         "name": "sp_feature_short_wait",
         "rawType": "float64",
         "type": "float"
        },
        {
         "name": "sp_feature_short_wait_label",
         "rawType": "object",
         "type": "unknown"
        },
        {
         "name": "sp_feature_weekend_frequency",
         "rawType": "float64",
         "type": "float"
        },
        {
         "name": "sp_feature_weekend_frequency_label",
         "rawType": "object",
         "type": "unknown"
        }
       ],
       "conversionMethod": "pd.DataFrame",
       "ref": "7b041d7b-9ee3-47d0-ac56-723e5e6e1b28",
       "rows": [
        [
         "756",
         "757",
         "False",
         "False",
         "False",
         null,
         "False",
         "not convenient",
         "False",
         "True",
         "False",
         "False",
         "False",
         "False",
         null,
         null,
         null,
         null,
         null,
         null,
         "False",
         "False",
         null,
         null,
         null,
         null,
         null,
         null,
         null,
         null,
         null,
         null,
         null,
         null,
         null,
         null,
         null,
         null
        ],
        [
         "757",
         "758",
         null,
         null,
         null,
         null,
         null,
         null,
         null,
         null,
         null,
         null,
         null,
         null,
         null,
         null,
         null,
         null,
         null,
         null,
         null,
         null,
         null,
         null,
         null,
         null,
         null,
         null,
         null,
         null,
         null,
         null,
         null,
         null,
         null,
         null,
         null,
         null
        ],
        [
         "758",
         "759",
         null,
         null,
         null,
         null,
         null,
         null,
         null,
         null,
         null,
         null,
         null,
         null,
         null,
         null,
         null,
         null,
         null,
         null,
         null,
         null,
         null,
         null,
         null,
         null,
         null,
         null,
         null,
         null,
         null,
         null,
         null,
         null,
         null,
         null,
         null,
         null
        ],
        [
         "759",
         "760",
         null,
         null,
         null,
         null,
         null,
         null,
         null,
         null,
         null,
         null,
         null,
         null,
         null,
         null,
         null,
         null,
         null,
         null,
         null,
         null,
         null,
         null,
         null,
         null,
         null,
         null,
         null,
         null,
         null,
         null,
         null,
         null,
         null,
         null,
         null,
         null
        ],
        [
         "760",
         "761",
         null,
         null,
         null,
         null,
         null,
         null,
         null,
         null,
         null,
         null,
         null,
         null,
         null,
         null,
         null,
         null,
         null,
         null,
         null,
         null,
         null,
         null,
         null,
         null,
         null,
         null,
         null,
         null,
         null,
         null,
         null,
         null,
         null,
         null,
         null,
         null
        ]
       ],
       "shape": {
        "columns": 37,
        "rows": 5
       }
      },
      "text/html": [
       "<div>\n",
       "<style scoped>\n",
       "    .dataframe tbody tr th:only-of-type {\n",
       "        vertical-align: middle;\n",
       "    }\n",
       "\n",
       "    .dataframe tbody tr th {\n",
       "        vertical-align: top;\n",
       "    }\n",
       "\n",
       "    .dataframe thead th {\n",
       "        text-align: right;\n",
       "    }\n",
       "</style>\n",
       "<table border=\"1\" class=\"dataframe\">\n",
       "  <thead>\n",
       "    <tr style=\"text-align: right;\">\n",
       "      <th></th>\n",
       "      <th>unique_id</th>\n",
       "      <th>reasons_no_transit_dislike_crowded_trains_buses</th>\n",
       "      <th>reasons_no_transit_dislike_public_transport</th>\n",
       "      <th>reasons_no_transit_dislike_public_transport_with_luggage</th>\n",
       "      <th>reasons_no_transit_does_not_run_when_needed</th>\n",
       "      <th>reasons_no_transit_dont_know_how</th>\n",
       "      <th>reasons_no_transit_list</th>\n",
       "      <th>reasons_no_transit_no_good_options</th>\n",
       "      <th>reasons_no_transit_not_convenient</th>\n",
       "      <th>reasons_no_transit_not_economical</th>\n",
       "      <th>...</th>\n",
       "      <th>sp_feature_no_delay</th>\n",
       "      <th>sp_feature_no_delay_label</th>\n",
       "      <th>sp_feature_seats_transit</th>\n",
       "      <th>sp_feature_seats_transit_label</th>\n",
       "      <th>sp_feature_seats_transit_stop</th>\n",
       "      <th>sp_feature_seats_transit_stop_label</th>\n",
       "      <th>sp_feature_short_wait</th>\n",
       "      <th>sp_feature_short_wait_label</th>\n",
       "      <th>sp_feature_weekend_frequency</th>\n",
       "      <th>sp_feature_weekend_frequency_label</th>\n",
       "    </tr>\n",
       "  </thead>\n",
       "  <tbody>\n",
       "    <tr>\n",
       "      <th>756</th>\n",
       "      <td>757</td>\n",
       "      <td>False</td>\n",
       "      <td>False</td>\n",
       "      <td>False</td>\n",
       "      <td>NaN</td>\n",
       "      <td>False</td>\n",
       "      <td>not convenient</td>\n",
       "      <td>False</td>\n",
       "      <td>True</td>\n",
       "      <td>False</td>\n",
       "      <td>...</td>\n",
       "      <td>NaN</td>\n",
       "      <td>NaN</td>\n",
       "      <td>NaN</td>\n",
       "      <td>NaN</td>\n",
       "      <td>NaN</td>\n",
       "      <td>NaN</td>\n",
       "      <td>NaN</td>\n",
       "      <td>NaN</td>\n",
       "      <td>NaN</td>\n",
       "      <td>NaN</td>\n",
       "    </tr>\n",
       "    <tr>\n",
       "      <th>757</th>\n",
       "      <td>758</td>\n",
       "      <td>NaN</td>\n",
       "      <td>NaN</td>\n",
       "      <td>NaN</td>\n",
       "      <td>NaN</td>\n",
       "      <td>NaN</td>\n",
       "      <td>NaN</td>\n",
       "      <td>NaN</td>\n",
       "      <td>NaN</td>\n",
       "      <td>NaN</td>\n",
       "      <td>...</td>\n",
       "      <td>NaN</td>\n",
       "      <td>NaN</td>\n",
       "      <td>NaN</td>\n",
       "      <td>NaN</td>\n",
       "      <td>NaN</td>\n",
       "      <td>NaN</td>\n",
       "      <td>NaN</td>\n",
       "      <td>NaN</td>\n",
       "      <td>NaN</td>\n",
       "      <td>NaN</td>\n",
       "    </tr>\n",
       "    <tr>\n",
       "      <th>758</th>\n",
       "      <td>759</td>\n",
       "      <td>NaN</td>\n",
       "      <td>NaN</td>\n",
       "      <td>NaN</td>\n",
       "      <td>NaN</td>\n",
       "      <td>NaN</td>\n",
       "      <td>NaN</td>\n",
       "      <td>NaN</td>\n",
       "      <td>NaN</td>\n",
       "      <td>NaN</td>\n",
       "      <td>...</td>\n",
       "      <td>NaN</td>\n",
       "      <td>NaN</td>\n",
       "      <td>NaN</td>\n",
       "      <td>NaN</td>\n",
       "      <td>NaN</td>\n",
       "      <td>NaN</td>\n",
       "      <td>NaN</td>\n",
       "      <td>NaN</td>\n",
       "      <td>NaN</td>\n",
       "      <td>NaN</td>\n",
       "    </tr>\n",
       "    <tr>\n",
       "      <th>759</th>\n",
       "      <td>760</td>\n",
       "      <td>NaN</td>\n",
       "      <td>NaN</td>\n",
       "      <td>NaN</td>\n",
       "      <td>NaN</td>\n",
       "      <td>NaN</td>\n",
       "      <td>NaN</td>\n",
       "      <td>NaN</td>\n",
       "      <td>NaN</td>\n",
       "      <td>NaN</td>\n",
       "      <td>...</td>\n",
       "      <td>NaN</td>\n",
       "      <td>NaN</td>\n",
       "      <td>NaN</td>\n",
       "      <td>NaN</td>\n",
       "      <td>NaN</td>\n",
       "      <td>NaN</td>\n",
       "      <td>NaN</td>\n",
       "      <td>NaN</td>\n",
       "      <td>NaN</td>\n",
       "      <td>NaN</td>\n",
       "    </tr>\n",
       "    <tr>\n",
       "      <th>760</th>\n",
       "      <td>761</td>\n",
       "      <td>NaN</td>\n",
       "      <td>NaN</td>\n",
       "      <td>NaN</td>\n",
       "      <td>NaN</td>\n",
       "      <td>NaN</td>\n",
       "      <td>NaN</td>\n",
       "      <td>NaN</td>\n",
       "      <td>NaN</td>\n",
       "      <td>NaN</td>\n",
       "      <td>...</td>\n",
       "      <td>NaN</td>\n",
       "      <td>NaN</td>\n",
       "      <td>NaN</td>\n",
       "      <td>NaN</td>\n",
       "      <td>NaN</td>\n",
       "      <td>NaN</td>\n",
       "      <td>NaN</td>\n",
       "      <td>NaN</td>\n",
       "      <td>NaN</td>\n",
       "      <td>NaN</td>\n",
       "    </tr>\n",
       "  </tbody>\n",
       "</table>\n",
       "<p>5 rows × 37 columns</p>\n",
       "</div>"
      ],
      "text/plain": [
       "     unique_id reasons_no_transit_dislike_crowded_trains_buses  \\\n",
       "756        757                                           False   \n",
       "757        758                                             NaN   \n",
       "758        759                                             NaN   \n",
       "759        760                                             NaN   \n",
       "760        761                                             NaN   \n",
       "\n",
       "    reasons_no_transit_dislike_public_transport  \\\n",
       "756                                       False   \n",
       "757                                         NaN   \n",
       "758                                         NaN   \n",
       "759                                         NaN   \n",
       "760                                         NaN   \n",
       "\n",
       "    reasons_no_transit_dislike_public_transport_with_luggage  \\\n",
       "756                                              False         \n",
       "757                                                NaN         \n",
       "758                                                NaN         \n",
       "759                                                NaN         \n",
       "760                                                NaN         \n",
       "\n",
       "    reasons_no_transit_does_not_run_when_needed  \\\n",
       "756                                         NaN   \n",
       "757                                         NaN   \n",
       "758                                         NaN   \n",
       "759                                         NaN   \n",
       "760                                         NaN   \n",
       "\n",
       "    reasons_no_transit_dont_know_how reasons_no_transit_list  \\\n",
       "756                            False          not convenient   \n",
       "757                              NaN                     NaN   \n",
       "758                              NaN                     NaN   \n",
       "759                              NaN                     NaN   \n",
       "760                              NaN                     NaN   \n",
       "\n",
       "    reasons_no_transit_no_good_options reasons_no_transit_not_convenient  \\\n",
       "756                              False                              True   \n",
       "757                                NaN                               NaN   \n",
       "758                                NaN                               NaN   \n",
       "759                                NaN                               NaN   \n",
       "760                                NaN                               NaN   \n",
       "\n",
       "    reasons_no_transit_not_economical  ... sp_feature_no_delay  \\\n",
       "756                             False  ...                 NaN   \n",
       "757                               NaN  ...                 NaN   \n",
       "758                               NaN  ...                 NaN   \n",
       "759                               NaN  ...                 NaN   \n",
       "760                               NaN  ...                 NaN   \n",
       "\n",
       "    sp_feature_no_delay_label sp_feature_seats_transit  \\\n",
       "756                       NaN                      NaN   \n",
       "757                       NaN                      NaN   \n",
       "758                       NaN                      NaN   \n",
       "759                       NaN                      NaN   \n",
       "760                       NaN                      NaN   \n",
       "\n",
       "    sp_feature_seats_transit_label sp_feature_seats_transit_stop  \\\n",
       "756                            NaN                           NaN   \n",
       "757                            NaN                           NaN   \n",
       "758                            NaN                           NaN   \n",
       "759                            NaN                           NaN   \n",
       "760                            NaN                           NaN   \n",
       "\n",
       "    sp_feature_seats_transit_stop_label sp_feature_short_wait  \\\n",
       "756                                 NaN                   NaN   \n",
       "757                                 NaN                   NaN   \n",
       "758                                 NaN                   NaN   \n",
       "759                                 NaN                   NaN   \n",
       "760                                 NaN                   NaN   \n",
       "\n",
       "    sp_feature_short_wait_label sp_feature_weekend_frequency  \\\n",
       "756                         NaN                          NaN   \n",
       "757                         NaN                          NaN   \n",
       "758                         NaN                          NaN   \n",
       "759                         NaN                          NaN   \n",
       "760                         NaN                          NaN   \n",
       "\n",
       "    sp_feature_weekend_frequency_label  \n",
       "756                                NaN  \n",
       "757                                NaN  \n",
       "758                                NaN  \n",
       "759                                NaN  \n",
       "760                                NaN  \n",
       "\n",
       "[5 rows x 37 columns]"
      ]
     },
     "execution_count": 21,
     "metadata": {},
     "output_type": "execute_result"
    }
   ],
   "source": [
    "working_df = pd.concat([df[[\"unique_id\"]], reason_df, sp_feature_df], axis=1)\n",
    "working_df.head()"
   ]
  },
  {
   "cell_type": "code",
   "execution_count": 31,
   "metadata": {},
   "outputs": [
    {
     "data": {
      "application/vnd.microsoft.datawrangler.viewer.v0+json": {
       "columns": [
        {
         "name": "index",
         "rawType": "int64",
         "type": "integer"
        },
        {
         "name": "unique_id",
         "rawType": "int64",
         "type": "integer"
        },
        {
         "name": "question",
         "rawType": "object",
         "type": "string"
        },
        {
         "name": "answer",
         "rawType": "object",
         "type": "unknown"
        },
        {
         "name": "question_type",
         "rawType": "object",
         "type": "string"
        }
       ],
       "conversionMethod": "pd.DataFrame",
       "ref": "6f6c96b9-89b9-4ed7-8a77-ec90c632459f",
       "rows": [
        [
         "0",
         "757",
         "Dislike Crowded Trains Buses",
         "False",
         "Reasons No Transit"
        ],
        [
         "1",
         "765",
         "Dislike Crowded Trains Buses",
         "False",
         "Reasons No Transit"
        ],
        [
         "2",
         "766",
         "Dislike Crowded Trains Buses",
         "False",
         "Reasons No Transit"
        ],
        [
         "3",
         "767",
         "Dislike Crowded Trains Buses",
         "False",
         "Reasons No Transit"
        ],
        [
         "4",
         "768",
         "Dislike Crowded Trains Buses",
         "False",
         "Reasons No Transit"
        ]
       ],
       "shape": {
        "columns": 4,
        "rows": 5
       }
      },
      "text/html": [
       "<div>\n",
       "<style scoped>\n",
       "    .dataframe tbody tr th:only-of-type {\n",
       "        vertical-align: middle;\n",
       "    }\n",
       "\n",
       "    .dataframe tbody tr th {\n",
       "        vertical-align: top;\n",
       "    }\n",
       "\n",
       "    .dataframe thead th {\n",
       "        text-align: right;\n",
       "    }\n",
       "</style>\n",
       "<table border=\"1\" class=\"dataframe\">\n",
       "  <thead>\n",
       "    <tr style=\"text-align: right;\">\n",
       "      <th></th>\n",
       "      <th>unique_id</th>\n",
       "      <th>question</th>\n",
       "      <th>answer</th>\n",
       "      <th>question_type</th>\n",
       "    </tr>\n",
       "  </thead>\n",
       "  <tbody>\n",
       "    <tr>\n",
       "      <th>0</th>\n",
       "      <td>757</td>\n",
       "      <td>Dislike Crowded Trains Buses</td>\n",
       "      <td>False</td>\n",
       "      <td>Reasons No Transit</td>\n",
       "    </tr>\n",
       "    <tr>\n",
       "      <th>1</th>\n",
       "      <td>765</td>\n",
       "      <td>Dislike Crowded Trains Buses</td>\n",
       "      <td>False</td>\n",
       "      <td>Reasons No Transit</td>\n",
       "    </tr>\n",
       "    <tr>\n",
       "      <th>2</th>\n",
       "      <td>766</td>\n",
       "      <td>Dislike Crowded Trains Buses</td>\n",
       "      <td>False</td>\n",
       "      <td>Reasons No Transit</td>\n",
       "    </tr>\n",
       "    <tr>\n",
       "      <th>3</th>\n",
       "      <td>767</td>\n",
       "      <td>Dislike Crowded Trains Buses</td>\n",
       "      <td>False</td>\n",
       "      <td>Reasons No Transit</td>\n",
       "    </tr>\n",
       "    <tr>\n",
       "      <th>4</th>\n",
       "      <td>768</td>\n",
       "      <td>Dislike Crowded Trains Buses</td>\n",
       "      <td>False</td>\n",
       "      <td>Reasons No Transit</td>\n",
       "    </tr>\n",
       "  </tbody>\n",
       "</table>\n",
       "</div>"
      ],
      "text/plain": [
       "   unique_id                      question answer       question_type\n",
       "0        757  Dislike Crowded Trains Buses  False  Reasons No Transit\n",
       "1        765  Dislike Crowded Trains Buses  False  Reasons No Transit\n",
       "2        766  Dislike Crowded Trains Buses  False  Reasons No Transit\n",
       "3        767  Dislike Crowded Trains Buses  False  Reasons No Transit\n",
       "4        768  Dislike Crowded Trains Buses  False  Reasons No Transit"
      ]
     },
     "execution_count": 31,
     "metadata": {},
     "output_type": "execute_result"
    }
   ],
   "source": [
    "tall_df = pd.melt(working_df, id_vars=[\"unique_id\"], var_name=\"question\", value_name=\"answer\")\n",
    "tall_df[\"question_type\"] = \"Missing\"\n",
    "tall_df[\"question_type\"] = np.where(tall_df[\"question\"].str.contains(\"reasons_no_transit\"), \"Reasons No Transit\", tall_df[\"question_type\"])\n",
    "tall_df[\"question_type\"] = np.where(tall_df[\"question\"].str.contains(\"sp_feature\"), \"SP Feature\", tall_df[\"question_type\"])\n",
    "tall_df[\"question\"] = tall_df[\"question\"].str.replace(\"reasons_no_transit_\", \"\").str.replace(\"sp_feature_\", \"\").str.replace(\"_\",\" \").str.title()\n",
    "tall_df = tall_df.dropna(subset=[\"answer\"]).reset_index(drop=True)\n",
    "tall_df.head()"
   ]
  },
  {
   "cell_type": "code",
   "execution_count": 32,
   "metadata": {},
   "outputs": [
    {
     "data": {
      "application/vnd.microsoft.datawrangler.viewer.v0+json": {
       "columns": [
        {
         "name": "index",
         "rawType": "int64",
         "type": "integer"
        },
        {
         "name": "unique_id",
         "rawType": "int64",
         "type": "integer"
        },
        {
         "name": "question",
         "rawType": "object",
         "type": "string"
        },
        {
         "name": "answer",
         "rawType": "object",
         "type": "unknown"
        },
        {
         "name": "question_type",
         "rawType": "object",
         "type": "string"
        },
        {
         "name": "weight_departing_and_arriving",
         "rawType": "float64",
         "type": "float"
        },
        {
         "name": "weight_departing_only",
         "rawType": "float64",
         "type": "float"
        },
        {
         "name": "weight_non_sas_departing_only",
         "rawType": "float64",
         "type": "float"
        },
        {
         "name": "weight_departing_only_with_time_of_day",
         "rawType": "float64",
         "type": "float"
        }
       ],
       "conversionMethod": "pd.DataFrame",
       "ref": "1de240c1-7558-4826-b087-378cbe8fb94a",
       "rows": [
        [
         "0",
         "757",
         "Dislike Crowded Trains Buses",
         "False",
         "Reasons No Transit",
         "3.577735300020542",
         null,
         null,
         null
        ],
        [
         "1",
         "765",
         "Dislike Crowded Trains Buses",
         "False",
         "Reasons No Transit",
         "2.3695307256539246",
         null,
         null,
         null
        ],
        [
         "2",
         "766",
         "Dislike Crowded Trains Buses",
         "False",
         "Reasons No Transit",
         "2.3695307256539246",
         null,
         null,
         null
        ],
        [
         "3",
         "767",
         "Dislike Crowded Trains Buses",
         "False",
         "Reasons No Transit",
         "1.891490232599825",
         null,
         null,
         null
        ],
        [
         "4",
         "768",
         "Dislike Crowded Trains Buses",
         "False",
         "Reasons No Transit",
         "1.891490232599825",
         null,
         null,
         null
        ]
       ],
       "shape": {
        "columns": 8,
        "rows": 5
       }
      },
      "text/html": [
       "<div>\n",
       "<style scoped>\n",
       "    .dataframe tbody tr th:only-of-type {\n",
       "        vertical-align: middle;\n",
       "    }\n",
       "\n",
       "    .dataframe tbody tr th {\n",
       "        vertical-align: top;\n",
       "    }\n",
       "\n",
       "    .dataframe thead th {\n",
       "        text-align: right;\n",
       "    }\n",
       "</style>\n",
       "<table border=\"1\" class=\"dataframe\">\n",
       "  <thead>\n",
       "    <tr style=\"text-align: right;\">\n",
       "      <th></th>\n",
       "      <th>unique_id</th>\n",
       "      <th>question</th>\n",
       "      <th>answer</th>\n",
       "      <th>question_type</th>\n",
       "      <th>weight_departing_and_arriving</th>\n",
       "      <th>weight_departing_only</th>\n",
       "      <th>weight_non_sas_departing_only</th>\n",
       "      <th>weight_departing_only_with_time_of_day</th>\n",
       "    </tr>\n",
       "  </thead>\n",
       "  <tbody>\n",
       "    <tr>\n",
       "      <th>0</th>\n",
       "      <td>757</td>\n",
       "      <td>Dislike Crowded Trains Buses</td>\n",
       "      <td>False</td>\n",
       "      <td>Reasons No Transit</td>\n",
       "      <td>3.577735</td>\n",
       "      <td>NaN</td>\n",
       "      <td>NaN</td>\n",
       "      <td>NaN</td>\n",
       "    </tr>\n",
       "    <tr>\n",
       "      <th>1</th>\n",
       "      <td>765</td>\n",
       "      <td>Dislike Crowded Trains Buses</td>\n",
       "      <td>False</td>\n",
       "      <td>Reasons No Transit</td>\n",
       "      <td>2.369531</td>\n",
       "      <td>NaN</td>\n",
       "      <td>NaN</td>\n",
       "      <td>NaN</td>\n",
       "    </tr>\n",
       "    <tr>\n",
       "      <th>2</th>\n",
       "      <td>766</td>\n",
       "      <td>Dislike Crowded Trains Buses</td>\n",
       "      <td>False</td>\n",
       "      <td>Reasons No Transit</td>\n",
       "      <td>2.369531</td>\n",
       "      <td>NaN</td>\n",
       "      <td>NaN</td>\n",
       "      <td>NaN</td>\n",
       "    </tr>\n",
       "    <tr>\n",
       "      <th>3</th>\n",
       "      <td>767</td>\n",
       "      <td>Dislike Crowded Trains Buses</td>\n",
       "      <td>False</td>\n",
       "      <td>Reasons No Transit</td>\n",
       "      <td>1.891490</td>\n",
       "      <td>NaN</td>\n",
       "      <td>NaN</td>\n",
       "      <td>NaN</td>\n",
       "    </tr>\n",
       "    <tr>\n",
       "      <th>4</th>\n",
       "      <td>768</td>\n",
       "      <td>Dislike Crowded Trains Buses</td>\n",
       "      <td>False</td>\n",
       "      <td>Reasons No Transit</td>\n",
       "      <td>1.891490</td>\n",
       "      <td>NaN</td>\n",
       "      <td>NaN</td>\n",
       "      <td>NaN</td>\n",
       "    </tr>\n",
       "  </tbody>\n",
       "</table>\n",
       "</div>"
      ],
      "text/plain": [
       "   unique_id                      question answer       question_type  \\\n",
       "0        757  Dislike Crowded Trains Buses  False  Reasons No Transit   \n",
       "1        765  Dislike Crowded Trains Buses  False  Reasons No Transit   \n",
       "2        766  Dislike Crowded Trains Buses  False  Reasons No Transit   \n",
       "3        767  Dislike Crowded Trains Buses  False  Reasons No Transit   \n",
       "4        768  Dislike Crowded Trains Buses  False  Reasons No Transit   \n",
       "\n",
       "   weight_departing_and_arriving  weight_departing_only  \\\n",
       "0                       3.577735                    NaN   \n",
       "1                       2.369531                    NaN   \n",
       "2                       2.369531                    NaN   \n",
       "3                       1.891490                    NaN   \n",
       "4                       1.891490                    NaN   \n",
       "\n",
       "   weight_non_sas_departing_only  weight_departing_only_with_time_of_day  \n",
       "0                            NaN                                     NaN  \n",
       "1                            NaN                                     NaN  \n",
       "2                            NaN                                     NaN  \n",
       "3                            NaN                                     NaN  \n",
       "4                            NaN                                     NaN  "
      ]
     },
     "execution_count": 32,
     "metadata": {},
     "output_type": "execute_result"
    }
   ],
   "source": [
    "output_df = pd.merge(tall_df, weight_df, on=\"unique_id\", how=\"left\")\n",
    "output_df.head()"
   ]
  },
  {
   "cell_type": "code",
   "execution_count": 33,
   "metadata": {},
   "outputs": [],
   "source": [
    "output_df.to_csv(output_filename, index=False)"
   ]
  },
  {
   "cell_type": "code",
   "execution_count": null,
   "metadata": {},
   "outputs": [],
   "source": []
  }
 ],
 "metadata": {
  "kernelspec": {
   "display_name": "sandag_air",
   "language": "python",
   "name": "python3"
  },
  "language_info": {
   "codemirror_mode": {
    "name": "ipython",
    "version": 3
   },
   "file_extension": ".py",
   "mimetype": "text/x-python",
   "name": "python",
   "nbconvert_exporter": "python",
   "pygments_lexer": "ipython3",
   "version": "3.12.8"
  }
 },
 "nbformat": 4,
 "nbformat_minor": 2
}
