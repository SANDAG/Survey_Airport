{
 "cells": [
  {
   "cell_type": "code",
   "execution_count": 1,
   "metadata": {},
   "outputs": [],
   "source": [
    "import sys\n",
    "import os\n",
    "import importlib\n",
    "sys.path.insert(0, os.path.abspath(\"../data_model/\"))"
   ]
  },
  {
   "cell_type": "code",
   "execution_count": 2,
   "metadata": {},
   "outputs": [],
   "source": [
    "import pandas as pd\n",
    "import numpy as np\n",
    "from pydantic import ValidationError\n",
    "import data_model\n",
    "import enums as e\n",
    "from utils import extract_base_type, add_enum_label_columns, add_list_objects  "
   ]
  },
  {
   "cell_type": "code",
   "execution_count": 3,
   "metadata": {},
   "outputs": [],
   "source": [
    "importlib.reload(data_model)\n",
    "importlib.reload(e)\n",
    "from data_model import Respondent, Employee, AirPassenger, Trip"
   ]
  },
  {
   "cell_type": "code",
   "execution_count": 4,
   "metadata": {},
   "outputs": [],
   "source": [
    "external_dir = \"../data/external\"\n",
    "interim_dir = \"../data/interim\"\n",
    "processed_dir = \"../data/processed\"\n",
    "\n",
    "input_file = os.path.join(external_dir, \"etc/od_20241015_sandag_airport_pilot_4.xlsx\") #pilot survey 3, latest\n",
    "variable_map_file = os.path.join(processed_dir, \"revised_names.csv\")\n",
    "clean_survey_file = os.path.join(interim_dir, \"survey_data_clean.csv\")\n",
    "output_csv_filename = os.path.join(processed_dir, \"data_model_output.csv\")\n",
    "#summary_csv_filename = os.path.join(processed_dir, \"data_model_output_summary.csv\")"
   ]
  },
  {
   "cell_type": "markdown",
   "metadata": {},
   "source": [
    "### Clean Data , Rename fields"
   ]
  },
  {
   "cell_type": "code",
   "execution_count": 5,
   "metadata": {},
   "outputs": [],
   "source": [
    "in_df = pd.read_excel(input_file)\n",
    "header_df = pd.read_csv(variable_map_file)[['ETC_name','WSP_name']]\n",
    "header_dict = pd.Series(header_df.WSP_name.values,index=header_df.ETC_name).to_dict()\n",
    "clean_df = in_df.rename(columns=header_dict).copy().drop(columns=[\"delete\"])"
   ]
  },
  {
   "cell_type": "code",
   "execution_count": 6,
   "metadata": {},
   "outputs": [
    {
     "data": {
      "text/plain": [
       "(3597, 302)"
      ]
     },
     "execution_count": 6,
     "metadata": {},
     "output_type": "execute_result"
    }
   ],
   "source": [
    "clean_df.shape"
   ]
  },
  {
   "cell_type": "code",
   "execution_count": 7,
   "metadata": {},
   "outputs": [
    {
     "data": {
      "text/html": [
       "<div>\n",
       "<style scoped>\n",
       "    .dataframe tbody tr th:only-of-type {\n",
       "        vertical-align: middle;\n",
       "    }\n",
       "\n",
       "    .dataframe tbody tr th {\n",
       "        vertical-align: top;\n",
       "    }\n",
       "\n",
       "    .dataframe thead th {\n",
       "        text-align: right;\n",
       "    }\n",
       "</style>\n",
       "<table border=\"1\" class=\"dataframe\">\n",
       "  <thead>\n",
       "    <tr style=\"text-align: right;\">\n",
       "      <th></th>\n",
       "      <th>respondentid</th>\n",
       "      <th>date_completed</th>\n",
       "      <th>interview_location</th>\n",
       "      <th>interview_location_label</th>\n",
       "      <th>interview_location_other</th>\n",
       "      <th>inbound_or_outbound</th>\n",
       "      <th>inbound_or_outbound_label</th>\n",
       "      <th>marketsegment</th>\n",
       "      <th>marketsegment_label</th>\n",
       "      <th>is_qualified_age</th>\n",
       "      <th>...</th>\n",
       "      <th>household_income_label</th>\n",
       "      <th>is_income_below_poverty</th>\n",
       "      <th>number_workers</th>\n",
       "      <th>number_workers_label</th>\n",
       "      <th>sp_invitation</th>\n",
       "      <th>sp_invitation_label</th>\n",
       "      <th>stay_informed</th>\n",
       "      <th>survey_language</th>\n",
       "      <th>survey_language_label</th>\n",
       "      <th>survey_language_other</th>\n",
       "    </tr>\n",
       "  </thead>\n",
       "  <tbody>\n",
       "    <tr>\n",
       "      <th>0</th>\n",
       "      <td>4273</td>\n",
       "      <td>9/30/2024</td>\n",
       "      <td>Term1</td>\n",
       "      <td>Terminal 1</td>\n",
       "      <td>NaN</td>\n",
       "      <td>OUT</td>\n",
       "      <td>OUTBOUND</td>\n",
       "      <td>1</td>\n",
       "      <td>Air passenger</td>\n",
       "      <td>YES</td>\n",
       "      <td>...</td>\n",
       "      <td>$75,000-$99,999</td>\n",
       "      <td>NaN</td>\n",
       "      <td>2</td>\n",
       "      <td>TWO (2)</td>\n",
       "      <td>2.0</td>\n",
       "      <td>No</td>\n",
       "      <td>NO</td>\n",
       "      <td>ENGLISH</td>\n",
       "      <td>ENGLISH</td>\n",
       "      <td>NaN</td>\n",
       "    </tr>\n",
       "    <tr>\n",
       "      <th>1</th>\n",
       "      <td>4282</td>\n",
       "      <td>9/30/2024</td>\n",
       "      <td>Term1</td>\n",
       "      <td>Terminal 1</td>\n",
       "      <td>NaN</td>\n",
       "      <td>IN</td>\n",
       "      <td>INBOUND</td>\n",
       "      <td>1</td>\n",
       "      <td>Air passenger</td>\n",
       "      <td>YES</td>\n",
       "      <td>...</td>\n",
       "      <td>$60,000-$74,999</td>\n",
       "      <td>NaN</td>\n",
       "      <td>6</td>\n",
       "      <td>SIX (6)</td>\n",
       "      <td>1.0</td>\n",
       "      <td>Yes</td>\n",
       "      <td>NaN</td>\n",
       "      <td>SPANI</td>\n",
       "      <td>SPANISH</td>\n",
       "      <td>NaN</td>\n",
       "    </tr>\n",
       "    <tr>\n",
       "      <th>2</th>\n",
       "      <td>4283</td>\n",
       "      <td>9/30/2024</td>\n",
       "      <td>Term1</td>\n",
       "      <td>Terminal 1</td>\n",
       "      <td>NaN</td>\n",
       "      <td>IN</td>\n",
       "      <td>INBOUND</td>\n",
       "      <td>1</td>\n",
       "      <td>Air passenger</td>\n",
       "      <td>YES</td>\n",
       "      <td>...</td>\n",
       "      <td>$60,000-$74,999</td>\n",
       "      <td>NaN</td>\n",
       "      <td>0</td>\n",
       "      <td>NONE (0)</td>\n",
       "      <td>2.0</td>\n",
       "      <td>No</td>\n",
       "      <td>NO</td>\n",
       "      <td>ENGLISH</td>\n",
       "      <td>ENGLISH</td>\n",
       "      <td>NaN</td>\n",
       "    </tr>\n",
       "    <tr>\n",
       "      <th>3</th>\n",
       "      <td>4286</td>\n",
       "      <td>9/30/2024</td>\n",
       "      <td>Term1</td>\n",
       "      <td>Terminal 1</td>\n",
       "      <td>NaN</td>\n",
       "      <td>IN</td>\n",
       "      <td>INBOUND</td>\n",
       "      <td>1</td>\n",
       "      <td>Air passenger</td>\n",
       "      <td>YES</td>\n",
       "      <td>...</td>\n",
       "      <td>$150,000 or more</td>\n",
       "      <td>NaN</td>\n",
       "      <td>2</td>\n",
       "      <td>TWO (2)</td>\n",
       "      <td>1.0</td>\n",
       "      <td>Yes</td>\n",
       "      <td>NaN</td>\n",
       "      <td>ENGLISH</td>\n",
       "      <td>ENGLISH</td>\n",
       "      <td>NaN</td>\n",
       "    </tr>\n",
       "    <tr>\n",
       "      <th>4</th>\n",
       "      <td>4290</td>\n",
       "      <td>9/30/2024</td>\n",
       "      <td>Term1</td>\n",
       "      <td>Terminal 1</td>\n",
       "      <td>NaN</td>\n",
       "      <td>IN</td>\n",
       "      <td>INBOUND</td>\n",
       "      <td>1</td>\n",
       "      <td>Air passenger</td>\n",
       "      <td>YES</td>\n",
       "      <td>...</td>\n",
       "      <td>Prefer not to say</td>\n",
       "      <td>No</td>\n",
       "      <td>0</td>\n",
       "      <td>NONE (0)</td>\n",
       "      <td>2.0</td>\n",
       "      <td>No</td>\n",
       "      <td>NO</td>\n",
       "      <td>ENGLISH</td>\n",
       "      <td>ENGLISH</td>\n",
       "      <td>NaN</td>\n",
       "    </tr>\n",
       "  </tbody>\n",
       "</table>\n",
       "<p>5 rows × 302 columns</p>\n",
       "</div>"
      ],
      "text/plain": [
       "   respondentid date_completed interview_location interview_location_label  \\\n",
       "0          4273      9/30/2024              Term1               Terminal 1   \n",
       "1          4282      9/30/2024              Term1               Terminal 1   \n",
       "2          4283      9/30/2024              Term1               Terminal 1   \n",
       "3          4286      9/30/2024              Term1               Terminal 1   \n",
       "4          4290      9/30/2024              Term1               Terminal 1   \n",
       "\n",
       "  interview_location_other inbound_or_outbound inbound_or_outbound_label  \\\n",
       "0                      NaN                 OUT                  OUTBOUND   \n",
       "1                      NaN                  IN                   INBOUND   \n",
       "2                      NaN                  IN                   INBOUND   \n",
       "3                      NaN                  IN                   INBOUND   \n",
       "4                      NaN                  IN                   INBOUND   \n",
       "\n",
       "   marketsegment marketsegment_label is_qualified_age  ...  \\\n",
       "0              1       Air passenger              YES  ...   \n",
       "1              1       Air passenger              YES  ...   \n",
       "2              1       Air passenger              YES  ...   \n",
       "3              1       Air passenger              YES  ...   \n",
       "4              1       Air passenger              YES  ...   \n",
       "\n",
       "   household_income_label is_income_below_poverty  number_workers  \\\n",
       "0         $75,000-$99,999                     NaN               2   \n",
       "1         $60,000-$74,999                     NaN               6   \n",
       "2         $60,000-$74,999                     NaN               0   \n",
       "3        $150,000 or more                     NaN               2   \n",
       "4       Prefer not to say                      No               0   \n",
       "\n",
       "  number_workers_label  sp_invitation sp_invitation_label  stay_informed  \\\n",
       "0              TWO (2)            2.0                  No             NO   \n",
       "1              SIX (6)            1.0                 Yes            NaN   \n",
       "2             NONE (0)            2.0                  No             NO   \n",
       "3              TWO (2)            1.0                 Yes            NaN   \n",
       "4             NONE (0)            2.0                  No             NO   \n",
       "\n",
       "  survey_language  survey_language_label survey_language_other  \n",
       "0         ENGLISH                ENGLISH                   NaN  \n",
       "1           SPANI                SPANISH                   NaN  \n",
       "2         ENGLISH                ENGLISH                   NaN  \n",
       "3         ENGLISH                ENGLISH                   NaN  \n",
       "4         ENGLISH                ENGLISH                   NaN  \n",
       "\n",
       "[5 rows x 302 columns]"
      ]
     },
     "execution_count": 7,
     "metadata": {},
     "output_type": "execute_result"
    }
   ],
   "source": [
    "clean_df.head()"
   ]
  },
  {
   "cell_type": "markdown",
   "metadata": {},
   "source": [
    "### Commonly occuring invalid values"
   ]
  },
  {
   "cell_type": "code",
   "execution_count": 8,
   "metadata": {},
   "outputs": [
    {
     "name": "stdout",
     "output_type": "stream",
     "text": [
      "['interview_location', 'flight_purpose', 'shift_start_airport_building', 'employer', 'occupation', 'origin_activity_type', 'main_mode', 'access_mode', 'parking_location', 'parking_cost_frequency', 'car_available', 'reverse_mode_predicted', 'reverse_commute_mode', 'same_commute_mode', 'gender']\n"
     ]
    }
   ],
   "source": [
    "# Get the list of columns that contain '-oth-' as a value\n",
    "columns_with_oth_value = [col for col in clean_df.columns if clean_df[col].eq('-oth-').any()]\n",
    "\n",
    "print(columns_with_oth_value)"
   ]
  },
  {
   "cell_type": "code",
   "execution_count": 9,
   "metadata": {},
   "outputs": [
    {
     "name": "stdout",
     "output_type": "stream",
     "text": [
      "['flight_number', 'origin_city', 'origin_state', 'origin_zip', 'destination_city', 'destination_zip', 'transit_boarding_stop_name', 'transit_boarding_latitude', 'transit_boarding_longitude', 'transit_alighting_stop_name', 'transit_alighting_latitude', 'transit_alighting_longitude', 'home_location_city', 'home_location_zip']\n"
     ]
    }
   ],
   "source": [
    "columns_with_dash_value = [col for col in clean_df.columns if clean_df[col].eq('-').any()]\n",
    "\n",
    "print(columns_with_dash_value)"
   ]
  },
  {
   "cell_type": "markdown",
   "metadata": {},
   "source": [
    "### Making all modes consistent"
   ]
  },
  {
   "cell_type": "code",
   "execution_count": 10,
   "metadata": {},
   "outputs": [
    {
     "data": {
      "text/plain": [
       "egress_mode_label\n",
       "Walk                                 20\n",
       "Picked up by car by family/friend     5\n",
       "Drive alone and park                  1\n",
       "Other shared van (please specify)     1\n",
       "Name: count, dtype: int64"
      ]
     },
     "execution_count": 10,
     "metadata": {},
     "output_type": "execute_result"
    }
   ],
   "source": [
    "clean_df['egress_mode_label'].value_counts()"
   ]
  },
  {
   "cell_type": "code",
   "execution_count": 11,
   "metadata": {},
   "outputs": [
    {
     "data": {
      "text/plain": [
       "other_airport_accessmode_label\n",
       "DROPPED OFF BY CAR BY FRIEND FAMILY               190\n",
       "UBER LYFT                                          76\n",
       "DROVE ALONE AND PARKED                             32\n",
       "DROVE WITH OTHERS AND PARKED                       23\n",
       "OTHER PUBLIC TRANSIT                               17\n",
       "RENTAL CAR AND DROPPED IT OFF AT RENTAL AGENCY     17\n",
       "TAXI                                               12\n",
       "WHEELCHAIR OR OTHER MOBILITY DEVICE                11\n",
       "RENTAL CAR AND PARKED IT                            8\n",
       "WALK                                                7\n",
       "CAR SERVICE BLACK CAR LIMO EXECUTIVE CAR            3\n",
       "HOTEL SHUTTLE VAN                                   3\n",
       "CHARTERED TOUR BUS                                  1\n",
       "PERSONAL NON ELECTRIC BICYCLE                       1\n",
       "OTHER SHARED RIDE VAN SERVICE                       1\n",
       "RODE WITH OTHER TRAVELER AND PARKED                 1\n",
       "ELECTRIC BIKESHARE                                  1\n",
       "EMPLOYEE SHUTTLE                                    1\n",
       "Name: count, dtype: int64"
      ]
     },
     "execution_count": 11,
     "metadata": {},
     "output_type": "execute_result"
    }
   ],
   "source": [
    "clean_df['other_airport_accessmode_label'].value_counts()"
   ]
  },
  {
   "cell_type": "code",
   "execution_count": 12,
   "metadata": {},
   "outputs": [],
   "source": [
    "other_airport_accessmode_label_map = {\n",
    "    'Walk': 'Walk',\n",
    "    'Wheelchair or other mobility device': 'Wheelchair or other mobility device',\n",
    "    'ELECTRIC BIKESHARE': 'Bicycle: electric bikeshare',\n",
    "    'NON ELECTRIC BIKESHARE': 'Bicycle: non-electric bikeshare',\n",
    "    'E SCOOTER SHARE': 'E-scooter: shared',\n",
    "    'PERSONAL ELECTRIC BICYCLE': 'Bicycle: personal electric bicycle',\n",
    "    'PERSONAL NON ELECTRIC BICYCLE': 'Bicycle: personal non-electric bicycle',\n",
    "    'PERSONAL E SCOOTER': 'E-scooter: personal',\n",
    "    'Taxi': 'Taxi',\n",
    "    'UBER LYFT': 'Uber/Lyft',\n",
    "    'CAR SERVICE BLACK CAR LIMO EXECUTIVE CAR': 'Car service/black car/limo/executive car',\n",
    "    'DROPPED OFF BY CAR BY FRIEND FAMILY': 'Dropped off by car by family/friend',\n",
    "    'Drove alone and parked': 'Drove alone and parked',\n",
    "    'Drove with others and parked': 'Drove with others and parked',\n",
    "    'RODE WITH OTHER TRAVELER AND PARKED': 'Rode with other traveler(s) and parked',\n",
    "    'Other public transit': 'Other public transit',\n",
    "    'Chartered tour bus': 'Chartered tour bus',\n",
    "    'Employee shuttle': 'Employee shuttle',\n",
    "    'RENTAL CAR AND DROPPED IT OFF AT RENTAL AGENCY': 'Rental car: Dropped off at rental agency',\n",
    "    'RENTAL CAR AND PARKED IT': 'Rental car: parked rental car',\n",
    "    'Hotel shuttle van': 'Hotel shuttle van',\n",
    "    'OTHER SHARED RIDE VAN SERVICE': 'Other shared van (please specify)',\n",
    "    'Other': 'Other',\n",
    "    'Refused/No Answer': 'Refused/No Answer'\n",
    "}\n",
    "clean_df['other_airport_accessmode_label'] = clean_df['other_airport_accessmode_label'].map(other_airport_accessmode_label_map)"
   ]
  },
  {
   "cell_type": "code",
   "execution_count": 13,
   "metadata": {},
   "outputs": [
    {
     "data": {
      "text/plain": [
       "other_airport_accessmode_label\n",
       "Dropped off by car by family/friend         190\n",
       "Uber/Lyft                                    76\n",
       "Rental car: Dropped off at rental agency     17\n",
       "Rental car: parked rental car                 8\n",
       "Car service/black car/limo/executive car      3\n",
       "Bicycle: personal non-electric bicycle        1\n",
       "Other shared van (please specify)             1\n",
       "Rode with other traveler(s) and parked        1\n",
       "Bicycle: electric bikeshare                   1\n",
       "Name: count, dtype: int64"
      ]
     },
     "execution_count": 13,
     "metadata": {},
     "output_type": "execute_result"
    }
   ],
   "source": [
    "clean_df['other_airport_accessmode_label'].value_counts()"
   ]
  },
  {
   "cell_type": "code",
   "execution_count": 14,
   "metadata": {},
   "outputs": [],
   "source": [
    "travel_mode_dict = {\n",
    "    'Walk': 1,\n",
    "    'Wheelchair or other mobility device': 2,\n",
    "    'Bicycle: electric bikeshare': 3,\n",
    "    'Bicycle: non-electric bikeshare': 4,\n",
    "    'E-scooter: shared': 5,\n",
    "    'Bicycle: personal electric bicycle': 6,\n",
    "    'Bicycle: personal non-electric bicycle': 7,\n",
    "    'E-scooter: personal': 8,\n",
    "    'Taxi': 9,\n",
    "    'Uber/Lyft': 10,\n",
    "    'Car service/black car/limo/executive car': 11,\n",
    "    'Dropped off by car by family/friend': 12,\n",
    "    'Drove alone and parked': 13,\n",
    "    'Drove with others and parked': 14,\n",
    "    'MTS Route 992': 15,\n",
    "    'Airport flyer shuttle': 16,\n",
    "    'Chartered tour bus': 17,\n",
    "    'Employee shuttle': 18,\n",
    "    'Rental car: Dropped off at rental agency': 19,\n",
    "    'Rental car: parked rental car': 20,\n",
    "    'Hotel shuttle van': 21,\n",
    "    'Other shared van (please specify)': 22,\n",
    "    'Picked up by car by family/friend': 23,\n",
    "    'Get in a parked vehicle and drive alone': 24,\n",
    "    'Get in a parked vehicle and drive with others': 25,\n",
    "    'Get in a parked vehicle and ride with other traveler(s)': 26,\n",
    "    'Rental car: Picked up at rental agency': 27,\n",
    "    'Rental car: get in a parked rental car': 28,\n",
    "    'Rode with other traveler(s) and parked': 29,\n",
    "    'Other public transit': 30,\n",
    "    'Other': 98,\n",
    "    'Refused/No Answer': 99,\n",
    "    'None of the above': 98\n",
    "}"
   ]
  },
  {
   "cell_type": "markdown",
   "metadata": {},
   "source": [
    "### Modes to fix"
   ]
  },
  {
   "cell_type": "code",
   "execution_count": 15,
   "metadata": {},
   "outputs": [],
   "source": [
    "mode_code_columns = ['main_transit_mode', 'main_mode', 'access_mode', 'egress_mode', 'reverse_mode', 'reverse_mode_predicted', 'other_airport_accessmode', 'reverse_commute_mode']\n",
    "mode_label_columns = ['main_transit_mode_label', 'main_mode_label', 'access_mode_label', 'egress_mode_label', 'reverse_mode_label', 'reverse_mode_predicted_label', 'other_airport_accessmode_label', 'reverse_commute_mode_label']"
   ]
  },
  {
   "cell_type": "code",
   "execution_count": 16,
   "metadata": {},
   "outputs": [],
   "source": [
    "#Remapping codes using label strings\n",
    "for mode_code_col, mode_label_col in zip(mode_code_columns, mode_label_columns):\n",
    "    # Apply the mapping for each pair of columns\n",
    "    clean_df[mode_code_col] = clean_df[mode_label_col].map(travel_mode_dict)"
   ]
  },
  {
   "cell_type": "code",
   "execution_count": 17,
   "metadata": {},
   "outputs": [
    {
     "data": {
      "text/plain": [
       "other_airport_accessmode_label\n",
       "Dropped off by car by family/friend         190\n",
       "Uber/Lyft                                    76\n",
       "Rental car: Dropped off at rental agency     17\n",
       "Rental car: parked rental car                 8\n",
       "Car service/black car/limo/executive car      3\n",
       "Bicycle: personal non-electric bicycle        1\n",
       "Other shared van (please specify)             1\n",
       "Rode with other traveler(s) and parked        1\n",
       "Bicycle: electric bikeshare                   1\n",
       "Name: count, dtype: int64"
      ]
     },
     "execution_count": 17,
     "metadata": {},
     "output_type": "execute_result"
    }
   ],
   "source": [
    "clean_df['other_airport_accessmode_label'].value_counts()"
   ]
  },
  {
   "cell_type": "code",
   "execution_count": 18,
   "metadata": {},
   "outputs": [
    {
     "data": {
      "text/plain": [
       "other_airport_accessmode\n",
       "12.0    190\n",
       "10.0     76\n",
       "19.0     17\n",
       "20.0      8\n",
       "11.0      3\n",
       "7.0       1\n",
       "22.0      1\n",
       "29.0      1\n",
       "3.0       1\n",
       "Name: count, dtype: int64"
      ]
     },
     "execution_count": 18,
     "metadata": {},
     "output_type": "execute_result"
    }
   ],
   "source": [
    "clean_df['other_airport_accessmode'].value_counts()"
   ]
  },
  {
   "cell_type": "code",
   "execution_count": 19,
   "metadata": {},
   "outputs": [
    {
     "data": {
      "text/plain": [
       "main_transit_mode\n",
       "98    3283\n",
       "16     186\n",
       "15     128\n",
       "Name: count, dtype: int64"
      ]
     },
     "execution_count": 19,
     "metadata": {},
     "output_type": "execute_result"
    }
   ],
   "source": [
    "clean_df['main_transit_mode'].value_counts()"
   ]
  },
  {
   "cell_type": "markdown",
   "metadata": {},
   "source": [
    "### Pre-processing of some fields"
   ]
  },
  {
   "cell_type": "code",
   "execution_count": 20,
   "metadata": {},
   "outputs": [
    {
     "name": "stderr",
     "output_type": "stream",
     "text": [
      "C:\\Users\\USVV724227\\AppData\\Local\\Temp\\ipykernel_22916\\181201049.py:2: FutureWarning: Downcasting behavior in `replace` is deprecated and will be removed in a future version. To retain the old behavior, explicitly call `result.infer_objects(copy=False)`. To opt-in to the future behavior, set `pd.set_option('future.no_silent_downcasting', True)`\n",
      "  clean_df.replace('-oth-', 98, inplace=True)\n"
     ]
    }
   ],
   "source": [
    "clean_df['date_completed'] = pd.to_datetime(clean_df['date_completed'])\n",
    "clean_df.replace('-oth-', 98, inplace=True)\n",
    "clean_df.replace('-', None, inplace = True )\n",
    "\n",
    "#Maps\n",
    "interview_location_map = {'Term1' : 1, 'Term2': 2, 'MTS_1_992': 3, 'SDA_1_FLYER': 4, 'ConracShuttle': 5, 'ParkingShuttle': 6, 'EmplParking': 7, '-oth-':98} \n",
    "inbound_outbound_map = {'IN':1, 'OUT':2}\n",
    "#main_transit_mode_map = {'SDA_1_FLYER': 16, 'MTS_1_992': 15, 3: 98}\n",
    "\n",
    "all_modes_map = {}\n",
    "#route_fields:\n",
    "route_fields = ['to_airport_transit_route_1', 'to_airport_transit_route_2', 'to_airport_transit_route_3', 'to_airport_transit_route_4',\n",
    "                'from_airport_transit_route_1', 'from_airport_transit_route_2', 'from_airport_transit_route_3', 'from_airport_transit_route_4']\n",
    "\n",
    "#Replacement\n",
    "clean_df['interview_location'] = clean_df['interview_location'].map(interview_location_map)\n",
    "clean_df['inbound_or_outbound'] = clean_df['inbound_or_outbound'].map(inbound_outbound_map)\n",
    "clean_df['main_mode'] = np.where(clean_df['main_transit_mode'].isin([15,16]), clean_df['main_transit_mode'], clean_df['main_mode'])\n",
    "\n",
    "clean_df[route_fields] = clean_df[route_fields].replace(98, 'OTHER')\n",
    "clean_df['nights_visited'] = clean_df['nights_visited'] - 1\n",
    "\n",
    "clean_df['household_income'] = np.where(clean_df['household_income'] >= 15, 13, clean_df['household_income'])\n",
    "clean_df['same_commute_mode'] = np.where(clean_df['same_commute_mode'] == 0, 2, clean_df['same_commute_mode'])\n",
    "clean_df['resident_visitor_followup'] = np.where(clean_df['resident_visitor_followup'] == 0, 2, clean_df['resident_visitor_followup'])\n",
    "\n",
    "#activity_type\n",
    "clean_df['origin_activity_type'] = np.where(clean_df['inbound_or_outbound'] == e.InboundOutbound.OUTBOUND_FROM_AIRPORT, None, clean_df['origin_activity_type'])\n",
    "clean_df['destination_activity_type'] = np.where(clean_df['inbound_or_outbound'] == e.InboundOutbound.INBOUND_TO_AIRPORT, None, clean_df['destination_activity_type'])\n"
   ]
  },
  {
   "cell_type": "code",
   "execution_count": 21,
   "metadata": {},
   "outputs": [
    {
     "data": {
      "text/plain": [
       "0       1.0\n",
       "1       1.0\n",
       "2       1.0\n",
       "3       1.0\n",
       "4       1.0\n",
       "       ... \n",
       "3592    2.0\n",
       "3593    1.0\n",
       "3594    1.0\n",
       "3595    2.0\n",
       "3596    1.0\n",
       "Name: interview_location, Length: 3597, dtype: float64"
      ]
     },
     "execution_count": 21,
     "metadata": {},
     "output_type": "execute_result"
    }
   ],
   "source": [
    "clean_df['interview_location']"
   ]
  },
  {
   "cell_type": "code",
   "execution_count": 22,
   "metadata": {},
   "outputs": [],
   "source": [
    "clean_df.to_csv(clean_survey_file, index = False)"
   ]
  },
  {
   "cell_type": "markdown",
   "metadata": {},
   "source": [
    "### Select Variables to verify for the survey"
   ]
  },
  {
   "cell_type": "code",
   "execution_count": 23,
   "metadata": {},
   "outputs": [
    {
     "data": {
      "text/html": [
       "<div>\n",
       "<style scoped>\n",
       "    .dataframe tbody tr th:only-of-type {\n",
       "        vertical-align: middle;\n",
       "    }\n",
       "\n",
       "    .dataframe tbody tr th {\n",
       "        vertical-align: top;\n",
       "    }\n",
       "\n",
       "    .dataframe thead th {\n",
       "        text-align: right;\n",
       "    }\n",
       "</style>\n",
       "<table border=\"1\" class=\"dataframe\">\n",
       "  <thead>\n",
       "    <tr style=\"text-align: right;\">\n",
       "      <th></th>\n",
       "      <th>previous_or_next_airport</th>\n",
       "      <th>airline_other</th>\n",
       "      <th>reasons_no_transit_not_flexible</th>\n",
       "      <th>alt_commute_mode_bicycle_non_electric_bikeshare</th>\n",
       "      <th>origin_zip</th>\n",
       "      <th>sdia_accessmode_split_dropped_off_by_family_friend</th>\n",
       "      <th>non_sdia_flight_frequency</th>\n",
       "      <th>resident_visitor_general</th>\n",
       "      <th>home_location_city</th>\n",
       "      <th>reasons_no_transit_prefer_other_mode</th>\n",
       "      <th>...</th>\n",
       "      <th>stay_informed</th>\n",
       "      <th>race_middle_eastern</th>\n",
       "      <th>alt_commute_mode_bicycle_electric_bikeshare</th>\n",
       "      <th>employer_other</th>\n",
       "      <th>to_airport_transit_route_3_other</th>\n",
       "      <th>race_hispanic</th>\n",
       "      <th>parking_location_other</th>\n",
       "      <th>interview_location</th>\n",
       "      <th>final_flight_destination</th>\n",
       "      <th>alt_commute_mode_other_shared_van</th>\n",
       "    </tr>\n",
       "  </thead>\n",
       "  <tbody>\n",
       "    <tr>\n",
       "      <th>0</th>\n",
       "      <td>San Francisco</td>\n",
       "      <td>NaN</td>\n",
       "      <td>No</td>\n",
       "      <td>NaN</td>\n",
       "      <td>NaN</td>\n",
       "      <td>NaN</td>\n",
       "      <td>0.0</td>\n",
       "      <td>3.0</td>\n",
       "      <td>NaN</td>\n",
       "      <td>NaN</td>\n",
       "      <td>...</td>\n",
       "      <td>NO</td>\n",
       "      <td>No</td>\n",
       "      <td>NaN</td>\n",
       "      <td>NaN</td>\n",
       "      <td>NaN</td>\n",
       "      <td>No</td>\n",
       "      <td>NaN</td>\n",
       "      <td>1.0</td>\n",
       "      <td>NaN</td>\n",
       "      <td>NaN</td>\n",
       "    </tr>\n",
       "    <tr>\n",
       "      <th>1</th>\n",
       "      <td>San jose</td>\n",
       "      <td>NaN</td>\n",
       "      <td>NaN</td>\n",
       "      <td>NaN</td>\n",
       "      <td>None</td>\n",
       "      <td>No</td>\n",
       "      <td>4.0</td>\n",
       "      <td>2.0</td>\n",
       "      <td>NaN</td>\n",
       "      <td>NaN</td>\n",
       "      <td>...</td>\n",
       "      <td>NaN</td>\n",
       "      <td>No</td>\n",
       "      <td>NaN</td>\n",
       "      <td>NaN</td>\n",
       "      <td>NaN</td>\n",
       "      <td>Yes</td>\n",
       "      <td>NaN</td>\n",
       "      <td>1.0</td>\n",
       "      <td>NaN</td>\n",
       "      <td>NaN</td>\n",
       "    </tr>\n",
       "    <tr>\n",
       "      <th>2</th>\n",
       "      <td>San jose</td>\n",
       "      <td>NaN</td>\n",
       "      <td>No</td>\n",
       "      <td>NaN</td>\n",
       "      <td>92024</td>\n",
       "      <td>NaN</td>\n",
       "      <td>2.0</td>\n",
       "      <td>1.0</td>\n",
       "      <td>NaN</td>\n",
       "      <td>NaN</td>\n",
       "      <td>...</td>\n",
       "      <td>NO</td>\n",
       "      <td>No</td>\n",
       "      <td>NaN</td>\n",
       "      <td>NaN</td>\n",
       "      <td>NaN</td>\n",
       "      <td>Yes</td>\n",
       "      <td>NaN</td>\n",
       "      <td>1.0</td>\n",
       "      <td>NaN</td>\n",
       "      <td>NaN</td>\n",
       "    </tr>\n",
       "    <tr>\n",
       "      <th>3</th>\n",
       "      <td>Smf</td>\n",
       "      <td>NaN</td>\n",
       "      <td>No</td>\n",
       "      <td>NaN</td>\n",
       "      <td>92075</td>\n",
       "      <td>NaN</td>\n",
       "      <td>2.0</td>\n",
       "      <td>1.0</td>\n",
       "      <td>Sacramento</td>\n",
       "      <td>NaN</td>\n",
       "      <td>...</td>\n",
       "      <td>NaN</td>\n",
       "      <td>No</td>\n",
       "      <td>NaN</td>\n",
       "      <td>NaN</td>\n",
       "      <td>NaN</td>\n",
       "      <td>No</td>\n",
       "      <td>NaN</td>\n",
       "      <td>1.0</td>\n",
       "      <td>NaN</td>\n",
       "      <td>NaN</td>\n",
       "    </tr>\n",
       "    <tr>\n",
       "      <th>4</th>\n",
       "      <td>Chicago</td>\n",
       "      <td>NaN</td>\n",
       "      <td>No</td>\n",
       "      <td>NaN</td>\n",
       "      <td>92110</td>\n",
       "      <td>NaN</td>\n",
       "      <td>0.0</td>\n",
       "      <td>1.0</td>\n",
       "      <td>Chicago</td>\n",
       "      <td>NaN</td>\n",
       "      <td>...</td>\n",
       "      <td>NO</td>\n",
       "      <td>No</td>\n",
       "      <td>NaN</td>\n",
       "      <td>NaN</td>\n",
       "      <td>NaN</td>\n",
       "      <td>No</td>\n",
       "      <td>NaN</td>\n",
       "      <td>1.0</td>\n",
       "      <td>NaN</td>\n",
       "      <td>NaN</td>\n",
       "    </tr>\n",
       "  </tbody>\n",
       "</table>\n",
       "<p>5 rows × 239 columns</p>\n",
       "</div>"
      ],
      "text/plain": [
       "  previous_or_next_airport  airline_other reasons_no_transit_not_flexible  \\\n",
       "0            San Francisco            NaN                              No   \n",
       "1                 San jose            NaN                             NaN   \n",
       "2                 San jose            NaN                              No   \n",
       "3                      Smf            NaN                              No   \n",
       "4                  Chicago            NaN                              No   \n",
       "\n",
       "  alt_commute_mode_bicycle_non_electric_bikeshare origin_zip  \\\n",
       "0                                             NaN        NaN   \n",
       "1                                             NaN       None   \n",
       "2                                             NaN      92024   \n",
       "3                                             NaN      92075   \n",
       "4                                             NaN      92110   \n",
       "\n",
       "  sdia_accessmode_split_dropped_off_by_family_friend  \\\n",
       "0                                                NaN   \n",
       "1                                                 No   \n",
       "2                                                NaN   \n",
       "3                                                NaN   \n",
       "4                                                NaN   \n",
       "\n",
       "   non_sdia_flight_frequency  resident_visitor_general home_location_city  \\\n",
       "0                        0.0                       3.0                NaN   \n",
       "1                        4.0                       2.0                NaN   \n",
       "2                        2.0                       1.0                NaN   \n",
       "3                        2.0                       1.0         Sacramento   \n",
       "4                        0.0                       1.0            Chicago   \n",
       "\n",
       "  reasons_no_transit_prefer_other_mode  ... stay_informed  \\\n",
       "0                                  NaN  ...            NO   \n",
       "1                                  NaN  ...           NaN   \n",
       "2                                  NaN  ...            NO   \n",
       "3                                  NaN  ...           NaN   \n",
       "4                                  NaN  ...            NO   \n",
       "\n",
       "   race_middle_eastern  alt_commute_mode_bicycle_electric_bikeshare  \\\n",
       "0                   No                                          NaN   \n",
       "1                   No                                          NaN   \n",
       "2                   No                                          NaN   \n",
       "3                   No                                          NaN   \n",
       "4                   No                                          NaN   \n",
       "\n",
       "   employer_other  to_airport_transit_route_3_other race_hispanic  \\\n",
       "0             NaN                               NaN            No   \n",
       "1             NaN                               NaN           Yes   \n",
       "2             NaN                               NaN           Yes   \n",
       "3             NaN                               NaN            No   \n",
       "4             NaN                               NaN            No   \n",
       "\n",
       "   parking_location_other interview_location  final_flight_destination  \\\n",
       "0                     NaN                1.0                       NaN   \n",
       "1                     NaN                1.0                       NaN   \n",
       "2                     NaN                1.0                       NaN   \n",
       "3                     NaN                1.0                       NaN   \n",
       "4                     NaN                1.0                       NaN   \n",
       "\n",
       "  alt_commute_mode_other_shared_van  \n",
       "0                               NaN  \n",
       "1                               NaN  \n",
       "2                               NaN  \n",
       "3                               NaN  \n",
       "4                               NaN  \n",
       "\n",
       "[5 rows x 239 columns]"
      ]
     },
     "execution_count": 23,
     "metadata": {},
     "output_type": "execute_result"
    }
   ],
   "source": [
    "respondent_variables = [field_name for field_name, field_info in Respondent.__fields__.items()]\n",
    "\n",
    "\n",
    "trip_variables = [field_name for field_name, field_info in Trip.__fields__.items()]\n",
    "trip_variables.append('respondentid')\n",
    "\n",
    "employee_variables = [field_name for field_name, field_info in Employee.__fields__.items()]\n",
    "employee_variables.remove('trip')\n",
    "\n",
    "air_passenger_variables = [field_name for field_name, field_info in AirPassenger.__fields__.items()]\n",
    "air_passenger_variables.remove('trip')\n",
    "\n",
    "variables_to_verify = list(set(air_passenger_variables + respondent_variables + trip_variables + employee_variables))\n",
    "variables_to_verify.remove('trip')\n",
    "variables_to_verify.remove('valid_record')\n",
    "variables_to_verify.remove('validation_error')\n",
    "variables_to_verify.remove('validation_severity')\n",
    "\n",
    "\n",
    "working_df = clean_df.copy()\n",
    "working_df = working_df[variables_to_verify].copy()\n",
    "working_df = working_df.loc[working_df['marketsegment'].notna()].copy()\n",
    "working_df.head()"
   ]
  },
  {
   "cell_type": "code",
   "execution_count": 24,
   "metadata": {},
   "outputs": [
    {
     "data": {
      "text/plain": [
       "(3597, 239)"
      ]
     },
     "execution_count": 24,
     "metadata": {},
     "output_type": "execute_result"
    }
   ],
   "source": [
    "working_df.shape"
   ]
  },
  {
   "cell_type": "markdown",
   "metadata": {},
   "source": [
    "### Serialize the data"
   ]
  },
  {
   "cell_type": "code",
   "execution_count": 25,
   "metadata": {},
   "outputs": [],
   "source": [
    "trips_df = working_df[trip_variables].copy()\n",
    "persons_df = working_df[list[set(employee_variables + respondent_variables + air_passenger_variables)]].copy()"
   ]
  },
  {
   "cell_type": "code",
   "execution_count": 26,
   "metadata": {},
   "outputs": [],
   "source": [
    "# combined\n",
    "respondent_list = add_list_objects(\n",
    "        trips_df.to_dict(orient=\"records\"),  #child list\n",
    "        \"respondentid\", # child key\n",
    "        persons_df.to_dict(orient=\"records\"), # parent list\n",
    "        \"respondentid\", # parent key\n",
    "        \"trip\", # parent var\n",
    "    )"
   ]
  },
  {
   "cell_type": "code",
   "execution_count": 27,
   "metadata": {},
   "outputs": [
    {
     "data": {
      "text/plain": [
       "3597"
      ]
     },
     "execution_count": 27,
     "metadata": {},
     "output_type": "execute_result"
    }
   ],
   "source": [
    "len(respondent_list)"
   ]
  },
  {
   "cell_type": "code",
   "execution_count": 28,
   "metadata": {},
   "outputs": [
    {
     "data": {
      "text/html": [
       "<div>\n",
       "<style scoped>\n",
       "    .dataframe tbody tr th:only-of-type {\n",
       "        vertical-align: middle;\n",
       "    }\n",
       "\n",
       "    .dataframe tbody tr th {\n",
       "        vertical-align: top;\n",
       "    }\n",
       "\n",
       "    .dataframe thead th {\n",
       "        text-align: right;\n",
       "    }\n",
       "</style>\n",
       "<table border=\"1\" class=\"dataframe\">\n",
       "  <thead>\n",
       "    <tr style=\"text-align: right;\">\n",
       "      <th></th>\n",
       "    </tr>\n",
       "  </thead>\n",
       "  <tbody>\n",
       "  </tbody>\n",
       "</table>\n",
       "</div>"
      ],
      "text/plain": [
       "Empty DataFrame\n",
       "Columns: []\n",
       "Index: []"
      ]
     },
     "execution_count": 28,
     "metadata": {},
     "output_type": "execute_result"
    }
   ],
   "source": [
    "employee_list = []\n",
    "air_passenger_list = []\n",
    "other_list = []\n",
    "failed_records = []\n",
    "\n",
    "for respondent in respondent_list:\n",
    "    market_segment = respondent[\"marketsegment\"]\n",
    "    try:\n",
    "        if market_segment == e.Type.EMPLOYEE:\n",
    "            ev = Employee(** respondent)\n",
    "            employee_list.append(ev)\n",
    "        elif market_segment == e.Type.PASSENGER:\n",
    "             av = AirPassenger(** respondent)\n",
    "             air_passenger_list.append(av)\n",
    "        else:\n",
    "            rv = Respondent(** respondent)\n",
    "            other_list.append(rv)\n",
    "    except ValidationError as err:\n",
    "            respondent['error_flag'] = 'failed'\n",
    "            respondent['error_message'] = str(err)\n",
    "            failed_records.append(respondent) \n",
    "\n",
    "\n",
    "failed_df = pd.DataFrame(failed_records)\n",
    "failed_df.head()"
   ]
  },
  {
   "cell_type": "code",
   "execution_count": 29,
   "metadata": {},
   "outputs": [
    {
     "data": {
      "text/plain": [
       "(0, 0)"
      ]
     },
     "execution_count": 29,
     "metadata": {},
     "output_type": "execute_result"
    }
   ],
   "source": [
    "failed_df.shape"
   ]
  },
  {
   "cell_type": "code",
   "execution_count": 30,
   "metadata": {},
   "outputs": [],
   "source": [
    "#failed_df['error_message'].head()"
   ]
  },
  {
   "cell_type": "code",
   "execution_count": 31,
   "metadata": {},
   "outputs": [],
   "source": [
    "#failed_df.to_csv('../data/processed/failed_records.csv', index = False)"
   ]
  },
  {
   "cell_type": "code",
   "execution_count": 32,
   "metadata": {},
   "outputs": [
    {
     "data": {
      "text/plain": [
       "0"
      ]
     },
     "execution_count": 32,
     "metadata": {},
     "output_type": "execute_result"
    }
   ],
   "source": [
    "len(failed_df)"
   ]
  },
  {
   "cell_type": "markdown",
   "metadata": {},
   "source": [
    "### Make Data"
   ]
  },
  {
   "cell_type": "code",
   "execution_count": 33,
   "metadata": {},
   "outputs": [
    {
     "name": "stderr",
     "output_type": "stream",
     "text": [
      "c:\\Users\\USVV724227\\AppData\\Local\\Programs\\Python\\Python312\\Lib\\site-packages\\pydantic\\main.py:364: UserWarning: Pydantic serializer warnings:\n",
      "  Expected `float` but got `str` - serialized value may not be as expected\n",
      "  return self.__pydantic_serializer__.to_python(\n"
     ]
    }
   ],
   "source": [
    "employee_df = pd.DataFrame([Employee.model_dump() for Employee in employee_list])       \n",
    "employee_df = add_enum_label_columns(employee_df,Employee)\n",
    "employee_df = add_enum_label_columns(employee_df,Respondent)"
   ]
  },
  {
   "cell_type": "code",
   "execution_count": 34,
   "metadata": {},
   "outputs": [
    {
     "name": "stderr",
     "output_type": "stream",
     "text": [
      "c:\\Users\\USVV724227\\AppData\\Local\\Programs\\Python\\Python312\\Lib\\site-packages\\pydantic\\main.py:364: UserWarning: Pydantic serializer warnings:\n",
      "  Expected `float` but got `str` - serialized value may not be as expected\n",
      "  return self.__pydantic_serializer__.to_python(\n",
      "c:\\Users\\USVV724227\\AppData\\Local\\Programs\\Python\\Python312\\Lib\\site-packages\\pydantic\\main.py:364: UserWarning: Pydantic serializer warnings:\n",
      "  Expected `float` but got `str` - serialized value may not be as expected\n",
      "  Expected `float` but got `str` - serialized value may not be as expected\n",
      "  return self.__pydantic_serializer__.to_python(\n"
     ]
    }
   ],
   "source": [
    "passenger_df = pd.DataFrame([AirPassenger.model_dump() for AirPassenger in air_passenger_list])\n",
    "passenger_df = add_enum_label_columns(passenger_df,AirPassenger)\n",
    "passenger_df = add_enum_label_columns(passenger_df,Respondent)"
   ]
  },
  {
   "cell_type": "code",
   "execution_count": 35,
   "metadata": {},
   "outputs": [],
   "source": [
    "other_df = pd.DataFrame([Respondent.model_dump() for Respondent in other_list])\n",
    "# other_df = add_enum_label_columns(other_df, Respondent)"
   ]
  },
  {
   "cell_type": "code",
   "execution_count": 36,
   "metadata": {},
   "outputs": [
    {
     "data": {
      "text/plain": [
       "[]"
      ]
     },
     "execution_count": 36,
     "metadata": {},
     "output_type": "execute_result"
    }
   ],
   "source": [
    "other_list"
   ]
  },
  {
   "cell_type": "code",
   "execution_count": 37,
   "metadata": {},
   "outputs": [
    {
     "name": "stderr",
     "output_type": "stream",
     "text": [
      "c:\\Users\\USVV724227\\AppData\\Local\\Programs\\Python\\Python312\\Lib\\site-packages\\pydantic\\main.py:364: UserWarning: Pydantic serializer warnings:\n",
      "  Expected `float` but got `str` - serialized value may not be as expected\n",
      "  return self.__pydantic_serializer__.to_python(\n",
      "c:\\Users\\USVV724227\\AppData\\Local\\Programs\\Python\\Python312\\Lib\\site-packages\\pydantic\\main.py:364: UserWarning: Pydantic serializer warnings:\n",
      "  Expected `float` but got `str` - serialized value may not be as expected\n",
      "  Expected `float` but got `str` - serialized value may not be as expected\n",
      "  return self.__pydantic_serializer__.to_python(\n"
     ]
    }
   ],
   "source": [
    "trip_list = []\n",
    "id_list = []\n",
    "for record in employee_list + air_passenger_list + other_list:\n",
    "    trip_list.append(record.trip)\n",
    "    id_list.append(record.respondentid)\n",
    "\n",
    "trip_df = pd.DataFrame([Trip.model_dump() for Trip in trip_list])\n",
    "id_df = pd.DataFrame(id_list, columns=[\"respondentid\"])\n",
    "\n",
    "trip_df = pd.concat([id_df, trip_df], axis=1)\n",
    "trip_df = add_enum_label_columns(trip_df,Trip)\n"
   ]
  },
  {
   "cell_type": "code",
   "execution_count": 38,
   "metadata": {},
   "outputs": [
    {
     "name": "stderr",
     "output_type": "stream",
     "text": [
      "C:\\Users\\USVV724227\\AppData\\Local\\Temp\\ipykernel_22916\\2189731026.py:1: FutureWarning: The behavior of DataFrame concatenation with empty or all-NA entries is deprecated. In a future version, this will no longer exclude empty or all-NA columns when determining the result dtypes. To retain the old behavior, exclude the relevant entries before the concat operation.\n",
      "  output_df = pd.concat([employee_df, passenger_df, other_df], axis=0).reset_index(drop=True).drop(columns=[\"trip\"])\n"
     ]
    }
   ],
   "source": [
    "output_df = pd.concat([employee_df, passenger_df, other_df], axis=0).reset_index(drop=True).drop(columns=[\"trip\"])\n",
    "output_df = pd.merge(output_df, trip_df, on=\"respondentid\", how=\"left\")"
   ]
  },
  {
   "cell_type": "code",
   "execution_count": 39,
   "metadata": {},
   "outputs": [
    {
     "data": {
      "text/plain": [
       "(3597, 312)"
      ]
     },
     "execution_count": 39,
     "metadata": {},
     "output_type": "execute_result"
    }
   ],
   "source": [
    "output_df.shape"
   ]
  },
  {
   "cell_type": "code",
   "execution_count": 40,
   "metadata": {},
   "outputs": [
    {
     "data": {
      "text/plain": [
       "destination_activity_type_label\n",
       "nan                3457\n",
       "HOTEL                53\n",
       "HOME                 52\n",
       "OTHER_RESIDENCE      21\n",
       "OTHER                 8\n",
       "OTHER_BUSINESS        6\n",
       "Name: count, dtype: int64"
      ]
     },
     "execution_count": 40,
     "metadata": {},
     "output_type": "execute_result"
    }
   ],
   "source": [
    "output_df['destination_activity_type_label'].value_counts()"
   ]
  },
  {
   "cell_type": "code",
   "execution_count": 41,
   "metadata": {},
   "outputs": [
    {
     "data": {
      "text/html": [
       "<div>\n",
       "<style scoped>\n",
       "    .dataframe tbody tr th:only-of-type {\n",
       "        vertical-align: middle;\n",
       "    }\n",
       "\n",
       "    .dataframe tbody tr th {\n",
       "        vertical-align: top;\n",
       "    }\n",
       "\n",
       "    .dataframe thead th {\n",
       "        text-align: right;\n",
       "    }\n",
       "</style>\n",
       "<table border=\"1\" class=\"dataframe\">\n",
       "  <thead>\n",
       "    <tr style=\"text-align: right;\">\n",
       "      <th></th>\n",
       "      <th>respondentid</th>\n",
       "      <th>date_completed</th>\n",
       "      <th>interview_location</th>\n",
       "      <th>interview_location_label</th>\n",
       "      <th>interview_location_other</th>\n",
       "      <th>inbound_or_outbound</th>\n",
       "      <th>inbound_or_outbound_label</th>\n",
       "      <th>marketsegment</th>\n",
       "      <th>marketsegment_label</th>\n",
       "      <th>is_qualified_age</th>\n",
       "      <th>...</th>\n",
       "      <th>is_original_origin</th>\n",
       "      <th>next_flight_destination</th>\n",
       "      <th>non_airport_activity_type</th>\n",
       "      <th>parking_cost_numeric</th>\n",
       "      <th>previous_flight_origin</th>\n",
       "      <th>taxi_fhv_fare_numeric</th>\n",
       "      <th>taxi_fhv_wait_numeric</th>\n",
       "      <th>valid_record</th>\n",
       "      <th>validation_error</th>\n",
       "      <th>validation_severity</th>\n",
       "    </tr>\n",
       "  </thead>\n",
       "  <tbody>\n",
       "    <tr>\n",
       "      <th>0</th>\n",
       "      <td>4399</td>\n",
       "      <td>2024-09-30</td>\n",
       "      <td>2.0</td>\n",
       "      <td>TERMINAL_2</td>\n",
       "      <td>None</td>\n",
       "      <td>1</td>\n",
       "      <td>INBOUND_TO_AIRPORT</td>\n",
       "      <td>2</td>\n",
       "      <td>EMPLOYEE</td>\n",
       "      <td>True</td>\n",
       "      <td>...</td>\n",
       "      <td>NaN</td>\n",
       "      <td>NaN</td>\n",
       "      <td>2</td>\n",
       "      <td>None</td>\n",
       "      <td>NaN</td>\n",
       "      <td>None</td>\n",
       "      <td>None</td>\n",
       "      <td>True</td>\n",
       "      <td></td>\n",
       "      <td></td>\n",
       "    </tr>\n",
       "    <tr>\n",
       "      <th>1</th>\n",
       "      <td>4409</td>\n",
       "      <td>2024-09-30</td>\n",
       "      <td>2.0</td>\n",
       "      <td>TERMINAL_2</td>\n",
       "      <td>None</td>\n",
       "      <td>1</td>\n",
       "      <td>INBOUND_TO_AIRPORT</td>\n",
       "      <td>2</td>\n",
       "      <td>EMPLOYEE</td>\n",
       "      <td>True</td>\n",
       "      <td>...</td>\n",
       "      <td>NaN</td>\n",
       "      <td>NaN</td>\n",
       "      <td>2</td>\n",
       "      <td>150.0</td>\n",
       "      <td>NaN</td>\n",
       "      <td>None</td>\n",
       "      <td>None</td>\n",
       "      <td>True</td>\n",
       "      <td></td>\n",
       "      <td></td>\n",
       "    </tr>\n",
       "    <tr>\n",
       "      <th>2</th>\n",
       "      <td>4419</td>\n",
       "      <td>2024-09-30</td>\n",
       "      <td>2.0</td>\n",
       "      <td>TERMINAL_2</td>\n",
       "      <td>None</td>\n",
       "      <td>1</td>\n",
       "      <td>INBOUND_TO_AIRPORT</td>\n",
       "      <td>2</td>\n",
       "      <td>EMPLOYEE</td>\n",
       "      <td>True</td>\n",
       "      <td>...</td>\n",
       "      <td>NaN</td>\n",
       "      <td>NaN</td>\n",
       "      <td>6</td>\n",
       "      <td>None</td>\n",
       "      <td>NaN</td>\n",
       "      <td>None</td>\n",
       "      <td>None</td>\n",
       "      <td>True</td>\n",
       "      <td></td>\n",
       "      <td></td>\n",
       "    </tr>\n",
       "    <tr>\n",
       "      <th>3</th>\n",
       "      <td>4435</td>\n",
       "      <td>2024-09-30</td>\n",
       "      <td>2.0</td>\n",
       "      <td>TERMINAL_2</td>\n",
       "      <td>None</td>\n",
       "      <td>1</td>\n",
       "      <td>INBOUND_TO_AIRPORT</td>\n",
       "      <td>2</td>\n",
       "      <td>EMPLOYEE</td>\n",
       "      <td>True</td>\n",
       "      <td>...</td>\n",
       "      <td>NaN</td>\n",
       "      <td>NaN</td>\n",
       "      <td>2</td>\n",
       "      <td>15.0</td>\n",
       "      <td>NaN</td>\n",
       "      <td>None</td>\n",
       "      <td>None</td>\n",
       "      <td>True</td>\n",
       "      <td></td>\n",
       "      <td></td>\n",
       "    </tr>\n",
       "    <tr>\n",
       "      <th>4</th>\n",
       "      <td>4482</td>\n",
       "      <td>2024-10-01</td>\n",
       "      <td>2.0</td>\n",
       "      <td>TERMINAL_2</td>\n",
       "      <td>None</td>\n",
       "      <td>1</td>\n",
       "      <td>INBOUND_TO_AIRPORT</td>\n",
       "      <td>2</td>\n",
       "      <td>EMPLOYEE</td>\n",
       "      <td>True</td>\n",
       "      <td>...</td>\n",
       "      <td>NaN</td>\n",
       "      <td>NaN</td>\n",
       "      <td>2</td>\n",
       "      <td>None</td>\n",
       "      <td>NaN</td>\n",
       "      <td>None</td>\n",
       "      <td>None</td>\n",
       "      <td>True</td>\n",
       "      <td></td>\n",
       "      <td></td>\n",
       "    </tr>\n",
       "  </tbody>\n",
       "</table>\n",
       "<p>5 rows × 312 columns</p>\n",
       "</div>"
      ],
      "text/plain": [
       "   respondentid date_completed  interview_location interview_location_label  \\\n",
       "0          4399     2024-09-30                 2.0               TERMINAL_2   \n",
       "1          4409     2024-09-30                 2.0               TERMINAL_2   \n",
       "2          4419     2024-09-30                 2.0               TERMINAL_2   \n",
       "3          4435     2024-09-30                 2.0               TERMINAL_2   \n",
       "4          4482     2024-10-01                 2.0               TERMINAL_2   \n",
       "\n",
       "  interview_location_other  inbound_or_outbound inbound_or_outbound_label  \\\n",
       "0                     None                    1        INBOUND_TO_AIRPORT   \n",
       "1                     None                    1        INBOUND_TO_AIRPORT   \n",
       "2                     None                    1        INBOUND_TO_AIRPORT   \n",
       "3                     None                    1        INBOUND_TO_AIRPORT   \n",
       "4                     None                    1        INBOUND_TO_AIRPORT   \n",
       "\n",
       "   marketsegment marketsegment_label  is_qualified_age  ...  \\\n",
       "0              2            EMPLOYEE              True  ...   \n",
       "1              2            EMPLOYEE              True  ...   \n",
       "2              2            EMPLOYEE              True  ...   \n",
       "3              2            EMPLOYEE              True  ...   \n",
       "4              2            EMPLOYEE              True  ...   \n",
       "\n",
       "   is_original_origin next_flight_destination non_airport_activity_type  \\\n",
       "0                 NaN                     NaN                         2   \n",
       "1                 NaN                     NaN                         2   \n",
       "2                 NaN                     NaN                         6   \n",
       "3                 NaN                     NaN                         2   \n",
       "4                 NaN                     NaN                         2   \n",
       "\n",
       "  parking_cost_numeric  previous_flight_origin taxi_fhv_fare_numeric  \\\n",
       "0                 None                     NaN                  None   \n",
       "1                150.0                     NaN                  None   \n",
       "2                 None                     NaN                  None   \n",
       "3                 15.0                     NaN                  None   \n",
       "4                 None                     NaN                  None   \n",
       "\n",
       "   taxi_fhv_wait_numeric valid_record  validation_error validation_severity  \n",
       "0                   None         True                                        \n",
       "1                   None         True                                        \n",
       "2                   None         True                                        \n",
       "3                   None         True                                        \n",
       "4                   None         True                                        \n",
       "\n",
       "[5 rows x 312 columns]"
      ]
     },
     "execution_count": 41,
     "metadata": {},
     "output_type": "execute_result"
    }
   ],
   "source": [
    "reference_columns = clean_df.columns.tolist()\n",
    "reference_columns.remove('home_location_address')\n",
    "\n",
    "# Get the middle columns (those not in reference_columns) from output_df\n",
    "remaining_columns = [col for col in output_df.columns if col not in reference_columns]\n",
    "\n",
    "# Sort the remaining columns alphabetically\n",
    "sorted_remaining_columns = sorted(remaining_columns)\n",
    "\n",
    "# Create the new column order using reference_columns and sorted remaining columns\n",
    "new_column_order = reference_columns + sorted_remaining_columns\n",
    "\n",
    "# Reorder the DataFrame\n",
    "output_df = output_df[new_column_order]\n",
    "\n",
    "# Display the updated DataFrame\n",
    "output_df.head()"
   ]
  },
  {
   "cell_type": "code",
   "execution_count": 42,
   "metadata": {},
   "outputs": [],
   "source": [
    "output_df.to_csv(output_csv_filename, index = False)"
   ]
  }
 ],
 "metadata": {
  "kernelspec": {
   "display_name": "Python 3",
   "language": "python",
   "name": "python3"
  },
  "language_info": {
   "codemirror_mode": {
    "name": "ipython",
    "version": 3
   },
   "file_extension": ".py",
   "mimetype": "text/x-python",
   "name": "python",
   "nbconvert_exporter": "python",
   "pygments_lexer": "ipython3",
   "version": "3.12.4"
  }
 },
 "nbformat": 4,
 "nbformat_minor": 2
}
