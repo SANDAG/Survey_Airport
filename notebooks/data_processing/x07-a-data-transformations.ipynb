{
 "cells": [
  {
   "cell_type": "markdown",
   "metadata": {},
   "source": [
    "## Process Data\n",
    "Remove Coordinates from Survey Responses. Put coordinates into Series15 geographies, drop coordinates in responses"
   ]
  },
  {
   "cell_type": "code",
   "execution_count": null,
   "metadata": {},
   "outputs": [],
   "source": []
  },
  {
   "cell_type": "markdown",
   "metadata": {},
   "source": [
    "## Set-up"
   ]
  },
  {
   "cell_type": "code",
   "execution_count": 137,
   "metadata": {},
   "outputs": [],
   "source": [
    "# import geopandas as gpd\n",
    "import pandas as pd\n",
    "import numpy as np"
   ]
  },
  {
   "cell_type": "code",
   "execution_count": null,
   "metadata": {},
   "outputs": [],
   "source": [
    "data_path = '../../data'\n",
    "\n",
    "# input path\n",
    "selected_geography = 'TAZ'\n",
    "survey_data_matched_geographies = f'{data_path}/processed/survey_data_matched_geographies_{selected_geography}.csv'\n",
    "fhv_fare_path = f'{data_path}/interim/fhv_fares.csv'\n",
    "\n",
    "# output path\n",
    "processed_survey_data_low_pii_path = f'{data_path}/data_model_output_{selected_geography.lower()}.csv'\n",
    "processed_survey_data_low_pii_simplified_path = f'{data_path}/data_model_output_simplified_{selected_geography.lower()}.csv'\n",
    "processed_survey_data_full_pii_simplified_path = f'{data_path}/data_model_output_full_pii_{selected_geography.lower()}.csv'"
   ]
  },
  {
   "cell_type": "code",
   "execution_count": 139,
   "metadata": {},
   "outputs": [
    {
     "name": "stderr",
     "output_type": "stream",
     "text": [
      "C:\\Users\\mwe\\AppData\\Local\\Temp\\ipykernel_17632\\139351360.py:2: DtypeWarning: Columns (21,26,27,28,29,30,31,32,33,34,35,37,38,39,40,41,42,43,44,45,46,48,49,55,56,59,60,61,81,83,84,105,106,107,108,109,110,111,112,113,114,115,116,117,118,119,120,121,122,123,124,125,126,127,128,129,130,131,133,135,143,151,152,153,158,170,172,178,180,197,198,199,217,220,224,240,248,284,285,286,289,292,293,296,297,298,300,301,320,336,338,339,341,353) have mixed types. Specify dtype option on import or set low_memory=False.\n",
      "  survey_output = pd.read_csv(survey_data_matched_geographies).drop(columns=['Unnamed: 0']).query('weight_departing_only_model_respondents > 0')\n"
     ]
    }
   ],
   "source": [
    "# read in data\n",
    "survey_output = pd.read_csv(survey_data_matched_geographies).drop(columns=['Unnamed: 0']).query('weight_departing_only_model_respondents > 0')\n",
    "fhv_fare_data = pd.read_csv(fhv_fare_path, index_col ='Unnamed: 0')\n",
    "\n",
    "# merge taxi/tnc imputes fares to main data\n",
    "# survey_output = survey_output.merge(fhv_fare_data, on = 'unique_id')"
   ]
  },
  {
   "cell_type": "markdown",
   "metadata": {},
   "source": [
    "## Data Transformations"
   ]
  },
  {
   "cell_type": "markdown",
   "metadata": {},
   "source": [
    "### Market Contruction"
   ]
  },
  {
   "cell_type": "code",
   "execution_count": 140,
   "metadata": {},
   "outputs": [],
   "source": [
    "# WSP's current method from notebook 17 - Apr 2, 2025\n",
    "# Define the classification logic using np.where\n",
    "survey_output['market_segment'] = np.where(\n",
    "    survey_output['is_sdia_home_airport'] & survey_output['flight_purpose_label'].isin(['BUSINESS_WORK', 'COMBINATION_BUSINESS_LEISURE']),\n",
    "    'RESIDENT_BUSINESS',\n",
    "    np.where(\n",
    "        survey_output['marketsegment_label']=='EMPLOYEE', 'EMPLOYEE',\n",
    "        np.where(\n",
    "            survey_output['is_sdia_home_airport'], 'RESIDENT_NON_BUSINESS',\n",
    "            np.where(\n",
    "                survey_output['flight_purpose_label'].isin(['BUSINESS_WORK', 'COMBINATION_BUSINESS_LEISURE']),\n",
    "                'VISITOR_BUSINESS',\n",
    "                'VISITOR_NON_BUSINESS'\n",
    "            )\n",
    "        )\n",
    "    )\n",
    ")\n",
    "survey_output['market_segment'] = survey_output['market_segment'].str.lower()\n",
    "survey_output = survey_output.drop(columns = ['marketsegment','marketsegment_label'])"
   ]
  },
  {
   "cell_type": "markdown",
   "metadata": {},
   "source": [
    "### [WIP] Other Access Mode\n",
    "recode access mode \"OTHER\""
   ]
  },
  {
   "cell_type": "code",
   "execution_count": 141,
   "metadata": {},
   "outputs": [
    {
     "data": {
      "application/vnd.microsoft.datawrangler.viewer.v0+json": {
       "columns": [
        {
         "name": "index",
         "rawType": "int64",
         "type": "integer"
        },
        {
         "name": "unique_id",
         "rawType": "int64",
         "type": "integer"
        },
        {
         "name": "inbound_or_outbound_label",
         "rawType": "object",
         "type": "string"
        },
        {
         "name": "main_mode_label",
         "rawType": "object",
         "type": "string"
        },
        {
         "name": "transit_boarding_taz",
         "rawType": "float64",
         "type": "float"
        },
        {
         "name": "origin_taz",
         "rawType": "int64",
         "type": "integer"
        },
        {
         "name": "access_mode",
         "rawType": "float64",
         "type": "float"
        },
        {
         "name": "access_mode_label",
         "rawType": "object",
         "type": "string"
        },
        {
         "name": "access_mode_other",
         "rawType": "object",
         "type": "string"
        }
       ],
       "ref": "00a2fb52-a0b0-4daa-b735-427ac60ec64f",
       "rows": [
        [
         "705",
         "1044",
         "INBOUND_TO_AIRPORT",
         "AIRPORT_FLYER_SHUTTLE",
         "3830.0",
         "3829",
         "98.0",
         "OTHER",
         "Trolley"
        ],
        [
         "2384",
         "2821",
         "INBOUND_TO_AIRPORT",
         "AIRPORT_FLYER_SHUTTLE",
         "1385.0",
         "1166",
         "98.0",
         "OTHER",
         "Rental"
        ],
        [
         "2654",
         "3102",
         "INBOUND_TO_AIRPORT",
         "AIRPORT_FLYER_SHUTTLE",
         "1891.0",
         "1908",
         "98.0",
         "OTHER",
         "Rental"
        ],
        [
         "3675",
         "4187",
         "INBOUND_TO_AIRPORT",
         "AIRPORT_FLYER_SHUTTLE",
         "1520.0",
         "389",
         "98.0",
         "OTHER",
         "Rental Car"
        ],
        [
         "3694",
         "4206",
         "INBOUND_TO_AIRPORT",
         "AIRPORT_FLYER_SHUTTLE",
         "1338.0",
         "1024",
         "98.0",
         "OTHER",
         "Rental"
        ],
        [
         "4658",
         "5229",
         "INBOUND_TO_AIRPORT",
         "AIRPORT_FLYER_SHUTTLE",
         "1520.0",
         "848",
         "98.0",
         "OTHER",
         "Rental"
        ]
       ],
       "shape": {
        "columns": 8,
        "rows": 6
       }
      },
      "text/html": [
       "<div>\n",
       "<style scoped>\n",
       "    .dataframe tbody tr th:only-of-type {\n",
       "        vertical-align: middle;\n",
       "    }\n",
       "\n",
       "    .dataframe tbody tr th {\n",
       "        vertical-align: top;\n",
       "    }\n",
       "\n",
       "    .dataframe thead th {\n",
       "        text-align: right;\n",
       "    }\n",
       "</style>\n",
       "<table border=\"1\" class=\"dataframe\">\n",
       "  <thead>\n",
       "    <tr style=\"text-align: right;\">\n",
       "      <th></th>\n",
       "      <th>unique_id</th>\n",
       "      <th>inbound_or_outbound_label</th>\n",
       "      <th>main_mode_label</th>\n",
       "      <th>transit_boarding_taz</th>\n",
       "      <th>origin_taz</th>\n",
       "      <th>access_mode</th>\n",
       "      <th>access_mode_label</th>\n",
       "      <th>access_mode_other</th>\n",
       "    </tr>\n",
       "  </thead>\n",
       "  <tbody>\n",
       "    <tr>\n",
       "      <th>705</th>\n",
       "      <td>1044</td>\n",
       "      <td>INBOUND_TO_AIRPORT</td>\n",
       "      <td>AIRPORT_FLYER_SHUTTLE</td>\n",
       "      <td>3830.0</td>\n",
       "      <td>3829</td>\n",
       "      <td>98.0</td>\n",
       "      <td>OTHER</td>\n",
       "      <td>Trolley</td>\n",
       "    </tr>\n",
       "    <tr>\n",
       "      <th>2384</th>\n",
       "      <td>2821</td>\n",
       "      <td>INBOUND_TO_AIRPORT</td>\n",
       "      <td>AIRPORT_FLYER_SHUTTLE</td>\n",
       "      <td>1385.0</td>\n",
       "      <td>1166</td>\n",
       "      <td>98.0</td>\n",
       "      <td>OTHER</td>\n",
       "      <td>Rental</td>\n",
       "    </tr>\n",
       "    <tr>\n",
       "      <th>2654</th>\n",
       "      <td>3102</td>\n",
       "      <td>INBOUND_TO_AIRPORT</td>\n",
       "      <td>AIRPORT_FLYER_SHUTTLE</td>\n",
       "      <td>1891.0</td>\n",
       "      <td>1908</td>\n",
       "      <td>98.0</td>\n",
       "      <td>OTHER</td>\n",
       "      <td>Rental</td>\n",
       "    </tr>\n",
       "    <tr>\n",
       "      <th>3675</th>\n",
       "      <td>4187</td>\n",
       "      <td>INBOUND_TO_AIRPORT</td>\n",
       "      <td>AIRPORT_FLYER_SHUTTLE</td>\n",
       "      <td>1520.0</td>\n",
       "      <td>389</td>\n",
       "      <td>98.0</td>\n",
       "      <td>OTHER</td>\n",
       "      <td>Rental Car</td>\n",
       "    </tr>\n",
       "    <tr>\n",
       "      <th>3694</th>\n",
       "      <td>4206</td>\n",
       "      <td>INBOUND_TO_AIRPORT</td>\n",
       "      <td>AIRPORT_FLYER_SHUTTLE</td>\n",
       "      <td>1338.0</td>\n",
       "      <td>1024</td>\n",
       "      <td>98.0</td>\n",
       "      <td>OTHER</td>\n",
       "      <td>Rental</td>\n",
       "    </tr>\n",
       "    <tr>\n",
       "      <th>4658</th>\n",
       "      <td>5229</td>\n",
       "      <td>INBOUND_TO_AIRPORT</td>\n",
       "      <td>AIRPORT_FLYER_SHUTTLE</td>\n",
       "      <td>1520.0</td>\n",
       "      <td>848</td>\n",
       "      <td>98.0</td>\n",
       "      <td>OTHER</td>\n",
       "      <td>Rental</td>\n",
       "    </tr>\n",
       "  </tbody>\n",
       "</table>\n",
       "</div>"
      ],
      "text/plain": [
       "      unique_id inbound_or_outbound_label        main_mode_label  \\\n",
       "705        1044        INBOUND_TO_AIRPORT  AIRPORT_FLYER_SHUTTLE   \n",
       "2384       2821        INBOUND_TO_AIRPORT  AIRPORT_FLYER_SHUTTLE   \n",
       "2654       3102        INBOUND_TO_AIRPORT  AIRPORT_FLYER_SHUTTLE   \n",
       "3675       4187        INBOUND_TO_AIRPORT  AIRPORT_FLYER_SHUTTLE   \n",
       "3694       4206        INBOUND_TO_AIRPORT  AIRPORT_FLYER_SHUTTLE   \n",
       "4658       5229        INBOUND_TO_AIRPORT  AIRPORT_FLYER_SHUTTLE   \n",
       "\n",
       "      transit_boarding_taz  origin_taz  access_mode access_mode_label  \\\n",
       "705                 3830.0        3829         98.0             OTHER   \n",
       "2384                1385.0        1166         98.0             OTHER   \n",
       "2654                1891.0        1908         98.0             OTHER   \n",
       "3675                1520.0         389         98.0             OTHER   \n",
       "3694                1338.0        1024         98.0             OTHER   \n",
       "4658                1520.0         848         98.0             OTHER   \n",
       "\n",
       "     access_mode_other  \n",
       "705            Trolley  \n",
       "2384            Rental  \n",
       "2654            Rental  \n",
       "3675        Rental Car  \n",
       "3694            Rental  \n",
       "4658            Rental  "
      ]
     },
     "execution_count": 141,
     "metadata": {},
     "output_type": "execute_result"
    }
   ],
   "source": [
    "# transit boarding TAZs\n",
    "    # 1044 - # 3830 -> inland trolley stop -> walk to transit -> use WALK skims\n",
    "    # 2821 -> recode to rental # 1385 -> Old Town\n",
    "    # 3102 -> recode to rental # 1891 -> Gaslamp -> other public transit -> use PNR skims\n",
    "    # 4187 -> recode to rental # 1520 -> rental car center\n",
    "    # 4206 -> recode to rental # rental car from shelter island to western rental car parking, took flyer very short ride ... drop?\n",
    "    # 5229 -> recode to rental # 1520 -> rental car center ... drove from Encinitas\n",
    "\n",
    "(\n",
    "    survey_output\n",
    "        .query('access_mode_label == \"OTHER\"')\n",
    "        .query('weight_departing_only>0')\n",
    "        [['unique_id','inbound_or_outbound_label','main_mode_label','transit_boarding_taz','origin_taz','access_mode','access_mode_label','access_mode_other']]\n",
    ")"
   ]
  },
  {
   "cell_type": "code",
   "execution_count": 142,
   "metadata": {},
   "outputs": [],
   "source": [
    "# recode unique_id 1044\n",
    "    # 3830 -> inland trolley stop -> walk to transit -> use WALK skims by changing access_mode to walk?"
   ]
  },
  {
   "cell_type": "markdown",
   "metadata": {},
   "source": [
    "### Hotel Courtesy Boolean\n",
    "only some visitors have access to a hotel courtesy shuttle van. Use the \"origin_activity_type\" column to create a T/F column that can be used to determine if respondent has access to this mode for unchosen alternatives"
   ]
  },
  {
   "cell_type": "code",
   "execution_count": 143,
   "metadata": {},
   "outputs": [],
   "source": [
    "survey_output['hotel_shuttle_bool'] = (survey_output['origin_activity_type'] == 3) #origin_activity_type 3 is hotel"
   ]
  },
  {
   "cell_type": "markdown",
   "metadata": {},
   "source": [
    "### POIs - La Jolla & Downtown\n",
    "the way the model classifies trips from these POIs: https://github.com/SANDAG/ABM/blob/b299c46c11153a791640e2656842851950ff1e79/src/asim/scripts/airport/CreatePOIomx.py#L43"
   ]
  },
  {
   "cell_type": "code",
   "execution_count": 144,
   "metadata": {},
   "outputs": [],
   "source": [
    "survey_output['origin_poi'] = 0\n",
    "survey_output.loc[survey_output['origin_zip'].astype(float) == 92037.0, 'origin_poi'] = 1\n",
    "survey_output.loc[survey_output['origin_zip'].astype(float) == 92101.0, 'origin_poi'] = 2\n",
    "# survey_output.groupby('origin_poi')['weight_departing_only_model_respondents'].sum()"
   ]
  },
  {
   "cell_type": "markdown",
   "metadata": {},
   "source": [
    "### Normalize Parking Costs\n",
    "compute total parking cost using the parking_cost and parking_cost_frequency columns"
   ]
  },
  {
   "cell_type": "code",
   "execution_count": 145,
   "metadata": {},
   "outputs": [],
   "source": [
    "# create total parking cost column\n",
    "survey_output['parking_cost_total'] = None"
   ]
  },
  {
   "cell_type": "code",
   "execution_count": 146,
   "metadata": {},
   "outputs": [
    {
     "name": "stderr",
     "output_type": "stream",
     "text": [
      "C:\\Users\\mwe\\AppData\\Local\\Temp\\ipykernel_17632\\3553089429.py:2: FutureWarning: Setting an item of incompatible dtype is deprecated and will raise an error in a future version of pandas. Value '5.0' has dtype incompatible with float64, please explicitly cast to a compatible dtype first.\n",
      "  survey_output.loc[\n"
     ]
    }
   ],
   "source": [
    "# resolve parking location issues\n",
    "survey_output.loc[\n",
    "    (survey_output['unique_id'].isin([1755, 2032])) &\n",
    "        (survey_output['respondentid'].isin([8010, 9377])) &\n",
    "        (survey_output['parking_location_other'].isin(['Aladdin','Wally']))\n",
    "    , ['parking_location','parking_location_label']\n",
    "] = np.array([5.0, 'OFF_AIRPORT_PARKING'])\n",
    "\n",
    "survey_output.loc[\n",
    "    (survey_output['unique_id']== 2111) &\n",
    "        (survey_output['respondentid']== 9718) &\n",
    "        (survey_output['parking_location_other']== 'San Diego airport parking') &\n",
    "        (survey_output['airport_terminal']== 2.0)\n",
    "    , ['parking_location','parking_location_label']\n",
    "] = np.array([2.0, 'TERM2_PARKING_PLAZA'])"
   ]
  },
  {
   "cell_type": "markdown",
   "metadata": {},
   "source": [
    "#### REFUSED Frequency Responses\n",
    "few responses"
   ]
  },
  {
   "cell_type": "code",
   "execution_count": 147,
   "metadata": {},
   "outputs": [],
   "source": [
    "# replace null employee parking costs w/ 0\n",
    "survey_output.loc[\n",
    "    (survey_output['market_segment'] == \"EMPLOYEE\") &\n",
    "        (survey_output['parking_cost_frequency_label'] == \"REFUSED\") &\n",
    "        (survey_output['main_mode_label'].isin(['DROVE_ALONE_AND_PARKED','DROVE_WITH_OTHERS_AND_PARKED'])) &\n",
    "        (survey_output['parking_cost_numeric'].isna()),\n",
    "    'parking_cost_total'\n",
    "    ] = 0"
   ]
  },
  {
   "cell_type": "code",
   "execution_count": 148,
   "metadata": {},
   "outputs": [],
   "source": [
    "# update rental car rider\n",
    "secretive_rental_car_parker_id = (\n",
    "    survey_output\n",
    "    .query('main_mode_label == \"RENTAL_CAR_PARKED\"')\n",
    "    .query('parking_cost_frequency_label == \"REFUSED\"')\n",
    "    ['unique_id']\n",
    "    .values\n",
    ")\n",
    "\n",
    "survey_output.loc[\n",
    "    survey_output['unique_id'].isin(secretive_rental_car_parker_id),\n",
    "    'parking_cost_frequency_label'\n",
    "    ] = None\n",
    "survey_output.loc[\n",
    "    survey_output['unique_id'].isin(secretive_rental_car_parker_id),\n",
    "    'parking_cost_total'\n",
    "    ] = 0"
   ]
  },
  {
   "cell_type": "markdown",
   "metadata": {},
   "source": [
    "#### \"OTHER\" Frequency Responses\n",
    "mostly employees"
   ]
  },
  {
   "cell_type": "code",
   "execution_count": 149,
   "metadata": {},
   "outputs": [],
   "source": [
    "# get list of alternate responses to recode\n",
    "parking_cost_frequency_other = set(\n",
    "    survey_output\n",
    "        .query(\"parking_cost_numeric > 0\")\n",
    "        ['parking_cost_frequency_other']\n",
    "        .dropna()\n",
    "        .unique()\n",
    "        .tolist()\n",
    ")\n",
    "# parking_cost_frequency_other"
   ]
  },
  {
   "cell_type": "code",
   "execution_count": 150,
   "metadata": {},
   "outputs": [],
   "source": [
    "# recode parking numeric costs for respondents that had >0\n",
    "#   value for parking_numeric but stated employer paid\n",
    "responses = ['Company pays', '3 month pass employer paid', 'Employer paid']\n",
    "survey_output.loc[\n",
    "        survey_output['parking_cost_frequency_other'].isin(responses),\n",
    "        'parking_cost_total'\n",
    "    ] = 0"
   ]
  },
  {
   "cell_type": "code",
   "execution_count": 151,
   "metadata": {},
   "outputs": [],
   "source": [
    "# recode parking numeric costs for respondent that said \"drop off\"\n",
    "    # visitor non business ... may have been given ride and parked at structures and walked in, but survey does not give us a way of knowing that\n",
    "survey_output.loc[\n",
    "        survey_output['parking_cost_frequency_other'].isin(['Drop off']),\n",
    "        'parking_cost_total'\n",
    "    ] = 0"
   ]
  },
  {
   "cell_type": "code",
   "execution_count": 152,
   "metadata": {},
   "outputs": [],
   "source": [
    "# recode 'weekly' and '4 days' response\n",
    "#   only non-employees\n",
    "respondent_index_weekly_4_days = (\n",
    "    survey_output\n",
    "    .query(\"parking_cost_frequency_other.isin(['Weekly','4 days'])\")\n",
    "    .query(\"market_segment == 'RESIDENT_NON_BUSINESS'\")\n",
    "    .query('nights_away > 0')\n",
    "    .index\n",
    "    )\n",
    "survey_output.loc[\n",
    "    respondent_index_weekly_4_days,\n",
    "    'parking_cost_total'\n",
    "    ] = survey_output.loc[respondent_index_weekly_4_days,'parking_cost_numeric']"
   ]
  },
  {
   "cell_type": "code",
   "execution_count": 153,
   "metadata": {},
   "outputs": [],
   "source": [
    "# recode long-term paying employees\n",
    "    # regular employee pass users included\n",
    "        # appears to be a quarterly parking fee of ~$135\n",
    "        # calculate daily rate for *employees* paying to park\n",
    "# TOTO : REVISIT\n",
    "number_weeks_in_months = 4.3333\n",
    "number_months_based_on_responses_dict = {\n",
    "    '3 months': 3.0,\n",
    "    'Per three months': 3.0,\n",
    "    '3 month pass': 3.0,\n",
    "    'Quarterly': 3.0,\n",
    "    'Quaterly': 3.0,\n",
    "    '3 month': 3.0,\n",
    "    'Quarer': 3.0,\n",
    "    '2 months':2.0,\n",
    "    '300':10.0,\n",
    "    'Year':12.0\n",
    "}\n",
    "survey_output['number_months_paid'] = (\n",
    "    survey_output\n",
    "    .apply(lambda x: number_months_based_on_responses_dict.get(x['parking_cost_frequency_other'])\n",
    "           ,axis=1)\n",
    ")\n",
    "response_index = (\n",
    "    survey_output\n",
    "    .query(f'parking_cost_frequency_other.isin({list(number_months_based_on_responses_dict.keys())})')\n",
    "    .query('market_segment == \"EMPLOYEE\"')\n",
    "    .index\n",
    ")\n",
    "survey_output.loc[response_index, 'parking_cost_total'] = (\n",
    "    survey_output\n",
    "    .loc[response_index]\n",
    "    .eval(f\"parking_cost_numeric / number_commute_days / number_months_paid / {number_weeks_in_months}\")\n",
    ")\n",
    "survey_output.drop(columns = ['number_months_paid'], inplace=True)\n"
   ]
  },
  {
   "cell_type": "code",
   "execution_count": 154,
   "metadata": {},
   "outputs": [],
   "source": [
    "# recode \"2 week\" responses\n",
    "num_weeks = 2\n",
    "response_index = (\n",
    "    survey_output\n",
    "    .query('parking_cost_frequency_other == \"2 weeks\"')\n",
    "    .query('market_segment == \"EMPLOYEE\"')\n",
    "    .index\n",
    ")\n",
    "survey_output.loc[response_index,'parking_cost_total'] = (\n",
    "    survey_output\n",
    "    .loc[response_index]\n",
    "    .eval(f\"parking_cost_numeric / number_commute_days / {num_weeks}\")\n",
    ")"
   ]
  },
  {
   "cell_type": "markdown",
   "metadata": {},
   "source": [
    "#### Typical Transforms Using parking_cost_frequency_label\n",
    "how to determine who paid for parking?\n",
    "\n",
    "Treat Visitor and Resident the same for now\n"
   ]
  },
  {
   "cell_type": "code",
   "execution_count": 155,
   "metadata": {},
   "outputs": [],
   "source": [
    "# hourly payers\n",
    "    # found only two residential, and that they were miscoded as hourly when they gave total responses\n",
    "res_miscoded_hourly_payers_unique_ids = [1239,2525]\n",
    "res_miscoded_hourly_payers_index= (\n",
    "    survey_output\n",
    "        .query(f'unique_id.isin({res_miscoded_hourly_payers_unique_ids})')\n",
    "        .index\n",
    "    )\n",
    "survey_output.loc[res_miscoded_hourly_payers_index,'parking_cost_frequency'] = 1\n",
    "survey_output.loc[res_miscoded_hourly_payers_index,'parking_cost_frequency_label'] = \"TOTAL\"\n",
    "\n",
    "    # visitor that miscoded response, should be daily\n",
    "vis_miscoded_hourly_payers_unique_ids = [5303]\n",
    "vis_miscoded_hourly_payers_index= (\n",
    "    survey_output\n",
    "        .query(f'unique_id.isin({vis_miscoded_hourly_payers_unique_ids})')\n",
    "        .index\n",
    "    )\n",
    "survey_output.loc[vis_miscoded_hourly_payers_index,'parking_cost_frequency'] = 3\n",
    "survey_output.loc[vis_miscoded_hourly_payers_index,'parking_cost_frequency_label'] = \"DAILY\"\n"
   ]
  },
  {
   "cell_type": "code",
   "execution_count": 156,
   "metadata": {},
   "outputs": [],
   "source": [
    "# adjust nights away bins to give avg number of nights\n",
    "# survey_output.groupby(['nights_away','nights_away_label'])['unique_id'].count()\n",
    "\n",
    "nights_bin_avg_map = {\n",
    "    8: 9,\n",
    "    9: 12,\n",
    "    10: 17\n",
    "}\n",
    "survey_output['days_parked'] = survey_output['nights_away'].combine_first(survey_output['number_of_nights']).replace(nights_bin_avg_map) + 1"
   ]
  },
  {
   "cell_type": "code",
   "execution_count": 157,
   "metadata": {},
   "outputs": [],
   "source": [
    "# coding parking rates\n",
    "    # keys are parking_cost_frequency values\n",
    "cost_col = 'parking_cost_numeric'\n",
    "\n",
    "# monthly payers\n",
    "months_in_yr = 12\n",
    "sdia_flight_frequency_bin_5_lower_bound = 21\n",
    "estimate_num_trips_typical_superflyers = 40 # slightly less than once per week at high end # TODO - model typical number of trips??? # TODO: add to list of assumptions\n",
    "num_monthly_trips = ((sdia_flight_frequency_bin_5_lower_bound + estimate_num_trips_typical_superflyers) / 2) / months_in_yr\n",
    "\n",
    "pax_functions = {\n",
    "    1: lambda x: x[cost_col], # TOTAL\n",
    "    2: lambda x: x[cost_col] / num_monthly_trips, # MONTHLY\n",
    "    3: lambda x: x[cost_col] * x['days_parked'], # DAILY\n",
    "    # no true hourly rate paying respondents\n",
    "    }\n",
    "survey_output['parking_cost_frequency_typical_function'] = (\n",
    "    survey_output\n",
    "    .apply(lambda x: pax_functions.get(x['parking_cost_frequency']),\n",
    "           axis=1)\n",
    "    .fillna(lambda x: x[cost_col]) # handle nulls\n",
    ")\n",
    "\n",
    "survey_output['parking_cost_total'] = (\n",
    "    survey_output\n",
    "        .apply(lambda x: x['parking_cost_frequency_typical_function'](x),\n",
    "            axis=1)\n",
    "        .combine_first(survey_output['parking_cost_total']) # coalesce\n",
    "    )\n",
    "\n",
    "survey_output.drop(columns=['parking_cost_frequency_typical_function'], inplace=True)"
   ]
  },
  {
   "cell_type": "markdown",
   "metadata": {},
   "source": [
    "#### Parking Costs for Respondents that Made Alternate Choice\n",
    "- on-site and off-site columns\n",
    "- take avgs of both per night and then multiply by number of nights\n",
    "- only for residents"
   ]
  },
  {
   "cell_type": "code",
   "execution_count": 158,
   "metadata": {},
   "outputs": [],
   "source": [
    "# assign actual parking costs to respective parking location columns\n",
    "\n",
    "# define parking location groups\n",
    "onsite_parking_locs = [1,2,3,4]\n",
    "employee_parking_locs = [6,7]\n",
    "offsite_parking_locs = [5]\n",
    "\n",
    "# separate observed parking costs into parking location groups\n",
    "survey_output.loc[\n",
    "    survey_output['parking_location'].isin(onsite_parking_locs),\n",
    "    'onsite_parking_cost'\n",
    "    ] = survey_output.loc[survey_output['parking_location'].isin(onsite_parking_locs), 'parking_cost_total']\n",
    "survey_output.loc[\n",
    "    survey_output['parking_location'].isin(employee_parking_locs),\n",
    "    'employee_parking_cost'\n",
    "    ] = survey_output.loc[survey_output['parking_location'].isin(employee_parking_locs), 'parking_cost_total']\n",
    "survey_output.loc[\n",
    "    survey_output['parking_location'].isin(offsite_parking_locs),\n",
    "    'offsite_parking_cost'\n",
    "    ] = survey_output.loc[survey_output['parking_location'].isin(offsite_parking_locs), 'parking_cost_total']"
   ]
  },
  {
   "cell_type": "code",
   "execution_count": 159,
   "metadata": {},
   "outputs": [
    {
     "data": {
      "application/vnd.microsoft.datawrangler.viewer.v0+json": {
       "columns": [
        {
         "name": "index",
         "rawType": "int64",
         "type": "integer"
        },
        {
         "name": "parking_location",
         "rawType": "float64",
         "type": "float"
        },
        {
         "name": "parking_location_label",
         "rawType": "object",
         "type": "string"
        },
        {
         "name": "0",
         "rawType": "float64",
         "type": "float"
        }
       ],
       "ref": "6ad7d034-b975-4cee-ab9b-b0de80c4aa51",
       "rows": [
        [
         "0",
         "1.0",
         "TERM1_PARKING_PLAZA",
         "31.930555555555557"
        ],
        [
         "1",
         "2.0",
         "TERM2_PARKING_PLAZA",
         "40.763792164996985"
        ],
        [
         "8",
         "2.0",
         "TERM2_PARKING_PLAZA",
         "15.0"
        ],
        [
         "2",
         "3.0",
         "TERM1_CURBSIDE_VALET",
         "40.0"
        ],
        [
         "3",
         "4.0",
         "TERM2_CURBSIDE_VALET",
         "50.0"
        ],
        [
         "4",
         "5.0",
         "OFF_AIRPORT_PARKING",
         "21.700707065709373"
        ],
        [
         "9",
         "5.0",
         "OFF_AIRPORT_PARKING",
         "15.625"
        ],
        [
         "5",
         "6.0",
         "EMPLOYEE_LOT_3665_ADMIRAL_BOLAND_WAY",
         null
        ],
        [
         "6",
         "7.0",
         "ADMIN_BUILDING_LOT_2417_MCCAIN_ROAD",
         null
        ],
        [
         "7",
         "98.0",
         "OTHER",
         null
        ]
       ],
       "shape": {
        "columns": 3,
        "rows": 10
       }
      },
      "text/html": [
       "<div>\n",
       "<style scoped>\n",
       "    .dataframe tbody tr th:only-of-type {\n",
       "        vertical-align: middle;\n",
       "    }\n",
       "\n",
       "    .dataframe tbody tr th {\n",
       "        vertical-align: top;\n",
       "    }\n",
       "\n",
       "    .dataframe thead th {\n",
       "        text-align: right;\n",
       "    }\n",
       "</style>\n",
       "<table border=\"1\" class=\"dataframe\">\n",
       "  <thead>\n",
       "    <tr style=\"text-align: right;\">\n",
       "      <th></th>\n",
       "      <th>parking_location</th>\n",
       "      <th>parking_location_label</th>\n",
       "      <th>0</th>\n",
       "    </tr>\n",
       "  </thead>\n",
       "  <tbody>\n",
       "    <tr>\n",
       "      <th>0</th>\n",
       "      <td>1.0</td>\n",
       "      <td>TERM1_PARKING_PLAZA</td>\n",
       "      <td>31.930556</td>\n",
       "    </tr>\n",
       "    <tr>\n",
       "      <th>1</th>\n",
       "      <td>2.0</td>\n",
       "      <td>TERM2_PARKING_PLAZA</td>\n",
       "      <td>40.763792</td>\n",
       "    </tr>\n",
       "    <tr>\n",
       "      <th>8</th>\n",
       "      <td>2.0</td>\n",
       "      <td>TERM2_PARKING_PLAZA</td>\n",
       "      <td>15.000000</td>\n",
       "    </tr>\n",
       "    <tr>\n",
       "      <th>2</th>\n",
       "      <td>3.0</td>\n",
       "      <td>TERM1_CURBSIDE_VALET</td>\n",
       "      <td>40.000000</td>\n",
       "    </tr>\n",
       "    <tr>\n",
       "      <th>3</th>\n",
       "      <td>4.0</td>\n",
       "      <td>TERM2_CURBSIDE_VALET</td>\n",
       "      <td>50.000000</td>\n",
       "    </tr>\n",
       "    <tr>\n",
       "      <th>4</th>\n",
       "      <td>5.0</td>\n",
       "      <td>OFF_AIRPORT_PARKING</td>\n",
       "      <td>21.700707</td>\n",
       "    </tr>\n",
       "    <tr>\n",
       "      <th>9</th>\n",
       "      <td>5.0</td>\n",
       "      <td>OFF_AIRPORT_PARKING</td>\n",
       "      <td>15.625000</td>\n",
       "    </tr>\n",
       "    <tr>\n",
       "      <th>5</th>\n",
       "      <td>6.0</td>\n",
       "      <td>EMPLOYEE_LOT_3665_ADMIRAL_BOLAND_WAY</td>\n",
       "      <td>NaN</td>\n",
       "    </tr>\n",
       "    <tr>\n",
       "      <th>6</th>\n",
       "      <td>7.0</td>\n",
       "      <td>ADMIN_BUILDING_LOT_2417_MCCAIN_ROAD</td>\n",
       "      <td>NaN</td>\n",
       "    </tr>\n",
       "    <tr>\n",
       "      <th>7</th>\n",
       "      <td>98.0</td>\n",
       "      <td>OTHER</td>\n",
       "      <td>NaN</td>\n",
       "    </tr>\n",
       "  </tbody>\n",
       "</table>\n",
       "</div>"
      ],
      "text/plain": [
       "   parking_location                parking_location_label          0\n",
       "0               1.0                   TERM1_PARKING_PLAZA  31.930556\n",
       "1               2.0                   TERM2_PARKING_PLAZA  40.763792\n",
       "8               2.0                   TERM2_PARKING_PLAZA  15.000000\n",
       "2               3.0                  TERM1_CURBSIDE_VALET  40.000000\n",
       "3               4.0                  TERM2_CURBSIDE_VALET  50.000000\n",
       "4               5.0                   OFF_AIRPORT_PARKING  21.700707\n",
       "9               5.0                   OFF_AIRPORT_PARKING  15.625000\n",
       "5               6.0  EMPLOYEE_LOT_3665_ADMIRAL_BOLAND_WAY        NaN\n",
       "6               7.0   ADMIN_BUILDING_LOT_2417_MCCAIN_ROAD        NaN\n",
       "7              98.0                                 OTHER        NaN"
      ]
     },
     "execution_count": 159,
     "metadata": {},
     "output_type": "execute_result"
    }
   ],
   "source": [
    "onsite_parking_rate = 38.0 #per day -> from site, close to observed data\n",
    "offsite_parking_rate = 21.6 # per day -> observed data, v close to various online rates\n",
    "\n",
    "# to get avg observed parking rates by parking location:\n",
    "(\n",
    "    survey_output\n",
    "    .query('parking_cost_total> 0')\n",
    "    .groupby(['parking_location','parking_location_label'])\n",
    "    [['parking_location','parking_location_label','parking_cost_total','days_parked']]\n",
    "    .apply(lambda x: np.mean(x['parking_cost_total']/x['days_parked']))\n",
    "    .reset_index()\n",
    "    .astype({'parking_location': float})\n",
    "    .sort_values(by='parking_location')\n",
    ")"
   ]
  },
  {
   "cell_type": "code",
   "execution_count": 160,
   "metadata": {},
   "outputs": [],
   "source": [
    "# coalesce modeled rates onto observed parking rates\n",
    "    # only use estimated values if they are not in data\n",
    "for site,rate in zip(['onsite_parking_cost','offsite_parking_cost'],[onsite_parking_rate,offsite_parking_rate]):\n",
    "    survey_output.loc[:,site] = (\n",
    "        survey_output\n",
    "            .loc[:,site]\n",
    "            .combine_first(\n",
    "                survey_output\n",
    "                .apply(lambda x: x['days_parked'] * rate,\n",
    "                    axis=1)\n",
    "            )\n",
    "        )"
   ]
  },
  {
   "cell_type": "markdown",
   "metadata": {},
   "source": [
    "### Rental Car Cost + Travel Time\n",
    "currently estimating rental car time by introducing  adjustment to auto skims\n",
    "data from ABM3 model: https://github.com/SANDAG/ABM/blob/50b56ca950b08b5a7d902e97f2f45536d750b150/src/asim/configs/airport.SAN/trip_mode_choice.yaml#L129"
   ]
  },
  {
   "cell_type": "code",
   "execution_count": 161,
   "metadata": {},
   "outputs": [],
   "source": [
    "rentalCostPerDay= 60.99\n",
    "rentalCarInVehicleTime= 7.50\n",
    "rentalCarWalkTime= 3.00\n",
    "rentalCarWaitTime= 7.50"
   ]
  },
  {
   "cell_type": "code",
   "execution_count": 162,
   "metadata": {},
   "outputs": [],
   "source": [
    "# TODO: revisit using skims?\n",
    "survey_output['rental_additional_time'] = rentalCarWalkTime + rentalCarWaitTime # + survey_output['auto_time'] #+ rentalCarInVehicleTime\n",
    "\n",
    "# some pax stated that destination_taz was rental car center\n",
    "#   - add rentalCarInVehicleTime for these respondents, as auto skims do not account for additional auto travel to airport\n",
    "rental_center_bound_pax = (\n",
    "    survey_output\n",
    "        .query('main_mode_grouped_label == \"RENTAL_CAR\"')\n",
    "        .query('inbound_or_outbound_label == \"INBOUND_TO_AIRPORT\"')\n",
    "        .query('market_segment != \"EMPLOYEE\"')\n",
    "        .query('weight_departing_only>0')\n",
    "        .query('destination_taz==1520')\n",
    "        .index\n",
    ")\n",
    "survey_output.loc[rental_center_bound_pax,'rental_additional_time'] += rentalCarInVehicleTime"
   ]
  },
  {
   "cell_type": "code",
   "execution_count": 163,
   "metadata": {},
   "outputs": [],
   "source": [
    "survey_output['rental_cost'] = (survey_output['nights_visited'].replace(nights_bin_avg_map) + 1) * rentalCostPerDay"
   ]
  },
  {
   "cell_type": "markdown",
   "metadata": {},
   "source": [
    "### Shuttles"
   ]
  },
  {
   "cell_type": "code",
   "execution_count": 164,
   "metadata": {},
   "outputs": [],
   "source": [
    "hotelCourtesyWalkTime = 5.00\n",
    "# terminalWalkTime = 5.00\n",
    "# rentalCarWaitTime= 7.50 # use rental car shuttle headway"
   ]
  },
  {
   "cell_type": "code",
   "execution_count": 165,
   "metadata": {},
   "outputs": [],
   "source": [
    "survey_output['shuttle_additional_time'] = hotelCourtesyWalkTime + rentalCarWaitTime"
   ]
  },
  {
   "cell_type": "markdown",
   "metadata": {},
   "source": [
    "### Parking Travel Time Adjustments \n",
    "(PAX On- and Off-Site)\n",
    "\n",
    "use model assumptions\n"
   ]
  },
  {
   "cell_type": "code",
   "execution_count": 166,
   "metadata": {},
   "outputs": [],
   "source": [
    "# TODO: employee parking time adjustments (not in airport model)"
   ]
  },
  {
   "cell_type": "code",
   "execution_count": 167,
   "metadata": {},
   "outputs": [],
   "source": [
    "# https://github.com/SANDAG/ABM/blob/80fb954649c8cb5c10abbfa92c43372c8bceaa8d/src/asim/configs/airport.SAN/trip_mode_choice.yaml#L115C1-L117C30\n",
    "parkLocation4InVehicleTime = 6.00\n",
    "parkLocation4WalkTime = 2.00\n",
    "parkLocation4WaitTime = 3.00 # TODO revisit\n",
    "\n",
    "# https://github.com/SANDAG/ABM/blob/80fb954649c8cb5c10abbfa92c43372c8bceaa8d/src/asim/configs/airport.SAN/trip_mode_choice.yaml#L133\n",
    "terminalWalkTime = 5.00"
   ]
  },
  {
   "cell_type": "code",
   "execution_count": 168,
   "metadata": {},
   "outputs": [],
   "source": [
    "survey_output['offsite_parking_additional_time'] = parkLocation4InVehicleTime + parkLocation4WalkTime + parkLocation4WaitTime\n",
    "survey_output['onsite_parking_additional_time'] = terminalWalkTime"
   ]
  },
  {
   "cell_type": "markdown",
   "metadata": {},
   "source": [
    "### Party Size\n",
    "Prefer to use ground access party column instead of party size flight column when available\n",
    "\n",
    "431 Null values - equivalent to employee count"
   ]
  },
  {
   "cell_type": "code",
   "execution_count": 169,
   "metadata": {},
   "outputs": [],
   "source": [
    "# TODO go back and fix error made by consultants"
   ]
  },
  {
   "cell_type": "code",
   "execution_count": 170,
   "metadata": {},
   "outputs": [],
   "source": [
    "# coalesce columns, prioritize ground access column\n",
    "survey_output['party_size_access_transformed'] = (\n",
    "    survey_output\n",
    "        ['party_size_ground_access']\n",
    "        # .combine_first(survey_output['number_of_travel_companions'])\n",
    "        .combine_first(survey_output['party_size_flight'] - 1)\n",
    ")\n",
    "\n",
    "# convert 'number of companions' into total party size\n",
    "party_size_access_dict = {\n",
    "    0: 'ONE',\n",
    "    1: 'TWO',\n",
    "    2: 'THREE',\n",
    "    3: 'FOUR',\n",
    "    4: 'FIVE',\n",
    "    5: 'SIX',\n",
    "    6: 'SEVEN',\n",
    "    7: 'EIGHT_OR_MORE',\n",
    "    98: 'OTHER',\n",
    "    99: 'REFUSED'\n",
    "    }\n",
    "survey_output['party_size_access_transformed_label'] = (\n",
    "    survey_output\n",
    "    ['party_size_access_transformed']\n",
    "    .replace(party_size_access_dict)\n",
    ")\n",
    "\n",
    "survey_output = (\n",
    "    survey_output\n",
    "    .drop(columns= ['number_of_travel_companions', 'number_of_travel_companions_label'])\n",
    ")"
   ]
  },
  {
   "cell_type": "markdown",
   "metadata": {},
   "source": [
    "### Taxi/TNC Fare"
   ]
  },
  {
   "cell_type": "code",
   "execution_count": 171,
   "metadata": {},
   "outputs": [],
   "source": [
    "survey_output['taxi_fare'] = (\n",
    "    fhv_fare_data.loc['taxi_model', 'base_fare'] +\n",
    "    fhv_fare_data.loc['taxi_model', 'fare_cost_per_mile'] * survey_output['auto_dist']\n",
    ")\n",
    "survey_output['tnc_fare'] = (\n",
    "    fhv_fare_data.loc['tnc_model', 'base_fare'] +\n",
    "    fhv_fare_data.loc['tnc_model', 'fare_cost_per_mile'] * survey_output['auto_dist']\n",
    ")"
   ]
  },
  {
   "cell_type": "markdown",
   "metadata": {},
   "source": [
    "### Taxi/TNC Wait\n",
    "The relatively low wait times are likely a result of respondents ordering rides before they are fully prepared to leave"
   ]
  },
  {
   "cell_type": "code",
   "execution_count": 172,
   "metadata": {},
   "outputs": [],
   "source": [
    "# use overall mean of taxi wait\n",
    "survey_output.loc[\n",
    "    survey_output['main_mode_label'] == \"TAXI\",\n",
    "    'taxi_wait'\n",
    "    ] = survey_output.loc[survey_output['main_mode_label'] == \"TAXI\", 'taxi_fhv_wait_numeric']\n",
    "\n",
    "taxi_mean_wait = survey_output.query('main_mode_label == \"TAXI\"')['taxi_fhv_wait_numeric'].mean()\n",
    "survey_output['taxi_wait'] = survey_output['taxi_wait'].fillna(taxi_mean_wait)"
   ]
  },
  {
   "cell_type": "code",
   "execution_count": 173,
   "metadata": {},
   "outputs": [
    {
     "data": {
      "application/vnd.microsoft.datawrangler.viewer.v0+json": {
       "columns": [
        {
         "name": "index",
         "rawType": "int64",
         "type": "integer"
        },
        {
         "name": "origin_pmsa",
         "rawType": "float64",
         "type": "float"
        },
        {
         "name": "origin_pmsa_label",
         "rawType": "object",
         "type": "string"
        },
        {
         "name": "median",
         "rawType": "float64",
         "type": "float"
        },
        {
         "name": "mean",
         "rawType": "float64",
         "type": "float"
        },
        {
         "name": "std",
         "rawType": "float64",
         "type": "float"
        },
        {
         "name": "count",
         "rawType": "int64",
         "type": "integer"
        }
       ],
       "ref": "dd89ce97-f16d-40b2-8956-f8dd57d307dd",
       "rows": [
        [
         "0",
         "1.0",
         "DOWNTOWN",
         "5.0",
         "5.7",
         "5.611",
         "343"
        ],
        [
         "1",
         "2.0",
         "CENTRAL",
         "5.0",
         "6.148",
         "5.526",
         "338"
        ],
        [
         "2",
         "3.0",
         "NORTH_CITY",
         "5.0",
         "6.184",
         "6.439",
         "381"
        ],
        [
         "3",
         "4.0",
         "SOUTH_SUBURBAN",
         "5.0",
         "5.863",
         "6.235",
         "51"
        ],
        [
         "4",
         "5.0",
         "EAST_SUBURBAN",
         "5.0",
         "7.68",
         "8.472",
         "50"
        ],
        [
         "5",
         "6.0",
         "NORTH_COUNTY_WEST",
         "4.0",
         "6.347",
         "8.181",
         "95"
        ],
        [
         "6",
         "7.0",
         "NORTH_COUNTY_EAST",
         "1.0",
         "3.524",
         "5.706",
         "21"
        ],
        [
         "7",
         "99.0",
         "EXTERNAL",
         "5.0",
         "5.915",
         "7.077",
         "47"
        ]
       ],
       "shape": {
        "columns": 6,
        "rows": 8
       }
      },
      "text/html": [
       "<div>\n",
       "<style scoped>\n",
       "    .dataframe tbody tr th:only-of-type {\n",
       "        vertical-align: middle;\n",
       "    }\n",
       "\n",
       "    .dataframe tbody tr th {\n",
       "        vertical-align: top;\n",
       "    }\n",
       "\n",
       "    .dataframe thead th {\n",
       "        text-align: right;\n",
       "    }\n",
       "</style>\n",
       "<table border=\"1\" class=\"dataframe\">\n",
       "  <thead>\n",
       "    <tr style=\"text-align: right;\">\n",
       "      <th></th>\n",
       "      <th>origin_pmsa</th>\n",
       "      <th>origin_pmsa_label</th>\n",
       "      <th>median</th>\n",
       "      <th>mean</th>\n",
       "      <th>std</th>\n",
       "      <th>count</th>\n",
       "    </tr>\n",
       "  </thead>\n",
       "  <tbody>\n",
       "    <tr>\n",
       "      <th>0</th>\n",
       "      <td>1.0</td>\n",
       "      <td>DOWNTOWN</td>\n",
       "      <td>5.0</td>\n",
       "      <td>5.700</td>\n",
       "      <td>5.611</td>\n",
       "      <td>343</td>\n",
       "    </tr>\n",
       "    <tr>\n",
       "      <th>1</th>\n",
       "      <td>2.0</td>\n",
       "      <td>CENTRAL</td>\n",
       "      <td>5.0</td>\n",
       "      <td>6.148</td>\n",
       "      <td>5.526</td>\n",
       "      <td>338</td>\n",
       "    </tr>\n",
       "    <tr>\n",
       "      <th>2</th>\n",
       "      <td>3.0</td>\n",
       "      <td>NORTH_CITY</td>\n",
       "      <td>5.0</td>\n",
       "      <td>6.184</td>\n",
       "      <td>6.439</td>\n",
       "      <td>381</td>\n",
       "    </tr>\n",
       "    <tr>\n",
       "      <th>3</th>\n",
       "      <td>4.0</td>\n",
       "      <td>SOUTH_SUBURBAN</td>\n",
       "      <td>5.0</td>\n",
       "      <td>5.863</td>\n",
       "      <td>6.235</td>\n",
       "      <td>51</td>\n",
       "    </tr>\n",
       "    <tr>\n",
       "      <th>4</th>\n",
       "      <td>5.0</td>\n",
       "      <td>EAST_SUBURBAN</td>\n",
       "      <td>5.0</td>\n",
       "      <td>7.680</td>\n",
       "      <td>8.472</td>\n",
       "      <td>50</td>\n",
       "    </tr>\n",
       "    <tr>\n",
       "      <th>5</th>\n",
       "      <td>6.0</td>\n",
       "      <td>NORTH_COUNTY_WEST</td>\n",
       "      <td>4.0</td>\n",
       "      <td>6.347</td>\n",
       "      <td>8.181</td>\n",
       "      <td>95</td>\n",
       "    </tr>\n",
       "    <tr>\n",
       "      <th>6</th>\n",
       "      <td>7.0</td>\n",
       "      <td>NORTH_COUNTY_EAST</td>\n",
       "      <td>1.0</td>\n",
       "      <td>3.524</td>\n",
       "      <td>5.706</td>\n",
       "      <td>21</td>\n",
       "    </tr>\n",
       "    <tr>\n",
       "      <th>7</th>\n",
       "      <td>99.0</td>\n",
       "      <td>EXTERNAL</td>\n",
       "      <td>5.0</td>\n",
       "      <td>5.915</td>\n",
       "      <td>7.077</td>\n",
       "      <td>47</td>\n",
       "    </tr>\n",
       "  </tbody>\n",
       "</table>\n",
       "</div>"
      ],
      "text/plain": [
       "   origin_pmsa  origin_pmsa_label  median   mean    std  count\n",
       "0          1.0           DOWNTOWN     5.0  5.700  5.611    343\n",
       "1          2.0            CENTRAL     5.0  6.148  5.526    338\n",
       "2          3.0         NORTH_CITY     5.0  6.184  6.439    381\n",
       "3          4.0     SOUTH_SUBURBAN     5.0  5.863  6.235     51\n",
       "4          5.0      EAST_SUBURBAN     5.0  7.680  8.472     50\n",
       "5          6.0  NORTH_COUNTY_WEST     4.0  6.347  8.181     95\n",
       "6          7.0  NORTH_COUNTY_EAST     1.0  3.524  5.706     21\n",
       "7         99.0           EXTERNAL     5.0  5.915  7.077     47"
      ]
     },
     "execution_count": 173,
     "metadata": {},
     "output_type": "execute_result"
    }
   ],
   "source": [
    "# median ridehail wait time across PMSAs is approximately 5 minutes (after removing 3 implausible values over 1000)\n",
    "    # waits are heavily skewed, if you look at violin or box plot this is clear\n",
    "\n",
    "# sns.violinplot(\n",
    "#     data = survey_output.query('main_mode_label == \"UBER_LYFT\"').query('taxi_fhv_wait_numeric < 60'),\n",
    "#     x = 'origin_pmsa',\n",
    "#     y = 'taxi_fhv_wait_numeric'\n",
    "# )\n",
    "# plt.ylim((0,60))\n",
    "(\n",
    "    survey_output\n",
    "    .query('main_mode_label == \"UBER_LYFT\"')\n",
    "    .query('taxi_fhv_wait_numeric < 60')\n",
    "    .groupby(['origin_pmsa', 'origin_pmsa_label'])\n",
    "    ['taxi_fhv_wait_numeric']\n",
    "    .agg(['median','mean','std','count'])\n",
    "    .round(3)\n",
    "    .reset_index()\n",
    ")"
   ]
  },
  {
   "cell_type": "code",
   "execution_count": 174,
   "metadata": {},
   "outputs": [],
   "source": [
    "tnc_index = (survey_output['main_mode_label'] == \"UBER_LYFT\") & (survey_output['taxi_fhv_wait_numeric'].notna())\n",
    "survey_output.loc[tnc_index, 'tnc_wait'] = survey_output.loc[tnc_index, 'taxi_fhv_wait_numeric']\n",
    "survey_output.loc[~tnc_index, 'tnc_wait'] = 5.0"
   ]
  },
  {
   "cell_type": "markdown",
   "metadata": {},
   "source": [
    "### Mode Groupings"
   ]
  },
  {
   "cell_type": "code",
   "execution_count": 175,
   "metadata": {},
   "outputs": [],
   "source": [
    "mode_model_grouping_dict = {\n",
    "    'parked_on_site': {\n",
    "        'main_mode': {13, 14}, #DROVE_ALONE_AND_PARKED, DROVE_WITH_OTHERS_AND_PARKED\n",
    "        'parking_location': {1,2,3,4} # TERM1_PARKING_PLAZA, TERM2_PARKING_PLAZA, TERM1_CURBSIDE_VALET, TERM2_CURBSIDE_VALET\n",
    "    },\n",
    "    'parked_off_site': {\n",
    "        'main_mode': {13, 14}, #DROVE_ALONE_AND_PARKED, DROVE_WITH_OTHERS_AND_PARKED\n",
    "        'parking_location': {5} # OFF_AIRPORT_PARKING\n",
    "    },\n",
    "    'parked_employee': {\n",
    "        'main_mode': {13, 14}, #DROVE_ALONE_AND_PARKED, DROVE_WITH_OTHERS_AND_PARKED\n",
    "        'parking_location': {6,7} # EMPLOYEE_LOT_3665_ADMIRAL_BOLAND_WAY, ADMIN_BUILDING_LOT_2417_MCCAIN_ROAD\n",
    "    },\n",
    "    'parked_unknown': {\n",
    "        'main_mode': {13, 14}, #DROVE_ALONE_AND_PARKED, DROVE_WITH_OTHERS_AND_PARKED\n",
    "        'parking_location': {98,99} # OTHER, REFUSED\n",
    "    },\n",
    "    'drop_off': {\n",
    "        'main_mode': {12, 23} #DROPPED_OFF_BY_FAMILY_FRIEND, PICKED_UP_BY_FAMILY_FRIEND-> including bc one respondent mislabeled\n",
    "    },\n",
    "    'public_transit': {\n",
    "        'main_mode': {15,16,30} # MTS_ROUTE_992, AIRPORT_FLYER_SHUTTLE, OTHER_PUBLIC_TRANSIT\n",
    "    },\n",
    "    'active_transportation': {\n",
    "        'main_mode': {1,2,3,4,5,6,7,8} #\n",
    "    },\n",
    "    'rental_car': {\n",
    "        'main_mode': {20, 19, 27} # RENTAL_CAR_PARKED, RENTAL_CAR_DROPPED_OFF, RENTAL_CAR_PICKED_UP-> including bc one respondent mislabeled\n",
    "    },\n",
    "    'taxi': {\n",
    "        'main_mode': {9} # TAXI\n",
    "    },\n",
    "    'tnc': {\n",
    "        'main_mode': {10} # UBER_LYFT\n",
    "    },\n",
    "    'shuttle': {\n",
    "        'main_mode': {17,21,22} # CHARTERED_TOUR_BUS, OTHER_SHARED_VAN, HOTEL_SHUTTLE_VAN\n",
    "    },\n",
    "    'employee_shuttle': {\n",
    "        'main_mode': {18} # EMPLOYEE_SHUTTLE\n",
    "    }\n",
    "}"
   ]
  },
  {
   "cell_type": "code",
   "execution_count": 176,
   "metadata": {},
   "outputs": [],
   "source": [
    "mode_model_grouping_df = (\n",
    "    pd.DataFrame\n",
    "    .from_dict(mode_model_grouping_dict, orient='index')\n",
    "    .reset_index()\n",
    "    .explode('main_mode')\n",
    "    .explode('parking_location')\n",
    "    .astype({'main_mode': float, 'parking_location': float})\n",
    "    .fillna(999.0)\n",
    "    .rename(columns= {'index': 'mode_group', 'parking_location': 'parking_location_fillna'})\n",
    ")\n",
    "# mode_model_grouping_df"
   ]
  },
  {
   "cell_type": "code",
   "execution_count": 177,
   "metadata": {},
   "outputs": [],
   "source": [
    "survey_output = survey_output.drop(columns= ['mode_group'], errors= 'ignore')\n",
    "survey_output['parking_location_fillna'] = survey_output['parking_location'].astype(float).fillna(999.0)\n",
    "survey_output = (\n",
    "    survey_output\n",
    "    .merge(\n",
    "        mode_model_grouping_df,\n",
    "        how = 'left',\n",
    "        on= ['main_mode','parking_location_fillna'],\n",
    "        validate = 'many_to_one',\n",
    "    )\n",
    "    .drop(columns= ['parking_location_fillna'])\n",
    ")"
   ]
  },
  {
   "cell_type": "code",
   "execution_count": 178,
   "metadata": {},
   "outputs": [],
   "source": [
    "\n",
    "#\n",
    "survey_output.loc[\n",
    "    (survey_output['mode_group'].isna()) &\n",
    "    (survey_output['market_segment'] == 'employee') &\n",
    "    (survey_output['main_mode'].isin([24,25])) # GET_IN_PARKED_VEHICLE_AND_DRIVE_ALONE, GET_IN_PARKED_VEHICLE_AND_DRIVE_WITH_OTHERS\n",
    "    , 'mode_group'\n",
    "] = 'parked_employee'"
   ]
  },
  {
   "cell_type": "markdown",
   "metadata": {},
   "source": [
    "## Write Out Data"
   ]
  },
  {
   "cell_type": "markdown",
   "metadata": {},
   "source": [
    "### Low Information"
   ]
  },
  {
   "cell_type": "code",
   "execution_count": 180,
   "metadata": {},
   "outputs": [],
   "source": [
    "keep_cols = [\n",
    "   'unique_id',\n",
    "   # 'weight_departing_and_arriving',\n",
    "   # 'weight_departing_only',\n",
    "   'weight_departing_only_model_respondents',\n",
    "   # 'weight_non_sas_departing_only',\n",
    "   # 'weight_departing_only_with_time_of_day',\n",
    "\n",
    "   # survey respondent demos\n",
    "   'age',\n",
    "   'age_label',\n",
    "   'gender',\n",
    "   'gender_label',\n",
    "   # 'occupation',\n",
    "   # 'occupation_label',\n",
    "   'household_income',\n",
    "   'household_income_label',\n",
    "   'number_persons_in_household',\n",
    "   'number_persons_in_household_label',\n",
    "   # 'market_transformed', # constructed trip characteristic\n",
    "   'market_segment', # WSP's constructed trip characteristic, w/ employee logic included\n",
    "   'number_vehicles',\n",
    "   'number_vehicles_label',\n",
    "   'car_available',\n",
    "   'car_available_label',\n",
    "\n",
    "   'nights_away',\n",
    "   'nights_visited',\n",
    "   'number_of_nights',\n",
    "   'number_of_nights_label',\n",
    "\n",
    "   'shift_start_time',\n",
    "   'shift_start_time_label',\n",
    "   'shift_end_time',\n",
    "   'shift_end_time_label',\n",
    "   'number_commute_days',\n",
    "   'number_commute_days_label',\n",
    "\n",
    "   # survey trip characteristics\n",
    "   'main_mode',\n",
    "   'main_mode_label',\n",
    "   'mode_group',\n",
    "   'from_airport_transit_route_1',\n",
    "   'from_airport_transit_route_1_other',\n",
    "   'from_airport_transit_route_2',\n",
    "   'from_airport_transit_route_2_other',\n",
    "   'from_airport_transit_route_3',\n",
    "   'from_airport_transit_route_3_other',\n",
    "   'from_airport_transit_route_4',\n",
    "   'from_airport_transit_route_4_other',\n",
    "#  'access_mode_label',\n",
    "#  'egress_mode_label',\n",
    "   'trip_arrival_time',\n",
    "   'trip_arrival_time_label',\n",
    "   'airline',\n",
    "   'airline_label',\n",
    "   'airport_terminal',\n",
    "   # 'convention_center',\n",
    "   # 'convention_center_label',\n",
    "   # 'convention_center_activity',\n",
    "   # 'convention_center_activity_label',\n",
    "   'party_size_access_transformed', # total size of party, including respondent. THIS IS A CATEGORICAL COLUMN, NOT NUMERIC\n",
    "   'party_size_access_transformed_label', # total size of party, including respondent\n",
    "\n",
    "   # 'parking_cost_total', # transformed parking cost\n",
    "   'days_parked', # fxn of nights_away, makes assumptions about bins\n",
    "   'onsite_parking_cost', # use parking_location to determine which parking location was used\n",
    "   'employee_parking_cost',\n",
    "   'offsite_parking_cost',\n",
    "   'parking_location',\n",
    "   'parking_location_label',\n",
    "   'parking_location_other',\n",
    "   'reimbursement',\n",
    "   'reimbursement_label',\n",
    "   'onsite_parking_additional_time',\n",
    "   'offsite_parking_additional_time',\n",
    "\n",
    "   # respondent TAZs\n",
    "   'origin_taz',\n",
    "   'origin_poi', #LJ or downtown zips\n",
    "   'destination_taz',\n",
    "   'home_location_taz',\n",
    "   'transit_alighting_taz',\n",
    "   'transit_boarding_taz',\n",
    "\n",
    "   # trip data from 2022 base scenario skims\n",
    "   'auto_dist', 'auto_time', 'auto_tollcost',\n",
    "   'transit_type', 'transit_time',\n",
    "       'transit_fare', 'transit_acc', 'transit_firstwait', 'transit_totalivtt',\n",
    "       'transit_xferwait', 'transit_egr', 'transit_xfers',\n",
    "\n",
    "   # TNC/taxi columns - mix of survey and constructed data\n",
    "   'taxi_fhv_fare_numeric', # fare\n",
    "   # 'taxi_fhv_fare',\n",
    "   'taxi_fare',\n",
    "   'tnc_fare',\n",
    "   'taxi_fhv_wait_numeric', # wait\n",
    "   # 'taxi_fhv_wait',\n",
    "   'taxi_wait',\n",
    "   'tnc_wait',\n",
    "\n",
    "   'rental_additional_time', # additional time renting car adds to trip -- to get total travel time, add to auto_time\n",
    "   'rental_cost',\n",
    "   'shuttle_additional_time',\n",
    "   ]"
   ]
  },
  {
   "cell_type": "code",
   "execution_count": 181,
   "metadata": {},
   "outputs": [],
   "source": [
    "(\n",
    "    survey_output\n",
    "    [keep_cols]\n",
    "    .rename(columns={'weight_departing_only_model_respondents': 'weight'})\n",
    "    .to_csv(processed_survey_data_low_pii_simplified_path)#, index_label = 'unique_id')\n",
    ")"
   ]
  },
  {
   "cell_type": "markdown",
   "metadata": {},
   "source": [
    "### High Information"
   ]
  },
  {
   "cell_type": "code",
   "execution_count": 182,
   "metadata": {},
   "outputs": [
    {
     "data": {
      "text/plain": [
       "{'destination_latitude',\n",
       " 'destination_longitude',\n",
       " 'geometry',\n",
       " 'home_location_latitude',\n",
       " 'home_location_longitude',\n",
       " 'origin_latitude',\n",
       " 'origin_longitude',\n",
       " 'transit_alighting_latitude',\n",
       " 'transit_alighting_longitude',\n",
       " 'transit_boarding_latitude',\n",
       " 'transit_boarding_longitude'}"
      ]
     },
     "execution_count": 182,
     "metadata": {},
     "output_type": "execute_result"
    }
   ],
   "source": [
    "# drop high PII columns\n",
    "drop_columns = set()\n",
    "col_filters = ['latitude','longitude','geometry']#,'employer']\n",
    "for col_filter in col_filters:\n",
    "    drop_columns.update({col for col in survey_output.columns if col_filter in col})\n",
    "drop_columns"
   ]
  },
  {
   "cell_type": "code",
   "execution_count": 183,
   "metadata": {},
   "outputs": [],
   "source": [
    "# keep only label columns\n",
    "for i in range(len(survey_output.columns)-1):\n",
    "    col1 = survey_output.columns[i]\n",
    "    col2 = survey_output.columns[i+1].replace('_label','')\n",
    "    if col1 == col2 and col1 != 'trip_arrival_time':\n",
    "        drop_columns.add(col1)\n",
    "        # print(f'{col1}: {survey_output.columns[i+1]}')"
   ]
  },
  {
   "cell_type": "code",
   "execution_count": 184,
   "metadata": {},
   "outputs": [],
   "source": [
    "drop_columns.update({\n",
    "    'respondentid',\n",
    "    'is_completed',\n",
    "    'date_completed',\n",
    "    'is_pilot',\n",
    "    'is_self_administered',\n",
    "\n",
    "    'gender_other', # empty\n",
    "    'interview_location_label',\n",
    "    'interview_location_other',\n",
    "    'is_qualified_age',\n",
    "\n",
    "    # 'main_mode_other', #mapped some options to modes\n",
    "})"
   ]
  },
  {
   "cell_type": "code",
   "execution_count": 185,
   "metadata": {},
   "outputs": [],
   "source": [
    "(\n",
    "    survey_output\n",
    "    .drop(columns=list(drop_columns))\n",
    "    .to_csv(processed_survey_data_low_pii_path)#, index_label = 'unique_id')\n",
    ")"
   ]
  },
  {
   "cell_type": "code",
   "execution_count": 186,
   "metadata": {},
   "outputs": [],
   "source": [
    "(\n",
    "    survey_output\n",
    "    .to_csv(processed_survey_data_full_pii_simplified_path)#, index_label = 'unique_id')\n",
    ")"
   ]
  }
 ],
 "metadata": {
  "kernelspec": {
   "display_name": ".venv",
   "language": "python",
   "name": "python3"
  },
  "language_info": {
   "codemirror_mode": {
    "name": "ipython",
    "version": 3
   },
   "file_extension": ".py",
   "mimetype": "text/x-python",
   "name": "python",
   "nbconvert_exporter": "python",
   "pygments_lexer": "ipython3",
   "version": "3.12.10"
  }
 },
 "nbformat": 4,
 "nbformat_minor": 2
}
