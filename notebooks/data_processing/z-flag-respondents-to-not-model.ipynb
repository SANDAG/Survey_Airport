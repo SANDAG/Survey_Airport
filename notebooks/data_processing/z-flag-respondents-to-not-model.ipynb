{
 "cells": [
  {
   "cell_type": "markdown",
   "id": "ef3d2cfa",
   "metadata": {},
   "source": [
    "## Identify Respondents to Drop\n",
    "implausible/illogical respondent behavior investigation + recommendations"
   ]
  },
  {
   "cell_type": "code",
   "execution_count": null,
   "id": "93d4f6e2",
   "metadata": {},
   "outputs": [],
   "source": []
  },
  {
   "cell_type": "markdown",
   "id": "3a6ab07b",
   "metadata": {},
   "source": [
    "## Set-Up"
   ]
  },
  {
   "cell_type": "code",
   "execution_count": 37,
   "id": "b559290c",
   "metadata": {},
   "outputs": [],
   "source": [
    "import geopandas as gpd\n",
    "import numpy as np\n",
    "import openmatrix as omx\n",
    "import pandas as pd\n",
    "\n",
    "import os\n",
    "\n",
    "from matplotlib import pyplot as plt\n",
    "import seaborn as sns"
   ]
  },
  {
   "cell_type": "code",
   "execution_count": 38,
   "id": "8a54a19c",
   "metadata": {},
   "outputs": [],
   "source": [
    "# input\n",
    "geography_file = \"T:/projects/sr15/geographies/TAZ15.shp\"\n",
    "# uses processed data\n",
    "    # changes will be made to the underlying data set, making this notebook not replicable\n",
    "    # this notebook should be saved and used to justify changes to the dataset but not run again\n",
    "processed_survey_data_path = '../../data/processed/survey_data_matched_geographies_taz.csv'\n",
    "\n",
    "# output\n",
    "respondents_to_drop_file = '../../data/processed/respondents_to_not_model.csv'"
   ]
  },
  {
   "cell_type": "code",
   "execution_count": 39,
   "id": "7835538b",
   "metadata": {},
   "outputs": [
    {
     "name": "stderr",
     "output_type": "stream",
     "text": [
      "C:\\Users\\mwe\\AppData\\Local\\Temp\\ipykernel_77976\\3594811395.py:3: DtypeWarning: Columns (21,26,27,28,29,30,31,32,33,34,35,37,38,39,40,41,42,43,44,45,46,48,49,55,56,59,60,61,81,83,84,105,106,107,108,109,110,111,112,113,114,115,116,117,118,119,120,121,122,123,124,125,126,127,128,129,130,131,133,135,143,151,152,153,158,170,172,178,180,197,198,199,217,220,224,240,248,284,285,286,289,292,293,296,297,298,300,301,320,336,338,339,341,353) have mixed types. Specify dtype option on import or set low_memory=False.\n",
      "  pd.read_csv(processed_survey_data_path)\n"
     ]
    }
   ],
   "source": [
    "# read in data\n",
    "survey_data = (\n",
    "    pd.read_csv(processed_survey_data_path)\n",
    "    .query(\"validation_severity_person != 'Critical'\")\n",
    "    .query(\"validation_severity_trip != 'Critical'\")\n",
    "    .query(\"weight_departing_only > 0\")\n",
    ")\n",
    "survey_data = survey_data.drop(list(survey_data.filter(regex='Unnamed')), axis=1)\n",
    "\n",
    "geographies = gpd.read_file(geography_file).query('~TAZ.isin([3,11])') # remove external TAZs that do not exist\n",
    "# geographies.head()"
   ]
  },
  {
   "cell_type": "markdown",
   "id": "417e0a69",
   "metadata": {},
   "source": [
    "## Unknown Parking Location"
   ]
  },
  {
   "cell_type": "code",
   "execution_count": 40,
   "id": "c4c31dfd",
   "metadata": {},
   "outputs": [
    {
     "data": {
      "text/plain": [
       "(221, 510)"
      ]
     },
     "execution_count": 40,
     "metadata": {},
     "output_type": "execute_result"
    }
   ],
   "source": [
    "# parkers =\n",
    "survey_data.query('marketsegment_label!= \"EMPLOYEE\"').query('parking_location.notna()').shape"
   ]
  },
  {
   "cell_type": "code",
   "execution_count": 41,
   "id": "65d2549f",
   "metadata": {},
   "outputs": [
    {
     "data": {
      "application/vnd.microsoft.datawrangler.viewer.v0+json": {
       "columns": [
        {
         "name": "marketsegment_label",
         "rawType": "object",
         "type": "string"
        },
        {
         "name": "count",
         "rawType": "int64",
         "type": "integer"
        }
       ],
       "ref": "411c2d90-aa8d-49fd-98c7-3fde68af20cf",
       "rows": [
        [
         "EMPLOYEE",
         "86"
        ],
        [
         "PASSENGER",
         "11"
        ]
       ],
       "shape": {
        "columns": 1,
        "rows": 2
       }
      },
      "text/plain": [
       "marketsegment_label\n",
       "EMPLOYEE     86\n",
       "PASSENGER    11\n",
       "Name: count, dtype: int64"
      ]
     },
     "execution_count": 41,
     "metadata": {},
     "output_type": "execute_result"
    }
   ],
   "source": [
    "(\n",
    "    survey_data\n",
    "    .query('main_mode_label.isin([\"DROVE_ALONE_AND_PARKED\",\"DROVE_WITH_OTHERS_AND_PARKED\"])')\n",
    "    .query('parking_location_label.isna() or parking_location_label.isin([\"OTHER\",\"REFUSED\"])')\n",
    "    ['marketsegment_label']\n",
    "    .value_counts()\n",
    ")"
   ]
  },
  {
   "cell_type": "code",
   "execution_count": 42,
   "id": "8e79f355",
   "metadata": {},
   "outputs": [
    {
     "data": {
      "application/vnd.microsoft.datawrangler.viewer.v0+json": {
       "columns": [
        {
         "name": "parking_location_label",
         "rawType": "object",
         "type": "unknown"
        },
        {
         "name": "count",
         "rawType": "int64",
         "type": "integer"
        }
       ],
       "ref": "aa52f1bf-53fa-435a-9941-da8fb66805d2",
       "rows": [
        [
         null,
         "249"
        ],
        [
         "EMPLOYEE_LOT_3665_ADMIRAL_BOLAND_WAY",
         "200"
        ],
        [
         "ADMIN_BUILDING_LOT_2417_MCCAIN_ROAD",
         "116"
        ],
        [
         "OTHER",
         "77"
        ],
        [
         "REFUSED",
         "9"
        ],
        [
         "TERM2_PARKING_PLAZA",
         "6"
        ],
        [
         "TERM1_PARKING_PLAZA",
         "2"
        ]
       ],
       "shape": {
        "columns": 1,
        "rows": 7
       }
      },
      "text/plain": [
       "parking_location_label\n",
       "NaN                                     249\n",
       "EMPLOYEE_LOT_3665_ADMIRAL_BOLAND_WAY    200\n",
       "ADMIN_BUILDING_LOT_2417_MCCAIN_ROAD     116\n",
       "OTHER                                    77\n",
       "REFUSED                                   9\n",
       "TERM2_PARKING_PLAZA                       6\n",
       "TERM1_PARKING_PLAZA                       2\n",
       "Name: count, dtype: int64"
      ]
     },
     "execution_count": 42,
     "metadata": {},
     "output_type": "execute_result"
    }
   ],
   "source": [
    "(\n",
    "    survey_data\n",
    "    .query('marketsegment_label== \"EMPLOYEE\"')\n",
    "    ['parking_location_label']\n",
    "    .value_counts(dropna=False)\n",
    ")"
   ]
  },
  {
   "cell_type": "code",
   "execution_count": 43,
   "id": "7219d397",
   "metadata": {},
   "outputs": [
    {
     "data": {
      "application/vnd.microsoft.datawrangler.viewer.v0+json": {
       "columns": [
        {
         "name": "parking_location_label",
         "rawType": "object",
         "type": "unknown"
        },
        {
         "name": "count",
         "rawType": "int64",
         "type": "integer"
        }
       ],
       "ref": "d84b879f-3ce7-4eda-a488-4010f85f357d",
       "rows": [
        [
         "TERM2_PARKING_PLAZA",
         "95"
        ],
        [
         "OFF_AIRPORT_PARKING",
         "83"
        ],
        [
         "TERM1_PARKING_PLAZA",
         "29"
        ],
        [
         "OTHER",
         "9"
        ],
        [
         "TERM2_CURBSIDE_VALET",
         "3"
        ],
        [
         null,
         "1"
        ],
        [
         "TERM1_CURBSIDE_VALET",
         "1"
        ],
        [
         "REFUSED",
         "1"
        ]
       ],
       "shape": {
        "columns": 1,
        "rows": 8
       }
      },
      "text/plain": [
       "parking_location_label\n",
       "TERM2_PARKING_PLAZA     95\n",
       "OFF_AIRPORT_PARKING     83\n",
       "TERM1_PARKING_PLAZA     29\n",
       "OTHER                    9\n",
       "TERM2_CURBSIDE_VALET     3\n",
       "NaN                      1\n",
       "TERM1_CURBSIDE_VALET     1\n",
       "REFUSED                  1\n",
       "Name: count, dtype: int64"
      ]
     },
     "execution_count": 43,
     "metadata": {},
     "output_type": "execute_result"
    }
   ],
   "source": [
    "(\n",
    "    survey_data\n",
    "    .query('marketsegment_label!= \"EMPLOYEE\"')\n",
    "    .query('main_mode_label.isin([\"DROVE_ALONE_AND_PARKED\",\"DROVE_WITH_OTHERS_AND_PARKED\"])')\n",
    "    ['parking_location_label']\n",
    "    .value_counts(dropna=False)\n",
    ")\n"
   ]
  },
  {
   "cell_type": "code",
   "execution_count": null,
   "id": "3f4f3274",
   "metadata": {},
   "outputs": [],
   "source": []
  },
  {
   "cell_type": "markdown",
   "id": "81f4e2d7",
   "metadata": {},
   "source": [
    "## Respondents to Drop\n",
    "need to be dropped"
   ]
  },
  {
   "cell_type": "code",
   "execution_count": 44,
   "id": "eab98129",
   "metadata": {},
   "outputs": [
    {
     "data": {
      "text/plain": [
       "36"
      ]
     },
     "execution_count": 44,
     "metadata": {},
     "output_type": "execute_result"
    }
   ],
   "source": [
    "# null transit times\n",
    "null_transit_respondents = survey_data.query('transit_time.isna()')['respondentid'].tolist()\n",
    "len(null_transit_respondents)"
   ]
  },
  {
   "cell_type": "code",
   "execution_count": 45,
   "id": "9efa68be",
   "metadata": {},
   "outputs": [
    {
     "data": {
      "text/plain": [
       "21"
      ]
     },
     "execution_count": 45,
     "metadata": {},
     "output_type": "execute_result"
    }
   ],
   "source": [
    "# OTHER main mode respondents w/ NULL main_mode_other\n",
    "other_mode_respondents = survey_data.query('main_mode_label == \"OTHER\"')['respondentid'].tolist()#['main_mode_other']\n",
    "len(other_mode_respondents)"
   ]
  },
  {
   "cell_type": "code",
   "execution_count": 46,
   "id": "3b9c1d80",
   "metadata": {},
   "outputs": [
    {
     "name": "stdout",
     "output_type": "stream",
     "text": [
      "dropped employees: 2\n",
      "dropped visitors: 19\n",
      "dropped residents: 30\n"
     ]
    }
   ],
   "source": [
    "# mode exclusion criteria\n",
    "employee_mode_respondents = (\n",
    "    survey_data\n",
    "    .query('marketsegment_label== \"EMPLOYEE\"')\n",
    "    .query('main_mode_label.isin([\"RENTAL_CAR_PARKED\",\"RENTAL_CAR_DROPPED_OFF\"])')\n",
    "    ['respondentid']\n",
    "    .tolist()\n",
    ")\n",
    "visitor_modes_to_exclude = [\"DROVE_ALONE_AND_PARKED\",\n",
    "                            \"DROVE_WITH_OTHERS_AND_PARKED\",\n",
    "                            \"RODE_WITH_OTHER_TRAVELERS_AND_PARKED\",\n",
    "                            \"WALK\"]\n",
    "visitor_mode_respondents = (\n",
    "    survey_data\n",
    "    .query('is_sdia_home_airport == False')\n",
    "    .query(f'main_mode_label.isin({visitor_modes_to_exclude})')\n",
    "    ['respondentid']\n",
    "    .tolist()\n",
    ")\n",
    "resident_mode_to_exclude = [\"RENTAL_CAR_DROPPED_OFF\",\n",
    "                            \"RENTAL_CAR_PARKED\",\n",
    "                            \"HOTEL_SHUTTLE_VAN\",\n",
    "                            \"WALK\"]\n",
    "resident_mode_respondents = (\n",
    "    survey_data\n",
    "    .query('is_sdia_home_airport == True')\n",
    "    .query('marketsegment_label!= \"EMPLOYEE\"')\n",
    "    .query(f'main_mode_label.isin({resident_mode_to_exclude})')\n",
    "    ['respondentid']\n",
    "    .tolist()\n",
    ")\n",
    "\n",
    "print(f'dropped employees: {len(employee_mode_respondents)}')\n",
    "print(f'dropped visitors: {len(visitor_mode_respondents)}')\n",
    "print(f'dropped residents: {len(resident_mode_respondents)}')"
   ]
  },
  {
   "cell_type": "code",
   "execution_count": 47,
   "id": "16f2cfc8",
   "metadata": {},
   "outputs": [
    {
     "data": {
      "text/plain": [
       "5"
      ]
     },
     "execution_count": 47,
     "metadata": {},
     "output_type": "execute_result"
    }
   ],
   "source": [
    "# remove resident respondents that do not provide number of nights away\n",
    "    # not possible to estimate parking costs\n",
    "    # would introduce method to estimate, but only 5 respondents\n",
    "\n",
    "# to examine dropped respodnents:\n",
    "# (\n",
    "#     survey_data\n",
    "#     .query('market_segment.str.contains(\"resident\")')\n",
    "#     .query('days_parked.isna()')\n",
    "#     [['unique_id','market_segment','main_mode_label','next_flight_destination','parking_cost','parking_cost_frequency_label','parking_location_label']]\n",
    "# )\n",
    "\n",
    "residents_missing_parking_duration = (\n",
    "    survey_data\n",
    "    .query('is_sdia_home_airport == True')\n",
    "    .query('marketsegment_label != \"EMPLOYEE\"')\n",
    "    .query('number_of_nights.isna()')\n",
    "    ['respondentid']\n",
    "    .tolist()\n",
    ")\n",
    "len(residents_missing_parking_duration)"
   ]
  },
  {
   "cell_type": "code",
   "execution_count": 48,
   "id": "1e387027",
   "metadata": {},
   "outputs": [
    {
     "data": {
      "text/plain": [
       "13"
      ]
     },
     "execution_count": 48,
     "metadata": {},
     "output_type": "execute_result"
    }
   ],
   "source": [
    "## passengers that drove but do not have clear parking location\n",
    "# (\n",
    "#     survey_data\n",
    "#     .query('marketsegment_label!= \"EMPLOYEE\"')\n",
    "#     .query('main_mode_label.isin([\"DROVE_ALONE_AND_PARKED\",\"DROVE_WITH_OTHERS_AND_PARKED\"])')\n",
    "#     .query('parking_location_label.isna() or parking_location_label.isin([\"OTHER\",\"REFUSED\"])')\n",
    "#     [['unique_id', 'respondentid', 'main_mode_label','airport_terminal','parking_location_label', 'parking_location_other','parking_cost_numeric','parking_cost_frequency_label','parking_cost_frequency_other']]\n",
    "# )\n",
    "pax_parkers_no_location = (\n",
    "    survey_data\n",
    "    .query('marketsegment_label!= \"EMPLOYEE\"')\n",
    "    # .query('is_sdia_home_airport == True')\n",
    "    .query('main_mode_label.isin([\"DROVE_ALONE_AND_PARKED\", \"DROVE_WITH_OTHERS_AND_PARKED\", \"RODE_WITH_OTHER_TRAVELERS_AND_PARKED\", \"GET_IN_PARKED_VEHICLE_AND_DRIVE_ALONE\"])')\n",
    "    .query('parking_location_label.isna() or parking_location_label.isin([\"OTHER\",\"REFUSED\"])')\n",
    "    .query('parking_location_other not in [\"Aladdin\",\"Wally\",\"San Diego airport parking\"]')\n",
    "    ['respondentid']\n",
    "    .tolist()\n",
    ")\n",
    "len(pax_parkers_no_location)"
   ]
  },
  {
   "cell_type": "code",
   "execution_count": 49,
   "id": "d13c7db9",
   "metadata": {},
   "outputs": [
    {
     "data": {
      "text/plain": [
       "46"
      ]
     },
     "execution_count": 49,
     "metadata": {},
     "output_type": "execute_result"
    }
   ],
   "source": [
    "black_car_respondents = (\n",
    "    survey_data\n",
    "    .query('main_mode == 11.0') # CAR_SERVICE_BLACK_LIMO\n",
    "    ['respondentid']\n",
    "    .tolist()\n",
    ")\n",
    "len(black_car_respondents)"
   ]
  },
  {
   "cell_type": "code",
   "execution_count": 50,
   "id": "75cae09a",
   "metadata": {},
   "outputs": [
    {
     "name": "stdout",
     "output_type": "stream",
     "text": [
      "Number of Respondents to Drop:  172\n"
     ]
    }
   ],
   "source": [
    "respondents_to_drop = (\n",
    "    null_transit_respondents +\n",
    "    other_mode_respondents +\n",
    "    employee_mode_respondents +\n",
    "    visitor_mode_respondents +\n",
    "    resident_mode_respondents +\n",
    "    residents_missing_parking_duration +\n",
    "    pax_parkers_no_location +\n",
    "    black_car_respondents\n",
    ")\n",
    "print(\"Number of Respondents to Drop: \",len(respondents_to_drop))"
   ]
  },
  {
   "cell_type": "code",
   "execution_count": 51,
   "id": "651b1766",
   "metadata": {},
   "outputs": [],
   "source": [
    "pd.Series(respondents_to_drop).rename('respondentid').to_csv(respondents_to_drop_file)"
   ]
  }
 ],
 "metadata": {
  "kernelspec": {
   "display_name": ".venv",
   "language": "python",
   "name": "python3"
  },
  "language_info": {
   "codemirror_mode": {
    "name": "ipython",
    "version": 3
   },
   "file_extension": ".py",
   "mimetype": "text/x-python",
   "name": "python",
   "nbconvert_exporter": "python",
   "pygments_lexer": "ipython3",
   "version": "3.12.10"
  }
 },
 "nbformat": 4,
 "nbformat_minor": 5
}
