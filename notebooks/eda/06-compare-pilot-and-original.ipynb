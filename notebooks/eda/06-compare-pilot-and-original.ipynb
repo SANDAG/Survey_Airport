{
 "cells": [
  {
   "cell_type": "code",
   "execution_count": 1,
   "metadata": {},
   "outputs": [],
   "source": [
    "import pandas as pd\n",
    "import numpy as np\n",
    "import matplotlib.pyplot as plt\n",
    "import seaborn as sns"
   ]
  },
  {
   "cell_type": "code",
   "execution_count": 2,
   "metadata": {},
   "outputs": [
    {
     "name": "stderr",
     "output_type": "stream",
     "text": [
      "C:\\Users\\mwe\\AppData\\Local\\Temp\\ipykernel_6844\\2176548536.py:1: DtypeWarning: Columns (1,13,14,25,26,27,28,29,30,31,32,33,34,35,36,37,38,39,40,41,42,43,44,45,47,48,54,55,59,65,69,74,77,78,80,82,83,86,93,95,104,105,106,107,108,109,110,111,112,113,114,115,116,117,118,119,120,121,122,123,124,125,126,127,128,129,130,132,142,147,150,151,152,155,156,157,167,169,177,179,196,197,198,201,210,211,216,223,237,239,240,241,242,243,244,246,248,249,273,283,284,285,288,291,295,296,297,299,300,335,337,338,340,411,414,435) have mixed types. Specify dtype option on import or set low_memory=False.\n",
      "  df = pd.read_csv('../../data/processed/data_model_output.csv')\n"
     ]
    }
   ],
   "source": [
    "df = pd.read_csv('../../data/processed/data_model_output.csv')\n",
    "df = df[(df['is_completed'] == True) & (df['record_type_synthetic'] == False)]"
   ]
  },
  {
   "cell_type": "code",
   "execution_count": 3,
   "metadata": {},
   "outputs": [
    {
     "data": {
      "application/vnd.microsoft.datawrangler.viewer.v0+json": {
       "columns": [
        {
         "name": "index",
         "rawType": "int64",
         "type": "integer"
        },
        {
         "name": "unique_id",
         "rawType": "int64",
         "type": "integer"
        },
        {
         "name": "respondentid",
         "rawType": "object",
         "type": "unknown"
        },
        {
         "name": "is_completed",
         "rawType": "bool",
         "type": "boolean"
        },
        {
         "name": "is_valid_record",
         "rawType": "bool",
         "type": "boolean"
        },
        {
         "name": "date_completed",
         "rawType": "object",
         "type": "string"
        },
        {
         "name": "time_completed",
         "rawType": "object",
         "type": "string"
        },
        {
         "name": "is_pilot",
         "rawType": "bool",
         "type": "boolean"
        },
        {
         "name": "is_self_administered",
         "rawType": "bool",
         "type": "boolean"
        },
        {
         "name": "record_type_synthetic",
         "rawType": "int64",
         "type": "integer"
        },
        {
         "name": "access_mode",
         "rawType": "float64",
         "type": "float"
        },
        {
         "name": "access_mode_frequency",
         "rawType": "float64",
         "type": "float"
        },
        {
         "name": "access_mode_frequency_label",
         "rawType": "object",
         "type": "unknown"
        },
        {
         "name": "access_mode_grouped",
         "rawType": "float64",
         "type": "float"
        },
        {
         "name": "access_mode_grouped_label",
         "rawType": "object",
         "type": "unknown"
        },
        {
         "name": "access_mode_label",
         "rawType": "object",
         "type": "unknown"
        },
        {
         "name": "access_mode_other",
         "rawType": "object",
         "type": "unknown"
        },
        {
         "name": "age",
         "rawType": "float64",
         "type": "float"
        },
        {
         "name": "age_label",
         "rawType": "object",
         "type": "string"
        },
        {
         "name": "airline",
         "rawType": "float64",
         "type": "float"
        },
        {
         "name": "airline_label",
         "rawType": "object",
         "type": "unknown"
        },
        {
         "name": "airline_other",
         "rawType": "object",
         "type": "unknown"
        },
        {
         "name": "airport_access_transit_use_elsewhere",
         "rawType": "float64",
         "type": "float"
        },
        {
         "name": "airport_access_transit_use_elsewhere_label",
         "rawType": "object",
         "type": "unknown"
        },
        {
         "name": "airport_terminal",
         "rawType": "float64",
         "type": "float"
        },
        {
         "name": "airportaccesstransitname",
         "rawType": "object",
         "type": "unknown"
        },
        {
         "name": "alt_commute_mode_airport_flyer_shuttle",
         "rawType": "object",
         "type": "unknown"
        },
        {
         "name": "alt_commute_mode_bicycle_electric_bikeshare",
         "rawType": "object",
         "type": "unknown"
        },
        {
         "name": "alt_commute_mode_bicycle_non_electric_bikeshare",
         "rawType": "object",
         "type": "unknown"
        },
        {
         "name": "alt_commute_mode_bicycle_personal_electric_bicycle",
         "rawType": "object",
         "type": "unknown"
        },
        {
         "name": "alt_commute_mode_bicycle_personal_non_electric_bicycle",
         "rawType": "object",
         "type": "unknown"
        },
        {
         "name": "alt_commute_mode_car_black",
         "rawType": "object",
         "type": "unknown"
        },
        {
         "name": "alt_commute_mode_e_scooter_personal",
         "rawType": "object",
         "type": "unknown"
        },
        {
         "name": "alt_commute_mode_e_scooter_shared",
         "rawType": "object",
         "type": "unknown"
        },
        {
         "name": "alt_commute_mode_list",
         "rawType": "object",
         "type": "unknown"
        },
        {
         "name": "alt_commute_mode_mts_route_992",
         "rawType": "object",
         "type": "unknown"
        },
        {
         "name": "alt_commute_mode_other",
         "rawType": "object",
         "type": "unknown"
        },
        {
         "name": "alt_commute_mode_other_public_transit",
         "rawType": "object",
         "type": "unknown"
        },
        {
         "name": "alt_commute_mode_other_shared_van",
         "rawType": "object",
         "type": "unknown"
        },
        {
         "name": "alt_commute_mode_parked_vehicle_and_drive_alone",
         "rawType": "object",
         "type": "unknown"
        },
        {
         "name": "alt_commute_mode_parked_vehicle_and_drive_with_others",
         "rawType": "object",
         "type": "unknown"
        },
        {
         "name": "alt_commute_mode_parked_vehicle_and_ride_with_other_travelers",
         "rawType": "object",
         "type": "unknown"
        },
        {
         "name": "alt_commute_mode_picked_by_family_friend",
         "rawType": "object",
         "type": "unknown"
        },
        {
         "name": "alt_commute_mode_taxi",
         "rawType": "object",
         "type": "unknown"
        },
        {
         "name": "alt_commute_mode_uber_lyft",
         "rawType": "object",
         "type": "unknown"
        },
        {
         "name": "alt_commute_mode_walk",
         "rawType": "object",
         "type": "unknown"
        },
        {
         "name": "alt_commute_mode_wheelchair",
         "rawType": "object",
         "type": "unknown"
        },
        {
         "name": "car_available",
         "rawType": "float64",
         "type": "float"
        },
        {
         "name": "car_available_label",
         "rawType": "object",
         "type": "unknown"
        },
        {
         "name": "car_available_other",
         "rawType": "object",
         "type": "unknown"
        },
        {
         "name": "carryon_bags",
         "rawType": "float64",
         "type": "float"
        },
        {
         "name": "carryon_bags_label",
         "rawType": "object",
         "type": "unknown"
        },
        {
         "name": "checked_bags",
         "rawType": "float64",
         "type": "float"
        },
        {
         "name": "checked_bags_label",
         "rawType": "object",
         "type": "unknown"
        },
        {
         "name": "commute_mode_decision",
         "rawType": "float64",
         "type": "float"
        },
        {
         "name": "commute_mode_decision_label",
         "rawType": "object",
         "type": "unknown"
        },
        {
         "name": "commute_mode_decision_other",
         "rawType": "object",
         "type": "unknown"
        },
        {
         "name": "convention_center",
         "rawType": "float64",
         "type": "float"
        },
        {
         "name": "convention_center_activity",
         "rawType": "float64",
         "type": "float"
        },
        {
         "name": "convention_center_activity_label",
         "rawType": "object",
         "type": "unknown"
        },
        {
         "name": "convention_center_activity_other",
         "rawType": "object",
         "type": "unknown"
        },
        {
         "name": "convention_center_label",
         "rawType": "object",
         "type": "unknown"
        },
        {
         "name": "country_of_residence",
         "rawType": "float64",
         "type": "float"
        },
        {
         "name": "country_of_residence_label",
         "rawType": "object",
         "type": "unknown"
        },
        {
         "name": "destination_activity_type",
         "rawType": "float64",
         "type": "float"
        },
        {
         "name": "destination_activity_type_label",
         "rawType": "object",
         "type": "string"
        },
        {
         "name": "destination_activity_type_other",
         "rawType": "object",
         "type": "unknown"
        },
        {
         "name": "destination_latitude",
         "rawType": "float64",
         "type": "float"
        },
        {
         "name": "destination_longitude",
         "rawType": "float64",
         "type": "float"
        },
        {
         "name": "destination_municipal_zone",
         "rawType": "object",
         "type": "string"
        },
        {
         "name": "destination_name",
         "rawType": "object",
         "type": "unknown"
        },
        {
         "name": "destination_place_name",
         "rawType": "object",
         "type": "string"
        },
        {
         "name": "destination_pmsa",
         "rawType": "float64",
         "type": "float"
        },
        {
         "name": "destination_pmsa_label",
         "rawType": "object",
         "type": "string"
        },
        {
         "name": "destination_state",
         "rawType": "object",
         "type": "string"
        },
        {
         "name": "destination_zip",
         "rawType": "object",
         "type": "string"
        },
        {
         "name": "egress_mode",
         "rawType": "float64",
         "type": "float"
        },
        {
         "name": "egress_mode_grouped",
         "rawType": "float64",
         "type": "float"
        },
        {
         "name": "egress_mode_grouped_label",
         "rawType": "object",
         "type": "unknown"
        },
        {
         "name": "egress_mode_label",
         "rawType": "object",
         "type": "unknown"
        },
        {
         "name": "egress_mode_other",
         "rawType": "float64",
         "type": "float"
        },
        {
         "name": "employee_parking",
         "rawType": "object",
         "type": "unknown"
        },
        {
         "name": "employer",
         "rawType": "float64",
         "type": "float"
        },
        {
         "name": "employer_label",
         "rawType": "object",
         "type": "string"
        },
        {
         "name": "employer_other",
         "rawType": "object",
         "type": "unknown"
        },
        {
         "name": "final_flight_destination",
         "rawType": "object",
         "type": "unknown"
        },
        {
         "name": "flight_arrival_time",
         "rawType": "float64",
         "type": "float"
        },
        {
         "name": "flight_arrival_time_label",
         "rawType": "object",
         "type": "unknown"
        },
        {
         "name": "flight_departure_time",
         "rawType": "float64",
         "type": "float"
        },
        {
         "name": "flight_departure_time_label",
         "rawType": "object",
         "type": "unknown"
        },
        {
         "name": "flight_number",
         "rawType": "object",
         "type": "unknown"
        },
        {
         "name": "flight_purpose",
         "rawType": "float64",
         "type": "float"
        },
        {
         "name": "flight_purpose_label",
         "rawType": "object",
         "type": "unknown"
        },
        {
         "name": "flight_purpose_other",
         "rawType": "object",
         "type": "unknown"
        },
        {
         "name": "from_airport_transit_route_1",
         "rawType": "object",
         "type": "unknown"
        },
        {
         "name": "from_airport_transit_route_1_other",
         "rawType": "float64",
         "type": "float"
        },
        {
         "name": "from_airport_transit_route_2",
         "rawType": "object",
         "type": "unknown"
        },
        {
         "name": "from_airport_transit_route_2_other",
         "rawType": "float64",
         "type": "float"
        },
        {
         "name": "from_airport_transit_route_3",
         "rawType": "float64",
         "type": "float"
        },
        {
         "name": "from_airport_transit_route_3_other",
         "rawType": "float64",
         "type": "float"
        },
        {
         "name": "from_airport_transit_route_4",
         "rawType": "float64",
         "type": "float"
        },
        {
         "name": "from_airport_transit_route_4_other",
         "rawType": "float64",
         "type": "float"
        },
        {
         "name": "gender",
         "rawType": "float64",
         "type": "float"
        },
        {
         "name": "gender_label",
         "rawType": "object",
         "type": "string"
        },
        {
         "name": "gender_other",
         "rawType": "float64",
         "type": "float"
        },
        {
         "name": "general_modes_used_visitor_bicycle_electric_bikeshare",
         "rawType": "object",
         "type": "unknown"
        },
        {
         "name": "general_modes_used_visitor_bicycle_non_electric_bikeshare",
         "rawType": "object",
         "type": "unknown"
        },
        {
         "name": "general_modes_used_visitor_bicycle_personal_electric_bicycle",
         "rawType": "object",
         "type": "unknown"
        },
        {
         "name": "general_modes_used_visitor_bicycle_personal_non_electric_bicycle",
         "rawType": "object",
         "type": "unknown"
        },
        {
         "name": "general_modes_used_visitor_car_black",
         "rawType": "object",
         "type": "unknown"
        },
        {
         "name": "general_modes_used_visitor_chartered_tour_bus",
         "rawType": "object",
         "type": "unknown"
        },
        {
         "name": "general_modes_used_visitor_coaster",
         "rawType": "object",
         "type": "unknown"
        },
        {
         "name": "general_modes_used_visitor_dropped_off_by_family_friend",
         "rawType": "object",
         "type": "unknown"
        },
        {
         "name": "general_modes_used_visitor_drove_alone_and_parked",
         "rawType": "object",
         "type": "unknown"
        },
        {
         "name": "general_modes_used_visitor_drove_with_others_and_parked",
         "rawType": "object",
         "type": "unknown"
        },
        {
         "name": "general_modes_used_visitor_e_scooter_personal",
         "rawType": "object",
         "type": "unknown"
        },
        {
         "name": "general_modes_used_visitor_e_scooter_shared",
         "rawType": "object",
         "type": "unknown"
        },
        {
         "name": "general_modes_used_visitor_employee_shuttle",
         "rawType": "object",
         "type": "unknown"
        },
        {
         "name": "general_modes_used_visitor_hotel_shuttle_van",
         "rawType": "object",
         "type": "unknown"
        },
        {
         "name": "general_modes_used_visitor_list",
         "rawType": "object",
         "type": "unknown"
        },
        {
         "name": "general_modes_used_visitor_mts_red_trolley",
         "rawType": "object",
         "type": "unknown"
        },
        {
         "name": "general_modes_used_visitor_other",
         "rawType": "object",
         "type": "unknown"
        },
        {
         "name": "general_modes_used_visitor_other_public_bus",
         "rawType": "object",
         "type": "unknown"
        },
        {
         "name": "general_modes_used_visitor_other_public_transit",
         "rawType": "object",
         "type": "unknown"
        },
        {
         "name": "general_modes_used_visitor_other_shared_van",
         "rawType": "object",
         "type": "unknown"
        },
        {
         "name": "general_modes_used_visitor_rental_car_dropped_off",
         "rawType": "object",
         "type": "unknown"
        },
        {
         "name": "general_modes_used_visitor_rental_car_parked",
         "rawType": "object",
         "type": "unknown"
        },
        {
         "name": "general_modes_used_visitor_rode_with_other_travelers_and_parked",
         "rawType": "object",
         "type": "unknown"
        },
        {
         "name": "general_modes_used_visitor_taxi",
         "rawType": "object",
         "type": "unknown"
        },
        {
         "name": "general_modes_used_visitor_uber_lyft",
         "rawType": "object",
         "type": "unknown"
        },
        {
         "name": "general_modes_used_visitor_walk",
         "rawType": "object",
         "type": "unknown"
        },
        {
         "name": "general_modes_used_visitor_wheelchair",
         "rawType": "object",
         "type": "unknown"
        },
        {
         "name": "general_use_transit_resident",
         "rawType": "float64",
         "type": "float"
        },
        {
         "name": "general_use_transit_resident_label",
         "rawType": "object",
         "type": "unknown"
        },
        {
         "name": "general_use_transit_visitor_home",
         "rawType": "float64",
         "type": "float"
        },
        {
         "name": "general_use_transit_visitor_home_label",
         "rawType": "object",
         "type": "unknown"
        },
        {
         "name": "home_location_latitude",
         "rawType": "float64",
         "type": "float"
        },
        {
         "name": "home_location_longitude",
         "rawType": "float64",
         "type": "float"
        },
        {
         "name": "home_location_municipal_zone",
         "rawType": "object",
         "type": "string"
        },
        {
         "name": "home_location_place_name",
         "rawType": "object",
         "type": "string"
        },
        {
         "name": "home_location_pmsa",
         "rawType": "float64",
         "type": "float"
        },
        {
         "name": "home_location_pmsa_label",
         "rawType": "object",
         "type": "string"
        },
        {
         "name": "home_location_state",
         "rawType": "object",
         "type": "string"
        },
        {
         "name": "home_location_zip",
         "rawType": "object",
         "type": "string"
        },
        {
         "name": "household_income",
         "rawType": "float64",
         "type": "float"
        },
        {
         "name": "household_income_label",
         "rawType": "object",
         "type": "string"
        },
        {
         "name": "inbound_or_outbound",
         "rawType": "float64",
         "type": "float"
        },
        {
         "name": "inbound_or_outbound_label",
         "rawType": "object",
         "type": "string"
        },
        {
         "name": "initial_etc_check",
         "rawType": "object",
         "type": "unknown"
        },
        {
         "name": "interview_location",
         "rawType": "float64",
         "type": "float"
        },
        {
         "name": "interview_location_label",
         "rawType": "object",
         "type": "string"
        },
        {
         "name": "interview_location_other",
         "rawType": "object",
         "type": "unknown"
        },
        {
         "name": "is_direct_flight",
         "rawType": "object",
         "type": "unknown"
        },
        {
         "name": "is_final_destination",
         "rawType": "object",
         "type": "unknown"
        },
        {
         "name": "is_income_below_poverty",
         "rawType": "float64",
         "type": "float"
        },
        {
         "name": "is_income_below_poverty_label",
         "rawType": "object",
         "type": "unknown"
        },
        {
         "name": "is_original_origin",
         "rawType": "object",
         "type": "unknown"
        },
        {
         "name": "is_qualified_age",
         "rawType": "object",
         "type": "unknown"
        },
        {
         "name": "is_sdia_home_airport",
         "rawType": "object",
         "type": "unknown"
        },
        {
         "name": "main_mode",
         "rawType": "float64",
         "type": "float"
        },
        {
         "name": "main_mode_grouped",
         "rawType": "float64",
         "type": "float"
        },
        {
         "name": "main_mode_grouped_label",
         "rawType": "object",
         "type": "string"
        },
        {
         "name": "main_mode_label",
         "rawType": "object",
         "type": "string"
        },
        {
         "name": "main_mode_other",
         "rawType": "object",
         "type": "unknown"
        },
        {
         "name": "main_transit_mode",
         "rawType": "float64",
         "type": "float"
        },
        {
         "name": "main_transit_mode_label",
         "rawType": "object",
         "type": "string"
        },
        {
         "name": "marketsegment",
         "rawType": "int64",
         "type": "integer"
        },
        {
         "name": "marketsegment_label",
         "rawType": "object",
         "type": "string"
        },
        {
         "name": "next_flight_destination",
         "rawType": "object",
         "type": "unknown"
        },
        {
         "name": "nights_away",
         "rawType": "float64",
         "type": "float"
        },
        {
         "name": "nights_away_label",
         "rawType": "object",
         "type": "unknown"
        },
        {
         "name": "nights_visited",
         "rawType": "float64",
         "type": "float"
        },
        {
         "name": "nights_visited_label",
         "rawType": "object",
         "type": "unknown"
        },
        {
         "name": "non_airport_activity_type",
         "rawType": "float64",
         "type": "float"
        },
        {
         "name": "non_sdia_flight_frequency",
         "rawType": "float64",
         "type": "float"
        },
        {
         "name": "non_sdia_flight_frequency_label",
         "rawType": "object",
         "type": "unknown"
        },
        {
         "name": "num_transit_transfers",
         "rawType": "int64",
         "type": "integer"
        },
        {
         "name": "number_commute_days",
         "rawType": "float64",
         "type": "float"
        },
        {
         "name": "number_commute_days_label",
         "rawType": "object",
         "type": "string"
        },
        {
         "name": "number_hours_worked",
         "rawType": "float64",
         "type": "float"
        },
        {
         "name": "number_hours_worked_label",
         "rawType": "object",
         "type": "string"
        },
        {
         "name": "number_of_nights",
         "rawType": "float64",
         "type": "float"
        },
        {
         "name": "number_of_nights_label",
         "rawType": "object",
         "type": "unknown"
        },
        {
         "name": "number_of_travel_companions",
         "rawType": "float64",
         "type": "float"
        },
        {
         "name": "number_of_travel_companions_label",
         "rawType": "object",
         "type": "unknown"
        },
        {
         "name": "number_persons_in_household",
         "rawType": "float64",
         "type": "float"
        },
        {
         "name": "number_persons_in_household_label",
         "rawType": "object",
         "type": "string"
        },
        {
         "name": "number_transit_vehicles_from_airport",
         "rawType": "float64",
         "type": "float"
        },
        {
         "name": "number_transit_vehicles_from_airport_label",
         "rawType": "object",
         "type": "unknown"
        },
        {
         "name": "number_transit_vehicles_to_airport",
         "rawType": "float64",
         "type": "float"
        },
        {
         "name": "number_transit_vehicles_to_airport_label",
         "rawType": "object",
         "type": "unknown"
        },
        {
         "name": "number_vehicles",
         "rawType": "float64",
         "type": "float"
        },
        {
         "name": "number_vehicles_label",
         "rawType": "object",
         "type": "string"
        },
        {
         "name": "number_workers",
         "rawType": "float64",
         "type": "float"
        },
        {
         "name": "number_workers_label",
         "rawType": "object",
         "type": "string"
        },
        {
         "name": "occupation",
         "rawType": "float64",
         "type": "float"
        },
        {
         "name": "occupation_detail",
         "rawType": "float64",
         "type": "float"
        },
        {
         "name": "occupation_detail_label",
         "rawType": "object",
         "type": "unknown"
        },
        {
         "name": "occupation_label",
         "rawType": "object",
         "type": "string"
        },
        {
         "name": "occupation_other",
         "rawType": "object",
         "type": "unknown"
        },
        {
         "name": "origin_activity_type",
         "rawType": "float64",
         "type": "float"
        },
        {
         "name": "origin_activity_type_label",
         "rawType": "object",
         "type": "string"
        },
        {
         "name": "origin_activity_type_other",
         "rawType": "object",
         "type": "unknown"
        },
        {
         "name": "origin_latitude",
         "rawType": "float64",
         "type": "float"
        },
        {
         "name": "origin_longitude",
         "rawType": "float64",
         "type": "float"
        },
        {
         "name": "origin_municipal_zone",
         "rawType": "object",
         "type": "string"
        },
        {
         "name": "origin_name",
         "rawType": "object",
         "type": "unknown"
        },
        {
         "name": "origin_place_name",
         "rawType": "object",
         "type": "string"
        },
        {
         "name": "origin_pmsa",
         "rawType": "float64",
         "type": "float"
        },
        {
         "name": "origin_pmsa_label",
         "rawType": "object",
         "type": "string"
        },
        {
         "name": "origin_state",
         "rawType": "object",
         "type": "string"
        },
        {
         "name": "origin_zip",
         "rawType": "object",
         "type": "unknown"
        },
        {
         "name": "original_flight_origin",
         "rawType": "object",
         "type": "unknown"
        },
        {
         "name": "other_airport_accessmode",
         "rawType": "float64",
         "type": "float"
        },
        {
         "name": "other_airport_accessmode_grouped",
         "rawType": "float64",
         "type": "float"
        },
        {
         "name": "other_airport_accessmode_grouped_label",
         "rawType": "object",
         "type": "unknown"
        },
        {
         "name": "other_airport_accessmode_label",
         "rawType": "object",
         "type": "unknown"
        },
        {
         "name": "parking_cost",
         "rawType": "object",
         "type": "unknown"
        },
        {
         "name": "parking_cost_frequency",
         "rawType": "float64",
         "type": "float"
        },
        {
         "name": "parking_cost_frequency_label",
         "rawType": "object",
         "type": "unknown"
        },
        {
         "name": "parking_cost_frequency_other",
         "rawType": "object",
         "type": "unknown"
        },
        {
         "name": "parking_cost_numeric",
         "rawType": "float64",
         "type": "float"
        },
        {
         "name": "parking_location",
         "rawType": "float64",
         "type": "float"
        },
        {
         "name": "parking_location_label",
         "rawType": "object",
         "type": "unknown"
        },
        {
         "name": "parking_location_other",
         "rawType": "object",
         "type": "unknown"
        },
        {
         "name": "party_composition_list",
         "rawType": "object",
         "type": "unknown"
        },
        {
         "name": "party_includes_child_aged00to05",
         "rawType": "object",
         "type": "unknown"
        },
        {
         "name": "party_includes_child_aged06to17",
         "rawType": "object",
         "type": "unknown"
        },
        {
         "name": "party_includes_coworker",
         "rawType": "object",
         "type": "unknown"
        },
        {
         "name": "party_includes_friend_relative",
         "rawType": "object",
         "type": "unknown"
        },
        {
         "name": "party_includes_mobility_impaired",
         "rawType": "object",
         "type": "unknown"
        },
        {
         "name": "party_size_flight",
         "rawType": "int64",
         "type": "integer"
        },
        {
         "name": "party_size_ground_access",
         "rawType": "float64",
         "type": "float"
        },
        {
         "name": "party_size_ground_access_same",
         "rawType": "object",
         "type": "unknown"
        },
        {
         "name": "passenger_segment",
         "rawType": "float64",
         "type": "float"
        },
        {
         "name": "passenger_segment_label",
         "rawType": "object",
         "type": "unknown"
        },
        {
         "name": "passenger_type",
         "rawType": "float64",
         "type": "float"
        },
        {
         "name": "passenger_type_label",
         "rawType": "object",
         "type": "unknown"
        },
        {
         "name": "previous_flight_origin",
         "rawType": "object",
         "type": "unknown"
        },
        {
         "name": "previous_or_next_airport",
         "rawType": "object",
         "type": "unknown"
        },
        {
         "name": "qualified_visitor",
         "rawType": "object",
         "type": "unknown"
        },
        {
         "name": "race_aian",
         "rawType": "object",
         "type": "unknown"
        },
        {
         "name": "race_asian",
         "rawType": "object",
         "type": "unknown"
        },
        {
         "name": "race_black",
         "rawType": "object",
         "type": "unknown"
        },
        {
         "name": "race_hispanic",
         "rawType": "object",
         "type": "unknown"
        },
        {
         "name": "race_hp",
         "rawType": "object",
         "type": "unknown"
        },
        {
         "name": "race_list",
         "rawType": "object",
         "type": "string"
        },
        {
         "name": "race_middle_eastern",
         "rawType": "object",
         "type": "unknown"
        },
        {
         "name": "race_other",
         "rawType": "object",
         "type": "unknown"
        },
        {
         "name": "race_unknown",
         "rawType": "object",
         "type": "unknown"
        },
        {
         "name": "race_white",
         "rawType": "object",
         "type": "unknown"
        },
        {
         "name": "reasons_no_transit_dislike_crowded_trains_buses",
         "rawType": "object",
         "type": "unknown"
        },
        {
         "name": "reasons_no_transit_dislike_public_transport",
         "rawType": "object",
         "type": "unknown"
        },
        {
         "name": "reasons_no_transit_dislike_public_transport_with_luggage",
         "rawType": "object",
         "type": "unknown"
        },
        {
         "name": "reasons_no_transit_does_not_run_when_needed",
         "rawType": "object",
         "type": "unknown"
        },
        {
         "name": "reasons_no_transit_dont_know_how",
         "rawType": "object",
         "type": "unknown"
        },
        {
         "name": "reasons_no_transit_list",
         "rawType": "object",
         "type": "unknown"
        },
        {
         "name": "reasons_no_transit_no_good_options",
         "rawType": "object",
         "type": "unknown"
        },
        {
         "name": "reasons_no_transit_not_convenient",
         "rawType": "object",
         "type": "unknown"
        },
        {
         "name": "reasons_no_transit_not_economical",
         "rawType": "object",
         "type": "unknown"
        },
        {
         "name": "reasons_no_transit_not_flexible",
         "rawType": "object",
         "type": "unknown"
        },
        {
         "name": "reasons_no_transit_not_reliable",
         "rawType": "object",
         "type": "unknown"
        },
        {
         "name": "reasons_no_transit_not_safe",
         "rawType": "object",
         "type": "unknown"
        },
        {
         "name": "reasons_no_transit_other",
         "rawType": "object",
         "type": "unknown"
        },
        {
         "name": "reasons_no_transit_prefer_other_mode",
         "rawType": "object",
         "type": "unknown"
        },
        {
         "name": "reasons_no_transit_ride_too_long",
         "rawType": "object",
         "type": "unknown"
        },
        {
         "name": "reasons_no_transit_stop_too_far",
         "rawType": "object",
         "type": "unknown"
        },
        {
         "name": "reasons_no_transit_too_complicated",
         "rawType": "object",
         "type": "unknown"
        },
        {
         "name": "reasons_no_transit_too_many_transfers",
         "rawType": "object",
         "type": "unknown"
        },
        {
         "name": "reasons_no_transit_too_much_walking_stairs",
         "rawType": "object",
         "type": "unknown"
        },
        {
         "name": "reasons_no_transit_wait_too_long",
         "rawType": "object",
         "type": "unknown"
        },
        {
         "name": "reimbursement",
         "rawType": "float64",
         "type": "float"
        },
        {
         "name": "reimbursement_label",
         "rawType": "object",
         "type": "string"
        },
        {
         "name": "resident_visitor",
         "rawType": "float64",
         "type": "float"
        },
        {
         "name": "resident_visitor_arriving",
         "rawType": "object",
         "type": "unknown"
        },
        {
         "name": "resident_visitor_followup",
         "rawType": "float64",
         "type": "float"
        },
        {
         "name": "resident_visitor_followup_label",
         "rawType": "object",
         "type": "unknown"
        },
        {
         "name": "resident_visitor_general",
         "rawType": "float64",
         "type": "float"
        },
        {
         "name": "resident_visitor_general_label",
         "rawType": "object",
         "type": "unknown"
        },
        {
         "name": "resident_visitor_label",
         "rawType": "object",
         "type": "string"
        },
        {
         "name": "resident_visitor_purpose",
         "rawType": "int64",
         "type": "integer"
        },
        {
         "name": "resident_visitor_purpose_label",
         "rawType": "object",
         "type": "string"
        },
        {
         "name": "reverse_commute_mode",
         "rawType": "float64",
         "type": "float"
        },
        {
         "name": "reverse_commute_mode_grouped",
         "rawType": "float64",
         "type": "float"
        },
        {
         "name": "reverse_commute_mode_grouped_label",
         "rawType": "object",
         "type": "string"
        },
        {
         "name": "reverse_commute_mode_label",
         "rawType": "object",
         "type": "string"
        },
        {
         "name": "reverse_commute_mode_other",
         "rawType": "object",
         "type": "unknown"
        },
        {
         "name": "reverse_mode",
         "rawType": "float64",
         "type": "float"
        },
        {
         "name": "reverse_mode_combined",
         "rawType": "float64",
         "type": "float"
        },
        {
         "name": "reverse_mode_combined_label",
         "rawType": "object",
         "type": "unknown"
        },
        {
         "name": "reverse_mode_combined_other",
         "rawType": "float64",
         "type": "float"
        },
        {
         "name": "reverse_mode_grouped",
         "rawType": "float64",
         "type": "float"
        },
        {
         "name": "reverse_mode_grouped_label",
         "rawType": "object",
         "type": "unknown"
        },
        {
         "name": "reverse_mode_label",
         "rawType": "object",
         "type": "unknown"
        },
        {
         "name": "reverse_mode_predicted",
         "rawType": "float64",
         "type": "float"
        },
        {
         "name": "reverse_mode_predicted_grouped",
         "rawType": "float64",
         "type": "float"
        },
        {
         "name": "reverse_mode_predicted_grouped_label",
         "rawType": "object",
         "type": "unknown"
        },
        {
         "name": "reverse_mode_predicted_label",
         "rawType": "object",
         "type": "unknown"
        },
        {
         "name": "reverse_mode_predicted_other",
         "rawType": "object",
         "type": "unknown"
        },
        {
         "name": "same_commute_mode",
         "rawType": "float64",
         "type": "float"
        },
        {
         "name": "same_commute_mode_label",
         "rawType": "object",
         "type": "string"
        },
        {
         "name": "same_commute_mode_other",
         "rawType": "object",
         "type": "unknown"
        },
        {
         "name": "sdia_accessmode_decision",
         "rawType": "float64",
         "type": "float"
        },
        {
         "name": "sdia_accessmode_decision_label",
         "rawType": "object",
         "type": "unknown"
        },
        {
         "name": "sdia_accessmode_split_bicycle_electric_bikeshare",
         "rawType": "object",
         "type": "unknown"
        },
        {
         "name": "sdia_accessmode_split_bicycle_non_electric_bikeshare",
         "rawType": "object",
         "type": "unknown"
        },
        {
         "name": "sdia_accessmode_split_bicycle_personal_electric_bicycle",
         "rawType": "object",
         "type": "unknown"
        },
        {
         "name": "sdia_accessmode_split_bicycle_personal_non_electric_bicycle",
         "rawType": "object",
         "type": "unknown"
        },
        {
         "name": "sdia_accessmode_split_car_black",
         "rawType": "object",
         "type": "unknown"
        },
        {
         "name": "sdia_accessmode_split_chartered_tour_bus",
         "rawType": "object",
         "type": "unknown"
        },
        {
         "name": "sdia_accessmode_split_dropped_off_by_family_friend",
         "rawType": "object",
         "type": "unknown"
        },
        {
         "name": "sdia_accessmode_split_drove_alone_and_parked",
         "rawType": "object",
         "type": "unknown"
        },
        {
         "name": "sdia_accessmode_split_drove_with_others_and_parked",
         "rawType": "object",
         "type": "unknown"
        },
        {
         "name": "sdia_accessmode_split_e_scooter_personal",
         "rawType": "object",
         "type": "unknown"
        },
        {
         "name": "sdia_accessmode_split_e_scooter_shared",
         "rawType": "object",
         "type": "unknown"
        },
        {
         "name": "sdia_accessmode_split_employee_shuttle",
         "rawType": "object",
         "type": "unknown"
        },
        {
         "name": "sdia_accessmode_split_flyer_shuttle",
         "rawType": "object",
         "type": "unknown"
        },
        {
         "name": "sdia_accessmode_split_hotel_shuttle_van",
         "rawType": "object",
         "type": "unknown"
        },
        {
         "name": "sdia_accessmode_split_list",
         "rawType": "object",
         "type": "unknown"
        },
        {
         "name": "sdia_accessmode_split_mts992",
         "rawType": "object",
         "type": "unknown"
        },
        {
         "name": "sdia_accessmode_split_other",
         "rawType": "object",
         "type": "unknown"
        },
        {
         "name": "sdia_accessmode_split_other_public_transit",
         "rawType": "object",
         "type": "unknown"
        },
        {
         "name": "sdia_accessmode_split_other_shared_van",
         "rawType": "object",
         "type": "unknown"
        },
        {
         "name": "sdia_accessmode_split_rental_car_dropped_off",
         "rawType": "object",
         "type": "unknown"
        },
        {
         "name": "sdia_accessmode_split_rental_car_parked",
         "rawType": "object",
         "type": "unknown"
        },
        {
         "name": "sdia_accessmode_split_rode_with_other_travelers_and_parked",
         "rawType": "object",
         "type": "unknown"
        },
        {
         "name": "sdia_accessmode_split_taxi",
         "rawType": "object",
         "type": "unknown"
        },
        {
         "name": "sdia_accessmode_split_uber_lyft",
         "rawType": "object",
         "type": "unknown"
        },
        {
         "name": "sdia_accessmode_split_walk",
         "rawType": "object",
         "type": "unknown"
        },
        {
         "name": "sdia_accessmode_split_wheelchair",
         "rawType": "object",
         "type": "unknown"
        },
        {
         "name": "sdia_flight_frequency",
         "rawType": "float64",
         "type": "float"
        },
        {
         "name": "sdia_flight_frequency_label",
         "rawType": "object",
         "type": "unknown"
        },
        {
         "name": "sdia_transit_awareness",
         "rawType": "float64",
         "type": "float"
        },
        {
         "name": "sdia_transit_awareness_label",
         "rawType": "object",
         "type": "unknown"
        },
        {
         "name": "shared_van_other",
         "rawType": "object",
         "type": "unknown"
        },
        {
         "name": "shift_end_time",
         "rawType": "float64",
         "type": "float"
        },
        {
         "name": "shift_end_time_label",
         "rawType": "object",
         "type": "string"
        },
        {
         "name": "shift_start_airport_building",
         "rawType": "float64",
         "type": "float"
        },
        {
         "name": "shift_start_airport_building_label",
         "rawType": "object",
         "type": "string"
        },
        {
         "name": "shift_start_airport_building_other",
         "rawType": "object",
         "type": "unknown"
        },
        {
         "name": "shift_start_time",
         "rawType": "float64",
         "type": "float"
        },
        {
         "name": "shift_start_time_label",
         "rawType": "object",
         "type": "string"
        },
        {
         "name": "sp_access_walk_time",
         "rawType": "float64",
         "type": "float"
        },
        {
         "name": "sp_access_walk_time_label",
         "rawType": "object",
         "type": "unknown"
        },
        {
         "name": "sp_connection_to_convention_center",
         "rawType": "float64",
         "type": "float"
        },
        {
         "name": "sp_connection_to_convention_center_label",
         "rawType": "object",
         "type": "unknown"
        },
        {
         "name": "sp_connection_to_old_town_center",
         "rawType": "float64",
         "type": "float"
        },
        {
         "name": "sp_connection_to_old_town_center_label",
         "rawType": "object",
         "type": "unknown"
        },
        {
         "name": "sp_connection_to_santafe_depot",
         "rawType": "float64",
         "type": "float"
        },
        {
         "name": "sp_connection_to_santafe_depot_label",
         "rawType": "object",
         "type": "unknown"
        },
        {
         "name": "sp_dropoff_choice_no_transit_access",
         "rawType": "float64",
         "type": "float"
        },
        {
         "name": "sp_dropoff_choice_no_transit_access_label",
         "rawType": "object",
         "type": "unknown"
        },
        {
         "name": "sp_dropoff_choice_transit_access",
         "rawType": "float64",
         "type": "float"
        },
        {
         "name": "sp_dropoff_choice_transit_access_label",
         "rawType": "object",
         "type": "unknown"
        },
        {
         "name": "sp_dropoff_escort",
         "rawType": "float64",
         "type": "float"
        },
        {
         "name": "sp_dropoff_escort_label",
         "rawType": "object",
         "type": "unknown"
        },
        {
         "name": "sp_feature_early_morning",
         "rawType": "float64",
         "type": "float"
        },
        {
         "name": "sp_feature_early_morning_label",
         "rawType": "object",
         "type": "unknown"
        },
        {
         "name": "sp_feature_late_night",
         "rawType": "float64",
         "type": "float"
        },
        {
         "name": "sp_feature_late_night_label",
         "rawType": "object",
         "type": "unknown"
        },
        {
         "name": "sp_feature_luggage_rack",
         "rawType": "float64",
         "type": "float"
        },
        {
         "name": "sp_feature_luggage_rack_label",
         "rawType": "object",
         "type": "unknown"
        },
        {
         "name": "sp_feature_no_delay",
         "rawType": "float64",
         "type": "float"
        },
        {
         "name": "sp_feature_no_delay_label",
         "rawType": "object",
         "type": "unknown"
        },
        {
         "name": "sp_feature_seats_transit",
         "rawType": "float64",
         "type": "float"
        },
        {
         "name": "sp_feature_seats_transit_label",
         "rawType": "object",
         "type": "unknown"
        },
        {
         "name": "sp_feature_seats_transit_stop",
         "rawType": "float64",
         "type": "float"
        },
        {
         "name": "sp_feature_seats_transit_stop_label",
         "rawType": "object",
         "type": "unknown"
        },
        {
         "name": "sp_feature_short_wait",
         "rawType": "float64",
         "type": "float"
        },
        {
         "name": "sp_feature_short_wait_label",
         "rawType": "object",
         "type": "unknown"
        },
        {
         "name": "sp_feature_weekend_frequency",
         "rawType": "float64",
         "type": "float"
        },
        {
         "name": "sp_feature_weekend_frequency_label",
         "rawType": "object",
         "type": "unknown"
        },
        {
         "name": "sp_invitation",
         "rawType": "float64",
         "type": "float"
        },
        {
         "name": "sp_invitation_label",
         "rawType": "object",
         "type": "string"
        },
        {
         "name": "sp_number_of_transfers",
         "rawType": "float64",
         "type": "float"
        },
        {
         "name": "sp_number_of_transfers_label",
         "rawType": "object",
         "type": "unknown"
        },
        {
         "name": "sp_other_airport_comfort",
         "rawType": "object",
         "type": "unknown"
        },
        {
         "name": "sp_other_airport_cost",
         "rawType": "object",
         "type": "unknown"
        },
        {
         "name": "sp_other_airport_did_not_like",
         "rawType": "object",
         "type": "unknown"
        },
        {
         "name": "sp_other_airport_ease_of_boarding",
         "rawType": "object",
         "type": "unknown"
        },
        {
         "name": "sp_other_airport_ease_of_planning",
         "rawType": "object",
         "type": "unknown"
        },
        {
         "name": "sp_other_airport_enough_capacity",
         "rawType": "object",
         "type": "unknown"
        },
        {
         "name": "sp_other_airport_enough_room_to_stand",
         "rawType": "object",
         "type": "unknown"
        },
        {
         "name": "sp_other_airport_enough_seats",
         "rawType": "object",
         "type": "unknown"
        },
        {
         "name": "sp_other_airport_frequency_of_service",
         "rawType": "object",
         "type": "unknown"
        },
        {
         "name": "sp_other_airport_list",
         "rawType": "object",
         "type": "unknown"
        },
        {
         "name": "sp_other_airport_longer_operating_hours",
         "rawType": "object",
         "type": "unknown"
        },
        {
         "name": "sp_other_airport_luggage_rack",
         "rawType": "object",
         "type": "unknown"
        },
        {
         "name": "sp_other_airport_no_delays",
         "rawType": "object",
         "type": "unknown"
        },
        {
         "name": "sp_other_airport_no_transfers",
         "rawType": "object",
         "type": "unknown"
        },
        {
         "name": "sp_other_airport_other",
         "rawType": "object",
         "type": "unknown"
        },
        {
         "name": "sp_other_airport_other_specify",
         "rawType": "object",
         "type": "unknown"
        },
        {
         "name": "sp_other_airport_safety",
         "rawType": "object",
         "type": "unknown"
        },
        {
         "name": "sp_other_airport_short_travel_time",
         "rawType": "object",
         "type": "unknown"
        },
        {
         "name": "sp_other_airport_walking_distance",
         "rawType": "object",
         "type": "unknown"
        },
        {
         "name": "sp_rental_choice_no_transit",
         "rawType": "float64",
         "type": "float"
        },
        {
         "name": "sp_rental_choice_no_transit_label",
         "rawType": "object",
         "type": "unknown"
        },
        {
         "name": "sp_taxi_choice_dropoff_station",
         "rawType": "float64",
         "type": "float"
        },
        {
         "name": "sp_taxi_choice_dropoff_station_label",
         "rawType": "object",
         "type": "unknown"
        },
        {
         "name": "state_of_residence",
         "rawType": "float64",
         "type": "float"
        },
        {
         "name": "state_of_residence_label",
         "rawType": "object",
         "type": "unknown"
        },
        {
         "name": "stay_informed",
         "rawType": "float64",
         "type": "float"
        },
        {
         "name": "stay_informed_label",
         "rawType": "object",
         "type": "unknown"
        },
        {
         "name": "survey_language",
         "rawType": "object",
         "type": "string"
        },
        {
         "name": "survey_language_label",
         "rawType": "float64",
         "type": "float"
        },
        {
         "name": "survey_language_other",
         "rawType": "float64",
         "type": "float"
        },
        {
         "name": "taxi_fhv_fare",
         "rawType": "object",
         "type": "unknown"
        },
        {
         "name": "taxi_fhv_fare_numeric",
         "rawType": "float64",
         "type": "float"
        },
        {
         "name": "taxi_fhv_wait",
         "rawType": "object",
         "type": "unknown"
        },
        {
         "name": "taxi_fhv_wait_numeric",
         "rawType": "float64",
         "type": "float"
        },
        {
         "name": "thanksgiving_week_flag",
         "rawType": "bool",
         "type": "boolean"
        },
        {
         "name": "to_airport_transit_route_1",
         "rawType": "object",
         "type": "unknown"
        },
        {
         "name": "to_airport_transit_route_1_other",
         "rawType": "object",
         "type": "unknown"
        },
        {
         "name": "to_airport_transit_route_2",
         "rawType": "object",
         "type": "unknown"
        },
        {
         "name": "to_airport_transit_route_2_other",
         "rawType": "float64",
         "type": "float"
        },
        {
         "name": "to_airport_transit_route_3",
         "rawType": "object",
         "type": "unknown"
        },
        {
         "name": "to_airport_transit_route_3_other",
         "rawType": "float64",
         "type": "float"
        },
        {
         "name": "to_airport_transit_route_4",
         "rawType": "float64",
         "type": "float"
        },
        {
         "name": "to_airport_transit_route_4_other",
         "rawType": "float64",
         "type": "float"
        },
        {
         "name": "transit_alighting_latitude",
         "rawType": "float64",
         "type": "float"
        },
        {
         "name": "transit_alighting_longitude",
         "rawType": "float64",
         "type": "float"
        },
        {
         "name": "transit_alighting_stop_name",
         "rawType": "object",
         "type": "unknown"
        },
        {
         "name": "transit_boarding_latitude",
         "rawType": "float64",
         "type": "float"
        },
        {
         "name": "transit_boarding_longitude",
         "rawType": "float64",
         "type": "float"
        },
        {
         "name": "transit_boarding_stop_name",
         "rawType": "object",
         "type": "unknown"
        },
        {
         "name": "transit_routes_list",
         "rawType": "object",
         "type": "unknown"
        },
        {
         "name": "trip_arrival_time",
         "rawType": "float64",
         "type": "float"
        },
        {
         "name": "trip_arrival_time_label",
         "rawType": "object",
         "type": "string"
        },
        {
         "name": "trip_start_time",
         "rawType": "float64",
         "type": "float"
        },
        {
         "name": "trip_start_time_label",
         "rawType": "object",
         "type": "string"
        },
        {
         "name": "validation_error_person",
         "rawType": "object",
         "type": "string"
        },
        {
         "name": "validation_error_trip",
         "rawType": "object",
         "type": "string"
        },
        {
         "name": "validation_num_errors_person",
         "rawType": "int64",
         "type": "integer"
        },
        {
         "name": "validation_num_errors_trip",
         "rawType": "int64",
         "type": "integer"
        },
        {
         "name": "validation_severity_person",
         "rawType": "object",
         "type": "unknown"
        },
        {
         "name": "validation_severity_trip",
         "rawType": "object",
         "type": "unknown"
        },
        {
         "name": "model_respondent_bool",
         "rawType": "object",
         "type": "unknown"
        },
        {
         "name": "weight_departing_and_arriving",
         "rawType": "float64",
         "type": "float"
        },
        {
         "name": "weight_departing_only",
         "rawType": "float64",
         "type": "float"
        },
        {
         "name": "weight_departing_only_model_respondents",
         "rawType": "float64",
         "type": "float"
        },
        {
         "name": "weight_non_sas_departing_only",
         "rawType": "float64",
         "type": "float"
        },
        {
         "name": "weight_departing_only_with_time_of_day",
         "rawType": "float64",
         "type": "float"
        }
       ],
       "ref": "586e9f55-bfa4-4192-808c-8fd888d4d6b5",
       "rows": [
        [
         "0",
         "1",
         "5473",
         "True",
         "True",
         "2024-10-04",
         "08:41:12",
         "False",
         "False",
         "0",
         null,
         null,
         null,
         null,
         null,
         null,
         null,
         "7.0",
         "AGE_45_49",
         null,
         null,
         null,
         null,
         null,
         null,
         null,
         null,
         null,
         null,
         null,
         null,
         null,
         null,
         null,
         null,
         null,
         null,
         null,
         null,
         null,
         null,
         null,
         null,
         null,
         null,
         null,
         null,
         null,
         null,
         null,
         null,
         null,
         null,
         null,
         null,
         null,
         null,
         null,
         null,
         null,
         null,
         null,
         null,
         null,
         "7.0",
         "SAN_DIEGO_AIRPORT",
         null,
         "32.7326272999998",
         "-117.204064",
         "SAN DIEGO",
         null,
         "San Diego",
         "2.0",
         "CENTRAL",
         "CA",
         "92101",
         null,
         null,
         null,
         null,
         null,
         "False",
         "66.0",
         "TOMMY_VS_PIZZERIA",
         null,
         null,
         null,
         null,
         null,
         null,
         null,
         null,
         null,
         null,
         null,
         null,
         null,
         null,
         null,
         null,
         null,
         null,
         "1.0",
         "MALE",
         null,
         null,
         null,
         null,
         null,
         null,
         null,
         null,
         null,
         null,
         null,
         null,
         null,
         null,
         null,
         null,
         null,
         null,
         null,
         null,
         null,
         null,
         null,
         null,
         null,
         null,
         null,
         null,
         null,
         null,
         null,
         null,
         "32.8167139999997",
         "-117.176897999999",
         "SAN DIEGO",
         "San Diego",
         "2.0",
         "CENTRAL",
         "CA",
         "92111",
         "10.0",
         "BETWEEN_60K_75K",
         "1.0",
         "INBOUND_TO_AIRPORT",
         "True",
         "2.0",
         "TERMINAL_2",
         null,
         null,
         null,
         null,
         null,
         null,
         "True",
         null,
         "13.0",
         "8.0",
         "PERSONAL_CAR_PARKED",
         "DROVE_ALONE_AND_PARKED",
         null,
         "98.0",
         "OTHER",
         "2",
         "EMPLOYEE",
         null,
         null,
         null,
         null,
         null,
         "2.0",
         null,
         null,
         "0",
         "5.0",
         "FIVE",
         "6.0",
         "FORTY_ONE_TO_FIFTY",
         null,
         null,
         null,
         null,
         "10.0",
         "TEN_OR_MORE",
         null,
         null,
         null,
         null,
         "4.0",
         "FOUR",
         "1.0",
         "ONE",
         "98.0",
         null,
         null,
         "OTHER_SPECIFY",
         null,
         "2.0",
         "HOME",
         null,
         "32.8167139999997",
         "-117.176897999999",
         "SAN DIEGO",
         null,
         "San Diego",
         "3.0",
         "NORTH_CITY",
         "CA",
         "92111.0",
         null,
         null,
         null,
         null,
         null,
         "100",
         "2.0",
         "MONTHLY",
         null,
         "100.0",
         "6.0",
         "EMPLOYEE_LOT_3665_ADMIRAL_BOLAND_WAY",
         null,
         null,
         null,
         null,
         null,
         null,
         null,
         "1",
         null,
         null,
         null,
         null,
         null,
         null,
         null,
         null,
         null,
         "False",
         "False",
         "True",
         "False",
         "False",
         "black",
         "False",
         null,
         "False",
         "False",
         null,
         null,
         null,
         null,
         null,
         null,
         null,
         null,
         null,
         null,
         null,
         null,
         null,
         null,
         null,
         null,
         null,
         null,
         null,
         null,
         "3.0",
         "NOT_REIMBURSED",
         "1.0",
         null,
         null,
         null,
         null,
         null,
         "SAN_DIEGO_REGION",
         "4",
         "VISITOR_NON_BUSINESS",
         "25.0",
         "8.0",
         "PERSONAL_CAR_PARKED",
         "GET_IN_PARKED_VEHICLE_AND_DRIVE_WITH_OTHERS",
         null,
         null,
         null,
         null,
         null,
         null,
         null,
         null,
         null,
         null,
         null,
         null,
         null,
         "1.0",
         "YES",
         null,
         null,
         null,
         null,
         null,
         null,
         null,
         null,
         null,
         null,
         null,
         null,
         null,
         null,
         null,
         null,
         null,
         null,
         null,
         null,
         null,
         null,
         null,
         null,
         null,
         null,
         null,
         null,
         null,
         null,
         null,
         null,
         null,
         null,
         "15.0",
         "NOON_TO_TWELVE_THIRTY",
         "2.0",
         "TERMINAL_2",
         null,
         "47.0",
         "FOUR_TO_FOUR_THIRTY",
         null,
         null,
         null,
         null,
         null,
         null,
         null,
         null,
         null,
         null,
         null,
         null,
         null,
         null,
         null,
         null,
         null,
         null,
         null,
         null,
         null,
         null,
         null,
         null,
         null,
         null,
         null,
         null,
         null,
         null,
         "2.0",
         "NO",
         null,
         null,
         null,
         null,
         null,
         null,
         null,
         null,
         null,
         null,
         null,
         null,
         null,
         null,
         null,
         null,
         null,
         null,
         null,
         null,
         null,
         null,
         null,
         null,
         null,
         null,
         null,
         "2.0",
         "NO",
         "SurveyLanguage.ENGLISH",
         null,
         null,
         null,
         null,
         null,
         null,
         "False",
         null,
         null,
         null,
         null,
         null,
         null,
         null,
         null,
         null,
         null,
         null,
         null,
         null,
         null,
         null,
         "1.0",
         "FIVE_TO_FIVE_THIRTY",
         "1.0",
         "FIVE_TO_FIVE_THIRTY",
         "[]",
         "[]",
         "0",
         "0",
         null,
         null,
         "True",
         "10.840259127952416",
         "11.525573967394402",
         "11.622594002192288",
         "19.17942750774013",
         "10.874503947796976"
        ],
        [
         "1",
         "2",
         "5476",
         "True",
         "True",
         "2024-10-04",
         "08:40:04",
         "False",
         "False",
         "0",
         "1.0",
         null,
         null,
         "1.0",
         "WALK",
         "WALK",
         null,
         "3.0",
         "AGE_25_29",
         null,
         null,
         null,
         null,
         null,
         null,
         null,
         null,
         null,
         null,
         null,
         null,
         null,
         null,
         null,
         null,
         null,
         null,
         null,
         null,
         null,
         null,
         null,
         null,
         null,
         null,
         null,
         null,
         null,
         null,
         null,
         null,
         null,
         null,
         null,
         null,
         null,
         null,
         null,
         null,
         null,
         null,
         null,
         null,
         null,
         "7.0",
         "SAN_DIEGO_AIRPORT",
         null,
         "32.733783",
         "-117.193315",
         "SAN DIEGO",
         null,
         "San Diego",
         "2.0",
         "CENTRAL",
         "CA",
         "92140",
         null,
         null,
         null,
         null,
         null,
         "True",
         "2.0",
         "ALASKA_AIRLINES",
         null,
         null,
         null,
         null,
         null,
         null,
         null,
         null,
         null,
         null,
         null,
         null,
         null,
         null,
         null,
         null,
         null,
         null,
         "1.0",
         "MALE",
         null,
         null,
         null,
         null,
         null,
         null,
         null,
         null,
         null,
         null,
         null,
         null,
         null,
         null,
         null,
         null,
         null,
         null,
         null,
         null,
         null,
         null,
         null,
         null,
         null,
         null,
         null,
         null,
         null,
         null,
         null,
         null,
         "32.639943",
         "-117.085774",
         "SAN DIEGO",
         "Chula Vista",
         "2.0",
         "CENTRAL",
         "CA",
         "91910",
         "13.0",
         "BETWEEN_150_199K",
         "1.0",
         "INBOUND_TO_AIRPORT",
         "True",
         "3.0",
         "ONBOARD_992",
         null,
         null,
         null,
         null,
         null,
         null,
         "True",
         null,
         "15.0",
         "10.0",
         "BUS_992",
         "MTS_ROUTE_992",
         null,
         "15.0",
         "MTS_ROUTE_992",
         "2",
         "EMPLOYEE",
         null,
         null,
         null,
         null,
         null,
         "2.0",
         null,
         null,
         "0",
         "5.0",
         "FIVE",
         "4.0",
         "TWENTY_ONE_TO_THIRTY",
         null,
         null,
         null,
         null,
         "4.0",
         "FOUR",
         null,
         null,
         "1.0",
         "ONE",
         "3.0",
         "THREE",
         "4.0",
         "FOUR",
         "8.0",
         null,
         null,
         "CARGO_HANDLER",
         null,
         "2.0",
         "HOME",
         null,
         "32.639943",
         "-117.085774",
         "CHULA VISTA",
         null,
         "Chula Vista",
         "4.0",
         "SOUTH_SUBURBAN",
         "CA",
         "91910.0",
         null,
         null,
         null,
         null,
         null,
         null,
         null,
         null,
         null,
         null,
         null,
         null,
         null,
         null,
         null,
         null,
         null,
         null,
         null,
         "1",
         null,
         null,
         null,
         null,
         null,
         null,
         null,
         null,
         null,
         "False",
         "False",
         "False",
         "True",
         "False",
         "hispanic, unknown",
         "False",
         null,
         "True",
         "False",
         null,
         null,
         null,
         null,
         null,
         null,
         null,
         null,
         null,
         null,
         null,
         null,
         null,
         null,
         null,
         null,
         null,
         null,
         null,
         null,
         "3.0",
         "NOT_REIMBURSED",
         "1.0",
         null,
         null,
         null,
         null,
         null,
         "SAN_DIEGO_REGION",
         "4",
         "VISITOR_NON_BUSINESS",
         "15.0",
         "10.0",
         "BUS_992",
         "MTS_ROUTE_992",
         null,
         null,
         null,
         null,
         null,
         null,
         null,
         null,
         null,
         null,
         null,
         null,
         null,
         "1.0",
         "YES",
         null,
         null,
         null,
         null,
         null,
         null,
         null,
         null,
         null,
         null,
         null,
         null,
         null,
         null,
         null,
         null,
         null,
         null,
         null,
         null,
         null,
         null,
         null,
         null,
         null,
         null,
         null,
         null,
         null,
         null,
         null,
         null,
         null,
         null,
         "19.0",
         "FOURTEEN_TO_FOURTEEN_THIRTY",
         "2.0",
         "TERMINAL_2",
         null,
         "9.0",
         "NINE_TO_NINE_THIRTY",
         null,
         null,
         null,
         null,
         null,
         null,
         null,
         null,
         null,
         null,
         null,
         null,
         null,
         null,
         null,
         null,
         null,
         null,
         null,
         null,
         null,
         null,
         null,
         null,
         null,
         null,
         null,
         null,
         null,
         null,
         "2.0",
         "NO",
         null,
         null,
         null,
         null,
         null,
         null,
         null,
         null,
         null,
         null,
         null,
         null,
         null,
         null,
         null,
         null,
         null,
         null,
         null,
         null,
         null,
         null,
         null,
         null,
         null,
         null,
         null,
         "2.0",
         "NO",
         "SurveyLanguage.ENGLISH",
         null,
         null,
         null,
         null,
         null,
         null,
         "False",
         "MTS_1_Blue",
         null,
         null,
         null,
         null,
         null,
         null,
         null,
         "32.7321330218128",
         "-117.197756006971",
         "MTS_1_992_01_60499",
         "32.638845",
         "-117.099065999999",
         "MTS_1_992_01_10833",
         "MTS_1_Blue",
         "10.0",
         "NINE_THIRTY_TO_TEN",
         "8.0",
         "EIGHT_THIRTY_TO_NINE",
         "[]",
         "[]",
         "0",
         "0",
         null,
         null,
         "True",
         "6.487855523297596",
         "3.3555329575498885",
         "3.3464279436065616",
         "8.687559217207063",
         "6.502862374017825"
        ],
        [
         "2",
         "3",
         "5489",
         "True",
         "True",
         "2024-10-04",
         "08:51:36",
         "False",
         "False",
         "0",
         null,
         null,
         null,
         null,
         null,
         null,
         null,
         "5.0",
         "AGE_35_39",
         null,
         null,
         null,
         null,
         null,
         null,
         null,
         null,
         null,
         null,
         null,
         null,
         null,
         null,
         null,
         null,
         null,
         null,
         null,
         null,
         null,
         null,
         null,
         null,
         null,
         null,
         null,
         null,
         null,
         null,
         null,
         null,
         null,
         null,
         null,
         null,
         null,
         null,
         null,
         null,
         null,
         null,
         null,
         null,
         null,
         "7.0",
         "SAN_DIEGO_AIRPORT",
         null,
         "32.7326272999998",
         "-117.204064",
         "SAN DIEGO",
         null,
         "San Diego",
         "2.0",
         "CENTRAL",
         "CA",
         "92101",
         null,
         null,
         null,
         null,
         null,
         "True",
         "98.0",
         "OTHER_SPECIFY",
         null,
         null,
         null,
         null,
         null,
         null,
         null,
         null,
         null,
         null,
         null,
         null,
         null,
         null,
         null,
         null,
         null,
         null,
         "2.0",
         "FEMALE",
         null,
         null,
         null,
         null,
         null,
         null,
         null,
         null,
         null,
         null,
         null,
         null,
         null,
         null,
         null,
         null,
         null,
         null,
         null,
         null,
         null,
         null,
         null,
         null,
         null,
         null,
         null,
         null,
         null,
         null,
         null,
         null,
         "32.743009",
         "-117.131699",
         "SAN DIEGO",
         "San Diego",
         "2.0",
         "CENTRAL",
         "CA",
         "92104",
         "5.0",
         "BETWEEN_30K_35K",
         "1.0",
         "INBOUND_TO_AIRPORT",
         "True",
         "2.0",
         "TERMINAL_2",
         null,
         null,
         null,
         null,
         null,
         null,
         "True",
         null,
         "13.0",
         "8.0",
         "PERSONAL_CAR_PARKED",
         "DROVE_ALONE_AND_PARKED",
         null,
         "98.0",
         "OTHER",
         "2",
         "EMPLOYEE",
         null,
         null,
         null,
         null,
         null,
         "2.0",
         null,
         null,
         "0",
         "5.0",
         "FIVE",
         "5.0",
         "THIRTY_ONE_TO_FORTY",
         null,
         null,
         null,
         null,
         "4.0",
         "FOUR",
         null,
         null,
         null,
         null,
         "2.0",
         "TWO",
         "2.0",
         "TWO",
         "9.0",
         null,
         null,
         "BLDG_MAINTENANCE_CLEANING",
         null,
         "2.0",
         "HOME",
         null,
         "32.743009",
         "-117.131699",
         "SAN DIEGO",
         null,
         "San Diego",
         "2.0",
         "CENTRAL",
         "CA",
         "92104.0",
         null,
         null,
         null,
         null,
         null,
         "134",
         "98.0",
         "OTHER_SPECIFY",
         "3 months",
         "134.0",
         "6.0",
         "EMPLOYEE_LOT_3665_ADMIRAL_BOLAND_WAY",
         null,
         null,
         null,
         null,
         null,
         null,
         null,
         "1",
         null,
         null,
         null,
         null,
         null,
         null,
         null,
         null,
         null,
         "False",
         "False",
         "True",
         "False",
         "False",
         "black",
         "False",
         null,
         "False",
         "False",
         null,
         null,
         null,
         null,
         null,
         null,
         null,
         null,
         null,
         null,
         null,
         null,
         null,
         null,
         null,
         null,
         null,
         null,
         null,
         null,
         "3.0",
         "NOT_REIMBURSED",
         "1.0",
         null,
         null,
         null,
         null,
         null,
         "SAN_DIEGO_REGION",
         "4",
         "VISITOR_NON_BUSINESS",
         "24.0",
         "8.0",
         "PERSONAL_CAR_PARKED",
         "GET_IN_PARKED_VEHICLE_AND_DRIVE_ALONE",
         null,
         null,
         null,
         null,
         null,
         null,
         null,
         null,
         null,
         null,
         null,
         null,
         null,
         "1.0",
         "YES",
         null,
         null,
         null,
         null,
         null,
         null,
         null,
         null,
         null,
         null,
         null,
         null,
         null,
         null,
         null,
         null,
         null,
         null,
         null,
         null,
         null,
         null,
         null,
         null,
         null,
         null,
         null,
         null,
         null,
         null,
         null,
         null,
         null,
         null,
         "18.0",
         "THIRTEEN_THIRTY_TO_FOURTEEN",
         "2.0",
         "TERMINAL_2",
         null,
         "3.0",
         "SIX_TO_SIX_THIRTY",
         null,
         null,
         null,
         null,
         null,
         null,
         null,
         null,
         null,
         null,
         null,
         null,
         null,
         null,
         null,
         null,
         null,
         null,
         null,
         null,
         null,
         null,
         null,
         null,
         null,
         null,
         null,
         null,
         null,
         null,
         "1.0",
         "YES",
         null,
         null,
         null,
         null,
         null,
         null,
         null,
         null,
         null,
         null,
         null,
         null,
         null,
         null,
         null,
         null,
         null,
         null,
         null,
         null,
         null,
         null,
         null,
         null,
         null,
         null,
         null,
         null,
         null,
         "SurveyLanguage.SPANISH",
         null,
         null,
         null,
         null,
         null,
         null,
         "False",
         null,
         null,
         null,
         null,
         null,
         null,
         null,
         null,
         null,
         null,
         null,
         null,
         null,
         null,
         null,
         "3.0",
         "SIX_TO_SIX_THIRTY",
         "3.0",
         "SIX_TO_SIX_THIRTY",
         "[]",
         "[]",
         "0",
         "0",
         null,
         null,
         "True",
         "10.840259127952416",
         "11.525573967394402",
         "11.622594002192288",
         "19.17942750774013",
         "10.874503947796976"
        ],
        [
         "3",
         "4",
         "5558",
         "True",
         "True",
         "2024-10-04",
         "10:32:58",
         "False",
         "False",
         "0",
         "1.0",
         null,
         null,
         "1.0",
         "WALK",
         "WALK",
         null,
         "2.0",
         "AGE_20_24",
         null,
         null,
         null,
         null,
         null,
         null,
         null,
         null,
         null,
         null,
         null,
         null,
         null,
         null,
         null,
         null,
         null,
         null,
         null,
         null,
         null,
         null,
         null,
         null,
         null,
         null,
         null,
         null,
         null,
         null,
         null,
         null,
         null,
         null,
         null,
         null,
         null,
         null,
         null,
         null,
         null,
         null,
         null,
         null,
         null,
         "7.0",
         "SAN_DIEGO_AIRPORT",
         null,
         "32.7326272999998",
         "-117.204064",
         "SAN DIEGO",
         null,
         "San Diego",
         "2.0",
         "CENTRAL",
         "CA",
         "92101",
         null,
         null,
         null,
         null,
         null,
         "False",
         "29.0",
         "HUDSON_NEWS",
         null,
         null,
         null,
         null,
         null,
         null,
         null,
         null,
         null,
         null,
         null,
         null,
         null,
         null,
         null,
         null,
         null,
         null,
         "2.0",
         "FEMALE",
         null,
         null,
         null,
         null,
         null,
         null,
         null,
         null,
         null,
         null,
         null,
         null,
         null,
         null,
         null,
         null,
         null,
         null,
         null,
         null,
         null,
         null,
         null,
         null,
         null,
         null,
         null,
         null,
         null,
         null,
         null,
         null,
         "32.706752",
         "-117.14881",
         "SAN DIEGO",
         "San Diego",
         "2.0",
         "CENTRAL",
         "CA",
         "92101",
         "14.0",
         "PREFER_NOT_TO_SAY",
         "1.0",
         "INBOUND_TO_AIRPORT",
         "True",
         "2.0",
         "TERMINAL_2",
         null,
         null,
         null,
         "2.0",
         "NO",
         null,
         "True",
         null,
         "15.0",
         "10.0",
         "BUS_992",
         "MTS_ROUTE_992",
         null,
         "15.0",
         "MTS_ROUTE_992",
         "2",
         "EMPLOYEE",
         null,
         null,
         null,
         null,
         null,
         "2.0",
         null,
         null,
         "0",
         "5.0",
         "FIVE",
         "5.0",
         "THIRTY_ONE_TO_FORTY",
         null,
         null,
         null,
         null,
         "1.0",
         "ONE",
         null,
         null,
         "0.0",
         "NONE",
         "1.0",
         "ONE",
         "1.0",
         "ONE",
         "20.0",
         null,
         null,
         "OTHER_ADMIN_SUPPORT",
         null,
         "2.0",
         "HOME",
         null,
         "32.706752",
         "-117.14881",
         "SAN DIEGO",
         null,
         "San Diego",
         "1.0",
         "DOWNTOWN",
         "CA",
         "92101.0",
         null,
         null,
         null,
         null,
         null,
         null,
         null,
         null,
         null,
         null,
         null,
         null,
         null,
         null,
         null,
         null,
         null,
         null,
         null,
         "1",
         null,
         null,
         null,
         null,
         null,
         null,
         null,
         null,
         null,
         "False",
         "True",
         "False",
         "False",
         "False",
         "asian",
         "False",
         null,
         "False",
         "False",
         null,
         null,
         null,
         null,
         null,
         null,
         null,
         null,
         null,
         null,
         null,
         null,
         null,
         null,
         null,
         null,
         null,
         null,
         null,
         null,
         "3.0",
         "NOT_REIMBURSED",
         "1.0",
         null,
         null,
         null,
         null,
         null,
         "SAN_DIEGO_REGION",
         "4",
         "VISITOR_NON_BUSINESS",
         "15.0",
         "10.0",
         "BUS_992",
         "MTS_ROUTE_992",
         null,
         null,
         null,
         null,
         null,
         null,
         null,
         null,
         null,
         null,
         null,
         null,
         null,
         "1.0",
         "YES",
         null,
         null,
         null,
         null,
         null,
         null,
         null,
         null,
         null,
         null,
         null,
         null,
         null,
         null,
         null,
         null,
         null,
         null,
         null,
         null,
         null,
         null,
         null,
         null,
         null,
         null,
         null,
         null,
         null,
         null,
         null,
         null,
         null,
         null,
         "28.0",
         "EIGHTEEN_THIRTY_TO_NINETEEN",
         "2.0",
         "TERMINAL_2",
         null,
         "12.0",
         "TEN_THIRTY_TO_ELEVEN",
         null,
         null,
         null,
         null,
         null,
         null,
         null,
         null,
         null,
         null,
         null,
         null,
         null,
         null,
         null,
         null,
         null,
         null,
         null,
         null,
         null,
         null,
         null,
         null,
         null,
         null,
         null,
         null,
         null,
         null,
         "2.0",
         "NO",
         null,
         null,
         null,
         null,
         null,
         null,
         null,
         null,
         null,
         null,
         null,
         null,
         null,
         null,
         null,
         null,
         null,
         null,
         null,
         null,
         null,
         null,
         null,
         null,
         null,
         null,
         null,
         "2.0",
         "NO",
         "SurveyLanguage.ENGLISH",
         null,
         null,
         null,
         null,
         null,
         null,
         "False",
         null,
         null,
         null,
         null,
         null,
         null,
         null,
         null,
         "32.7314191559718",
         "-117.203009775925",
         "MTS_1_992_01_60500",
         "32.7158324767128",
         "-117.154062897256",
         "MTS_1_992_01_99342",
         null,
         "14.0",
         "ELEVEN_THIRTY_TO_NOON",
         "13.0",
         "ELEVEN_TO_ELEVEN_THIRTY",
         "[]",
         "[]",
         "0",
         "0",
         null,
         null,
         "True",
         "6.487855523297596",
         "3.3555329575498885",
         "3.3464279436065616",
         "8.687559217207063",
         "6.502862374017825"
        ],
        [
         "4",
         "5",
         "5593",
         "True",
         "True",
         "2024-10-04",
         "11:09:46",
         "False",
         "False",
         "0",
         "1.0",
         null,
         null,
         "1.0",
         "WALK",
         "WALK",
         null,
         "8.0",
         "AGE_50_54",
         null,
         null,
         null,
         null,
         null,
         null,
         null,
         null,
         null,
         null,
         null,
         null,
         null,
         null,
         null,
         null,
         null,
         null,
         null,
         null,
         null,
         null,
         null,
         null,
         null,
         null,
         null,
         null,
         null,
         null,
         null,
         null,
         null,
         null,
         null,
         null,
         null,
         null,
         null,
         null,
         null,
         null,
         null,
         null,
         null,
         "7.0",
         "SAN_DIEGO_AIRPORT",
         null,
         "32.7326272999998",
         "-117.204064",
         "SAN DIEGO",
         null,
         "San Diego",
         "2.0",
         "CENTRAL",
         "CA",
         "92101",
         null,
         null,
         null,
         null,
         null,
         "False",
         "98.0",
         "OTHER_SPECIFY",
         null,
         null,
         null,
         null,
         null,
         null,
         null,
         null,
         null,
         null,
         null,
         null,
         null,
         null,
         null,
         null,
         null,
         null,
         "2.0",
         "FEMALE",
         null,
         null,
         null,
         null,
         null,
         null,
         null,
         null,
         null,
         null,
         null,
         null,
         null,
         null,
         null,
         null,
         null,
         null,
         null,
         null,
         null,
         null,
         null,
         null,
         null,
         null,
         null,
         null,
         null,
         null,
         null,
         null,
         "32.678108",
         "-117.099196",
         "SAN DIEGO",
         "National City",
         "2.0",
         "CENTRAL",
         "CA",
         "91950",
         "14.0",
         "PREFER_NOT_TO_SAY",
         "1.0",
         "INBOUND_TO_AIRPORT",
         "True",
         "2.0",
         "TERMINAL_2",
         null,
         null,
         null,
         "2.0",
         "NO",
         null,
         "True",
         null,
         "15.0",
         "10.0",
         "BUS_992",
         "MTS_ROUTE_992",
         null,
         "15.0",
         "MTS_ROUTE_992",
         "2",
         "EMPLOYEE",
         null,
         null,
         null,
         null,
         null,
         "2.0",
         null,
         null,
         "0",
         "5.0",
         "FIVE",
         "5.0",
         "THIRTY_ONE_TO_FORTY",
         null,
         null,
         null,
         null,
         "2.0",
         "TWO",
         null,
         null,
         "1.0",
         "ONE",
         "0.0",
         "NONE",
         "2.0",
         "TWO",
         "16.0",
         null,
         null,
         "RETAIL_RESTAURANT",
         null,
         "2.0",
         "HOME",
         null,
         "32.678108",
         "-117.099196",
         "NATIONAL CITY",
         null,
         "National City",
         "2.0",
         "CENTRAL",
         "CA",
         "91950.0",
         null,
         null,
         null,
         null,
         null,
         null,
         null,
         null,
         null,
         null,
         null,
         null,
         null,
         null,
         null,
         null,
         null,
         null,
         null,
         "1",
         null,
         null,
         null,
         null,
         null,
         null,
         null,
         null,
         null,
         "False",
         "True",
         "False",
         "False",
         "False",
         "asian",
         "False",
         null,
         "False",
         "False",
         null,
         null,
         null,
         null,
         null,
         null,
         null,
         null,
         null,
         null,
         null,
         null,
         null,
         null,
         null,
         null,
         null,
         null,
         null,
         null,
         "1.0",
         "REIMBURSED_EMPLOYER_CLIENT",
         "1.0",
         null,
         null,
         null,
         null,
         null,
         "SAN_DIEGO_REGION",
         "4",
         "VISITOR_NON_BUSINESS",
         "15.0",
         "10.0",
         "BUS_992",
         "MTS_ROUTE_992",
         null,
         null,
         null,
         null,
         null,
         null,
         null,
         null,
         null,
         null,
         null,
         null,
         null,
         "1.0",
         "YES",
         null,
         null,
         null,
         null,
         null,
         null,
         null,
         null,
         null,
         null,
         null,
         null,
         null,
         null,
         null,
         null,
         null,
         null,
         null,
         null,
         null,
         null,
         null,
         null,
         null,
         null,
         null,
         null,
         null,
         null,
         null,
         null,
         null,
         null,
         "33.0",
         "TWENTY_ONE_TO_TWENTY_ONE_THIRTY",
         "2.0",
         "TERMINAL_2",
         null,
         "15.0",
         "NOON_TO_TWELVE_THIRTY",
         null,
         null,
         null,
         null,
         null,
         null,
         null,
         null,
         null,
         null,
         null,
         null,
         null,
         null,
         null,
         null,
         null,
         null,
         null,
         null,
         null,
         null,
         null,
         null,
         null,
         null,
         null,
         null,
         null,
         null,
         "2.0",
         "NO",
         null,
         null,
         null,
         null,
         null,
         null,
         null,
         null,
         null,
         null,
         null,
         null,
         null,
         null,
         null,
         null,
         null,
         null,
         null,
         null,
         null,
         null,
         null,
         null,
         null,
         null,
         null,
         "2.0",
         "NO",
         "SurveyLanguage.ENGLISH",
         null,
         null,
         null,
         null,
         null,
         null,
         "False",
         "MTS_1_Blue",
         null,
         null,
         null,
         null,
         null,
         null,
         null,
         "32.7314191559718",
         "-117.203009775925",
         "MTS_1_992_01_60500",
         "32.6746401649301",
         "-117.113186402221",
         "MTS_1_992_01_99342",
         "MTS_1_Blue",
         "15.0",
         "NOON_TO_TWELVE_THIRTY",
         "15.0",
         "NOON_TO_TWELVE_THIRTY",
         "[]",
         "[]",
         "0",
         "0",
         null,
         null,
         "True",
         "6.487855523297596",
         "3.3555329575498885",
         "3.3464279436065616",
         "8.687559217207063",
         "6.502862374017825"
        ]
       ],
       "shape": {
        "columns": 441,
        "rows": 5
       }
      },
      "text/html": [
       "<div>\n",
       "<style scoped>\n",
       "    .dataframe tbody tr th:only-of-type {\n",
       "        vertical-align: middle;\n",
       "    }\n",
       "\n",
       "    .dataframe tbody tr th {\n",
       "        vertical-align: top;\n",
       "    }\n",
       "\n",
       "    .dataframe thead th {\n",
       "        text-align: right;\n",
       "    }\n",
       "</style>\n",
       "<table border=\"1\" class=\"dataframe\">\n",
       "  <thead>\n",
       "    <tr style=\"text-align: right;\">\n",
       "      <th></th>\n",
       "      <th>unique_id</th>\n",
       "      <th>respondentid</th>\n",
       "      <th>is_completed</th>\n",
       "      <th>is_valid_record</th>\n",
       "      <th>date_completed</th>\n",
       "      <th>time_completed</th>\n",
       "      <th>is_pilot</th>\n",
       "      <th>is_self_administered</th>\n",
       "      <th>record_type_synthetic</th>\n",
       "      <th>access_mode</th>\n",
       "      <th>...</th>\n",
       "      <th>validation_num_errors_person</th>\n",
       "      <th>validation_num_errors_trip</th>\n",
       "      <th>validation_severity_person</th>\n",
       "      <th>validation_severity_trip</th>\n",
       "      <th>model_respondent_bool</th>\n",
       "      <th>weight_departing_and_arriving</th>\n",
       "      <th>weight_departing_only</th>\n",
       "      <th>weight_departing_only_model_respondents</th>\n",
       "      <th>weight_non_sas_departing_only</th>\n",
       "      <th>weight_departing_only_with_time_of_day</th>\n",
       "    </tr>\n",
       "  </thead>\n",
       "  <tbody>\n",
       "    <tr>\n",
       "      <th>0</th>\n",
       "      <td>1</td>\n",
       "      <td>5473</td>\n",
       "      <td>True</td>\n",
       "      <td>True</td>\n",
       "      <td>2024-10-04</td>\n",
       "      <td>08:41:12</td>\n",
       "      <td>False</td>\n",
       "      <td>False</td>\n",
       "      <td>0</td>\n",
       "      <td>NaN</td>\n",
       "      <td>...</td>\n",
       "      <td>0</td>\n",
       "      <td>0</td>\n",
       "      <td>NaN</td>\n",
       "      <td>NaN</td>\n",
       "      <td>True</td>\n",
       "      <td>10.840259</td>\n",
       "      <td>11.525574</td>\n",
       "      <td>11.622594</td>\n",
       "      <td>19.179428</td>\n",
       "      <td>10.874504</td>\n",
       "    </tr>\n",
       "    <tr>\n",
       "      <th>1</th>\n",
       "      <td>2</td>\n",
       "      <td>5476</td>\n",
       "      <td>True</td>\n",
       "      <td>True</td>\n",
       "      <td>2024-10-04</td>\n",
       "      <td>08:40:04</td>\n",
       "      <td>False</td>\n",
       "      <td>False</td>\n",
       "      <td>0</td>\n",
       "      <td>1.0</td>\n",
       "      <td>...</td>\n",
       "      <td>0</td>\n",
       "      <td>0</td>\n",
       "      <td>NaN</td>\n",
       "      <td>NaN</td>\n",
       "      <td>True</td>\n",
       "      <td>6.487856</td>\n",
       "      <td>3.355533</td>\n",
       "      <td>3.346428</td>\n",
       "      <td>8.687559</td>\n",
       "      <td>6.502862</td>\n",
       "    </tr>\n",
       "    <tr>\n",
       "      <th>2</th>\n",
       "      <td>3</td>\n",
       "      <td>5489</td>\n",
       "      <td>True</td>\n",
       "      <td>True</td>\n",
       "      <td>2024-10-04</td>\n",
       "      <td>08:51:36</td>\n",
       "      <td>False</td>\n",
       "      <td>False</td>\n",
       "      <td>0</td>\n",
       "      <td>NaN</td>\n",
       "      <td>...</td>\n",
       "      <td>0</td>\n",
       "      <td>0</td>\n",
       "      <td>NaN</td>\n",
       "      <td>NaN</td>\n",
       "      <td>True</td>\n",
       "      <td>10.840259</td>\n",
       "      <td>11.525574</td>\n",
       "      <td>11.622594</td>\n",
       "      <td>19.179428</td>\n",
       "      <td>10.874504</td>\n",
       "    </tr>\n",
       "    <tr>\n",
       "      <th>3</th>\n",
       "      <td>4</td>\n",
       "      <td>5558</td>\n",
       "      <td>True</td>\n",
       "      <td>True</td>\n",
       "      <td>2024-10-04</td>\n",
       "      <td>10:32:58</td>\n",
       "      <td>False</td>\n",
       "      <td>False</td>\n",
       "      <td>0</td>\n",
       "      <td>1.0</td>\n",
       "      <td>...</td>\n",
       "      <td>0</td>\n",
       "      <td>0</td>\n",
       "      <td>NaN</td>\n",
       "      <td>NaN</td>\n",
       "      <td>True</td>\n",
       "      <td>6.487856</td>\n",
       "      <td>3.355533</td>\n",
       "      <td>3.346428</td>\n",
       "      <td>8.687559</td>\n",
       "      <td>6.502862</td>\n",
       "    </tr>\n",
       "    <tr>\n",
       "      <th>4</th>\n",
       "      <td>5</td>\n",
       "      <td>5593</td>\n",
       "      <td>True</td>\n",
       "      <td>True</td>\n",
       "      <td>2024-10-04</td>\n",
       "      <td>11:09:46</td>\n",
       "      <td>False</td>\n",
       "      <td>False</td>\n",
       "      <td>0</td>\n",
       "      <td>1.0</td>\n",
       "      <td>...</td>\n",
       "      <td>0</td>\n",
       "      <td>0</td>\n",
       "      <td>NaN</td>\n",
       "      <td>NaN</td>\n",
       "      <td>True</td>\n",
       "      <td>6.487856</td>\n",
       "      <td>3.355533</td>\n",
       "      <td>3.346428</td>\n",
       "      <td>8.687559</td>\n",
       "      <td>6.502862</td>\n",
       "    </tr>\n",
       "  </tbody>\n",
       "</table>\n",
       "<p>5 rows × 441 columns</p>\n",
       "</div>"
      ],
      "text/plain": [
       "   unique_id respondentid  is_completed  is_valid_record date_completed  \\\n",
       "0          1         5473          True             True     2024-10-04   \n",
       "1          2         5476          True             True     2024-10-04   \n",
       "2          3         5489          True             True     2024-10-04   \n",
       "3          4         5558          True             True     2024-10-04   \n",
       "4          5         5593          True             True     2024-10-04   \n",
       "\n",
       "  time_completed  is_pilot  is_self_administered  record_type_synthetic  \\\n",
       "0       08:41:12     False                 False                      0   \n",
       "1       08:40:04     False                 False                      0   \n",
       "2       08:51:36     False                 False                      0   \n",
       "3       10:32:58     False                 False                      0   \n",
       "4       11:09:46     False                 False                      0   \n",
       "\n",
       "   access_mode  ...  validation_num_errors_person validation_num_errors_trip  \\\n",
       "0          NaN  ...                             0                          0   \n",
       "1          1.0  ...                             0                          0   \n",
       "2          NaN  ...                             0                          0   \n",
       "3          1.0  ...                             0                          0   \n",
       "4          1.0  ...                             0                          0   \n",
       "\n",
       "   validation_severity_person validation_severity_trip model_respondent_bool  \\\n",
       "0                         NaN                      NaN                  True   \n",
       "1                         NaN                      NaN                  True   \n",
       "2                         NaN                      NaN                  True   \n",
       "3                         NaN                      NaN                  True   \n",
       "4                         NaN                      NaN                  True   \n",
       "\n",
       "  weight_departing_and_arriving  weight_departing_only  \\\n",
       "0                     10.840259              11.525574   \n",
       "1                      6.487856               3.355533   \n",
       "2                     10.840259              11.525574   \n",
       "3                      6.487856               3.355533   \n",
       "4                      6.487856               3.355533   \n",
       "\n",
       "  weight_departing_only_model_respondents  weight_non_sas_departing_only  \\\n",
       "0                               11.622594                      19.179428   \n",
       "1                                3.346428                       8.687559   \n",
       "2                               11.622594                      19.179428   \n",
       "3                                3.346428                       8.687559   \n",
       "4                                3.346428                       8.687559   \n",
       "\n",
       "  weight_departing_only_with_time_of_day  \n",
       "0                              10.874504  \n",
       "1                               6.502862  \n",
       "2                              10.874504  \n",
       "3                               6.502862  \n",
       "4                               6.502862  \n",
       "\n",
       "[5 rows x 441 columns]"
      ]
     },
     "execution_count": 3,
     "metadata": {},
     "output_type": "execute_result"
    }
   ],
   "source": [
    "df.head()"
   ]
  },
  {
   "cell_type": "code",
   "execution_count": 4,
   "metadata": {},
   "outputs": [],
   "source": [
    "# Filter DataFrames\n",
    "df_pilot = df[df['is_pilot'] == True]\n",
    "df_original = df[df['is_pilot'] == False]"
   ]
  },
  {
   "cell_type": "code",
   "execution_count": 5,
   "metadata": {},
   "outputs": [],
   "source": [
    "def plot_histograms(col):# Create subplots\n",
    "    fig, axes = plt.subplots(1, 2, figsize=(12, 9), sharey=True)\n",
    "\n",
    "    # Plot for 'is_pilot' = True\n",
    "    df_pilot[col].value_counts(normalize = True).plot(kind='bar', ax=axes[0], color='blue', alpha=0.7)\n",
    "    axes[0].set_title(\"PILOT\", fontsize=14)\n",
    "    axes[0].set_xlabel(col, fontsize=12)\n",
    "    axes[0].set_ylabel('Frequency', fontsize=12)\n",
    "\n",
    "    # Plot for 'is_pilot' = False\n",
    "    df_original[col].value_counts(normalize = True).plot(kind='bar', ax=axes[1], color='orange', alpha=0.7)\n",
    "    axes[1].set_title(\"ORIGINAL\", fontsize=14)\n",
    "    axes[1].set_xlabel(col, fontsize=12)\n",
    "\n",
    "    # Show plots\n",
    "    plt.tight_layout()\n",
    "    plt.show()"
   ]
  },
  {
   "cell_type": "code",
   "execution_count": 6,
   "metadata": {},
   "outputs": [
    {
     "data": {
      "image/png": "[encoded data removed]",
      "text/plain": [
       "<Figure size 1200x900 with 2 Axes>"
      ]
     },
     "metadata": {},
     "output_type": "display_data"
    }
   ],
   "source": [
    "plot_histograms('airport_terminal')"
   ]
  },
  {
   "cell_type": "code",
   "execution_count": 7,
   "metadata": {},
   "outputs": [
    {
     "data": {
      "image/png": "[encoded data removed]",
      "text/plain": [
       "<Figure size 1200x900 with 2 Axes>"
      ]
     },
     "metadata": {},
     "output_type": "display_data"
    }
   ],
   "source": [
    "plot_histograms('main_mode_label')"
   ]
  },
  {
   "cell_type": "code",
   "execution_count": 8,
   "metadata": {},
   "outputs": [
    {
     "data": {
      "image/png": "[encoded data removed]",
      "text/plain": [
       "<Figure size 1200x900 with 2 Axes>"
      ]
     },
     "metadata": {},
     "output_type": "display_data"
    }
   ],
   "source": [
    "plot_histograms('resident_visitor_label')"
   ]
  },
  {
   "cell_type": "code",
   "execution_count": 9,
   "metadata": {},
   "outputs": [
    {
     "data": {
      "image/png": "[encoded data removed]",
      "text/plain": [
       "<Figure size 1200x900 with 2 Axes>"
      ]
     },
     "metadata": {},
     "output_type": "display_data"
    }
   ],
   "source": [
    "plot_histograms('access_mode_label')"
   ]
  },
  {
   "cell_type": "code",
   "execution_count": 10,
   "metadata": {},
   "outputs": [
    {
     "data": {
      "image/png": "[encoded data removed]",
      "text/plain": [
       "<Figure size 1200x900 with 2 Axes>"
      ]
     },
     "metadata": {},
     "output_type": "display_data"
    }
   ],
   "source": [
    "plot_histograms('reverse_mode_label')"
   ]
  },
  {
   "cell_type": "code",
   "execution_count": 11,
   "metadata": {},
   "outputs": [
    {
     "data": {
      "image/png": "[encoded data removed]",
      "text/plain": [
       "<Figure size 1200x900 with 2 Axes>"
      ]
     },
     "metadata": {},
     "output_type": "display_data"
    }
   ],
   "source": [
    "plot_histograms('nights_away_label')"
   ]
  },
  {
   "cell_type": "code",
   "execution_count": 12,
   "metadata": {},
   "outputs": [
    {
     "data": {
      "image/png": "[encoded data removed]",
      "text/plain": [
       "<Figure size 1200x900 with 2 Axes>"
      ]
     },
     "metadata": {},
     "output_type": "display_data"
    }
   ],
   "source": [
    "plot_histograms('nights_visited_label')"
   ]
  },
  {
   "cell_type": "code",
   "execution_count": 13,
   "metadata": {},
   "outputs": [
    {
     "data": {
      "image/png": "[encoded data removed]",
      "text/plain": [
       "<Figure size 1200x900 with 2 Axes>"
      ]
     },
     "metadata": {},
     "output_type": "display_data"
    }
   ],
   "source": [
    "plot_histograms('passenger_type_label')"
   ]
  },
  {
   "cell_type": "code",
   "execution_count": 14,
   "metadata": {},
   "outputs": [
    {
     "data": {
      "text/plain": [
       "Index(['unique_id', 'respondentid', 'is_completed', 'is_valid_record',\n",
       "       'date_completed', 'time_completed', 'is_pilot', 'is_self_administered',\n",
       "       'record_type_synthetic', 'access_mode',\n",
       "       ...\n",
       "       'validation_num_errors_person', 'validation_num_errors_trip',\n",
       "       'validation_severity_person', 'validation_severity_trip',\n",
       "       'model_respondent_bool', 'weight_departing_and_arriving',\n",
       "       'weight_departing_only', 'weight_departing_only_model_respondents',\n",
       "       'weight_non_sas_departing_only',\n",
       "       'weight_departing_only_with_time_of_day'],\n",
       "      dtype='object', length=441)"
      ]
     },
     "execution_count": 14,
     "metadata": {},
     "output_type": "execute_result"
    }
   ],
   "source": [
    "df.columns"
   ]
  },
  {
   "cell_type": "code",
   "execution_count": 15,
   "metadata": {},
   "outputs": [
    {
     "data": {
      "image/png": "[encoded data removed]",
      "text/plain": [
       "<Figure size 1200x900 with 2 Axes>"
      ]
     },
     "metadata": {},
     "output_type": "display_data"
    }
   ],
   "source": [
    "plot_histograms('interview_location_label')"
   ]
  },
  {
   "cell_type": "code",
   "execution_count": null,
   "metadata": {},
   "outputs": [],
   "source": []
  }
 ],
 "metadata": {
  "kernelspec": {
   "display_name": ".venv",
   "language": "python",
   "name": "python3"
  },
  "language_info": {
   "codemirror_mode": {
    "name": "ipython",
    "version": 3
   },
   "file_extension": ".py",
   "mimetype": "text/x-python",
   "name": "python",
   "nbconvert_exporter": "python",
   "pygments_lexer": "ipython3",
   "version": "3.12.10"
  }
 },
 "nbformat": 4,
 "nbformat_minor": 2
}
