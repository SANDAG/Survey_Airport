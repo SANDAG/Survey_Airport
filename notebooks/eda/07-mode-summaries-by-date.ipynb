{
 "cells": [
  {
   "cell_type": "code",
   "execution_count": 82,
   "metadata": {},
   "outputs": [],
   "source": [
    "import pandas as pd\n",
    "import numpy as np\n",
    "import os"
   ]
  },
  {
   "cell_type": "code",
   "execution_count": 83,
   "metadata": {},
   "outputs": [],
   "source": [
    "external_dir = \"../../data/external\"\n",
    "interim_dir = \"../../data/interim\"\n",
    "processed_dir = \"../../data/processed\"\n",
    "report_dir = \"../../reports\"\n",
    "\n",
    "\n",
    "input_file_1 = os.path.join(external_dir, \"etc/od_20241002_sandag_airport_pilot.xlsx\")\n",
    "input_file_2 = os.path.join(external_dir, \"etc/od_20241004_sandag_airport_pilot_2.xlsx\")\n",
    "input_file_3 = os.path.join(external_dir, \"etc/od_20241010_sandag_airport_pilot_3.xlsx\")\n",
    "input_file = os.path.join(external_dir, \"etc/od_20241015_sandag_airport_pilot_4.xlsx\") #pilot survey 4, latest\n",
    "variable_map_file = os.path.join(processed_dir, \"revised_names.csv\")\n",
    "\n",
    "output_file = f\"{processed_dir}/Mode_summaries.csv\"\n",
    "report_file = f\"{report_dir}/Mode_summaries_by_date.csv\""
   ]
  },
  {
   "cell_type": "code",
   "execution_count": 84,
   "metadata": {},
   "outputs": [],
   "source": [
    "#in_df_1 = pd.read_excel(input_file_1)\n",
    "#in_df_2 = pd.read_excel(input_file_2)\n",
    "#in_df_3 = pd.read_excel(input_file_3)\n",
    "#\n",
    "#in_df = pd.concat([in_df_1, in_df_2, in_df_3], ignore_index = True)\n",
    "\n",
    "in_df = pd.read_excel(input_file)\n",
    "\n",
    "header_df = pd.read_csv(variable_map_file)[['ETC_name','WSP_name']]\n",
    "header_dict = pd.Series(header_df.WSP_name.values,index=header_df.ETC_name).to_dict()\n",
    "clean_df = in_df.rename(columns=header_dict).copy().drop(columns=[\"delete\"])"
   ]
  },
  {
   "cell_type": "code",
   "execution_count": 85,
   "metadata": {},
   "outputs": [
    {
     "data": {
      "text/plain": [
       "(3597, 314)"
      ]
     },
     "execution_count": 85,
     "metadata": {},
     "output_type": "execute_result"
    }
   ],
   "source": [
    "clean_df.shape"
   ]
  },
  {
   "cell_type": "code",
   "execution_count": 86,
   "metadata": {},
   "outputs": [
    {
     "data": {
      "application/vnd.microsoft.datawrangler.viewer.v0+json": {
       "columns": [
        {
         "name": "index",
         "rawType": "int64",
         "type": "integer"
        },
        {
         "name": "respondentid",
         "rawType": "int64",
         "type": "integer"
        },
        {
         "name": "date_completed",
         "rawType": "object",
         "type": "string"
        },
        {
         "name": "interview_location",
         "rawType": "object",
         "type": "string"
        },
        {
         "name": "interview_location_label",
         "rawType": "object",
         "type": "string"
        },
        {
         "name": "interview_location_other",
         "rawType": "object",
         "type": "unknown"
        },
        {
         "name": "inbound_or_outbound",
         "rawType": "object",
         "type": "string"
        },
        {
         "name": "inbound_or_outbound_label",
         "rawType": "object",
         "type": "string"
        },
        {
         "name": "marketsegment",
         "rawType": "int64",
         "type": "integer"
        },
        {
         "name": "marketsegment_label",
         "rawType": "object",
         "type": "string"
        },
        {
         "name": "is_qualified_age",
         "rawType": "object",
         "type": "string"
        },
        {
         "name": "passenger_type",
         "rawType": "float64",
         "type": "float"
        },
        {
         "name": "passenger_type_label",
         "rawType": "object",
         "type": "string"
        },
        {
         "name": "resident_visitor_general",
         "rawType": "float64",
         "type": "float"
        },
        {
         "name": "resident_visitor_general_label",
         "rawType": "object",
         "type": "string"
        },
        {
         "name": "resident_visitor_followup",
         "rawType": "float64",
         "type": "float"
        },
        {
         "name": "resident_visitor_followup_label",
         "rawType": "object",
         "type": "unknown"
        },
        {
         "name": "resident_visitor",
         "rawType": "int64",
         "type": "integer"
        },
        {
         "name": "resident_visitor_label",
         "rawType": "object",
         "type": "string"
        },
        {
         "name": "country_of_residence",
         "rawType": "float64",
         "type": "float"
        },
        {
         "name": "country_of_residence_label",
         "rawType": "object",
         "type": "unknown"
        },
        {
         "name": "state_of_residence",
         "rawType": "float64",
         "type": "float"
        },
        {
         "name": "state_of_residence_label",
         "rawType": "object",
         "type": "unknown"
        },
        {
         "name": "previous_or_next_airport",
         "rawType": "object",
         "type": "string"
        },
        {
         "name": "airline",
         "rawType": "float64",
         "type": "float"
        },
        {
         "name": "airline_label",
         "rawType": "object",
         "type": "string"
        },
        {
         "name": "airline_other",
         "rawType": "float64",
         "type": "float"
        },
        {
         "name": "flight_number",
         "rawType": "object",
         "type": "unknown"
        },
        {
         "name": "is_direct_flight",
         "rawType": "object",
         "type": "string"
        },
        {
         "name": "final_flight_destination",
         "rawType": "object",
         "type": "unknown"
        },
        {
         "name": "flight_departure_time",
         "rawType": "float64",
         "type": "float"
        },
        {
         "name": "flight_departure_time_label",
         "rawType": "object",
         "type": "unknown"
        },
        {
         "name": "flight_arrival_time",
         "rawType": "float64",
         "type": "float"
        },
        {
         "name": "flight_arrival_time_label",
         "rawType": "object",
         "type": "unknown"
        },
        {
         "name": "original_flight_origin",
         "rawType": "object",
         "type": "unknown"
        },
        {
         "name": "flight_purpose",
         "rawType": "object",
         "type": "unknown"
        },
        {
         "name": "flight_purpose_label",
         "rawType": "object",
         "type": "string"
        },
        {
         "name": "flight_purpose_other",
         "rawType": "object",
         "type": "unknown"
        },
        {
         "name": "convention_center",
         "rawType": "float64",
         "type": "float"
        },
        {
         "name": "convention_center_label",
         "rawType": "object",
         "type": "unknown"
        },
        {
         "name": "convention_center_activity",
         "rawType": "float64",
         "type": "float"
        },
        {
         "name": "convention_center_activity_label",
         "rawType": "object",
         "type": "unknown"
        },
        {
         "name": "convention_center_activity_other",
         "rawType": "object",
         "type": "unknown"
        },
        {
         "name": "checked_bags",
         "rawType": "float64",
         "type": "float"
        },
        {
         "name": "checked_bags_label",
         "rawType": "object",
         "type": "unknown"
        },
        {
         "name": "carryon_bags",
         "rawType": "float64",
         "type": "float"
        },
        {
         "name": "carryon_bags_label",
         "rawType": "object",
         "type": "unknown"
        },
        {
         "name": "nights_away",
         "rawType": "float64",
         "type": "float"
        },
        {
         "name": "nights_away_label",
         "rawType": "object",
         "type": "unknown"
        },
        {
         "name": "nights_visited",
         "rawType": "float64",
         "type": "float"
        },
        {
         "name": "nights_visited_label",
         "rawType": "object",
         "type": "unknown"
        },
        {
         "name": "number_of_travel_companions",
         "rawType": "float64",
         "type": "float"
        },
        {
         "name": "number_of_travel_companions_label",
         "rawType": "object",
         "type": "string"
        },
        {
         "name": "party_size_ground_access_same",
         "rawType": "object",
         "type": "unknown"
        },
        {
         "name": "party_size_ground_access",
         "rawType": "float64",
         "type": "float"
        },
        {
         "name": "party_size_ground_access_label",
         "rawType": "object",
         "type": "unknown"
        },
        {
         "name": "party_includes_child_aged00to05",
         "rawType": "object",
         "type": "unknown"
        },
        {
         "name": "party_includes_child_aged06to17",
         "rawType": "object",
         "type": "unknown"
        },
        {
         "name": "party_includes_coworker",
         "rawType": "object",
         "type": "unknown"
        },
        {
         "name": "party_includes_friend_relative",
         "rawType": "object",
         "type": "unknown"
        },
        {
         "name": "party_includes_mobility_impaired",
         "rawType": "object",
         "type": "unknown"
        },
        {
         "name": "shift_start_airport_building",
         "rawType": "object",
         "type": "unknown"
        },
        {
         "name": "shift_start_airport_building_label",
         "rawType": "object",
         "type": "unknown"
        },
        {
         "name": "shift_start_airport_building_other",
         "rawType": "object",
         "type": "unknown"
        },
        {
         "name": "employer",
         "rawType": "object",
         "type": "unknown"
        },
        {
         "name": "employer_label",
         "rawType": "object",
         "type": "unknown"
        },
        {
         "name": "employer_other",
         "rawType": "float64",
         "type": "float"
        },
        {
         "name": "occupation",
         "rawType": "object",
         "type": "unknown"
        },
        {
         "name": "occupation_label",
         "rawType": "object",
         "type": "unknown"
        },
        {
         "name": "occupation_other",
         "rawType": "float64",
         "type": "float"
        },
        {
         "name": "number_hours_worked",
         "rawType": "float64",
         "type": "float"
        },
        {
         "name": "number_hours_worked_label",
         "rawType": "object",
         "type": "unknown"
        },
        {
         "name": "number_commute_days",
         "rawType": "float64",
         "type": "float"
        },
        {
         "name": "number_commute_days_label",
         "rawType": "object",
         "type": "unknown"
        },
        {
         "name": "shift_start_time",
         "rawType": "float64",
         "type": "float"
        },
        {
         "name": "shift_start_time_label",
         "rawType": "object",
         "type": "unknown"
        },
        {
         "name": "shift_end_time",
         "rawType": "float64",
         "type": "float"
        },
        {
         "name": "shift_end_time_label",
         "rawType": "object",
         "type": "unknown"
        },
        {
         "name": "origin_activity_type",
         "rawType": "object",
         "type": "unknown"
        },
        {
         "name": "origin_activity_type_label",
         "rawType": "object",
         "type": "string"
        },
        {
         "name": "origin_activity_type_other",
         "rawType": "object",
         "type": "unknown"
        },
        {
         "name": "origin_name",
         "rawType": "object",
         "type": "unknown"
        },
        {
         "name": "origin_place_name",
         "rawType": "object",
         "type": "unknown"
        },
        {
         "name": "origin_state",
         "rawType": "object",
         "type": "unknown"
        },
        {
         "name": "origin_zip",
         "rawType": "object",
         "type": "unknown"
        },
        {
         "name": "origin_latitude",
         "rawType": "float64",
         "type": "float"
        },
        {
         "name": "origin_longitude",
         "rawType": "float64",
         "type": "float"
        },
        {
         "name": "destination_activity_type",
         "rawType": "object",
         "type": "unknown"
        },
        {
         "name": "destination_activity_type_label",
         "rawType": "object",
         "type": "string"
        },
        {
         "name": "destination_activity_type_other",
         "rawType": "object",
         "type": "unknown"
        },
        {
         "name": "destination_name",
         "rawType": "object",
         "type": "unknown"
        },
        {
         "name": "destination_place_name",
         "rawType": "object",
         "type": "unknown"
        },
        {
         "name": "destination_state",
         "rawType": "object",
         "type": "unknown"
        },
        {
         "name": "destination_zip",
         "rawType": "object",
         "type": "unknown"
        },
        {
         "name": "destination_latitude",
         "rawType": "float64",
         "type": "float"
        },
        {
         "name": "destination_longitude",
         "rawType": "float64",
         "type": "float"
        },
        {
         "name": "main_transit_mode",
         "rawType": "object",
         "type": "unknown"
        },
        {
         "name": "main_transit_mode_label",
         "rawType": "object",
         "type": "string"
        },
        {
         "name": "main_mode",
         "rawType": "object",
         "type": "unknown"
        },
        {
         "name": "main_mode_label",
         "rawType": "object",
         "type": "unknown"
        },
        {
         "name": "main_mode_other",
         "rawType": "object",
         "type": "unknown"
        },
        {
         "name": "shared_van_other",
         "rawType": "object",
         "type": "unknown"
        },
        {
         "name": "trip_start_time",
         "rawType": "float64",
         "type": "float"
        },
        {
         "name": "trip_start_time_label",
         "rawType": "object",
         "type": "unknown"
        },
        {
         "name": "trip_arrival_time",
         "rawType": "float64",
         "type": "float"
        },
        {
         "name": "trip_arrival_time_label",
         "rawType": "object",
         "type": "unknown"
        },
        {
         "name": "number_transit_vehicles_to_airport",
         "rawType": "int64",
         "type": "integer"
        },
        {
         "name": "number_transit_vehicles_to_airport_label",
         "rawType": "object",
         "type": "string"
        },
        {
         "name": "to_airport_transit_route_1",
         "rawType": "object",
         "type": "unknown"
        },
        {
         "name": "to_airport_transit_route_1_other",
         "rawType": "object",
         "type": "unknown"
        },
        {
         "name": "to_airport_transit_route_2",
         "rawType": "object",
         "type": "unknown"
        },
        {
         "name": "to_airport_transit_route_2_other",
         "rawType": "object",
         "type": "unknown"
        },
        {
         "name": "to_airport_transit_route_3",
         "rawType": "float64",
         "type": "float"
        },
        {
         "name": "to_airport_transit_route_3_other",
         "rawType": "float64",
         "type": "float"
        },
        {
         "name": "to_airport_transit_route_4",
         "rawType": "float64",
         "type": "float"
        },
        {
         "name": "to_airport_transit_route_4_other",
         "rawType": "float64",
         "type": "float"
        },
        {
         "name": "access_mode",
         "rawType": "object",
         "type": "unknown"
        },
        {
         "name": "access_mode_label",
         "rawType": "object",
         "type": "unknown"
        },
        {
         "name": "access_mode_other",
         "rawType": "object",
         "type": "unknown"
        },
        {
         "name": "taxi_fhv_fare",
         "rawType": "object",
         "type": "unknown"
        },
        {
         "name": "taxi_fhv_wait",
         "rawType": "object",
         "type": "unknown"
        },
        {
         "name": "parking_location",
         "rawType": "object",
         "type": "unknown"
        },
        {
         "name": "parking_location_label",
         "rawType": "object",
         "type": "unknown"
        },
        {
         "name": "parking_location_other",
         "rawType": "object",
         "type": "unknown"
        },
        {
         "name": "parking_cost",
         "rawType": "object",
         "type": "unknown"
        },
        {
         "name": "parking_cost_frequency",
         "rawType": "object",
         "type": "unknown"
        },
        {
         "name": "parking_cost_frequency_label",
         "rawType": "object",
         "type": "unknown"
        },
        {
         "name": "parking_cost_frequency_other",
         "rawType": "object",
         "type": "unknown"
        },
        {
         "name": "reimbursement",
         "rawType": "float64",
         "type": "float"
        },
        {
         "name": "reimbursement_label",
         "rawType": "object",
         "type": "unknown"
        },
        {
         "name": "number_transit_vehicles_from_airport",
         "rawType": "int64",
         "type": "integer"
        },
        {
         "name": "number_transit_vehicles_from_airport_label",
         "rawType": "object",
         "type": "string"
        },
        {
         "name": "from_airport_transit_route_1",
         "rawType": "object",
         "type": "unknown"
        },
        {
         "name": "from_airport_transit_route_1_other",
         "rawType": "float64",
         "type": "float"
        },
        {
         "name": "from_airport_transit_route_2",
         "rawType": "object",
         "type": "unknown"
        },
        {
         "name": "from_airport_transit_route_2_other",
         "rawType": "float64",
         "type": "float"
        },
        {
         "name": "from_airport_transit_route_3",
         "rawType": "float64",
         "type": "float"
        },
        {
         "name": "from_airport_transit_route_3_other",
         "rawType": "float64",
         "type": "float"
        },
        {
         "name": "from_airport_transit_route_4",
         "rawType": "float64",
         "type": "float"
        },
        {
         "name": "from_airport_transit_route_4_other",
         "rawType": "float64",
         "type": "float"
        },
        {
         "name": "egress_mode",
         "rawType": "float64",
         "type": "float"
        },
        {
         "name": "egress_mode_label",
         "rawType": "object",
         "type": "unknown"
        },
        {
         "name": "egress_mode_other",
         "rawType": "float64",
         "type": "float"
        },
        {
         "name": "transit_boarding_stop_name",
         "rawType": "object",
         "type": "string"
        },
        {
         "name": "stop_on_latitude",
         "rawType": "object",
         "type": "unknown"
        },
        {
         "name": "stop_on_longitude",
         "rawType": "object",
         "type": "unknown"
        },
        {
         "name": "transit_alighting_stop_name",
         "rawType": "object",
         "type": "string"
        },
        {
         "name": "stop_off_latitude",
         "rawType": "object",
         "type": "unknown"
        },
        {
         "name": "stop_off_longitude",
         "rawType": "object",
         "type": "unknown"
        },
        {
         "name": "transit_board_1_lat",
         "rawType": "float64",
         "type": "float"
        },
        {
         "name": "transit_board_1_long",
         "rawType": "float64",
         "type": "float"
        },
        {
         "name": "transit_alight_1_lat",
         "rawType": "float64",
         "type": "float"
        },
        {
         "name": "transit_alight_1_long",
         "rawType": "float64",
         "type": "float"
        },
        {
         "name": "transit_alight_2_lat",
         "rawType": "float64",
         "type": "float"
        },
        {
         "name": "transit_alight_2_long",
         "rawType": "float64",
         "type": "float"
        },
        {
         "name": "transit_alight_3_lat",
         "rawType": "float64",
         "type": "float"
        },
        {
         "name": "transit_alight_3_long",
         "rawType": "float64",
         "type": "float"
        },
        {
         "name": "transit_alight_4_lat",
         "rawType": "float64",
         "type": "float"
        },
        {
         "name": "transit_alight_4_long",
         "rawType": "float64",
         "type": "float"
        },
        {
         "name": "car_available",
         "rawType": "object",
         "type": "unknown"
        },
        {
         "name": "car_available_label",
         "rawType": "object",
         "type": "string"
        },
        {
         "name": "car_available_other",
         "rawType": "object",
         "type": "unknown"
        },
        {
         "name": "sdia_flight_frequency",
         "rawType": "float64",
         "type": "float"
        },
        {
         "name": "sdia_flight_frequency_label",
         "rawType": "object",
         "type": "string"
        },
        {
         "name": "access_mode_frequency",
         "rawType": "float64",
         "type": "float"
        },
        {
         "name": "access_mode_frequency_label",
         "rawType": "object",
         "type": "string"
        },
        {
         "name": "sdia_accessmode_split_taxi",
         "rawType": "object",
         "type": "unknown"
        },
        {
         "name": "sdia_accessmode_split_uber_lyft",
         "rawType": "object",
         "type": "unknown"
        },
        {
         "name": "sdia_accessmode_split_car_black",
         "rawType": "object",
         "type": "unknown"
        },
        {
         "name": "sdia_accessmode_split_dropped_off_by_family_friend",
         "rawType": "object",
         "type": "unknown"
        },
        {
         "name": "sdia_accessmode_split_drove_alone_and_parked",
         "rawType": "object",
         "type": "unknown"
        },
        {
         "name": "sdia_accessmode_split_drove_with_others_and_parked",
         "rawType": "object",
         "type": "unknown"
        },
        {
         "name": "sdia_accessmode_split_rode_with_other_travelers_and_parked",
         "rawType": "object",
         "type": "unknown"
        },
        {
         "name": "sdia_accessmode_split_mts992",
         "rawType": "object",
         "type": "unknown"
        },
        {
         "name": "sdia_accessmode_split_flyer_shuttle",
         "rawType": "object",
         "type": "unknown"
        },
        {
         "name": "sdia_accessmode_split_other_public_transit",
         "rawType": "object",
         "type": "unknown"
        },
        {
         "name": "sdia_accessmode_split_rental_car_dropped_off",
         "rawType": "object",
         "type": "unknown"
        },
        {
         "name": "sdia_accessmode_split_rental_car_parked",
         "rawType": "object",
         "type": "unknown"
        },
        {
         "name": "sdia_accessmode_split_chartered_tour_bus",
         "rawType": "object",
         "type": "unknown"
        },
        {
         "name": "sdia_accessmode_split_hotel_shuttle_van",
         "rawType": "object",
         "type": "unknown"
        },
        {
         "name": "sdia_accessmode_split_employee_shuttle",
         "rawType": "object",
         "type": "unknown"
        },
        {
         "name": "sdia_accessmode_split_other_shared_van",
         "rawType": "object",
         "type": "unknown"
        },
        {
         "name": "sdia_accessmode_split_walk",
         "rawType": "object",
         "type": "unknown"
        },
        {
         "name": "sdia_accessmode_split_wheelchair",
         "rawType": "object",
         "type": "unknown"
        },
        {
         "name": "sdia_accessmode_split_bicycle_electric_bikeshare",
         "rawType": "object",
         "type": "unknown"
        },
        {
         "name": "sdia_accessmode_split_bicycle_non_electric_bikeshare",
         "rawType": "object",
         "type": "unknown"
        },
        {
         "name": "sdia_accessmode_split_bicycle_personal_electric_bicycle",
         "rawType": "object",
         "type": "unknown"
        },
        {
         "name": "sdia_accessmode_split_bicycle_personal_non_electric_bicycle",
         "rawType": "object",
         "type": "unknown"
        },
        {
         "name": "sdia_accessmode_split_e_scooter_shared",
         "rawType": "object",
         "type": "unknown"
        },
        {
         "name": "sdia_accessmode_split_e_scooter_personal",
         "rawType": "object",
         "type": "unknown"
        },
        {
         "name": "sdia_accessmode_decision",
         "rawType": "float64",
         "type": "float"
        },
        {
         "name": "sdia_accessmode_decision_label",
         "rawType": "object",
         "type": "unknown"
        },
        {
         "name": "reverse_mode",
         "rawType": "float64",
         "type": "float"
        },
        {
         "name": "reverse_mode_label",
         "rawType": "object",
         "type": "unknown"
        },
        {
         "name": "reverse_mode_predicted",
         "rawType": "object",
         "type": "unknown"
        },
        {
         "name": "reverse_mode_predicted_label",
         "rawType": "object",
         "type": "unknown"
        },
        {
         "name": "reverse_mode_predicted_other",
         "rawType": "object",
         "type": "unknown"
        },
        {
         "name": "sdia_transit_awareness",
         "rawType": "float64",
         "type": "float"
        },
        {
         "name": "sdia_transit_awareness_label",
         "rawType": "object",
         "type": "unknown"
        },
        {
         "name": "reasons_no_transit_not_convenient",
         "rawType": "object",
         "type": "unknown"
        },
        {
         "name": "reasons_no_transit_too_complicated",
         "rawType": "object",
         "type": "unknown"
        },
        {
         "name": "reasons_no_transit_dont_know_how",
         "rawType": "object",
         "type": "unknown"
        },
        {
         "name": "reasons_no_transit_no_good_options",
         "rawType": "object",
         "type": "unknown"
        },
        {
         "name": "reasons_no_transit_not_flexible",
         "rawType": "object",
         "type": "unknown"
        },
        {
         "name": "reasons_no_transit_not_reliable",
         "rawType": "object",
         "type": "unknown"
        },
        {
         "name": "reasons_no_transit_not_safe",
         "rawType": "object",
         "type": "unknown"
        },
        {
         "name": "reasons_no_transit_ride_too_long",
         "rawType": "object",
         "type": "unknown"
        },
        {
         "name": "reasons_no_transit_wait_too_long",
         "rawType": "object",
         "type": "unknown"
        },
        {
         "name": "reasons_no_transit_does_not_run_when_needed",
         "rawType": "object",
         "type": "unknown"
        },
        {
         "name": "reasons_no_transit_too_many_transfers",
         "rawType": "object",
         "type": "unknown"
        },
        {
         "name": "reasons_no_transit_stop_too_far",
         "rawType": "object",
         "type": "unknown"
        },
        {
         "name": "reasons_no_transit_not_economical",
         "rawType": "object",
         "type": "unknown"
        },
        {
         "name": "reasons_no_transit_dislike_crowded_trains_buses",
         "rawType": "object",
         "type": "unknown"
        },
        {
         "name": "reasons_no_transit_too_much_walking_stairs",
         "rawType": "object",
         "type": "unknown"
        },
        {
         "name": "reasons_no_transit_dislike_public_transport",
         "rawType": "object",
         "type": "unknown"
        },
        {
         "name": "reasons_no_transit_dislike_public_transport_with_luggage",
         "rawType": "object",
         "type": "unknown"
        },
        {
         "name": "reasons_no_transit_prefer_other_mode",
         "rawType": "object",
         "type": "unknown"
        },
        {
         "name": "general_use_transit_resident",
         "rawType": "float64",
         "type": "float"
        },
        {
         "name": "general_use_transit_resident_label",
         "rawType": "object",
         "type": "unknown"
        },
        {
         "name": "general_use_transit_visitor_home",
         "rawType": "float64",
         "type": "float"
        },
        {
         "name": "general_use_transit_visitor_home_label",
         "rawType": "object",
         "type": "unknown"
        },
        {
         "name": "general_modes_used_visitor_taxi",
         "rawType": "object",
         "type": "unknown"
        },
        {
         "name": "general_modes_used_visitor_uber_lyft",
         "rawType": "object",
         "type": "unknown"
        },
        {
         "name": "general_modes_used_visitor_car_black",
         "rawType": "object",
         "type": "unknown"
        },
        {
         "name": "general_modes_used_visitor_dropped_off_by_family_friend",
         "rawType": "object",
         "type": "unknown"
        },
        {
         "name": "general_modes_used_visitor_drove_alone_and_parked",
         "rawType": "object",
         "type": "unknown"
        },
        {
         "name": "general_modes_used_visitor_drove_with_others_and_parked",
         "rawType": "object",
         "type": "unknown"
        },
        {
         "name": "general_modes_used_visitor_rode_with_other_travelers_and_parked",
         "rawType": "object",
         "type": "unknown"
        },
        {
         "name": "general_modes_used_visitor_coaster",
         "rawType": "object",
         "type": "unknown"
        },
        {
         "name": "general_modes_used_visitor_mts_red_trolley",
         "rawType": "object",
         "type": "unknown"
        },
        {
         "name": "general_modes_used_visitor_other_public_bus",
         "rawType": "object",
         "type": "unknown"
        },
        {
         "name": "general_modes_used_visitor_other_public_transit",
         "rawType": "object",
         "type": "unknown"
        },
        {
         "name": "general_modes_used_visitor_rental_car_dropped_off",
         "rawType": "object",
         "type": "unknown"
        },
        {
         "name": "general_modes_used_visitor_rental_car_parked",
         "rawType": "object",
         "type": "unknown"
        },
        {
         "name": "general_modes_used_visitor_chartered_tour_bus",
         "rawType": "object",
         "type": "unknown"
        },
        {
         "name": "general_modes_used_visitor_hotel_shuttle_van",
         "rawType": "object",
         "type": "unknown"
        },
        {
         "name": "general_modes_used_visitor_employee_shuttle",
         "rawType": "object",
         "type": "unknown"
        },
        {
         "name": "general_modes_used_visitor_other_shared_van",
         "rawType": "object",
         "type": "unknown"
        },
        {
         "name": "general_modes_used_visitor_walk",
         "rawType": "object",
         "type": "unknown"
        },
        {
         "name": "general_modes_used_visitor_wheelchair",
         "rawType": "object",
         "type": "unknown"
        },
        {
         "name": "general_modes_used_visitor_bicycle_electric_bikeshare",
         "rawType": "object",
         "type": "unknown"
        },
        {
         "name": "general_modes_used_visitor_bicycle_non_electric_bikeshare",
         "rawType": "object",
         "type": "unknown"
        },
        {
         "name": "general_modes_used_visitor_bicycle_personal_electric_bicycle",
         "rawType": "object",
         "type": "unknown"
        },
        {
         "name": "general_modes_used_visitor_bicycle_personal_non_electric_bicycle",
         "rawType": "object",
         "type": "unknown"
        },
        {
         "name": "general_modes_used_visitor_e_scooter_shared",
         "rawType": "object",
         "type": "unknown"
        },
        {
         "name": "general_modes_used_visitor_e_scooter_personal",
         "rawType": "object",
         "type": "unknown"
        },
        {
         "name": "non_sdia_flight_frequency",
         "rawType": "float64",
         "type": "float"
        },
        {
         "name": "non_sdia_flight_frequency_label",
         "rawType": "object",
         "type": "unknown"
        },
        {
         "name": "other_airport_accessmode",
         "rawType": "float64",
         "type": "float"
        },
        {
         "name": "other_airport_accessmode_label",
         "rawType": "object",
         "type": "unknown"
        },
        {
         "name": "airport_access_transit_use_elsewhere",
         "rawType": "float64",
         "type": "float"
        },
        {
         "name": "airport_access_transit_use_elsewhere_label",
         "rawType": "object",
         "type": "unknown"
        },
        {
         "name": "airportaccesstransitname",
         "rawType": "object",
         "type": "unknown"
        },
        {
         "name": "home_location_place_name",
         "rawType": "object",
         "type": "unknown"
        },
        {
         "name": "home_location_state",
         "rawType": "object",
         "type": "unknown"
        },
        {
         "name": "home_location_zip",
         "rawType": "object",
         "type": "unknown"
        },
        {
         "name": "home_location_latitude",
         "rawType": "float64",
         "type": "float"
        },
        {
         "name": "home_location_longitude",
         "rawType": "float64",
         "type": "float"
        },
        {
         "name": "reverse_commute_mode",
         "rawType": "object",
         "type": "unknown"
        },
        {
         "name": "reverse_commute_mode_label",
         "rawType": "object",
         "type": "unknown"
        },
        {
         "name": "reverse_commute_mode_other",
         "rawType": "object",
         "type": "unknown"
        },
        {
         "name": "same_commute_mode",
         "rawType": "object",
         "type": "unknown"
        },
        {
         "name": "same_commute_mode_label",
         "rawType": "object",
         "type": "unknown"
        },
        {
         "name": "same_commute_mode_other",
         "rawType": "object",
         "type": "unknown"
        },
        {
         "name": "alt_commute_mode_taxi",
         "rawType": "object",
         "type": "unknown"
        },
        {
         "name": "alt_commute_mode_uber_lyft",
         "rawType": "object",
         "type": "unknown"
        },
        {
         "name": "alt_commute_mode_car_black",
         "rawType": "object",
         "type": "unknown"
        },
        {
         "name": "alt_commute_mode_picked_by_family_friend",
         "rawType": "object",
         "type": "unknown"
        },
        {
         "name": "alt_commute_mode_parked_vehicle_and_drive_alone",
         "rawType": "object",
         "type": "unknown"
        },
        {
         "name": "alt_commute_mode_parked_vehicle_and_drive_with_others",
         "rawType": "object",
         "type": "unknown"
        },
        {
         "name": "alt_commute_mode_parked_vehicle_and_ride_with_other_travelers",
         "rawType": "object",
         "type": "unknown"
        },
        {
         "name": "alt_commute_mode_mts_route_992",
         "rawType": "object",
         "type": "unknown"
        },
        {
         "name": "alt_commute_mode_airport_flyer_shuttle",
         "rawType": "object",
         "type": "unknown"
        },
        {
         "name": "alt_commute_mode_other_public_transit",
         "rawType": "object",
         "type": "unknown"
        },
        {
         "name": "alt_commute_mode_other_shared_van",
         "rawType": "object",
         "type": "unknown"
        },
        {
         "name": "alt_commute_mode_walk",
         "rawType": "object",
         "type": "unknown"
        },
        {
         "name": "alt_commute_mode_wheelchair",
         "rawType": "object",
         "type": "unknown"
        },
        {
         "name": "alt_commute_mode_bicycle_electric_bikeshare",
         "rawType": "object",
         "type": "unknown"
        },
        {
         "name": "alt_commute_mode_bicycle_non_electric_bikeshare",
         "rawType": "object",
         "type": "unknown"
        },
        {
         "name": "alt_commute_mode_bicycle_personal_electric_bicycle",
         "rawType": "object",
         "type": "unknown"
        },
        {
         "name": "alt_commute_mode_bicycle_personal_non_electric_bicycle",
         "rawType": "object",
         "type": "unknown"
        },
        {
         "name": "alt_commute_mode_e_scooter_shared",
         "rawType": "object",
         "type": "unknown"
        },
        {
         "name": "alt_commute_mode_e_scooter_personal",
         "rawType": "object",
         "type": "unknown"
        },
        {
         "name": "employee_parking",
         "rawType": "object",
         "type": "unknown"
        },
        {
         "name": "age",
         "rawType": "int64",
         "type": "integer"
        },
        {
         "name": "age_label",
         "rawType": "object",
         "type": "string"
        },
        {
         "name": "gender",
         "rawType": "object",
         "type": "unknown"
        },
        {
         "name": "gender_label",
         "rawType": "object",
         "type": "string"
        },
        {
         "name": "gender_other",
         "rawType": "object",
         "type": "unknown"
        },
        {
         "name": "race_aian",
         "rawType": "object",
         "type": "string"
        },
        {
         "name": "race_asian",
         "rawType": "object",
         "type": "string"
        },
        {
         "name": "race_black",
         "rawType": "object",
         "type": "string"
        },
        {
         "name": "race_hispanic",
         "rawType": "object",
         "type": "string"
        },
        {
         "name": "race_middle_eastern",
         "rawType": "object",
         "type": "string"
        },
        {
         "name": "race_hp",
         "rawType": "object",
         "type": "string"
        },
        {
         "name": "race_white",
         "rawType": "object",
         "type": "string"
        },
        {
         "name": "race_unknown",
         "rawType": "object",
         "type": "string"
        },
        {
         "name": "race_other",
         "rawType": "object",
         "type": "unknown"
        },
        {
         "name": "number_persons_in_household",
         "rawType": "int64",
         "type": "integer"
        },
        {
         "name": "number_persons_in_household_label",
         "rawType": "object",
         "type": "string"
        },
        {
         "name": "number_vehicles",
         "rawType": "int64",
         "type": "integer"
        },
        {
         "name": "number_vehicles_label",
         "rawType": "object",
         "type": "string"
        },
        {
         "name": "household_income",
         "rawType": "int64",
         "type": "integer"
        },
        {
         "name": "household_income_label",
         "rawType": "object",
         "type": "string"
        },
        {
         "name": "is_income_below_poverty",
         "rawType": "float64",
         "type": "float"
        },
        {
         "name": "is_income_below_poverty_label",
         "rawType": "object",
         "type": "unknown"
        },
        {
         "name": "number_workers",
         "rawType": "int64",
         "type": "integer"
        },
        {
         "name": "number_workers_label",
         "rawType": "object",
         "type": "string"
        },
        {
         "name": "sp_invitation",
         "rawType": "float64",
         "type": "float"
        },
        {
         "name": "sp_invitation_label",
         "rawType": "object",
         "type": "string"
        },
        {
         "name": "stay_informed",
         "rawType": "float64",
         "type": "float"
        },
        {
         "name": "stay_informed_label",
         "rawType": "object",
         "type": "unknown"
        },
        {
         "name": "survey_language",
         "rawType": "object",
         "type": "string"
        },
        {
         "name": "survey_language_label",
         "rawType": "object",
         "type": "string"
        },
        {
         "name": "survey_language_other",
         "rawType": "float64",
         "type": "float"
        }
       ],
       "ref": "bdf599d5-fe3b-4b6f-ac89-3dc3a376c95a",
       "rows": [
        [
         "0",
         "4273",
         "9/30/2024",
         "Term1",
         "Terminal 1",
         null,
         "OUT",
         "OUTBOUND",
         "1",
         "Air passenger",
         "YES",
         "1.0",
         "Arriving air passenger",
         "3.0",
         "VISITING",
         null,
         null,
         "3",
         "OTHER CALIFORNIA",
         null,
         null,
         null,
         null,
         "San Francisco",
         "14.0",
         "FRONTIER AIRLINES",
         null,
         "3381",
         "No",
         null,
         null,
         null,
         "17.0",
         "1:00 pm - 1:30 pm",
         null,
         "2",
         "LEISURE / FAMILY",
         null,
         "2.0",
         "No",
         null,
         null,
         null,
         "0.0",
         null,
         "1.0",
         "1",
         null,
         null,
         "4.0",
         "THREE",
         "0.0",
         "NONE",
         null,
         null,
         null,
         null,
         null,
         null,
         null,
         null,
         null,
         null,
         null,
         null,
         null,
         null,
         null,
         null,
         null,
         null,
         null,
         null,
         null,
         null,
         null,
         null,
         null,
         "Term1",
         "Terminal 1",
         null,
         null,
         null,
         null,
         null,
         "32.732226",
         "-117.197539",
         "2",
         "HOME",
         null,
         null,
         "Poway",
         "CA",
         "92064",
         "32.978149",
         "-116.972396",
         "3",
         "None of the above",
         "28",
         "Rental car: get in a parked rental car",
         null,
         null,
         null,
         null,
         null,
         null,
         "0",
         "(0) None",
         null,
         null,
         null,
         null,
         null,
         null,
         null,
         null,
         null,
         null,
         null,
         null,
         null,
         null,
         null,
         null,
         null,
         null,
         null,
         null,
         null,
         null,
         "0",
         "(0) None",
         null,
         null,
         null,
         null,
         null,
         null,
         null,
         null,
         null,
         null,
         null,
         "-",
         "-",
         "-",
         "-",
         "-",
         "-",
         null,
         null,
         null,
         null,
         null,
         null,
         null,
         null,
         null,
         null,
         "1",
         "Yes, but chose not to use it to travel to the airport",
         null,
         "1.0",
         "1 to 2",
         "1.0",
         "1 to 2",
         null,
         null,
         null,
         null,
         null,
         null,
         null,
         null,
         null,
         null,
         null,
         null,
         null,
         null,
         null,
         null,
         null,
         null,
         null,
         null,
         null,
         null,
         null,
         null,
         null,
         null,
         null,
         null,
         null,
         null,
         null,
         "2.0",
         "No",
         "No",
         null,
         "No",
         "Yes",
         "No",
         "No",
         "No",
         null,
         "No",
         null,
         null,
         null,
         "No",
         "No",
         "No",
         "No",
         "No",
         null,
         null,
         null,
         "6.0",
         "6 days",
         null,
         null,
         null,
         null,
         null,
         null,
         null,
         null,
         null,
         null,
         null,
         null,
         null,
         null,
         null,
         null,
         null,
         null,
         null,
         null,
         null,
         null,
         null,
         null,
         null,
         "0.0",
         null,
         null,
         null,
         null,
         null,
         null,
         null,
         null,
         null,
         null,
         null,
         null,
         null,
         null,
         null,
         null,
         null,
         null,
         null,
         null,
         null,
         null,
         null,
         null,
         null,
         null,
         null,
         null,
         null,
         null,
         null,
         null,
         null,
         null,
         null,
         null,
         null,
         "9",
         "55 to 59 years old",
         "2",
         "FEMALE",
         null,
         "No",
         "No",
         "No",
         "No",
         "No",
         "No",
         "Yes",
         "No",
         null,
         "3",
         "THREE (3)",
         "3",
         "THREE (3)",
         "11",
         "$75,000-$99,999",
         null,
         null,
         "2",
         "TWO (2)",
         "2.0",
         "No",
         "0.0",
         "NO",
         "ENGLISH",
         "ENGLISH",
         null
        ],
        [
         "1",
         "4282",
         "9/30/2024",
         "Term1",
         "Terminal 1",
         null,
         "IN",
         "INBOUND",
         "1",
         "Air passenger",
         "YES",
         "2.0",
         "Departing air passenger",
         "2.0",
         "LEAVING HOME",
         null,
         null,
         "7",
         "OTHER STATE MEXICO",
         null,
         null,
         null,
         null,
         "San jose",
         "15.0",
         "SOUTHWEST AIRLINES",
         null,
         "3997",
         "Yes",
         null,
         "20.0",
         "2:30 pm - 3:00 pm",
         null,
         null,
         null,
         "1",
         "BUSINESS / WORK",
         null,
         "2.0",
         "No",
         null,
         null,
         null,
         "1.0",
         "1",
         "1.0",
         "1",
         null,
         null,
         "1.0",
         "NONE",
         "0.0",
         "NONE",
         null,
         null,
         null,
         null,
         null,
         null,
         null,
         null,
         null,
         null,
         null,
         null,
         null,
         null,
         null,
         null,
         null,
         null,
         null,
         null,
         null,
         null,
         null,
         null,
         null,
         "2",
         "HOME",
         null,
         null,
         "Mexicali",
         "Baja California",
         "-",
         "32.624538",
         "-115.452262",
         "Term1",
         "Terminal 1",
         null,
         null,
         null,
         null,
         null,
         "32.732226",
         "-117.197539",
         "SDA_1_FLYER",
         "Airport flyer shuttle",
         null,
         null,
         null,
         null,
         "15.0",
         "11:00 am - 11:30 am",
         "19.0",
         "1:00 pm - 1:30 pm",
         "1",
         "(1) One",
         "98",
         "intuiteve",
         null,
         null,
         null,
         null,
         null,
         null,
         "1",
         "Walk",
         null,
         null,
         null,
         null,
         null,
         null,
         null,
         null,
         null,
         null,
         "3.0",
         "No, not reimbursed",
         "0",
         "(0) None",
         null,
         null,
         null,
         null,
         null,
         null,
         null,
         null,
         null,
         null,
         null,
         "Palm St",
         "32.732843453796",
         "-117.176526986751",
         "Terminal 1 Rental Car Shuttle",
         "32.7319996541779",
         "-117.198122030755",
         null,
         null,
         null,
         null,
         null,
         null,
         null,
         null,
         null,
         null,
         "3",
         "No, car was unavailable",
         null,
         "2.0",
         "3 to 5",
         "1.0",
         "1 to 2",
         "No",
         "No",
         "No",
         "No",
         "No",
         "No",
         "No",
         "No",
         "No",
         "No",
         "No",
         "No",
         "No",
         "No",
         "No",
         "No",
         "No",
         "No",
         "No",
         "No",
         "No",
         "No",
         "No",
         "No",
         null,
         null,
         null,
         null,
         null,
         null,
         null,
         null,
         null,
         null,
         null,
         null,
         null,
         null,
         null,
         null,
         null,
         null,
         null,
         null,
         null,
         null,
         null,
         null,
         null,
         null,
         null,
         null,
         null,
         "0.0",
         "0 days",
         "No",
         "Yes",
         "No",
         "No",
         "No",
         "No",
         "No",
         "No",
         "No",
         "No",
         "No",
         "No",
         "No",
         "No",
         "No",
         "No",
         "No",
         "No",
         "No",
         "No",
         "No",
         "No",
         "No",
         "No",
         "No",
         "4.0",
         "4 times",
         null,
         null,
         "1.0",
         "1 time",
         null,
         null,
         null,
         null,
         null,
         null,
         null,
         null,
         null,
         null,
         null,
         null,
         null,
         null,
         null,
         null,
         null,
         null,
         null,
         null,
         null,
         null,
         null,
         null,
         null,
         null,
         null,
         null,
         null,
         null,
         null,
         null,
         "2",
         "20 to 24 years old",
         "1",
         "MALE",
         null,
         "No",
         "No",
         "No",
         "Yes",
         "No",
         "No",
         "No",
         "No",
         null,
         "6",
         "SIX (6)",
         "1",
         "ONE (1)",
         "10",
         "$60,000-$74,999",
         null,
         null,
         "6",
         "SIX (6)",
         "1.0",
         "Yes",
         null,
         null,
         "SPANI",
         "SPANISH",
         null
        ],
        [
         "2",
         "4283",
         "9/30/2024",
         "Term1",
         "Terminal 1",
         null,
         "IN",
         "INBOUND",
         "1",
         "Air passenger",
         "YES",
         "2.0",
         "Departing air passenger",
         "1.0",
         "GOING HOME",
         null,
         null,
         "3",
         "OTHER CALIFORNIA",
         null,
         null,
         null,
         null,
         "San jose",
         "16.0",
         "SPIRIT",
         null,
         "429",
         "Yes",
         null,
         "21.0",
         "3:00 pm - 3:30 pm",
         null,
         null,
         null,
         "2",
         "LEISURE / FAMILY",
         null,
         "2.0",
         "No",
         null,
         null,
         null,
         "0.0",
         null,
         "1.0",
         "1",
         null,
         null,
         "3.0",
         "TWO",
         "0.0",
         "NONE",
         null,
         null,
         null,
         null,
         null,
         null,
         null,
         null,
         null,
         null,
         null,
         null,
         null,
         null,
         null,
         null,
         null,
         null,
         null,
         null,
         null,
         null,
         null,
         null,
         null,
         "2",
         "HOME",
         null,
         null,
         "Encinitas",
         "CA",
         "92024",
         "33.069132",
         "-117.288219",
         "Term1",
         "Terminal 1",
         null,
         null,
         null,
         null,
         null,
         "32.732226",
         "-117.197539",
         "3",
         "None of the above",
         "10",
         "Uber/Lyft",
         null,
         null,
         "16.0",
         "11:30 am - 12:00 pm",
         "16.0",
         "11:30 am - 12:00 pm",
         "0",
         "(0) None",
         null,
         null,
         null,
         null,
         null,
         null,
         null,
         null,
         null,
         null,
         null,
         "20",
         "25",
         null,
         null,
         null,
         null,
         null,
         null,
         null,
         "3.0",
         "No, not reimbursed",
         "0",
         "(0) None",
         null,
         null,
         null,
         null,
         null,
         null,
         null,
         null,
         null,
         null,
         null,
         "-",
         "-",
         "-",
         "-",
         "-",
         "-",
         null,
         null,
         null,
         null,
         null,
         null,
         null,
         null,
         null,
         null,
         "2",
         "No, donâ€™t have a car",
         null,
         "1.0",
         "1 to 2",
         "1.0",
         "1 to 2",
         null,
         null,
         null,
         null,
         null,
         null,
         null,
         null,
         null,
         null,
         null,
         null,
         null,
         null,
         null,
         null,
         null,
         null,
         null,
         null,
         null,
         null,
         null,
         null,
         null,
         null,
         null,
         null,
         null,
         null,
         null,
         "2.0",
         "No",
         "No",
         null,
         "Yes",
         "No",
         "No",
         "No",
         "No",
         null,
         "No",
         null,
         null,
         null,
         "No",
         "No",
         "No",
         "No",
         "No",
         null,
         null,
         null,
         "0.0",
         "0 days",
         "No",
         "No",
         "No",
         "No",
         "No",
         "No",
         "No",
         "No",
         "No",
         "No",
         "No",
         "No",
         "Yes",
         "No",
         "No",
         "No",
         "No",
         "No",
         "No",
         "No",
         "No",
         "No",
         "No",
         "No",
         "No",
         "2.0",
         "2 times",
         null,
         null,
         "6.0",
         "Never",
         null,
         null,
         null,
         null,
         null,
         null,
         null,
         null,
         null,
         null,
         null,
         null,
         null,
         null,
         null,
         null,
         null,
         null,
         null,
         null,
         null,
         null,
         null,
         null,
         null,
         null,
         null,
         null,
         null,
         null,
         null,
         null,
         "4",
         "30 to 34 years old",
         "1",
         "MALE",
         null,
         "No",
         "No",
         "No",
         "Yes",
         "No",
         "No",
         "No",
         "No",
         null,
         "3",
         "THREE (3)",
         "2",
         "TWO (2)",
         "10",
         "$60,000-$74,999",
         null,
         null,
         "0",
         "NONE (0)",
         "2.0",
         "No",
         "0.0",
         "NO",
         "ENGLISH",
         "ENGLISH",
         null
        ],
        [
         "3",
         "4286",
         "9/30/2024",
         "Term1",
         "Terminal 1",
         null,
         "IN",
         "INBOUND",
         "1",
         "Air passenger",
         "YES",
         "2.0",
         "Departing air passenger",
         "1.0",
         "GOING HOME",
         null,
         null,
         "3",
         "OTHER CALIFORNIA",
         null,
         null,
         null,
         null,
         "Smf",
         "15.0",
         "SOUTHWEST AIRLINES",
         null,
         "Wnn 549",
         "Yes",
         null,
         "21.0",
         "3:00 pm - 3:30 pm",
         null,
         null,
         null,
         "2",
         "LEISURE / FAMILY",
         null,
         "2.0",
         "No",
         null,
         null,
         null,
         "0.0",
         null,
         "4.0",
         "4",
         null,
         null,
         "5.0",
         "FOUR",
         "4.0",
         "FOUR",
         "Yes",
         null,
         null,
         "Yes",
         "No",
         "No",
         "Yes",
         "No",
         null,
         null,
         null,
         null,
         null,
         null,
         null,
         null,
         null,
         null,
         null,
         null,
         null,
         null,
         null,
         null,
         null,
         "98",
         "Other",
         "Relative",
         null,
         "Solana Beach",
         "CA",
         "92075",
         "32.992978",
         "-117.271299",
         "Term1",
         "Terminal 1",
         null,
         null,
         null,
         null,
         null,
         "32.732226",
         "-117.197539",
         "3",
         "None of the above",
         "12",
         "Dropped off by car by family/friend",
         null,
         null,
         "20.0",
         "1:30 pm - 2:00 pm",
         "21.0",
         "2:00 pm - 2:30 pm",
         "0",
         "(0) None",
         null,
         null,
         null,
         null,
         null,
         null,
         null,
         null,
         null,
         null,
         null,
         null,
         null,
         null,
         null,
         null,
         null,
         null,
         null,
         null,
         "3.0",
         "No, not reimbursed",
         "0",
         "(0) None",
         null,
         null,
         null,
         null,
         null,
         null,
         null,
         null,
         null,
         null,
         null,
         "-",
         "-",
         "-",
         "-",
         "-",
         "-",
         null,
         null,
         null,
         null,
         null,
         null,
         null,
         null,
         null,
         null,
         "3",
         "No, car was unavailable",
         null,
         "2.0",
         "3 to 5",
         "7.0",
         "Always",
         null,
         null,
         null,
         null,
         null,
         null,
         null,
         null,
         null,
         null,
         null,
         null,
         null,
         null,
         null,
         null,
         null,
         null,
         null,
         null,
         null,
         null,
         null,
         null,
         null,
         null,
         null,
         null,
         null,
         null,
         null,
         "2.0",
         "No",
         "Yes",
         null,
         "No",
         "No",
         "No",
         "No",
         "No",
         null,
         "No",
         null,
         null,
         null,
         "No",
         "No",
         "No",
         "No",
         "No",
         null,
         null,
         null,
         "0.0",
         "0 days",
         "No",
         "No",
         "No",
         "Yes",
         "No",
         "No",
         "No",
         "No",
         "No",
         "No",
         "No",
         "No",
         "No",
         "No",
         "No",
         "No",
         "No",
         "No",
         "No",
         "No",
         "No",
         "No",
         "No",
         "No",
         "No",
         "2.0",
         "2 times",
         null,
         null,
         "2.0",
         "2 times",
         "Sea tac",
         "Sacramento",
         "CA",
         "95815",
         "38.602519",
         "-121.422143",
         null,
         null,
         null,
         null,
         null,
         null,
         null,
         null,
         null,
         null,
         null,
         null,
         null,
         null,
         null,
         null,
         null,
         null,
         null,
         null,
         null,
         null,
         null,
         null,
         null,
         null,
         "7",
         "45 to 49 years old",
         "1",
         "MALE",
         null,
         "No",
         "No",
         "No",
         "No",
         "No",
         "No",
         "Yes",
         "No",
         null,
         "4",
         "FOUR (4)",
         "2",
         "TWO (2)",
         "13",
         "$150,000 or more",
         null,
         null,
         "2",
         "TWO (2)",
         "1.0",
         "Yes",
         null,
         null,
         "ENGLISH",
         "ENGLISH",
         null
        ],
        [
         "4",
         "4290",
         "9/30/2024",
         "Term1",
         "Terminal 1",
         null,
         "IN",
         "INBOUND",
         "1",
         "Air passenger",
         "YES",
         "2.0",
         "Departing air passenger",
         "1.0",
         "GOING HOME",
         null,
         null,
         "1",
         "SAN DIEGO REGION",
         null,
         null,
         null,
         null,
         "Chicago",
         "15.0",
         "SOUTHWEST AIRLINES",
         null,
         "3967",
         "Yes",
         null,
         "25.0",
         "5:00 pm - 5:30 pm",
         null,
         null,
         null,
         "4",
         "PERSONAL",
         null,
         null,
         null,
         null,
         null,
         null,
         "0.0",
         null,
         "1.0",
         "1",
         "0.0",
         "NONE",
         null,
         null,
         "0.0",
         "NONE",
         null,
         null,
         null,
         null,
         null,
         null,
         null,
         null,
         null,
         null,
         null,
         null,
         null,
         null,
         null,
         null,
         null,
         null,
         null,
         null,
         null,
         null,
         null,
         null,
         null,
         "3",
         "HOTEL",
         null,
         null,
         "San Diego",
         "CA",
         "92110",
         "32.750762",
         "-117.215866",
         "Term1",
         "Terminal 1",
         null,
         null,
         null,
         null,
         null,
         "32.732226",
         "-117.197539",
         "3",
         "None of the above",
         "9",
         "Taxi",
         null,
         null,
         "18.0",
         "12:30 pm - 1:00 pm",
         "19.0",
         "1:00 pm - 1:30 pm",
         "0",
         "(0) None",
         null,
         null,
         null,
         null,
         null,
         null,
         null,
         null,
         null,
         null,
         null,
         "24",
         "5",
         null,
         null,
         null,
         null,
         null,
         null,
         null,
         "3.0",
         "No, not reimbursed",
         "0",
         "(0) None",
         null,
         null,
         null,
         null,
         null,
         null,
         null,
         null,
         null,
         null,
         null,
         "-",
         "-",
         "-",
         "-",
         "-",
         "-",
         null,
         null,
         null,
         null,
         null,
         null,
         null,
         null,
         null,
         null,
         "3",
         "No, car was unavailable",
         null,
         "1.0",
         "1 to 2",
         "1.0",
         "1 to 2",
         null,
         null,
         null,
         null,
         null,
         null,
         null,
         null,
         null,
         null,
         null,
         null,
         null,
         null,
         null,
         null,
         null,
         null,
         null,
         null,
         null,
         null,
         null,
         null,
         null,
         null,
         null,
         null,
         "9",
         "Taxi",
         null,
         "2.0",
         "No",
         "Yes",
         null,
         "No",
         "No",
         "No",
         "No",
         "No",
         null,
         "No",
         null,
         null,
         null,
         "No",
         "No",
         "No",
         "No",
         "No",
         null,
         "0.0",
         "0 days",
         null,
         null,
         null,
         null,
         null,
         null,
         null,
         null,
         null,
         null,
         null,
         null,
         null,
         null,
         null,
         null,
         null,
         null,
         null,
         null,
         null,
         null,
         null,
         null,
         null,
         null,
         null,
         "0.0",
         null,
         null,
         null,
         null,
         null,
         null,
         "Chicago",
         "IL",
         "-",
         "41.8781129999999",
         "-87.6297981999999",
         null,
         null,
         null,
         null,
         null,
         null,
         null,
         null,
         null,
         null,
         null,
         null,
         null,
         null,
         null,
         null,
         null,
         null,
         null,
         null,
         null,
         null,
         null,
         null,
         null,
         null,
         "7",
         "45 to 49 years old",
         "1",
         "MALE",
         null,
         "No",
         "No",
         "No",
         "No",
         "No",
         "No",
         "Yes",
         "No",
         null,
         "2",
         "TWO (2)",
         "2",
         "TWO (2)",
         "14",
         "Prefer not to say",
         "0.0",
         "No",
         "0",
         "NONE (0)",
         "2.0",
         "No",
         "0.0",
         "NO",
         "ENGLISH",
         "ENGLISH",
         null
        ]
       ],
       "shape": {
        "columns": 314,
        "rows": 5
       }
      },
      "text/html": [
       "<div>\n",
       "<style scoped>\n",
       "    .dataframe tbody tr th:only-of-type {\n",
       "        vertical-align: middle;\n",
       "    }\n",
       "\n",
       "    .dataframe tbody tr th {\n",
       "        vertical-align: top;\n",
       "    }\n",
       "\n",
       "    .dataframe thead th {\n",
       "        text-align: right;\n",
       "    }\n",
       "</style>\n",
       "<table border=\"1\" class=\"dataframe\">\n",
       "  <thead>\n",
       "    <tr style=\"text-align: right;\">\n",
       "      <th></th>\n",
       "      <th>respondentid</th>\n",
       "      <th>date_completed</th>\n",
       "      <th>interview_location</th>\n",
       "      <th>interview_location_label</th>\n",
       "      <th>interview_location_other</th>\n",
       "      <th>inbound_or_outbound</th>\n",
       "      <th>inbound_or_outbound_label</th>\n",
       "      <th>marketsegment</th>\n",
       "      <th>marketsegment_label</th>\n",
       "      <th>is_qualified_age</th>\n",
       "      <th>...</th>\n",
       "      <th>is_income_below_poverty_label</th>\n",
       "      <th>number_workers</th>\n",
       "      <th>number_workers_label</th>\n",
       "      <th>sp_invitation</th>\n",
       "      <th>sp_invitation_label</th>\n",
       "      <th>stay_informed</th>\n",
       "      <th>stay_informed_label</th>\n",
       "      <th>survey_language</th>\n",
       "      <th>survey_language_label</th>\n",
       "      <th>survey_language_other</th>\n",
       "    </tr>\n",
       "  </thead>\n",
       "  <tbody>\n",
       "    <tr>\n",
       "      <th>0</th>\n",
       "      <td>4273</td>\n",
       "      <td>9/30/2024</td>\n",
       "      <td>Term1</td>\n",
       "      <td>Terminal 1</td>\n",
       "      <td>NaN</td>\n",
       "      <td>OUT</td>\n",
       "      <td>OUTBOUND</td>\n",
       "      <td>1</td>\n",
       "      <td>Air passenger</td>\n",
       "      <td>YES</td>\n",
       "      <td>...</td>\n",
       "      <td>NaN</td>\n",
       "      <td>2</td>\n",
       "      <td>TWO (2)</td>\n",
       "      <td>2.0</td>\n",
       "      <td>No</td>\n",
       "      <td>0.0</td>\n",
       "      <td>NO</td>\n",
       "      <td>ENGLISH</td>\n",
       "      <td>ENGLISH</td>\n",
       "      <td>NaN</td>\n",
       "    </tr>\n",
       "    <tr>\n",
       "      <th>1</th>\n",
       "      <td>4282</td>\n",
       "      <td>9/30/2024</td>\n",
       "      <td>Term1</td>\n",
       "      <td>Terminal 1</td>\n",
       "      <td>NaN</td>\n",
       "      <td>IN</td>\n",
       "      <td>INBOUND</td>\n",
       "      <td>1</td>\n",
       "      <td>Air passenger</td>\n",
       "      <td>YES</td>\n",
       "      <td>...</td>\n",
       "      <td>NaN</td>\n",
       "      <td>6</td>\n",
       "      <td>SIX (6)</td>\n",
       "      <td>1.0</td>\n",
       "      <td>Yes</td>\n",
       "      <td>NaN</td>\n",
       "      <td>NaN</td>\n",
       "      <td>SPANI</td>\n",
       "      <td>SPANISH</td>\n",
       "      <td>NaN</td>\n",
       "    </tr>\n",
       "    <tr>\n",
       "      <th>2</th>\n",
       "      <td>4283</td>\n",
       "      <td>9/30/2024</td>\n",
       "      <td>Term1</td>\n",
       "      <td>Terminal 1</td>\n",
       "      <td>NaN</td>\n",
       "      <td>IN</td>\n",
       "      <td>INBOUND</td>\n",
       "      <td>1</td>\n",
       "      <td>Air passenger</td>\n",
       "      <td>YES</td>\n",
       "      <td>...</td>\n",
       "      <td>NaN</td>\n",
       "      <td>0</td>\n",
       "      <td>NONE (0)</td>\n",
       "      <td>2.0</td>\n",
       "      <td>No</td>\n",
       "      <td>0.0</td>\n",
       "      <td>NO</td>\n",
       "      <td>ENGLISH</td>\n",
       "      <td>ENGLISH</td>\n",
       "      <td>NaN</td>\n",
       "    </tr>\n",
       "    <tr>\n",
       "      <th>3</th>\n",
       "      <td>4286</td>\n",
       "      <td>9/30/2024</td>\n",
       "      <td>Term1</td>\n",
       "      <td>Terminal 1</td>\n",
       "      <td>NaN</td>\n",
       "      <td>IN</td>\n",
       "      <td>INBOUND</td>\n",
       "      <td>1</td>\n",
       "      <td>Air passenger</td>\n",
       "      <td>YES</td>\n",
       "      <td>...</td>\n",
       "      <td>NaN</td>\n",
       "      <td>2</td>\n",
       "      <td>TWO (2)</td>\n",
       "      <td>1.0</td>\n",
       "      <td>Yes</td>\n",
       "      <td>NaN</td>\n",
       "      <td>NaN</td>\n",
       "      <td>ENGLISH</td>\n",
       "      <td>ENGLISH</td>\n",
       "      <td>NaN</td>\n",
       "    </tr>\n",
       "    <tr>\n",
       "      <th>4</th>\n",
       "      <td>4290</td>\n",
       "      <td>9/30/2024</td>\n",
       "      <td>Term1</td>\n",
       "      <td>Terminal 1</td>\n",
       "      <td>NaN</td>\n",
       "      <td>IN</td>\n",
       "      <td>INBOUND</td>\n",
       "      <td>1</td>\n",
       "      <td>Air passenger</td>\n",
       "      <td>YES</td>\n",
       "      <td>...</td>\n",
       "      <td>No</td>\n",
       "      <td>0</td>\n",
       "      <td>NONE (0)</td>\n",
       "      <td>2.0</td>\n",
       "      <td>No</td>\n",
       "      <td>0.0</td>\n",
       "      <td>NO</td>\n",
       "      <td>ENGLISH</td>\n",
       "      <td>ENGLISH</td>\n",
       "      <td>NaN</td>\n",
       "    </tr>\n",
       "  </tbody>\n",
       "</table>\n",
       "<p>5 rows × 314 columns</p>\n",
       "</div>"
      ],
      "text/plain": [
       "   respondentid date_completed interview_location interview_location_label  \\\n",
       "0          4273      9/30/2024              Term1               Terminal 1   \n",
       "1          4282      9/30/2024              Term1               Terminal 1   \n",
       "2          4283      9/30/2024              Term1               Terminal 1   \n",
       "3          4286      9/30/2024              Term1               Terminal 1   \n",
       "4          4290      9/30/2024              Term1               Terminal 1   \n",
       "\n",
       "  interview_location_other inbound_or_outbound inbound_or_outbound_label  \\\n",
       "0                      NaN                 OUT                  OUTBOUND   \n",
       "1                      NaN                  IN                   INBOUND   \n",
       "2                      NaN                  IN                   INBOUND   \n",
       "3                      NaN                  IN                   INBOUND   \n",
       "4                      NaN                  IN                   INBOUND   \n",
       "\n",
       "   marketsegment marketsegment_label is_qualified_age  ...  \\\n",
       "0              1       Air passenger              YES  ...   \n",
       "1              1       Air passenger              YES  ...   \n",
       "2              1       Air passenger              YES  ...   \n",
       "3              1       Air passenger              YES  ...   \n",
       "4              1       Air passenger              YES  ...   \n",
       "\n",
       "   is_income_below_poverty_label number_workers  number_workers_label  \\\n",
       "0                            NaN              2               TWO (2)   \n",
       "1                            NaN              6               SIX (6)   \n",
       "2                            NaN              0              NONE (0)   \n",
       "3                            NaN              2               TWO (2)   \n",
       "4                             No              0              NONE (0)   \n",
       "\n",
       "  sp_invitation  sp_invitation_label stay_informed  stay_informed_label  \\\n",
       "0           2.0                   No           0.0                   NO   \n",
       "1           1.0                  Yes           NaN                  NaN   \n",
       "2           2.0                   No           0.0                   NO   \n",
       "3           1.0                  Yes           NaN                  NaN   \n",
       "4           2.0                   No           0.0                   NO   \n",
       "\n",
       "  survey_language  survey_language_label survey_language_other  \n",
       "0         ENGLISH                ENGLISH                   NaN  \n",
       "1           SPANI                SPANISH                   NaN  \n",
       "2         ENGLISH                ENGLISH                   NaN  \n",
       "3         ENGLISH                ENGLISH                   NaN  \n",
       "4         ENGLISH                ENGLISH                   NaN  \n",
       "\n",
       "[5 rows x 314 columns]"
      ]
     },
     "execution_count": 86,
     "metadata": {},
     "output_type": "execute_result"
    }
   ],
   "source": [
    "clean_df.head()"
   ]
  },
  {
   "cell_type": "code",
   "execution_count": 87,
   "metadata": {},
   "outputs": [
    {
     "data": {
      "text/plain": [
       "(3597, 314)"
      ]
     },
     "execution_count": 87,
     "metadata": {},
     "output_type": "execute_result"
    }
   ],
   "source": [
    "#Remove duplicate respondentid\n",
    "clean_df = clean_df.drop_duplicates(subset='respondentid', keep='first')\n",
    "clean_df.reset_index(drop=True, inplace=True)\n",
    "clean_df.shape"
   ]
  },
  {
   "cell_type": "code",
   "execution_count": 88,
   "metadata": {},
   "outputs": [
    {
     "data": {
      "text/plain": [
       "['interview_location',\n",
       " 'flight_purpose',\n",
       " 'shift_start_airport_building',\n",
       " 'employer',\n",
       " 'occupation',\n",
       " 'origin_activity_type',\n",
       " 'main_mode',\n",
       " 'access_mode',\n",
       " 'parking_location',\n",
       " 'parking_cost_frequency',\n",
       " 'car_available',\n",
       " 'reverse_mode_predicted',\n",
       " 'reverse_commute_mode',\n",
       " 'same_commute_mode',\n",
       " 'gender']"
      ]
     },
     "execution_count": 88,
     "metadata": {},
     "output_type": "execute_result"
    }
   ],
   "source": [
    "cols_with_oth = [col for col in clean_df.columns if '-oth-' in clean_df[col].values]\n",
    "cols_with_oth"
   ]
  },
  {
   "cell_type": "code",
   "execution_count": 89,
   "metadata": {},
   "outputs": [
    {
     "data": {
      "text/plain": [
       "['flight_purpose',\n",
       " 'shift_start_airport_building',\n",
       " 'employer',\n",
       " 'occupation',\n",
       " 'origin_activity_type',\n",
       " 'access_mode',\n",
       " 'parking_location',\n",
       " 'parking_cost_frequency',\n",
       " 'car_available',\n",
       " 'reverse_mode_predicted',\n",
       " 'same_commute_mode',\n",
       " 'gender']"
      ]
     },
     "execution_count": 89,
     "metadata": {},
     "output_type": "execute_result"
    }
   ],
   "source": [
    "cols_with_oth_and_98 = [col for col in clean_df[cols_with_oth] if 98 in clean_df[col].values]\n",
    "cols_with_oth_and_98"
   ]
  },
  {
   "cell_type": "code",
   "execution_count": 90,
   "metadata": {},
   "outputs": [],
   "source": [
    "def replace_oth_with_98(df):\n",
    "    # Iterate over each mode column\n",
    "    for col in df.columns:\n",
    "        # Replace '-oth-' with 98\n",
    "        df[col] = df[col].replace('-oth-', 98)\n",
    "\n",
    "    return df"
   ]
  },
  {
   "cell_type": "code",
   "execution_count": 91,
   "metadata": {},
   "outputs": [
    {
     "name": "stderr",
     "output_type": "stream",
     "text": [
      "C:\\Users\\mwe\\AppData\\Local\\Temp\\ipykernel_7828\\2609714508.py:5: FutureWarning: Downcasting behavior in `replace` is deprecated and will be removed in a future version. To retain the old behavior, explicitly call `result.infer_objects(copy=False)`. To opt-in to the future behavior, set `pd.set_option('future.no_silent_downcasting', True)`\n",
      "  df[col] = df[col].replace('-oth-', 98)\n"
     ]
    }
   ],
   "source": [
    "clean_df = replace_oth_with_98(clean_df)"
   ]
  },
  {
   "cell_type": "markdown",
   "metadata": {},
   "source": [
    "### Mode summarization starts here"
   ]
  },
  {
   "cell_type": "code",
   "execution_count": 92,
   "metadata": {},
   "outputs": [
    {
     "name": "stdout",
     "output_type": "stream",
     "text": [
      "['main_transit_mode', 'main_transit_mode_label', 'main_mode', 'main_mode_label', 'access_mode', 'access_mode_label', 'egress_mode', 'egress_mode_label', 'access_mode_frequency', 'access_mode_frequency_label', 'reverse_mode', 'reverse_mode_label', 'reverse_mode_predicted', 'reverse_mode_predicted_label', 'other_airport_accessmode', 'other_airport_accessmode_label', 'reverse_commute_mode', 'reverse_commute_mode_label']\n"
     ]
    }
   ],
   "source": [
    "#Select columns relevant to mode\n",
    "exclude_substrings = ('general', 'alt', 'split', 'same', 'sdia', '_other')\n",
    "mode_columns = [col for col in clean_df.columns if 'mode' in col and all(sub not in col for sub in exclude_substrings)]\n",
    "print(mode_columns)"
   ]
  },
  {
   "cell_type": "code",
   "execution_count": 93,
   "metadata": {},
   "outputs": [
    {
     "data": {
      "text/plain": [
       "['main_transit_mode',\n",
       " 'main_mode',\n",
       " 'access_mode',\n",
       " 'egress_mode',\n",
       " 'access_mode_frequency',\n",
       " 'reverse_mode',\n",
       " 'reverse_mode_predicted',\n",
       " 'other_airport_accessmode',\n",
       " 'reverse_commute_mode']"
      ]
     },
     "execution_count": 93,
     "metadata": {},
     "output_type": "execute_result"
    }
   ],
   "source": [
    "mode_code_columns = [col for col in mode_columns if 'label' not in col]\n",
    "mode_code_columns"
   ]
  },
  {
   "cell_type": "code",
   "execution_count": 94,
   "metadata": {},
   "outputs": [
    {
     "data": {
      "text/plain": [
       "['main_transit_mode_label',\n",
       " 'main_mode_label',\n",
       " 'access_mode_label',\n",
       " 'egress_mode_label',\n",
       " 'access_mode_frequency_label',\n",
       " 'reverse_mode_label',\n",
       " 'reverse_mode_predicted_label',\n",
       " 'other_airport_accessmode_label',\n",
       " 'reverse_commute_mode_label']"
      ]
     },
     "execution_count": 94,
     "metadata": {},
     "output_type": "execute_result"
    }
   ],
   "source": [
    "mode_label_columns = [col for col in mode_columns if 'label' in col]\n",
    "mode_label_columns"
   ]
  },
  {
   "cell_type": "code",
   "execution_count": 95,
   "metadata": {},
   "outputs": [
    {
     "name": "stdout",
     "output_type": "stream",
     "text": [
      "                                     main_transit_mode  \\\n",
      "3                                               3283.0   \n",
      "SDA_1_FLYER                                      186.0   \n",
      "MTS_1_992                                        128.0   \n",
      "None of the above                                  NaN   \n",
      "Airport flyer shuttle                              NaN   \n",
      "...                                                ...   \n",
      "PERSONAL NON ELECTRIC BICYCLE                      NaN   \n",
      "OTHER SHARED RIDE VAN SERVICE                      NaN   \n",
      "RODE WITH OTHER TRAVELER AND PARKED                NaN   \n",
      "ELECTRIC BIKESHARE                                 NaN   \n",
      "EMPLOYEE SHUTTLE                                   NaN   \n",
      "\n",
      "                                     main_transit_mode_label  main_mode  \\\n",
      "3                                                        NaN        NaN   \n",
      "SDA_1_FLYER                                              NaN        NaN   \n",
      "MTS_1_992                                                NaN        NaN   \n",
      "None of the above                                     3283.0        NaN   \n",
      "Airport flyer shuttle                                  186.0        NaN   \n",
      "...                                                      ...        ...   \n",
      "PERSONAL NON ELECTRIC BICYCLE                            NaN        NaN   \n",
      "OTHER SHARED RIDE VAN SERVICE                            NaN        NaN   \n",
      "RODE WITH OTHER TRAVELER AND PARKED                      NaN        NaN   \n",
      "ELECTRIC BIKESHARE                                       NaN        NaN   \n",
      "EMPLOYEE SHUTTLE                                         NaN        NaN   \n",
      "\n",
      "                                     main_mode_label  access_mode  \\\n",
      "3                                                NaN          NaN   \n",
      "SDA_1_FLYER                                      NaN          NaN   \n",
      "MTS_1_992                                        NaN          NaN   \n",
      "None of the above                                NaN          NaN   \n",
      "Airport flyer shuttle                            NaN          NaN   \n",
      "...                                              ...          ...   \n",
      "PERSONAL NON ELECTRIC BICYCLE                    NaN          NaN   \n",
      "OTHER SHARED RIDE VAN SERVICE                    NaN          NaN   \n",
      "RODE WITH OTHER TRAVELER AND PARKED              NaN          NaN   \n",
      "ELECTRIC BIKESHARE                               NaN          NaN   \n",
      "EMPLOYEE SHUTTLE                                 NaN          NaN   \n",
      "\n",
      "                                     access_mode_label  egress_mode  \\\n",
      "3                                                  NaN          NaN   \n",
      "SDA_1_FLYER                                        NaN          NaN   \n",
      "MTS_1_992                                          NaN          NaN   \n",
      "None of the above                                  NaN          NaN   \n",
      "Airport flyer shuttle                              NaN          NaN   \n",
      "...                                                ...          ...   \n",
      "PERSONAL NON ELECTRIC BICYCLE                      NaN          NaN   \n",
      "OTHER SHARED RIDE VAN SERVICE                      NaN          NaN   \n",
      "RODE WITH OTHER TRAVELER AND PARKED                NaN          NaN   \n",
      "ELECTRIC BIKESHARE                                 NaN          NaN   \n",
      "EMPLOYEE SHUTTLE                                   NaN          NaN   \n",
      "\n",
      "                                     egress_mode_label  access_mode_frequency  \\\n",
      "3                                                  NaN                  102.0   \n",
      "SDA_1_FLYER                                        NaN                    NaN   \n",
      "MTS_1_992                                          NaN                    NaN   \n",
      "None of the above                                  NaN                    NaN   \n",
      "Airport flyer shuttle                              NaN                    NaN   \n",
      "...                                                ...                    ...   \n",
      "PERSONAL NON ELECTRIC BICYCLE                      NaN                    NaN   \n",
      "OTHER SHARED RIDE VAN SERVICE                      NaN                    NaN   \n",
      "RODE WITH OTHER TRAVELER AND PARKED                NaN                    NaN   \n",
      "ELECTRIC BIKESHARE                                 NaN                    NaN   \n",
      "EMPLOYEE SHUTTLE                                   NaN                    NaN   \n",
      "\n",
      "                                     access_mode_frequency_label  \\\n",
      "3                                                            NaN   \n",
      "SDA_1_FLYER                                                  NaN   \n",
      "MTS_1_992                                                    NaN   \n",
      "None of the above                                            NaN   \n",
      "Airport flyer shuttle                                        NaN   \n",
      "...                                                          ...   \n",
      "PERSONAL NON ELECTRIC BICYCLE                                NaN   \n",
      "OTHER SHARED RIDE VAN SERVICE                                NaN   \n",
      "RODE WITH OTHER TRAVELER AND PARKED                          NaN   \n",
      "ELECTRIC BIKESHARE                                           NaN   \n",
      "EMPLOYEE SHUTTLE                                             NaN   \n",
      "\n",
      "                                     reverse_mode  reverse_mode_label  \\\n",
      "3                                             NaN                 NaN   \n",
      "SDA_1_FLYER                                   NaN                 NaN   \n",
      "MTS_1_992                                     NaN                 NaN   \n",
      "None of the above                             NaN                 NaN   \n",
      "Airport flyer shuttle                         NaN                27.0   \n",
      "...                                           ...                 ...   \n",
      "PERSONAL NON ELECTRIC BICYCLE                 NaN                 NaN   \n",
      "OTHER SHARED RIDE VAN SERVICE                 NaN                 NaN   \n",
      "RODE WITH OTHER TRAVELER AND PARKED           NaN                 NaN   \n",
      "ELECTRIC BIKESHARE                            NaN                 NaN   \n",
      "EMPLOYEE SHUTTLE                              NaN                 NaN   \n",
      "\n",
      "                                     reverse_mode_predicted  \\\n",
      "3                                                       2.0   \n",
      "SDA_1_FLYER                                             NaN   \n",
      "MTS_1_992                                               NaN   \n",
      "None of the above                                       NaN   \n",
      "Airport flyer shuttle                                   NaN   \n",
      "...                                                     ...   \n",
      "PERSONAL NON ELECTRIC BICYCLE                           NaN   \n",
      "OTHER SHARED RIDE VAN SERVICE                           NaN   \n",
      "RODE WITH OTHER TRAVELER AND PARKED                     NaN   \n",
      "ELECTRIC BIKESHARE                                      NaN   \n",
      "EMPLOYEE SHUTTLE                                        NaN   \n",
      "\n",
      "                                     reverse_mode_predicted_label  \\\n",
      "3                                                             NaN   \n",
      "SDA_1_FLYER                                                   NaN   \n",
      "MTS_1_992                                                     NaN   \n",
      "None of the above                                             NaN   \n",
      "Airport flyer shuttle                                        17.0   \n",
      "...                                                           ...   \n",
      "PERSONAL NON ELECTRIC BICYCLE                                 NaN   \n",
      "OTHER SHARED RIDE VAN SERVICE                                 NaN   \n",
      "RODE WITH OTHER TRAVELER AND PARKED                           NaN   \n",
      "ELECTRIC BIKESHARE                                            NaN   \n",
      "EMPLOYEE SHUTTLE                                              NaN   \n",
      "\n",
      "                                     other_airport_accessmode  \\\n",
      "3                                                         1.0   \n",
      "SDA_1_FLYER                                               NaN   \n",
      "MTS_1_992                                                 NaN   \n",
      "None of the above                                         NaN   \n",
      "Airport flyer shuttle                                     NaN   \n",
      "...                                                       ...   \n",
      "PERSONAL NON ELECTRIC BICYCLE                             NaN   \n",
      "OTHER SHARED RIDE VAN SERVICE                             NaN   \n",
      "RODE WITH OTHER TRAVELER AND PARKED                       NaN   \n",
      "ELECTRIC BIKESHARE                                        NaN   \n",
      "EMPLOYEE SHUTTLE                                          NaN   \n",
      "\n",
      "                                     other_airport_accessmode_label  \\\n",
      "3                                                               NaN   \n",
      "SDA_1_FLYER                                                     NaN   \n",
      "MTS_1_992                                                       NaN   \n",
      "None of the above                                               NaN   \n",
      "Airport flyer shuttle                                           NaN   \n",
      "...                                                             ...   \n",
      "PERSONAL NON ELECTRIC BICYCLE                                   1.0   \n",
      "OTHER SHARED RIDE VAN SERVICE                                   1.0   \n",
      "RODE WITH OTHER TRAVELER AND PARKED                             1.0   \n",
      "ELECTRIC BIKESHARE                                              1.0   \n",
      "EMPLOYEE SHUTTLE                                                1.0   \n",
      "\n",
      "                                     reverse_commute_mode  \\\n",
      "3                                                     NaN   \n",
      "SDA_1_FLYER                                           NaN   \n",
      "MTS_1_992                                             NaN   \n",
      "None of the above                                     NaN   \n",
      "Airport flyer shuttle                                 NaN   \n",
      "...                                                   ...   \n",
      "PERSONAL NON ELECTRIC BICYCLE                         NaN   \n",
      "OTHER SHARED RIDE VAN SERVICE                         NaN   \n",
      "RODE WITH OTHER TRAVELER AND PARKED                   NaN   \n",
      "ELECTRIC BIKESHARE                                    NaN   \n",
      "EMPLOYEE SHUTTLE                                      NaN   \n",
      "\n",
      "                                     reverse_commute_mode_label  \n",
      "3                                                           NaN  \n",
      "SDA_1_FLYER                                                 NaN  \n",
      "MTS_1_992                                                   NaN  \n",
      "None of the above                                           NaN  \n",
      "Airport flyer shuttle                                       8.0  \n",
      "...                                                         ...  \n",
      "PERSONAL NON ELECTRIC BICYCLE                               NaN  \n",
      "OTHER SHARED RIDE VAN SERVICE                               NaN  \n",
      "RODE WITH OTHER TRAVELER AND PARKED                         NaN  \n",
      "ELECTRIC BIKESHARE                                          NaN  \n",
      "EMPLOYEE SHUTTLE                                            NaN  \n",
      "\n",
      "[88 rows x 18 columns]\n"
     ]
    }
   ],
   "source": [
    "value_counts_df = pd.concat([clean_df[col].value_counts().rename(col) for col in mode_columns], axis=1)\n",
    "\n",
    "print(value_counts_df)"
   ]
  },
  {
   "cell_type": "code",
   "execution_count": 96,
   "metadata": {},
   "outputs": [
    {
     "data": {
      "application/vnd.microsoft.datawrangler.viewer.v0+json": {
       "columns": [
        {
         "name": "main_mode",
         "rawType": "float64",
         "type": "float"
        },
        {
         "name": "count",
         "rawType": "int64",
         "type": "integer"
        }
       ],
       "ref": "c739c8f0-f732-47dd-a072-80d1791618e5",
       "rows": [
        [
         "12.0",
         "1121"
        ],
        [
         "10.0",
         "1074"
        ],
        [
         "19.0",
         "354"
        ],
        [
         "13.0",
         "195"
        ],
        [
         "21.0",
         "89"
        ],
        [
         "20.0",
         "82"
        ],
        [
         "9.0",
         "77"
        ],
        [
         "14.0",
         "63"
        ],
        [
         "27.0",
         "45"
        ],
        [
         "11.0",
         "40"
        ],
        [
         "22.0",
         "24"
        ],
        [
         "23.0",
         "22"
        ],
        [
         "30.0",
         "18"
        ],
        [
         "18.0",
         "17"
        ],
        [
         "17.0",
         "14"
        ],
        [
         "98.0",
         "13"
        ],
        [
         "1.0",
         "10"
        ],
        [
         "24.0",
         "8"
        ],
        [
         "28.0",
         "6"
        ],
        [
         "29.0",
         "6"
        ],
        [
         "25.0",
         "3"
        ],
        [
         "16.0",
         "1"
        ],
        [
         "26.0",
         "1"
        ]
       ],
       "shape": {
        "columns": 1,
        "rows": 23
       }
      },
      "text/plain": [
       "main_mode\n",
       "12.0    1121\n",
       "10.0    1074\n",
       "19.0     354\n",
       "13.0     195\n",
       "21.0      89\n",
       "20.0      82\n",
       "9.0       77\n",
       "14.0      63\n",
       "27.0      45\n",
       "11.0      40\n",
       "22.0      24\n",
       "23.0      22\n",
       "30.0      18\n",
       "18.0      17\n",
       "17.0      14\n",
       "98.0      13\n",
       "1.0       10\n",
       "24.0       8\n",
       "28.0       6\n",
       "29.0       6\n",
       "25.0       3\n",
       "16.0       1\n",
       "26.0       1\n",
       "Name: count, dtype: int64"
      ]
     },
     "execution_count": 96,
     "metadata": {},
     "output_type": "execute_result"
    }
   ],
   "source": [
    "clean_df['main_mode'].value_counts()"
   ]
  },
  {
   "cell_type": "code",
   "execution_count": 97,
   "metadata": {},
   "outputs": [
    {
     "data": {
      "application/vnd.microsoft.datawrangler.viewer.v0+json": {
       "columns": [
        {
         "name": "main_mode_label",
         "rawType": "object",
         "type": "string"
        },
        {
         "name": "count",
         "rawType": "int64",
         "type": "integer"
        }
       ],
       "ref": "9ee8c253-5fb3-4b30-82f0-a3bfd11c8b3a",
       "rows": [
        [
         "Dropped off by car by family/friend",
         "1121"
        ],
        [
         "Uber/Lyft",
         "1074"
        ],
        [
         "Rental car: Dropped off at rental agency",
         "354"
        ],
        [
         "Drove alone and parked",
         "195"
        ],
        [
         "Hotel shuttle van",
         "89"
        ],
        [
         "Rental car: parked rental car",
         "82"
        ],
        [
         "Taxi",
         "77"
        ],
        [
         "Drove with others and parked",
         "63"
        ],
        [
         "Rental car: Picked up at rental agency",
         "45"
        ],
        [
         "Car service/black car/limo/executive car",
         "40"
        ],
        [
         "Other shared van (please specify)",
         "24"
        ],
        [
         "Picked up by car by family/friend",
         "22"
        ],
        [
         "Other public transit",
         "18"
        ],
        [
         "Employee shuttle",
         "17"
        ],
        [
         "Chartered tour bus",
         "14"
        ],
        [
         "Other",
         "13"
        ],
        [
         "Walk",
         "10"
        ],
        [
         "Get in a parked vehicle and drive alone",
         "8"
        ],
        [
         "Rental car: get in a parked rental car",
         "6"
        ],
        [
         "Rode with other traveler(s) and parked",
         "6"
        ],
        [
         "Get in a parked vehicle and drive with others",
         "3"
        ],
        [
         "Get in a parked vehicle and ride with other traveler(s)",
         "1"
        ]
       ],
       "shape": {
        "columns": 1,
        "rows": 22
       }
      },
      "text/plain": [
       "main_mode_label\n",
       "Dropped off by car by family/friend                        1121\n",
       "Uber/Lyft                                                  1074\n",
       "Rental car: Dropped off at rental agency                    354\n",
       "Drove alone and parked                                      195\n",
       "Hotel shuttle van                                            89\n",
       "Rental car: parked rental car                                82\n",
       "Taxi                                                         77\n",
       "Drove with others and parked                                 63\n",
       "Rental car: Picked up at rental agency                       45\n",
       "Car service/black car/limo/executive car                     40\n",
       "Other shared van (please specify)                            24\n",
       "Picked up by car by family/friend                            22\n",
       "Other public transit                                         18\n",
       "Employee shuttle                                             17\n",
       "Chartered tour bus                                           14\n",
       "Other                                                        13\n",
       "Walk                                                         10\n",
       "Get in a parked vehicle and drive alone                       8\n",
       "Rental car: get in a parked rental car                        6\n",
       "Rode with other traveler(s) and parked                        6\n",
       "Get in a parked vehicle and drive with others                 3\n",
       "Get in a parked vehicle and ride with other traveler(s)       1\n",
       "Name: count, dtype: int64"
      ]
     },
     "execution_count": 97,
     "metadata": {},
     "output_type": "execute_result"
    }
   ],
   "source": [
    "clean_df['main_mode_label'].value_counts()"
   ]
  },
  {
   "cell_type": "code",
   "execution_count": 98,
   "metadata": {},
   "outputs": [
    {
     "data": {
      "application/vnd.microsoft.datawrangler.viewer.v0+json": {
       "columns": [
        {
         "name": "main_transit_mode",
         "rawType": "object",
         "type": "unknown"
        },
        {
         "name": "count",
         "rawType": "int64",
         "type": "integer"
        }
       ],
       "ref": "1002743f-c66d-4619-a05e-82317138fcbc",
       "rows": [
        [
         "3",
         "3283"
        ],
        [
         "SDA_1_FLYER",
         "186"
        ],
        [
         "MTS_1_992",
         "128"
        ]
       ],
       "shape": {
        "columns": 1,
        "rows": 3
       }
      },
      "text/plain": [
       "main_transit_mode\n",
       "3              3283\n",
       "SDA_1_FLYER     186\n",
       "MTS_1_992       128\n",
       "Name: count, dtype: int64"
      ]
     },
     "execution_count": 98,
     "metadata": {},
     "output_type": "execute_result"
    }
   ],
   "source": [
    "clean_df['main_transit_mode'].value_counts()"
   ]
  },
  {
   "cell_type": "code",
   "execution_count": 99,
   "metadata": {},
   "outputs": [
    {
     "data": {
      "application/vnd.microsoft.datawrangler.viewer.v0+json": {
       "columns": [
        {
         "name": "main_transit_mode_label",
         "rawType": "object",
         "type": "string"
        },
        {
         "name": "count",
         "rawType": "int64",
         "type": "integer"
        }
       ],
       "ref": "f1854eb2-174a-4d48-9988-341947ad4694",
       "rows": [
        [
         "None of the above",
         "3283"
        ],
        [
         "Airport flyer shuttle",
         "186"
        ],
        [
         "MTS Route 992",
         "128"
        ]
       ],
       "shape": {
        "columns": 1,
        "rows": 3
       }
      },
      "text/plain": [
       "main_transit_mode_label\n",
       "None of the above        3283\n",
       "Airport flyer shuttle     186\n",
       "MTS Route 992             128\n",
       "Name: count, dtype: int64"
      ]
     },
     "execution_count": 99,
     "metadata": {},
     "output_type": "execute_result"
    }
   ],
   "source": [
    "clean_df['main_transit_mode_label'].value_counts()"
   ]
  },
  {
   "cell_type": "code",
   "execution_count": 100,
   "metadata": {},
   "outputs": [],
   "source": [
    "clean_df['date_completed'] = pd.to_datetime(clean_df['date_completed'])"
   ]
  },
  {
   "cell_type": "code",
   "execution_count": 101,
   "metadata": {},
   "outputs": [
    {
     "data": {
      "text/plain": [
       "<DatetimeArray>\n",
       "['2024-09-30 00:00:00', '2024-10-01 00:00:00', '2024-10-02 00:00:00',\n",
       " '2024-10-03 00:00:00', '2024-10-04 00:00:00', '2024-10-05 00:00:00',\n",
       " '2024-10-06 00:00:00', '2024-10-07 00:00:00', '2024-10-08 00:00:00',\n",
       " '2024-10-09 00:00:00', '2024-10-10 00:00:00', '2024-10-11 00:00:00',\n",
       " '2024-10-12 00:00:00', '2024-10-13 00:00:00', '2024-10-14 00:00:00']\n",
       "Length: 15, dtype: datetime64[ns]"
      ]
     },
     "execution_count": 101,
     "metadata": {},
     "output_type": "execute_result"
    }
   ],
   "source": [
    "unique_dates = clean_df['date_completed'].unique()\n",
    "unique_dates"
   ]
  },
  {
   "cell_type": "code",
   "execution_count": 102,
   "metadata": {},
   "outputs": [],
   "source": [
    "import pandas as pd\n",
    "\n",
    "def get_value_counts_with_labels(df, mode_columns, label_columns):\n",
    "    # Create an empty list to store the result\n",
    "    result = []\n",
    "\n",
    "    # Iterate over each pair of code and label columns\n",
    "    for col, label_col in zip(mode_columns, label_columns):\n",
    "        # Get value counts for the code column\n",
    "        counts = df[col].value_counts().reset_index()\n",
    "        counts['share'] = counts['count']/np.sum(counts['count'])\n",
    "\n",
    "        # Get value counts for the label column\n",
    "        label_counts = df[label_col].value_counts().reset_index()\n",
    "        label_counts['share'] = label_counts['count']/np.sum(label_counts['count'])\n",
    "\n",
    "        # Rename columns to 'value' and 'count'\n",
    "        counts.columns = ['value', 'count', 'count_share']\n",
    "        label_counts.columns = ['label_value', 'label_count', 'label_share']\n",
    "\n",
    "        # Merge both DataFrames side by side (assuming they match by index)\n",
    "        merged = pd.concat([counts, label_counts], axis=1)\n",
    "\n",
    "        # Add a column for the column name (code column)\n",
    "        merged['column'] = col\n",
    "\n",
    "        # Append the result to the list\n",
    "        result.append(merged)\n",
    "\n",
    "    # Concatenate all the DataFrames in the list into a single DataFrame\n",
    "    final_df = pd.concat(result, ignore_index=True)\n",
    "\n",
    "    # Reorder columns to have 'column', 'value', 'count', 'label_value', 'label_count'\n",
    "    final_df = final_df[['column', 'value', 'label_value', 'count', 'count_share', 'label_count', 'label_share']]\n",
    "\n",
    "    return final_df\n"
   ]
  },
  {
   "cell_type": "code",
   "execution_count": 103,
   "metadata": {},
   "outputs": [
    {
     "name": "stdout",
     "output_type": "stream",
     "text": [
      "                   column        value  \\\n",
      "0       main_transit_mode            3   \n",
      "1       main_transit_mode  SDA_1_FLYER   \n",
      "2       main_transit_mode    MTS_1_992   \n",
      "3               main_mode         12.0   \n",
      "4               main_mode         10.0   \n",
      "..                    ...          ...   \n",
      "111  reverse_commute_mode         15.0   \n",
      "112  reverse_commute_mode         18.0   \n",
      "113  reverse_commute_mode         11.0   \n",
      "114  reverse_commute_mode         98.0   \n",
      "115  reverse_commute_mode          9.0   \n",
      "\n",
      "                                           label_value  count  count_share  \\\n",
      "0                                    None of the above   3283     0.912705   \n",
      "1                                Airport flyer shuttle    186     0.051710   \n",
      "2                                        MTS Route 992    128     0.035585   \n",
      "3                  Dropped off by car by family/friend   1121     0.341456   \n",
      "4                                            Uber/Lyft   1074     0.327140   \n",
      "..                                                 ...    ...          ...   \n",
      "111  Get in a parked vehicle and ride with other tr...      4     0.014815   \n",
      "112                               Other public transit      3     0.011111   \n",
      "113           Car service/black car/limo/executive car      1     0.003704   \n",
      "114                                              Other      1     0.003704   \n",
      "115                                               Taxi      1     0.003704   \n",
      "\n",
      "     label_count  label_share  \n",
      "0         3283.0     0.912705  \n",
      "1          186.0     0.051710  \n",
      "2          128.0     0.035585  \n",
      "3         1121.0     0.341560  \n",
      "4         1074.0     0.327239  \n",
      "..           ...          ...  \n",
      "111          4.0     0.014815  \n",
      "112          3.0     0.011111  \n",
      "113          1.0     0.003704  \n",
      "114          1.0     0.003704  \n",
      "115          1.0     0.003704  \n",
      "\n",
      "[116 rows x 7 columns]\n"
     ]
    }
   ],
   "source": [
    "value_counts_df = get_value_counts_with_labels(clean_df, mode_code_columns, mode_label_columns)\n",
    "print(value_counts_df)"
   ]
  },
  {
   "cell_type": "code",
   "execution_count": 104,
   "metadata": {},
   "outputs": [
    {
     "data": {
      "application/vnd.microsoft.datawrangler.viewer.v0+json": {
       "columns": [
        {
         "name": "index",
         "rawType": "int64",
         "type": "integer"
        },
        {
         "name": "date_completed",
         "rawType": "datetime64[ns]",
         "type": "datetime"
        }
       ],
       "ref": "d5211b78-0929-4ff4-890c-fd5c2bda6221",
       "rows": [
        [
         "0",
         "2024-09-30 00:00:00"
        ],
        [
         "1",
         "2024-09-30 00:00:00"
        ],
        [
         "2",
         "2024-09-30 00:00:00"
        ],
        [
         "3",
         "2024-09-30 00:00:00"
        ],
        [
         "4",
         "2024-09-30 00:00:00"
        ],
        [
         "5",
         "2024-09-30 00:00:00"
        ],
        [
         "6",
         "2024-09-30 00:00:00"
        ],
        [
         "7",
         "2024-09-30 00:00:00"
        ],
        [
         "8",
         "2024-09-30 00:00:00"
        ],
        [
         "9",
         "2024-09-30 00:00:00"
        ],
        [
         "10",
         "2024-09-30 00:00:00"
        ],
        [
         "11",
         "2024-09-30 00:00:00"
        ],
        [
         "12",
         "2024-09-30 00:00:00"
        ],
        [
         "13",
         "2024-09-30 00:00:00"
        ],
        [
         "14",
         "2024-09-30 00:00:00"
        ],
        [
         "15",
         "2024-09-30 00:00:00"
        ],
        [
         "16",
         "2024-09-30 00:00:00"
        ],
        [
         "17",
         "2024-09-30 00:00:00"
        ],
        [
         "18",
         "2024-09-30 00:00:00"
        ],
        [
         "19",
         "2024-09-30 00:00:00"
        ],
        [
         "20",
         "2024-09-30 00:00:00"
        ],
        [
         "21",
         "2024-09-30 00:00:00"
        ],
        [
         "22",
         "2024-09-30 00:00:00"
        ],
        [
         "23",
         "2024-09-30 00:00:00"
        ],
        [
         "24",
         "2024-09-30 00:00:00"
        ],
        [
         "25",
         "2024-09-30 00:00:00"
        ],
        [
         "26",
         "2024-09-30 00:00:00"
        ],
        [
         "27",
         "2024-09-30 00:00:00"
        ],
        [
         "28",
         "2024-09-30 00:00:00"
        ],
        [
         "29",
         "2024-09-30 00:00:00"
        ],
        [
         "30",
         "2024-09-30 00:00:00"
        ],
        [
         "31",
         "2024-09-30 00:00:00"
        ],
        [
         "32",
         "2024-09-30 00:00:00"
        ],
        [
         "33",
         "2024-09-30 00:00:00"
        ],
        [
         "34",
         "2024-09-30 00:00:00"
        ],
        [
         "35",
         "2024-09-30 00:00:00"
        ],
        [
         "36",
         "2024-09-30 00:00:00"
        ],
        [
         "37",
         "2024-09-30 00:00:00"
        ],
        [
         "38",
         "2024-09-30 00:00:00"
        ],
        [
         "39",
         "2024-09-30 00:00:00"
        ],
        [
         "40",
         "2024-09-30 00:00:00"
        ],
        [
         "41",
         "2024-09-30 00:00:00"
        ],
        [
         "42",
         "2024-09-30 00:00:00"
        ],
        [
         "43",
         "2024-09-30 00:00:00"
        ],
        [
         "44",
         "2024-09-30 00:00:00"
        ],
        [
         "45",
         "2024-09-30 00:00:00"
        ],
        [
         "46",
         "2024-09-30 00:00:00"
        ],
        [
         "47",
         "2024-09-30 00:00:00"
        ],
        [
         "48",
         "2024-09-30 00:00:00"
        ],
        [
         "49",
         "2024-09-30 00:00:00"
        ]
       ],
       "shape": {
        "columns": 1,
        "rows": 3597
       }
      },
      "text/plain": [
       "0      2024-09-30\n",
       "1      2024-09-30\n",
       "2      2024-09-30\n",
       "3      2024-09-30\n",
       "4      2024-09-30\n",
       "          ...    \n",
       "3592   2024-10-14\n",
       "3593   2024-10-14\n",
       "3594   2024-10-14\n",
       "3595   2024-10-14\n",
       "3596   2024-10-14\n",
       "Name: date_completed, Length: 3597, dtype: datetime64[ns]"
      ]
     },
     "execution_count": 104,
     "metadata": {},
     "output_type": "execute_result"
    }
   ],
   "source": [
    "clean_df['date_completed']"
   ]
  },
  {
   "cell_type": "code",
   "execution_count": 105,
   "metadata": {},
   "outputs": [],
   "source": [
    "value_counts_df.to_csv(output_file, index = False)"
   ]
  },
  {
   "cell_type": "code",
   "execution_count": 106,
   "metadata": {},
   "outputs": [
    {
     "data": {
      "application/vnd.microsoft.datawrangler.viewer.v0+json": {
       "columns": [
        {
         "name": "access_mode",
         "rawType": "float64",
         "type": "float"
        },
        {
         "name": "count",
         "rawType": "int64",
         "type": "integer"
        }
       ],
       "ref": "e77c3006-0e33-4de0-83ba-7a2b2589c1bf",
       "rows": [
        [
         "1.0",
         "114"
        ],
        [
         "13.0",
         "72"
        ],
        [
         "12.0",
         "38"
        ],
        [
         "10.0",
         "21"
        ],
        [
         "16.0",
         "15"
        ],
        [
         "98.0",
         "9"
        ],
        [
         "11.0",
         "8"
        ],
        [
         "14.0",
         "6"
        ],
        [
         "15.0",
         "3"
        ],
        [
         "9.0",
         "2"
        ]
       ],
       "shape": {
        "columns": 1,
        "rows": 10
       }
      },
      "text/plain": [
       "access_mode\n",
       "1.0     114\n",
       "13.0     72\n",
       "12.0     38\n",
       "10.0     21\n",
       "16.0     15\n",
       "98.0      9\n",
       "11.0      8\n",
       "14.0      6\n",
       "15.0      3\n",
       "9.0       2\n",
       "Name: count, dtype: int64"
      ]
     },
     "execution_count": 106,
     "metadata": {},
     "output_type": "execute_result"
    }
   ],
   "source": [
    "clean_df['access_mode'].value_counts()"
   ]
  },
  {
   "cell_type": "code",
   "execution_count": 107,
   "metadata": {},
   "outputs": [
    {
     "data": {
      "application/vnd.microsoft.datawrangler.viewer.v0+json": {
       "columns": [
        {
         "name": "access_mode_label",
         "rawType": "object",
         "type": "string"
        },
        {
         "name": "count",
         "rawType": "int64",
         "type": "integer"
        }
       ],
       "ref": "2e308586-e216-45c2-82ca-057dc0adeca9",
       "rows": [
        [
         "Walk",
         "114"
        ],
        [
         "Drove alone and parked",
         "72"
        ],
        [
         "Dropped off by car by family/friend",
         "38"
        ],
        [
         "Uber/Lyft",
         "21"
        ],
        [
         "Other public transit",
         "15"
        ],
        [
         "Other",
         "9"
        ],
        [
         "Car service/black car/limo/executive car",
         "8"
        ],
        [
         "Drove with others and parked",
         "6"
        ],
        [
         "Rode with other traveler(s) and parked",
         "3"
        ],
        [
         "Taxi",
         "2"
        ]
       ],
       "shape": {
        "columns": 1,
        "rows": 10
       }
      },
      "text/plain": [
       "access_mode_label\n",
       "Walk                                        114\n",
       "Drove alone and parked                       72\n",
       "Dropped off by car by family/friend          38\n",
       "Uber/Lyft                                    21\n",
       "Other public transit                         15\n",
       "Other                                         9\n",
       "Car service/black car/limo/executive car      8\n",
       "Drove with others and parked                  6\n",
       "Rode with other traveler(s) and parked        3\n",
       "Taxi                                          2\n",
       "Name: count, dtype: int64"
      ]
     },
     "execution_count": 107,
     "metadata": {},
     "output_type": "execute_result"
    }
   ],
   "source": [
    "clean_df['access_mode_label'].value_counts()"
   ]
  },
  {
   "cell_type": "code",
   "execution_count": 108,
   "metadata": {},
   "outputs": [
    {
     "data": {
      "application/vnd.microsoft.datawrangler.viewer.v0+json": {
       "columns": [
        {
         "name": "reverse_mode_predicted",
         "rawType": "float64",
         "type": "float"
        },
        {
         "name": "count",
         "rawType": "int64",
         "type": "integer"
        }
       ],
       "ref": "b769ba01-af65-449d-a715-9b6db3a62e0a",
       "rows": [
        [
         "12.0",
         "533"
        ],
        [
         "10.0",
         "370"
        ],
        [
         "13.0",
         "91"
        ],
        [
         "14.0",
         "49"
        ],
        [
         "11.0",
         "21"
        ],
        [
         "9.0",
         "18"
        ],
        [
         "17.0",
         "17"
        ],
        [
         "98.0",
         "15"
        ],
        [
         "16.0",
         "11"
        ],
        [
         "21.0",
         "11"
        ],
        [
         "18.0",
         "9"
        ],
        [
         "20.0",
         "7"
        ],
        [
         "15.0",
         "6"
        ],
        [
         "24.0",
         "6"
        ],
        [
         "1.0",
         "4"
        ],
        [
         "22.0",
         "3"
        ],
        [
         "23.0",
         "3"
        ],
        [
         "3.0",
         "2"
        ],
        [
         "4.0",
         "1"
        ],
        [
         "7.0",
         "1"
        ],
        [
         "2.0",
         "1"
        ]
       ],
       "shape": {
        "columns": 1,
        "rows": 21
       }
      },
      "text/plain": [
       "reverse_mode_predicted\n",
       "12.0    533\n",
       "10.0    370\n",
       "13.0     91\n",
       "14.0     49\n",
       "11.0     21\n",
       "9.0      18\n",
       "17.0     17\n",
       "98.0     15\n",
       "16.0     11\n",
       "21.0     11\n",
       "18.0      9\n",
       "20.0      7\n",
       "15.0      6\n",
       "24.0      6\n",
       "1.0       4\n",
       "22.0      3\n",
       "23.0      3\n",
       "3.0       2\n",
       "4.0       1\n",
       "7.0       1\n",
       "2.0       1\n",
       "Name: count, dtype: int64"
      ]
     },
     "execution_count": 108,
     "metadata": {},
     "output_type": "execute_result"
    }
   ],
   "source": [
    "clean_df['reverse_mode_predicted'].value_counts()"
   ]
  },
  {
   "cell_type": "code",
   "execution_count": 109,
   "metadata": {},
   "outputs": [
    {
     "data": {
      "application/vnd.microsoft.datawrangler.viewer.v0+json": {
       "columns": [
        {
         "name": "reverse_mode_predicted_label",
         "rawType": "object",
         "type": "string"
        },
        {
         "name": "count",
         "rawType": "int64",
         "type": "integer"
        }
       ],
       "ref": "59b86474-376d-495e-a2ec-ff6bfe17a5ed",
       "rows": [
        [
         "Dropped off by car by family/friend",
         "533"
        ],
        [
         "Uber/Lyft",
         "370"
        ],
        [
         "Drove alone and parked",
         "91"
        ],
        [
         "Drove with others and parked",
         "49"
        ],
        [
         "Car service/black car/limo/executive car",
         "21"
        ],
        [
         "Taxi",
         "18"
        ],
        [
         "Airport flyer shuttle",
         "17"
        ],
        [
         "Other",
         "15"
        ],
        [
         "MTS Route 992",
         "11"
        ],
        [
         "Rental car: Dropped off at rental agency",
         "11"
        ],
        [
         "Other public transit",
         "9"
        ],
        [
         "Employee shuttle",
         "7"
        ],
        [
         "Rode with other traveler(s) and parked",
         "6"
        ],
        [
         "Other shared van (please specify)",
         "6"
        ],
        [
         "Walk",
         "4"
        ],
        [
         "Rental car: parked rental car",
         "3"
        ],
        [
         "Hotel shuttle van",
         "3"
        ],
        [
         "Bicycle: electric bikeshare",
         "2"
        ],
        [
         "Bicycle: non-electric bikeshare",
         "1"
        ],
        [
         "Bicycle: personal non-electric bicycle",
         "1"
        ],
        [
         "Wheelchair or other mobility device",
         "1"
        ]
       ],
       "shape": {
        "columns": 1,
        "rows": 21
       }
      },
      "text/plain": [
       "reverse_mode_predicted_label\n",
       "Dropped off by car by family/friend         533\n",
       "Uber/Lyft                                   370\n",
       "Drove alone and parked                       91\n",
       "Drove with others and parked                 49\n",
       "Car service/black car/limo/executive car     21\n",
       "Taxi                                         18\n",
       "Airport flyer shuttle                        17\n",
       "Other                                        15\n",
       "MTS Route 992                                11\n",
       "Rental car: Dropped off at rental agency     11\n",
       "Other public transit                          9\n",
       "Employee shuttle                              7\n",
       "Rode with other traveler(s) and parked        6\n",
       "Other shared van (please specify)             6\n",
       "Walk                                          4\n",
       "Rental car: parked rental car                 3\n",
       "Hotel shuttle van                             3\n",
       "Bicycle: electric bikeshare                   2\n",
       "Bicycle: non-electric bikeshare               1\n",
       "Bicycle: personal non-electric bicycle        1\n",
       "Wheelchair or other mobility device           1\n",
       "Name: count, dtype: int64"
      ]
     },
     "execution_count": 109,
     "metadata": {},
     "output_type": "execute_result"
    }
   ],
   "source": [
    "clean_df['reverse_mode_predicted_label'].value_counts()"
   ]
  },
  {
   "cell_type": "code",
   "execution_count": 110,
   "metadata": {},
   "outputs": [],
   "source": [
    "#main_mode code = 16 label and code don't exist\n",
    "#access_mode, reverse_mode_predicted"
   ]
  },
  {
   "cell_type": "code",
   "execution_count": 111,
   "metadata": {},
   "outputs": [
    {
     "data": {
      "text/plain": [
       "<DatetimeArray>\n",
       "['2024-09-30 00:00:00', '2024-10-01 00:00:00', '2024-10-02 00:00:00',\n",
       " '2024-10-03 00:00:00', '2024-10-04 00:00:00', '2024-10-05 00:00:00',\n",
       " '2024-10-06 00:00:00', '2024-10-07 00:00:00', '2024-10-08 00:00:00',\n",
       " '2024-10-09 00:00:00', '2024-10-10 00:00:00', '2024-10-11 00:00:00',\n",
       " '2024-10-12 00:00:00', '2024-10-13 00:00:00', '2024-10-14 00:00:00']\n",
       "Length: 15, dtype: datetime64[ns]"
      ]
     },
     "execution_count": 111,
     "metadata": {},
     "output_type": "execute_result"
    }
   ],
   "source": [
    "unique_dates = clean_df['date_completed'].unique()\n",
    "unique_dates"
   ]
  },
  {
   "cell_type": "code",
   "execution_count": 112,
   "metadata": {},
   "outputs": [],
   "source": [
    "total_df = pd.DataFrame()\n",
    "for i in unique_dates:\n",
    "    df_by_date = clean_df[clean_df['date_completed'] == i]\n",
    "    value_counts_df = get_value_counts_with_labels(df_by_date, mode_code_columns, mode_label_columns)\n",
    "    value_counts_df['date'] = i\n",
    "    total_df = pd.concat([total_df,value_counts_df], ignore_index = True)\n"
   ]
  },
  {
   "cell_type": "code",
   "execution_count": 113,
   "metadata": {},
   "outputs": [
    {
     "data": {
      "application/vnd.microsoft.datawrangler.viewer.v0+json": {
       "columns": [
        {
         "name": "index",
         "rawType": "int64",
         "type": "integer"
        },
        {
         "name": "column",
         "rawType": "object",
         "type": "string"
        },
        {
         "name": "value",
         "rawType": "object",
         "type": "unknown"
        },
        {
         "name": "label_value",
         "rawType": "object",
         "type": "string"
        },
        {
         "name": "count",
         "rawType": "int64",
         "type": "integer"
        },
        {
         "name": "count_share",
         "rawType": "float64",
         "type": "float"
        },
        {
         "name": "label_count",
         "rawType": "float64",
         "type": "float"
        },
        {
         "name": "label_share",
         "rawType": "float64",
         "type": "float"
        },
        {
         "name": "date",
         "rawType": "datetime64[ns]",
         "type": "datetime"
        }
       ],
       "ref": "8f376529-b9c9-41ce-b05a-46e43c0f183a",
       "rows": [
        [
         "0",
         "main_transit_mode",
         "3",
         "None of the above",
         "117",
         "0.975",
         "117.0",
         "0.975",
         "2024-09-30 00:00:00"
        ],
        [
         "1",
         "main_transit_mode",
         "SDA_1_FLYER",
         "Airport flyer shuttle",
         "3",
         "0.025",
         "3.0",
         "0.025",
         "2024-09-30 00:00:00"
        ],
        [
         "2",
         "main_mode",
         "12.0",
         "Dropped off by car by family/friend",
         "35",
         "0.29914529914529914",
         "35.0",
         "0.3017241379310345",
         "2024-09-30 00:00:00"
        ],
        [
         "3",
         "main_mode",
         "10.0",
         "Uber/Lyft",
         "30",
         "0.2564102564102564",
         "30.0",
         "0.25862068965517243",
         "2024-09-30 00:00:00"
        ],
        [
         "4",
         "main_mode",
         "19.0",
         "Rental car: Dropped off at rental agency",
         "19",
         "0.1623931623931624",
         "19.0",
         "0.16379310344827586",
         "2024-09-30 00:00:00"
        ]
       ],
       "shape": {
        "columns": 8,
        "rows": 5
       }
      },
      "text/html": [
       "<div>\n",
       "<style scoped>\n",
       "    .dataframe tbody tr th:only-of-type {\n",
       "        vertical-align: middle;\n",
       "    }\n",
       "\n",
       "    .dataframe tbody tr th {\n",
       "        vertical-align: top;\n",
       "    }\n",
       "\n",
       "    .dataframe thead th {\n",
       "        text-align: right;\n",
       "    }\n",
       "</style>\n",
       "<table border=\"1\" class=\"dataframe\">\n",
       "  <thead>\n",
       "    <tr style=\"text-align: right;\">\n",
       "      <th></th>\n",
       "      <th>column</th>\n",
       "      <th>value</th>\n",
       "      <th>label_value</th>\n",
       "      <th>count</th>\n",
       "      <th>count_share</th>\n",
       "      <th>label_count</th>\n",
       "      <th>label_share</th>\n",
       "      <th>date</th>\n",
       "    </tr>\n",
       "  </thead>\n",
       "  <tbody>\n",
       "    <tr>\n",
       "      <th>0</th>\n",
       "      <td>main_transit_mode</td>\n",
       "      <td>3</td>\n",
       "      <td>None of the above</td>\n",
       "      <td>117</td>\n",
       "      <td>0.975000</td>\n",
       "      <td>117.0</td>\n",
       "      <td>0.975000</td>\n",
       "      <td>2024-09-30</td>\n",
       "    </tr>\n",
       "    <tr>\n",
       "      <th>1</th>\n",
       "      <td>main_transit_mode</td>\n",
       "      <td>SDA_1_FLYER</td>\n",
       "      <td>Airport flyer shuttle</td>\n",
       "      <td>3</td>\n",
       "      <td>0.025000</td>\n",
       "      <td>3.0</td>\n",
       "      <td>0.025000</td>\n",
       "      <td>2024-09-30</td>\n",
       "    </tr>\n",
       "    <tr>\n",
       "      <th>2</th>\n",
       "      <td>main_mode</td>\n",
       "      <td>12.0</td>\n",
       "      <td>Dropped off by car by family/friend</td>\n",
       "      <td>35</td>\n",
       "      <td>0.299145</td>\n",
       "      <td>35.0</td>\n",
       "      <td>0.301724</td>\n",
       "      <td>2024-09-30</td>\n",
       "    </tr>\n",
       "    <tr>\n",
       "      <th>3</th>\n",
       "      <td>main_mode</td>\n",
       "      <td>10.0</td>\n",
       "      <td>Uber/Lyft</td>\n",
       "      <td>30</td>\n",
       "      <td>0.256410</td>\n",
       "      <td>30.0</td>\n",
       "      <td>0.258621</td>\n",
       "      <td>2024-09-30</td>\n",
       "    </tr>\n",
       "    <tr>\n",
       "      <th>4</th>\n",
       "      <td>main_mode</td>\n",
       "      <td>19.0</td>\n",
       "      <td>Rental car: Dropped off at rental agency</td>\n",
       "      <td>19</td>\n",
       "      <td>0.162393</td>\n",
       "      <td>19.0</td>\n",
       "      <td>0.163793</td>\n",
       "      <td>2024-09-30</td>\n",
       "    </tr>\n",
       "  </tbody>\n",
       "</table>\n",
       "</div>"
      ],
      "text/plain": [
       "              column        value                               label_value  \\\n",
       "0  main_transit_mode            3                         None of the above   \n",
       "1  main_transit_mode  SDA_1_FLYER                     Airport flyer shuttle   \n",
       "2          main_mode         12.0       Dropped off by car by family/friend   \n",
       "3          main_mode         10.0                                 Uber/Lyft   \n",
       "4          main_mode         19.0  Rental car: Dropped off at rental agency   \n",
       "\n",
       "   count  count_share  label_count  label_share       date  \n",
       "0    117     0.975000        117.0     0.975000 2024-09-30  \n",
       "1      3     0.025000          3.0     0.025000 2024-09-30  \n",
       "2     35     0.299145         35.0     0.301724 2024-09-30  \n",
       "3     30     0.256410         30.0     0.258621 2024-09-30  \n",
       "4     19     0.162393         19.0     0.163793 2024-09-30  "
      ]
     },
     "execution_count": 113,
     "metadata": {},
     "output_type": "execute_result"
    }
   ],
   "source": [
    "total_df.head()"
   ]
  },
  {
   "cell_type": "code",
   "execution_count": 114,
   "metadata": {},
   "outputs": [],
   "source": [
    "total_df.to_csv(report_file, index = False)"
   ]
  }
 ],
 "metadata": {
  "kernelspec": {
   "display_name": ".venv",
   "language": "python",
   "name": "python3"
  },
  "language_info": {
   "codemirror_mode": {
    "name": "ipython",
    "version": 3
   },
   "file_extension": ".py",
   "mimetype": "text/x-python",
   "name": "python",
   "nbconvert_exporter": "python",
   "pygments_lexer": "ipython3",
   "version": "3.12.10"
  }
 },
 "nbformat": 4,
 "nbformat_minor": 2
}
