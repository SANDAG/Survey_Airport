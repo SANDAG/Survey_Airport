{
 "cells": [
  {
   "cell_type": "code",
   "execution_count": 1,
   "metadata": {},
   "outputs": [],
   "source": [
    "import pandas as pd\n",
    "import numpy as np\n",
    "import matplotlib.pyplot as plt\n",
    "import os\n",
    "\n",
    "import folium\n",
    "from branca.element import Template, MacroElement"
   ]
  },
  {
   "cell_type": "code",
   "execution_count": 2,
   "metadata": {},
   "outputs": [],
   "source": [
    "external_dir = \"../../data/external\"\n",
    "interim_dir = \"../../data/interim\"\n",
    "processed_dir = \"../../data/processed\"\n",
    "\n",
    "map_file_path = \"../../reports/maps/respondent_segments_map_with_layers_and_legend.html\""
   ]
  },
  {
   "cell_type": "markdown",
   "metadata": {},
   "source": [
    "##### We want to make a map of origin/destination trip coordinates for arriving/departing passengers. The segmentation required is by resident and visitor, also by transit"
   ]
  },
  {
   "cell_type": "code",
   "execution_count": 3,
   "metadata": {},
   "outputs": [
    {
     "name": "stderr",
     "output_type": "stream",
     "text": [
      "C:\\Users\\mwe\\AppData\\Local\\Temp\\ipykernel_24348\\911404828.py:2: DtypeWarning: Columns (1,10,21,23,24,30,31,45,52,54,56,57,60,78,85,86,89,95,101,103,114,115,116,119,129,132,135,139,155,156,161,170,172,173,175,233) have mixed types. Specify dtype option on import or set low_memory=False.\n",
      "  clean_data_model_df = pd.read_csv(clean_data_model_file)\n"
     ]
    }
   ],
   "source": [
    "clean_data_model_file = os.path.join(processed_dir, \"atc_travel_survey_final_data.csv\")\n",
    "clean_data_model_df = pd.read_csv(clean_data_model_file)"
   ]
  },
  {
   "cell_type": "code",
   "execution_count": 4,
   "metadata": {},
   "outputs": [
    {
     "data": {
      "application/vnd.microsoft.datawrangler.viewer.v0+json": {
       "columns": [
        {
         "name": "index",
         "rawType": "int64",
         "type": "integer"
        },
        {
         "name": "unique_id",
         "rawType": "int64",
         "type": "integer"
        },
        {
         "name": "respondentid",
         "rawType": "object",
         "type": "unknown"
        },
        {
         "name": "date_completed",
         "rawType": "object",
         "type": "string"
        },
        {
         "name": "time_completed",
         "rawType": "object",
         "type": "string"
        },
        {
         "name": "is_pilot",
         "rawType": "bool",
         "type": "boolean"
        },
        {
         "name": "is_self_administered",
         "rawType": "bool",
         "type": "boolean"
        },
        {
         "name": "record_type_synthetic",
         "rawType": "int64",
         "type": "integer"
        },
        {
         "name": "access_mode_frequency",
         "rawType": "float64",
         "type": "float"
        },
        {
         "name": "access_mode_frequency_label",
         "rawType": "object",
         "type": "unknown"
        },
        {
         "name": "access_mode",
         "rawType": "float64",
         "type": "float"
        },
        {
         "name": "access_mode_label",
         "rawType": "object",
         "type": "unknown"
        },
        {
         "name": "access_mode_other",
         "rawType": "object",
         "type": "unknown"
        },
        {
         "name": "age",
         "rawType": "float64",
         "type": "float"
        },
        {
         "name": "age_label",
         "rawType": "object",
         "type": "string"
        },
        {
         "name": "airline",
         "rawType": "float64",
         "type": "float"
        },
        {
         "name": "airline_label",
         "rawType": "object",
         "type": "unknown"
        },
        {
         "name": "airline_other",
         "rawType": "object",
         "type": "unknown"
        },
        {
         "name": "airport_access_transit_use_elsewhere",
         "rawType": "float64",
         "type": "float"
        },
        {
         "name": "airport_access_transit_use_elsewhere_label",
         "rawType": "object",
         "type": "unknown"
        },
        {
         "name": "airport_terminal",
         "rawType": "float64",
         "type": "float"
        },
        {
         "name": "airportaccesstransitname",
         "rawType": "object",
         "type": "unknown"
        },
        {
         "name": "alt_commute_mode_list",
         "rawType": "object",
         "type": "unknown"
        },
        {
         "name": "car_available",
         "rawType": "float64",
         "type": "float"
        },
        {
         "name": "car_available_label",
         "rawType": "object",
         "type": "unknown"
        },
        {
         "name": "car_available_other",
         "rawType": "object",
         "type": "unknown"
        },
        {
         "name": "carryon_bags",
         "rawType": "float64",
         "type": "float"
        },
        {
         "name": "carryon_bags_label",
         "rawType": "object",
         "type": "unknown"
        },
        {
         "name": "checked_bags",
         "rawType": "float64",
         "type": "float"
        },
        {
         "name": "checked_bags_label",
         "rawType": "object",
         "type": "unknown"
        },
        {
         "name": "commute_mode_decision",
         "rawType": "float64",
         "type": "float"
        },
        {
         "name": "commute_mode_decision_label",
         "rawType": "object",
         "type": "unknown"
        },
        {
         "name": "commute_mode_decision_other",
         "rawType": "object",
         "type": "unknown"
        },
        {
         "name": "convention_center",
         "rawType": "float64",
         "type": "float"
        },
        {
         "name": "convention_center_activity",
         "rawType": "float64",
         "type": "float"
        },
        {
         "name": "convention_center_activity_label",
         "rawType": "object",
         "type": "unknown"
        },
        {
         "name": "convention_center_activity_other",
         "rawType": "object",
         "type": "unknown"
        },
        {
         "name": "convention_center_label",
         "rawType": "object",
         "type": "unknown"
        },
        {
         "name": "country_of_residence",
         "rawType": "float64",
         "type": "float"
        },
        {
         "name": "country_of_residence_label",
         "rawType": "object",
         "type": "unknown"
        },
        {
         "name": "destination_activity_type",
         "rawType": "float64",
         "type": "float"
        },
        {
         "name": "destination_activity_type_label",
         "rawType": "object",
         "type": "string"
        },
        {
         "name": "destination_activity_type_other",
         "rawType": "object",
         "type": "unknown"
        },
        {
         "name": "destination_latitude",
         "rawType": "float64",
         "type": "float"
        },
        {
         "name": "destination_longitude",
         "rawType": "float64",
         "type": "float"
        },
        {
         "name": "destination_municipal_zone",
         "rawType": "object",
         "type": "string"
        },
        {
         "name": "destination_name",
         "rawType": "object",
         "type": "unknown"
        },
        {
         "name": "destination_place_name",
         "rawType": "object",
         "type": "string"
        },
        {
         "name": "destination_pmsa",
         "rawType": "float64",
         "type": "float"
        },
        {
         "name": "destination_pmsa_label",
         "rawType": "object",
         "type": "string"
        },
        {
         "name": "destination_state",
         "rawType": "object",
         "type": "string"
        },
        {
         "name": "destination_zip",
         "rawType": "float64",
         "type": "float"
        },
        {
         "name": "egress_mode",
         "rawType": "float64",
         "type": "float"
        },
        {
         "name": "egress_mode_label",
         "rawType": "object",
         "type": "unknown"
        },
        {
         "name": "egress_mode_other",
         "rawType": "float64",
         "type": "float"
        },
        {
         "name": "employee_parking",
         "rawType": "object",
         "type": "unknown"
        },
        {
         "name": "employer",
         "rawType": "float64",
         "type": "float"
        },
        {
         "name": "employer_label",
         "rawType": "object",
         "type": "string"
        },
        {
         "name": "employer_other",
         "rawType": "object",
         "type": "unknown"
        },
        {
         "name": "final_flight_destination",
         "rawType": "object",
         "type": "unknown"
        },
        {
         "name": "flight_arrival_time",
         "rawType": "float64",
         "type": "float"
        },
        {
         "name": "flight_arrival_time_label",
         "rawType": "object",
         "type": "unknown"
        },
        {
         "name": "flight_departure_time",
         "rawType": "float64",
         "type": "float"
        },
        {
         "name": "flight_departure_time_label",
         "rawType": "object",
         "type": "unknown"
        },
        {
         "name": "flight_number",
         "rawType": "object",
         "type": "unknown"
        },
        {
         "name": "flight_purpose",
         "rawType": "float64",
         "type": "float"
        },
        {
         "name": "flight_purpose_label",
         "rawType": "object",
         "type": "unknown"
        },
        {
         "name": "flight_purpose_other",
         "rawType": "object",
         "type": "unknown"
        },
        {
         "name": "gender",
         "rawType": "float64",
         "type": "float"
        },
        {
         "name": "gender_label",
         "rawType": "object",
         "type": "string"
        },
        {
         "name": "gender_other",
         "rawType": "float64",
         "type": "float"
        },
        {
         "name": "general_modes_used_visitor_list",
         "rawType": "object",
         "type": "unknown"
        },
        {
         "name": "home_location_latitude",
         "rawType": "float64",
         "type": "float"
        },
        {
         "name": "home_location_longitude",
         "rawType": "float64",
         "type": "float"
        },
        {
         "name": "home_location_municipal_zone",
         "rawType": "object",
         "type": "string"
        },
        {
         "name": "home_location_place_name",
         "rawType": "object",
         "type": "string"
        },
        {
         "name": "home_location_pmsa",
         "rawType": "float64",
         "type": "float"
        },
        {
         "name": "home_location_pmsa_label",
         "rawType": "object",
         "type": "string"
        },
        {
         "name": "home_location_state",
         "rawType": "object",
         "type": "string"
        },
        {
         "name": "home_location_zip",
         "rawType": "object",
         "type": "string"
        },
        {
         "name": "household_income",
         "rawType": "float64",
         "type": "float"
        },
        {
         "name": "household_income_label",
         "rawType": "object",
         "type": "string"
        },
        {
         "name": "inbound_or_outbound",
         "rawType": "float64",
         "type": "float"
        },
        {
         "name": "inbound_or_outbound_label",
         "rawType": "object",
         "type": "string"
        },
        {
         "name": "interview_location",
         "rawType": "float64",
         "type": "float"
        },
        {
         "name": "interview_location_label",
         "rawType": "object",
         "type": "string"
        },
        {
         "name": "interview_location_other",
         "rawType": "object",
         "type": "unknown"
        },
        {
         "name": "is_direct_flight",
         "rawType": "object",
         "type": "unknown"
        },
        {
         "name": "is_income_below_poverty",
         "rawType": "float64",
         "type": "float"
        },
        {
         "name": "is_income_below_poverty_label",
         "rawType": "object",
         "type": "unknown"
        },
        {
         "name": "is_sdia_home_airport",
         "rawType": "object",
         "type": "unknown"
        },
        {
         "name": "main_mode",
         "rawType": "float64",
         "type": "float"
        },
        {
         "name": "main_mode_label",
         "rawType": "object",
         "type": "string"
        },
        {
         "name": "main_mode_other",
         "rawType": "object",
         "type": "unknown"
        },
        {
         "name": "marketsegment",
         "rawType": "int64",
         "type": "integer"
        },
        {
         "name": "marketsegment_label",
         "rawType": "object",
         "type": "string"
        },
        {
         "name": "next_flight_destination",
         "rawType": "object",
         "type": "unknown"
        },
        {
         "name": "activity_type",
         "rawType": "float64",
         "type": "float"
        },
        {
         "name": "non_sdia_flight_frequency",
         "rawType": "float64",
         "type": "float"
        },
        {
         "name": "non_sdia_flight_frequency_label",
         "rawType": "object",
         "type": "unknown"
        },
        {
         "name": "num_transit_transfers",
         "rawType": "int64",
         "type": "integer"
        },
        {
         "name": "number_commute_days",
         "rawType": "float64",
         "type": "float"
        },
        {
         "name": "number_commute_days_label",
         "rawType": "object",
         "type": "string"
        },
        {
         "name": "number_hours_worked",
         "rawType": "float64",
         "type": "float"
        },
        {
         "name": "number_hours_worked_label",
         "rawType": "object",
         "type": "string"
        },
        {
         "name": "number_of_nights",
         "rawType": "float64",
         "type": "float"
        },
        {
         "name": "number_of_nights_label",
         "rawType": "object",
         "type": "unknown"
        },
        {
         "name": "number_persons_in_household",
         "rawType": "float64",
         "type": "float"
        },
        {
         "name": "number_persons_in_household_label",
         "rawType": "object",
         "type": "string"
        },
        {
         "name": "number_vehicles",
         "rawType": "float64",
         "type": "float"
        },
        {
         "name": "number_vehicles_label",
         "rawType": "object",
         "type": "string"
        },
        {
         "name": "number_workers",
         "rawType": "float64",
         "type": "float"
        },
        {
         "name": "number_workers_label",
         "rawType": "object",
         "type": "string"
        },
        {
         "name": "occupation",
         "rawType": "float64",
         "type": "float"
        },
        {
         "name": "occupation_detail",
         "rawType": "float64",
         "type": "float"
        },
        {
         "name": "occupation_detail_label",
         "rawType": "object",
         "type": "unknown"
        },
        {
         "name": "occupation_label",
         "rawType": "object",
         "type": "string"
        },
        {
         "name": "occupation_other",
         "rawType": "object",
         "type": "unknown"
        },
        {
         "name": "origin_activity_type",
         "rawType": "float64",
         "type": "float"
        },
        {
         "name": "origin_activity_type_label",
         "rawType": "object",
         "type": "string"
        },
        {
         "name": "origin_activity_type_other",
         "rawType": "object",
         "type": "unknown"
        },
        {
         "name": "origin_latitude",
         "rawType": "float64",
         "type": "float"
        },
        {
         "name": "origin_longitude",
         "rawType": "float64",
         "type": "float"
        },
        {
         "name": "origin_municipal_zone",
         "rawType": "object",
         "type": "string"
        },
        {
         "name": "origin_name",
         "rawType": "object",
         "type": "unknown"
        },
        {
         "name": "origin_place_name",
         "rawType": "object",
         "type": "string"
        },
        {
         "name": "origin_pmsa",
         "rawType": "float64",
         "type": "float"
        },
        {
         "name": "origin_pmsa_label",
         "rawType": "object",
         "type": "string"
        },
        {
         "name": "origin_state",
         "rawType": "object",
         "type": "string"
        },
        {
         "name": "origin_zip",
         "rawType": "float64",
         "type": "float"
        },
        {
         "name": "original_flight_origin",
         "rawType": "object",
         "type": "unknown"
        },
        {
         "name": "other_airport_accessmode",
         "rawType": "float64",
         "type": "float"
        },
        {
         "name": "other_airport_accessmode_label",
         "rawType": "object",
         "type": "unknown"
        },
        {
         "name": "parking_cost",
         "rawType": "object",
         "type": "unknown"
        },
        {
         "name": "parking_cost_frequency",
         "rawType": "float64",
         "type": "float"
        },
        {
         "name": "parking_cost_frequency_label",
         "rawType": "object",
         "type": "unknown"
        },
        {
         "name": "parking_cost_frequency_other",
         "rawType": "object",
         "type": "unknown"
        },
        {
         "name": "parking_cost_numeric",
         "rawType": "float64",
         "type": "float"
        },
        {
         "name": "parking_location",
         "rawType": "float64",
         "type": "float"
        },
        {
         "name": "parking_location_label",
         "rawType": "object",
         "type": "unknown"
        },
        {
         "name": "parking_location_other",
         "rawType": "object",
         "type": "unknown"
        },
        {
         "name": "party_composition_list",
         "rawType": "object",
         "type": "unknown"
        },
        {
         "name": "party_size_flight",
         "rawType": "int64",
         "type": "integer"
        },
        {
         "name": "party_size_ground_access",
         "rawType": "float64",
         "type": "float"
        },
        {
         "name": "passenger_segment",
         "rawType": "float64",
         "type": "float"
        },
        {
         "name": "passenger_segment_label",
         "rawType": "object",
         "type": "unknown"
        },
        {
         "name": "previous_flight_origin",
         "rawType": "object",
         "type": "unknown"
        },
        {
         "name": "race_list",
         "rawType": "object",
         "type": "string"
        },
        {
         "name": "reasons_no_transit_list",
         "rawType": "object",
         "type": "unknown"
        },
        {
         "name": "reimbursement",
         "rawType": "float64",
         "type": "float"
        },
        {
         "name": "reimbursement_label",
         "rawType": "object",
         "type": "string"
        },
        {
         "name": "resident_visitor",
         "rawType": "float64",
         "type": "float"
        },
        {
         "name": "resident_visitor_label",
         "rawType": "object",
         "type": "string"
        },
        {
         "name": "resident_visitor_purpose",
         "rawType": "int64",
         "type": "integer"
        },
        {
         "name": "resident_visitor_purpose_label",
         "rawType": "object",
         "type": "string"
        },
        {
         "name": "reverse_commute_mode",
         "rawType": "float64",
         "type": "float"
        },
        {
         "name": "reverse_commute_mode_label",
         "rawType": "object",
         "type": "string"
        },
        {
         "name": "reverse_commute_mode_other",
         "rawType": "object",
         "type": "unknown"
        },
        {
         "name": "reverse_mode",
         "rawType": "float64",
         "type": "float"
        },
        {
         "name": "reverse_mode_label",
         "rawType": "object",
         "type": "unknown"
        },
        {
         "name": "reverse_mode_other",
         "rawType": "float64",
         "type": "float"
        },
        {
         "name": "same_commute_mode",
         "rawType": "float64",
         "type": "float"
        },
        {
         "name": "same_commute_mode_label",
         "rawType": "object",
         "type": "string"
        },
        {
         "name": "sdia_accessmode_decision",
         "rawType": "float64",
         "type": "float"
        },
        {
         "name": "sdia_accessmode_decision_label",
         "rawType": "object",
         "type": "unknown"
        },
        {
         "name": "sdia_accessmode_split_list",
         "rawType": "object",
         "type": "unknown"
        },
        {
         "name": "sdia_flight_frequency",
         "rawType": "float64",
         "type": "float"
        },
        {
         "name": "sdia_flight_frequency_label",
         "rawType": "object",
         "type": "unknown"
        },
        {
         "name": "sdia_transit_awareness",
         "rawType": "float64",
         "type": "float"
        },
        {
         "name": "sdia_transit_awareness_label",
         "rawType": "object",
         "type": "unknown"
        },
        {
         "name": "shift_end_time",
         "rawType": "float64",
         "type": "float"
        },
        {
         "name": "shift_end_time_label",
         "rawType": "object",
         "type": "string"
        },
        {
         "name": "shift_start_airport_building",
         "rawType": "float64",
         "type": "float"
        },
        {
         "name": "shift_start_airport_building_label",
         "rawType": "object",
         "type": "string"
        },
        {
         "name": "shift_start_airport_building_other",
         "rawType": "object",
         "type": "unknown"
        },
        {
         "name": "shift_start_time",
         "rawType": "float64",
         "type": "float"
        },
        {
         "name": "shift_start_time_label",
         "rawType": "object",
         "type": "string"
        },
        {
         "name": "sp_access_walk_time",
         "rawType": "float64",
         "type": "float"
        },
        {
         "name": "sp_access_walk_time_label",
         "rawType": "object",
         "type": "unknown"
        },
        {
         "name": "sp_connection_to_convention_center",
         "rawType": "float64",
         "type": "float"
        },
        {
         "name": "sp_connection_to_convention_center_label",
         "rawType": "object",
         "type": "unknown"
        },
        {
         "name": "sp_connection_to_old_town_center",
         "rawType": "float64",
         "type": "float"
        },
        {
         "name": "sp_connection_to_old_town_center_label",
         "rawType": "object",
         "type": "unknown"
        },
        {
         "name": "sp_connection_to_santafe_depot",
         "rawType": "float64",
         "type": "float"
        },
        {
         "name": "sp_connection_to_santafe_depot_label",
         "rawType": "object",
         "type": "unknown"
        },
        {
         "name": "sp_dropoff_choice_no_transit_access",
         "rawType": "float64",
         "type": "float"
        },
        {
         "name": "sp_dropoff_choice_no_transit_access_label",
         "rawType": "object",
         "type": "unknown"
        },
        {
         "name": "sp_dropoff_choice_transit_access",
         "rawType": "float64",
         "type": "float"
        },
        {
         "name": "sp_dropoff_choice_transit_access_label",
         "rawType": "object",
         "type": "unknown"
        },
        {
         "name": "sp_dropoff_escort",
         "rawType": "float64",
         "type": "float"
        },
        {
         "name": "sp_dropoff_escort_label",
         "rawType": "object",
         "type": "unknown"
        },
        {
         "name": "sp_feature_early_morning",
         "rawType": "float64",
         "type": "float"
        },
        {
         "name": "sp_feature_early_morning_label",
         "rawType": "object",
         "type": "unknown"
        },
        {
         "name": "sp_feature_late_night",
         "rawType": "float64",
         "type": "float"
        },
        {
         "name": "sp_feature_late_night_label",
         "rawType": "object",
         "type": "unknown"
        },
        {
         "name": "sp_feature_luggage_rack",
         "rawType": "float64",
         "type": "float"
        },
        {
         "name": "sp_feature_luggage_rack_label",
         "rawType": "object",
         "type": "unknown"
        },
        {
         "name": "sp_feature_no_delay",
         "rawType": "float64",
         "type": "float"
        },
        {
         "name": "sp_feature_no_delay_label",
         "rawType": "object",
         "type": "unknown"
        },
        {
         "name": "sp_feature_seats_transit",
         "rawType": "float64",
         "type": "float"
        },
        {
         "name": "sp_feature_seats_transit_label",
         "rawType": "object",
         "type": "unknown"
        },
        {
         "name": "sp_feature_seats_transit_stop",
         "rawType": "float64",
         "type": "float"
        },
        {
         "name": "sp_feature_seats_transit_stop_label",
         "rawType": "object",
         "type": "unknown"
        },
        {
         "name": "sp_feature_short_wait",
         "rawType": "float64",
         "type": "float"
        },
        {
         "name": "sp_feature_short_wait_label",
         "rawType": "object",
         "type": "unknown"
        },
        {
         "name": "sp_feature_weekend_frequency",
         "rawType": "float64",
         "type": "float"
        },
        {
         "name": "sp_feature_weekend_frequency_label",
         "rawType": "object",
         "type": "unknown"
        },
        {
         "name": "sp_invitation",
         "rawType": "float64",
         "type": "float"
        },
        {
         "name": "sp_invitation_label",
         "rawType": "object",
         "type": "string"
        },
        {
         "name": "sp_number_of_transfers",
         "rawType": "float64",
         "type": "float"
        },
        {
         "name": "sp_number_of_transfers_label",
         "rawType": "object",
         "type": "unknown"
        },
        {
         "name": "sp_other_airport_list",
         "rawType": "object",
         "type": "unknown"
        },
        {
         "name": "state_of_residence",
         "rawType": "float64",
         "type": "float"
        },
        {
         "name": "state_of_residence_label",
         "rawType": "object",
         "type": "unknown"
        },
        {
         "name": "stay_informed",
         "rawType": "float64",
         "type": "float"
        },
        {
         "name": "stay_informed_label",
         "rawType": "object",
         "type": "unknown"
        },
        {
         "name": "survey_language",
         "rawType": "object",
         "type": "string"
        },
        {
         "name": "survey_language_label",
         "rawType": "float64",
         "type": "float"
        },
        {
         "name": "survey_language_other",
         "rawType": "float64",
         "type": "float"
        },
        {
         "name": "taxi_fhv_fare",
         "rawType": "object",
         "type": "unknown"
        },
        {
         "name": "taxi_fhv_fare_numeric",
         "rawType": "float64",
         "type": "float"
        },
        {
         "name": "taxi_fhv_wait",
         "rawType": "object",
         "type": "unknown"
        },
        {
         "name": "taxi_fhv_wait_numeric",
         "rawType": "float64",
         "type": "float"
        },
        {
         "name": "transit_alighting_latitude",
         "rawType": "float64",
         "type": "float"
        },
        {
         "name": "transit_alighting_longitude",
         "rawType": "float64",
         "type": "float"
        },
        {
         "name": "transit_alighting_stop_name",
         "rawType": "object",
         "type": "unknown"
        },
        {
         "name": "transit_boarding_latitude",
         "rawType": "float64",
         "type": "float"
        },
        {
         "name": "transit_boarding_longitude",
         "rawType": "float64",
         "type": "float"
        },
        {
         "name": "transit_boarding_stop_name",
         "rawType": "object",
         "type": "unknown"
        },
        {
         "name": "transit_routes_list",
         "rawType": "object",
         "type": "unknown"
        },
        {
         "name": "trip_arrival_time",
         "rawType": "float64",
         "type": "float"
        },
        {
         "name": "trip_arrival_time_label",
         "rawType": "object",
         "type": "string"
        },
        {
         "name": "trip_start_time",
         "rawType": "float64",
         "type": "float"
        },
        {
         "name": "trip_start_time_label",
         "rawType": "object",
         "type": "string"
        },
        {
         "name": "model_respondent_bool",
         "rawType": "object",
         "type": "unknown"
        },
        {
         "name": "weight_departing_and_arriving",
         "rawType": "float64",
         "type": "float"
        },
        {
         "name": "weight_departing_only",
         "rawType": "float64",
         "type": "float"
        },
        {
         "name": "weight_departing_only_model_respondents",
         "rawType": "float64",
         "type": "float"
        },
        {
         "name": "weight_non_sas_departing_only",
         "rawType": "float64",
         "type": "float"
        },
        {
         "name": "weight_departing_only_with_time_of_day",
         "rawType": "float64",
         "type": "float"
        }
       ],
       "ref": "fae6c31a-56d3-402b-814f-83a05b88d5f6",
       "rows": [
        [
         "0",
         "1",
         "5473",
         "2024-10-04",
         "08:41:12",
         "False",
         "False",
         "0",
         null,
         null,
         null,
         null,
         null,
         "7.0",
         "AGE_45_49",
         null,
         null,
         null,
         null,
         null,
         null,
         null,
         null,
         null,
         null,
         null,
         null,
         null,
         null,
         null,
         null,
         null,
         null,
         null,
         null,
         null,
         null,
         null,
         null,
         null,
         "7.0",
         "SAN_DIEGO_AIRPORT",
         null,
         "32.7326272999998",
         "-117.204064",
         "SAN DIEGO",
         null,
         "San Diego",
         "2.0",
         "CENTRAL",
         "CA",
         "92101.0",
         null,
         null,
         null,
         "False",
         "66.0",
         "TOMMY_VS_PIZZERIA",
         null,
         null,
         null,
         null,
         null,
         null,
         null,
         null,
         null,
         null,
         "1.0",
         "MALE",
         null,
         null,
         "32.8167139999997",
         "-117.176897999999",
         "SAN DIEGO",
         "San Diego",
         "2.0",
         "CENTRAL",
         "CA",
         "92111",
         "10.0",
         "BETWEEN_60K_75K",
         "1.0",
         "INBOUND_TO_AIRPORT",
         "2.0",
         "TERMINAL_2",
         null,
         null,
         null,
         null,
         null,
         "8.0",
         "PERSONAL_CAR_PARKED",
         null,
         "2",
         "EMPLOYEE",
         null,
         "2.0",
         null,
         null,
         "0",
         "5.0",
         "FIVE",
         "6.0",
         "FORTY_ONE_TO_FIFTY",
         null,
         null,
         "10.0",
         "TEN_OR_MORE",
         "4.0",
         "FOUR",
         "1.0",
         "ONE",
         "98.0",
         null,
         null,
         "OTHER_SPECIFY",
         null,
         "2.0",
         "HOME",
         null,
         "32.8167139999997",
         "-117.176897999999",
         "SAN DIEGO",
         null,
         "San Diego",
         "3.0",
         "NORTH_CITY",
         "CA",
         "92111.0",
         null,
         null,
         null,
         "100",
         "2.0",
         "MONTHLY",
         null,
         "100.0",
         "6.0",
         "EMPLOYEE_LOT_3665_ADMIRAL_BOLAND_WAY",
         null,
         null,
         "1",
         null,
         null,
         null,
         null,
         "black",
         null,
         "3.0",
         "NOT_REIMBURSED",
         "1.0",
         "SAN_DIEGO_REGION",
         "4",
         "VISITOR_NON_BUSINESS",
         "8.0",
         "PERSONAL_CAR_PARKED",
         null,
         null,
         null,
         null,
         "1.0",
         "YES",
         null,
         null,
         null,
         null,
         null,
         null,
         null,
         "15.0",
         "NOON_TO_TWELVE_THIRTY",
         "2.0",
         "TERMINAL_2",
         null,
         "47.0",
         "FOUR_TO_FOUR_THIRTY",
         null,
         null,
         null,
         null,
         null,
         null,
         null,
         null,
         null,
         null,
         null,
         null,
         null,
         null,
         null,
         null,
         null,
         null,
         null,
         null,
         null,
         null,
         null,
         null,
         null,
         null,
         null,
         null,
         null,
         null,
         "2.0",
         "NO",
         null,
         null,
         null,
         null,
         null,
         "2.0",
         "NO",
         "SurveyLanguage.ENGLISH",
         null,
         null,
         null,
         null,
         null,
         null,
         null,
         null,
         null,
         null,
         null,
         null,
         null,
         "1.0",
         "FIVE_TO_FIVE_THIRTY",
         "1.0",
         "FIVE_TO_FIVE_THIRTY",
         "True",
         "10.840259127952416",
         "11.525573967394402",
         "11.622594002192288",
         "19.17942750774013",
         "10.874503947796976"
        ],
        [
         "1",
         "2",
         "5476",
         "2024-10-04",
         "08:40:04",
         "False",
         "False",
         "0",
         null,
         null,
         "1.0",
         "WALK",
         null,
         "3.0",
         "AGE_25_29",
         null,
         null,
         null,
         null,
         null,
         null,
         null,
         null,
         null,
         null,
         null,
         null,
         null,
         null,
         null,
         null,
         null,
         null,
         null,
         null,
         null,
         null,
         null,
         null,
         null,
         "7.0",
         "SAN_DIEGO_AIRPORT",
         null,
         "32.733783",
         "-117.193315",
         "SAN DIEGO",
         null,
         "San Diego",
         "2.0",
         "CENTRAL",
         "CA",
         "92140.0",
         null,
         null,
         null,
         "True",
         "2.0",
         "ALASKA_AIRLINES",
         null,
         null,
         null,
         null,
         null,
         null,
         null,
         null,
         null,
         null,
         "1.0",
         "MALE",
         null,
         null,
         "32.639943",
         "-117.085774",
         "SAN DIEGO",
         "Chula Vista",
         "2.0",
         "CENTRAL",
         "CA",
         "91910",
         "13.0",
         "BETWEEN_150_199K",
         "1.0",
         "INBOUND_TO_AIRPORT",
         "3.0",
         "ONBOARD_992",
         null,
         null,
         null,
         null,
         null,
         "10.0",
         "BUS_992",
         null,
         "2",
         "EMPLOYEE",
         null,
         "2.0",
         null,
         null,
         "0",
         "5.0",
         "FIVE",
         "4.0",
         "TWENTY_ONE_TO_THIRTY",
         null,
         null,
         "4.0",
         "FOUR",
         "3.0",
         "THREE",
         "4.0",
         "FOUR",
         "8.0",
         null,
         null,
         "CARGO_HANDLER",
         null,
         "2.0",
         "HOME",
         null,
         "32.639943",
         "-117.085774",
         "CHULA VISTA",
         null,
         "Chula Vista",
         "4.0",
         "SOUTH_SUBURBAN",
         "CA",
         "91910.0",
         null,
         null,
         null,
         null,
         null,
         null,
         null,
         null,
         null,
         null,
         null,
         null,
         "1",
         null,
         null,
         null,
         null,
         "hispanic, unknown",
         null,
         "3.0",
         "NOT_REIMBURSED",
         "1.0",
         "SAN_DIEGO_REGION",
         "4",
         "VISITOR_NON_BUSINESS",
         "10.0",
         "BUS_992",
         null,
         null,
         null,
         null,
         "1.0",
         "YES",
         null,
         null,
         null,
         null,
         null,
         null,
         null,
         "19.0",
         "FOURTEEN_TO_FOURTEEN_THIRTY",
         "2.0",
         "TERMINAL_2",
         null,
         "9.0",
         "NINE_TO_NINE_THIRTY",
         null,
         null,
         null,
         null,
         null,
         null,
         null,
         null,
         null,
         null,
         null,
         null,
         null,
         null,
         null,
         null,
         null,
         null,
         null,
         null,
         null,
         null,
         null,
         null,
         null,
         null,
         null,
         null,
         null,
         null,
         "2.0",
         "NO",
         null,
         null,
         null,
         null,
         null,
         "2.0",
         "NO",
         "SurveyLanguage.ENGLISH",
         null,
         null,
         null,
         null,
         null,
         null,
         "32.7321330218128",
         "-117.197756006971",
         "MTS_1_992_01_60499",
         "32.638845",
         "-117.099065999999",
         "MTS_1_992_01_10833",
         "MTS_1_Blue",
         "10.0",
         "NINE_THIRTY_TO_TEN",
         "8.0",
         "EIGHT_THIRTY_TO_NINE",
         "True",
         "6.487855523297596",
         "3.3555329575498885",
         "3.3464279436065616",
         "8.687559217207063",
         "6.502862374017825"
        ],
        [
         "2",
         "3",
         "5489",
         "2024-10-04",
         "08:51:36",
         "False",
         "False",
         "0",
         null,
         null,
         null,
         null,
         null,
         "5.0",
         "AGE_35_39",
         null,
         null,
         null,
         null,
         null,
         null,
         null,
         null,
         null,
         null,
         null,
         null,
         null,
         null,
         null,
         null,
         null,
         null,
         null,
         null,
         null,
         null,
         null,
         null,
         null,
         "7.0",
         "SAN_DIEGO_AIRPORT",
         null,
         "32.7326272999998",
         "-117.204064",
         "SAN DIEGO",
         null,
         "San Diego",
         "2.0",
         "CENTRAL",
         "CA",
         "92101.0",
         null,
         null,
         null,
         "True",
         "98.0",
         "OTHER_SPECIFY",
         null,
         null,
         null,
         null,
         null,
         null,
         null,
         null,
         null,
         null,
         "2.0",
         "FEMALE",
         null,
         null,
         "32.743009",
         "-117.131699",
         "SAN DIEGO",
         "San Diego",
         "2.0",
         "CENTRAL",
         "CA",
         "92104",
         "5.0",
         "BETWEEN_30K_35K",
         "1.0",
         "INBOUND_TO_AIRPORT",
         "2.0",
         "TERMINAL_2",
         null,
         null,
         null,
         null,
         null,
         "8.0",
         "PERSONAL_CAR_PARKED",
         null,
         "2",
         "EMPLOYEE",
         null,
         "2.0",
         null,
         null,
         "0",
         "5.0",
         "FIVE",
         "5.0",
         "THIRTY_ONE_TO_FORTY",
         null,
         null,
         "4.0",
         "FOUR",
         "2.0",
         "TWO",
         "2.0",
         "TWO",
         "9.0",
         null,
         null,
         "BLDG_MAINTENANCE_CLEANING",
         null,
         "2.0",
         "HOME",
         null,
         "32.743009",
         "-117.131699",
         "SAN DIEGO",
         null,
         "San Diego",
         "2.0",
         "CENTRAL",
         "CA",
         "92104.0",
         null,
         null,
         null,
         "134",
         "98.0",
         "OTHER_SPECIFY",
         "3 months",
         "134.0",
         "6.0",
         "EMPLOYEE_LOT_3665_ADMIRAL_BOLAND_WAY",
         null,
         null,
         "1",
         null,
         null,
         null,
         null,
         "black",
         null,
         "3.0",
         "NOT_REIMBURSED",
         "1.0",
         "SAN_DIEGO_REGION",
         "4",
         "VISITOR_NON_BUSINESS",
         "8.0",
         "PERSONAL_CAR_PARKED",
         null,
         null,
         null,
         null,
         "1.0",
         "YES",
         null,
         null,
         null,
         null,
         null,
         null,
         null,
         "18.0",
         "THIRTEEN_THIRTY_TO_FOURTEEN",
         "2.0",
         "TERMINAL_2",
         null,
         "3.0",
         "SIX_TO_SIX_THIRTY",
         null,
         null,
         null,
         null,
         null,
         null,
         null,
         null,
         null,
         null,
         null,
         null,
         null,
         null,
         null,
         null,
         null,
         null,
         null,
         null,
         null,
         null,
         null,
         null,
         null,
         null,
         null,
         null,
         null,
         null,
         "1.0",
         "YES",
         null,
         null,
         null,
         null,
         null,
         null,
         null,
         "SurveyLanguage.SPANISH",
         null,
         null,
         null,
         null,
         null,
         null,
         null,
         null,
         null,
         null,
         null,
         null,
         null,
         "3.0",
         "SIX_TO_SIX_THIRTY",
         "3.0",
         "SIX_TO_SIX_THIRTY",
         "True",
         "10.840259127952416",
         "11.525573967394402",
         "11.622594002192288",
         "19.17942750774013",
         "10.874503947796976"
        ],
        [
         "3",
         "4",
         "5558",
         "2024-10-04",
         "10:32:58",
         "False",
         "False",
         "0",
         null,
         null,
         "1.0",
         "WALK",
         null,
         "2.0",
         "AGE_20_24",
         null,
         null,
         null,
         null,
         null,
         null,
         null,
         null,
         null,
         null,
         null,
         null,
         null,
         null,
         null,
         null,
         null,
         null,
         null,
         null,
         null,
         null,
         null,
         null,
         null,
         "7.0",
         "SAN_DIEGO_AIRPORT",
         null,
         "32.7326272999998",
         "-117.204064",
         "SAN DIEGO",
         null,
         "San Diego",
         "2.0",
         "CENTRAL",
         "CA",
         "92101.0",
         null,
         null,
         null,
         "False",
         "29.0",
         "HUDSON_NEWS",
         null,
         null,
         null,
         null,
         null,
         null,
         null,
         null,
         null,
         null,
         "2.0",
         "FEMALE",
         null,
         null,
         "32.706752",
         "-117.14881",
         "SAN DIEGO",
         "San Diego",
         "2.0",
         "CENTRAL",
         "CA",
         "92101",
         "14.0",
         "PREFER_NOT_TO_SAY",
         "1.0",
         "INBOUND_TO_AIRPORT",
         "2.0",
         "TERMINAL_2",
         null,
         null,
         "2.0",
         "NO",
         null,
         "10.0",
         "BUS_992",
         null,
         "2",
         "EMPLOYEE",
         null,
         "2.0",
         null,
         null,
         "0",
         "5.0",
         "FIVE",
         "5.0",
         "THIRTY_ONE_TO_FORTY",
         null,
         null,
         "1.0",
         "ONE",
         "1.0",
         "ONE",
         "1.0",
         "ONE",
         "20.0",
         null,
         null,
         "OTHER_ADMIN_SUPPORT",
         null,
         "2.0",
         "HOME",
         null,
         "32.706752",
         "-117.14881",
         "SAN DIEGO",
         null,
         "San Diego",
         "1.0",
         "DOWNTOWN",
         "CA",
         "92101.0",
         null,
         null,
         null,
         null,
         null,
         null,
         null,
         null,
         null,
         null,
         null,
         null,
         "1",
         null,
         null,
         null,
         null,
         "asian",
         null,
         "3.0",
         "NOT_REIMBURSED",
         "1.0",
         "SAN_DIEGO_REGION",
         "4",
         "VISITOR_NON_BUSINESS",
         "10.0",
         "BUS_992",
         null,
         null,
         null,
         null,
         "1.0",
         "YES",
         null,
         null,
         null,
         null,
         null,
         null,
         null,
         "28.0",
         "EIGHTEEN_THIRTY_TO_NINETEEN",
         "2.0",
         "TERMINAL_2",
         null,
         "12.0",
         "TEN_THIRTY_TO_ELEVEN",
         null,
         null,
         null,
         null,
         null,
         null,
         null,
         null,
         null,
         null,
         null,
         null,
         null,
         null,
         null,
         null,
         null,
         null,
         null,
         null,
         null,
         null,
         null,
         null,
         null,
         null,
         null,
         null,
         null,
         null,
         "2.0",
         "NO",
         null,
         null,
         null,
         null,
         null,
         "2.0",
         "NO",
         "SurveyLanguage.ENGLISH",
         null,
         null,
         null,
         null,
         null,
         null,
         "32.7314191559718",
         "-117.203009775925",
         "MTS_1_992_01_60500",
         "32.7158324767128",
         "-117.154062897256",
         "MTS_1_992_01_99342",
         null,
         "14.0",
         "ELEVEN_THIRTY_TO_NOON",
         "13.0",
         "ELEVEN_TO_ELEVEN_THIRTY",
         "True",
         "6.487855523297596",
         "3.3555329575498885",
         "3.3464279436065616",
         "8.687559217207063",
         "6.502862374017825"
        ],
        [
         "4",
         "5",
         "5593",
         "2024-10-04",
         "11:09:46",
         "False",
         "False",
         "0",
         null,
         null,
         "1.0",
         "WALK",
         null,
         "8.0",
         "AGE_50_54",
         null,
         null,
         null,
         null,
         null,
         null,
         null,
         null,
         null,
         null,
         null,
         null,
         null,
         null,
         null,
         null,
         null,
         null,
         null,
         null,
         null,
         null,
         null,
         null,
         null,
         "7.0",
         "SAN_DIEGO_AIRPORT",
         null,
         "32.7326272999998",
         "-117.204064",
         "SAN DIEGO",
         null,
         "San Diego",
         "2.0",
         "CENTRAL",
         "CA",
         "92101.0",
         null,
         null,
         null,
         "False",
         "98.0",
         "OTHER_SPECIFY",
         null,
         null,
         null,
         null,
         null,
         null,
         null,
         null,
         null,
         null,
         "2.0",
         "FEMALE",
         null,
         null,
         "32.678108",
         "-117.099196",
         "SAN DIEGO",
         "National City",
         "2.0",
         "CENTRAL",
         "CA",
         "91950",
         "14.0",
         "PREFER_NOT_TO_SAY",
         "1.0",
         "INBOUND_TO_AIRPORT",
         "2.0",
         "TERMINAL_2",
         null,
         null,
         "2.0",
         "NO",
         null,
         "10.0",
         "BUS_992",
         null,
         "2",
         "EMPLOYEE",
         null,
         "2.0",
         null,
         null,
         "0",
         "5.0",
         "FIVE",
         "5.0",
         "THIRTY_ONE_TO_FORTY",
         null,
         null,
         "2.0",
         "TWO",
         "0.0",
         "NONE",
         "2.0",
         "TWO",
         "16.0",
         null,
         null,
         "RETAIL_RESTAURANT",
         null,
         "2.0",
         "HOME",
         null,
         "32.678108",
         "-117.099196",
         "NATIONAL CITY",
         null,
         "National City",
         "2.0",
         "CENTRAL",
         "CA",
         "91950.0",
         null,
         null,
         null,
         null,
         null,
         null,
         null,
         null,
         null,
         null,
         null,
         null,
         "1",
         null,
         null,
         null,
         null,
         "asian",
         null,
         "1.0",
         "REIMBURSED_EMPLOYER_CLIENT",
         "1.0",
         "SAN_DIEGO_REGION",
         "4",
         "VISITOR_NON_BUSINESS",
         "10.0",
         "BUS_992",
         null,
         null,
         null,
         null,
         "1.0",
         "YES",
         null,
         null,
         null,
         null,
         null,
         null,
         null,
         "33.0",
         "TWENTY_ONE_TO_TWENTY_ONE_THIRTY",
         "2.0",
         "TERMINAL_2",
         null,
         "15.0",
         "NOON_TO_TWELVE_THIRTY",
         null,
         null,
         null,
         null,
         null,
         null,
         null,
         null,
         null,
         null,
         null,
         null,
         null,
         null,
         null,
         null,
         null,
         null,
         null,
         null,
         null,
         null,
         null,
         null,
         null,
         null,
         null,
         null,
         null,
         null,
         "2.0",
         "NO",
         null,
         null,
         null,
         null,
         null,
         "2.0",
         "NO",
         "SurveyLanguage.ENGLISH",
         null,
         null,
         null,
         null,
         null,
         null,
         "32.7314191559718",
         "-117.203009775925",
         "MTS_1_992_01_60500",
         "32.6746401649301",
         "-117.113186402221",
         "MTS_1_992_01_99342",
         "MTS_1_Blue",
         "15.0",
         "NOON_TO_TWELVE_THIRTY",
         "15.0",
         "NOON_TO_TWELVE_THIRTY",
         "True",
         "6.487855523297596",
         "3.3555329575498885",
         "3.3464279436065616",
         "8.687559217207063",
         "6.502862374017825"
        ]
       ],
       "shape": {
        "columns": 239,
        "rows": 5
       }
      },
      "text/html": [
       "<div>\n",
       "<style scoped>\n",
       "    .dataframe tbody tr th:only-of-type {\n",
       "        vertical-align: middle;\n",
       "    }\n",
       "\n",
       "    .dataframe tbody tr th {\n",
       "        vertical-align: top;\n",
       "    }\n",
       "\n",
       "    .dataframe thead th {\n",
       "        text-align: right;\n",
       "    }\n",
       "</style>\n",
       "<table border=\"1\" class=\"dataframe\">\n",
       "  <thead>\n",
       "    <tr style=\"text-align: right;\">\n",
       "      <th></th>\n",
       "      <th>unique_id</th>\n",
       "      <th>respondentid</th>\n",
       "      <th>date_completed</th>\n",
       "      <th>time_completed</th>\n",
       "      <th>is_pilot</th>\n",
       "      <th>is_self_administered</th>\n",
       "      <th>record_type_synthetic</th>\n",
       "      <th>access_mode_frequency</th>\n",
       "      <th>access_mode_frequency_label</th>\n",
       "      <th>access_mode</th>\n",
       "      <th>...</th>\n",
       "      <th>trip_arrival_time</th>\n",
       "      <th>trip_arrival_time_label</th>\n",
       "      <th>trip_start_time</th>\n",
       "      <th>trip_start_time_label</th>\n",
       "      <th>model_respondent_bool</th>\n",
       "      <th>weight_departing_and_arriving</th>\n",
       "      <th>weight_departing_only</th>\n",
       "      <th>weight_departing_only_model_respondents</th>\n",
       "      <th>weight_non_sas_departing_only</th>\n",
       "      <th>weight_departing_only_with_time_of_day</th>\n",
       "    </tr>\n",
       "  </thead>\n",
       "  <tbody>\n",
       "    <tr>\n",
       "      <th>0</th>\n",
       "      <td>1</td>\n",
       "      <td>5473</td>\n",
       "      <td>2024-10-04</td>\n",
       "      <td>08:41:12</td>\n",
       "      <td>False</td>\n",
       "      <td>False</td>\n",
       "      <td>0</td>\n",
       "      <td>NaN</td>\n",
       "      <td>NaN</td>\n",
       "      <td>NaN</td>\n",
       "      <td>...</td>\n",
       "      <td>1.0</td>\n",
       "      <td>FIVE_TO_FIVE_THIRTY</td>\n",
       "      <td>1.0</td>\n",
       "      <td>FIVE_TO_FIVE_THIRTY</td>\n",
       "      <td>True</td>\n",
       "      <td>10.840259</td>\n",
       "      <td>11.525574</td>\n",
       "      <td>11.622594</td>\n",
       "      <td>19.179428</td>\n",
       "      <td>10.874504</td>\n",
       "    </tr>\n",
       "    <tr>\n",
       "      <th>1</th>\n",
       "      <td>2</td>\n",
       "      <td>5476</td>\n",
       "      <td>2024-10-04</td>\n",
       "      <td>08:40:04</td>\n",
       "      <td>False</td>\n",
       "      <td>False</td>\n",
       "      <td>0</td>\n",
       "      <td>NaN</td>\n",
       "      <td>NaN</td>\n",
       "      <td>1.0</td>\n",
       "      <td>...</td>\n",
       "      <td>10.0</td>\n",
       "      <td>NINE_THIRTY_TO_TEN</td>\n",
       "      <td>8.0</td>\n",
       "      <td>EIGHT_THIRTY_TO_NINE</td>\n",
       "      <td>True</td>\n",
       "      <td>6.487856</td>\n",
       "      <td>3.355533</td>\n",
       "      <td>3.346428</td>\n",
       "      <td>8.687559</td>\n",
       "      <td>6.502862</td>\n",
       "    </tr>\n",
       "    <tr>\n",
       "      <th>2</th>\n",
       "      <td>3</td>\n",
       "      <td>5489</td>\n",
       "      <td>2024-10-04</td>\n",
       "      <td>08:51:36</td>\n",
       "      <td>False</td>\n",
       "      <td>False</td>\n",
       "      <td>0</td>\n",
       "      <td>NaN</td>\n",
       "      <td>NaN</td>\n",
       "      <td>NaN</td>\n",
       "      <td>...</td>\n",
       "      <td>3.0</td>\n",
       "      <td>SIX_TO_SIX_THIRTY</td>\n",
       "      <td>3.0</td>\n",
       "      <td>SIX_TO_SIX_THIRTY</td>\n",
       "      <td>True</td>\n",
       "      <td>10.840259</td>\n",
       "      <td>11.525574</td>\n",
       "      <td>11.622594</td>\n",
       "      <td>19.179428</td>\n",
       "      <td>10.874504</td>\n",
       "    </tr>\n",
       "    <tr>\n",
       "      <th>3</th>\n",
       "      <td>4</td>\n",
       "      <td>5558</td>\n",
       "      <td>2024-10-04</td>\n",
       "      <td>10:32:58</td>\n",
       "      <td>False</td>\n",
       "      <td>False</td>\n",
       "      <td>0</td>\n",
       "      <td>NaN</td>\n",
       "      <td>NaN</td>\n",
       "      <td>1.0</td>\n",
       "      <td>...</td>\n",
       "      <td>14.0</td>\n",
       "      <td>ELEVEN_THIRTY_TO_NOON</td>\n",
       "      <td>13.0</td>\n",
       "      <td>ELEVEN_TO_ELEVEN_THIRTY</td>\n",
       "      <td>True</td>\n",
       "      <td>6.487856</td>\n",
       "      <td>3.355533</td>\n",
       "      <td>3.346428</td>\n",
       "      <td>8.687559</td>\n",
       "      <td>6.502862</td>\n",
       "    </tr>\n",
       "    <tr>\n",
       "      <th>4</th>\n",
       "      <td>5</td>\n",
       "      <td>5593</td>\n",
       "      <td>2024-10-04</td>\n",
       "      <td>11:09:46</td>\n",
       "      <td>False</td>\n",
       "      <td>False</td>\n",
       "      <td>0</td>\n",
       "      <td>NaN</td>\n",
       "      <td>NaN</td>\n",
       "      <td>1.0</td>\n",
       "      <td>...</td>\n",
       "      <td>15.0</td>\n",
       "      <td>NOON_TO_TWELVE_THIRTY</td>\n",
       "      <td>15.0</td>\n",
       "      <td>NOON_TO_TWELVE_THIRTY</td>\n",
       "      <td>True</td>\n",
       "      <td>6.487856</td>\n",
       "      <td>3.355533</td>\n",
       "      <td>3.346428</td>\n",
       "      <td>8.687559</td>\n",
       "      <td>6.502862</td>\n",
       "    </tr>\n",
       "  </tbody>\n",
       "</table>\n",
       "<p>5 rows × 239 columns</p>\n",
       "</div>"
      ],
      "text/plain": [
       "   unique_id respondentid date_completed time_completed  is_pilot  \\\n",
       "0          1         5473     2024-10-04       08:41:12     False   \n",
       "1          2         5476     2024-10-04       08:40:04     False   \n",
       "2          3         5489     2024-10-04       08:51:36     False   \n",
       "3          4         5558     2024-10-04       10:32:58     False   \n",
       "4          5         5593     2024-10-04       11:09:46     False   \n",
       "\n",
       "   is_self_administered  record_type_synthetic  access_mode_frequency  \\\n",
       "0                 False                      0                    NaN   \n",
       "1                 False                      0                    NaN   \n",
       "2                 False                      0                    NaN   \n",
       "3                 False                      0                    NaN   \n",
       "4                 False                      0                    NaN   \n",
       "\n",
       "  access_mode_frequency_label  access_mode  ... trip_arrival_time  \\\n",
       "0                         NaN          NaN  ...               1.0   \n",
       "1                         NaN          1.0  ...              10.0   \n",
       "2                         NaN          NaN  ...               3.0   \n",
       "3                         NaN          1.0  ...              14.0   \n",
       "4                         NaN          1.0  ...              15.0   \n",
       "\n",
       "  trip_arrival_time_label  trip_start_time    trip_start_time_label  \\\n",
       "0     FIVE_TO_FIVE_THIRTY              1.0      FIVE_TO_FIVE_THIRTY   \n",
       "1      NINE_THIRTY_TO_TEN              8.0     EIGHT_THIRTY_TO_NINE   \n",
       "2       SIX_TO_SIX_THIRTY              3.0        SIX_TO_SIX_THIRTY   \n",
       "3   ELEVEN_THIRTY_TO_NOON             13.0  ELEVEN_TO_ELEVEN_THIRTY   \n",
       "4   NOON_TO_TWELVE_THIRTY             15.0    NOON_TO_TWELVE_THIRTY   \n",
       "\n",
       "   model_respondent_bool weight_departing_and_arriving weight_departing_only  \\\n",
       "0                   True                     10.840259             11.525574   \n",
       "1                   True                      6.487856              3.355533   \n",
       "2                   True                     10.840259             11.525574   \n",
       "3                   True                      6.487856              3.355533   \n",
       "4                   True                      6.487856              3.355533   \n",
       "\n",
       "   weight_departing_only_model_respondents weight_non_sas_departing_only  \\\n",
       "0                                11.622594                     19.179428   \n",
       "1                                 3.346428                      8.687559   \n",
       "2                                11.622594                     19.179428   \n",
       "3                                 3.346428                      8.687559   \n",
       "4                                 3.346428                      8.687559   \n",
       "\n",
       "   weight_departing_only_with_time_of_day  \n",
       "0                               10.874504  \n",
       "1                                6.502862  \n",
       "2                               10.874504  \n",
       "3                                6.502862  \n",
       "4                                6.502862  \n",
       "\n",
       "[5 rows x 239 columns]"
      ]
     },
     "execution_count": 4,
     "metadata": {},
     "output_type": "execute_result"
    }
   ],
   "source": [
    "clean_data_model_df.head()"
   ]
  },
  {
   "cell_type": "code",
   "execution_count": 5,
   "metadata": {},
   "outputs": [],
   "source": [
    "working_df = clean_data_model_df[['unique_id', 'is_pilot', 'is_self_administered', 'record_type_synthetic', 'respondentid', 'marketsegment_label', 'passenger_segment_label', 'main_mode_label', 'origin_latitude', 'origin_longitude', 'destination_latitude', 'destination_longitude']]"
   ]
  },
  {
   "cell_type": "code",
   "execution_count": 6,
   "metadata": {},
   "outputs": [],
   "source": [
    "working_df = working_df[working_df['record_type_synthetic']==0]"
   ]
  },
  {
   "cell_type": "code",
   "execution_count": 7,
   "metadata": {},
   "outputs": [
    {
     "data": {
      "text/plain": [
       "(4971, 12)"
      ]
     },
     "execution_count": 7,
     "metadata": {},
     "output_type": "execute_result"
    }
   ],
   "source": [
    "working_df.shape"
   ]
  },
  {
   "cell_type": "code",
   "execution_count": 8,
   "metadata": {},
   "outputs": [
    {
     "data": {
      "application/vnd.microsoft.datawrangler.viewer.v0+json": {
       "columns": [
        {
         "name": "index",
         "rawType": "int64",
         "type": "integer"
        },
        {
         "name": "unique_id",
         "rawType": "int64",
         "type": "integer"
        },
        {
         "name": "is_pilot",
         "rawType": "bool",
         "type": "boolean"
        },
        {
         "name": "is_self_administered",
         "rawType": "bool",
         "type": "boolean"
        },
        {
         "name": "record_type_synthetic",
         "rawType": "int64",
         "type": "integer"
        },
        {
         "name": "respondentid",
         "rawType": "object",
         "type": "unknown"
        },
        {
         "name": "marketsegment_label",
         "rawType": "object",
         "type": "string"
        },
        {
         "name": "passenger_segment_label",
         "rawType": "object",
         "type": "unknown"
        },
        {
         "name": "main_mode_label",
         "rawType": "object",
         "type": "string"
        },
        {
         "name": "origin_latitude",
         "rawType": "float64",
         "type": "float"
        },
        {
         "name": "origin_longitude",
         "rawType": "float64",
         "type": "float"
        },
        {
         "name": "destination_latitude",
         "rawType": "float64",
         "type": "float"
        },
        {
         "name": "destination_longitude",
         "rawType": "float64",
         "type": "float"
        }
       ],
       "ref": "aed94c6d-8c77-4b7b-855e-85285c8ae10f",
       "rows": [
        [
         "0",
         "1",
         "False",
         "False",
         "0",
         "5473",
         "EMPLOYEE",
         null,
         "PERSONAL_CAR_PARKED",
         "32.8167139999997",
         "-117.176897999999",
         "32.7326272999998",
         "-117.204064"
        ],
        [
         "1",
         "2",
         "False",
         "False",
         "0",
         "5476",
         "EMPLOYEE",
         null,
         "BUS_992",
         "32.639943",
         "-117.085774",
         "32.733783",
         "-117.193315"
        ],
        [
         "2",
         "3",
         "False",
         "False",
         "0",
         "5489",
         "EMPLOYEE",
         null,
         "PERSONAL_CAR_PARKED",
         "32.743009",
         "-117.131699",
         "32.7326272999998",
         "-117.204064"
        ],
        [
         "3",
         "4",
         "False",
         "False",
         "0",
         "5558",
         "EMPLOYEE",
         null,
         "BUS_992",
         "32.706752",
         "-117.14881",
         "32.7326272999998",
         "-117.204064"
        ],
        [
         "4",
         "5",
         "False",
         "False",
         "0",
         "5593",
         "EMPLOYEE",
         null,
         "BUS_992",
         "32.678108",
         "-117.099196",
         "32.7326272999998",
         "-117.204064"
        ]
       ],
       "shape": {
        "columns": 12,
        "rows": 5
       }
      },
      "text/html": [
       "<div>\n",
       "<style scoped>\n",
       "    .dataframe tbody tr th:only-of-type {\n",
       "        vertical-align: middle;\n",
       "    }\n",
       "\n",
       "    .dataframe tbody tr th {\n",
       "        vertical-align: top;\n",
       "    }\n",
       "\n",
       "    .dataframe thead th {\n",
       "        text-align: right;\n",
       "    }\n",
       "</style>\n",
       "<table border=\"1\" class=\"dataframe\">\n",
       "  <thead>\n",
       "    <tr style=\"text-align: right;\">\n",
       "      <th></th>\n",
       "      <th>unique_id</th>\n",
       "      <th>is_pilot</th>\n",
       "      <th>is_self_administered</th>\n",
       "      <th>record_type_synthetic</th>\n",
       "      <th>respondentid</th>\n",
       "      <th>marketsegment_label</th>\n",
       "      <th>passenger_segment_label</th>\n",
       "      <th>main_mode_label</th>\n",
       "      <th>origin_latitude</th>\n",
       "      <th>origin_longitude</th>\n",
       "      <th>destination_latitude</th>\n",
       "      <th>destination_longitude</th>\n",
       "    </tr>\n",
       "  </thead>\n",
       "  <tbody>\n",
       "    <tr>\n",
       "      <th>0</th>\n",
       "      <td>1</td>\n",
       "      <td>False</td>\n",
       "      <td>False</td>\n",
       "      <td>0</td>\n",
       "      <td>5473</td>\n",
       "      <td>EMPLOYEE</td>\n",
       "      <td>NaN</td>\n",
       "      <td>PERSONAL_CAR_PARKED</td>\n",
       "      <td>32.816714</td>\n",
       "      <td>-117.176898</td>\n",
       "      <td>32.732627</td>\n",
       "      <td>-117.204064</td>\n",
       "    </tr>\n",
       "    <tr>\n",
       "      <th>1</th>\n",
       "      <td>2</td>\n",
       "      <td>False</td>\n",
       "      <td>False</td>\n",
       "      <td>0</td>\n",
       "      <td>5476</td>\n",
       "      <td>EMPLOYEE</td>\n",
       "      <td>NaN</td>\n",
       "      <td>BUS_992</td>\n",
       "      <td>32.639943</td>\n",
       "      <td>-117.085774</td>\n",
       "      <td>32.733783</td>\n",
       "      <td>-117.193315</td>\n",
       "    </tr>\n",
       "    <tr>\n",
       "      <th>2</th>\n",
       "      <td>3</td>\n",
       "      <td>False</td>\n",
       "      <td>False</td>\n",
       "      <td>0</td>\n",
       "      <td>5489</td>\n",
       "      <td>EMPLOYEE</td>\n",
       "      <td>NaN</td>\n",
       "      <td>PERSONAL_CAR_PARKED</td>\n",
       "      <td>32.743009</td>\n",
       "      <td>-117.131699</td>\n",
       "      <td>32.732627</td>\n",
       "      <td>-117.204064</td>\n",
       "    </tr>\n",
       "    <tr>\n",
       "      <th>3</th>\n",
       "      <td>4</td>\n",
       "      <td>False</td>\n",
       "      <td>False</td>\n",
       "      <td>0</td>\n",
       "      <td>5558</td>\n",
       "      <td>EMPLOYEE</td>\n",
       "      <td>NaN</td>\n",
       "      <td>BUS_992</td>\n",
       "      <td>32.706752</td>\n",
       "      <td>-117.148810</td>\n",
       "      <td>32.732627</td>\n",
       "      <td>-117.204064</td>\n",
       "    </tr>\n",
       "    <tr>\n",
       "      <th>4</th>\n",
       "      <td>5</td>\n",
       "      <td>False</td>\n",
       "      <td>False</td>\n",
       "      <td>0</td>\n",
       "      <td>5593</td>\n",
       "      <td>EMPLOYEE</td>\n",
       "      <td>NaN</td>\n",
       "      <td>BUS_992</td>\n",
       "      <td>32.678108</td>\n",
       "      <td>-117.099196</td>\n",
       "      <td>32.732627</td>\n",
       "      <td>-117.204064</td>\n",
       "    </tr>\n",
       "  </tbody>\n",
       "</table>\n",
       "</div>"
      ],
      "text/plain": [
       "   unique_id  is_pilot  is_self_administered  record_type_synthetic  \\\n",
       "0          1     False                 False                      0   \n",
       "1          2     False                 False                      0   \n",
       "2          3     False                 False                      0   \n",
       "3          4     False                 False                      0   \n",
       "4          5     False                 False                      0   \n",
       "\n",
       "  respondentid marketsegment_label passenger_segment_label  \\\n",
       "0         5473            EMPLOYEE                     NaN   \n",
       "1         5476            EMPLOYEE                     NaN   \n",
       "2         5489            EMPLOYEE                     NaN   \n",
       "3         5558            EMPLOYEE                     NaN   \n",
       "4         5593            EMPLOYEE                     NaN   \n",
       "\n",
       "       main_mode_label  origin_latitude  origin_longitude  \\\n",
       "0  PERSONAL_CAR_PARKED        32.816714       -117.176898   \n",
       "1              BUS_992        32.639943       -117.085774   \n",
       "2  PERSONAL_CAR_PARKED        32.743009       -117.131699   \n",
       "3              BUS_992        32.706752       -117.148810   \n",
       "4              BUS_992        32.678108       -117.099196   \n",
       "\n",
       "   destination_latitude  destination_longitude  \n",
       "0             32.732627            -117.204064  \n",
       "1             32.733783            -117.193315  \n",
       "2             32.732627            -117.204064  \n",
       "3             32.732627            -117.204064  \n",
       "4             32.732627            -117.204064  "
      ]
     },
     "execution_count": 8,
     "metadata": {},
     "output_type": "execute_result"
    }
   ],
   "source": [
    "working_df.head()"
   ]
  },
  {
   "cell_type": "code",
   "execution_count": 9,
   "metadata": {},
   "outputs": [
    {
     "data": {
      "application/vnd.microsoft.datawrangler.viewer.v0+json": {
       "columns": [
        {
         "name": "main_mode_label",
         "rawType": "object",
         "type": "string"
        },
        {
         "name": "count",
         "rawType": "int64",
         "type": "integer"
        }
       ],
       "ref": "d061c2b2-0fc2-4630-806a-a72fcdef1b3d",
       "rows": [
        [
         "RIDEHAIL_TAXI",
         "1559"
        ],
        [
         "PERSONAL_CAR_DROPPED_OFF_PICKED_UP",
         "1487"
        ],
        [
         "PERSONAL_CAR_PARKED",
         "645"
        ],
        [
         "RENTAL_CAR",
         "625"
        ],
        [
         "AIRPORT_FLYER_SHUTTLE",
         "232"
        ],
        [
         "BUS_992",
         "188"
        ],
        [
         "SHARED_SHUTTLE_VAN",
         "149"
        ],
        [
         "OTHER",
         "35"
        ],
        [
         "PUBLIC_TRANSPORTATION",
         "26"
        ],
        [
         "WALK",
         "14"
        ],
        [
         "MICROMOBILITY_PERSONAL",
         "10"
        ],
        [
         "MICROMOBILITY_SHARED",
         "1"
        ]
       ],
       "shape": {
        "columns": 1,
        "rows": 12
       }
      },
      "text/plain": [
       "main_mode_label\n",
       "RIDEHAIL_TAXI                         1559\n",
       "PERSONAL_CAR_DROPPED_OFF_PICKED_UP    1487\n",
       "PERSONAL_CAR_PARKED                    645\n",
       "RENTAL_CAR                             625\n",
       "AIRPORT_FLYER_SHUTTLE                  232\n",
       "BUS_992                                188\n",
       "SHARED_SHUTTLE_VAN                     149\n",
       "OTHER                                   35\n",
       "PUBLIC_TRANSPORTATION                   26\n",
       "WALK                                    14\n",
       "MICROMOBILITY_PERSONAL                  10\n",
       "MICROMOBILITY_SHARED                     1\n",
       "Name: count, dtype: int64"
      ]
     },
     "execution_count": 9,
     "metadata": {},
     "output_type": "execute_result"
    }
   ],
   "source": [
    "working_df['main_mode_label'].value_counts()"
   ]
  },
  {
   "cell_type": "code",
   "execution_count": 10,
   "metadata": {},
   "outputs": [],
   "source": [
    "# Define is_transit_user\n",
    "working_df['is_transit_user'] = np.where(\n",
    "    working_df['main_mode_label'].isin(['BUS_992', 'AIRPORT_FLYER_SHUTTLE', 'PUBLIC_TRANSPORTATION']),\n",
    "    True,\n",
    "    False\n",
    ")\n",
    "\n",
    "# Define respondent_segment\n",
    "working_df['respondent_segment'] = np.where(\n",
    "    working_df['marketsegment_label'] == 'EMPLOYEE', 'Employee',\n",
    "    np.where(\n",
    "        working_df['passenger_segment_label'].str.startswith('RESIDENT_'), 'Resident',\n",
    "        np.where(\n",
    "            working_df['passenger_segment_label'].str.startswith('VISITOR_'), 'Visitor',\n",
    "            'Unknown'\n",
    "        )\n",
    "    )\n",
    ")\n",
    "\n",
    "# Define latitude\n",
    "working_df['latitude'] = np.where(\n",
    "    (working_df['respondent_segment'] == 'Employee') |\n",
    "    (working_df['passenger_segment_label'].str.endswith('DEPARTING', na=False)),\n",
    "    working_df['origin_latitude'],\n",
    "    np.where(\n",
    "        working_df['passenger_segment_label'].str.endswith('ARRIVING', na=False),\n",
    "        working_df['destination_latitude'],\n",
    "        np.nan\n",
    "    )\n",
    ")\n",
    "\n",
    "# Define longitude\n",
    "working_df['longitude'] = np.where(\n",
    "    (working_df['respondent_segment'] == 'Employee') |\n",
    "    (working_df['passenger_segment_label'].str.endswith('DEPARTING', na=False)),\n",
    "    working_df['origin_longitude'],\n",
    "    np.where(\n",
    "        working_df['passenger_segment_label'].str.endswith('ARRIVING', na=False),\n",
    "        working_df['destination_longitude'],\n",
    "        np.nan\n",
    "    )\n",
    ")"
   ]
  },
  {
   "cell_type": "code",
   "execution_count": 11,
   "metadata": {},
   "outputs": [
    {
     "data": {
      "application/vnd.microsoft.datawrangler.viewer.v0+json": {
       "columns": [
        {
         "name": "index",
         "rawType": "int64",
         "type": "integer"
        },
        {
         "name": "unique_id",
         "rawType": "int64",
         "type": "integer"
        },
        {
         "name": "is_pilot",
         "rawType": "bool",
         "type": "boolean"
        },
        {
         "name": "is_self_administered",
         "rawType": "bool",
         "type": "boolean"
        },
        {
         "name": "record_type_synthetic",
         "rawType": "int64",
         "type": "integer"
        },
        {
         "name": "respondentid",
         "rawType": "object",
         "type": "unknown"
        },
        {
         "name": "marketsegment_label",
         "rawType": "object",
         "type": "string"
        },
        {
         "name": "passenger_segment_label",
         "rawType": "object",
         "type": "unknown"
        },
        {
         "name": "main_mode_label",
         "rawType": "object",
         "type": "string"
        },
        {
         "name": "origin_latitude",
         "rawType": "float64",
         "type": "float"
        },
        {
         "name": "origin_longitude",
         "rawType": "float64",
         "type": "float"
        },
        {
         "name": "destination_latitude",
         "rawType": "float64",
         "type": "float"
        },
        {
         "name": "destination_longitude",
         "rawType": "float64",
         "type": "float"
        },
        {
         "name": "is_transit_user",
         "rawType": "bool",
         "type": "boolean"
        },
        {
         "name": "respondent_segment",
         "rawType": "object",
         "type": "string"
        },
        {
         "name": "latitude",
         "rawType": "float64",
         "type": "float"
        },
        {
         "name": "longitude",
         "rawType": "float64",
         "type": "float"
        }
       ],
       "ref": "1b96881f-3267-4f1c-8a14-8926349549f5",
       "rows": [
        [
         "0",
         "1",
         "False",
         "False",
         "0",
         "5473",
         "EMPLOYEE",
         null,
         "PERSONAL_CAR_PARKED",
         "32.8167139999997",
         "-117.176897999999",
         "32.7326272999998",
         "-117.204064",
         "False",
         "Employee",
         "32.8167139999997",
         "-117.176897999999"
        ],
        [
         "1",
         "2",
         "False",
         "False",
         "0",
         "5476",
         "EMPLOYEE",
         null,
         "BUS_992",
         "32.639943",
         "-117.085774",
         "32.733783",
         "-117.193315",
         "True",
         "Employee",
         "32.639943",
         "-117.085774"
        ],
        [
         "2",
         "3",
         "False",
         "False",
         "0",
         "5489",
         "EMPLOYEE",
         null,
         "PERSONAL_CAR_PARKED",
         "32.743009",
         "-117.131699",
         "32.7326272999998",
         "-117.204064",
         "False",
         "Employee",
         "32.743009",
         "-117.131699"
        ],
        [
         "3",
         "4",
         "False",
         "False",
         "0",
         "5558",
         "EMPLOYEE",
         null,
         "BUS_992",
         "32.706752",
         "-117.14881",
         "32.7326272999998",
         "-117.204064",
         "True",
         "Employee",
         "32.706752",
         "-117.14881"
        ],
        [
         "4",
         "5",
         "False",
         "False",
         "0",
         "5593",
         "EMPLOYEE",
         null,
         "BUS_992",
         "32.678108",
         "-117.099196",
         "32.7326272999998",
         "-117.204064",
         "True",
         "Employee",
         "32.678108",
         "-117.099196"
        ]
       ],
       "shape": {
        "columns": 16,
        "rows": 5
       }
      },
      "text/html": [
       "<div>\n",
       "<style scoped>\n",
       "    .dataframe tbody tr th:only-of-type {\n",
       "        vertical-align: middle;\n",
       "    }\n",
       "\n",
       "    .dataframe tbody tr th {\n",
       "        vertical-align: top;\n",
       "    }\n",
       "\n",
       "    .dataframe thead th {\n",
       "        text-align: right;\n",
       "    }\n",
       "</style>\n",
       "<table border=\"1\" class=\"dataframe\">\n",
       "  <thead>\n",
       "    <tr style=\"text-align: right;\">\n",
       "      <th></th>\n",
       "      <th>unique_id</th>\n",
       "      <th>is_pilot</th>\n",
       "      <th>is_self_administered</th>\n",
       "      <th>record_type_synthetic</th>\n",
       "      <th>respondentid</th>\n",
       "      <th>marketsegment_label</th>\n",
       "      <th>passenger_segment_label</th>\n",
       "      <th>main_mode_label</th>\n",
       "      <th>origin_latitude</th>\n",
       "      <th>origin_longitude</th>\n",
       "      <th>destination_latitude</th>\n",
       "      <th>destination_longitude</th>\n",
       "      <th>is_transit_user</th>\n",
       "      <th>respondent_segment</th>\n",
       "      <th>latitude</th>\n",
       "      <th>longitude</th>\n",
       "    </tr>\n",
       "  </thead>\n",
       "  <tbody>\n",
       "    <tr>\n",
       "      <th>0</th>\n",
       "      <td>1</td>\n",
       "      <td>False</td>\n",
       "      <td>False</td>\n",
       "      <td>0</td>\n",
       "      <td>5473</td>\n",
       "      <td>EMPLOYEE</td>\n",
       "      <td>NaN</td>\n",
       "      <td>PERSONAL_CAR_PARKED</td>\n",
       "      <td>32.816714</td>\n",
       "      <td>-117.176898</td>\n",
       "      <td>32.732627</td>\n",
       "      <td>-117.204064</td>\n",
       "      <td>False</td>\n",
       "      <td>Employee</td>\n",
       "      <td>32.816714</td>\n",
       "      <td>-117.176898</td>\n",
       "    </tr>\n",
       "    <tr>\n",
       "      <th>1</th>\n",
       "      <td>2</td>\n",
       "      <td>False</td>\n",
       "      <td>False</td>\n",
       "      <td>0</td>\n",
       "      <td>5476</td>\n",
       "      <td>EMPLOYEE</td>\n",
       "      <td>NaN</td>\n",
       "      <td>BUS_992</td>\n",
       "      <td>32.639943</td>\n",
       "      <td>-117.085774</td>\n",
       "      <td>32.733783</td>\n",
       "      <td>-117.193315</td>\n",
       "      <td>True</td>\n",
       "      <td>Employee</td>\n",
       "      <td>32.639943</td>\n",
       "      <td>-117.085774</td>\n",
       "    </tr>\n",
       "    <tr>\n",
       "      <th>2</th>\n",
       "      <td>3</td>\n",
       "      <td>False</td>\n",
       "      <td>False</td>\n",
       "      <td>0</td>\n",
       "      <td>5489</td>\n",
       "      <td>EMPLOYEE</td>\n",
       "      <td>NaN</td>\n",
       "      <td>PERSONAL_CAR_PARKED</td>\n",
       "      <td>32.743009</td>\n",
       "      <td>-117.131699</td>\n",
       "      <td>32.732627</td>\n",
       "      <td>-117.204064</td>\n",
       "      <td>False</td>\n",
       "      <td>Employee</td>\n",
       "      <td>32.743009</td>\n",
       "      <td>-117.131699</td>\n",
       "    </tr>\n",
       "    <tr>\n",
       "      <th>3</th>\n",
       "      <td>4</td>\n",
       "      <td>False</td>\n",
       "      <td>False</td>\n",
       "      <td>0</td>\n",
       "      <td>5558</td>\n",
       "      <td>EMPLOYEE</td>\n",
       "      <td>NaN</td>\n",
       "      <td>BUS_992</td>\n",
       "      <td>32.706752</td>\n",
       "      <td>-117.148810</td>\n",
       "      <td>32.732627</td>\n",
       "      <td>-117.204064</td>\n",
       "      <td>True</td>\n",
       "      <td>Employee</td>\n",
       "      <td>32.706752</td>\n",
       "      <td>-117.148810</td>\n",
       "    </tr>\n",
       "    <tr>\n",
       "      <th>4</th>\n",
       "      <td>5</td>\n",
       "      <td>False</td>\n",
       "      <td>False</td>\n",
       "      <td>0</td>\n",
       "      <td>5593</td>\n",
       "      <td>EMPLOYEE</td>\n",
       "      <td>NaN</td>\n",
       "      <td>BUS_992</td>\n",
       "      <td>32.678108</td>\n",
       "      <td>-117.099196</td>\n",
       "      <td>32.732627</td>\n",
       "      <td>-117.204064</td>\n",
       "      <td>True</td>\n",
       "      <td>Employee</td>\n",
       "      <td>32.678108</td>\n",
       "      <td>-117.099196</td>\n",
       "    </tr>\n",
       "  </tbody>\n",
       "</table>\n",
       "</div>"
      ],
      "text/plain": [
       "   unique_id  is_pilot  is_self_administered  record_type_synthetic  \\\n",
       "0          1     False                 False                      0   \n",
       "1          2     False                 False                      0   \n",
       "2          3     False                 False                      0   \n",
       "3          4     False                 False                      0   \n",
       "4          5     False                 False                      0   \n",
       "\n",
       "  respondentid marketsegment_label passenger_segment_label  \\\n",
       "0         5473            EMPLOYEE                     NaN   \n",
       "1         5476            EMPLOYEE                     NaN   \n",
       "2         5489            EMPLOYEE                     NaN   \n",
       "3         5558            EMPLOYEE                     NaN   \n",
       "4         5593            EMPLOYEE                     NaN   \n",
       "\n",
       "       main_mode_label  origin_latitude  origin_longitude  \\\n",
       "0  PERSONAL_CAR_PARKED        32.816714       -117.176898   \n",
       "1              BUS_992        32.639943       -117.085774   \n",
       "2  PERSONAL_CAR_PARKED        32.743009       -117.131699   \n",
       "3              BUS_992        32.706752       -117.148810   \n",
       "4              BUS_992        32.678108       -117.099196   \n",
       "\n",
       "   destination_latitude  destination_longitude  is_transit_user  \\\n",
       "0             32.732627            -117.204064            False   \n",
       "1             32.733783            -117.193315             True   \n",
       "2             32.732627            -117.204064            False   \n",
       "3             32.732627            -117.204064             True   \n",
       "4             32.732627            -117.204064             True   \n",
       "\n",
       "  respondent_segment   latitude   longitude  \n",
       "0           Employee  32.816714 -117.176898  \n",
       "1           Employee  32.639943 -117.085774  \n",
       "2           Employee  32.743009 -117.131699  \n",
       "3           Employee  32.706752 -117.148810  \n",
       "4           Employee  32.678108 -117.099196  "
      ]
     },
     "execution_count": 11,
     "metadata": {},
     "output_type": "execute_result"
    }
   ],
   "source": [
    "working_df.head()"
   ]
  },
  {
   "cell_type": "code",
   "execution_count": 12,
   "metadata": {},
   "outputs": [
    {
     "data": {
      "application/vnd.microsoft.datawrangler.viewer.v0+json": {
       "columns": [
        {
         "name": "respondent_segment",
         "rawType": "object",
         "type": "string"
        },
        {
         "name": "count",
         "rawType": "int64",
         "type": "integer"
        }
       ],
       "ref": "c7a58dcb-7a8c-4d9e-9c30-b25199c7a070",
       "rows": [
        [
         "Visitor",
         "2549"
        ],
        [
         "Resident",
         "1763"
        ],
        [
         "Employee",
         "659"
        ]
       ],
       "shape": {
        "columns": 1,
        "rows": 3
       }
      },
      "text/plain": [
       "respondent_segment\n",
       "Visitor     2549\n",
       "Resident    1763\n",
       "Employee     659\n",
       "Name: count, dtype: int64"
      ]
     },
     "execution_count": 12,
     "metadata": {},
     "output_type": "execute_result"
    }
   ],
   "source": [
    "working_df['respondent_segment'].value_counts()"
   ]
  },
  {
   "cell_type": "code",
   "execution_count": 13,
   "metadata": {},
   "outputs": [
    {
     "data": {
      "application/vnd.microsoft.datawrangler.viewer.v0+json": {
       "columns": [
        {
         "name": "is_transit_user",
         "rawType": "bool",
         "type": "boolean"
        },
        {
         "name": "count",
         "rawType": "int64",
         "type": "integer"
        }
       ],
       "ref": "6cd79d74-a286-42f8-8fed-738bf9c25c54",
       "rows": [
        [
         "False",
         "4525"
        ],
        [
         "True",
         "446"
        ]
       ],
       "shape": {
        "columns": 1,
        "rows": 2
       }
      },
      "text/plain": [
       "is_transit_user\n",
       "False    4525\n",
       "True      446\n",
       "Name: count, dtype: int64"
      ]
     },
     "execution_count": 13,
     "metadata": {},
     "output_type": "execute_result"
    }
   ],
   "source": [
    "working_df['is_transit_user'].value_counts()"
   ]
  },
  {
   "cell_type": "code",
   "execution_count": 14,
   "metadata": {},
   "outputs": [],
   "source": [
    "# Create base map\n",
    "m = folium.Map(location=[32.73, -117.16], zoom_start=11)\n",
    "\n",
    "# Segment names and colors\n",
    "segment_labels = {\n",
    "    'Resident - Transit': 'blue',\n",
    "    'Resident - Non-Transit': 'darkblue',\n",
    "    'Visitor - Transit': 'green',\n",
    "    'Visitor - Non-Transit': 'darkgreen',\n",
    "    'Employee - Transit': 'orange',\n",
    "    'Employee - Non-Transit': 'red'\n",
    "}\n",
    "\n",
    "# Create a FeatureGroup for each segment\n",
    "layers = {label: folium.FeatureGroup(name=label, show=True) for label in segment_labels}\n",
    "\n",
    "# Add markers to their respective layer\n",
    "for _, row in working_df.iterrows():\n",
    "    if pd.notnull(row['latitude']) and pd.notnull(row['longitude']):\n",
    "        segment_key = f\"{row['respondent_segment']} - {'Transit' if row['is_transit_user'] else 'Non-Transit'}\"\n",
    "        color = segment_labels.get(segment_key, 'gray')\n",
    "\n",
    "        folium.CircleMarker(\n",
    "            location=[row['latitude'], row['longitude']],\n",
    "            radius=4,\n",
    "            color=color,\n",
    "            fill=True,\n",
    "            fill_opacity=0.6,\n",
    "            popup=segment_key\n",
    "        ).add_to(layers[segment_key])\n",
    "\n",
    "# Add layers to map\n",
    "for fg in layers.values():\n",
    "    fg.add_to(m)\n",
    "\n",
    "# Add layer control\n",
    "folium.LayerControl(collapsed=False).add_to(m)\n",
    "\n",
    "# Add custom legend\n",
    "legend_html = \"\"\"\n",
    "{% macro html(this, kwargs) %}\n",
    "<div style=\"\n",
    "    position: fixed;\n",
    "    bottom: 50px; left: 50px; width: 220px; height: 190px;\n",
    "    z-index:9999; font-size:14px;\n",
    "    background-color: white;\n",
    "    padding: 10px;\n",
    "    border:2px solid grey;\n",
    "    border-radius:8px;\n",
    "    box-shadow: 2px 2px 6px rgba(0,0,0,0.3);\n",
    "\">\n",
    "<b>Legend</b><br>\n",
    "<span style=\"color:blue;\">●</span> Resident - Transit<br>\n",
    "<span style=\"color:darkblue;\">●</span> Resident - Non-Transit<br>\n",
    "<span style=\"color:green;\">●</span> Visitor - Transit<br>\n",
    "<span style=\"color:darkgreen;\">●</span> Visitor - Non-Transit<br>\n",
    "<span style=\"color:orange;\">●</span> Employee - Transit<br>\n",
    "<span style=\"color:red;\">●</span> Employee - Non-Transit<br>\n",
    "</div>\n",
    "{% endmacro %}\n",
    "\"\"\"\n",
    "\n",
    "legend = MacroElement()\n",
    "legend._template = Template(legend_html)\n",
    "m.get_root().add_child(legend)\n",
    "\n",
    "# Save map\n",
    "m.save(map_file_path)\n"
   ]
  }
 ],
 "metadata": {
  "kernelspec": {
   "display_name": ".venv",
   "language": "python",
   "name": "python3"
  },
  "language_info": {
   "codemirror_mode": {
    "name": "ipython",
    "version": 3
   },
   "file_extension": ".py",
   "mimetype": "text/x-python",
   "name": "python",
   "nbconvert_exporter": "python",
   "pygments_lexer": "ipython3",
   "version": "3.12.10"
  }
 },
 "nbformat": 4,
 "nbformat_minor": 2
}
