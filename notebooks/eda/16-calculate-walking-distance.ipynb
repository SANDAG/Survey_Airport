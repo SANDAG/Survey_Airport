{
 "cells": [
  {
   "cell_type": "code",
   "execution_count": 39,
   "metadata": {},
   "outputs": [],
   "source": [
    "import pandas as pd\n",
    "import os\n",
    "import matplotlib.pyplot as plt\n",
    "from geopy.distance import geodesic"
   ]
  },
  {
   "cell_type": "code",
   "execution_count": 40,
   "metadata": {},
   "outputs": [],
   "source": [
    "interim_dir = \"../../data/interim\"\n",
    "processed_dir = \"../../data/processed\"\n",
    "\n",
    "outliers_output_file_path = f'{processed_dir}/access_mode_walk_distance_outliers.csv'\n",
    "\n",
    "data_model_file = os.path.join(processed_dir, \"data_model_output.csv\")"
   ]
  },
  {
   "cell_type": "code",
   "execution_count": 41,
   "metadata": {},
   "outputs": [
    {
     "name": "stderr",
     "output_type": "stream",
     "text": [
      "C:\\Users\\mwe\\AppData\\Local\\Temp\\ipykernel_8416\\3316024677.py:1: DtypeWarning: Columns (1,13,14,25,26,27,28,29,30,31,32,33,34,35,36,37,38,39,40,41,42,43,44,45,47,48,54,55,59,65,69,74,77,78,80,82,83,86,93,95,104,105,106,107,108,109,110,111,112,113,114,115,116,117,118,119,120,121,122,123,124,125,126,127,128,129,130,132,142,147,150,151,152,155,156,157,167,169,177,179,196,197,198,201,210,211,216,223,237,239,240,241,242,243,244,246,248,249,273,283,284,285,288,291,295,296,297,299,300,335,337,338,340,411,414,435) have mixed types. Specify dtype option on import or set low_memory=False.\n",
      "  data_model_df = pd.read_csv(data_model_file)\n"
     ]
    }
   ],
   "source": [
    "data_model_df = pd.read_csv(data_model_file)\n",
    "data_model_df.head()\n",
    "data_model_df = data_model_df[\n",
    "    (data_model_df['is_completed'] == 1) &\n",
    "    (data_model_df['record_type_synthetic'] == 0) #&\n",
    "    # (data_model_df['submit']==True)\n",
    "    ]"
   ]
  },
  {
   "cell_type": "code",
   "execution_count": 42,
   "metadata": {},
   "outputs": [],
   "source": [
    "working_df = data_model_df[['respondentid', 'marketsegment_label', 'passenger_type_label', 'main_mode_label', 'access_mode_label',\n",
    "                            'egress_mode_label', 'origin_latitude', 'origin_longitude', 'destination_latitude', 'destination_longitude', 'transit_boarding_latitude', 'transit_boarding_longitude',\n",
    "                            'transit_alighting_latitude', 'transit_alighting_longitude']]"
   ]
  },
  {
   "cell_type": "code",
   "execution_count": 43,
   "metadata": {},
   "outputs": [
    {
     "data": {
      "application/vnd.microsoft.datawrangler.viewer.v0+json": {
       "columns": [
        {
         "name": "index",
         "rawType": "int64",
         "type": "integer"
        },
        {
         "name": "respondentid",
         "rawType": "object",
         "type": "unknown"
        },
        {
         "name": "marketsegment_label",
         "rawType": "object",
         "type": "string"
        },
        {
         "name": "passenger_type_label",
         "rawType": "object",
         "type": "unknown"
        },
        {
         "name": "main_mode_label",
         "rawType": "object",
         "type": "string"
        },
        {
         "name": "access_mode_label",
         "rawType": "object",
         "type": "unknown"
        },
        {
         "name": "egress_mode_label",
         "rawType": "object",
         "type": "unknown"
        },
        {
         "name": "origin_latitude",
         "rawType": "float64",
         "type": "float"
        },
        {
         "name": "origin_longitude",
         "rawType": "float64",
         "type": "float"
        },
        {
         "name": "destination_latitude",
         "rawType": "float64",
         "type": "float"
        },
        {
         "name": "destination_longitude",
         "rawType": "float64",
         "type": "float"
        },
        {
         "name": "transit_boarding_latitude",
         "rawType": "float64",
         "type": "float"
        },
        {
         "name": "transit_boarding_longitude",
         "rawType": "float64",
         "type": "float"
        },
        {
         "name": "transit_alighting_latitude",
         "rawType": "float64",
         "type": "float"
        },
        {
         "name": "transit_alighting_longitude",
         "rawType": "float64",
         "type": "float"
        }
       ],
       "ref": "d52595d9-1da1-4624-829b-7866d3769726",
       "rows": [
        [
         "0",
         "5473",
         "EMPLOYEE",
         null,
         "DROVE_ALONE_AND_PARKED",
         null,
         null,
         "32.8167139999997",
         "-117.176897999999",
         "32.7326272999998",
         "-117.204064",
         null,
         null,
         null,
         null
        ],
        [
         "1",
         "5476",
         "EMPLOYEE",
         null,
         "MTS_ROUTE_992",
         "WALK",
         null,
         "32.639943",
         "-117.085774",
         "32.733783",
         "-117.193315",
         "32.638845",
         "-117.099065999999",
         "32.7321330218128",
         "-117.197756006971"
        ],
        [
         "2",
         "5489",
         "EMPLOYEE",
         null,
         "DROVE_ALONE_AND_PARKED",
         null,
         null,
         "32.743009",
         "-117.131699",
         "32.7326272999998",
         "-117.204064",
         null,
         null,
         null,
         null
        ],
        [
         "3",
         "5558",
         "EMPLOYEE",
         null,
         "MTS_ROUTE_992",
         "WALK",
         null,
         "32.706752",
         "-117.14881",
         "32.7326272999998",
         "-117.204064",
         "32.7158324767128",
         "-117.154062897256",
         "32.7314191559718",
         "-117.203009775925"
        ],
        [
         "4",
         "5593",
         "EMPLOYEE",
         null,
         "MTS_ROUTE_992",
         "WALK",
         null,
         "32.678108",
         "-117.099196",
         "32.7326272999998",
         "-117.204064",
         "32.6746401649301",
         "-117.113186402221",
         "32.7314191559718",
         "-117.203009775925"
        ]
       ],
       "shape": {
        "columns": 14,
        "rows": 5
       }
      },
      "text/html": [
       "<div>\n",
       "<style scoped>\n",
       "    .dataframe tbody tr th:only-of-type {\n",
       "        vertical-align: middle;\n",
       "    }\n",
       "\n",
       "    .dataframe tbody tr th {\n",
       "        vertical-align: top;\n",
       "    }\n",
       "\n",
       "    .dataframe thead th {\n",
       "        text-align: right;\n",
       "    }\n",
       "</style>\n",
       "<table border=\"1\" class=\"dataframe\">\n",
       "  <thead>\n",
       "    <tr style=\"text-align: right;\">\n",
       "      <th></th>\n",
       "      <th>respondentid</th>\n",
       "      <th>marketsegment_label</th>\n",
       "      <th>passenger_type_label</th>\n",
       "      <th>main_mode_label</th>\n",
       "      <th>access_mode_label</th>\n",
       "      <th>egress_mode_label</th>\n",
       "      <th>origin_latitude</th>\n",
       "      <th>origin_longitude</th>\n",
       "      <th>destination_latitude</th>\n",
       "      <th>destination_longitude</th>\n",
       "      <th>transit_boarding_latitude</th>\n",
       "      <th>transit_boarding_longitude</th>\n",
       "      <th>transit_alighting_latitude</th>\n",
       "      <th>transit_alighting_longitude</th>\n",
       "    </tr>\n",
       "  </thead>\n",
       "  <tbody>\n",
       "    <tr>\n",
       "      <th>0</th>\n",
       "      <td>5473</td>\n",
       "      <td>EMPLOYEE</td>\n",
       "      <td>NaN</td>\n",
       "      <td>DROVE_ALONE_AND_PARKED</td>\n",
       "      <td>NaN</td>\n",
       "      <td>NaN</td>\n",
       "      <td>32.816714</td>\n",
       "      <td>-117.176898</td>\n",
       "      <td>32.732627</td>\n",
       "      <td>-117.204064</td>\n",
       "      <td>NaN</td>\n",
       "      <td>NaN</td>\n",
       "      <td>NaN</td>\n",
       "      <td>NaN</td>\n",
       "    </tr>\n",
       "    <tr>\n",
       "      <th>1</th>\n",
       "      <td>5476</td>\n",
       "      <td>EMPLOYEE</td>\n",
       "      <td>NaN</td>\n",
       "      <td>MTS_ROUTE_992</td>\n",
       "      <td>WALK</td>\n",
       "      <td>NaN</td>\n",
       "      <td>32.639943</td>\n",
       "      <td>-117.085774</td>\n",
       "      <td>32.733783</td>\n",
       "      <td>-117.193315</td>\n",
       "      <td>32.638845</td>\n",
       "      <td>-117.099066</td>\n",
       "      <td>32.732133</td>\n",
       "      <td>-117.197756</td>\n",
       "    </tr>\n",
       "    <tr>\n",
       "      <th>2</th>\n",
       "      <td>5489</td>\n",
       "      <td>EMPLOYEE</td>\n",
       "      <td>NaN</td>\n",
       "      <td>DROVE_ALONE_AND_PARKED</td>\n",
       "      <td>NaN</td>\n",
       "      <td>NaN</td>\n",
       "      <td>32.743009</td>\n",
       "      <td>-117.131699</td>\n",
       "      <td>32.732627</td>\n",
       "      <td>-117.204064</td>\n",
       "      <td>NaN</td>\n",
       "      <td>NaN</td>\n",
       "      <td>NaN</td>\n",
       "      <td>NaN</td>\n",
       "    </tr>\n",
       "    <tr>\n",
       "      <th>3</th>\n",
       "      <td>5558</td>\n",
       "      <td>EMPLOYEE</td>\n",
       "      <td>NaN</td>\n",
       "      <td>MTS_ROUTE_992</td>\n",
       "      <td>WALK</td>\n",
       "      <td>NaN</td>\n",
       "      <td>32.706752</td>\n",
       "      <td>-117.148810</td>\n",
       "      <td>32.732627</td>\n",
       "      <td>-117.204064</td>\n",
       "      <td>32.715832</td>\n",
       "      <td>-117.154063</td>\n",
       "      <td>32.731419</td>\n",
       "      <td>-117.203010</td>\n",
       "    </tr>\n",
       "    <tr>\n",
       "      <th>4</th>\n",
       "      <td>5593</td>\n",
       "      <td>EMPLOYEE</td>\n",
       "      <td>NaN</td>\n",
       "      <td>MTS_ROUTE_992</td>\n",
       "      <td>WALK</td>\n",
       "      <td>NaN</td>\n",
       "      <td>32.678108</td>\n",
       "      <td>-117.099196</td>\n",
       "      <td>32.732627</td>\n",
       "      <td>-117.204064</td>\n",
       "      <td>32.674640</td>\n",
       "      <td>-117.113186</td>\n",
       "      <td>32.731419</td>\n",
       "      <td>-117.203010</td>\n",
       "    </tr>\n",
       "  </tbody>\n",
       "</table>\n",
       "</div>"
      ],
      "text/plain": [
       "  respondentid marketsegment_label passenger_type_label  \\\n",
       "0         5473            EMPLOYEE                  NaN   \n",
       "1         5476            EMPLOYEE                  NaN   \n",
       "2         5489            EMPLOYEE                  NaN   \n",
       "3         5558            EMPLOYEE                  NaN   \n",
       "4         5593            EMPLOYEE                  NaN   \n",
       "\n",
       "          main_mode_label access_mode_label egress_mode_label  \\\n",
       "0  DROVE_ALONE_AND_PARKED               NaN               NaN   \n",
       "1           MTS_ROUTE_992              WALK               NaN   \n",
       "2  DROVE_ALONE_AND_PARKED               NaN               NaN   \n",
       "3           MTS_ROUTE_992              WALK               NaN   \n",
       "4           MTS_ROUTE_992              WALK               NaN   \n",
       "\n",
       "   origin_latitude  origin_longitude  destination_latitude  \\\n",
       "0        32.816714       -117.176898             32.732627   \n",
       "1        32.639943       -117.085774             32.733783   \n",
       "2        32.743009       -117.131699             32.732627   \n",
       "3        32.706752       -117.148810             32.732627   \n",
       "4        32.678108       -117.099196             32.732627   \n",
       "\n",
       "   destination_longitude  transit_boarding_latitude  \\\n",
       "0            -117.204064                        NaN   \n",
       "1            -117.193315                  32.638845   \n",
       "2            -117.204064                        NaN   \n",
       "3            -117.204064                  32.715832   \n",
       "4            -117.204064                  32.674640   \n",
       "\n",
       "   transit_boarding_longitude  transit_alighting_latitude  \\\n",
       "0                         NaN                         NaN   \n",
       "1                 -117.099066                   32.732133   \n",
       "2                         NaN                         NaN   \n",
       "3                 -117.154063                   32.731419   \n",
       "4                 -117.113186                   32.731419   \n",
       "\n",
       "   transit_alighting_longitude  \n",
       "0                          NaN  \n",
       "1                  -117.197756  \n",
       "2                          NaN  \n",
       "3                  -117.203010  \n",
       "4                  -117.203010  "
      ]
     },
     "execution_count": 43,
     "metadata": {},
     "output_type": "execute_result"
    }
   ],
   "source": [
    "working_df.head()"
   ]
  },
  {
   "cell_type": "code",
   "execution_count": 44,
   "metadata": {},
   "outputs": [
    {
     "data": {
      "text/plain": [
       "5378"
      ]
     },
     "execution_count": 44,
     "metadata": {},
     "output_type": "execute_result"
    }
   ],
   "source": [
    "len(working_df)"
   ]
  },
  {
   "cell_type": "code",
   "execution_count": 45,
   "metadata": {},
   "outputs": [],
   "source": [
    "working_df = working_df[\n",
    "    working_df[['transit_boarding_latitude', 'transit_boarding_longitude',\n",
    "                'transit_alighting_latitude', 'transit_alighting_longitude',\n",
    "                'origin_latitude', 'origin_longitude',\n",
    "                'destination_latitude', 'destination_longitude']].notna().all(axis=1)\n",
    "]\n"
   ]
  },
  {
   "cell_type": "code",
   "execution_count": 46,
   "metadata": {},
   "outputs": [
    {
     "data": {
      "application/vnd.microsoft.datawrangler.viewer.v0+json": {
       "columns": [
        {
         "name": "index",
         "rawType": "int64",
         "type": "integer"
        },
        {
         "name": "respondentid",
         "rawType": "object",
         "type": "unknown"
        },
        {
         "name": "marketsegment_label",
         "rawType": "object",
         "type": "string"
        },
        {
         "name": "passenger_type_label",
         "rawType": "object",
         "type": "unknown"
        },
        {
         "name": "main_mode_label",
         "rawType": "object",
         "type": "string"
        },
        {
         "name": "access_mode_label",
         "rawType": "object",
         "type": "string"
        },
        {
         "name": "egress_mode_label",
         "rawType": "object",
         "type": "unknown"
        },
        {
         "name": "origin_latitude",
         "rawType": "float64",
         "type": "float"
        },
        {
         "name": "origin_longitude",
         "rawType": "float64",
         "type": "float"
        },
        {
         "name": "destination_latitude",
         "rawType": "float64",
         "type": "float"
        },
        {
         "name": "destination_longitude",
         "rawType": "float64",
         "type": "float"
        },
        {
         "name": "transit_boarding_latitude",
         "rawType": "float64",
         "type": "float"
        },
        {
         "name": "transit_boarding_longitude",
         "rawType": "float64",
         "type": "float"
        },
        {
         "name": "transit_alighting_latitude",
         "rawType": "float64",
         "type": "float"
        },
        {
         "name": "transit_alighting_longitude",
         "rawType": "float64",
         "type": "float"
        }
       ],
       "ref": "1a4effcd-576b-4f87-9f9c-21435e1b7c9c",
       "rows": [
        [
         "1",
         "5476",
         "EMPLOYEE",
         null,
         "MTS_ROUTE_992",
         "WALK",
         null,
         "32.639943",
         "-117.085774",
         "32.733783",
         "-117.193315",
         "32.638845",
         "-117.099065999999",
         "32.7321330218128",
         "-117.197756006971"
        ],
        [
         "3",
         "5558",
         "EMPLOYEE",
         null,
         "MTS_ROUTE_992",
         "WALK",
         null,
         "32.706752",
         "-117.14881",
         "32.7326272999998",
         "-117.204064",
         "32.7158324767128",
         "-117.154062897256",
         "32.7314191559718",
         "-117.203009775925"
        ],
        [
         "4",
         "5593",
         "EMPLOYEE",
         null,
         "MTS_ROUTE_992",
         "WALK",
         null,
         "32.678108",
         "-117.099196",
         "32.7326272999998",
         "-117.204064",
         "32.6746401649301",
         "-117.113186402221",
         "32.7314191559718",
         "-117.203009775925"
        ],
        [
         "6",
         "5613",
         "EMPLOYEE",
         null,
         "AIRPORT_FLYER_SHUTTLE",
         "WALK",
         null,
         "32.755747",
         "-117.197638",
         "32.7326272999998",
         "-117.204064",
         "32.7553089999998",
         "-117.199526",
         "32.731527",
         "-117.20227"
        ],
        [
         "7",
         "5622",
         "EMPLOYEE",
         null,
         "MTS_ROUTE_992",
         "WALK",
         null,
         "32.690364",
         "-117.174227",
         "32.733783",
         "-117.193315",
         "32.691772576207",
         "-117.176136732818",
         "32.7321330218128",
         "-117.197756006971"
        ]
       ],
       "shape": {
        "columns": 14,
        "rows": 5
       }
      },
      "text/html": [
       "<div>\n",
       "<style scoped>\n",
       "    .dataframe tbody tr th:only-of-type {\n",
       "        vertical-align: middle;\n",
       "    }\n",
       "\n",
       "    .dataframe tbody tr th {\n",
       "        vertical-align: top;\n",
       "    }\n",
       "\n",
       "    .dataframe thead th {\n",
       "        text-align: right;\n",
       "    }\n",
       "</style>\n",
       "<table border=\"1\" class=\"dataframe\">\n",
       "  <thead>\n",
       "    <tr style=\"text-align: right;\">\n",
       "      <th></th>\n",
       "      <th>respondentid</th>\n",
       "      <th>marketsegment_label</th>\n",
       "      <th>passenger_type_label</th>\n",
       "      <th>main_mode_label</th>\n",
       "      <th>access_mode_label</th>\n",
       "      <th>egress_mode_label</th>\n",
       "      <th>origin_latitude</th>\n",
       "      <th>origin_longitude</th>\n",
       "      <th>destination_latitude</th>\n",
       "      <th>destination_longitude</th>\n",
       "      <th>transit_boarding_latitude</th>\n",
       "      <th>transit_boarding_longitude</th>\n",
       "      <th>transit_alighting_latitude</th>\n",
       "      <th>transit_alighting_longitude</th>\n",
       "    </tr>\n",
       "  </thead>\n",
       "  <tbody>\n",
       "    <tr>\n",
       "      <th>1</th>\n",
       "      <td>5476</td>\n",
       "      <td>EMPLOYEE</td>\n",
       "      <td>NaN</td>\n",
       "      <td>MTS_ROUTE_992</td>\n",
       "      <td>WALK</td>\n",
       "      <td>NaN</td>\n",
       "      <td>32.639943</td>\n",
       "      <td>-117.085774</td>\n",
       "      <td>32.733783</td>\n",
       "      <td>-117.193315</td>\n",
       "      <td>32.638845</td>\n",
       "      <td>-117.099066</td>\n",
       "      <td>32.732133</td>\n",
       "      <td>-117.197756</td>\n",
       "    </tr>\n",
       "    <tr>\n",
       "      <th>3</th>\n",
       "      <td>5558</td>\n",
       "      <td>EMPLOYEE</td>\n",
       "      <td>NaN</td>\n",
       "      <td>MTS_ROUTE_992</td>\n",
       "      <td>WALK</td>\n",
       "      <td>NaN</td>\n",
       "      <td>32.706752</td>\n",
       "      <td>-117.148810</td>\n",
       "      <td>32.732627</td>\n",
       "      <td>-117.204064</td>\n",
       "      <td>32.715832</td>\n",
       "      <td>-117.154063</td>\n",
       "      <td>32.731419</td>\n",
       "      <td>-117.203010</td>\n",
       "    </tr>\n",
       "    <tr>\n",
       "      <th>4</th>\n",
       "      <td>5593</td>\n",
       "      <td>EMPLOYEE</td>\n",
       "      <td>NaN</td>\n",
       "      <td>MTS_ROUTE_992</td>\n",
       "      <td>WALK</td>\n",
       "      <td>NaN</td>\n",
       "      <td>32.678108</td>\n",
       "      <td>-117.099196</td>\n",
       "      <td>32.732627</td>\n",
       "      <td>-117.204064</td>\n",
       "      <td>32.674640</td>\n",
       "      <td>-117.113186</td>\n",
       "      <td>32.731419</td>\n",
       "      <td>-117.203010</td>\n",
       "    </tr>\n",
       "    <tr>\n",
       "      <th>6</th>\n",
       "      <td>5613</td>\n",
       "      <td>EMPLOYEE</td>\n",
       "      <td>NaN</td>\n",
       "      <td>AIRPORT_FLYER_SHUTTLE</td>\n",
       "      <td>WALK</td>\n",
       "      <td>NaN</td>\n",
       "      <td>32.755747</td>\n",
       "      <td>-117.197638</td>\n",
       "      <td>32.732627</td>\n",
       "      <td>-117.204064</td>\n",
       "      <td>32.755309</td>\n",
       "      <td>-117.199526</td>\n",
       "      <td>32.731527</td>\n",
       "      <td>-117.202270</td>\n",
       "    </tr>\n",
       "    <tr>\n",
       "      <th>7</th>\n",
       "      <td>5622</td>\n",
       "      <td>EMPLOYEE</td>\n",
       "      <td>NaN</td>\n",
       "      <td>MTS_ROUTE_992</td>\n",
       "      <td>WALK</td>\n",
       "      <td>NaN</td>\n",
       "      <td>32.690364</td>\n",
       "      <td>-117.174227</td>\n",
       "      <td>32.733783</td>\n",
       "      <td>-117.193315</td>\n",
       "      <td>32.691773</td>\n",
       "      <td>-117.176137</td>\n",
       "      <td>32.732133</td>\n",
       "      <td>-117.197756</td>\n",
       "    </tr>\n",
       "  </tbody>\n",
       "</table>\n",
       "</div>"
      ],
      "text/plain": [
       "  respondentid marketsegment_label passenger_type_label  \\\n",
       "1         5476            EMPLOYEE                  NaN   \n",
       "3         5558            EMPLOYEE                  NaN   \n",
       "4         5593            EMPLOYEE                  NaN   \n",
       "6         5613            EMPLOYEE                  NaN   \n",
       "7         5622            EMPLOYEE                  NaN   \n",
       "\n",
       "         main_mode_label access_mode_label egress_mode_label  origin_latitude  \\\n",
       "1          MTS_ROUTE_992              WALK               NaN        32.639943   \n",
       "3          MTS_ROUTE_992              WALK               NaN        32.706752   \n",
       "4          MTS_ROUTE_992              WALK               NaN        32.678108   \n",
       "6  AIRPORT_FLYER_SHUTTLE              WALK               NaN        32.755747   \n",
       "7          MTS_ROUTE_992              WALK               NaN        32.690364   \n",
       "\n",
       "   origin_longitude  destination_latitude  destination_longitude  \\\n",
       "1       -117.085774             32.733783            -117.193315   \n",
       "3       -117.148810             32.732627            -117.204064   \n",
       "4       -117.099196             32.732627            -117.204064   \n",
       "6       -117.197638             32.732627            -117.204064   \n",
       "7       -117.174227             32.733783            -117.193315   \n",
       "\n",
       "   transit_boarding_latitude  transit_boarding_longitude  \\\n",
       "1                  32.638845                 -117.099066   \n",
       "3                  32.715832                 -117.154063   \n",
       "4                  32.674640                 -117.113186   \n",
       "6                  32.755309                 -117.199526   \n",
       "7                  32.691773                 -117.176137   \n",
       "\n",
       "   transit_alighting_latitude  transit_alighting_longitude  \n",
       "1                   32.732133                  -117.197756  \n",
       "3                   32.731419                  -117.203010  \n",
       "4                   32.731419                  -117.203010  \n",
       "6                   32.731527                  -117.202270  \n",
       "7                   32.732133                  -117.197756  "
      ]
     },
     "execution_count": 46,
     "metadata": {},
     "output_type": "execute_result"
    }
   ],
   "source": [
    "working_df.head()"
   ]
  },
  {
   "cell_type": "code",
   "execution_count": 47,
   "metadata": {},
   "outputs": [
    {
     "data": {
      "text/plain": [
       "447"
      ]
     },
     "execution_count": 47,
     "metadata": {},
     "output_type": "execute_result"
    }
   ],
   "source": [
    "len(working_df)"
   ]
  },
  {
   "cell_type": "code",
   "execution_count": 48,
   "metadata": {},
   "outputs": [
    {
     "data": {
      "application/vnd.microsoft.datawrangler.viewer.v0+json": {
       "columns": [
        {
         "name": "access_mode_label",
         "rawType": "object",
         "type": "string"
        },
        {
         "name": "count",
         "rawType": "int64",
         "type": "integer"
        }
       ],
       "ref": "82a86033-f86a-4df2-9926-24342c7ee644",
       "rows": [
        [
         "WALK",
         "183"
        ],
        [
         "DROVE_ALONE_AND_PARKED",
         "76"
        ],
        [
         "DROPPED_OFF_BY_FAMILY_FRIEND",
         "69"
        ],
        [
         "UBER_LYFT",
         "22"
        ],
        [
         "OTHER_PUBLIC_TRANSIT",
         "17"
        ],
        [
         "DROVE_WITH_OTHERS_AND_PARKED",
         "9"
        ],
        [
         "CAR_SERVICE_BLACK_LIMO",
         "7"
        ],
        [
         "OTHER",
         "6"
        ],
        [
         "RODE_WITH_OTHER_TRAVELERS_AND_PARKED",
         "3"
        ],
        [
         "TAXI",
         "2"
        ],
        [
         "BICYCLE_PERSONAL_NON_ELECTRIC",
         "1"
        ]
       ],
       "shape": {
        "columns": 1,
        "rows": 11
       }
      },
      "text/plain": [
       "access_mode_label\n",
       "WALK                                    183\n",
       "DROVE_ALONE_AND_PARKED                   76\n",
       "DROPPED_OFF_BY_FAMILY_FRIEND             69\n",
       "UBER_LYFT                                22\n",
       "OTHER_PUBLIC_TRANSIT                     17\n",
       "DROVE_WITH_OTHERS_AND_PARKED              9\n",
       "CAR_SERVICE_BLACK_LIMO                    7\n",
       "OTHER                                     6\n",
       "RODE_WITH_OTHER_TRAVELERS_AND_PARKED      3\n",
       "TAXI                                      2\n",
       "BICYCLE_PERSONAL_NON_ELECTRIC             1\n",
       "Name: count, dtype: int64"
      ]
     },
     "execution_count": 48,
     "metadata": {},
     "output_type": "execute_result"
    }
   ],
   "source": [
    "working_df['access_mode_label'].value_counts()"
   ]
  },
  {
   "cell_type": "code",
   "execution_count": 49,
   "metadata": {},
   "outputs": [],
   "source": [
    "# Filtering departing passengers and calculating distance between transit_boarding and origin\n",
    "working_df.loc[(working_df['passenger_type_label'] == 'DEPARTING') | (working_df['marketsegment_label'] == 'EMPLOYEE'), 'distance'] = working_df.apply(\n",
    "    lambda row: geodesic(\n",
    "        (row['origin_latitude'], row['origin_longitude']),\n",
    "        (row['transit_boarding_latitude'], row['transit_boarding_longitude'])\n",
    "    ).miles, axis=1\n",
    ")\n",
    "\n",
    "# Filtering arriving passengers and calculating distance between transit_alighting and destination\n",
    "working_df.loc[working_df['passenger_type_label'] == 'ARRIVING', 'distance'] = working_df.apply(\n",
    "    lambda row: geodesic(\n",
    "        (row['destination_latitude'], row['destination_longitude']),\n",
    "        (row['transit_alighting_latitude'], row['transit_alighting_longitude'])\n",
    "    ).miles, axis=1\n",
    ")"
   ]
  },
  {
   "cell_type": "code",
   "execution_count": 50,
   "metadata": {},
   "outputs": [
    {
     "data": {
      "application/vnd.microsoft.datawrangler.viewer.v0+json": {
       "columns": [
        {
         "name": "index",
         "rawType": "int64",
         "type": "integer"
        },
        {
         "name": "distance",
         "rawType": "float64",
         "type": "float"
        }
       ],
       "ref": "31a1cc4d-a443-4b25-bb29-1021933d5162",
       "rows": [
        [
         "1",
         "0.7786641874163885"
        ],
        [
         "3",
         "0.69655569664803"
        ],
        [
         "4",
         "0.849660143663121"
        ],
        [
         "6",
         "0.11400390384590724"
        ],
        [
         "7",
         "0.14766517367882723"
        ],
        [
         "8",
         "0.741767573462487"
        ],
        [
         "9",
         "0.6538469810144298"
        ],
        [
         "10",
         "0.4965713934016808"
        ],
        [
         "11",
         "1.4493023095452193"
        ],
        [
         "12",
         "0.008464934531746838"
        ],
        [
         "13",
         "2.7838467698122984"
        ],
        [
         "14",
         "0.022060751783609146"
        ],
        [
         "16",
         "0.5318605709955998"
        ],
        [
         "17",
         "0.17277618623887142"
        ],
        [
         "18",
         "13.023359684693254"
        ],
        [
         "19",
         "0.09542505298808648"
        ],
        [
         "20",
         "0.08245866838427403"
        ],
        [
         "21",
         "0.44234479420963374"
        ],
        [
         "23",
         "0.5920270495649345"
        ],
        [
         "25",
         "0.08124067327916237"
        ],
        [
         "27",
         "0.2416402158207604"
        ],
        [
         "31",
         "0.8188105296569037"
        ],
        [
         "33",
         "0.6729661254660705"
        ],
        [
         "34",
         "4.205826386491848"
        ],
        [
         "35",
         "0.5269436715555246"
        ],
        [
         "37",
         "0.9355283407025128"
        ],
        [
         "38",
         "1.5872046403386686"
        ],
        [
         "39",
         "0.1943455521661076"
        ],
        [
         "40",
         "0.7490674275297277"
        ],
        [
         "41",
         "0.135873849847213"
        ],
        [
         "42",
         "0.0815244672085216"
        ],
        [
         "43",
         "0.11481621890517987"
        ],
        [
         "44",
         "0.523983523795567"
        ],
        [
         "45",
         "0.569287615918396"
        ],
        [
         "46",
         "2.657816042140238"
        ],
        [
         "47",
         "0.3388331104552936"
        ],
        [
         "48",
         "2.6631193803743463"
        ],
        [
         "65",
         "0.4914372655000672"
        ],
        [
         "73",
         "0.0"
        ],
        [
         "74",
         "0.933015143539586"
        ],
        [
         "76",
         "0.7959044680349258"
        ],
        [
         "81",
         "0.4105654521080452"
        ],
        [
         "87",
         "5.15800031938069"
        ],
        [
         "88",
         "3.5846441262658155"
        ],
        [
         "89",
         "17.609694085038704"
        ],
        [
         "90",
         "3.5955759555128366"
        ],
        [
         "91",
         "3.1083618442838605"
        ],
        [
         "92",
         "6.140481492834872"
        ],
        [
         "93",
         "3.049445852749611"
        ],
        [
         "94",
         "2.518006407168442"
        ]
       ],
       "shape": {
        "columns": 1,
        "rows": 447
       }
      },
      "text/plain": [
       "1        0.778664\n",
       "3        0.696556\n",
       "4        0.849660\n",
       "6        0.114004\n",
       "7        0.147665\n",
       "          ...    \n",
       "5385     0.113255\n",
       "5386     0.366524\n",
       "5387     0.649246\n",
       "5393    11.427906\n",
       "5399     1.319569\n",
       "Name: distance, Length: 447, dtype: float64"
      ]
     },
     "execution_count": 50,
     "metadata": {},
     "output_type": "execute_result"
    }
   ],
   "source": [
    "working_df['distance']"
   ]
  },
  {
   "cell_type": "code",
   "execution_count": 51,
   "metadata": {},
   "outputs": [
    {
     "data": {
      "text/plain": [
       "254"
      ]
     },
     "execution_count": 51,
     "metadata": {},
     "output_type": "execute_result"
    }
   ],
   "source": [
    "len(working_df[working_df['distance']<1])"
   ]
  },
  {
   "cell_type": "code",
   "execution_count": 52,
   "metadata": {},
   "outputs": [
    {
     "data": {
      "application/vnd.microsoft.datawrangler.viewer.v0+json": {
       "columns": [
        {
         "name": "access_mode_label",
         "rawType": "object",
         "type": "string"
        },
        {
         "name": "count",
         "rawType": "int64",
         "type": "integer"
        }
       ],
       "ref": "c49108c2-b9b4-4705-9036-589f5bb2d736",
       "rows": [
        [
         "WALK",
         "134"
        ],
        [
         "DROPPED_OFF_BY_FAMILY_FRIEND",
         "10"
        ],
        [
         "OTHER_PUBLIC_TRANSIT",
         "10"
        ],
        [
         "UBER_LYFT",
         "5"
        ],
        [
         "DROVE_ALONE_AND_PARKED",
         "2"
        ],
        [
         "OTHER",
         "2"
        ],
        [
         "RODE_WITH_OTHER_TRAVELERS_AND_PARKED",
         "2"
        ],
        [
         "BICYCLE_PERSONAL_NON_ELECTRIC",
         "1"
        ],
        [
         "CAR_SERVICE_BLACK_LIMO",
         "1"
        ],
        [
         "DROVE_WITH_OTHERS_AND_PARKED",
         "1"
        ]
       ],
       "shape": {
        "columns": 1,
        "rows": 10
       }
      },
      "text/plain": [
       "access_mode_label\n",
       "WALK                                    134\n",
       "DROPPED_OFF_BY_FAMILY_FRIEND             10\n",
       "OTHER_PUBLIC_TRANSIT                     10\n",
       "UBER_LYFT                                 5\n",
       "DROVE_ALONE_AND_PARKED                    2\n",
       "OTHER                                     2\n",
       "RODE_WITH_OTHER_TRAVELERS_AND_PARKED      2\n",
       "BICYCLE_PERSONAL_NON_ELECTRIC             1\n",
       "CAR_SERVICE_BLACK_LIMO                    1\n",
       "DROVE_WITH_OTHERS_AND_PARKED              1\n",
       "Name: count, dtype: int64"
      ]
     },
     "execution_count": 52,
     "metadata": {},
     "output_type": "execute_result"
    }
   ],
   "source": [
    "distance_less_than_a_mile_df = working_df[working_df['distance']<0.5]\n",
    "distance_less_than_a_mile_df['access_mode_label'].value_counts()"
   ]
  },
  {
   "cell_type": "code",
   "execution_count": 53,
   "metadata": {},
   "outputs": [
    {
     "data": {
      "application/vnd.microsoft.datawrangler.viewer.v0+json": {
       "columns": [
        {
         "name": "index",
         "rawType": "int64",
         "type": "integer"
        },
        {
         "name": "respondentid",
         "rawType": "object",
         "type": "unknown"
        },
        {
         "name": "marketsegment_label",
         "rawType": "object",
         "type": "string"
        },
        {
         "name": "passenger_type_label",
         "rawType": "object",
         "type": "unknown"
        },
        {
         "name": "main_mode_label",
         "rawType": "object",
         "type": "string"
        },
        {
         "name": "access_mode_label",
         "rawType": "object",
         "type": "string"
        },
        {
         "name": "egress_mode_label",
         "rawType": "object",
         "type": "unknown"
        },
        {
         "name": "origin_latitude",
         "rawType": "float64",
         "type": "float"
        },
        {
         "name": "origin_longitude",
         "rawType": "float64",
         "type": "float"
        },
        {
         "name": "destination_latitude",
         "rawType": "float64",
         "type": "float"
        },
        {
         "name": "destination_longitude",
         "rawType": "float64",
         "type": "float"
        },
        {
         "name": "transit_boarding_latitude",
         "rawType": "float64",
         "type": "float"
        },
        {
         "name": "transit_boarding_longitude",
         "rawType": "float64",
         "type": "float"
        },
        {
         "name": "transit_alighting_latitude",
         "rawType": "float64",
         "type": "float"
        },
        {
         "name": "transit_alighting_longitude",
         "rawType": "float64",
         "type": "float"
        },
        {
         "name": "distance",
         "rawType": "float64",
         "type": "float"
        }
       ],
       "ref": "638e48f2-f2e9-4505-a51d-06f3dae1a54b",
       "rows": [
        [
         "1",
         "5476",
         "EMPLOYEE",
         null,
         "MTS_ROUTE_992",
         "WALK",
         null,
         "32.639943",
         "-117.085774",
         "32.733783",
         "-117.193315",
         "32.638845",
         "-117.099065999999",
         "32.7321330218128",
         "-117.197756006971",
         "0.7786641874163885"
        ],
        [
         "3",
         "5558",
         "EMPLOYEE",
         null,
         "MTS_ROUTE_992",
         "WALK",
         null,
         "32.706752",
         "-117.14881",
         "32.7326272999998",
         "-117.204064",
         "32.7158324767128",
         "-117.154062897256",
         "32.7314191559718",
         "-117.203009775925",
         "0.69655569664803"
        ],
        [
         "4",
         "5593",
         "EMPLOYEE",
         null,
         "MTS_ROUTE_992",
         "WALK",
         null,
         "32.678108",
         "-117.099196",
         "32.7326272999998",
         "-117.204064",
         "32.6746401649301",
         "-117.113186402221",
         "32.7314191559718",
         "-117.203009775925",
         "0.849660143663121"
        ],
        [
         "6",
         "5613",
         "EMPLOYEE",
         null,
         "AIRPORT_FLYER_SHUTTLE",
         "WALK",
         null,
         "32.755747",
         "-117.197638",
         "32.7326272999998",
         "-117.204064",
         "32.7553089999998",
         "-117.199526",
         "32.731527",
         "-117.20227",
         "0.11400390384590724"
        ],
        [
         "7",
         "5622",
         "EMPLOYEE",
         null,
         "MTS_ROUTE_992",
         "WALK",
         null,
         "32.690364",
         "-117.174227",
         "32.733783",
         "-117.193315",
         "32.691772576207",
         "-117.176136732818",
         "32.7321330218128",
         "-117.197756006971",
         "0.14766517367882723"
        ]
       ],
       "shape": {
        "columns": 15,
        "rows": 5
       }
      },
      "text/html": [
       "<div>\n",
       "<style scoped>\n",
       "    .dataframe tbody tr th:only-of-type {\n",
       "        vertical-align: middle;\n",
       "    }\n",
       "\n",
       "    .dataframe tbody tr th {\n",
       "        vertical-align: top;\n",
       "    }\n",
       "\n",
       "    .dataframe thead th {\n",
       "        text-align: right;\n",
       "    }\n",
       "</style>\n",
       "<table border=\"1\" class=\"dataframe\">\n",
       "  <thead>\n",
       "    <tr style=\"text-align: right;\">\n",
       "      <th></th>\n",
       "      <th>respondentid</th>\n",
       "      <th>marketsegment_label</th>\n",
       "      <th>passenger_type_label</th>\n",
       "      <th>main_mode_label</th>\n",
       "      <th>access_mode_label</th>\n",
       "      <th>egress_mode_label</th>\n",
       "      <th>origin_latitude</th>\n",
       "      <th>origin_longitude</th>\n",
       "      <th>destination_latitude</th>\n",
       "      <th>destination_longitude</th>\n",
       "      <th>transit_boarding_latitude</th>\n",
       "      <th>transit_boarding_longitude</th>\n",
       "      <th>transit_alighting_latitude</th>\n",
       "      <th>transit_alighting_longitude</th>\n",
       "      <th>distance</th>\n",
       "    </tr>\n",
       "  </thead>\n",
       "  <tbody>\n",
       "    <tr>\n",
       "      <th>1</th>\n",
       "      <td>5476</td>\n",
       "      <td>EMPLOYEE</td>\n",
       "      <td>NaN</td>\n",
       "      <td>MTS_ROUTE_992</td>\n",
       "      <td>WALK</td>\n",
       "      <td>NaN</td>\n",
       "      <td>32.639943</td>\n",
       "      <td>-117.085774</td>\n",
       "      <td>32.733783</td>\n",
       "      <td>-117.193315</td>\n",
       "      <td>32.638845</td>\n",
       "      <td>-117.099066</td>\n",
       "      <td>32.732133</td>\n",
       "      <td>-117.197756</td>\n",
       "      <td>0.778664</td>\n",
       "    </tr>\n",
       "    <tr>\n",
       "      <th>3</th>\n",
       "      <td>5558</td>\n",
       "      <td>EMPLOYEE</td>\n",
       "      <td>NaN</td>\n",
       "      <td>MTS_ROUTE_992</td>\n",
       "      <td>WALK</td>\n",
       "      <td>NaN</td>\n",
       "      <td>32.706752</td>\n",
       "      <td>-117.148810</td>\n",
       "      <td>32.732627</td>\n",
       "      <td>-117.204064</td>\n",
       "      <td>32.715832</td>\n",
       "      <td>-117.154063</td>\n",
       "      <td>32.731419</td>\n",
       "      <td>-117.203010</td>\n",
       "      <td>0.696556</td>\n",
       "    </tr>\n",
       "    <tr>\n",
       "      <th>4</th>\n",
       "      <td>5593</td>\n",
       "      <td>EMPLOYEE</td>\n",
       "      <td>NaN</td>\n",
       "      <td>MTS_ROUTE_992</td>\n",
       "      <td>WALK</td>\n",
       "      <td>NaN</td>\n",
       "      <td>32.678108</td>\n",
       "      <td>-117.099196</td>\n",
       "      <td>32.732627</td>\n",
       "      <td>-117.204064</td>\n",
       "      <td>32.674640</td>\n",
       "      <td>-117.113186</td>\n",
       "      <td>32.731419</td>\n",
       "      <td>-117.203010</td>\n",
       "      <td>0.849660</td>\n",
       "    </tr>\n",
       "    <tr>\n",
       "      <th>6</th>\n",
       "      <td>5613</td>\n",
       "      <td>EMPLOYEE</td>\n",
       "      <td>NaN</td>\n",
       "      <td>AIRPORT_FLYER_SHUTTLE</td>\n",
       "      <td>WALK</td>\n",
       "      <td>NaN</td>\n",
       "      <td>32.755747</td>\n",
       "      <td>-117.197638</td>\n",
       "      <td>32.732627</td>\n",
       "      <td>-117.204064</td>\n",
       "      <td>32.755309</td>\n",
       "      <td>-117.199526</td>\n",
       "      <td>32.731527</td>\n",
       "      <td>-117.202270</td>\n",
       "      <td>0.114004</td>\n",
       "    </tr>\n",
       "    <tr>\n",
       "      <th>7</th>\n",
       "      <td>5622</td>\n",
       "      <td>EMPLOYEE</td>\n",
       "      <td>NaN</td>\n",
       "      <td>MTS_ROUTE_992</td>\n",
       "      <td>WALK</td>\n",
       "      <td>NaN</td>\n",
       "      <td>32.690364</td>\n",
       "      <td>-117.174227</td>\n",
       "      <td>32.733783</td>\n",
       "      <td>-117.193315</td>\n",
       "      <td>32.691773</td>\n",
       "      <td>-117.176137</td>\n",
       "      <td>32.732133</td>\n",
       "      <td>-117.197756</td>\n",
       "      <td>0.147665</td>\n",
       "    </tr>\n",
       "  </tbody>\n",
       "</table>\n",
       "</div>"
      ],
      "text/plain": [
       "  respondentid marketsegment_label passenger_type_label  \\\n",
       "1         5476            EMPLOYEE                  NaN   \n",
       "3         5558            EMPLOYEE                  NaN   \n",
       "4         5593            EMPLOYEE                  NaN   \n",
       "6         5613            EMPLOYEE                  NaN   \n",
       "7         5622            EMPLOYEE                  NaN   \n",
       "\n",
       "         main_mode_label access_mode_label egress_mode_label  origin_latitude  \\\n",
       "1          MTS_ROUTE_992              WALK               NaN        32.639943   \n",
       "3          MTS_ROUTE_992              WALK               NaN        32.706752   \n",
       "4          MTS_ROUTE_992              WALK               NaN        32.678108   \n",
       "6  AIRPORT_FLYER_SHUTTLE              WALK               NaN        32.755747   \n",
       "7          MTS_ROUTE_992              WALK               NaN        32.690364   \n",
       "\n",
       "   origin_longitude  destination_latitude  destination_longitude  \\\n",
       "1       -117.085774             32.733783            -117.193315   \n",
       "3       -117.148810             32.732627            -117.204064   \n",
       "4       -117.099196             32.732627            -117.204064   \n",
       "6       -117.197638             32.732627            -117.204064   \n",
       "7       -117.174227             32.733783            -117.193315   \n",
       "\n",
       "   transit_boarding_latitude  transit_boarding_longitude  \\\n",
       "1                  32.638845                 -117.099066   \n",
       "3                  32.715832                 -117.154063   \n",
       "4                  32.674640                 -117.113186   \n",
       "6                  32.755309                 -117.199526   \n",
       "7                  32.691773                 -117.176137   \n",
       "\n",
       "   transit_alighting_latitude  transit_alighting_longitude  distance  \n",
       "1                   32.732133                  -117.197756  0.778664  \n",
       "3                   32.731419                  -117.203010  0.696556  \n",
       "4                   32.731419                  -117.203010  0.849660  \n",
       "6                   32.731527                  -117.202270  0.114004  \n",
       "7                   32.732133                  -117.197756  0.147665  "
      ]
     },
     "execution_count": 53,
     "metadata": {},
     "output_type": "execute_result"
    }
   ],
   "source": [
    "working_df.head()"
   ]
  },
  {
   "cell_type": "code",
   "execution_count": 54,
   "metadata": {},
   "outputs": [
    {
     "data": {
      "application/vnd.microsoft.datawrangler.viewer.v0+json": {
       "columns": [
        {
         "name": "index",
         "rawType": "int64",
         "type": "integer"
        },
        {
         "name": "marketsegment_label",
         "rawType": "object",
         "type": "string"
        },
        {
         "name": "access_mode_label",
         "rawType": "object",
         "type": "string"
        },
        {
         "name": "avg_distance_miles",
         "rawType": "float64",
         "type": "float"
        },
        {
         "name": "num_respondents",
         "rawType": "int64",
         "type": "integer"
        },
        {
         "name": "median_distance",
         "rawType": "float64",
         "type": "float"
        }
       ],
       "ref": "e5b0ebc5-2c0b-4d10-971d-d8afb3a82c07",
       "rows": [
        [
         "0",
         "EMPLOYEE",
         "CAR_SERVICE_BLACK_LIMO",
         "0.5324758697827491",
         "1",
         "0.5324758697827491"
        ],
        [
         "1",
         "EMPLOYEE",
         "DROPPED_OFF_BY_FAMILY_FRIEND",
         "3.093719727025619",
         "25",
         "1.4493023095452193"
        ],
        [
         "2",
         "EMPLOYEE",
         "DROVE_ALONE_AND_PARKED",
         "10.438223844485135",
         "65",
         "2.3708448812093086"
        ],
        [
         "3",
         "EMPLOYEE",
         "DROVE_WITH_OTHERS_AND_PARKED",
         "3.244772163381701",
         "1",
         "3.244772163381701"
        ],
        [
         "4",
         "EMPLOYEE",
         "OTHER_PUBLIC_TRANSIT",
         "6.359685648108045",
         "6",
         "0.19904557504530818"
        ],
        [
         "5",
         "EMPLOYEE",
         "UBER_LYFT",
         "0.8400732612927516",
         "3",
         "0.933015143539586"
        ],
        [
         "6",
         "EMPLOYEE",
         "WALK",
         "0.707457344294389",
         "65",
         "0.21608958921342158"
        ],
        [
         "7",
         "PASSENGER",
         "BICYCLE_PERSONAL_NON_ELECTRIC",
         "0.21307691382418525",
         "1",
         "0.21307691382418525"
        ],
        [
         "8",
         "PASSENGER",
         "CAR_SERVICE_BLACK_LIMO",
         "27.102279599393558",
         "6",
         "16.00900429965842"
        ],
        [
         "9",
         "PASSENGER",
         "DROPPED_OFF_BY_FAMILY_FRIEND",
         "17.579793478488472",
         "44",
         "2.1296759285470346"
        ],
        [
         "10",
         "PASSENGER",
         "DROVE_ALONE_AND_PARKED",
         "16.465489534613756",
         "11",
         "14.106931361568146"
        ],
        [
         "11",
         "PASSENGER",
         "DROVE_WITH_OTHERS_AND_PARKED",
         "16.95970294761679",
         "8",
         "2.813011385752832"
        ],
        [
         "12",
         "PASSENGER",
         "OTHER",
         "8.155167587745687",
         "6",
         "2.709045092020742"
        ],
        [
         "13",
         "PASSENGER",
         "OTHER_PUBLIC_TRANSIT",
         "6.376841554375451",
         "11",
         "0.49832449959942743"
        ],
        [
         "14",
         "PASSENGER",
         "RODE_WITH_OTHER_TRAVELERS_AND_PARKED",
         "0.8508673641394271",
         "3",
         "0.3738169868206089"
        ],
        [
         "15",
         "PASSENGER",
         "TAXI",
         "2.25296943577063",
         "2",
         "2.25296943577063"
        ],
        [
         "16",
         "PASSENGER",
         "UBER_LYFT",
         "3.1955661211920035",
         "19",
         "1.714766532291154"
        ],
        [
         "17",
         "PASSENGER",
         "WALK",
         "5.718963124264652",
         "118",
         "0.24205311179286287"
        ]
       ],
       "shape": {
        "columns": 5,
        "rows": 18
       }
      },
      "text/html": [
       "<div>\n",
       "<style scoped>\n",
       "    .dataframe tbody tr th:only-of-type {\n",
       "        vertical-align: middle;\n",
       "    }\n",
       "\n",
       "    .dataframe tbody tr th {\n",
       "        vertical-align: top;\n",
       "    }\n",
       "\n",
       "    .dataframe thead th {\n",
       "        text-align: right;\n",
       "    }\n",
       "</style>\n",
       "<table border=\"1\" class=\"dataframe\">\n",
       "  <thead>\n",
       "    <tr style=\"text-align: right;\">\n",
       "      <th></th>\n",
       "      <th>marketsegment_label</th>\n",
       "      <th>access_mode_label</th>\n",
       "      <th>avg_distance_miles</th>\n",
       "      <th>num_respondents</th>\n",
       "      <th>median_distance</th>\n",
       "    </tr>\n",
       "  </thead>\n",
       "  <tbody>\n",
       "    <tr>\n",
       "      <th>0</th>\n",
       "      <td>EMPLOYEE</td>\n",
       "      <td>CAR_SERVICE_BLACK_LIMO</td>\n",
       "      <td>0.532476</td>\n",
       "      <td>1</td>\n",
       "      <td>0.532476</td>\n",
       "    </tr>\n",
       "    <tr>\n",
       "      <th>1</th>\n",
       "      <td>EMPLOYEE</td>\n",
       "      <td>DROPPED_OFF_BY_FAMILY_FRIEND</td>\n",
       "      <td>3.093720</td>\n",
       "      <td>25</td>\n",
       "      <td>1.449302</td>\n",
       "    </tr>\n",
       "    <tr>\n",
       "      <th>2</th>\n",
       "      <td>EMPLOYEE</td>\n",
       "      <td>DROVE_ALONE_AND_PARKED</td>\n",
       "      <td>10.438224</td>\n",
       "      <td>65</td>\n",
       "      <td>2.370845</td>\n",
       "    </tr>\n",
       "    <tr>\n",
       "      <th>3</th>\n",
       "      <td>EMPLOYEE</td>\n",
       "      <td>DROVE_WITH_OTHERS_AND_PARKED</td>\n",
       "      <td>3.244772</td>\n",
       "      <td>1</td>\n",
       "      <td>3.244772</td>\n",
       "    </tr>\n",
       "    <tr>\n",
       "      <th>4</th>\n",
       "      <td>EMPLOYEE</td>\n",
       "      <td>OTHER_PUBLIC_TRANSIT</td>\n",
       "      <td>6.359686</td>\n",
       "      <td>6</td>\n",
       "      <td>0.199046</td>\n",
       "    </tr>\n",
       "    <tr>\n",
       "      <th>5</th>\n",
       "      <td>EMPLOYEE</td>\n",
       "      <td>UBER_LYFT</td>\n",
       "      <td>0.840073</td>\n",
       "      <td>3</td>\n",
       "      <td>0.933015</td>\n",
       "    </tr>\n",
       "    <tr>\n",
       "      <th>6</th>\n",
       "      <td>EMPLOYEE</td>\n",
       "      <td>WALK</td>\n",
       "      <td>0.707457</td>\n",
       "      <td>65</td>\n",
       "      <td>0.216090</td>\n",
       "    </tr>\n",
       "    <tr>\n",
       "      <th>7</th>\n",
       "      <td>PASSENGER</td>\n",
       "      <td>BICYCLE_PERSONAL_NON_ELECTRIC</td>\n",
       "      <td>0.213077</td>\n",
       "      <td>1</td>\n",
       "      <td>0.213077</td>\n",
       "    </tr>\n",
       "    <tr>\n",
       "      <th>8</th>\n",
       "      <td>PASSENGER</td>\n",
       "      <td>CAR_SERVICE_BLACK_LIMO</td>\n",
       "      <td>27.102280</td>\n",
       "      <td>6</td>\n",
       "      <td>16.009004</td>\n",
       "    </tr>\n",
       "    <tr>\n",
       "      <th>9</th>\n",
       "      <td>PASSENGER</td>\n",
       "      <td>DROPPED_OFF_BY_FAMILY_FRIEND</td>\n",
       "      <td>17.579793</td>\n",
       "      <td>44</td>\n",
       "      <td>2.129676</td>\n",
       "    </tr>\n",
       "    <tr>\n",
       "      <th>10</th>\n",
       "      <td>PASSENGER</td>\n",
       "      <td>DROVE_ALONE_AND_PARKED</td>\n",
       "      <td>16.465490</td>\n",
       "      <td>11</td>\n",
       "      <td>14.106931</td>\n",
       "    </tr>\n",
       "    <tr>\n",
       "      <th>11</th>\n",
       "      <td>PASSENGER</td>\n",
       "      <td>DROVE_WITH_OTHERS_AND_PARKED</td>\n",
       "      <td>16.959703</td>\n",
       "      <td>8</td>\n",
       "      <td>2.813011</td>\n",
       "    </tr>\n",
       "    <tr>\n",
       "      <th>12</th>\n",
       "      <td>PASSENGER</td>\n",
       "      <td>OTHER</td>\n",
       "      <td>8.155168</td>\n",
       "      <td>6</td>\n",
       "      <td>2.709045</td>\n",
       "    </tr>\n",
       "    <tr>\n",
       "      <th>13</th>\n",
       "      <td>PASSENGER</td>\n",
       "      <td>OTHER_PUBLIC_TRANSIT</td>\n",
       "      <td>6.376842</td>\n",
       "      <td>11</td>\n",
       "      <td>0.498324</td>\n",
       "    </tr>\n",
       "    <tr>\n",
       "      <th>14</th>\n",
       "      <td>PASSENGER</td>\n",
       "      <td>RODE_WITH_OTHER_TRAVELERS_AND_PARKED</td>\n",
       "      <td>0.850867</td>\n",
       "      <td>3</td>\n",
       "      <td>0.373817</td>\n",
       "    </tr>\n",
       "    <tr>\n",
       "      <th>15</th>\n",
       "      <td>PASSENGER</td>\n",
       "      <td>TAXI</td>\n",
       "      <td>2.252969</td>\n",
       "      <td>2</td>\n",
       "      <td>2.252969</td>\n",
       "    </tr>\n",
       "    <tr>\n",
       "      <th>16</th>\n",
       "      <td>PASSENGER</td>\n",
       "      <td>UBER_LYFT</td>\n",
       "      <td>3.195566</td>\n",
       "      <td>19</td>\n",
       "      <td>1.714767</td>\n",
       "    </tr>\n",
       "    <tr>\n",
       "      <th>17</th>\n",
       "      <td>PASSENGER</td>\n",
       "      <td>WALK</td>\n",
       "      <td>5.718963</td>\n",
       "      <td>118</td>\n",
       "      <td>0.242053</td>\n",
       "    </tr>\n",
       "  </tbody>\n",
       "</table>\n",
       "</div>"
      ],
      "text/plain": [
       "   marketsegment_label                     access_mode_label  \\\n",
       "0             EMPLOYEE                CAR_SERVICE_BLACK_LIMO   \n",
       "1             EMPLOYEE          DROPPED_OFF_BY_FAMILY_FRIEND   \n",
       "2             EMPLOYEE                DROVE_ALONE_AND_PARKED   \n",
       "3             EMPLOYEE          DROVE_WITH_OTHERS_AND_PARKED   \n",
       "4             EMPLOYEE                  OTHER_PUBLIC_TRANSIT   \n",
       "5             EMPLOYEE                             UBER_LYFT   \n",
       "6             EMPLOYEE                                  WALK   \n",
       "7            PASSENGER         BICYCLE_PERSONAL_NON_ELECTRIC   \n",
       "8            PASSENGER                CAR_SERVICE_BLACK_LIMO   \n",
       "9            PASSENGER          DROPPED_OFF_BY_FAMILY_FRIEND   \n",
       "10           PASSENGER                DROVE_ALONE_AND_PARKED   \n",
       "11           PASSENGER          DROVE_WITH_OTHERS_AND_PARKED   \n",
       "12           PASSENGER                                 OTHER   \n",
       "13           PASSENGER                  OTHER_PUBLIC_TRANSIT   \n",
       "14           PASSENGER  RODE_WITH_OTHER_TRAVELERS_AND_PARKED   \n",
       "15           PASSENGER                                  TAXI   \n",
       "16           PASSENGER                             UBER_LYFT   \n",
       "17           PASSENGER                                  WALK   \n",
       "\n",
       "    avg_distance_miles  num_respondents  median_distance  \n",
       "0             0.532476                1         0.532476  \n",
       "1             3.093720               25         1.449302  \n",
       "2            10.438224               65         2.370845  \n",
       "3             3.244772                1         3.244772  \n",
       "4             6.359686                6         0.199046  \n",
       "5             0.840073                3         0.933015  \n",
       "6             0.707457               65         0.216090  \n",
       "7             0.213077                1         0.213077  \n",
       "8            27.102280                6        16.009004  \n",
       "9            17.579793               44         2.129676  \n",
       "10           16.465490               11        14.106931  \n",
       "11           16.959703                8         2.813011  \n",
       "12            8.155168                6         2.709045  \n",
       "13            6.376842               11         0.498324  \n",
       "14            0.850867                3         0.373817  \n",
       "15            2.252969                2         2.252969  \n",
       "16            3.195566               19         1.714767  \n",
       "17            5.718963              118         0.242053  "
      ]
     },
     "execution_count": 54,
     "metadata": {},
     "output_type": "execute_result"
    }
   ],
   "source": [
    "access_mean_distance = working_df.groupby(\n",
    "    ['marketsegment_label', 'access_mode_label']\n",
    ").agg(\n",
    "    avg_distance_miles=('distance', 'mean'),\n",
    "    num_respondents=('distance', 'count'),\n",
    "    median_distance = ('distance', 'median')\n",
    ").reset_index()\n",
    "\n",
    "access_mean_distance.head(20)"
   ]
  },
  {
   "cell_type": "code",
   "execution_count": 55,
   "metadata": {},
   "outputs": [
    {
     "data": {
      "application/vnd.microsoft.datawrangler.viewer.v0+json": {
       "columns": [
        {
         "name": "index",
         "rawType": "int64",
         "type": "integer"
        },
        {
         "name": "marketsegment_label",
         "rawType": "object",
         "type": "string"
        },
        {
         "name": "egress_mode_label",
         "rawType": "object",
         "type": "string"
        },
        {
         "name": "avg_distance_miles",
         "rawType": "float64",
         "type": "float"
        },
        {
         "name": "num_respondents",
         "rawType": "int64",
         "type": "integer"
        },
        {
         "name": "median_distance",
         "rawType": "float64",
         "type": "float"
        }
       ],
       "ref": "8928304b-dd60-44c0-8537-f903dabbf72d",
       "rows": [
        [
         "0",
         "PASSENGER",
         "OTHER_SHARED_VAN",
         "2.452757641922336",
         "1",
         "2.452757641922336"
        ],
        [
         "1",
         "PASSENGER",
         "PICKED_UP_BY_FAMILY_FRIEND",
         "2.6036709562846254",
         "15",
         "1.49635967838456"
        ],
        [
         "2",
         "PASSENGER",
         "TAXI",
         "1.6938326582664143",
         "2",
         "1.6938326582664143"
        ],
        [
         "3",
         "PASSENGER",
         "UBER_LYFT",
         "2.2657489939480238",
         "2",
         "2.2657489939480238"
        ],
        [
         "4",
         "PASSENGER",
         "WALK",
         "1.3721628007877902",
         "30",
         "0.23785009058353723"
        ]
       ],
       "shape": {
        "columns": 5,
        "rows": 5
       }
      },
      "text/html": [
       "<div>\n",
       "<style scoped>\n",
       "    .dataframe tbody tr th:only-of-type {\n",
       "        vertical-align: middle;\n",
       "    }\n",
       "\n",
       "    .dataframe tbody tr th {\n",
       "        vertical-align: top;\n",
       "    }\n",
       "\n",
       "    .dataframe thead th {\n",
       "        text-align: right;\n",
       "    }\n",
       "</style>\n",
       "<table border=\"1\" class=\"dataframe\">\n",
       "  <thead>\n",
       "    <tr style=\"text-align: right;\">\n",
       "      <th></th>\n",
       "      <th>marketsegment_label</th>\n",
       "      <th>egress_mode_label</th>\n",
       "      <th>avg_distance_miles</th>\n",
       "      <th>num_respondents</th>\n",
       "      <th>median_distance</th>\n",
       "    </tr>\n",
       "  </thead>\n",
       "  <tbody>\n",
       "    <tr>\n",
       "      <th>0</th>\n",
       "      <td>PASSENGER</td>\n",
       "      <td>OTHER_SHARED_VAN</td>\n",
       "      <td>2.452758</td>\n",
       "      <td>1</td>\n",
       "      <td>2.452758</td>\n",
       "    </tr>\n",
       "    <tr>\n",
       "      <th>1</th>\n",
       "      <td>PASSENGER</td>\n",
       "      <td>PICKED_UP_BY_FAMILY_FRIEND</td>\n",
       "      <td>2.603671</td>\n",
       "      <td>15</td>\n",
       "      <td>1.496360</td>\n",
       "    </tr>\n",
       "    <tr>\n",
       "      <th>2</th>\n",
       "      <td>PASSENGER</td>\n",
       "      <td>TAXI</td>\n",
       "      <td>1.693833</td>\n",
       "      <td>2</td>\n",
       "      <td>1.693833</td>\n",
       "    </tr>\n",
       "    <tr>\n",
       "      <th>3</th>\n",
       "      <td>PASSENGER</td>\n",
       "      <td>UBER_LYFT</td>\n",
       "      <td>2.265749</td>\n",
       "      <td>2</td>\n",
       "      <td>2.265749</td>\n",
       "    </tr>\n",
       "    <tr>\n",
       "      <th>4</th>\n",
       "      <td>PASSENGER</td>\n",
       "      <td>WALK</td>\n",
       "      <td>1.372163</td>\n",
       "      <td>30</td>\n",
       "      <td>0.237850</td>\n",
       "    </tr>\n",
       "  </tbody>\n",
       "</table>\n",
       "</div>"
      ],
      "text/plain": [
       "  marketsegment_label           egress_mode_label  avg_distance_miles  \\\n",
       "0           PASSENGER            OTHER_SHARED_VAN            2.452758   \n",
       "1           PASSENGER  PICKED_UP_BY_FAMILY_FRIEND            2.603671   \n",
       "2           PASSENGER                        TAXI            1.693833   \n",
       "3           PASSENGER                   UBER_LYFT            2.265749   \n",
       "4           PASSENGER                        WALK            1.372163   \n",
       "\n",
       "   num_respondents  median_distance  \n",
       "0                1         2.452758  \n",
       "1               15         1.496360  \n",
       "2                2         1.693833  \n",
       "3                2         2.265749  \n",
       "4               30         0.237850  "
      ]
     },
     "execution_count": 55,
     "metadata": {},
     "output_type": "execute_result"
    }
   ],
   "source": [
    "egress_mean_distance = working_df.groupby(\n",
    "    ['marketsegment_label', 'egress_mode_label']\n",
    ").agg(\n",
    "    avg_distance_miles=('distance', 'mean'),\n",
    "    num_respondents=('distance', 'count'),\n",
    "    median_distance = ('distance', 'median')\n",
    ").reset_index()\n",
    "\n",
    "egress_mean_distance.head(20)"
   ]
  },
  {
   "cell_type": "code",
   "execution_count": 56,
   "metadata": {},
   "outputs": [],
   "source": [
    "def plot_distance_distribution(working_df):\n",
    "    # Calculate Q1, Q3, and IQR\n",
    "    Q1 = working_df['distance'].quantile(0.25)\n",
    "    Q3 = working_df['distance'].quantile(0.75)\n",
    "    IQR = Q3 - Q1\n",
    "\n",
    "    # Define the right-sided outlier threshold\n",
    "    threshold = Q3 + 1.5 * IQR\n",
    "\n",
    "    print(\"Right-sided outlier threshold:\", threshold)\n",
    "\n",
    "    # Identify outliers (rows with destination greater than threshold)\n",
    "    right_outliers = working_df[working_df['distance'] > threshold]\n",
    "    print(\"Number of right-sided outliers:\", len(right_outliers))\n",
    "\n",
    "    # Plotting the distribution\n",
    "    plt.figure(figsize=(10, 6))\n",
    "    plt.hist(working_df['distance'], bins=50, alpha=0.7)\n",
    "    plt.axvline(threshold, color='red', linestyle='dashed', linewidth=2,\n",
    "                label=f'Outlier Threshold: {threshold:.2f}')\n",
    "    plt.xlabel('Access/Egress Mode Distance')\n",
    "    plt.ylabel('Frequency')\n",
    "    plt.title('Distribution of Access Mode Distance with Right-Sided Outlier Threshold')\n",
    "    plt.legend()\n",
    "    plt.show()"
   ]
  },
  {
   "cell_type": "code",
   "execution_count": 57,
   "metadata": {},
   "outputs": [
    {
     "name": "stdout",
     "output_type": "stream",
     "text": [
      "Right-sided outlier threshold: 5.693130257232367\n",
      "Number of right-sided outliers: 55\n"
     ]
    },
    {
     "data": {
      "image/png": "[encoded data removed]",
      "text/plain": [
       "<Figure size 1000x600 with 1 Axes>"
      ]
     },
     "metadata": {},
     "output_type": "display_data"
    }
   ],
   "source": [
    "plot_distance_distribution(working_df)"
   ]
  },
  {
   "cell_type": "code",
   "execution_count": 58,
   "metadata": {},
   "outputs": [
    {
     "name": "stdout",
     "output_type": "stream",
     "text": [
      "Right-sided outlier threshold: 1.084083927581389\n",
      "Number of right-sided outliers: 12\n"
     ]
    },
    {
     "data": {
      "image/png": "[encoded data removed]",
      "text/plain": [
       "<Figure size 1000x600 with 1 Axes>"
      ]
     },
     "metadata": {},
     "output_type": "display_data"
    }
   ],
   "source": [
    "plot_distance_distribution(working_df[(working_df['access_mode_label']=='WALK')|(working_df['egress_mode_label']=='WALK')])"
   ]
  },
  {
   "cell_type": "code",
   "execution_count": 59,
   "metadata": {},
   "outputs": [],
   "source": [
    "outliers_walk_df = working_df[((working_df['access_mode_label']=='WALK')|(working_df['egress_mode_label']=='WALK')) & (working_df['distance']>1)]"
   ]
  },
  {
   "cell_type": "code",
   "execution_count": 60,
   "metadata": {},
   "outputs": [
    {
     "data": {
      "text/plain": [
       "13"
      ]
     },
     "execution_count": 60,
     "metadata": {},
     "output_type": "execute_result"
    }
   ],
   "source": [
    "len(outliers_walk_df)"
   ]
  },
  {
   "cell_type": "code",
   "execution_count": 61,
   "metadata": {},
   "outputs": [],
   "source": [
    "outliers_walk_df[['respondentid', 'distance', 'marketsegment_label']].to_csv(outliers_output_file_path, index = False)"
   ]
  },
  {
   "cell_type": "code",
   "execution_count": null,
   "metadata": {},
   "outputs": [],
   "source": []
  }
 ],
 "metadata": {
  "kernelspec": {
   "display_name": ".venv",
   "language": "python",
   "name": "python3"
  },
  "language_info": {
   "codemirror_mode": {
    "name": "ipython",
    "version": 3
   },
   "file_extension": ".py",
   "mimetype": "text/x-python",
   "name": "python",
   "nbconvert_exporter": "python",
   "pygments_lexer": "ipython3",
   "version": "3.12.10"
  }
 },
 "nbformat": 4,
 "nbformat_minor": 2
}
