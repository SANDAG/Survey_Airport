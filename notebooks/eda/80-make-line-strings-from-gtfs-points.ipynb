{
 "cells": [
  {
   "cell_type": "code",
   "execution_count": 1,
   "id": "5ead3e06",
   "metadata": {},
   "outputs": [],
   "source": [
    "import csv\n",
    "import json"
   ]
  },
  {
   "cell_type": "markdown",
   "id": "75b19ce0",
   "metadata": {},
   "source": [
    "### Remote I/O"
   ]
  },
  {
   "cell_type": "code",
   "execution_count": 2,
   "id": "a5b64abd",
   "metadata": {},
   "outputs": [],
   "source": [
    "gtfs_partial_shape_file = \"../../data/external/gtfs-snippets/airport-routes.csv\"\n",
    "output_line_file = \"../../data/interim/airport-routes.geojson\""
   ]
  },
  {
   "cell_type": "markdown",
   "id": "c2e20c40",
   "metadata": {},
   "source": [
    "### Reductions"
   ]
  },
  {
   "cell_type": "code",
   "execution_count": 3,
   "id": "0d926d96",
   "metadata": {},
   "outputs": [],
   "source": [
    "# Load the CSV file\n",
    "with open(gtfs_partial_shape_file, 'r') as csvfile:\n",
    "    reader = csv.DictReader(csvfile)\n",
    "    data = [row for row in reader]\n",
    "\n",
    "# Create a dictionary to store the LineStrings for each shape_id\n",
    "line_strings = {}\n",
    "\n",
    "# Iterate over the data and create a LineString for each shape_id\n",
    "for row in data:\n",
    "    shape_id = row['shape_id']\n",
    "    lat = float(row['lat'])\n",
    "    lon = float(row['lon'])\n",
    "    shape_sequence = int(row['shape_pt_sequence'])\n",
    "\n",
    "    # Create a point for this row\n",
    "    point = [lon, lat]\n",
    "\n",
    "    # Add the point to the LineString for this shape_id\n",
    "    if shape_id not in line_strings:\n",
    "        line_strings[shape_id] = {'type': 'LineString', 'coordinates': []}\n",
    "    line_strings[shape_id]['coordinates'].append(point)\n",
    "\n",
    "# Sort the coordinates for each LineString by shape_sequence\n",
    "for shape_id, line_string in line_strings.items():\n",
    "    line_string['coordinates'].sort(key=lambda x: data[int(x[1])]['shape_pt_sequence'])\n",
    "\n",
    "# Create a GeoJSON feature collection\n",
    "features = []\n",
    "for shape_id, line_string in line_strings.items():\n",
    "    feature = {\n",
    "        'type': 'Feature',\n",
    "        'geometry': line_string,\n",
    "        'properties': {'shape_id': shape_id}\n",
    "    }\n",
    "    features.append(feature)\n"
   ]
  },
  {
   "cell_type": "markdown",
   "id": "99fd79f2",
   "metadata": {},
   "source": [
    "### Writes"
   ]
  },
  {
   "cell_type": "code",
   "execution_count": 4,
   "id": "d4991392",
   "metadata": {},
   "outputs": [],
   "source": [
    "with open(output_line_file, 'w') as geojson_file:\n",
    "    json.dump({'type': 'FeatureCollection', 'features': features}, geojson_file)"
   ]
  }
 ],
 "metadata": {
  "kernelspec": {
   "display_name": ".venv",
   "language": "python",
   "name": "python3"
  },
  "language_info": {
   "codemirror_mode": {
    "name": "ipython",
    "version": 3
   },
   "file_extension": ".py",
   "mimetype": "text/x-python",
   "name": "python",
   "nbconvert_exporter": "python",
   "pygments_lexer": "ipython3",
   "version": "3.12.10"
  }
 },
 "nbformat": 4,
 "nbformat_minor": 5
}
