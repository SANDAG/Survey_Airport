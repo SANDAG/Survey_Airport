{
 "cells": [
  {
   "cell_type": "code",
   "execution_count": 4,
   "id": "903ff16c",
   "metadata": {},
   "outputs": [],
   "source": [
    "import pandas as pd\n",
    "import numpy as np"
   ]
  },
  {
   "cell_type": "markdown",
   "id": "ab74dc7f",
   "metadata": {},
   "source": [
    "### Remote I/O"
   ]
  },
  {
   "cell_type": "code",
   "execution_count": 5,
   "id": "fdc9e6d7",
   "metadata": {},
   "outputs": [],
   "source": [
    "data_model_output_file = '../../data/processed/data_model_output.csv'\n",
    "airport_routes_shapes_file = '../../data/external/gtfs-snippets/airport-routes.csv'\n",
    "output_data_file = '../../data/interim/origins-close-to-transit.csv'"
   ]
  },
  {
   "cell_type": "markdown",
   "id": "659be3e0",
   "metadata": {},
   "source": [
    "### Data Reads"
   ]
  },
  {
   "cell_type": "code",
   "execution_count": 6,
   "id": "937fcb18",
   "metadata": {},
   "outputs": [
    {
     "name": "stderr",
     "output_type": "stream",
     "text": [
      "C:\\Users\\mwe\\AppData\\Local\\Temp\\ipykernel_22512\\1623197710.py:1: DtypeWarning: Columns (1,13,14,25,26,27,28,29,30,31,32,33,34,35,36,37,38,39,40,41,42,43,44,45,47,48,54,55,59,65,69,74,77,78,80,82,83,86,93,95,104,105,106,107,108,109,110,111,112,113,114,115,116,117,118,119,120,121,122,123,124,125,126,127,128,129,130,132,142,147,150,151,152,155,156,157,167,169,177,179,196,197,198,201,210,211,216,223,237,239,240,241,242,243,244,246,248,249,273,283,284,285,288,291,295,296,297,299,300,335,337,338,340,411,414,435) have mixed types. Specify dtype option on import or set low_memory=False.\n",
      "  input_data_df = pd.read_csv(data_model_output_file)\n"
     ]
    }
   ],
   "source": [
    "input_data_df = pd.read_csv(data_model_output_file)\n",
    "airport_routes_df = pd.read_csv(airport_routes_shapes_file)"
   ]
  },
  {
   "cell_type": "code",
   "execution_count": 7,
   "id": "2af4e040",
   "metadata": {},
   "outputs": [
    {
     "data": {
      "application/vnd.microsoft.datawrangler.viewer.v0+json": {
       "columns": [
        {
         "name": "index",
         "rawType": "int64",
         "type": "integer"
        },
        {
         "name": "shape_id",
         "rawType": "object",
         "type": "string"
        },
        {
         "name": "lat",
         "rawType": "float64",
         "type": "float"
        },
        {
         "name": "lon",
         "rawType": "float64",
         "type": "float"
        },
        {
         "name": "shape_pt_sequence",
         "rawType": "int64",
         "type": "integer"
        },
        {
         "name": "shape_dist_traveled",
         "rawType": "float64",
         "type": "float"
        }
       ],
       "ref": "fb884808-1d0b-43fe-b00f-7857acf9513f",
       "rows": [
        [
         "0",
         "S2_992_9_60",
         "32.7158699",
         "-117.15287018",
         "10001",
         "0.0"
        ],
        [
         "1",
         "S2_992_9_60",
         "32.7157402",
         "-117.15287018",
         "10002",
         "0.009"
        ],
        [
         "2",
         "S2_992_9_60",
         "32.71573257",
         "-117.15378571",
         "10003",
         "0.063"
        ],
        [
         "3",
         "S2_992_9_60",
         "32.71573257",
         "-117.15406036",
         "10004",
         "0.079"
        ],
        [
         "4",
         "S2_992_9_60",
         "32.71573257",
         "-117.15406036",
         "20001",
         "0.079"
        ]
       ],
       "shape": {
        "columns": 5,
        "rows": 5
       }
      },
      "text/html": [
       "<div>\n",
       "<style scoped>\n",
       "    .dataframe tbody tr th:only-of-type {\n",
       "        vertical-align: middle;\n",
       "    }\n",
       "\n",
       "    .dataframe tbody tr th {\n",
       "        vertical-align: top;\n",
       "    }\n",
       "\n",
       "    .dataframe thead th {\n",
       "        text-align: right;\n",
       "    }\n",
       "</style>\n",
       "<table border=\"1\" class=\"dataframe\">\n",
       "  <thead>\n",
       "    <tr style=\"text-align: right;\">\n",
       "      <th></th>\n",
       "      <th>shape_id</th>\n",
       "      <th>lat</th>\n",
       "      <th>lon</th>\n",
       "      <th>shape_pt_sequence</th>\n",
       "      <th>shape_dist_traveled</th>\n",
       "    </tr>\n",
       "  </thead>\n",
       "  <tbody>\n",
       "    <tr>\n",
       "      <th>0</th>\n",
       "      <td>S2_992_9_60</td>\n",
       "      <td>32.715870</td>\n",
       "      <td>-117.152870</td>\n",
       "      <td>10001</td>\n",
       "      <td>0.000</td>\n",
       "    </tr>\n",
       "    <tr>\n",
       "      <th>1</th>\n",
       "      <td>S2_992_9_60</td>\n",
       "      <td>32.715740</td>\n",
       "      <td>-117.152870</td>\n",
       "      <td>10002</td>\n",
       "      <td>0.009</td>\n",
       "    </tr>\n",
       "    <tr>\n",
       "      <th>2</th>\n",
       "      <td>S2_992_9_60</td>\n",
       "      <td>32.715733</td>\n",
       "      <td>-117.153786</td>\n",
       "      <td>10003</td>\n",
       "      <td>0.063</td>\n",
       "    </tr>\n",
       "    <tr>\n",
       "      <th>3</th>\n",
       "      <td>S2_992_9_60</td>\n",
       "      <td>32.715733</td>\n",
       "      <td>-117.154060</td>\n",
       "      <td>10004</td>\n",
       "      <td>0.079</td>\n",
       "    </tr>\n",
       "    <tr>\n",
       "      <th>4</th>\n",
       "      <td>S2_992_9_60</td>\n",
       "      <td>32.715733</td>\n",
       "      <td>-117.154060</td>\n",
       "      <td>20001</td>\n",
       "      <td>0.079</td>\n",
       "    </tr>\n",
       "  </tbody>\n",
       "</table>\n",
       "</div>"
      ],
      "text/plain": [
       "      shape_id        lat         lon  shape_pt_sequence  shape_dist_traveled\n",
       "0  S2_992_9_60  32.715870 -117.152870              10001                0.000\n",
       "1  S2_992_9_60  32.715740 -117.152870              10002                0.009\n",
       "2  S2_992_9_60  32.715733 -117.153786              10003                0.063\n",
       "3  S2_992_9_60  32.715733 -117.154060              10004                0.079\n",
       "4  S2_992_9_60  32.715733 -117.154060              20001                0.079"
      ]
     },
     "execution_count": 7,
     "metadata": {},
     "output_type": "execute_result"
    }
   ],
   "source": [
    "airport_routes_df.head()"
   ]
  },
  {
   "cell_type": "code",
   "execution_count": 8,
   "id": "32074997",
   "metadata": {},
   "outputs": [
    {
     "data": {
      "application/vnd.microsoft.datawrangler.viewer.v0+json": {
       "columns": [
        {
         "name": "index",
         "rawType": "int64",
         "type": "integer"
        },
        {
         "name": "inbound_or_outbound",
         "rawType": "float64",
         "type": "float"
        },
        {
         "name": "inbound_or_outbound_label",
         "rawType": "object",
         "type": "unknown"
        }
       ],
       "ref": "6b03a1d2-b952-4d6c-983d-42f4bd982105",
       "rows": [
        [
         "0",
         "1.0",
         "INBOUND_TO_AIRPORT"
        ],
        [
         "1",
         "1.0",
         "INBOUND_TO_AIRPORT"
        ],
        [
         "2",
         "1.0",
         "INBOUND_TO_AIRPORT"
        ],
        [
         "3",
         "1.0",
         "INBOUND_TO_AIRPORT"
        ],
        [
         "4",
         "1.0",
         "INBOUND_TO_AIRPORT"
        ],
        [
         "5",
         "1.0",
         "INBOUND_TO_AIRPORT"
        ],
        [
         "6",
         "1.0",
         "INBOUND_TO_AIRPORT"
        ],
        [
         "7",
         "1.0",
         "INBOUND_TO_AIRPORT"
        ],
        [
         "8",
         "1.0",
         "INBOUND_TO_AIRPORT"
        ],
        [
         "9",
         "1.0",
         "INBOUND_TO_AIRPORT"
        ],
        [
         "10",
         "1.0",
         "INBOUND_TO_AIRPORT"
        ],
        [
         "11",
         "1.0",
         "INBOUND_TO_AIRPORT"
        ],
        [
         "12",
         "1.0",
         "INBOUND_TO_AIRPORT"
        ],
        [
         "13",
         "1.0",
         "INBOUND_TO_AIRPORT"
        ],
        [
         "14",
         "1.0",
         "INBOUND_TO_AIRPORT"
        ],
        [
         "15",
         "1.0",
         "INBOUND_TO_AIRPORT"
        ],
        [
         "16",
         "1.0",
         "INBOUND_TO_AIRPORT"
        ],
        [
         "17",
         "1.0",
         "INBOUND_TO_AIRPORT"
        ],
        [
         "18",
         "1.0",
         "INBOUND_TO_AIRPORT"
        ],
        [
         "19",
         "1.0",
         "INBOUND_TO_AIRPORT"
        ],
        [
         "20",
         "1.0",
         "INBOUND_TO_AIRPORT"
        ],
        [
         "21",
         "1.0",
         "INBOUND_TO_AIRPORT"
        ],
        [
         "22",
         "1.0",
         "INBOUND_TO_AIRPORT"
        ],
        [
         "23",
         "1.0",
         "INBOUND_TO_AIRPORT"
        ],
        [
         "24",
         "1.0",
         "INBOUND_TO_AIRPORT"
        ],
        [
         "25",
         "1.0",
         "INBOUND_TO_AIRPORT"
        ],
        [
         "26",
         "1.0",
         "INBOUND_TO_AIRPORT"
        ],
        [
         "27",
         "1.0",
         "INBOUND_TO_AIRPORT"
        ],
        [
         "28",
         "1.0",
         "INBOUND_TO_AIRPORT"
        ],
        [
         "29",
         "1.0",
         "INBOUND_TO_AIRPORT"
        ],
        [
         "30",
         "1.0",
         "INBOUND_TO_AIRPORT"
        ],
        [
         "31",
         "1.0",
         "INBOUND_TO_AIRPORT"
        ],
        [
         "32",
         "1.0",
         "INBOUND_TO_AIRPORT"
        ],
        [
         "33",
         "1.0",
         "INBOUND_TO_AIRPORT"
        ],
        [
         "34",
         "1.0",
         "INBOUND_TO_AIRPORT"
        ],
        [
         "35",
         "1.0",
         "INBOUND_TO_AIRPORT"
        ],
        [
         "36",
         "1.0",
         "INBOUND_TO_AIRPORT"
        ],
        [
         "37",
         "1.0",
         "INBOUND_TO_AIRPORT"
        ],
        [
         "38",
         "1.0",
         "INBOUND_TO_AIRPORT"
        ],
        [
         "39",
         "1.0",
         "INBOUND_TO_AIRPORT"
        ],
        [
         "40",
         "1.0",
         "INBOUND_TO_AIRPORT"
        ],
        [
         "41",
         "1.0",
         "INBOUND_TO_AIRPORT"
        ],
        [
         "42",
         "1.0",
         "INBOUND_TO_AIRPORT"
        ],
        [
         "43",
         "1.0",
         "INBOUND_TO_AIRPORT"
        ],
        [
         "44",
         "1.0",
         "INBOUND_TO_AIRPORT"
        ],
        [
         "45",
         "1.0",
         "INBOUND_TO_AIRPORT"
        ],
        [
         "46",
         "1.0",
         "INBOUND_TO_AIRPORT"
        ],
        [
         "47",
         "1.0",
         "INBOUND_TO_AIRPORT"
        ],
        [
         "48",
         "1.0",
         "INBOUND_TO_AIRPORT"
        ],
        [
         "49",
         "1.0",
         "INBOUND_TO_AIRPORT"
        ]
       ],
       "shape": {
        "columns": 2,
        "rows": 9892
       }
      },
      "text/html": [
       "<div>\n",
       "<style scoped>\n",
       "    .dataframe tbody tr th:only-of-type {\n",
       "        vertical-align: middle;\n",
       "    }\n",
       "\n",
       "    .dataframe tbody tr th {\n",
       "        vertical-align: top;\n",
       "    }\n",
       "\n",
       "    .dataframe thead th {\n",
       "        text-align: right;\n",
       "    }\n",
       "</style>\n",
       "<table border=\"1\" class=\"dataframe\">\n",
       "  <thead>\n",
       "    <tr style=\"text-align: right;\">\n",
       "      <th></th>\n",
       "      <th>inbound_or_outbound</th>\n",
       "      <th>inbound_or_outbound_label</th>\n",
       "    </tr>\n",
       "  </thead>\n",
       "  <tbody>\n",
       "    <tr>\n",
       "      <th>0</th>\n",
       "      <td>1.0</td>\n",
       "      <td>INBOUND_TO_AIRPORT</td>\n",
       "    </tr>\n",
       "    <tr>\n",
       "      <th>1</th>\n",
       "      <td>1.0</td>\n",
       "      <td>INBOUND_TO_AIRPORT</td>\n",
       "    </tr>\n",
       "    <tr>\n",
       "      <th>2</th>\n",
       "      <td>1.0</td>\n",
       "      <td>INBOUND_TO_AIRPORT</td>\n",
       "    </tr>\n",
       "    <tr>\n",
       "      <th>3</th>\n",
       "      <td>1.0</td>\n",
       "      <td>INBOUND_TO_AIRPORT</td>\n",
       "    </tr>\n",
       "    <tr>\n",
       "      <th>4</th>\n",
       "      <td>1.0</td>\n",
       "      <td>INBOUND_TO_AIRPORT</td>\n",
       "    </tr>\n",
       "    <tr>\n",
       "      <th>...</th>\n",
       "      <td>...</td>\n",
       "      <td>...</td>\n",
       "    </tr>\n",
       "    <tr>\n",
       "      <th>9887</th>\n",
       "      <td>2.0</td>\n",
       "      <td>OUTBOUND_FROM_AIRPORT</td>\n",
       "    </tr>\n",
       "    <tr>\n",
       "      <th>9888</th>\n",
       "      <td>2.0</td>\n",
       "      <td>OUTBOUND_FROM_AIRPORT</td>\n",
       "    </tr>\n",
       "    <tr>\n",
       "      <th>9889</th>\n",
       "      <td>2.0</td>\n",
       "      <td>OUTBOUND_FROM_AIRPORT</td>\n",
       "    </tr>\n",
       "    <tr>\n",
       "      <th>9890</th>\n",
       "      <td>2.0</td>\n",
       "      <td>OUTBOUND_FROM_AIRPORT</td>\n",
       "    </tr>\n",
       "    <tr>\n",
       "      <th>9891</th>\n",
       "      <td>2.0</td>\n",
       "      <td>OUTBOUND_FROM_AIRPORT</td>\n",
       "    </tr>\n",
       "  </tbody>\n",
       "</table>\n",
       "<p>9892 rows × 2 columns</p>\n",
       "</div>"
      ],
      "text/plain": [
       "      inbound_or_outbound inbound_or_outbound_label\n",
       "0                     1.0        INBOUND_TO_AIRPORT\n",
       "1                     1.0        INBOUND_TO_AIRPORT\n",
       "2                     1.0        INBOUND_TO_AIRPORT\n",
       "3                     1.0        INBOUND_TO_AIRPORT\n",
       "4                     1.0        INBOUND_TO_AIRPORT\n",
       "...                   ...                       ...\n",
       "9887                  2.0     OUTBOUND_FROM_AIRPORT\n",
       "9888                  2.0     OUTBOUND_FROM_AIRPORT\n",
       "9889                  2.0     OUTBOUND_FROM_AIRPORT\n",
       "9890                  2.0     OUTBOUND_FROM_AIRPORT\n",
       "9891                  2.0     OUTBOUND_FROM_AIRPORT\n",
       "\n",
       "[9892 rows x 2 columns]"
      ]
     },
     "execution_count": 8,
     "metadata": {},
     "output_type": "execute_result"
    }
   ],
   "source": [
    "input_data_df.filter(like='inbound', axis=1)"
   ]
  },
  {
   "cell_type": "markdown",
   "id": "34892cee",
   "metadata": {},
   "source": [
    "### Reductions"
   ]
  },
  {
   "cell_type": "code",
   "execution_count": 9,
   "id": "d2d8b98e",
   "metadata": {},
   "outputs": [],
   "source": [
    "data_df = input_data_df[[\n",
    "    \"unique_id\",\n",
    "    \"origin_latitude\",\n",
    "    \"origin_longitude\",\n",
    "    \"main_mode_label\",\n",
    "    \"marketsegment_label\",\n",
    "    \"inbound_or_outbound_label\",\n",
    "    \"weight_departing_and_arriving\"\n",
    "]]\n",
    "data_df = data_df[data_df[\"origin_latitude\"].notna()]"
   ]
  },
  {
   "cell_type": "code",
   "execution_count": 10,
   "id": "4cae4a41",
   "metadata": {},
   "outputs": [],
   "source": [
    "def haversine(lat1, lon1, lat2, lon2):\n",
    "    radius = 6371\n",
    "    dlat = np.radians(lat2 - lat1)\n",
    "    dlon = np.radians(lon2 - lon1)\n",
    "    a = np.sin(dlat / 2) ** 2 + np.cos(np.radians(lat1)) * np.cos(np.radians(lat2)) * np.sin(dlon / 2) ** 2\n",
    "    c = 2 * np.arctan2(np.sqrt(a), np.sqrt(1 - a))\n",
    "    distance_in_kilometers = radius * c\n",
    "    return distance_in_kilometers\n"
   ]
  },
  {
   "cell_type": "code",
   "execution_count": 11,
   "id": "eb582015",
   "metadata": {},
   "outputs": [],
   "source": [
    "min_distances = []\n",
    "for index, row in data_df.iterrows():\n",
    "    lat1, lon1 = row['origin_latitude'], row['origin_longitude']\n",
    "    distances = [haversine(lat1, lon1, row2['lat'], row2['lon']) for index2, row2 in airport_routes_df.iterrows()]\n",
    "    min_distance = min(distances)\n",
    "    min_distances.append(min_distance)\n",
    "\n",
    "# Create a new DataFrame with the minimum distances\n",
    "distances_df = pd.DataFrame({'unique_id': data_df['unique_id'], 'distance_in_kilometers': min_distances})\n"
   ]
  },
  {
   "cell_type": "code",
   "execution_count": 12,
   "id": "08143a71",
   "metadata": {},
   "outputs": [
    {
     "data": {
      "application/vnd.microsoft.datawrangler.viewer.v0+json": {
       "columns": [
        {
         "name": "index",
         "rawType": "int64",
         "type": "integer"
        },
        {
         "name": "unique_id",
         "rawType": "int64",
         "type": "integer"
        },
        {
         "name": "distance_in_kilometers",
         "rawType": "float64",
         "type": "float"
        }
       ],
       "ref": "8ec66de7-f12e-4dfb-b24f-ef571a855eed",
       "rows": [
        [
         "0",
         "1",
         "5.450919629106681"
        ],
        [
         "1",
         "2",
         "1.2119281621522286"
        ],
        [
         "2",
         "3",
         "3.4477258018672323"
        ],
        [
         "3",
         "4",
         "0.4210755017909288"
        ],
        [
         "4",
         "5",
         "1.3458064277148387"
        ]
       ],
       "shape": {
        "columns": 2,
        "rows": 5
       }
      },
      "text/html": [
       "<div>\n",
       "<style scoped>\n",
       "    .dataframe tbody tr th:only-of-type {\n",
       "        vertical-align: middle;\n",
       "    }\n",
       "\n",
       "    .dataframe tbody tr th {\n",
       "        vertical-align: top;\n",
       "    }\n",
       "\n",
       "    .dataframe thead th {\n",
       "        text-align: right;\n",
       "    }\n",
       "</style>\n",
       "<table border=\"1\" class=\"dataframe\">\n",
       "  <thead>\n",
       "    <tr style=\"text-align: right;\">\n",
       "      <th></th>\n",
       "      <th>unique_id</th>\n",
       "      <th>distance_in_kilometers</th>\n",
       "    </tr>\n",
       "  </thead>\n",
       "  <tbody>\n",
       "    <tr>\n",
       "      <th>0</th>\n",
       "      <td>1</td>\n",
       "      <td>5.450920</td>\n",
       "    </tr>\n",
       "    <tr>\n",
       "      <th>1</th>\n",
       "      <td>2</td>\n",
       "      <td>1.211928</td>\n",
       "    </tr>\n",
       "    <tr>\n",
       "      <th>2</th>\n",
       "      <td>3</td>\n",
       "      <td>3.447726</td>\n",
       "    </tr>\n",
       "    <tr>\n",
       "      <th>3</th>\n",
       "      <td>4</td>\n",
       "      <td>0.421076</td>\n",
       "    </tr>\n",
       "    <tr>\n",
       "      <th>4</th>\n",
       "      <td>5</td>\n",
       "      <td>1.345806</td>\n",
       "    </tr>\n",
       "  </tbody>\n",
       "</table>\n",
       "</div>"
      ],
      "text/plain": [
       "   unique_id  distance_in_kilometers\n",
       "0          1                5.450920\n",
       "1          2                1.211928\n",
       "2          3                3.447726\n",
       "3          4                0.421076\n",
       "4          5                1.345806"
      ]
     },
     "execution_count": 12,
     "metadata": {},
     "output_type": "execute_result"
    }
   ],
   "source": [
    "distances_df.head()"
   ]
  },
  {
   "cell_type": "code",
   "execution_count": 13,
   "id": "4a33b820",
   "metadata": {},
   "outputs": [
    {
     "data": {
      "application/vnd.microsoft.datawrangler.viewer.v0+json": {
       "columns": [
        {
         "name": "index",
         "rawType": "int64",
         "type": "integer"
        },
        {
         "name": "unique_id",
         "rawType": "int64",
         "type": "integer"
        },
        {
         "name": "origin_latitude",
         "rawType": "float64",
         "type": "float"
        },
        {
         "name": "origin_longitude",
         "rawType": "float64",
         "type": "float"
        },
        {
         "name": "main_mode_label",
         "rawType": "object",
         "type": "string"
        },
        {
         "name": "marketsegment_label",
         "rawType": "object",
         "type": "string"
        },
        {
         "name": "inbound_or_outbound_label",
         "rawType": "object",
         "type": "string"
        },
        {
         "name": "weight_departing_and_arriving",
         "rawType": "float64",
         "type": "float"
        },
        {
         "name": "distance_in_kilometers",
         "rawType": "float64",
         "type": "float"
        }
       ],
       "ref": "12e470c4-6d7e-44ae-9800-4ae910ff7da0",
       "rows": [
        [
         "0",
         "1",
         "32.8167139999997",
         "-117.176897999999",
         "DROVE_ALONE_AND_PARKED",
         "EMPLOYEE",
         "INBOUND_TO_AIRPORT",
         "10.840259127952416",
         "5.450919629106681"
        ],
        [
         "1",
         "2",
         "32.639943",
         "-117.085774",
         "MTS_ROUTE_992",
         "EMPLOYEE",
         "INBOUND_TO_AIRPORT",
         "6.487855523297596",
         "1.2119281621522286"
        ],
        [
         "2",
         "3",
         "32.743009",
         "-117.131699",
         "DROVE_ALONE_AND_PARKED",
         "EMPLOYEE",
         "INBOUND_TO_AIRPORT",
         "10.840259127952416",
         "3.4477258018672323"
        ],
        [
         "3",
         "4",
         "32.706752",
         "-117.14881",
         "MTS_ROUTE_992",
         "EMPLOYEE",
         "INBOUND_TO_AIRPORT",
         "6.487855523297596",
         "0.4210755017909288"
        ],
        [
         "4",
         "5",
         "32.678108",
         "-117.099196",
         "MTS_ROUTE_992",
         "EMPLOYEE",
         "INBOUND_TO_AIRPORT",
         "6.487855523297596",
         "1.3458064277148387"
        ]
       ],
       "shape": {
        "columns": 8,
        "rows": 5
       }
      },
      "text/html": [
       "<div>\n",
       "<style scoped>\n",
       "    .dataframe tbody tr th:only-of-type {\n",
       "        vertical-align: middle;\n",
       "    }\n",
       "\n",
       "    .dataframe tbody tr th {\n",
       "        vertical-align: top;\n",
       "    }\n",
       "\n",
       "    .dataframe thead th {\n",
       "        text-align: right;\n",
       "    }\n",
       "</style>\n",
       "<table border=\"1\" class=\"dataframe\">\n",
       "  <thead>\n",
       "    <tr style=\"text-align: right;\">\n",
       "      <th></th>\n",
       "      <th>unique_id</th>\n",
       "      <th>origin_latitude</th>\n",
       "      <th>origin_longitude</th>\n",
       "      <th>main_mode_label</th>\n",
       "      <th>marketsegment_label</th>\n",
       "      <th>inbound_or_outbound_label</th>\n",
       "      <th>weight_departing_and_arriving</th>\n",
       "      <th>distance_in_kilometers</th>\n",
       "    </tr>\n",
       "  </thead>\n",
       "  <tbody>\n",
       "    <tr>\n",
       "      <th>0</th>\n",
       "      <td>1</td>\n",
       "      <td>32.816714</td>\n",
       "      <td>-117.176898</td>\n",
       "      <td>DROVE_ALONE_AND_PARKED</td>\n",
       "      <td>EMPLOYEE</td>\n",
       "      <td>INBOUND_TO_AIRPORT</td>\n",
       "      <td>10.840259</td>\n",
       "      <td>5.450920</td>\n",
       "    </tr>\n",
       "    <tr>\n",
       "      <th>1</th>\n",
       "      <td>2</td>\n",
       "      <td>32.639943</td>\n",
       "      <td>-117.085774</td>\n",
       "      <td>MTS_ROUTE_992</td>\n",
       "      <td>EMPLOYEE</td>\n",
       "      <td>INBOUND_TO_AIRPORT</td>\n",
       "      <td>6.487856</td>\n",
       "      <td>1.211928</td>\n",
       "    </tr>\n",
       "    <tr>\n",
       "      <th>2</th>\n",
       "      <td>3</td>\n",
       "      <td>32.743009</td>\n",
       "      <td>-117.131699</td>\n",
       "      <td>DROVE_ALONE_AND_PARKED</td>\n",
       "      <td>EMPLOYEE</td>\n",
       "      <td>INBOUND_TO_AIRPORT</td>\n",
       "      <td>10.840259</td>\n",
       "      <td>3.447726</td>\n",
       "    </tr>\n",
       "    <tr>\n",
       "      <th>3</th>\n",
       "      <td>4</td>\n",
       "      <td>32.706752</td>\n",
       "      <td>-117.148810</td>\n",
       "      <td>MTS_ROUTE_992</td>\n",
       "      <td>EMPLOYEE</td>\n",
       "      <td>INBOUND_TO_AIRPORT</td>\n",
       "      <td>6.487856</td>\n",
       "      <td>0.421076</td>\n",
       "    </tr>\n",
       "    <tr>\n",
       "      <th>4</th>\n",
       "      <td>5</td>\n",
       "      <td>32.678108</td>\n",
       "      <td>-117.099196</td>\n",
       "      <td>MTS_ROUTE_992</td>\n",
       "      <td>EMPLOYEE</td>\n",
       "      <td>INBOUND_TO_AIRPORT</td>\n",
       "      <td>6.487856</td>\n",
       "      <td>1.345806</td>\n",
       "    </tr>\n",
       "  </tbody>\n",
       "</table>\n",
       "</div>"
      ],
      "text/plain": [
       "   unique_id  origin_latitude  origin_longitude         main_mode_label  \\\n",
       "0          1        32.816714       -117.176898  DROVE_ALONE_AND_PARKED   \n",
       "1          2        32.639943       -117.085774           MTS_ROUTE_992   \n",
       "2          3        32.743009       -117.131699  DROVE_ALONE_AND_PARKED   \n",
       "3          4        32.706752       -117.148810           MTS_ROUTE_992   \n",
       "4          5        32.678108       -117.099196           MTS_ROUTE_992   \n",
       "\n",
       "  marketsegment_label inbound_or_outbound_label  \\\n",
       "0            EMPLOYEE        INBOUND_TO_AIRPORT   \n",
       "1            EMPLOYEE        INBOUND_TO_AIRPORT   \n",
       "2            EMPLOYEE        INBOUND_TO_AIRPORT   \n",
       "3            EMPLOYEE        INBOUND_TO_AIRPORT   \n",
       "4            EMPLOYEE        INBOUND_TO_AIRPORT   \n",
       "\n",
       "   weight_departing_and_arriving  distance_in_kilometers  \n",
       "0                      10.840259                5.450920  \n",
       "1                       6.487856                1.211928  \n",
       "2                      10.840259                3.447726  \n",
       "3                       6.487856                0.421076  \n",
       "4                       6.487856                1.345806  "
      ]
     },
     "execution_count": 13,
     "metadata": {},
     "output_type": "execute_result"
    }
   ],
   "source": [
    "data_df = pd.merge(data_df, distances_df, on=\"unique_id\")\n",
    "data_df.head()"
   ]
  },
  {
   "cell_type": "code",
   "execution_count": 14,
   "id": "a7a48f87",
   "metadata": {},
   "outputs": [
    {
     "data": {
      "application/vnd.microsoft.datawrangler.viewer.v0+json": {
       "columns": [
        {
         "name": "index",
         "rawType": "int64",
         "type": "integer"
        },
        {
         "name": "unique_id",
         "rawType": "int64",
         "type": "integer"
        },
        {
         "name": "origin_latitude",
         "rawType": "float64",
         "type": "float"
        },
        {
         "name": "origin_longitude",
         "rawType": "float64",
         "type": "float"
        },
        {
         "name": "main_mode_label",
         "rawType": "object",
         "type": "string"
        },
        {
         "name": "marketsegment_label",
         "rawType": "object",
         "type": "string"
        },
        {
         "name": "inbound_or_outbound_label",
         "rawType": "object",
         "type": "string"
        },
        {
         "name": "weight_departing_and_arriving",
         "rawType": "float64",
         "type": "float"
        },
        {
         "name": "distance_in_kilometers",
         "rawType": "float64",
         "type": "float"
        }
       ],
       "ref": "2724b6a9-cf7b-4afb-95ed-19e9591ce52a",
       "rows": [
        [
         "0",
         "1",
         "32.8167139999997",
         "-117.176897999999",
         "DROVE_ALONE_AND_PARKED",
         "EMPLOYEE",
         "INBOUND_TO_AIRPORT",
         "10.840259127952416",
         "5.450919629106681"
        ],
        [
         "1",
         "2",
         "32.639943",
         "-117.085774",
         "MTS_ROUTE_992",
         "EMPLOYEE",
         "INBOUND_TO_AIRPORT",
         "6.487855523297596",
         "1.2119281621522286"
        ],
        [
         "2",
         "3",
         "32.743009",
         "-117.131699",
         "DROVE_ALONE_AND_PARKED",
         "EMPLOYEE",
         "INBOUND_TO_AIRPORT",
         "10.840259127952416",
         "3.4477258018672323"
        ],
        [
         "3",
         "4",
         "32.706752",
         "-117.14881",
         "MTS_ROUTE_992",
         "EMPLOYEE",
         "INBOUND_TO_AIRPORT",
         "6.487855523297596",
         "0.4210755017909288"
        ],
        [
         "4",
         "5",
         "32.678108",
         "-117.099196",
         "MTS_ROUTE_992",
         "EMPLOYEE",
         "INBOUND_TO_AIRPORT",
         "6.487855523297596",
         "1.3458064277148387"
        ]
       ],
       "shape": {
        "columns": 8,
        "rows": 5
       }
      },
      "text/html": [
       "<div>\n",
       "<style scoped>\n",
       "    .dataframe tbody tr th:only-of-type {\n",
       "        vertical-align: middle;\n",
       "    }\n",
       "\n",
       "    .dataframe tbody tr th {\n",
       "        vertical-align: top;\n",
       "    }\n",
       "\n",
       "    .dataframe thead th {\n",
       "        text-align: right;\n",
       "    }\n",
       "</style>\n",
       "<table border=\"1\" class=\"dataframe\">\n",
       "  <thead>\n",
       "    <tr style=\"text-align: right;\">\n",
       "      <th></th>\n",
       "      <th>unique_id</th>\n",
       "      <th>origin_latitude</th>\n",
       "      <th>origin_longitude</th>\n",
       "      <th>main_mode_label</th>\n",
       "      <th>marketsegment_label</th>\n",
       "      <th>inbound_or_outbound_label</th>\n",
       "      <th>weight_departing_and_arriving</th>\n",
       "      <th>distance_in_kilometers</th>\n",
       "    </tr>\n",
       "  </thead>\n",
       "  <tbody>\n",
       "    <tr>\n",
       "      <th>0</th>\n",
       "      <td>1</td>\n",
       "      <td>32.816714</td>\n",
       "      <td>-117.176898</td>\n",
       "      <td>DROVE_ALONE_AND_PARKED</td>\n",
       "      <td>EMPLOYEE</td>\n",
       "      <td>INBOUND_TO_AIRPORT</td>\n",
       "      <td>10.840259</td>\n",
       "      <td>5.450920</td>\n",
       "    </tr>\n",
       "    <tr>\n",
       "      <th>1</th>\n",
       "      <td>2</td>\n",
       "      <td>32.639943</td>\n",
       "      <td>-117.085774</td>\n",
       "      <td>MTS_ROUTE_992</td>\n",
       "      <td>EMPLOYEE</td>\n",
       "      <td>INBOUND_TO_AIRPORT</td>\n",
       "      <td>6.487856</td>\n",
       "      <td>1.211928</td>\n",
       "    </tr>\n",
       "    <tr>\n",
       "      <th>2</th>\n",
       "      <td>3</td>\n",
       "      <td>32.743009</td>\n",
       "      <td>-117.131699</td>\n",
       "      <td>DROVE_ALONE_AND_PARKED</td>\n",
       "      <td>EMPLOYEE</td>\n",
       "      <td>INBOUND_TO_AIRPORT</td>\n",
       "      <td>10.840259</td>\n",
       "      <td>3.447726</td>\n",
       "    </tr>\n",
       "    <tr>\n",
       "      <th>3</th>\n",
       "      <td>4</td>\n",
       "      <td>32.706752</td>\n",
       "      <td>-117.148810</td>\n",
       "      <td>MTS_ROUTE_992</td>\n",
       "      <td>EMPLOYEE</td>\n",
       "      <td>INBOUND_TO_AIRPORT</td>\n",
       "      <td>6.487856</td>\n",
       "      <td>0.421076</td>\n",
       "    </tr>\n",
       "    <tr>\n",
       "      <th>4</th>\n",
       "      <td>5</td>\n",
       "      <td>32.678108</td>\n",
       "      <td>-117.099196</td>\n",
       "      <td>MTS_ROUTE_992</td>\n",
       "      <td>EMPLOYEE</td>\n",
       "      <td>INBOUND_TO_AIRPORT</td>\n",
       "      <td>6.487856</td>\n",
       "      <td>1.345806</td>\n",
       "    </tr>\n",
       "  </tbody>\n",
       "</table>\n",
       "</div>"
      ],
      "text/plain": [
       "   unique_id  origin_latitude  origin_longitude         main_mode_label  \\\n",
       "0          1        32.816714       -117.176898  DROVE_ALONE_AND_PARKED   \n",
       "1          2        32.639943       -117.085774           MTS_ROUTE_992   \n",
       "2          3        32.743009       -117.131699  DROVE_ALONE_AND_PARKED   \n",
       "3          4        32.706752       -117.148810           MTS_ROUTE_992   \n",
       "4          5        32.678108       -117.099196           MTS_ROUTE_992   \n",
       "\n",
       "  marketsegment_label inbound_or_outbound_label  \\\n",
       "0            EMPLOYEE        INBOUND_TO_AIRPORT   \n",
       "1            EMPLOYEE        INBOUND_TO_AIRPORT   \n",
       "2            EMPLOYEE        INBOUND_TO_AIRPORT   \n",
       "3            EMPLOYEE        INBOUND_TO_AIRPORT   \n",
       "4            EMPLOYEE        INBOUND_TO_AIRPORT   \n",
       "\n",
       "   weight_departing_and_arriving  distance_in_kilometers  \n",
       "0                      10.840259                5.450920  \n",
       "1                       6.487856                1.211928  \n",
       "2                      10.840259                3.447726  \n",
       "3                       6.487856                0.421076  \n",
       "4                       6.487856                1.345806  "
      ]
     },
     "execution_count": 14,
     "metadata": {},
     "output_type": "execute_result"
    }
   ],
   "source": [
    "data_df.head()"
   ]
  },
  {
   "cell_type": "code",
   "execution_count": 15,
   "id": "2bbb1134",
   "metadata": {},
   "outputs": [],
   "source": [
    "data_df.to_csv(output_data_file, index=False)"
   ]
  },
  {
   "cell_type": "code",
   "execution_count": null,
   "id": "d0d5bdd7",
   "metadata": {},
   "outputs": [],
   "source": []
  }
 ],
 "metadata": {
  "kernelspec": {
   "display_name": ".venv",
   "language": "python",
   "name": "python3"
  },
  "language_info": {
   "codemirror_mode": {
    "name": "ipython",
    "version": 3
   },
   "file_extension": ".py",
   "mimetype": "text/x-python",
   "name": "python",
   "nbconvert_exporter": "python",
   "pygments_lexer": "ipython3",
   "version": "3.12.10"
  }
 },
 "nbformat": 4,
 "nbformat_minor": 5
}
