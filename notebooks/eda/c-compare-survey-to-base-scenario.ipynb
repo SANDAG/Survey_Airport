{
 "cells": [
  {
   "cell_type": "markdown",
   "metadata": {},
   "source": [
    "# Survey Comparison w/ airport.SAN Model Base Scenario #261 Yr2022"
   ]
  },
  {
   "cell_type": "markdown",
   "metadata": {},
   "source": [
    "## Set-Up"
   ]
  },
  {
   "cell_type": "code",
   "execution_count": 1,
   "metadata": {},
   "outputs": [],
   "source": [
    "# import numpy as np\n",
    "# import os\n",
    "import pandas as pd\n",
    "import seaborn as sns\n",
    "\n",
    "from matplotlib import pyplot as plt"
   ]
  },
  {
   "cell_type": "code",
   "execution_count": null,
   "metadata": {},
   "outputs": [],
   "source": [
    "survey_data_path = r\"..\\..\\data\\processed\\data_model_output_taz.csv\"\n",
    "# survey_data_no_synthetic_path = r'../data/processed/data_model_output.csv'\n",
    "model_data_path = r\"..\\..\\data\\external\\airport.SAN model\\airport-SAN-mode-split-scen261.csv\""
   ]
  },
  {
   "cell_type": "code",
   "execution_count": 22,
   "metadata": {},
   "outputs": [],
   "source": [
    "drop_employees = True"
   ]
  },
  {
   "cell_type": "code",
   "execution_count": 23,
   "metadata": {},
   "outputs": [
    {
     "name": "stderr",
     "output_type": "stream",
     "text": [
      "C:\\Users\\mwe\\AppData\\Local\\Temp\\ipykernel_100416\\825114376.py:2: DtypeWarning: Columns (7,8,16,17,18,19,20,21,22,23,24,25,26,27,28,29,30,31,32,33,34,35,36,37,38,41,42,45,49,52,57,58,60,61,62,64,69,71,78,79,80,81,82,83,84,85,86,87,88,89,90,91,92,93,94,95,96,97,98,99,100,101,102,103,104,105,111,115,116,118,119,126,127,132,133,141,142,143,145,152,156,158,161,173,175,208,214,215,216,218,220,221,223,224,225,226,227,245,258,259,260,261,309) have mixed types. Specify dtype option on import or set low_memory=False.\n",
      "  survey_data_base = pd.read_csv(survey_data_path)\n"
     ]
    },
    {
     "name": "stdout",
     "output_type": "stream",
     "text": [
      "dropped 668 responses\n"
     ]
    }
   ],
   "source": [
    "# TODO: discuss how to handle critical validation errors\n",
    "survey_data_base = pd.read_csv(survey_data_path)\n",
    "survey_data_initial_len = survey_data_base.shape[0]\n",
    "survey_data_base = (\n",
    "    survey_data_base\n",
    "        .query(\"validation_severity_person != 'Critical'\")\n",
    "        .query(\"validation_severity_trip != 'Critical'\")\n",
    ")\n",
    "if drop_employees:\n",
    "    survey_data_base = survey_data_base.query(f'purpose_segment.str.lower() != \"employee\"')\n",
    "print(f'dropped {survey_data_initial_len-survey_data_base.shape[0]} responses')"
   ]
  },
  {
   "cell_type": "code",
   "execution_count": 24,
   "metadata": {},
   "outputs": [
    {
     "data": {
      "application/vnd.microsoft.datawrangler.viewer.v0+json": {
       "columns": [
        {
         "name": "index",
         "rawType": "int64",
         "type": "integer"
        },
        {
         "name": "Unnamed: 0",
         "rawType": "int64",
         "type": "integer"
        },
        {
         "name": "unique_id",
         "rawType": "int64",
         "type": "integer"
        },
        {
         "name": "is_valid_record",
         "rawType": "bool",
         "type": "boolean"
        },
        {
         "name": "time_completed",
         "rawType": "object",
         "type": "string"
        },
        {
         "name": "record_type_synthetic",
         "rawType": "int64",
         "type": "integer"
        },
        {
         "name": "access_mode",
         "rawType": "float64",
         "type": "float"
        },
        {
         "name": "access_mode_frequency_label",
         "rawType": "object",
         "type": "string"
        },
        {
         "name": "access_mode_grouped_label",
         "rawType": "object",
         "type": "unknown"
        },
        {
         "name": "access_mode_label",
         "rawType": "object",
         "type": "unknown"
        },
        {
         "name": "access_mode_other",
         "rawType": "object",
         "type": "unknown"
        },
        {
         "name": "age_label",
         "rawType": "object",
         "type": "string"
        },
        {
         "name": "airline_label",
         "rawType": "object",
         "type": "string"
        },
        {
         "name": "airline_other",
         "rawType": "object",
         "type": "unknown"
        },
        {
         "name": "airport_access_transit_use_elsewhere_label",
         "rawType": "object",
         "type": "unknown"
        },
        {
         "name": "airport_terminal",
         "rawType": "float64",
         "type": "float"
        },
        {
         "name": "airportaccesstransitname",
         "rawType": "object",
         "type": "unknown"
        },
        {
         "name": "alt_commute_mode_airport_flyer_shuttle",
         "rawType": "object",
         "type": "unknown"
        },
        {
         "name": "alt_commute_mode_bicycle_electric_bikeshare",
         "rawType": "object",
         "type": "unknown"
        },
        {
         "name": "alt_commute_mode_bicycle_non_electric_bikeshare",
         "rawType": "object",
         "type": "unknown"
        },
        {
         "name": "alt_commute_mode_bicycle_personal_electric_bicycle",
         "rawType": "object",
         "type": "unknown"
        },
        {
         "name": "alt_commute_mode_bicycle_personal_non_electric_bicycle",
         "rawType": "object",
         "type": "unknown"
        },
        {
         "name": "alt_commute_mode_car_black",
         "rawType": "object",
         "type": "unknown"
        },
        {
         "name": "alt_commute_mode_e_scooter_personal",
         "rawType": "object",
         "type": "unknown"
        },
        {
         "name": "alt_commute_mode_e_scooter_shared",
         "rawType": "object",
         "type": "unknown"
        },
        {
         "name": "alt_commute_mode_list",
         "rawType": "object",
         "type": "unknown"
        },
        {
         "name": "alt_commute_mode_mts_route_992",
         "rawType": "object",
         "type": "unknown"
        },
        {
         "name": "alt_commute_mode_other",
         "rawType": "object",
         "type": "unknown"
        },
        {
         "name": "alt_commute_mode_other_public_transit",
         "rawType": "object",
         "type": "unknown"
        },
        {
         "name": "alt_commute_mode_other_shared_van",
         "rawType": "object",
         "type": "unknown"
        },
        {
         "name": "alt_commute_mode_parked_vehicle_and_drive_alone",
         "rawType": "object",
         "type": "unknown"
        },
        {
         "name": "alt_commute_mode_parked_vehicle_and_drive_with_others",
         "rawType": "object",
         "type": "unknown"
        },
        {
         "name": "alt_commute_mode_parked_vehicle_and_ride_with_other_travelers",
         "rawType": "object",
         "type": "unknown"
        },
        {
         "name": "alt_commute_mode_picked_by_family_friend",
         "rawType": "object",
         "type": "unknown"
        },
        {
         "name": "alt_commute_mode_taxi",
         "rawType": "object",
         "type": "unknown"
        },
        {
         "name": "alt_commute_mode_uber_lyft",
         "rawType": "object",
         "type": "unknown"
        },
        {
         "name": "alt_commute_mode_walk",
         "rawType": "object",
         "type": "unknown"
        },
        {
         "name": "alt_commute_mode_wheelchair",
         "rawType": "object",
         "type": "unknown"
        },
        {
         "name": "car_available_label",
         "rawType": "object",
         "type": "unknown"
        },
        {
         "name": "car_available_other",
         "rawType": "object",
         "type": "unknown"
        },
        {
         "name": "carryon_bags_label",
         "rawType": "object",
         "type": "string"
        },
        {
         "name": "checked_bags_label",
         "rawType": "object",
         "type": "string"
        },
        {
         "name": "commute_mode_decision_label",
         "rawType": "object",
         "type": "unknown"
        },
        {
         "name": "commute_mode_decision_other",
         "rawType": "object",
         "type": "unknown"
        },
        {
         "name": "convention_center",
         "rawType": "float64",
         "type": "float"
        },
        {
         "name": "convention_center_activity_label",
         "rawType": "object",
         "type": "unknown"
        },
        {
         "name": "convention_center_activity_other",
         "rawType": "object",
         "type": "unknown"
        },
        {
         "name": "convention_center_label",
         "rawType": "object",
         "type": "unknown"
        },
        {
         "name": "country_of_residence_label",
         "rawType": "object",
         "type": "unknown"
        },
        {
         "name": "destination_activity_type_label",
         "rawType": "object",
         "type": "string"
        },
        {
         "name": "destination_activity_type_other",
         "rawType": "object",
         "type": "unknown"
        },
        {
         "name": "destination_city",
         "rawType": "object",
         "type": "string"
        },
        {
         "name": "destination_municipal_zone",
         "rawType": "object",
         "type": "string"
        },
        {
         "name": "destination_name",
         "rawType": "object",
         "type": "unknown"
        },
        {
         "name": "destination_pmsa_label",
         "rawType": "object",
         "type": "string"
        },
        {
         "name": "destination_state",
         "rawType": "object",
         "type": "string"
        },
        {
         "name": "destination_zip",
         "rawType": "float64",
         "type": "float"
        },
        {
         "name": "egress_mode",
         "rawType": "float64",
         "type": "float"
        },
        {
         "name": "egress_mode_grouped_label",
         "rawType": "object",
         "type": "unknown"
        },
        {
         "name": "egress_mode_label",
         "rawType": "object",
         "type": "unknown"
        },
        {
         "name": "egress_mode_other",
         "rawType": "float64",
         "type": "float"
        },
        {
         "name": "employee_parking",
         "rawType": "object",
         "type": "unknown"
        },
        {
         "name": "employer_label",
         "rawType": "object",
         "type": "unknown"
        },
        {
         "name": "employer_other",
         "rawType": "object",
         "type": "unknown"
        },
        {
         "name": "final_flight_destination",
         "rawType": "object",
         "type": "unknown"
        },
        {
         "name": "flight_arrival_time_label",
         "rawType": "object",
         "type": "string"
        },
        {
         "name": "flight_departure_time_label",
         "rawType": "object",
         "type": "unknown"
        },
        {
         "name": "flight_number",
         "rawType": "object",
         "type": "unknown"
        },
        {
         "name": "flight_purpose_label",
         "rawType": "object",
         "type": "string"
        },
        {
         "name": "flight_purpose_other",
         "rawType": "object",
         "type": "unknown"
        },
        {
         "name": "from_airport_transit_route_1",
         "rawType": "object",
         "type": "unknown"
        },
        {
         "name": "from_airport_transit_route_1_other",
         "rawType": "float64",
         "type": "float"
        },
        {
         "name": "from_airport_transit_route_2",
         "rawType": "object",
         "type": "unknown"
        },
        {
         "name": "from_airport_transit_route_2_other",
         "rawType": "float64",
         "type": "float"
        },
        {
         "name": "from_airport_transit_route_3",
         "rawType": "float64",
         "type": "float"
        },
        {
         "name": "from_airport_transit_route_3_other",
         "rawType": "float64",
         "type": "float"
        },
        {
         "name": "from_airport_transit_route_4",
         "rawType": "float64",
         "type": "float"
        },
        {
         "name": "from_airport_transit_route_4_other",
         "rawType": "float64",
         "type": "float"
        },
        {
         "name": "gender_label",
         "rawType": "object",
         "type": "string"
        },
        {
         "name": "general_modes_used_visitor_bicycle_electric_bikeshare",
         "rawType": "object",
         "type": "unknown"
        },
        {
         "name": "general_modes_used_visitor_bicycle_non_electric_bikeshare",
         "rawType": "object",
         "type": "unknown"
        },
        {
         "name": "general_modes_used_visitor_bicycle_personal_electric_bicycle",
         "rawType": "object",
         "type": "unknown"
        },
        {
         "name": "general_modes_used_visitor_bicycle_personal_non_electric_bicycle",
         "rawType": "object",
         "type": "unknown"
        },
        {
         "name": "general_modes_used_visitor_car_black",
         "rawType": "object",
         "type": "unknown"
        },
        {
         "name": "general_modes_used_visitor_chartered_tour_bus",
         "rawType": "object",
         "type": "unknown"
        },
        {
         "name": "general_modes_used_visitor_coaster",
         "rawType": "object",
         "type": "unknown"
        },
        {
         "name": "general_modes_used_visitor_dropped_off_by_family_friend",
         "rawType": "object",
         "type": "unknown"
        },
        {
         "name": "general_modes_used_visitor_drove_alone_and_parked",
         "rawType": "object",
         "type": "unknown"
        },
        {
         "name": "general_modes_used_visitor_drove_with_others_and_parked",
         "rawType": "object",
         "type": "unknown"
        },
        {
         "name": "general_modes_used_visitor_e_scooter_personal",
         "rawType": "object",
         "type": "unknown"
        },
        {
         "name": "general_modes_used_visitor_e_scooter_shared",
         "rawType": "object",
         "type": "unknown"
        },
        {
         "name": "general_modes_used_visitor_employee_shuttle",
         "rawType": "object",
         "type": "unknown"
        },
        {
         "name": "general_modes_used_visitor_hotel_shuttle_van",
         "rawType": "object",
         "type": "unknown"
        },
        {
         "name": "general_modes_used_visitor_list",
         "rawType": "object",
         "type": "unknown"
        },
        {
         "name": "general_modes_used_visitor_mts_red_trolley",
         "rawType": "object",
         "type": "unknown"
        },
        {
         "name": "general_modes_used_visitor_other",
         "rawType": "object",
         "type": "unknown"
        },
        {
         "name": "general_modes_used_visitor_other_public_bus",
         "rawType": "object",
         "type": "unknown"
        },
        {
         "name": "general_modes_used_visitor_other_public_transit",
         "rawType": "object",
         "type": "unknown"
        },
        {
         "name": "general_modes_used_visitor_other_shared_van",
         "rawType": "object",
         "type": "unknown"
        },
        {
         "name": "general_modes_used_visitor_rental_car_dropped_off",
         "rawType": "object",
         "type": "unknown"
        },
        {
         "name": "general_modes_used_visitor_rental_car_parked",
         "rawType": "object",
         "type": "unknown"
        },
        {
         "name": "general_modes_used_visitor_rode_with_other_travelers_and_parked",
         "rawType": "object",
         "type": "unknown"
        },
        {
         "name": "general_modes_used_visitor_taxi",
         "rawType": "object",
         "type": "unknown"
        },
        {
         "name": "general_modes_used_visitor_uber_lyft",
         "rawType": "object",
         "type": "unknown"
        },
        {
         "name": "general_modes_used_visitor_walk",
         "rawType": "object",
         "type": "unknown"
        },
        {
         "name": "general_modes_used_visitor_wheelchair",
         "rawType": "object",
         "type": "unknown"
        },
        {
         "name": "general_use_transit_resident_label",
         "rawType": "object",
         "type": "string"
        },
        {
         "name": "general_use_transit_visitor_home_label",
         "rawType": "object",
         "type": "unknown"
        },
        {
         "name": "home_location_city",
         "rawType": "object",
         "type": "string"
        },
        {
         "name": "home_location_municipal_zone",
         "rawType": "object",
         "type": "unknown"
        },
        {
         "name": "home_location_pmsa_label",
         "rawType": "object",
         "type": "unknown"
        },
        {
         "name": "home_location_state",
         "rawType": "object",
         "type": "string"
        },
        {
         "name": "home_location_zip",
         "rawType": "object",
         "type": "string"
        },
        {
         "name": "household_income_label",
         "rawType": "object",
         "type": "string"
        },
        {
         "name": "inbound_or_outbound_label",
         "rawType": "object",
         "type": "string"
        },
        {
         "name": "initial_etc_check",
         "rawType": "bool",
         "type": "boolean"
        },
        {
         "name": "is_direct_flight",
         "rawType": "object",
         "type": "unknown"
        },
        {
         "name": "is_final_destination",
         "rawType": "object",
         "type": "unknown"
        },
        {
         "name": "is_income_below_poverty_label",
         "rawType": "object",
         "type": "unknown"
        },
        {
         "name": "is_original_origin",
         "rawType": "object",
         "type": "unknown"
        },
        {
         "name": "is_sdia_home_airport",
         "rawType": "object",
         "type": "unknown"
        },
        {
         "name": "main_mode",
         "rawType": "float64",
         "type": "float"
        },
        {
         "name": "main_mode_grouped_label",
         "rawType": "object",
         "type": "string"
        },
        {
         "name": "main_mode_label",
         "rawType": "object",
         "type": "string"
        },
        {
         "name": "main_mode_other",
         "rawType": "object",
         "type": "unknown"
        },
        {
         "name": "main_transit_mode_label",
         "rawType": "object",
         "type": "string"
        },
        {
         "name": "marketsegment_label",
         "rawType": "object",
         "type": "string"
        },
        {
         "name": "next_flight_destination",
         "rawType": "object",
         "type": "unknown"
        },
        {
         "name": "nights_away_label",
         "rawType": "object",
         "type": "string"
        },
        {
         "name": "nights_visited_label",
         "rawType": "object",
         "type": "unknown"
        },
        {
         "name": "non_airport_activity_type",
         "rawType": "float64",
         "type": "float"
        },
        {
         "name": "non_sdia_flight_frequency_label",
         "rawType": "object",
         "type": "string"
        },
        {
         "name": "num_transit_transfers",
         "rawType": "int64",
         "type": "integer"
        },
        {
         "name": "number_commute_days_label",
         "rawType": "object",
         "type": "unknown"
        },
        {
         "name": "number_hours_worked_label",
         "rawType": "object",
         "type": "unknown"
        },
        {
         "name": "number_of_nights_label",
         "rawType": "object",
         "type": "string"
        },
        {
         "name": "number_persons_in_household_label",
         "rawType": "object",
         "type": "string"
        },
        {
         "name": "number_transit_vehicles_from_airport_label",
         "rawType": "object",
         "type": "unknown"
        },
        {
         "name": "number_transit_vehicles_to_airport_label",
         "rawType": "object",
         "type": "unknown"
        },
        {
         "name": "number_vehicles_label",
         "rawType": "object",
         "type": "string"
        },
        {
         "name": "number_workers_label",
         "rawType": "object",
         "type": "string"
        },
        {
         "name": "occupation",
         "rawType": "float64",
         "type": "float"
        },
        {
         "name": "occupation_detail_label",
         "rawType": "object",
         "type": "unknown"
        },
        {
         "name": "occupation_label",
         "rawType": "object",
         "type": "unknown"
        },
        {
         "name": "occupation_other",
         "rawType": "object",
         "type": "unknown"
        },
        {
         "name": "origin_activity_type_label",
         "rawType": "object",
         "type": "string"
        },
        {
         "name": "origin_activity_type_other",
         "rawType": "object",
         "type": "unknown"
        },
        {
         "name": "origin_city",
         "rawType": "object",
         "type": "string"
        },
        {
         "name": "origin_municipal_zone",
         "rawType": "object",
         "type": "string"
        },
        {
         "name": "origin_name",
         "rawType": "object",
         "type": "unknown"
        },
        {
         "name": "origin_pmsa_label",
         "rawType": "object",
         "type": "string"
        },
        {
         "name": "origin_state",
         "rawType": "object",
         "type": "string"
        },
        {
         "name": "origin_zip",
         "rawType": "float64",
         "type": "float"
        },
        {
         "name": "original_flight_origin",
         "rawType": "object",
         "type": "unknown"
        },
        {
         "name": "other_airport_accessmode",
         "rawType": "float64",
         "type": "float"
        },
        {
         "name": "other_airport_accessmode_grouped_label",
         "rawType": "object",
         "type": "unknown"
        },
        {
         "name": "other_airport_accessmode_label",
         "rawType": "object",
         "type": "unknown"
        },
        {
         "name": "parking_cost",
         "rawType": "object",
         "type": "unknown"
        },
        {
         "name": "parking_cost_frequency_label",
         "rawType": "object",
         "type": "unknown"
        },
        {
         "name": "parking_cost_frequency_other",
         "rawType": "object",
         "type": "unknown"
        },
        {
         "name": "parking_cost_numeric",
         "rawType": "float64",
         "type": "float"
        },
        {
         "name": "parking_location_label",
         "rawType": "object",
         "type": "unknown"
        },
        {
         "name": "parking_location_other",
         "rawType": "object",
         "type": "unknown"
        },
        {
         "name": "party_composition_list",
         "rawType": "object",
         "type": "unknown"
        },
        {
         "name": "party_includes_child_aged00to05",
         "rawType": "object",
         "type": "unknown"
        },
        {
         "name": "party_includes_child_aged06to17",
         "rawType": "object",
         "type": "unknown"
        },
        {
         "name": "party_includes_coworker",
         "rawType": "object",
         "type": "unknown"
        },
        {
         "name": "party_includes_friend_relative",
         "rawType": "object",
         "type": "unknown"
        },
        {
         "name": "party_includes_mobility_impaired",
         "rawType": "object",
         "type": "unknown"
        },
        {
         "name": "party_size_flight_label",
         "rawType": "object",
         "type": "string"
        },
        {
         "name": "party_size_ground_access_label",
         "rawType": "object",
         "type": "unknown"
        },
        {
         "name": "party_size_ground_access_same",
         "rawType": "object",
         "type": "unknown"
        },
        {
         "name": "passenger_segment_label",
         "rawType": "object",
         "type": "string"
        },
        {
         "name": "passenger_type_label",
         "rawType": "object",
         "type": "string"
        },
        {
         "name": "previous_flight_origin",
         "rawType": "object",
         "type": "string"
        },
        {
         "name": "previous_or_next_airport",
         "rawType": "object",
         "type": "string"
        },
        {
         "name": "qualified_visitor",
         "rawType": "object",
         "type": "unknown"
        },
        {
         "name": "race_aian",
         "rawType": "bool",
         "type": "boolean"
        },
        {
         "name": "race_asian",
         "rawType": "bool",
         "type": "boolean"
        },
        {
         "name": "race_black",
         "rawType": "bool",
         "type": "boolean"
        },
        {
         "name": "race_hispanic",
         "rawType": "bool",
         "type": "boolean"
        },
        {
         "name": "race_hp",
         "rawType": "bool",
         "type": "boolean"
        },
        {
         "name": "race_list",
         "rawType": "object",
         "type": "string"
        },
        {
         "name": "race_middle_eastern",
         "rawType": "bool",
         "type": "boolean"
        },
        {
         "name": "race_other",
         "rawType": "object",
         "type": "unknown"
        },
        {
         "name": "race_unknown",
         "rawType": "bool",
         "type": "boolean"
        },
        {
         "name": "race_white",
         "rawType": "bool",
         "type": "boolean"
        },
        {
         "name": "reasons_no_transit_dislike_crowded_trains_buses",
         "rawType": "object",
         "type": "unknown"
        },
        {
         "name": "reasons_no_transit_dislike_public_transport",
         "rawType": "object",
         "type": "unknown"
        },
        {
         "name": "reasons_no_transit_dislike_public_transport_with_luggage",
         "rawType": "object",
         "type": "unknown"
        },
        {
         "name": "reasons_no_transit_does_not_run_when_needed",
         "rawType": "object",
         "type": "unknown"
        },
        {
         "name": "reasons_no_transit_dont_know_how",
         "rawType": "object",
         "type": "unknown"
        },
        {
         "name": "reasons_no_transit_list",
         "rawType": "object",
         "type": "unknown"
        },
        {
         "name": "reasons_no_transit_no_good_options",
         "rawType": "object",
         "type": "unknown"
        },
        {
         "name": "reasons_no_transit_not_convenient",
         "rawType": "object",
         "type": "unknown"
        },
        {
         "name": "reasons_no_transit_not_economical",
         "rawType": "object",
         "type": "unknown"
        },
        {
         "name": "reasons_no_transit_not_flexible",
         "rawType": "object",
         "type": "unknown"
        },
        {
         "name": "reasons_no_transit_not_reliable",
         "rawType": "object",
         "type": "unknown"
        },
        {
         "name": "reasons_no_transit_not_safe",
         "rawType": "object",
         "type": "unknown"
        },
        {
         "name": "reasons_no_transit_other",
         "rawType": "object",
         "type": "unknown"
        },
        {
         "name": "reasons_no_transit_prefer_other_mode",
         "rawType": "object",
         "type": "unknown"
        },
        {
         "name": "reasons_no_transit_ride_too_long",
         "rawType": "object",
         "type": "unknown"
        },
        {
         "name": "reasons_no_transit_stop_too_far",
         "rawType": "object",
         "type": "unknown"
        },
        {
         "name": "reasons_no_transit_too_complicated",
         "rawType": "object",
         "type": "unknown"
        },
        {
         "name": "reasons_no_transit_too_many_transfers",
         "rawType": "object",
         "type": "unknown"
        },
        {
         "name": "reasons_no_transit_too_much_walking_stairs",
         "rawType": "object",
         "type": "unknown"
        },
        {
         "name": "reasons_no_transit_wait_too_long",
         "rawType": "object",
         "type": "unknown"
        },
        {
         "name": "reimbursement_label",
         "rawType": "object",
         "type": "unknown"
        },
        {
         "name": "resident_visitor",
         "rawType": "float64",
         "type": "float"
        },
        {
         "name": "resident_visitor_arriving",
         "rawType": "object",
         "type": "unknown"
        },
        {
         "name": "resident_visitor_followup_label",
         "rawType": "object",
         "type": "unknown"
        },
        {
         "name": "resident_visitor_general_label",
         "rawType": "object",
         "type": "string"
        },
        {
         "name": "resident_visitor_label",
         "rawType": "object",
         "type": "string"
        },
        {
         "name": "resident_visitor_purpose_label",
         "rawType": "object",
         "type": "string"
        },
        {
         "name": "reverse_commute_mode",
         "rawType": "float64",
         "type": "float"
        },
        {
         "name": "reverse_commute_mode_grouped_label",
         "rawType": "object",
         "type": "unknown"
        },
        {
         "name": "reverse_commute_mode_label",
         "rawType": "object",
         "type": "unknown"
        },
        {
         "name": "reverse_commute_mode_other",
         "rawType": "object",
         "type": "unknown"
        },
        {
         "name": "reverse_mode",
         "rawType": "float64",
         "type": "float"
        },
        {
         "name": "reverse_mode_combined_label",
         "rawType": "object",
         "type": "unknown"
        },
        {
         "name": "reverse_mode_combined_other",
         "rawType": "float64",
         "type": "float"
        },
        {
         "name": "reverse_mode_grouped_label",
         "rawType": "object",
         "type": "unknown"
        },
        {
         "name": "reverse_mode_label",
         "rawType": "object",
         "type": "unknown"
        },
        {
         "name": "reverse_mode_predicted",
         "rawType": "float64",
         "type": "float"
        },
        {
         "name": "reverse_mode_predicted_grouped_label",
         "rawType": "object",
         "type": "unknown"
        },
        {
         "name": "reverse_mode_predicted_label",
         "rawType": "object",
         "type": "unknown"
        },
        {
         "name": "reverse_mode_predicted_other",
         "rawType": "object",
         "type": "unknown"
        },
        {
         "name": "same_commute_mode_label",
         "rawType": "object",
         "type": "unknown"
        },
        {
         "name": "same_commute_mode_other",
         "rawType": "object",
         "type": "unknown"
        },
        {
         "name": "sdia_accessmode_decision_label",
         "rawType": "object",
         "type": "unknown"
        },
        {
         "name": "sdia_accessmode_split_bicycle_electric_bikeshare",
         "rawType": "object",
         "type": "unknown"
        },
        {
         "name": "sdia_accessmode_split_bicycle_non_electric_bikeshare",
         "rawType": "object",
         "type": "unknown"
        },
        {
         "name": "sdia_accessmode_split_bicycle_personal_electric_bicycle",
         "rawType": "object",
         "type": "unknown"
        },
        {
         "name": "sdia_accessmode_split_bicycle_personal_non_electric_bicycle",
         "rawType": "object",
         "type": "unknown"
        },
        {
         "name": "sdia_accessmode_split_car_black",
         "rawType": "object",
         "type": "unknown"
        },
        {
         "name": "sdia_accessmode_split_chartered_tour_bus",
         "rawType": "object",
         "type": "unknown"
        },
        {
         "name": "sdia_accessmode_split_dropped_off_by_family_friend",
         "rawType": "object",
         "type": "unknown"
        },
        {
         "name": "sdia_accessmode_split_drove_alone_and_parked",
         "rawType": "object",
         "type": "unknown"
        },
        {
         "name": "sdia_accessmode_split_drove_with_others_and_parked",
         "rawType": "object",
         "type": "unknown"
        },
        {
         "name": "sdia_accessmode_split_e_scooter_personal",
         "rawType": "object",
         "type": "unknown"
        },
        {
         "name": "sdia_accessmode_split_e_scooter_shared",
         "rawType": "object",
         "type": "unknown"
        },
        {
         "name": "sdia_accessmode_split_employee_shuttle",
         "rawType": "object",
         "type": "unknown"
        },
        {
         "name": "sdia_accessmode_split_flyer_shuttle",
         "rawType": "object",
         "type": "unknown"
        },
        {
         "name": "sdia_accessmode_split_hotel_shuttle_van",
         "rawType": "object",
         "type": "unknown"
        },
        {
         "name": "sdia_accessmode_split_list",
         "rawType": "object",
         "type": "unknown"
        },
        {
         "name": "sdia_accessmode_split_mts992",
         "rawType": "object",
         "type": "unknown"
        },
        {
         "name": "sdia_accessmode_split_other",
         "rawType": "object",
         "type": "unknown"
        },
        {
         "name": "sdia_accessmode_split_other_public_transit",
         "rawType": "object",
         "type": "unknown"
        },
        {
         "name": "sdia_accessmode_split_other_shared_van",
         "rawType": "object",
         "type": "unknown"
        },
        {
         "name": "sdia_accessmode_split_rental_car_dropped_off",
         "rawType": "object",
         "type": "unknown"
        },
        {
         "name": "sdia_accessmode_split_rental_car_parked",
         "rawType": "object",
         "type": "unknown"
        },
        {
         "name": "sdia_accessmode_split_rode_with_other_travelers_and_parked",
         "rawType": "object",
         "type": "unknown"
        },
        {
         "name": "sdia_accessmode_split_taxi",
         "rawType": "object",
         "type": "unknown"
        },
        {
         "name": "sdia_accessmode_split_uber_lyft",
         "rawType": "object",
         "type": "unknown"
        },
        {
         "name": "sdia_accessmode_split_walk",
         "rawType": "object",
         "type": "unknown"
        },
        {
         "name": "sdia_accessmode_split_wheelchair",
         "rawType": "object",
         "type": "unknown"
        },
        {
         "name": "sdia_flight_frequency_label",
         "rawType": "object",
         "type": "string"
        },
        {
         "name": "sdia_transit_awareness_label",
         "rawType": "object",
         "type": "unknown"
        },
        {
         "name": "shared_van_other",
         "rawType": "object",
         "type": "unknown"
        },
        {
         "name": "shift_end_time_label",
         "rawType": "object",
         "type": "unknown"
        },
        {
         "name": "shift_start_airport_building_label",
         "rawType": "object",
         "type": "unknown"
        },
        {
         "name": "shift_start_airport_building_other",
         "rawType": "object",
         "type": "unknown"
        },
        {
         "name": "shift_start_time_label",
         "rawType": "object",
         "type": "unknown"
        },
        {
         "name": "sp_access_walk_time_label",
         "rawType": "object",
         "type": "unknown"
        },
        {
         "name": "sp_connection_to_convention_center_label",
         "rawType": "object",
         "type": "unknown"
        },
        {
         "name": "sp_connection_to_old_town_center_label",
         "rawType": "object",
         "type": "unknown"
        },
        {
         "name": "sp_connection_to_santafe_depot_label",
         "rawType": "object",
         "type": "unknown"
        },
        {
         "name": "sp_dropoff_choice_no_transit_access_label",
         "rawType": "object",
         "type": "unknown"
        },
        {
         "name": "sp_dropoff_choice_transit_access_label",
         "rawType": "object",
         "type": "unknown"
        },
        {
         "name": "sp_dropoff_escort_label",
         "rawType": "object",
         "type": "unknown"
        },
        {
         "name": "sp_feature_early_morning_label",
         "rawType": "object",
         "type": "unknown"
        },
        {
         "name": "sp_feature_late_night_label",
         "rawType": "object",
         "type": "unknown"
        },
        {
         "name": "sp_feature_luggage_rack_label",
         "rawType": "object",
         "type": "unknown"
        },
        {
         "name": "sp_feature_no_delay_label",
         "rawType": "object",
         "type": "unknown"
        },
        {
         "name": "sp_feature_seats_transit_label",
         "rawType": "object",
         "type": "unknown"
        },
        {
         "name": "sp_feature_seats_transit_stop_label",
         "rawType": "object",
         "type": "unknown"
        },
        {
         "name": "sp_feature_short_wait_label",
         "rawType": "object",
         "type": "unknown"
        },
        {
         "name": "sp_feature_weekend_frequency_label",
         "rawType": "object",
         "type": "unknown"
        },
        {
         "name": "sp_invitation_label",
         "rawType": "object",
         "type": "string"
        },
        {
         "name": "sp_number_of_transfers_label",
         "rawType": "object",
         "type": "unknown"
        },
        {
         "name": "sp_other_airport_comfort",
         "rawType": "object",
         "type": "unknown"
        },
        {
         "name": "sp_other_airport_cost",
         "rawType": "object",
         "type": "unknown"
        },
        {
         "name": "sp_other_airport_did_not_like",
         "rawType": "object",
         "type": "unknown"
        },
        {
         "name": "sp_other_airport_ease_of_boarding",
         "rawType": "object",
         "type": "unknown"
        },
        {
         "name": "sp_other_airport_ease_of_planning",
         "rawType": "object",
         "type": "unknown"
        },
        {
         "name": "sp_other_airport_enough_capacity",
         "rawType": "object",
         "type": "unknown"
        },
        {
         "name": "sp_other_airport_enough_room_to_stand",
         "rawType": "object",
         "type": "unknown"
        },
        {
         "name": "sp_other_airport_enough_seats",
         "rawType": "object",
         "type": "unknown"
        },
        {
         "name": "sp_other_airport_frequency_of_service",
         "rawType": "object",
         "type": "unknown"
        },
        {
         "name": "sp_other_airport_list",
         "rawType": "object",
         "type": "unknown"
        },
        {
         "name": "sp_other_airport_longer_operating_hours",
         "rawType": "object",
         "type": "unknown"
        },
        {
         "name": "sp_other_airport_luggage_rack",
         "rawType": "object",
         "type": "unknown"
        },
        {
         "name": "sp_other_airport_no_delays",
         "rawType": "object",
         "type": "unknown"
        },
        {
         "name": "sp_other_airport_no_transfers",
         "rawType": "object",
         "type": "unknown"
        },
        {
         "name": "sp_other_airport_other",
         "rawType": "object",
         "type": "unknown"
        },
        {
         "name": "sp_other_airport_other_specify",
         "rawType": "object",
         "type": "unknown"
        },
        {
         "name": "sp_other_airport_safety",
         "rawType": "object",
         "type": "unknown"
        },
        {
         "name": "sp_other_airport_short_travel_time",
         "rawType": "object",
         "type": "unknown"
        },
        {
         "name": "sp_other_airport_walking_distance",
         "rawType": "object",
         "type": "unknown"
        },
        {
         "name": "sp_rental_choice_no_transit_label",
         "rawType": "object",
         "type": "unknown"
        },
        {
         "name": "sp_taxi_choice_dropoff_station_label",
         "rawType": "object",
         "type": "unknown"
        },
        {
         "name": "state_of_residence_label",
         "rawType": "object",
         "type": "unknown"
        },
        {
         "name": "stay_informed_label",
         "rawType": "object",
         "type": "string"
        },
        {
         "name": "survey_language_label",
         "rawType": "float64",
         "type": "float"
        },
        {
         "name": "survey_language_other",
         "rawType": "float64",
         "type": "float"
        },
        {
         "name": "taxi_fhv_fare",
         "rawType": "object",
         "type": "unknown"
        },
        {
         "name": "taxi_fhv_fare_numeric",
         "rawType": "float64",
         "type": "float"
        },
        {
         "name": "taxi_fhv_wait",
         "rawType": "object",
         "type": "unknown"
        },
        {
         "name": "taxi_fhv_wait_numeric",
         "rawType": "float64",
         "type": "float"
        },
        {
         "name": "to_airport_transit_route_1",
         "rawType": "object",
         "type": "unknown"
        },
        {
         "name": "to_airport_transit_route_1_other",
         "rawType": "object",
         "type": "unknown"
        },
        {
         "name": "to_airport_transit_route_2",
         "rawType": "object",
         "type": "unknown"
        },
        {
         "name": "to_airport_transit_route_2_other",
         "rawType": "float64",
         "type": "float"
        },
        {
         "name": "to_airport_transit_route_3",
         "rawType": "float64",
         "type": "float"
        },
        {
         "name": "to_airport_transit_route_3_other",
         "rawType": "float64",
         "type": "float"
        },
        {
         "name": "to_airport_transit_route_4",
         "rawType": "float64",
         "type": "float"
        },
        {
         "name": "to_airport_transit_route_4_other",
         "rawType": "float64",
         "type": "float"
        },
        {
         "name": "transit_alighting_stop_name",
         "rawType": "object",
         "type": "unknown"
        },
        {
         "name": "transit_boarding_stop_name",
         "rawType": "object",
         "type": "unknown"
        },
        {
         "name": "transit_routes_list",
         "rawType": "object",
         "type": "unknown"
        },
        {
         "name": "trip_arrival_time",
         "rawType": "float64",
         "type": "float"
        },
        {
         "name": "trip_arrival_time_label",
         "rawType": "object",
         "type": "unknown"
        },
        {
         "name": "trip_start_time_label",
         "rawType": "object",
         "type": "unknown"
        },
        {
         "name": "validation_error_person",
         "rawType": "object",
         "type": "string"
        },
        {
         "name": "validation_error_trip",
         "rawType": "object",
         "type": "string"
        },
        {
         "name": "validation_num_errors_person",
         "rawType": "int64",
         "type": "integer"
        },
        {
         "name": "validation_num_errors_trip",
         "rawType": "int64",
         "type": "integer"
        },
        {
         "name": "validation_severity_person",
         "rawType": "object",
         "type": "string"
        },
        {
         "name": "validation_severity_trip",
         "rawType": "float64",
         "type": "float"
        },
        {
         "name": "origin_taz",
         "rawType": "int64",
         "type": "integer"
        },
        {
         "name": "destination_taz",
         "rawType": "int64",
         "type": "integer"
        },
        {
         "name": "home_location_taz",
         "rawType": "float64",
         "type": "float"
        },
        {
         "name": "transit_boarding_taz",
         "rawType": "float64",
         "type": "float"
        },
        {
         "name": "transit_alighting_taz",
         "rawType": "float64",
         "type": "float"
        },
        {
         "name": "auto_dist",
         "rawType": "float64",
         "type": "float"
        },
        {
         "name": "auto_time",
         "rawType": "float64",
         "type": "float"
        },
        {
         "name": "auto_tollcost",
         "rawType": "float64",
         "type": "float"
        },
        {
         "name": "pnrin_loc_time",
         "rawType": "float64",
         "type": "float"
        },
        {
         "name": "pnrin_loc_fare",
         "rawType": "float64",
         "type": "float"
        },
        {
         "name": "pnrin_mix_time",
         "rawType": "float64",
         "type": "float"
        },
        {
         "name": "pnrin_mix_fare",
         "rawType": "float64",
         "type": "float"
        },
        {
         "name": "pnrin_prm_time",
         "rawType": "float64",
         "type": "float"
        },
        {
         "name": "pnrin_prm_fare",
         "rawType": "float64",
         "type": "float"
        },
        {
         "name": "walk_loc_time",
         "rawType": "float64",
         "type": "float"
        },
        {
         "name": "walk_loc_fare",
         "rawType": "float64",
         "type": "float"
        },
        {
         "name": "walk_mix_time",
         "rawType": "float64",
         "type": "float"
        },
        {
         "name": "walk_mix_fare",
         "rawType": "float64",
         "type": "float"
        },
        {
         "name": "walk_prm_time",
         "rawType": "float64",
         "type": "float"
        },
        {
         "name": "walk_prm_fare",
         "rawType": "float64",
         "type": "float"
        },
        {
         "name": "party_size_label_transformed",
         "rawType": "object",
         "type": "string"
        },
        {
         "name": "purpose_segment",
         "rawType": "object",
         "type": "string"
        },
        {
         "name": "taxi_fare_model",
         "rawType": "float64",
         "type": "float"
        },
        {
         "name": "tnc_fare_model",
         "rawType": "float64",
         "type": "float"
        },
        {
         "name": "taxi_mean_wait_model",
         "rawType": "float64",
         "type": "float"
        },
        {
         "name": "tnc_mean_wait_model",
         "rawType": "float64",
         "type": "float"
        },
        {
         "name": "source",
         "rawType": "object",
         "type": "string"
        },
        {
         "name": "weight",
         "rawType": "float64",
         "type": "float"
        }
       ],
       "conversionMethod": "pd.DataFrame",
       "ref": "c884c8bd-35c9-488c-8aac-2e058529c5a4",
       "rows": [
        [
         "0",
         "756",
         "757",
         "True",
         "13:52:37",
         "0",
         null,
         "ALWAYS",
         null,
         null,
         null,
         "AGE_35_39",
         "DELTA_AIRLINES",
         null,
         null,
         "1.0",
         null,
         null,
         null,
         null,
         null,
         null,
         null,
         null,
         null,
         null,
         null,
         null,
         null,
         null,
         null,
         null,
         null,
         null,
         null,
         null,
         null,
         null,
         null,
         null,
         "ONE",
         "ONE",
         null,
         null,
         null,
         null,
         null,
         null,
         null,
         "HOME",
         null,
         "Oceanside",
         "S.D. COUNTY",
         null,
         "NORTH_COUNTY_WEST",
         "CA",
         "92054.0",
         null,
         null,
         null,
         null,
         null,
         null,
         null,
         null,
         "THIRTEEN_TO_THIRTEEN_THIRTY",
         null,
         "Hy6879",
         "BUSINESS_WORK",
         null,
         null,
         null,
         null,
         null,
         null,
         null,
         null,
         null,
         "MALE",
         null,
         null,
         null,
         null,
         null,
         null,
         null,
         null,
         null,
         null,
         null,
         null,
         null,
         null,
         null,
         null,
         null,
         null,
         null,
         null,
         null,
         null,
         null,
         null,
         null,
         null,
         null,
         "FOUR_DAYS",
         null,
         "Oceanside",
         null,
         null,
         "CA",
         "92054",
         "PREFER_NOT_TO_SAY",
         "OUTBOUND_FROM_AIRPORT",
         "True",
         "False",
         null,
         "NO",
         "False",
         "True",
         "10.0",
         "RIDEHAIL_TAXI",
         "UBER_LYFT",
         null,
         "OTHER",
         "PASSENGER",
         null,
         "TWO",
         null,
         "2.0",
         "NONE",
         "0",
         null,
         null,
         "TWO",
         "ONE",
         null,
         null,
         "FIVE",
         "ONE",
         null,
         null,
         null,
         null,
         "SAN_DIEGO_AIRPORT",
         null,
         "San Diego",
         "SAN DIEGO",
         null,
         "CENTRAL",
         "CA",
         "92101.0",
         null,
         null,
         null,
         null,
         null,
         null,
         null,
         null,
         null,
         null,
         "friend relative",
         "False",
         "False",
         "False",
         "True",
         "False",
         "ONE",
         "ONE",
         "True",
         "RESIDENT_ARRIVING",
         "ARRIVING",
         "New york",
         "New york",
         "False",
         "False",
         "False",
         "False",
         "False",
         "False",
         "white",
         "False",
         null,
         "False",
         "True",
         "False",
         "False",
         "False",
         null,
         "False",
         "not convenient",
         "False",
         "True",
         "False",
         "False",
         "False",
         "False",
         null,
         null,
         null,
         null,
         null,
         null,
         "False",
         "False",
         null,
         "1.0",
         null,
         null,
         "COMING_HOME",
         "SAN_DIEGO_REGION",
         "RESIDENT_BUSINESS",
         null,
         null,
         null,
         null,
         null,
         null,
         null,
         null,
         null,
         null,
         null,
         null,
         null,
         null,
         null,
         null,
         null,
         null,
         null,
         null,
         null,
         null,
         null,
         null,
         null,
         null,
         null,
         null,
         null,
         null,
         null,
         null,
         null,
         null,
         null,
         null,
         null,
         null,
         null,
         null,
         null,
         null,
         "ONCE_OR_TWICE_PER_YEAR",
         "NO",
         null,
         null,
         null,
         null,
         null,
         null,
         null,
         null,
         null,
         null,
         null,
         null,
         null,
         null,
         null,
         null,
         null,
         null,
         null,
         null,
         "NO",
         null,
         null,
         null,
         null,
         null,
         null,
         null,
         null,
         null,
         null,
         null,
         null,
         null,
         null,
         null,
         null,
         null,
         null,
         null,
         null,
         null,
         null,
         null,
         "NO",
         null,
         null,
         null,
         null,
         null,
         null,
         null,
         null,
         null,
         null,
         null,
         null,
         null,
         null,
         null,
         null,
         null,
         null,
         null,
         null,
         "['reverse_mode: Non-Critical']",
         "[]",
         "1",
         "0",
         "Non-Critical",
         null,
         "1457",
         "42",
         "42.0",
         null,
         null,
         "47.57266998291016",
         "72.89006805419922",
         "0.0",
         "242.63757359981537",
         "2.5",
         "130.29409873485565",
         "5.142730236053467",
         "133.74057853221893",
         "7.25",
         null,
         "7.5",
         null,
         "0.0",
         null,
         "7.5",
         "ONE",
         "RESIDENT_BUSINESS",
         "159.98981094360352",
         "48.97976318359376",
         "9.5",
         "6.3",
         "weight_departing_and_arriving",
         "3.577735300020542"
        ],
        [
         "1",
         "757",
         "758",
         "True",
         "15:26:59",
         "0",
         null,
         "ALWAYS",
         null,
         null,
         null,
         "AGE_30_34",
         "AMERICAN_AIRLINES",
         null,
         "TWO_TIMES",
         "2.0",
         "San Francisco",
         null,
         null,
         null,
         null,
         null,
         null,
         null,
         null,
         null,
         null,
         null,
         null,
         null,
         null,
         null,
         null,
         null,
         null,
         null,
         null,
         null,
         null,
         null,
         "ONE",
         "ONE",
         null,
         null,
         null,
         null,
         null,
         null,
         null,
         "HOME",
         null,
         "Chula Vista",
         "CHULA VISTA",
         null,
         "SOUTH_SUBURBAN",
         "CA",
         "91910.0",
         "1.0",
         "WALK",
         "WALK",
         null,
         null,
         null,
         null,
         null,
         "FOURTEEN_THIRTY_TO_FIFTEEN",
         null,
         null,
         "LEISURE_FAMILY",
         null,
         "MTS_1_Blue",
         null,
         "MTS_1_709",
         null,
         null,
         null,
         null,
         null,
         "MALE",
         null,
         null,
         null,
         null,
         null,
         null,
         null,
         null,
         null,
         null,
         null,
         null,
         null,
         null,
         null,
         null,
         null,
         null,
         null,
         null,
         null,
         null,
         null,
         null,
         null,
         null,
         null,
         "TWO_DAYS",
         null,
         "Chula Vista",
         null,
         null,
         "CA",
         "91910",
         "BETWEEN_100K_150K",
         "OUTBOUND_FROM_AIRPORT",
         "True",
         "False",
         null,
         null,
         "False",
         "True",
         "15.0",
         "BUS_992",
         "MTS_ROUTE_992",
         null,
         "MTS_ROUTE_992",
         "PASSENGER",
         null,
         "FIVE",
         null,
         "2.0",
         "FOUR_TIMES",
         "1",
         null,
         null,
         "FIVE",
         "FIVE",
         "TWO",
         null,
         "TWO",
         "THREE",
         null,
         null,
         null,
         null,
         "SAN_DIEGO_AIRPORT",
         null,
         "San Diego",
         "SAN DIEGO",
         null,
         "CENTRAL",
         "CA",
         "92140.0",
         null,
         null,
         null,
         null,
         null,
         null,
         null,
         null,
         null,
         null,
         null,
         null,
         null,
         null,
         null,
         null,
         "NONE",
         null,
         null,
         "RESIDENT_ARRIVING",
         "ARRIVING",
         "San Francisco",
         "San Francisco",
         "False",
         "False",
         "True",
         "False",
         "False",
         "False",
         "asian",
         "False",
         null,
         "False",
         "False",
         null,
         null,
         null,
         null,
         null,
         null,
         null,
         null,
         null,
         null,
         null,
         null,
         null,
         null,
         null,
         null,
         null,
         null,
         null,
         null,
         null,
         "1.0",
         null,
         null,
         "COMING_HOME",
         "SAN_DIEGO_REGION",
         "RESIDENT_NON_BUSINESS",
         null,
         null,
         null,
         null,
         null,
         null,
         null,
         null,
         null,
         null,
         null,
         null,
         null,
         null,
         null,
         null,
         null,
         null,
         null,
         null,
         null,
         null,
         null,
         null,
         null,
         null,
         null,
         null,
         null,
         null,
         null,
         null,
         null,
         null,
         null,
         null,
         null,
         null,
         null,
         null,
         null,
         null,
         "THREE_TO_FIVE_PER_YEAR",
         null,
         null,
         null,
         null,
         null,
         null,
         null,
         null,
         null,
         null,
         null,
         null,
         null,
         null,
         null,
         null,
         null,
         null,
         null,
         null,
         null,
         "NO",
         null,
         null,
         null,
         null,
         null,
         null,
         null,
         null,
         null,
         null,
         null,
         null,
         null,
         null,
         null,
         null,
         null,
         null,
         null,
         null,
         null,
         null,
         null,
         "NO",
         null,
         null,
         null,
         null,
         null,
         null,
         null,
         null,
         null,
         null,
         null,
         null,
         null,
         null,
         "MTS_1_992_01_10454",
         "MTS_1_992_01_60499",
         "MTS_1_Blue, MTS_1_709",
         null,
         null,
         null,
         "['reverse_mode: Non-Critical']",
         "[]",
         "1",
         "0",
         "Non-Critical",
         null,
         "1457",
         "3591",
         "3591.0",
         "1457.0",
         "3546.0",
         "14.114084243774414",
         "23.704811096191406",
         "0.0",
         "95.0874127149582",
         "2.5",
         "58.37428557872772",
         "2.5",
         "74.43426311016083",
         "0.5",
         "102.4180873632431",
         "2.5",
         "77.966095328331",
         "2.5",
         null,
         "7.5",
         "NONE",
         "RESIDENT_NON_BUSINESS",
         "49.576478004455566",
         "16.85952087402344",
         "9.5",
         "6.3",
         "weight_departing_and_arriving",
         "1.7464072429000372"
        ],
        [
         "2",
         "758",
         "759",
         "True",
         "17:07:15",
         "0",
         null,
         "ALWAYS",
         null,
         null,
         null,
         "AGE_20_24",
         "ALASKA_AIRLINES",
         null,
         "NEVER",
         "2.0",
         null,
         null,
         null,
         null,
         null,
         null,
         null,
         null,
         null,
         null,
         null,
         null,
         null,
         null,
         null,
         null,
         null,
         null,
         null,
         null,
         null,
         null,
         null,
         null,
         "ONE",
         "ONE",
         null,
         null,
         null,
         null,
         null,
         null,
         null,
         "HOME",
         null,
         "San Diego",
         "SAN DIEGO",
         null,
         "CENTRAL",
         "CA",
         "92114.0",
         "1.0",
         "WALK",
         "WALK",
         null,
         null,
         null,
         null,
         null,
         "SIXTEEN_THIRTY_TO_SEVENTEEN",
         null,
         null,
         "BUSINESS_WORK",
         null,
         "MTS_1_12",
         null,
         null,
         null,
         null,
         null,
         null,
         null,
         "FEMALE",
         null,
         null,
         null,
         null,
         null,
         null,
         null,
         null,
         null,
         null,
         null,
         null,
         null,
         null,
         null,
         null,
         null,
         null,
         null,
         null,
         null,
         null,
         null,
         null,
         null,
         null,
         null,
         "ONE_DAY",
         null,
         "San Diego",
         null,
         null,
         "CA",
         "92114",
         "BETWEEN_60K_75K",
         "OUTBOUND_FROM_AIRPORT",
         "True",
         "False",
         null,
         null,
         "False",
         "True",
         "15.0",
         "BUS_992",
         "MTS_ROUTE_992",
         null,
         "MTS_ROUTE_992",
         "PASSENGER",
         null,
         "THREE",
         null,
         "2.0",
         "TWO_TIMES",
         "0",
         null,
         null,
         "THREE",
         "THREE",
         "ONE",
         null,
         "ONE",
         "THREE",
         null,
         null,
         null,
         null,
         "SAN_DIEGO_AIRPORT",
         null,
         "San Diego",
         "SAN DIEGO",
         null,
         "CENTRAL",
         "CA",
         "92140.0",
         null,
         null,
         null,
         null,
         null,
         null,
         null,
         null,
         null,
         null,
         null,
         null,
         null,
         null,
         null,
         null,
         "NONE",
         null,
         null,
         "RESIDENT_ARRIVING",
         "ARRIVING",
         "Las vegas",
         "Las vegas",
         "False",
         "False",
         "True",
         "False",
         "False",
         "False",
         "asian",
         "False",
         null,
         "False",
         "False",
         null,
         null,
         null,
         null,
         null,
         null,
         null,
         null,
         null,
         null,
         null,
         null,
         null,
         null,
         null,
         null,
         null,
         null,
         null,
         null,
         null,
         "1.0",
         null,
         null,
         "COMING_HOME",
         "SAN_DIEGO_REGION",
         "RESIDENT_BUSINESS",
         null,
         null,
         null,
         null,
         null,
         null,
         null,
         null,
         null,
         null,
         null,
         null,
         null,
         null,
         null,
         null,
         null,
         null,
         null,
         null,
         null,
         null,
         null,
         null,
         null,
         null,
         null,
         null,
         null,
         null,
         null,
         null,
         null,
         null,
         null,
         null,
         null,
         null,
         null,
         null,
         null,
         null,
         "ONCE_OR_TWICE_PER_YEAR",
         null,
         null,
         null,
         null,
         null,
         null,
         null,
         null,
         null,
         null,
         null,
         null,
         null,
         null,
         null,
         null,
         null,
         null,
         null,
         null,
         null,
         "NO",
         null,
         null,
         null,
         null,
         null,
         null,
         null,
         null,
         null,
         null,
         null,
         null,
         null,
         null,
         null,
         null,
         null,
         null,
         null,
         null,
         null,
         null,
         null,
         "NO",
         null,
         null,
         null,
         null,
         null,
         null,
         null,
         null,
         null,
         null,
         null,
         null,
         null,
         null,
         "MTS_1_992_01_99342",
         "MTS_1_992_01_60499",
         "MTS_1_12",
         null,
         null,
         null,
         "['reverse_mode: Non-Critical']",
         "[]",
         "1",
         "0",
         "Non-Critical",
         null,
         "1457",
         "3168",
         "3168.0",
         "1457.0",
         "3034.0",
         "10.53435516357422",
         "21.662792205810547",
         "0.0",
         "58.89910042285919",
         "2.5",
         "56.23984467983246",
         "2.5",
         "73.64921510219574",
         "0.5",
         "71.18623530864716",
         "2.5",
         null,
         "0.0",
         "92.22794902324677",
         "0.5",
         "NONE",
         "RESIDENT_BUSINESS",
         "37.76337203979492",
         "13.42298095703125",
         "9.5",
         "6.3",
         "weight_departing_and_arriving",
         "1.7464072429000372"
        ],
        [
         "3",
         "759",
         "760",
         "True",
         "13:43:27",
         "0",
         null,
         "ALWAYS",
         null,
         null,
         null,
         "AGE_25_29",
         "ALASKA_AIRLINES",
         null,
         "NEVER",
         "2.0",
         null,
         null,
         null,
         null,
         null,
         null,
         null,
         null,
         null,
         null,
         null,
         null,
         null,
         null,
         null,
         null,
         null,
         null,
         null,
         null,
         null,
         null,
         null,
         null,
         "NONE",
         "NONE",
         null,
         null,
         null,
         null,
         null,
         null,
         null,
         "HOME",
         null,
         "San Diego",
         "SAN DIEGO",
         null,
         "CENTRAL",
         "CA",
         "92104.0",
         null,
         null,
         null,
         null,
         null,
         null,
         null,
         null,
         "THIRTEEN_TO_THIRTEEN_THIRTY",
         null,
         "Don't remember",
         "LEISURE_FAMILY",
         null,
         null,
         null,
         null,
         null,
         null,
         null,
         null,
         null,
         "PREFER_NOT_TO_SAY",
         null,
         null,
         null,
         null,
         null,
         null,
         null,
         null,
         null,
         null,
         null,
         null,
         null,
         null,
         null,
         null,
         null,
         null,
         null,
         null,
         null,
         null,
         null,
         null,
         null,
         null,
         null,
         "NONE",
         null,
         "San Diego",
         null,
         null,
         "CA",
         "92104",
         "PREFER_NOT_TO_SAY",
         "OUTBOUND_FROM_AIRPORT",
         "True",
         "False",
         null,
         "YES",
         "False",
         "True",
         "16.0",
         "AIRPORT_FLYER_SHUTTLE",
         "AIRPORT_FLYER_SHUTTLE",
         null,
         "AIRPORT_FLYER_SHUTTLE",
         "PASSENGER",
         null,
         "SEVEN",
         null,
         "2.0",
         "THREE_TIMES",
         "0",
         null,
         null,
         "SEVEN",
         "FIVE",
         "NONE",
         null,
         "FIVE",
         "FOUR",
         null,
         null,
         null,
         null,
         "SAN_DIEGO_AIRPORT",
         null,
         "San Diego",
         "SAN DIEGO",
         null,
         "CENTRAL",
         "CA",
         "92140.0",
         null,
         null,
         null,
         null,
         null,
         null,
         null,
         null,
         null,
         null,
         null,
         null,
         null,
         null,
         null,
         null,
         "NONE",
         null,
         null,
         "RESIDENT_ARRIVING",
         "ARRIVING",
         "Portland",
         "Portland",
         "False",
         "False",
         "False",
         "False",
         "False",
         "False",
         "unknown",
         "False",
         null,
         "True",
         "False",
         null,
         null,
         null,
         null,
         null,
         null,
         null,
         null,
         null,
         null,
         null,
         null,
         null,
         null,
         null,
         null,
         null,
         null,
         null,
         null,
         null,
         "1.0",
         null,
         null,
         "COMING_HOME",
         "SAN_DIEGO_REGION",
         "RESIDENT_NON_BUSINESS",
         null,
         null,
         null,
         null,
         null,
         null,
         null,
         null,
         null,
         null,
         null,
         null,
         null,
         null,
         null,
         null,
         null,
         null,
         null,
         null,
         null,
         null,
         null,
         null,
         null,
         null,
         null,
         null,
         null,
         null,
         null,
         null,
         null,
         null,
         null,
         null,
         null,
         null,
         null,
         null,
         null,
         null,
         "THREE_TO_FIVE_PER_YEAR",
         null,
         null,
         null,
         null,
         null,
         null,
         null,
         null,
         null,
         null,
         null,
         null,
         null,
         null,
         null,
         null,
         null,
         null,
         null,
         null,
         null,
         "NO",
         null,
         null,
         null,
         null,
         null,
         null,
         null,
         null,
         null,
         null,
         null,
         null,
         null,
         null,
         null,
         null,
         null,
         null,
         null,
         null,
         null,
         null,
         null,
         "NO",
         null,
         null,
         null,
         null,
         null,
         null,
         null,
         null,
         null,
         null,
         null,
         null,
         null,
         null,
         "SDA_1_FLYER_01",
         "SDA_1_FLYER_04",
         null,
         null,
         null,
         null,
         "['reverse_mode: Non-Critical']",
         "[]",
         "1",
         "0",
         "Non-Critical",
         null,
         "1457",
         "2312",
         "2312.0",
         "1457.0",
         "1376.0",
         "6.440240859985352",
         "16.540359497070312",
         "0.0",
         "62.0077828168869",
         "2.5",
         "47.59831392765045",
         "2.5",
         "65.02525198459625",
         "0.5",
         "52.412567496299744",
         "2.5",
         "51.24626910686493",
         "1.530007004737854",
         "58.82400786876679",
         "0.5",
         "NONE",
         "RESIDENT_NON_BUSINESS",
         "24.252794837951654",
         "9.492631225585937",
         "9.5",
         "6.3",
         "weight_departing_and_arriving",
         "1.090650084654834"
        ],
        [
         "4",
         "760",
         "761",
         "True",
         "14:20:18",
         "0",
         null,
         "ALWAYS",
         null,
         null,
         null,
         "AGE_25_29",
         "SPIRIT",
         null,
         "MORE_THAN_FIVE_TIMES",
         "1.0",
         "San Diego",
         null,
         null,
         null,
         null,
         null,
         null,
         null,
         null,
         null,
         null,
         null,
         null,
         null,
         null,
         null,
         null,
         null,
         null,
         null,
         null,
         null,
         null,
         null,
         "NONE",
         "ONE",
         null,
         null,
         null,
         null,
         null,
         null,
         null,
         "HOME",
         null,
         "La Jolla",
         "SAN DIEGO",
         null,
         "NORTH_CITY",
         "CA",
         "92037.0",
         "1.0",
         "WALK",
         "WALK",
         null,
         null,
         null,
         null,
         null,
         "THIRTEEN_THIRTY_TO_FOURTEEN",
         null,
         "428",
         "LEISURE_FAMILY",
         null,
         "MTS_1_Blue",
         null,
         "MTS_1_30",
         null,
         null,
         null,
         null,
         null,
         "MALE",
         null,
         null,
         null,
         null,
         null,
         null,
         null,
         null,
         null,
         null,
         null,
         null,
         null,
         null,
         null,
         null,
         null,
         null,
         null,
         null,
         null,
         null,
         null,
         null,
         null,
         null,
         null,
         "SEVEN_DAYS",
         null,
         "La Jolla",
         null,
         null,
         "CA",
         "92037",
         "PREFER_NOT_TO_SAY",
         "OUTBOUND_FROM_AIRPORT",
         "True",
         "False",
         null,
         "NO",
         "False",
         "True",
         "16.0",
         "AIRPORT_FLYER_SHUTTLE",
         "AIRPORT_FLYER_SHUTTLE",
         null,
         "AIRPORT_FLYER_SHUTTLE",
         "PASSENGER",
         null,
         "MORE_THAN_FOURTEEN",
         null,
         "2.0",
         "MORE_THAN_FIVE_TIMES",
         "1",
         null,
         null,
         "MORE_THAN_FOURTEEN",
         "THREE",
         "TWO",
         null,
         "THREE",
         "ONE",
         null,
         null,
         null,
         null,
         "SAN_DIEGO_AIRPORT",
         null,
         "San Diego",
         "SAN DIEGO",
         null,
         "CENTRAL",
         "CA",
         "92140.0",
         null,
         null,
         null,
         null,
         null,
         null,
         null,
         null,
         null,
         null,
         null,
         null,
         null,
         null,
         null,
         null,
         "NONE",
         null,
         null,
         "RESIDENT_ARRIVING",
         "ARRIVING",
         "San jose",
         "San jose",
         "False",
         "False",
         "True",
         "False",
         "False",
         "False",
         "asian",
         "False",
         null,
         "False",
         "False",
         null,
         null,
         null,
         null,
         null,
         null,
         null,
         null,
         null,
         null,
         null,
         null,
         null,
         null,
         null,
         null,
         null,
         null,
         null,
         null,
         null,
         "1.0",
         null,
         null,
         "COMING_HOME",
         "SAN_DIEGO_REGION",
         "RESIDENT_NON_BUSINESS",
         null,
         null,
         null,
         null,
         null,
         null,
         null,
         null,
         null,
         null,
         null,
         null,
         null,
         null,
         null,
         null,
         null,
         null,
         null,
         null,
         null,
         null,
         null,
         null,
         null,
         null,
         null,
         null,
         null,
         null,
         null,
         null,
         null,
         null,
         null,
         null,
         null,
         null,
         null,
         null,
         null,
         null,
         "ONCE_OR_TWICE_PER_YEAR",
         null,
         null,
         null,
         null,
         null,
         null,
         null,
         null,
         null,
         null,
         null,
         null,
         null,
         null,
         null,
         null,
         null,
         null,
         null,
         null,
         null,
         "NO",
         null,
         null,
         null,
         null,
         null,
         null,
         null,
         null,
         null,
         null,
         null,
         null,
         null,
         null,
         null,
         null,
         null,
         null,
         null,
         null,
         null,
         null,
         null,
         "NO",
         null,
         null,
         null,
         null,
         null,
         null,
         null,
         null,
         null,
         null,
         null,
         null,
         null,
         null,
         "SDA_1_FLYER_01",
         "SDA_1_FLYER_04",
         "MTS_1_Blue, MTS_1_30",
         null,
         null,
         null,
         "['reverse_mode: Non-Critical']",
         "[]",
         "1",
         "0",
         "Non-Critical",
         null,
         "1457",
         "392",
         "392.0",
         "1457.0",
         "392.0",
         "14.18071460723877",
         "33.253631591796875",
         "0.0",
         "92.94070053100586",
         "2.5",
         null,
         "0.0",
         "54.94464147090912",
         "0.5",
         "99.10702204704285",
         "2.5",
         "75.42656099796295",
         "1.75",
         null,
         "7.5",
         "NONE",
         "RESIDENT_NON_BUSINESS",
         "49.796358203887934",
         "16.923486022949216",
         "9.5",
         "6.3",
         "weight_departing_and_arriving",
         "1.3401652977649086"
        ]
       ],
       "shape": {
        "columns": 356,
        "rows": 5
       }
      },
      "text/html": [
       "<div>\n",
       "<style scoped>\n",
       "    .dataframe tbody tr th:only-of-type {\n",
       "        vertical-align: middle;\n",
       "    }\n",
       "\n",
       "    .dataframe tbody tr th {\n",
       "        vertical-align: top;\n",
       "    }\n",
       "\n",
       "    .dataframe thead th {\n",
       "        text-align: right;\n",
       "    }\n",
       "</style>\n",
       "<table border=\"1\" class=\"dataframe\">\n",
       "  <thead>\n",
       "    <tr style=\"text-align: right;\">\n",
       "      <th></th>\n",
       "      <th>Unnamed: 0</th>\n",
       "      <th>unique_id</th>\n",
       "      <th>is_valid_record</th>\n",
       "      <th>time_completed</th>\n",
       "      <th>record_type_synthetic</th>\n",
       "      <th>access_mode</th>\n",
       "      <th>access_mode_frequency_label</th>\n",
       "      <th>access_mode_grouped_label</th>\n",
       "      <th>access_mode_label</th>\n",
       "      <th>access_mode_other</th>\n",
       "      <th>...</th>\n",
       "      <th>walk_prm_time</th>\n",
       "      <th>walk_prm_fare</th>\n",
       "      <th>party_size_label_transformed</th>\n",
       "      <th>purpose_segment</th>\n",
       "      <th>taxi_fare_model</th>\n",
       "      <th>tnc_fare_model</th>\n",
       "      <th>taxi_mean_wait_model</th>\n",
       "      <th>tnc_mean_wait_model</th>\n",
       "      <th>source</th>\n",
       "      <th>weight</th>\n",
       "    </tr>\n",
       "  </thead>\n",
       "  <tbody>\n",
       "    <tr>\n",
       "      <th>0</th>\n",
       "      <td>756</td>\n",
       "      <td>757</td>\n",
       "      <td>True</td>\n",
       "      <td>13:52:37</td>\n",
       "      <td>0</td>\n",
       "      <td>NaN</td>\n",
       "      <td>ALWAYS</td>\n",
       "      <td>NaN</td>\n",
       "      <td>NaN</td>\n",
       "      <td>NaN</td>\n",
       "      <td>...</td>\n",
       "      <td>NaN</td>\n",
       "      <td>7.5</td>\n",
       "      <td>ONE</td>\n",
       "      <td>RESIDENT_BUSINESS</td>\n",
       "      <td>159.989811</td>\n",
       "      <td>48.979763</td>\n",
       "      <td>9.5</td>\n",
       "      <td>6.3</td>\n",
       "      <td>weight_departing_and_arriving</td>\n",
       "      <td>3.577735</td>\n",
       "    </tr>\n",
       "    <tr>\n",
       "      <th>1</th>\n",
       "      <td>757</td>\n",
       "      <td>758</td>\n",
       "      <td>True</td>\n",
       "      <td>15:26:59</td>\n",
       "      <td>0</td>\n",
       "      <td>NaN</td>\n",
       "      <td>ALWAYS</td>\n",
       "      <td>NaN</td>\n",
       "      <td>NaN</td>\n",
       "      <td>NaN</td>\n",
       "      <td>...</td>\n",
       "      <td>NaN</td>\n",
       "      <td>7.5</td>\n",
       "      <td>NONE</td>\n",
       "      <td>RESIDENT_NON_BUSINESS</td>\n",
       "      <td>49.576478</td>\n",
       "      <td>16.859521</td>\n",
       "      <td>9.5</td>\n",
       "      <td>6.3</td>\n",
       "      <td>weight_departing_and_arriving</td>\n",
       "      <td>1.746407</td>\n",
       "    </tr>\n",
       "    <tr>\n",
       "      <th>2</th>\n",
       "      <td>758</td>\n",
       "      <td>759</td>\n",
       "      <td>True</td>\n",
       "      <td>17:07:15</td>\n",
       "      <td>0</td>\n",
       "      <td>NaN</td>\n",
       "      <td>ALWAYS</td>\n",
       "      <td>NaN</td>\n",
       "      <td>NaN</td>\n",
       "      <td>NaN</td>\n",
       "      <td>...</td>\n",
       "      <td>92.227949</td>\n",
       "      <td>0.5</td>\n",
       "      <td>NONE</td>\n",
       "      <td>RESIDENT_BUSINESS</td>\n",
       "      <td>37.763372</td>\n",
       "      <td>13.422981</td>\n",
       "      <td>9.5</td>\n",
       "      <td>6.3</td>\n",
       "      <td>weight_departing_and_arriving</td>\n",
       "      <td>1.746407</td>\n",
       "    </tr>\n",
       "    <tr>\n",
       "      <th>3</th>\n",
       "      <td>759</td>\n",
       "      <td>760</td>\n",
       "      <td>True</td>\n",
       "      <td>13:43:27</td>\n",
       "      <td>0</td>\n",
       "      <td>NaN</td>\n",
       "      <td>ALWAYS</td>\n",
       "      <td>NaN</td>\n",
       "      <td>NaN</td>\n",
       "      <td>NaN</td>\n",
       "      <td>...</td>\n",
       "      <td>58.824008</td>\n",
       "      <td>0.5</td>\n",
       "      <td>NONE</td>\n",
       "      <td>RESIDENT_NON_BUSINESS</td>\n",
       "      <td>24.252795</td>\n",
       "      <td>9.492631</td>\n",
       "      <td>9.5</td>\n",
       "      <td>6.3</td>\n",
       "      <td>weight_departing_and_arriving</td>\n",
       "      <td>1.090650</td>\n",
       "    </tr>\n",
       "    <tr>\n",
       "      <th>4</th>\n",
       "      <td>760</td>\n",
       "      <td>761</td>\n",
       "      <td>True</td>\n",
       "      <td>14:20:18</td>\n",
       "      <td>0</td>\n",
       "      <td>NaN</td>\n",
       "      <td>ALWAYS</td>\n",
       "      <td>NaN</td>\n",
       "      <td>NaN</td>\n",
       "      <td>NaN</td>\n",
       "      <td>...</td>\n",
       "      <td>NaN</td>\n",
       "      <td>7.5</td>\n",
       "      <td>NONE</td>\n",
       "      <td>RESIDENT_NON_BUSINESS</td>\n",
       "      <td>49.796358</td>\n",
       "      <td>16.923486</td>\n",
       "      <td>9.5</td>\n",
       "      <td>6.3</td>\n",
       "      <td>weight_departing_and_arriving</td>\n",
       "      <td>1.340165</td>\n",
       "    </tr>\n",
       "  </tbody>\n",
       "</table>\n",
       "<p>5 rows × 356 columns</p>\n",
       "</div>"
      ],
      "text/plain": [
       "   Unnamed: 0  unique_id  is_valid_record time_completed  \\\n",
       "0         756        757             True       13:52:37   \n",
       "1         757        758             True       15:26:59   \n",
       "2         758        759             True       17:07:15   \n",
       "3         759        760             True       13:43:27   \n",
       "4         760        761             True       14:20:18   \n",
       "\n",
       "   record_type_synthetic  access_mode access_mode_frequency_label  \\\n",
       "0                      0          NaN                      ALWAYS   \n",
       "1                      0          NaN                      ALWAYS   \n",
       "2                      0          NaN                      ALWAYS   \n",
       "3                      0          NaN                      ALWAYS   \n",
       "4                      0          NaN                      ALWAYS   \n",
       "\n",
       "  access_mode_grouped_label access_mode_label access_mode_other  ...  \\\n",
       "0                       NaN               NaN               NaN  ...   \n",
       "1                       NaN               NaN               NaN  ...   \n",
       "2                       NaN               NaN               NaN  ...   \n",
       "3                       NaN               NaN               NaN  ...   \n",
       "4                       NaN               NaN               NaN  ...   \n",
       "\n",
       "  walk_prm_time walk_prm_fare party_size_label_transformed  \\\n",
       "0           NaN           7.5                          ONE   \n",
       "1           NaN           7.5                         NONE   \n",
       "2     92.227949           0.5                         NONE   \n",
       "3     58.824008           0.5                         NONE   \n",
       "4           NaN           7.5                         NONE   \n",
       "\n",
       "         purpose_segment  taxi_fare_model tnc_fare_model taxi_mean_wait_model  \\\n",
       "0      RESIDENT_BUSINESS       159.989811      48.979763                  9.5   \n",
       "1  RESIDENT_NON_BUSINESS        49.576478      16.859521                  9.5   \n",
       "2      RESIDENT_BUSINESS        37.763372      13.422981                  9.5   \n",
       "3  RESIDENT_NON_BUSINESS        24.252795       9.492631                  9.5   \n",
       "4  RESIDENT_NON_BUSINESS        49.796358      16.923486                  9.5   \n",
       "\n",
       "  tnc_mean_wait_model                         source    weight  \n",
       "0                 6.3  weight_departing_and_arriving  3.577735  \n",
       "1                 6.3  weight_departing_and_arriving  1.746407  \n",
       "2                 6.3  weight_departing_and_arriving  1.746407  \n",
       "3                 6.3  weight_departing_and_arriving  1.090650  \n",
       "4                 6.3  weight_departing_and_arriving  1.340165  \n",
       "\n",
       "[5 rows x 356 columns]"
      ]
     },
     "execution_count": 24,
     "metadata": {},
     "output_type": "execute_result"
    }
   ],
   "source": [
    "survey_nonweight_cols = [col for col in survey_data_base.columns if 'weight' not in col]\n",
    "survey_melt = survey_data_base.melt(id_vars = survey_nonweight_cols, var_name = 'source', value_name = 'weight')\n",
    "survey_melt.head()"
   ]
  },
  {
   "cell_type": "code",
   "execution_count": 25,
   "metadata": {},
   "outputs": [],
   "source": [
    "# read in model data\n",
    "model_data_base = pd.read_csv(model_data_path)"
   ]
  },
  {
   "cell_type": "markdown",
   "metadata": {},
   "source": [
    "## Mode Comparison"
   ]
  },
  {
   "cell_type": "markdown",
   "metadata": {},
   "source": [
    "### Survey"
   ]
  },
  {
   "cell_type": "code",
   "execution_count": 26,
   "metadata": {},
   "outputs": [],
   "source": [
    "survey_mode_replace_dict = {\n",
    "       'AIRPORT_FLYER_SHUTTLE': 'TRANSIT', #TODO is this the correct coding\n",
    "       'BICYCLE_ELECTRIC_BIKESHARE': 'BIKE',\n",
    "       'BICYCLE_NON_ELECTRIC_BIKESHARE': 'BIKE',\n",
    "       'BICYCLE_PERSONAL_ELECTRIC': 'BIKE',\n",
    "       'BICYCLE_PERSONAL_NON_ELECTRIC': 'BIKE',\n",
    "       'CAR_SERVICE_BLACK_LIMO': 'TAXI/TNC', #not sure if correctly coded\n",
    "       'CHARTERED_TOUR_BUS': 'SHUTTLE_VAN', #not sure if correctly coded\n",
    "       'DROPPED_OFF_BY_FAMILY_FRIEND': 'CURB',\n",
    "       'DROVE_ALONE_AND_PARKED': 'PARKED',\n",
    "       'DROVE_WITH_OTHERS_AND_PARKED': 'PARKED',\n",
    "       'EMPLOYEE_SHUTTLE': 'EMPLOYEE_SHUTTLE',\n",
    "       'GET_IN_PARKED_VEHICLE_AND_DRIVE_ALONE': 'PARKED',\n",
    "       'GET_IN_PARKED_VEHICLE_AND_RIDE_WITH_OTHER_TRAVELERS': 'PARKED',\n",
    "       'HOTEL_SHUTTLE_VAN': 'HOTEL_SHUTTLE_VAN',\n",
    "       'MTS_ROUTE_992': 'TRANSIT',\n",
    "       'OTHER': 'OTHER',\n",
    "       'OTHER_PUBLIC_TRANSIT': 'TRANSIT',\n",
    "       'OTHER_SHARED_VAN': 'SHUTTLE_VAN',\n",
    "       'PICKED_UP_BY_FAMILY_FRIEND': 'CURB',\n",
    "       'REFUSED_NO_ANSWER': 'REFUSED_NO_ANSWER',\n",
    "       'RENTAL_CAR_DROPPED_OFF': 'RENTAL',\n",
    "       'RENTAL_CAR_GET_IN_PARKED': 'RENTAL',\n",
    "       'RENTAL_CAR_PARKED': 'RENTAL',\n",
    "       'RENTAL_CAR_PICKED_UP': 'RENTAL',\n",
    "       'RODE_WITH_OTHER_TRAVELERS_AND_PARKED': 'PARKED',\n",
    "       'TAXI': 'TAXI/TNC',\n",
    "       'UBER_LYFT': 'TAXI/TNC',\n",
    "       'WALK': 'WALK',\n",
    "       'WHEELCHAIR_OR_MOBILITY_DEVICE': 'WALK',\n",
    "       'GET_IN_PARKED_VEHICLE_AND_DRIVE_WITH_OTHERS': 'PARKED'\n",
    " }"
   ]
  },
  {
   "cell_type": "code",
   "execution_count": 27,
   "metadata": {},
   "outputs": [],
   "source": [
    "# map modes for comparison\n",
    "survey_melt['mapped_mode'] = (\n",
    "        survey_melt\n",
    "            ['main_mode_label']\n",
    "            .replace(survey_mode_replace_dict)\n",
    ")\n",
    "\n",
    "# normalized weighted mapped mode counts w/ synthetic data\n",
    "survey_mode = (\n",
    "    survey_melt\n",
    "        .groupby(['source','mapped_mode'])\n",
    "        ['weight']\n",
    "        .sum()\n",
    "        .sort_values(ascending=False)\n",
    ") / survey_melt.groupby('source')['weight'].sum()\n",
    "survey_mode = (\n",
    "    survey_mode\n",
    "        .to_frame()\n",
    "        .reset_index(drop=False)\n",
    "        .rename(columns={'weight':'count'})\n",
    ")"
   ]
  },
  {
   "cell_type": "markdown",
   "metadata": {},
   "source": [
    "### Model"
   ]
  },
  {
   "cell_type": "code",
   "execution_count": 28,
   "metadata": {},
   "outputs": [],
   "source": [
    "model_mode = (\n",
    "    model_data_base\n",
    "        .groupby('mapped_mode')\n",
    "        ['count']\n",
    "        .sum()\n",
    "        .sort_values(ascending=False)\n",
    ") / model_data_base['count'].sum()\n",
    "model_mode = model_mode.to_frame().reset_index(drop=False)\n",
    "model_mode['source'] = 'Model'"
   ]
  },
  {
   "cell_type": "markdown",
   "metadata": {},
   "source": [
    "### Compare"
   ]
  },
  {
   "cell_type": "code",
   "execution_count": 29,
   "metadata": {},
   "outputs": [
    {
     "data": {
      "image/png": "[encoded data removed]",
      "text/plain": [
       "<Figure size 2000x700 with 1 Axes>"
      ]
     },
     "metadata": {},
     "output_type": "display_data"
    }
   ],
   "source": [
    "compare_modes = pd.concat([survey_mode, model_mode])\n",
    "fig, ax = plt.subplots(figsize=(20,7))\n",
    "sns.barplot(\n",
    "    data = compare_modes,\n",
    "    x='mapped_mode',\n",
    "    y='count',\n",
    "    hue='source'\n",
    ")\n",
    "ax.tick_params(axis='x', labelrotation=45)\n",
    "plt.title(f'Mode Comparison{drop_employees * \" - Dropped Employees\"}', fontsize=25)\n",
    "plt.ylabel(\"% Share\", fontsize=20)\n",
    "plt.xlabel('Mode', fontsize=20)\n",
    "plt.legend(fontsize=18)\n",
    "plt.grid()\n",
    "plt.show()"
   ]
  }
 ],
 "metadata": {
  "kernelspec": {
   "display_name": "sandag_survey_airport",
   "language": "python",
   "name": "python3"
  },
  "language_info": {
   "codemirror_mode": {
    "name": "ipython",
    "version": 3
   },
   "file_extension": ".py",
   "mimetype": "text/x-python",
   "name": "python",
   "nbconvert_exporter": "python",
   "pygments_lexer": "ipython3",
   "version": "3.12.4"
  }
 },
 "nbformat": 4,
 "nbformat_minor": 2
}
