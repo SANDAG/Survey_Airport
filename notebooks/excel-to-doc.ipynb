{
 "cells": [
  {
   "cell_type": "markdown",
   "metadata": {},
   "source": [
    "### This script converts the RP Questionnaire to Word"
   ]
  },
  {
   "cell_type": "code",
   "execution_count": 2,
   "metadata": {},
   "outputs": [],
   "source": [
    "import pandas as pd\n",
    "from docx import Document"
   ]
  },
  {
   "cell_type": "markdown",
   "metadata": {},
   "source": [
    "### Input and Output files"
   ]
  },
  {
   "cell_type": "code",
   "execution_count": 18,
   "metadata": {},
   "outputs": [],
   "source": [
    "input_excel_file = \"../docs/draft_RP_questionnaire_2024_09_09.xlsx\"\n",
    "output_word_file = \"../docs/Survey_Documentation.docx\""
   ]
  },
  {
   "cell_type": "markdown",
   "metadata": {},
   "source": [
    "### Load data as dataframes"
   ]
  },
  {
   "cell_type": "code",
   "execution_count": 19,
   "metadata": {},
   "outputs": [],
   "source": [
    "# Load both sheets\n",
    "df_main = pd.read_excel(input_excel_file, sheet_name=\"Questions\")\n",
    "df_options = pd.read_excel(input_excel_file, sheet_name=\"Response Options\")\n",
    "df_modes = pd.read_excel(input_excel_file, sheet_name = \"mode\")"
   ]
  },
  {
   "cell_type": "markdown",
   "metadata": {},
   "source": [
    "### Method to add documentation of a segment (employee, arriving passenger, departing passenger)"
   ]
  },
  {
   "cell_type": "code",
   "execution_count": 1,
   "metadata": {},
   "outputs": [],
   "source": [
    "def add_segment_documentation(doc, segment):\n",
    "    # Iterate through each row in the main DataFrame\n",
    "    doc.add_heading(segment, level = 2)\n",
    "    for index, row in df_main.iterrows():\n",
    "        # Skip rows where 'Departing passenger' is blank or \"N/A\"\n",
    "        if pd.isna(row[segment]) or row[segment] == \"N/A\":\n",
    "            continue\n",
    "        # Create the variable name heading (this will be trackable in Word)\n",
    "        variable_heading = f\"{int(row['Question number'])}. {row['Variable name']}\"\n",
    "        heading = doc.add_heading(variable_heading, level=3)\n",
    "\n",
    "        # Remove bold formatting from the heading\n",
    "        run = heading.runs[0]\n",
    "        run.bold = False\n",
    "\n",
    "        # Add question category and question text\n",
    "        doc.add_paragraph(f\"Question Category: {row['Question category']}\")\n",
    "        doc.add_paragraph(f\"Question: {row[segment]}\")\n",
    "\n",
    "        # Add the \"Response Options\" title\n",
    "        doc.add_paragraph(\"Response Options:\")\n",
    "\n",
    "        # Filter the options DataFrame for the current variable\n",
    "        options = df_options[df_options['Variable'] == row['Variable name']]\n",
    "        \n",
    "        # Check for common response options from the df_modes grid\n",
    "        if row['Variable name'] in df_modes.columns:\n",
    "            # Find the response options for the current mode in df_modes\n",
    "            mode_options = df_modes[df_modes[row['Variable name']] == 1]\n",
    "\n",
    "        # If there are options, add them as a table\n",
    "        if not options.empty:\n",
    "            table = doc.add_table(rows=1, cols=2)\n",
    "            table.autofit = True\n",
    "            table.style = 'Table Grid'\n",
    "            # Add header cells\n",
    "            hdr_cells = table.rows[0].cells\n",
    "            hdr_cells[0].text = 'Codes'\n",
    "            hdr_cells[1].text = 'Labels'\n",
    "\n",
    "            # Add data rows\n",
    "            for _, option_row in options.iterrows():\n",
    "                row_cells = table.add_row().cells\n",
    "                row_cells[0].text = str(option_row['Codes'])\n",
    "                row_cells[1].text = option_row['Labels']\n",
    "        else:\n",
    "            doc.paragraphs[-1].add_run(\" Set of options not applicable\")\n",
    "        # Add a space between questions\n",
    "        doc.add_paragraph(\"\\n\")"
   ]
  },
  {
   "cell_type": "markdown",
   "metadata": {},
   "source": [
    "### Iterating over all segments:"
   ]
  },
  {
   "cell_type": "code",
   "execution_count": 22,
   "metadata": {},
   "outputs": [],
   "source": [
    "# Create a new Word Document\n",
    "doc = Document()\n",
    "doc.add_heading(\"ATC 2024 Survey Documentation\", level = 1)\n",
    "\n",
    "#segments to iterate over\n",
    "segments = ['Departing passenger', 'Arriving passenger', 'Employee']\n",
    "\n",
    "for segment in segments:\n",
    "    add_segment_documentation(doc, segment)"
   ]
  },
  {
   "cell_type": "markdown",
   "metadata": {},
   "source": [
    "### Writing the document"
   ]
  },
  {
   "cell_type": "code",
   "execution_count": 23,
   "metadata": {},
   "outputs": [
    {
     "name": "stdout",
     "output_type": "stream",
     "text": [
      "Document saved as ../docs/Survey_Documentation.docx\n"
     ]
    }
   ],
   "source": [
    "# Save the document\n",
    "doc.save(output_word_file)\n",
    "print(f\"Document saved as {output_word_file}\")"
   ]
  }
 ],
 "metadata": {
  "kernelspec": {
   "display_name": "Python 3",
   "language": "python",
   "name": "python3"
  },
  "language_info": {
   "codemirror_mode": {
    "name": "ipython",
    "version": 3
   },
   "file_extension": ".py",
   "mimetype": "text/x-python",
   "name": "python",
   "nbconvert_exporter": "python",
   "pygments_lexer": "ipython3",
   "version": "3.12.4"
  }
 },
 "nbformat": 4,
 "nbformat_minor": 2
}
