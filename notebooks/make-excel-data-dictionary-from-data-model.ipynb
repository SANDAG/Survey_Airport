{
 "cells": [
  {
   "cell_type": "markdown",
   "metadata": {},
   "source": [
    "# Make Excel Data Dictionary from Data Model\n",
    "\n",
    "This code examines the data model files in the `./data_model/` path and renders a data dictionary in Excel."
   ]
  },
  {
   "cell_type": "code",
   "execution_count": 2,
   "metadata": {},
   "outputs": [],
   "source": [
    "import sys\n",
    "import os\n",
    "import importlib\n",
    "sys.path.insert(0, os.path.abspath(\"../data_model/\"))"
   ]
  },
  {
   "cell_type": "code",
   "execution_count": 3,
   "metadata": {},
   "outputs": [],
   "source": [
    "import inspect\n",
    "from pydantic import BaseModel, Field\n",
    "from openpyxl import Workbook\n",
    "from typing import Optional, get_origin, get_args\n",
    "import data_model\n",
    "import enums as e\n",
    "from enum import Enum"
   ]
  },
  {
   "cell_type": "markdown",
   "metadata": {},
   "source": [
    "## Input/Output"
   ]
  },
  {
   "cell_type": "code",
   "execution_count": 4,
   "metadata": {},
   "outputs": [],
   "source": [
    "output_file = \"../reports/data_dictionary.xlsx\""
   ]
  },
  {
   "cell_type": "markdown",
   "metadata": {},
   "source": [
    "## Methods"
   ]
  },
  {
   "cell_type": "code",
   "execution_count": 5,
   "metadata": {},
   "outputs": [],
   "source": [
    "def document_pydantic_model(model_cls, ws, enum_ws, enums_set):\n",
    "    # Extracting docstrings, field descriptions, and types\n",
    "    class_name = model_cls.__name__\n",
    "    class_docstring = model_cls.__doc__.strip() if model_cls.__doc__ else \"No description available.\"\n",
    "\n",
    "    # Collecting field details\n",
    "    field_details = {}\n",
    "    for field_name, field_info in model_cls.__fields__.items():\n",
    "        description = field_info.description or \"No description available.\"\n",
    "        field_class = field_info.annotation\n",
    "        if field_class.__name__ in (\"Optional\", \"Union\"):\n",
    "            field_class =  get_args(field_info.annotation)[0]\n",
    "        if field_class.__name__ == \"List\":\n",
    "            field_class = get_args(get_args(get_args(field_info.annotation)[0])[0])[0]\n",
    "\n",
    "\n",
    "        datatype = field_class.__name__\n",
    "\n",
    "        if issubclass(field_class, Enum) and field_class not in enums_set:\n",
    "            enums_set.add(field_class)\n",
    "            datatype = field_class.__name__\n",
    "            for e_value in field_class:\n",
    "                enum_ws.append([field_class.__name__, e_value.value, e_value.name])\n",
    "            enum_ws.append([])\n",
    "\n",
    "        field_details[field_name] = (datatype, description)\n",
    "\n",
    "    # Add class name and class docstring\n",
    "    ws.append([class_name, \"Data Model\", class_docstring])\n",
    "\n",
    "    # Add field details (name, type, description)\n",
    "    for field, details in field_details.items():\n",
    "        datatype, description = details\n",
    "        ws.append([field, datatype, description])\n",
    "    ws.append([])  # Add an empty row for separation\n"
   ]
  },
  {
   "cell_type": "code",
   "execution_count": 6,
   "metadata": {},
   "outputs": [],
   "source": [
    "def document_all_models(module, output_file):\n",
    "    # Create a workbook and select the active worksheet\n",
    "    wb = Workbook()\n",
    "    ws = wb.active\n",
    "    ws.title = \"Pydantic Class Documentation\"\n",
    "\n",
    "    # Add headers\n",
    "    ws.append([\"Field\", \"Data Type\", \"Description\"])\n",
    "\n",
    "    # Create a new worksheet for enum mappings\n",
    "    enum_ws = wb.create_sheet(title=\"Enum Mappings\")\n",
    "    enum_ws.append([\"Enum\", \"Codes\", \"Labels\"])\n",
    "\n",
    "    enums_set = set()\n",
    "    # Iterate over all classes in the module\n",
    "    for name, obj in inspect.getmembers(module, inspect.isclass):\n",
    "        if issubclass(obj, BaseModel) and obj.__module__ == module.__name__:\n",
    "            document_pydantic_model(obj, ws, enum_ws, enums_set)\n",
    "\n",
    "    # Save the workbook\n",
    "    wb.save(output_file)"
   ]
  },
  {
   "cell_type": "markdown",
   "metadata": {},
   "source": [
    "### Implementation"
   ]
  },
  {
   "cell_type": "code",
   "execution_count": 7,
   "metadata": {},
   "outputs": [],
   "source": [
    "document_all_models(data_model, output_file)"
   ]
  },
  {
   "cell_type": "code",
   "execution_count": null,
   "metadata": {},
   "outputs": [],
   "source": []
  }
 ],
 "metadata": {
  "kernelspec": {
   "display_name": "Python 3",
   "language": "python",
   "name": "python3"
  },
  "language_info": {
   "codemirror_mode": {
    "name": "ipython",
    "version": 3
   },
   "file_extension": ".py",
   "mimetype": "text/x-python",
   "name": "python",
   "nbconvert_exporter": "python",
   "pygments_lexer": "ipython3",
   "version": "3.11.9"
  }
 },
 "nbformat": 4,
 "nbformat_minor": 2
}
