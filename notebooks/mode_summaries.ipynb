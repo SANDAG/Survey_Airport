{
 "cells": [
  {
   "cell_type": "code",
   "execution_count": 2,
   "metadata": {},
   "outputs": [],
   "source": [
    "import pandas as pd \n",
    "import numpy as np\n",
    "import os"
   ]
  },
  {
   "cell_type": "code",
   "execution_count": 3,
   "metadata": {},
   "outputs": [],
   "source": [
    "external_dir = \"../data/external\"\n",
    "interim_dir = \"../data/interim\"\n",
    "processed_dir = \"../data/processed\"\n",
    "\n",
    "\n",
    "input_file_1 = os.path.join(external_dir, \"etc/od_20241002_sandag_airport_pilot.xlsx\")\n",
    "input_file_2 = os.path.join(external_dir, \"etc/od_20241004_sandag_airport_pilot_2.xlsx\")\n",
    "input_file_3 = os.path.join(external_dir, \"etc/od_20241010_sandag_airport_pilot_3.xlsx\") \n",
    "input_file = os.path.join(external_dir, \"etc/od_20241015_sandag_airport_pilot_4.xlsx\") #pilot survey 4, latest\n",
    "variable_map_file = os.path.join(processed_dir, \"revised_names.csv\")"
   ]
  },
  {
   "cell_type": "code",
   "execution_count": 4,
   "metadata": {},
   "outputs": [],
   "source": [
    "#in_df_1 = pd.read_excel(input_file_1)\n",
    "#in_df_2 = pd.read_excel(input_file_2)\n",
    "#in_df_3 = pd.read_excel(input_file_3)\n",
    "#\n",
    "#in_df = pd.concat([in_df_1, in_df_2, in_df_3], ignore_index = True)\n",
    "\n",
    "in_df = pd.read_excel(input_file)\n",
    "\n",
    "header_df = pd.read_csv(variable_map_file)[['ETC_name','WSP_name']]\n",
    "header_dict = pd.Series(header_df.WSP_name.values,index=header_df.ETC_name).to_dict()\n",
    "clean_df = in_df.rename(columns=header_dict).copy().drop(columns=[\"delete\"])"
   ]
  },
  {
   "cell_type": "code",
   "execution_count": 5,
   "metadata": {},
   "outputs": [
    {
     "data": {
      "text/plain": [
       "(3597, 302)"
      ]
     },
     "execution_count": 5,
     "metadata": {},
     "output_type": "execute_result"
    }
   ],
   "source": [
    "clean_df.shape"
   ]
  },
  {
   "cell_type": "code",
   "execution_count": 6,
   "metadata": {},
   "outputs": [
    {
     "data": {
      "text/html": [
       "<div>\n",
       "<style scoped>\n",
       "    .dataframe tbody tr th:only-of-type {\n",
       "        vertical-align: middle;\n",
       "    }\n",
       "\n",
       "    .dataframe tbody tr th {\n",
       "        vertical-align: top;\n",
       "    }\n",
       "\n",
       "    .dataframe thead th {\n",
       "        text-align: right;\n",
       "    }\n",
       "</style>\n",
       "<table border=\"1\" class=\"dataframe\">\n",
       "  <thead>\n",
       "    <tr style=\"text-align: right;\">\n",
       "      <th></th>\n",
       "      <th>respondentid</th>\n",
       "      <th>date_completed</th>\n",
       "      <th>interview_location</th>\n",
       "      <th>interview_location_label</th>\n",
       "      <th>interview_location_other</th>\n",
       "      <th>inbound_or_outbound</th>\n",
       "      <th>inbound_or_outbound_label</th>\n",
       "      <th>marketsegment</th>\n",
       "      <th>marketsegment_label</th>\n",
       "      <th>is_qualified_age</th>\n",
       "      <th>...</th>\n",
       "      <th>household_income_label</th>\n",
       "      <th>is_income_below_poverty</th>\n",
       "      <th>number_workers</th>\n",
       "      <th>number_workers_label</th>\n",
       "      <th>sp_invitation</th>\n",
       "      <th>sp_invitation_label</th>\n",
       "      <th>stay_informed</th>\n",
       "      <th>survey_language</th>\n",
       "      <th>survey_language_label</th>\n",
       "      <th>survey_language_other</th>\n",
       "    </tr>\n",
       "  </thead>\n",
       "  <tbody>\n",
       "    <tr>\n",
       "      <th>0</th>\n",
       "      <td>4273</td>\n",
       "      <td>9/30/2024</td>\n",
       "      <td>Term1</td>\n",
       "      <td>Terminal 1</td>\n",
       "      <td>NaN</td>\n",
       "      <td>OUT</td>\n",
       "      <td>OUTBOUND</td>\n",
       "      <td>1</td>\n",
       "      <td>Air passenger</td>\n",
       "      <td>YES</td>\n",
       "      <td>...</td>\n",
       "      <td>$75,000-$99,999</td>\n",
       "      <td>NaN</td>\n",
       "      <td>2</td>\n",
       "      <td>TWO (2)</td>\n",
       "      <td>2.0</td>\n",
       "      <td>No</td>\n",
       "      <td>NO</td>\n",
       "      <td>ENGLISH</td>\n",
       "      <td>ENGLISH</td>\n",
       "      <td>NaN</td>\n",
       "    </tr>\n",
       "    <tr>\n",
       "      <th>1</th>\n",
       "      <td>4282</td>\n",
       "      <td>9/30/2024</td>\n",
       "      <td>Term1</td>\n",
       "      <td>Terminal 1</td>\n",
       "      <td>NaN</td>\n",
       "      <td>IN</td>\n",
       "      <td>INBOUND</td>\n",
       "      <td>1</td>\n",
       "      <td>Air passenger</td>\n",
       "      <td>YES</td>\n",
       "      <td>...</td>\n",
       "      <td>$60,000-$74,999</td>\n",
       "      <td>NaN</td>\n",
       "      <td>6</td>\n",
       "      <td>SIX (6)</td>\n",
       "      <td>1.0</td>\n",
       "      <td>Yes</td>\n",
       "      <td>NaN</td>\n",
       "      <td>SPANI</td>\n",
       "      <td>SPANISH</td>\n",
       "      <td>NaN</td>\n",
       "    </tr>\n",
       "    <tr>\n",
       "      <th>2</th>\n",
       "      <td>4283</td>\n",
       "      <td>9/30/2024</td>\n",
       "      <td>Term1</td>\n",
       "      <td>Terminal 1</td>\n",
       "      <td>NaN</td>\n",
       "      <td>IN</td>\n",
       "      <td>INBOUND</td>\n",
       "      <td>1</td>\n",
       "      <td>Air passenger</td>\n",
       "      <td>YES</td>\n",
       "      <td>...</td>\n",
       "      <td>$60,000-$74,999</td>\n",
       "      <td>NaN</td>\n",
       "      <td>0</td>\n",
       "      <td>NONE (0)</td>\n",
       "      <td>2.0</td>\n",
       "      <td>No</td>\n",
       "      <td>NO</td>\n",
       "      <td>ENGLISH</td>\n",
       "      <td>ENGLISH</td>\n",
       "      <td>NaN</td>\n",
       "    </tr>\n",
       "    <tr>\n",
       "      <th>3</th>\n",
       "      <td>4286</td>\n",
       "      <td>9/30/2024</td>\n",
       "      <td>Term1</td>\n",
       "      <td>Terminal 1</td>\n",
       "      <td>NaN</td>\n",
       "      <td>IN</td>\n",
       "      <td>INBOUND</td>\n",
       "      <td>1</td>\n",
       "      <td>Air passenger</td>\n",
       "      <td>YES</td>\n",
       "      <td>...</td>\n",
       "      <td>$150,000 or more</td>\n",
       "      <td>NaN</td>\n",
       "      <td>2</td>\n",
       "      <td>TWO (2)</td>\n",
       "      <td>1.0</td>\n",
       "      <td>Yes</td>\n",
       "      <td>NaN</td>\n",
       "      <td>ENGLISH</td>\n",
       "      <td>ENGLISH</td>\n",
       "      <td>NaN</td>\n",
       "    </tr>\n",
       "    <tr>\n",
       "      <th>4</th>\n",
       "      <td>4290</td>\n",
       "      <td>9/30/2024</td>\n",
       "      <td>Term1</td>\n",
       "      <td>Terminal 1</td>\n",
       "      <td>NaN</td>\n",
       "      <td>IN</td>\n",
       "      <td>INBOUND</td>\n",
       "      <td>1</td>\n",
       "      <td>Air passenger</td>\n",
       "      <td>YES</td>\n",
       "      <td>...</td>\n",
       "      <td>Prefer not to say</td>\n",
       "      <td>No</td>\n",
       "      <td>0</td>\n",
       "      <td>NONE (0)</td>\n",
       "      <td>2.0</td>\n",
       "      <td>No</td>\n",
       "      <td>NO</td>\n",
       "      <td>ENGLISH</td>\n",
       "      <td>ENGLISH</td>\n",
       "      <td>NaN</td>\n",
       "    </tr>\n",
       "  </tbody>\n",
       "</table>\n",
       "<p>5 rows × 302 columns</p>\n",
       "</div>"
      ],
      "text/plain": [
       "   respondentid date_completed interview_location interview_location_label  \\\n",
       "0          4273      9/30/2024              Term1               Terminal 1   \n",
       "1          4282      9/30/2024              Term1               Terminal 1   \n",
       "2          4283      9/30/2024              Term1               Terminal 1   \n",
       "3          4286      9/30/2024              Term1               Terminal 1   \n",
       "4          4290      9/30/2024              Term1               Terminal 1   \n",
       "\n",
       "  interview_location_other inbound_or_outbound inbound_or_outbound_label  \\\n",
       "0                      NaN                 OUT                  OUTBOUND   \n",
       "1                      NaN                  IN                   INBOUND   \n",
       "2                      NaN                  IN                   INBOUND   \n",
       "3                      NaN                  IN                   INBOUND   \n",
       "4                      NaN                  IN                   INBOUND   \n",
       "\n",
       "   marketsegment marketsegment_label is_qualified_age  ...  \\\n",
       "0              1       Air passenger              YES  ...   \n",
       "1              1       Air passenger              YES  ...   \n",
       "2              1       Air passenger              YES  ...   \n",
       "3              1       Air passenger              YES  ...   \n",
       "4              1       Air passenger              YES  ...   \n",
       "\n",
       "   household_income_label is_income_below_poverty  number_workers  \\\n",
       "0         $75,000-$99,999                     NaN               2   \n",
       "1         $60,000-$74,999                     NaN               6   \n",
       "2         $60,000-$74,999                     NaN               0   \n",
       "3        $150,000 or more                     NaN               2   \n",
       "4       Prefer not to say                      No               0   \n",
       "\n",
       "  number_workers_label  sp_invitation sp_invitation_label  stay_informed  \\\n",
       "0              TWO (2)            2.0                  No             NO   \n",
       "1              SIX (6)            1.0                 Yes            NaN   \n",
       "2             NONE (0)            2.0                  No             NO   \n",
       "3              TWO (2)            1.0                 Yes            NaN   \n",
       "4             NONE (0)            2.0                  No             NO   \n",
       "\n",
       "  survey_language  survey_language_label survey_language_other  \n",
       "0         ENGLISH                ENGLISH                   NaN  \n",
       "1           SPANI                SPANISH                   NaN  \n",
       "2         ENGLISH                ENGLISH                   NaN  \n",
       "3         ENGLISH                ENGLISH                   NaN  \n",
       "4         ENGLISH                ENGLISH                   NaN  \n",
       "\n",
       "[5 rows x 302 columns]"
      ]
     },
     "execution_count": 6,
     "metadata": {},
     "output_type": "execute_result"
    }
   ],
   "source": [
    "clean_df.head()"
   ]
  },
  {
   "cell_type": "code",
   "execution_count": 7,
   "metadata": {},
   "outputs": [
    {
     "data": {
      "text/plain": [
       "(3597, 302)"
      ]
     },
     "execution_count": 7,
     "metadata": {},
     "output_type": "execute_result"
    }
   ],
   "source": [
    "#Remove duplicate respondentid\n",
    "clean_df = clean_df.drop_duplicates(subset='respondentid', keep='first')\n",
    "clean_df.reset_index(drop=True, inplace=True)\n",
    "clean_df.shape"
   ]
  },
  {
   "cell_type": "code",
   "execution_count": 8,
   "metadata": {},
   "outputs": [
    {
     "data": {
      "text/plain": [
       "['interview_location',\n",
       " 'flight_purpose',\n",
       " 'shift_start_airport_building',\n",
       " 'employer',\n",
       " 'occupation',\n",
       " 'origin_activity_type',\n",
       " 'main_mode',\n",
       " 'access_mode',\n",
       " 'parking_location',\n",
       " 'parking_cost_frequency',\n",
       " 'car_available',\n",
       " 'reverse_mode_predicted',\n",
       " 'reverse_commute_mode',\n",
       " 'same_commute_mode',\n",
       " 'gender']"
      ]
     },
     "execution_count": 8,
     "metadata": {},
     "output_type": "execute_result"
    }
   ],
   "source": [
    "cols_with_oth = [col for col in clean_df.columns if '-oth-' in clean_df[col].values]\n",
    "cols_with_oth"
   ]
  },
  {
   "cell_type": "code",
   "execution_count": 9,
   "metadata": {},
   "outputs": [
    {
     "data": {
      "text/plain": [
       "['flight_purpose',\n",
       " 'shift_start_airport_building',\n",
       " 'employer',\n",
       " 'occupation',\n",
       " 'origin_activity_type',\n",
       " 'access_mode',\n",
       " 'parking_location',\n",
       " 'parking_cost_frequency',\n",
       " 'car_available',\n",
       " 'reverse_mode_predicted',\n",
       " 'same_commute_mode',\n",
       " 'gender']"
      ]
     },
     "execution_count": 9,
     "metadata": {},
     "output_type": "execute_result"
    }
   ],
   "source": [
    "cols_with_oth_and_98 = [col for col in clean_df[cols_with_oth] if 98 in clean_df[col].values]\n",
    "cols_with_oth_and_98"
   ]
  },
  {
   "cell_type": "code",
   "execution_count": 10,
   "metadata": {},
   "outputs": [],
   "source": [
    "def replace_oth_with_98(df):\n",
    "    # Iterate over each mode column\n",
    "    for col in df.columns:\n",
    "        # Replace '-oth-' with 98\n",
    "        df[col] = df[col].replace('-oth-', 98)\n",
    "    \n",
    "    return df"
   ]
  },
  {
   "cell_type": "code",
   "execution_count": 11,
   "metadata": {},
   "outputs": [
    {
     "name": "stderr",
     "output_type": "stream",
     "text": [
      "C:\\Users\\USVV724227\\AppData\\Local\\Temp\\ipykernel_20884\\1496272530.py:5: FutureWarning: Downcasting behavior in `replace` is deprecated and will be removed in a future version. To retain the old behavior, explicitly call `result.infer_objects(copy=False)`. To opt-in to the future behavior, set `pd.set_option('future.no_silent_downcasting', True)`\n",
      "  df[col] = df[col].replace('-oth-', 98)\n"
     ]
    }
   ],
   "source": [
    "clean_df = replace_oth_with_98(clean_df)"
   ]
  },
  {
   "cell_type": "markdown",
   "metadata": {},
   "source": [
    "### Mode summarization starts here"
   ]
  },
  {
   "cell_type": "code",
   "execution_count": 12,
   "metadata": {},
   "outputs": [
    {
     "name": "stdout",
     "output_type": "stream",
     "text": [
      "['main_transit_mode', 'main_transit_mode_label', 'main_mode', 'main_mode_label', 'access_mode', 'access_mode_label', 'egress_mode', 'egress_mode_label', 'reverse_mode', 'reverse_mode_label', 'reverse_mode_predicted', 'reverse_mode_predicted_label', 'other_airport_accessmode', 'other_airport_accessmode_label', 'reverse_commute_mode', 'reverse_commute_mode_label']\n"
     ]
    }
   ],
   "source": [
    "#Select columns relevant to mode\n",
    "exclude_substrings = ('general', 'alt', 'split', 'same', 'sdia', '_other')\n",
    "mode_columns = [col for col in clean_df.columns if 'mode' in col and all(sub not in col for sub in exclude_substrings)]\n",
    "print(mode_columns)"
   ]
  },
  {
   "cell_type": "code",
   "execution_count": 13,
   "metadata": {},
   "outputs": [
    {
     "data": {
      "text/plain": [
       "['main_transit_mode',\n",
       " 'main_mode',\n",
       " 'access_mode',\n",
       " 'egress_mode',\n",
       " 'reverse_mode',\n",
       " 'reverse_mode_predicted',\n",
       " 'other_airport_accessmode',\n",
       " 'reverse_commute_mode']"
      ]
     },
     "execution_count": 13,
     "metadata": {},
     "output_type": "execute_result"
    }
   ],
   "source": [
    "mode_code_columns = [col for col in mode_columns if 'label' not in col]\n",
    "mode_code_columns"
   ]
  },
  {
   "cell_type": "code",
   "execution_count": 14,
   "metadata": {},
   "outputs": [
    {
     "data": {
      "text/plain": [
       "['main_transit_mode_label',\n",
       " 'main_mode_label',\n",
       " 'access_mode_label',\n",
       " 'egress_mode_label',\n",
       " 'reverse_mode_label',\n",
       " 'reverse_mode_predicted_label',\n",
       " 'other_airport_accessmode_label',\n",
       " 'reverse_commute_mode_label']"
      ]
     },
     "execution_count": 14,
     "metadata": {},
     "output_type": "execute_result"
    }
   ],
   "source": [
    "mode_label_columns = [col for col in mode_columns if 'label' in col]\n",
    "mode_label_columns"
   ]
  },
  {
   "cell_type": "code",
   "execution_count": 15,
   "metadata": {},
   "outputs": [
    {
     "name": "stdout",
     "output_type": "stream",
     "text": [
      "                                     main_transit_mode  \\\n",
      "3                                               3283.0   \n",
      "SDA_1_FLYER                                      186.0   \n",
      "MTS_1_992                                        128.0   \n",
      "None of the above                                  NaN   \n",
      "Airport flyer shuttle                              NaN   \n",
      "...                                                ...   \n",
      "PERSONAL NON ELECTRIC BICYCLE                      NaN   \n",
      "OTHER SHARED RIDE VAN SERVICE                      NaN   \n",
      "RODE WITH OTHER TRAVELER AND PARKED                NaN   \n",
      "ELECTRIC BIKESHARE                                 NaN   \n",
      "EMPLOYEE SHUTTLE                                   NaN   \n",
      "\n",
      "                                     main_transit_mode_label  main_mode  \\\n",
      "3                                                        NaN        NaN   \n",
      "SDA_1_FLYER                                              NaN        NaN   \n",
      "MTS_1_992                                                NaN        NaN   \n",
      "None of the above                                     3283.0        NaN   \n",
      "Airport flyer shuttle                                  186.0        NaN   \n",
      "...                                                      ...        ...   \n",
      "PERSONAL NON ELECTRIC BICYCLE                            NaN        NaN   \n",
      "OTHER SHARED RIDE VAN SERVICE                            NaN        NaN   \n",
      "RODE WITH OTHER TRAVELER AND PARKED                      NaN        NaN   \n",
      "ELECTRIC BIKESHARE                                       NaN        NaN   \n",
      "EMPLOYEE SHUTTLE                                         NaN        NaN   \n",
      "\n",
      "                                     main_mode_label  access_mode  \\\n",
      "3                                                NaN          NaN   \n",
      "SDA_1_FLYER                                      NaN          NaN   \n",
      "MTS_1_992                                        NaN          NaN   \n",
      "None of the above                                NaN          NaN   \n",
      "Airport flyer shuttle                            NaN          NaN   \n",
      "...                                              ...          ...   \n",
      "PERSONAL NON ELECTRIC BICYCLE                    NaN          NaN   \n",
      "OTHER SHARED RIDE VAN SERVICE                    NaN          NaN   \n",
      "RODE WITH OTHER TRAVELER AND PARKED              NaN          NaN   \n",
      "ELECTRIC BIKESHARE                               NaN          NaN   \n",
      "EMPLOYEE SHUTTLE                                 NaN          NaN   \n",
      "\n",
      "                                     access_mode_label  egress_mode  \\\n",
      "3                                                  NaN          NaN   \n",
      "SDA_1_FLYER                                        NaN          NaN   \n",
      "MTS_1_992                                          NaN          NaN   \n",
      "None of the above                                  NaN          NaN   \n",
      "Airport flyer shuttle                              NaN          NaN   \n",
      "...                                                ...          ...   \n",
      "PERSONAL NON ELECTRIC BICYCLE                      NaN          NaN   \n",
      "OTHER SHARED RIDE VAN SERVICE                      NaN          NaN   \n",
      "RODE WITH OTHER TRAVELER AND PARKED                NaN          NaN   \n",
      "ELECTRIC BIKESHARE                                 NaN          NaN   \n",
      "EMPLOYEE SHUTTLE                                   NaN          NaN   \n",
      "\n",
      "                                     egress_mode_label  reverse_mode  \\\n",
      "3                                                  NaN           NaN   \n",
      "SDA_1_FLYER                                        NaN           NaN   \n",
      "MTS_1_992                                          NaN           NaN   \n",
      "None of the above                                  NaN           NaN   \n",
      "Airport flyer shuttle                              NaN           NaN   \n",
      "...                                                ...           ...   \n",
      "PERSONAL NON ELECTRIC BICYCLE                      NaN           NaN   \n",
      "OTHER SHARED RIDE VAN SERVICE                      NaN           NaN   \n",
      "RODE WITH OTHER TRAVELER AND PARKED                NaN           NaN   \n",
      "ELECTRIC BIKESHARE                                 NaN           NaN   \n",
      "EMPLOYEE SHUTTLE                                   NaN           NaN   \n",
      "\n",
      "                                     reverse_mode_label  \\\n",
      "3                                                   NaN   \n",
      "SDA_1_FLYER                                         NaN   \n",
      "MTS_1_992                                           NaN   \n",
      "None of the above                                   NaN   \n",
      "Airport flyer shuttle                              27.0   \n",
      "...                                                 ...   \n",
      "PERSONAL NON ELECTRIC BICYCLE                       NaN   \n",
      "OTHER SHARED RIDE VAN SERVICE                       NaN   \n",
      "RODE WITH OTHER TRAVELER AND PARKED                 NaN   \n",
      "ELECTRIC BIKESHARE                                  NaN   \n",
      "EMPLOYEE SHUTTLE                                    NaN   \n",
      "\n",
      "                                     reverse_mode_predicted  \\\n",
      "3                                                       2.0   \n",
      "SDA_1_FLYER                                             NaN   \n",
      "MTS_1_992                                               NaN   \n",
      "None of the above                                       NaN   \n",
      "Airport flyer shuttle                                   NaN   \n",
      "...                                                     ...   \n",
      "PERSONAL NON ELECTRIC BICYCLE                           NaN   \n",
      "OTHER SHARED RIDE VAN SERVICE                           NaN   \n",
      "RODE WITH OTHER TRAVELER AND PARKED                     NaN   \n",
      "ELECTRIC BIKESHARE                                      NaN   \n",
      "EMPLOYEE SHUTTLE                                        NaN   \n",
      "\n",
      "                                     reverse_mode_predicted_label  \\\n",
      "3                                                             NaN   \n",
      "SDA_1_FLYER                                                   NaN   \n",
      "MTS_1_992                                                     NaN   \n",
      "None of the above                                             NaN   \n",
      "Airport flyer shuttle                                        17.0   \n",
      "...                                                           ...   \n",
      "PERSONAL NON ELECTRIC BICYCLE                                 NaN   \n",
      "OTHER SHARED RIDE VAN SERVICE                                 NaN   \n",
      "RODE WITH OTHER TRAVELER AND PARKED                           NaN   \n",
      "ELECTRIC BIKESHARE                                            NaN   \n",
      "EMPLOYEE SHUTTLE                                              NaN   \n",
      "\n",
      "                                     other_airport_accessmode  \\\n",
      "3                                                         1.0   \n",
      "SDA_1_FLYER                                               NaN   \n",
      "MTS_1_992                                                 NaN   \n",
      "None of the above                                         NaN   \n",
      "Airport flyer shuttle                                     NaN   \n",
      "...                                                       ...   \n",
      "PERSONAL NON ELECTRIC BICYCLE                             NaN   \n",
      "OTHER SHARED RIDE VAN SERVICE                             NaN   \n",
      "RODE WITH OTHER TRAVELER AND PARKED                       NaN   \n",
      "ELECTRIC BIKESHARE                                        NaN   \n",
      "EMPLOYEE SHUTTLE                                          NaN   \n",
      "\n",
      "                                     other_airport_accessmode_label  \\\n",
      "3                                                               NaN   \n",
      "SDA_1_FLYER                                                     NaN   \n",
      "MTS_1_992                                                       NaN   \n",
      "None of the above                                               NaN   \n",
      "Airport flyer shuttle                                           NaN   \n",
      "...                                                             ...   \n",
      "PERSONAL NON ELECTRIC BICYCLE                                   1.0   \n",
      "OTHER SHARED RIDE VAN SERVICE                                   1.0   \n",
      "RODE WITH OTHER TRAVELER AND PARKED                             1.0   \n",
      "ELECTRIC BIKESHARE                                              1.0   \n",
      "EMPLOYEE SHUTTLE                                                1.0   \n",
      "\n",
      "                                     reverse_commute_mode  \\\n",
      "3                                                     NaN   \n",
      "SDA_1_FLYER                                           NaN   \n",
      "MTS_1_992                                             NaN   \n",
      "None of the above                                     NaN   \n",
      "Airport flyer shuttle                                 NaN   \n",
      "...                                                   ...   \n",
      "PERSONAL NON ELECTRIC BICYCLE                         NaN   \n",
      "OTHER SHARED RIDE VAN SERVICE                         NaN   \n",
      "RODE WITH OTHER TRAVELER AND PARKED                   NaN   \n",
      "ELECTRIC BIKESHARE                                    NaN   \n",
      "EMPLOYEE SHUTTLE                                      NaN   \n",
      "\n",
      "                                     reverse_commute_mode_label  \n",
      "3                                                           NaN  \n",
      "SDA_1_FLYER                                                 NaN  \n",
      "MTS_1_992                                                   NaN  \n",
      "None of the above                                           NaN  \n",
      "Airport flyer shuttle                                       8.0  \n",
      "...                                                         ...  \n",
      "PERSONAL NON ELECTRIC BICYCLE                               NaN  \n",
      "OTHER SHARED RIDE VAN SERVICE                               NaN  \n",
      "RODE WITH OTHER TRAVELER AND PARKED                         NaN  \n",
      "ELECTRIC BIKESHARE                                          NaN  \n",
      "EMPLOYEE SHUTTLE                                            NaN  \n",
      "\n",
      "[80 rows x 16 columns]\n"
     ]
    }
   ],
   "source": [
    "value_counts_df = pd.concat([clean_df[col].value_counts().rename(col) for col in mode_columns], axis=1)\n",
    "\n",
    "print(value_counts_df)"
   ]
  },
  {
   "cell_type": "code",
   "execution_count": 16,
   "metadata": {},
   "outputs": [
    {
     "data": {
      "text/plain": [
       "main_mode\n",
       "12.0    1121\n",
       "10.0    1074\n",
       "19.0     354\n",
       "13.0     195\n",
       "21.0      89\n",
       "20.0      82\n",
       "9.0       77\n",
       "14.0      63\n",
       "27.0      45\n",
       "11.0      40\n",
       "22.0      24\n",
       "23.0      22\n",
       "30.0      18\n",
       "18.0      17\n",
       "17.0      14\n",
       "98.0      13\n",
       "1.0       10\n",
       "24.0       8\n",
       "28.0       6\n",
       "29.0       6\n",
       "25.0       3\n",
       "16.0       1\n",
       "26.0       1\n",
       "Name: count, dtype: int64"
      ]
     },
     "execution_count": 16,
     "metadata": {},
     "output_type": "execute_result"
    }
   ],
   "source": [
    "clean_df['main_mode'].value_counts()"
   ]
  },
  {
   "cell_type": "code",
   "execution_count": 17,
   "metadata": {},
   "outputs": [
    {
     "data": {
      "text/plain": [
       "main_mode_label\n",
       "Dropped off by car by family/friend                        1121\n",
       "Uber/Lyft                                                  1074\n",
       "Rental car: Dropped off at rental agency                    354\n",
       "Drove alone and parked                                      195\n",
       "Hotel shuttle van                                            89\n",
       "Rental car: parked rental car                                82\n",
       "Taxi                                                         77\n",
       "Drove with others and parked                                 63\n",
       "Rental car: Picked up at rental agency                       45\n",
       "Car service/black car/limo/executive car                     40\n",
       "Other shared van (please specify)                            24\n",
       "Picked up by car by family/friend                            22\n",
       "Other public transit                                         18\n",
       "Employee shuttle                                             17\n",
       "Chartered tour bus                                           14\n",
       "Other                                                        13\n",
       "Walk                                                         10\n",
       "Get in a parked vehicle and drive alone                       8\n",
       "Rental car: get in a parked rental car                        6\n",
       "Rode with other traveler(s) and parked                        6\n",
       "Get in a parked vehicle and drive with others                 3\n",
       "Get in a parked vehicle and ride with other traveler(s)       1\n",
       "Name: count, dtype: int64"
      ]
     },
     "execution_count": 17,
     "metadata": {},
     "output_type": "execute_result"
    }
   ],
   "source": [
    "clean_df['main_mode_label'].value_counts()"
   ]
  },
  {
   "cell_type": "code",
   "execution_count": 18,
   "metadata": {},
   "outputs": [
    {
     "data": {
      "text/plain": [
       "main_transit_mode\n",
       "3              3283\n",
       "SDA_1_FLYER     186\n",
       "MTS_1_992       128\n",
       "Name: count, dtype: int64"
      ]
     },
     "execution_count": 18,
     "metadata": {},
     "output_type": "execute_result"
    }
   ],
   "source": [
    "clean_df['main_transit_mode'].value_counts()"
   ]
  },
  {
   "cell_type": "code",
   "execution_count": 19,
   "metadata": {},
   "outputs": [
    {
     "data": {
      "text/plain": [
       "main_transit_mode_label\n",
       "None of the above        3283\n",
       "Airport flyer shuttle     186\n",
       "MTS Route 992             128\n",
       "Name: count, dtype: int64"
      ]
     },
     "execution_count": 19,
     "metadata": {},
     "output_type": "execute_result"
    }
   ],
   "source": [
    "clean_df['main_transit_mode_label'].value_counts()"
   ]
  },
  {
   "cell_type": "code",
   "execution_count": 20,
   "metadata": {},
   "outputs": [],
   "source": [
    "clean_df['date_completed'] = pd.to_datetime(clean_df['date_completed'])"
   ]
  },
  {
   "cell_type": "code",
   "execution_count": 21,
   "metadata": {},
   "outputs": [
    {
     "data": {
      "text/plain": [
       "<DatetimeArray>\n",
       "['2024-09-30 00:00:00', '2024-10-01 00:00:00', '2024-10-02 00:00:00',\n",
       " '2024-10-03 00:00:00', '2024-10-04 00:00:00', '2024-10-05 00:00:00',\n",
       " '2024-10-06 00:00:00', '2024-10-07 00:00:00', '2024-10-08 00:00:00',\n",
       " '2024-10-09 00:00:00', '2024-10-10 00:00:00', '2024-10-11 00:00:00',\n",
       " '2024-10-12 00:00:00', '2024-10-13 00:00:00', '2024-10-14 00:00:00']\n",
       "Length: 15, dtype: datetime64[ns]"
      ]
     },
     "execution_count": 21,
     "metadata": {},
     "output_type": "execute_result"
    }
   ],
   "source": [
    "unique_dates = clean_df['date_completed'].unique()\n",
    "unique_dates"
   ]
  },
  {
   "cell_type": "code",
   "execution_count": 31,
   "metadata": {},
   "outputs": [],
   "source": [
    "import pandas as pd\n",
    "\n",
    "def get_value_counts_with_labels(df, mode_columns, label_columns):\n",
    "    # Create an empty list to store the result\n",
    "    result = []\n",
    "\n",
    "    # Iterate over each pair of code and label columns\n",
    "    for col, label_col in zip(mode_columns, label_columns):\n",
    "        # Get value counts for the code column\n",
    "        counts = df[col].value_counts().reset_index()\n",
    "        counts['share'] = counts['count']/np.sum(counts['count'])\n",
    "\n",
    "        # Get value counts for the label column\n",
    "        label_counts = df[label_col].value_counts().reset_index()\n",
    "        label_counts['share'] = label_counts['count']/np.sum(label_counts['count'])\n",
    "\n",
    "        # Rename columns to 'value' and 'count'\n",
    "        counts.columns = ['value', 'count', 'count_share']\n",
    "        label_counts.columns = ['label_value', 'label_count', 'label_share']\n",
    "\n",
    "        # Merge both DataFrames side by side (assuming they match by index)\n",
    "        merged = pd.concat([counts, label_counts], axis=1)\n",
    "\n",
    "        # Add a column for the column name (code column)\n",
    "        merged['column'] = col\n",
    "\n",
    "        # Append the result to the list\n",
    "        result.append(merged)\n",
    "\n",
    "    # Concatenate all the DataFrames in the list into a single DataFrame\n",
    "    final_df = pd.concat(result, ignore_index=True)\n",
    "\n",
    "    # Reorder columns to have 'column', 'value', 'count', 'label_value', 'label_count'\n",
    "    final_df = final_df[['column', 'value', 'label_value', 'count', 'count_share', 'label_count', 'label_share']]\n",
    "\n",
    "    return final_df\n"
   ]
  },
  {
   "cell_type": "code",
   "execution_count": 32,
   "metadata": {},
   "outputs": [
    {
     "name": "stdout",
     "output_type": "stream",
     "text": [
      "                   column        value  \\\n",
      "0       main_transit_mode            3   \n",
      "1       main_transit_mode  SDA_1_FLYER   \n",
      "2       main_transit_mode    MTS_1_992   \n",
      "3               main_mode         12.0   \n",
      "4               main_mode         10.0   \n",
      "..                    ...          ...   \n",
      "104  reverse_commute_mode         15.0   \n",
      "105  reverse_commute_mode         18.0   \n",
      "106  reverse_commute_mode         11.0   \n",
      "107  reverse_commute_mode         98.0   \n",
      "108  reverse_commute_mode          9.0   \n",
      "\n",
      "                                           label_value  count  count_share  \\\n",
      "0                                    None of the above   3283     0.912705   \n",
      "1                                Airport flyer shuttle    186     0.051710   \n",
      "2                                        MTS Route 992    128     0.035585   \n",
      "3                  Dropped off by car by family/friend   1121     0.341456   \n",
      "4                                            Uber/Lyft   1074     0.327140   \n",
      "..                                                 ...    ...          ...   \n",
      "104  Get in a parked vehicle and ride with other tr...      4     0.014815   \n",
      "105                               Other public transit      3     0.011111   \n",
      "106           Car service/black car/limo/executive car      1     0.003704   \n",
      "107                                              Other      1     0.003704   \n",
      "108                                               Taxi      1     0.003704   \n",
      "\n",
      "     label_count  label_share  \n",
      "0         3283.0     0.912705  \n",
      "1          186.0     0.051710  \n",
      "2          128.0     0.035585  \n",
      "3         1121.0     0.341560  \n",
      "4         1074.0     0.327239  \n",
      "..           ...          ...  \n",
      "104          4.0     0.014815  \n",
      "105          3.0     0.011111  \n",
      "106          1.0     0.003704  \n",
      "107          1.0     0.003704  \n",
      "108          1.0     0.003704  \n",
      "\n",
      "[109 rows x 7 columns]\n"
     ]
    }
   ],
   "source": [
    "value_counts_df = get_value_counts_with_labels(clean_df, mode_code_columns, mode_label_columns)\n",
    "print(value_counts_df)"
   ]
  },
  {
   "cell_type": "code",
   "execution_count": 33,
   "metadata": {},
   "outputs": [
    {
     "data": {
      "text/plain": [
       "0      2024-09-30\n",
       "1      2024-09-30\n",
       "2      2024-09-30\n",
       "3      2024-09-30\n",
       "4      2024-09-30\n",
       "          ...    \n",
       "3592   2024-10-14\n",
       "3593   2024-10-14\n",
       "3594   2024-10-14\n",
       "3595   2024-10-14\n",
       "3596   2024-10-14\n",
       "Name: date_completed, Length: 3597, dtype: datetime64[ns]"
      ]
     },
     "execution_count": 33,
     "metadata": {},
     "output_type": "execute_result"
    }
   ],
   "source": [
    "clean_df['date_completed']"
   ]
  },
  {
   "cell_type": "code",
   "execution_count": 34,
   "metadata": {},
   "outputs": [],
   "source": [
    "value_counts_df.to_csv(\"../data/processed/Mode_summaries.csv\", index = False)"
   ]
  },
  {
   "cell_type": "code",
   "execution_count": 35,
   "metadata": {},
   "outputs": [
    {
     "data": {
      "text/plain": [
       "access_mode\n",
       "1.0     114\n",
       "13.0     72\n",
       "12.0     38\n",
       "10.0     21\n",
       "16.0     15\n",
       "98.0      9\n",
       "11.0      8\n",
       "14.0      6\n",
       "15.0      3\n",
       "9.0       2\n",
       "Name: count, dtype: int64"
      ]
     },
     "execution_count": 35,
     "metadata": {},
     "output_type": "execute_result"
    }
   ],
   "source": [
    "clean_df['access_mode'].value_counts()"
   ]
  },
  {
   "cell_type": "code",
   "execution_count": 36,
   "metadata": {},
   "outputs": [
    {
     "data": {
      "text/plain": [
       "access_mode_label\n",
       "Walk                                        114\n",
       "Drove alone and parked                       72\n",
       "Dropped off by car by family/friend          38\n",
       "Uber/Lyft                                    21\n",
       "Other public transit                         15\n",
       "Other                                         9\n",
       "Car service/black car/limo/executive car      8\n",
       "Drove with others and parked                  6\n",
       "Rode with other traveler(s) and parked        3\n",
       "Taxi                                          2\n",
       "Name: count, dtype: int64"
      ]
     },
     "execution_count": 36,
     "metadata": {},
     "output_type": "execute_result"
    }
   ],
   "source": [
    "clean_df['access_mode_label'].value_counts()"
   ]
  },
  {
   "cell_type": "code",
   "execution_count": 37,
   "metadata": {},
   "outputs": [
    {
     "data": {
      "text/plain": [
       "reverse_mode_predicted\n",
       "12.0    533\n",
       "10.0    370\n",
       "13.0     91\n",
       "14.0     49\n",
       "11.0     21\n",
       "9.0      18\n",
       "17.0     17\n",
       "98.0     15\n",
       "16.0     11\n",
       "21.0     11\n",
       "18.0      9\n",
       "20.0      7\n",
       "15.0      6\n",
       "24.0      6\n",
       "1.0       4\n",
       "22.0      3\n",
       "23.0      3\n",
       "3.0       2\n",
       "4.0       1\n",
       "7.0       1\n",
       "2.0       1\n",
       "Name: count, dtype: int64"
      ]
     },
     "execution_count": 37,
     "metadata": {},
     "output_type": "execute_result"
    }
   ],
   "source": [
    "clean_df['reverse_mode_predicted'].value_counts()"
   ]
  },
  {
   "cell_type": "code",
   "execution_count": 55,
   "metadata": {},
   "outputs": [
    {
     "data": {
      "text/plain": [
       "reverse_mode_predicted_label\n",
       "Dropped off by car by family/friend         533\n",
       "Uber/Lyft                                   370\n",
       "Drove alone and parked                       91\n",
       "Drove with others and parked                 49\n",
       "Car service/black car/limo/executive car     21\n",
       "Taxi                                         18\n",
       "Airport flyer shuttle                        17\n",
       "Other                                        15\n",
       "MTS Route 992                                11\n",
       "Rental car: Dropped off at rental agency     11\n",
       "Other public transit                          9\n",
       "Employee shuttle                              7\n",
       "Rode with other traveler(s) and parked        6\n",
       "Other shared van (please specify)             6\n",
       "Walk                                          4\n",
       "Rental car: parked rental car                 3\n",
       "Hotel shuttle van                             3\n",
       "Bicycle: electric bikeshare                   2\n",
       "Bicycle: non-electric bikeshare               1\n",
       "Bicycle: personal non-electric bicycle        1\n",
       "Wheelchair or other mobility device           1\n",
       "Name: count, dtype: int64"
      ]
     },
     "execution_count": 55,
     "metadata": {},
     "output_type": "execute_result"
    }
   ],
   "source": [
    "clean_df['reverse_mode_predicted_label'].value_counts()"
   ]
  },
  {
   "cell_type": "code",
   "execution_count": 56,
   "metadata": {},
   "outputs": [],
   "source": [
    "#main_mode code = 16 label and code don't exist\n",
    "#access_mode, reverse_mode_predicted "
   ]
  },
  {
   "cell_type": "code",
   "execution_count": 38,
   "metadata": {},
   "outputs": [
    {
     "data": {
      "text/plain": [
       "<DatetimeArray>\n",
       "['2024-09-30 00:00:00', '2024-10-01 00:00:00', '2024-10-02 00:00:00',\n",
       " '2024-10-03 00:00:00', '2024-10-04 00:00:00', '2024-10-05 00:00:00',\n",
       " '2024-10-06 00:00:00', '2024-10-07 00:00:00', '2024-10-08 00:00:00',\n",
       " '2024-10-09 00:00:00', '2024-10-10 00:00:00', '2024-10-11 00:00:00',\n",
       " '2024-10-12 00:00:00', '2024-10-13 00:00:00', '2024-10-14 00:00:00']\n",
       "Length: 15, dtype: datetime64[ns]"
      ]
     },
     "execution_count": 38,
     "metadata": {},
     "output_type": "execute_result"
    }
   ],
   "source": [
    "unique_dates = clean_df['date_completed'].unique()\n",
    "unique_dates"
   ]
  },
  {
   "cell_type": "code",
   "execution_count": 39,
   "metadata": {},
   "outputs": [],
   "source": [
    "total_df = pd.DataFrame()\n",
    "for i in unique_dates:\n",
    "    df_by_date = clean_df[clean_df['date_completed'] == i]\n",
    "    value_counts_df = get_value_counts_with_labels(df_by_date, mode_code_columns, mode_label_columns)\n",
    "    value_counts_df['date'] = i\n",
    "    total_df = pd.concat([total_df,value_counts_df], ignore_index = True)\n"
   ]
  },
  {
   "cell_type": "code",
   "execution_count": 40,
   "metadata": {},
   "outputs": [
    {
     "data": {
      "text/html": [
       "<div>\n",
       "<style scoped>\n",
       "    .dataframe tbody tr th:only-of-type {\n",
       "        vertical-align: middle;\n",
       "    }\n",
       "\n",
       "    .dataframe tbody tr th {\n",
       "        vertical-align: top;\n",
       "    }\n",
       "\n",
       "    .dataframe thead th {\n",
       "        text-align: right;\n",
       "    }\n",
       "</style>\n",
       "<table border=\"1\" class=\"dataframe\">\n",
       "  <thead>\n",
       "    <tr style=\"text-align: right;\">\n",
       "      <th></th>\n",
       "      <th>column</th>\n",
       "      <th>value</th>\n",
       "      <th>label_value</th>\n",
       "      <th>count</th>\n",
       "      <th>count_share</th>\n",
       "      <th>label_count</th>\n",
       "      <th>label_share</th>\n",
       "      <th>date</th>\n",
       "    </tr>\n",
       "  </thead>\n",
       "  <tbody>\n",
       "    <tr>\n",
       "      <th>0</th>\n",
       "      <td>main_transit_mode</td>\n",
       "      <td>3</td>\n",
       "      <td>None of the above</td>\n",
       "      <td>117</td>\n",
       "      <td>0.975000</td>\n",
       "      <td>117.0</td>\n",
       "      <td>0.975000</td>\n",
       "      <td>2024-09-30</td>\n",
       "    </tr>\n",
       "    <tr>\n",
       "      <th>1</th>\n",
       "      <td>main_transit_mode</td>\n",
       "      <td>SDA_1_FLYER</td>\n",
       "      <td>Airport flyer shuttle</td>\n",
       "      <td>3</td>\n",
       "      <td>0.025000</td>\n",
       "      <td>3.0</td>\n",
       "      <td>0.025000</td>\n",
       "      <td>2024-09-30</td>\n",
       "    </tr>\n",
       "    <tr>\n",
       "      <th>2</th>\n",
       "      <td>main_mode</td>\n",
       "      <td>12.0</td>\n",
       "      <td>Dropped off by car by family/friend</td>\n",
       "      <td>35</td>\n",
       "      <td>0.299145</td>\n",
       "      <td>35.0</td>\n",
       "      <td>0.301724</td>\n",
       "      <td>2024-09-30</td>\n",
       "    </tr>\n",
       "    <tr>\n",
       "      <th>3</th>\n",
       "      <td>main_mode</td>\n",
       "      <td>10.0</td>\n",
       "      <td>Uber/Lyft</td>\n",
       "      <td>30</td>\n",
       "      <td>0.256410</td>\n",
       "      <td>30.0</td>\n",
       "      <td>0.258621</td>\n",
       "      <td>2024-09-30</td>\n",
       "    </tr>\n",
       "    <tr>\n",
       "      <th>4</th>\n",
       "      <td>main_mode</td>\n",
       "      <td>19.0</td>\n",
       "      <td>Rental car: Dropped off at rental agency</td>\n",
       "      <td>19</td>\n",
       "      <td>0.162393</td>\n",
       "      <td>19.0</td>\n",
       "      <td>0.163793</td>\n",
       "      <td>2024-09-30</td>\n",
       "    </tr>\n",
       "  </tbody>\n",
       "</table>\n",
       "</div>"
      ],
      "text/plain": [
       "              column        value                               label_value  \\\n",
       "0  main_transit_mode            3                         None of the above   \n",
       "1  main_transit_mode  SDA_1_FLYER                     Airport flyer shuttle   \n",
       "2          main_mode         12.0       Dropped off by car by family/friend   \n",
       "3          main_mode         10.0                                 Uber/Lyft   \n",
       "4          main_mode         19.0  Rental car: Dropped off at rental agency   \n",
       "\n",
       "   count  count_share  label_count  label_share       date  \n",
       "0    117     0.975000        117.0     0.975000 2024-09-30  \n",
       "1      3     0.025000          3.0     0.025000 2024-09-30  \n",
       "2     35     0.299145         35.0     0.301724 2024-09-30  \n",
       "3     30     0.256410         30.0     0.258621 2024-09-30  \n",
       "4     19     0.162393         19.0     0.163793 2024-09-30  "
      ]
     },
     "execution_count": 40,
     "metadata": {},
     "output_type": "execute_result"
    }
   ],
   "source": [
    "total_df.head()"
   ]
  },
  {
   "cell_type": "code",
   "execution_count": 41,
   "metadata": {},
   "outputs": [],
   "source": [
    "total_df.to_csv(\"../data/processed/Mode_summaries_by_date.csv\", index = False)"
   ]
  }
 ],
 "metadata": {
  "kernelspec": {
   "display_name": "Python 3",
   "language": "python",
   "name": "python3"
  },
  "language_info": {
   "codemirror_mode": {
    "name": "ipython",
    "version": 3
   },
   "file_extension": ".py",
   "mimetype": "text/x-python",
   "name": "python",
   "nbconvert_exporter": "python",
   "pygments_lexer": "ipython3",
   "version": "3.12.4"
  }
 },
 "nbformat": 4,
 "nbformat_minor": 2
}
